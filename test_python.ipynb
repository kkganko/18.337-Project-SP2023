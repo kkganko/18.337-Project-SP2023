{
 "cells": [
  {
   "cell_type": "markdown",
   "id": "d5e7901b",
   "metadata": {},
   "source": [
    "PFA the following papers on oscillatory bioreactors. My idea is that we could each take 1-2 models and do the following, presenting a bunch of case studies\n",
    "1. Present the model \\\n",
    "2. Perform bifurcation analysis (either analytical / numerical) \\\n",
    "3. Provide a physical explanation for the source of the oscillatory behavior e.g. predator-prey dynamics / autocatalytic processes etc \\\n",
    "4. Run a simple open-loop simulation demonstrating the oscillatory behavior \\\n",
    "5. Explore simple feedback e.g. state feedback to suppress the oscillations \\\n",
    "Papers:\\\n",
    "https://aiche.onlinelibrary.wiley.com/doi/full/10.1021/bp010048w \\\n",
    "https://www.sciencedirect.com/science/article/pii/S0098135403000462 \\\n",
    "https://pubs.acs.org/doi/full/10.1021/ie9708945 \\\n",
    "https://www.sciencedirect.com/science/article/pii/S0959152401000105 \\\n",
    "https://www.sciencedirect.com/science/article/pii/S0009250900002086 \\\n",
    "https://www.sciencedirect.com/science/article/pii/S0098135408000987?casa_token=sFeG7CX7x6YAAAAA:LLJqBZsZf8vdPg_yZ7UuwnxyXAucnc1YPe4BZ33V9JCXec7cAQ3pTHLKgshQMkq_HLxe-5xWFME0"
   ]
  },
  {
   "cell_type": "markdown",
   "id": "98cca3f4",
   "metadata": {},
   "source": [
    "# 3/2/23 #\n",
    "\n",
    "Alvarez-Ramirez2009:\n",
    "\n",
    "- rigorous necessary and sufficient conditions for the existence of sustained oscillations in a class of bioreactor systems are derived analytically\n",
    "- substrate-dependent yeilds can induce oscillations even if single reaction model given\n",
    "-"
   ]
  },
  {
   "cell_type": "code",
   "execution_count": 2,
   "id": "8c40df13",
   "metadata": {},
   "outputs": [],
   "source": [
    "import sys"
   ]
  },
  {
   "cell_type": "code",
   "execution_count": 4,
   "id": "059e3a41",
   "metadata": {},
   "outputs": [
    {
     "data": {
      "text/plain": [
       "'3.9.13 | packaged by conda-forge | (main, May 27 2022, 16:56:21) \\n[GCC 10.3.0]'"
      ]
     },
     "execution_count": 4,
     "metadata": {},
     "output_type": "execute_result"
    }
   ],
   "source": [
    "sys.version"
   ]
  },
  {
   "cell_type": "code",
   "execution_count": 6,
   "id": "5ed5cdee",
   "metadata": {},
   "outputs": [],
   "source": [
    "import os"
   ]
  },
  {
   "cell_type": "code",
   "execution_count": 7,
   "id": "bb75427e",
   "metadata": {},
   "outputs": [
    {
     "name": "stderr",
     "output_type": "stream",
     "text": [
      "sh: 1: conda: not found\n"
     ]
    },
    {
     "data": {
      "text/plain": [
       "32512"
      ]
     },
     "execution_count": 7,
     "metadata": {},
     "output_type": "execute_result"
    }
   ],
   "source": [
    "os.system(\"conda list\")"
   ]
  },
  {
   "cell_type": "code",
   "execution_count": 10,
   "id": "7f5d0092",
   "metadata": {},
   "outputs": [
    {
     "name": "stderr",
     "output_type": "stream",
     "text": [
      "sh: 1: pip: not found\n"
     ]
    },
    {
     "data": {
      "text/plain": [
       "32512"
      ]
     },
     "execution_count": 10,
     "metadata": {},
     "output_type": "execute_result"
    }
   ],
   "source": [
    "os.system(\"pip list\")"
   ]
  },
  {
   "cell_type": "code",
   "execution_count": 11,
   "id": "bb0141d0",
   "metadata": {},
   "outputs": [
    {
     "name": "stdout",
     "output_type": "stream",
     "text": [
      "/home/kkganko/oscillatory_bioreactor\n"
     ]
    },
    {
     "data": {
      "text/plain": [
       "0"
      ]
     },
     "execution_count": 11,
     "metadata": {},
     "output_type": "execute_result"
    }
   ],
   "source": [
    "os.system(\"pwd\")"
   ]
  },
  {
   "cell_type": "code",
   "execution_count": 12,
   "id": "8fa9d091",
   "metadata": {},
   "outputs": [],
   "source": [
    "import conda"
   ]
  },
  {
   "cell_type": "code",
   "execution_count": 13,
   "id": "92015c64",
   "metadata": {},
   "outputs": [
    {
     "name": "stdout",
     "output_type": "stream",
     "text": [
      "Help on package conda:\n",
      "\n",
      "NAME\n",
      "    conda - OS-agnostic, system-level binary package manager.\n",
      "\n",
      "PACKAGE CONTENTS\n",
      "    __main__\n",
      "    _vendor (package)\n",
      "    activate\n",
      "    api\n",
      "    auxlib (package)\n",
      "    base (package)\n",
      "    cli (package)\n",
      "    common (package)\n",
      "    core (package)\n",
      "    exceptions\n",
      "    exports\n",
      "    gateways (package)\n",
      "    history\n",
      "    instructions\n",
      "    lock\n",
      "    misc\n",
      "    models (package)\n",
      "    notices (package)\n",
      "    plan\n",
      "    resolve\n",
      "    testing (package)\n",
      "    utils\n",
      "\n",
      "CLASSES\n",
      "    builtins.Exception(builtins.BaseException)\n",
      "        CondaError\n",
      "            CondaExitZero\n",
      "            CondaMultiError\n",
      "    \n",
      "    class CondaError(builtins.Exception)\n",
      "     |  CondaError(message, caused_by=None, **kwargs)\n",
      "     |  \n",
      "     |  Method resolution order:\n",
      "     |      CondaError\n",
      "     |      builtins.Exception\n",
      "     |      builtins.BaseException\n",
      "     |      builtins.object\n",
      "     |  \n",
      "     |  Methods defined here:\n",
      "     |  \n",
      "     |  __init__(self, message, caused_by=None, **kwargs)\n",
      "     |      Initialize self.  See help(type(self)) for accurate signature.\n",
      "     |  \n",
      "     |  __repr__(self)\n",
      "     |      Return repr(self).\n",
      "     |  \n",
      "     |  __str__(self)\n",
      "     |      Return str(self).\n",
      "     |  \n",
      "     |  dump_map(self)\n",
      "     |  \n",
      "     |  ----------------------------------------------------------------------\n",
      "     |  Data descriptors defined here:\n",
      "     |  \n",
      "     |  __weakref__\n",
      "     |      list of weak references to the object (if defined)\n",
      "     |  \n",
      "     |  ----------------------------------------------------------------------\n",
      "     |  Data and other attributes defined here:\n",
      "     |  \n",
      "     |  reportable = False\n",
      "     |  \n",
      "     |  return_code = 1\n",
      "     |  \n",
      "     |  ----------------------------------------------------------------------\n",
      "     |  Static methods inherited from builtins.Exception:\n",
      "     |  \n",
      "     |  __new__(*args, **kwargs) from builtins.type\n",
      "     |      Create and return a new object.  See help(type) for accurate signature.\n",
      "     |  \n",
      "     |  ----------------------------------------------------------------------\n",
      "     |  Methods inherited from builtins.BaseException:\n",
      "     |  \n",
      "     |  __delattr__(self, name, /)\n",
      "     |      Implement delattr(self, name).\n",
      "     |  \n",
      "     |  __getattribute__(self, name, /)\n",
      "     |      Return getattr(self, name).\n",
      "     |  \n",
      "     |  __reduce__(...)\n",
      "     |      Helper for pickle.\n",
      "     |  \n",
      "     |  __setattr__(self, name, value, /)\n",
      "     |      Implement setattr(self, name, value).\n",
      "     |  \n",
      "     |  __setstate__(...)\n",
      "     |  \n",
      "     |  with_traceback(...)\n",
      "     |      Exception.with_traceback(tb) --\n",
      "     |      set self.__traceback__ to tb and return self.\n",
      "     |  \n",
      "     |  ----------------------------------------------------------------------\n",
      "     |  Data descriptors inherited from builtins.BaseException:\n",
      "     |  \n",
      "     |  __cause__\n",
      "     |      exception cause\n",
      "     |  \n",
      "     |  __context__\n",
      "     |      exception context\n",
      "     |  \n",
      "     |  __dict__\n",
      "     |  \n",
      "     |  __suppress_context__\n",
      "     |  \n",
      "     |  __traceback__\n",
      "     |  \n",
      "     |  args\n",
      "    \n",
      "    class CondaExitZero(CondaError)\n",
      "     |  CondaExitZero(message, caused_by=None, **kwargs)\n",
      "     |  \n",
      "     |  Method resolution order:\n",
      "     |      CondaExitZero\n",
      "     |      CondaError\n",
      "     |      builtins.Exception\n",
      "     |      builtins.BaseException\n",
      "     |      builtins.object\n",
      "     |  \n",
      "     |  Data and other attributes defined here:\n",
      "     |  \n",
      "     |  return_code = 0\n",
      "     |  \n",
      "     |  ----------------------------------------------------------------------\n",
      "     |  Methods inherited from CondaError:\n",
      "     |  \n",
      "     |  __init__(self, message, caused_by=None, **kwargs)\n",
      "     |      Initialize self.  See help(type(self)) for accurate signature.\n",
      "     |  \n",
      "     |  __repr__(self)\n",
      "     |      Return repr(self).\n",
      "     |  \n",
      "     |  __str__(self)\n",
      "     |      Return str(self).\n",
      "     |  \n",
      "     |  dump_map(self)\n",
      "     |  \n",
      "     |  ----------------------------------------------------------------------\n",
      "     |  Data descriptors inherited from CondaError:\n",
      "     |  \n",
      "     |  __weakref__\n",
      "     |      list of weak references to the object (if defined)\n",
      "     |  \n",
      "     |  ----------------------------------------------------------------------\n",
      "     |  Data and other attributes inherited from CondaError:\n",
      "     |  \n",
      "     |  reportable = False\n",
      "     |  \n",
      "     |  ----------------------------------------------------------------------\n",
      "     |  Static methods inherited from builtins.Exception:\n",
      "     |  \n",
      "     |  __new__(*args, **kwargs) from builtins.type\n",
      "     |      Create and return a new object.  See help(type) for accurate signature.\n",
      "     |  \n",
      "     |  ----------------------------------------------------------------------\n",
      "     |  Methods inherited from builtins.BaseException:\n",
      "     |  \n",
      "     |  __delattr__(self, name, /)\n",
      "     |      Implement delattr(self, name).\n",
      "     |  \n",
      "     |  __getattribute__(self, name, /)\n",
      "     |      Return getattr(self, name).\n",
      "     |  \n",
      "     |  __reduce__(...)\n",
      "     |      Helper for pickle.\n",
      "     |  \n",
      "     |  __setattr__(self, name, value, /)\n",
      "     |      Implement setattr(self, name, value).\n",
      "     |  \n",
      "     |  __setstate__(...)\n",
      "     |  \n",
      "     |  with_traceback(...)\n",
      "     |      Exception.with_traceback(tb) --\n",
      "     |      set self.__traceback__ to tb and return self.\n",
      "     |  \n",
      "     |  ----------------------------------------------------------------------\n",
      "     |  Data descriptors inherited from builtins.BaseException:\n",
      "     |  \n",
      "     |  __cause__\n",
      "     |      exception cause\n",
      "     |  \n",
      "     |  __context__\n",
      "     |      exception context\n",
      "     |  \n",
      "     |  __dict__\n",
      "     |  \n",
      "     |  __suppress_context__\n",
      "     |  \n",
      "     |  __traceback__\n",
      "     |  \n",
      "     |  args\n",
      "    \n",
      "    class CondaMultiError(CondaError)\n",
      "     |  CondaMultiError(errors)\n",
      "     |  \n",
      "     |  Method resolution order:\n",
      "     |      CondaMultiError\n",
      "     |      CondaError\n",
      "     |      builtins.Exception\n",
      "     |      builtins.BaseException\n",
      "     |      builtins.object\n",
      "     |  \n",
      "     |  Methods defined here:\n",
      "     |  \n",
      "     |  __init__(self, errors)\n",
      "     |      Initialize self.  See help(type(self)) for accurate signature.\n",
      "     |  \n",
      "     |  __repr__(self)\n",
      "     |      Return repr(self).\n",
      "     |  \n",
      "     |  __str__(self)\n",
      "     |      Return str(self).\n",
      "     |  \n",
      "     |  contains(self, exception_class)\n",
      "     |  \n",
      "     |  dump_map(self)\n",
      "     |  \n",
      "     |  ----------------------------------------------------------------------\n",
      "     |  Data descriptors inherited from CondaError:\n",
      "     |  \n",
      "     |  __weakref__\n",
      "     |      list of weak references to the object (if defined)\n",
      "     |  \n",
      "     |  ----------------------------------------------------------------------\n",
      "     |  Data and other attributes inherited from CondaError:\n",
      "     |  \n",
      "     |  reportable = False\n",
      "     |  \n",
      "     |  return_code = 1\n",
      "     |  \n",
      "     |  ----------------------------------------------------------------------\n",
      "     |  Static methods inherited from builtins.Exception:\n",
      "     |  \n",
      "     |  __new__(*args, **kwargs) from builtins.type\n",
      "     |      Create and return a new object.  See help(type) for accurate signature.\n",
      "     |  \n",
      "     |  ----------------------------------------------------------------------\n",
      "     |  Methods inherited from builtins.BaseException:\n",
      "     |  \n",
      "     |  __delattr__(self, name, /)\n",
      "     |      Implement delattr(self, name).\n",
      "     |  \n",
      "     |  __getattribute__(self, name, /)\n",
      "     |      Return getattr(self, name).\n",
      "     |  \n",
      "     |  __reduce__(...)\n",
      "     |      Helper for pickle.\n",
      "     |  \n",
      "     |  __setattr__(self, name, value, /)\n",
      "     |      Implement setattr(self, name, value).\n",
      "     |  \n",
      "     |  __setstate__(...)\n",
      "     |  \n",
      "     |  with_traceback(...)\n",
      "     |      Exception.with_traceback(tb) --\n",
      "     |      set self.__traceback__ to tb and return self.\n",
      "     |  \n",
      "     |  ----------------------------------------------------------------------\n",
      "     |  Data descriptors inherited from builtins.BaseException:\n",
      "     |  \n",
      "     |  __cause__\n",
      "     |      exception cause\n",
      "     |  \n",
      "     |  __context__\n",
      "     |      exception context\n",
      "     |  \n",
      "     |  __dict__\n",
      "     |  \n",
      "     |  __suppress_context__\n",
      "     |  \n",
      "     |  __traceback__\n",
      "     |  \n",
      "     |  args\n",
      "\n",
      "FUNCTIONS\n",
      "    conda_signal_handler(signum, frame)\n",
      "\n",
      "DATA\n",
      "    CONDA_PACKAGE_ROOT = '/home/kkganko/.julia/conda/3/lib/python3.9/site-...\n",
      "    __all__ = ('__name__', '__version__', '__author__', '__email__', '__li...\n",
      "    __copyright__ = 'Copyright (c) 2012, Anaconda, Inc.'\n",
      "    __email__ = 'conda@continuum.io'\n",
      "    __license__ = 'BSD-3-Clause'\n",
      "    __summary__ = 'OS-agnostic, system-level binary package manager.'\n",
      "    __url__ = 'https://github.com/conda/conda'\n",
      "\n",
      "VERSION\n",
      "    4.14.0\n",
      "\n",
      "AUTHOR\n",
      "    Anaconda, Inc.\n",
      "\n",
      "FILE\n",
      "    /home/kkganko/.julia/conda/3/lib/python3.9/site-packages/conda/__init__.py\n",
      "\n",
      "\n"
     ]
    }
   ],
   "source": [
    "help(conda)"
   ]
  },
  {
   "cell_type": "code",
   "execution_count": 14,
   "id": "0e556aea",
   "metadata": {},
   "outputs": [
    {
     "name": "stderr",
     "output_type": "stream",
     "text": [
      "sh: 1: conda: not found\n"
     ]
    },
    {
     "data": {
      "text/plain": [
       "32512"
      ]
     },
     "execution_count": 14,
     "metadata": {},
     "output_type": "execute_result"
    }
   ],
   "source": [
    "os.system(\"conda info\")"
   ]
  },
  {
   "cell_type": "code",
   "execution_count": null,
   "id": "081d273b",
   "metadata": {},
   "outputs": [],
   "source": []
  }
 ],
 "metadata": {
  "kernelspec": {
   "display_name": "Python 3 (ipykernel)",
   "language": "python",
   "name": "python3"
  },
  "language_info": {
   "codemirror_mode": {
    "name": "ipython",
    "version": 3
   },
   "file_extension": ".py",
   "mimetype": "text/x-python",
   "name": "python",
   "nbconvert_exporter": "python",
   "pygments_lexer": "ipython3",
   "version": "3.9.13"
  }
 },
 "nbformat": 4,
 "nbformat_minor": 5
}
