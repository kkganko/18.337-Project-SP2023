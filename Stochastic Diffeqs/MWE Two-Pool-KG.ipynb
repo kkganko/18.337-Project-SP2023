{
 "cells": [
  {
   "cell_type": "markdown",
   "id": "0b8daf6f",
   "metadata": {},
   "source": [
    "# Two-pool model from Barker *et al.* (2020)"
   ]
  },
  {
   "cell_type": "code",
   "execution_count": 1,
   "id": "5cacd748",
   "metadata": {},
   "outputs": [
    {
     "data": {
      "text/plain": [
       "\"/home/kkganko/6.337/18.337-Project-SP2023/Stochastic Diffeqs\""
      ]
     },
     "execution_count": 1,
     "metadata": {},
     "output_type": "execute_result"
    }
   ],
   "source": [
    "pwd()"
   ]
  },
  {
   "cell_type": "code",
   "execution_count": 2,
   "id": "cad22522",
   "metadata": {},
   "outputs": [
    {
     "data": {
      "text/plain": [
       "14-element Vector{String}:\n",
       " \".ipynb_checkpoints\"\n",
       " \"Birth-Death.ipynb\"\n",
       " \"BirthDeathFlux.ipynb\"\n",
       " \"Fitting Data to SDE Practice.ipynb\"\n",
       " \"Lux Tutorial.ipynb\"\n",
       " \"MWE Birth-Death-KG.ipynb\"\n",
       " \"MWE Birth-Death.ipynb\"\n",
       " \"MWE Two-Pool-KG.ipynb\"\n",
       " \"Manifest.toml\"\n",
       " \"NN_sde_combined.png\"\n",
       " \"Neural ODE Practice.ipynb\"\n",
       " \"Neural SDE Practice.ipynb\"\n",
       " \"Project.toml\"\n",
       " \"Stochastic Diffeq Practice.ipynb\""
      ]
     },
     "execution_count": 2,
     "metadata": {},
     "output_type": "execute_result"
    }
   ],
   "source": [
    "dir_contents = readdir(\".\")"
   ]
  },
  {
   "cell_type": "code",
   "execution_count": 3,
   "id": "7fa31b00",
   "metadata": {},
   "outputs": [
    {
     "data": {
      "text/plain": [
       "12-element Vector{String}:\n",
       " \".git\"\n",
       " \".gitignore\"\n",
       " \".ipynb_checkpoints\"\n",
       " \"LICENSE\"\n",
       " \"Manifest.toml\"\n",
       " \"Min working example.ipynb\"\n",
       " \"Project.toml\"\n",
       " \"README.md\"\n",
       " \"Stochastic Diffeqs\"\n",
       " \"generate-project-toml.ipynb\"\n",
       " \"test_lux-componentarrays.ipynb\"\n",
       " \"test_python.ipynb\""
      ]
     },
     "execution_count": 3,
     "metadata": {},
     "output_type": "execute_result"
    }
   ],
   "source": [
    "dir_contents_parent = readdir(\"..\")"
   ]
  },
  {
   "cell_type": "code",
   "execution_count": 4,
   "id": "8902b756",
   "metadata": {},
   "outputs": [],
   "source": [
    "# # If Project.toml and Manifest.toml exist, remove them to start a completely fresh installation of packages and dependencies.\n",
    "# # This is equivalent to uninstalling all packages in the current environment. \n",
    "# # Why? B/c if you don't start from a clean plate, and you have previous package dependency installation that were unspecified \n",
    "# # below in their version number, then dependencies may conflict.\n",
    "\n",
    "# # get contents of working directory\n",
    "# dir_contents = readdir(\".\")\n",
    "# println(dir_contents)\n",
    "# if \"Manifest.toml\" in dir_contents\n",
    "#     rm(\"Manifest.toml\")\n",
    "#     println(\"Removed Manifest.toml from $(pwd()).\")\n",
    "# end\n",
    "# if \"Project.toml\" in dir_contents\n",
    "#     rm(\"Project.toml\")\n",
    "#     println(\"Removed Project.toml from $(pwd()).\")\n",
    "# end\n",
    "\n",
    "# # Check file contents in project directory, copy over Project.toml and Manifest.toml if they exist.\n",
    "# # If they don't exist, create them with generate-project-toml.ipynb.\n",
    "# parentdir_contents = readdir(\"..\")\n",
    "# parentdir_info = stat(\"..\")\n",
    "# # copy contents from parent to working directory \n",
    "# if \"Manifest.toml\" in parentdir_contents\n",
    "#     cp(\"../Manifest.toml\", joinpath(pwd(),\"Manifest.toml\"))\n",
    "#     println(\"Manifest.toml copy from project dir to $(pwd()) successful.\")\n",
    "# else\n",
    "#     println(\"No Manifest.toml in parent directory.\")\n",
    "# end\n",
    "# if \"Project.toml\" in parentdir_contents\n",
    "#     cp(\"../Project.toml\", joinpath(pwd(),\"Project.toml\"))\n",
    "#     println(\"Project.toml copy from project dir to $(pwd()) successful.\")\n",
    "# else\n",
    "#     println(\"No Project.toml in parent directory.\")\n",
    "# end"
   ]
  },
  {
   "cell_type": "code",
   "execution_count": 5,
   "id": "3a1cd98d",
   "metadata": {
    "scrolled": true
   },
   "outputs": [
    {
     "name": "stderr",
     "output_type": "stream",
     "text": [
      "\u001b[32m\u001b[1m  Activating\u001b[22m\u001b[39m project at `~/6.337/18.337-Project-SP2023/Stochastic Diffeqs`\n"
     ]
    }
   ],
   "source": [
    "import Pkg; Pkg.activate(\".\"); Pkg.instantiate(verbose=true)"
   ]
  },
  {
   "cell_type": "code",
   "execution_count": 6,
   "id": "9ba768de",
   "metadata": {},
   "outputs": [
    {
     "name": "stdout",
     "output_type": "stream",
     "text": [
      "\u001b[32m\u001b[1m      Status\u001b[22m\u001b[39m `~/6.337/18.337-Project-SP2023/Stochastic Diffeqs/Project.toml`\n",
      " \u001b[90m [6e4b80f9] \u001b[39mBenchmarkTools v1.3.2\n",
      " \u001b[90m [b0b7db55] \u001b[39mComponentArrays v0.13.12\n",
      " \u001b[90m [8f4d0f93] \u001b[39mConda v1.8.0\n",
      " \u001b[90m [aae7a2af] \u001b[39mDiffEqFlux v1.54.0\n",
      " \u001b[90m [0c46a032] \u001b[39mDifferentialEquations v7.7.0\n",
      " \u001b[90m [31c24e10] \u001b[39mDistributions v0.25.91\n",
      " \u001b[90m [587475ba] \u001b[39mFlux v0.13.16\n",
      " \u001b[90m [f6369f11] \u001b[39mForwardDiff v0.10.35\n",
      " \u001b[90m [bd48cda9] \u001b[39mGraphRecipes v0.5.12\n",
      " \u001b[90m [86223c79] \u001b[39mGraphs v1.8.0\n",
      " \u001b[90m [7073ff75] \u001b[39mIJulia v1.24.0\n",
      " \u001b[90m [4138dd39] \u001b[39mJLD v0.13.3\n",
      " \u001b[90m [b964fa9f] \u001b[39mLaTeXStrings v1.3.0\n",
      " \u001b[90m [b2108857] \u001b[39mLux v0.4.53\n",
      " \u001b[90m [429524aa] \u001b[39mOptim v1.7.5\n",
      " \u001b[90m [7f7a1694] \u001b[39mOptimization v3.14.1\n",
      " \u001b[90m [253f991c] \u001b[39mOptimizationFlux v0.1.4\n",
      " \u001b[90m [91a5bcdd] \u001b[39mPlots v1.38.11\n",
      " \u001b[90m [438e738f] \u001b[39mPyCall v1.95.1\n",
      " \u001b[90m [d330b81b] \u001b[39mPyPlot v2.11.1\n",
      " \u001b[90m [731186ca] \u001b[39mRecursiveArrayTools v2.38.3\n",
      " \u001b[90m [1ed8b502] \u001b[39mSciMLSensitivity v7.31.0\n",
      " \u001b[90m [e88e6eb3] \u001b[39mZygote v0.6.61\n"
     ]
    }
   ],
   "source": [
    "Pkg.status()"
   ]
  },
  {
   "cell_type": "code",
   "execution_count": 7,
   "id": "c23a7dd7",
   "metadata": {},
   "outputs": [],
   "source": [
    "using DiffEqFlux\n",
    "using SciMLSensitivity\n",
    "using Optimization\n",
    "using DifferentialEquations.StochasticDiffEq\n",
    "using DifferentialEquations.DiffEqCallbacks\n",
    "using DifferentialEquations.DiffEqNoiseProcess\n",
    "using Statistics, LinearAlgebra, Random\n",
    "using Plots\n",
    "using DifferentialEquations.DiffEqBase.EnsembleAnalysis\n",
    "using BenchmarkTools\n",
    "using LaTeXStrings\n",
    "using Printf # print formatting\n",
    "using ForwardDiff\n",
    "using Graphs\n",
    "using GraphRecipes\n",
    "using RecursiveArrayTools "
   ]
  },
  {
   "cell_type": "markdown",
   "id": "e0dd0d62",
   "metadata": {},
   "source": [
    "# Define SDE model"
   ]
  },
  {
   "cell_type": "code",
   "execution_count": 8,
   "id": "48fc25d8",
   "metadata": {},
   "outputs": [
    {
     "data": {
      "text/plain": [
       "2×4 Matrix{Float64}:\n",
       " 0.0  0.0  0.0  0.0\n",
       " 0.0  0.0  0.0  0.0"
      ]
     },
     "execution_count": 8,
     "metadata": {},
     "output_type": "execute_result"
    }
   ],
   "source": [
    "# set up problem: initial conditions, params, solver hyperparams\n",
    "datasize = 201\n",
    "tspan = (0.0, 10.0)\n",
    "tsteps = range(tspan[1], tspan[2], length = datasize)\n",
    "NOISE_STRUCT = zeros(Float64,2,4)"
   ]
  },
  {
   "cell_type": "code",
   "execution_count": 9,
   "id": "89f83052",
   "metadata": {},
   "outputs": [
    {
     "name": "stdout",
     "output_type": "stream",
     "text": [
      "New implementation EM:\n"
     ]
    },
    {
     "data": {
      "text/plain": [
       "BenchmarkTools.Trial: 10000 samples with 1 evaluation.\n",
       " Range \u001b[90m(\u001b[39m\u001b[36m\u001b[1mmin\u001b[22m\u001b[39m … \u001b[35mmax\u001b[39m\u001b[90m):  \u001b[39m\u001b[36m\u001b[1m55.500 μs\u001b[22m\u001b[39m … \u001b[35m 35.663 ms\u001b[39m  \u001b[90m┊\u001b[39m GC \u001b[90m(\u001b[39mmin … max\u001b[90m): \u001b[39m0.00% … 96.24%\n",
       " Time  \u001b[90m(\u001b[39m\u001b[34m\u001b[1mmedian\u001b[22m\u001b[39m\u001b[90m):     \u001b[39m\u001b[34m\u001b[1m63.100 μs               \u001b[22m\u001b[39m\u001b[90m┊\u001b[39m GC \u001b[90m(\u001b[39mmedian\u001b[90m):    \u001b[39m0.00%\n",
       " Time  \u001b[90m(\u001b[39m\u001b[32m\u001b[1mmean\u001b[22m\u001b[39m ± \u001b[32mσ\u001b[39m\u001b[90m):   \u001b[39m\u001b[32m\u001b[1m70.456 μs\u001b[22m\u001b[39m ± \u001b[32m356.381 μs\u001b[39m  \u001b[90m┊\u001b[39m GC \u001b[90m(\u001b[39mmean ± σ\u001b[90m):  \u001b[39m4.87% ±  0.96%\n",
       "\n",
       "  \u001b[39m▃\u001b[39m▆\u001b[39m█\u001b[39m▇\u001b[39m▆\u001b[39m▆\u001b[34m▇\u001b[39m\u001b[39m▇\u001b[39m▆\u001b[39m▆\u001b[39m▅\u001b[39m▄\u001b[39m▄\u001b[32m▃\u001b[39m\u001b[39m▃\u001b[39m▃\u001b[39m▃\u001b[39m▂\u001b[39m▂\u001b[39m▂\u001b[39m▂\u001b[39m▁\u001b[39m▁\u001b[39m▁\u001b[39m \u001b[39m▁\u001b[39m \u001b[39m \u001b[39m \u001b[39m \u001b[39m \u001b[39m \u001b[39m \u001b[39m \u001b[39m \u001b[39m \u001b[39m \u001b[39m \u001b[39m \u001b[39m \u001b[39m \u001b[39m \u001b[39m \u001b[39m \u001b[39m \u001b[39m \u001b[39m \u001b[39m \u001b[39m \u001b[39m \u001b[39m \u001b[39m \u001b[39m \u001b[39m \u001b[39m \u001b[39m \u001b[39m \u001b[39m \u001b[39m \u001b[39m \u001b[39m \u001b[39m▂\n",
       "  \u001b[39m█\u001b[39m█\u001b[39m█\u001b[39m█\u001b[39m█\u001b[39m█\u001b[34m█\u001b[39m\u001b[39m█\u001b[39m█\u001b[39m█\u001b[39m█\u001b[39m█\u001b[39m█\u001b[32m█\u001b[39m\u001b[39m█\u001b[39m█\u001b[39m█\u001b[39m█\u001b[39m█\u001b[39m█\u001b[39m█\u001b[39m█\u001b[39m█\u001b[39m█\u001b[39m█\u001b[39m█\u001b[39m▇\u001b[39m█\u001b[39m█\u001b[39m▇\u001b[39m▇\u001b[39m▇\u001b[39m▆\u001b[39m▆\u001b[39m▇\u001b[39m▇\u001b[39m▇\u001b[39m▇\u001b[39m▇\u001b[39m▇\u001b[39m▇\u001b[39m▇\u001b[39m▇\u001b[39m█\u001b[39m▆\u001b[39m▆\u001b[39m▇\u001b[39m▇\u001b[39m▇\u001b[39m▇\u001b[39m▇\u001b[39m▇\u001b[39m▄\u001b[39m▄\u001b[39m▅\u001b[39m▅\u001b[39m▆\u001b[39m▅\u001b[39m▄\u001b[39m▆\u001b[39m \u001b[39m█\n",
       "  55.5 μs\u001b[90m       \u001b[39m\u001b[90mHistogram: \u001b[39m\u001b[90m\u001b[1mlog(\u001b[22m\u001b[39m\u001b[90mfrequency\u001b[39m\u001b[90m\u001b[1m)\u001b[22m\u001b[39m\u001b[90m by time\u001b[39m       127 μs \u001b[0m\u001b[1m<\u001b[22m\n",
       "\n",
       " Memory estimate\u001b[90m: \u001b[39m\u001b[33m34.97 KiB\u001b[39m, allocs estimate\u001b[90m: \u001b[39m\u001b[33m271\u001b[39m."
      ]
     },
     "metadata": {},
     "output_type": "display_data"
    },
    {
     "name": "stdout",
     "output_type": "stream",
     "text": [
      "LambaEM w/ guess on initial dt:\n"
     ]
    },
    {
     "data": {
      "text/plain": [
       "BenchmarkTools.Trial: 10000 samples with 1 evaluation.\n",
       " Range \u001b[90m(\u001b[39m\u001b[36m\u001b[1mmin\u001b[22m\u001b[39m … \u001b[35mmax\u001b[39m\u001b[90m):  \u001b[39m\u001b[36m\u001b[1m65.300 μs\u001b[22m\u001b[39m … \u001b[35m 45.838 ms\u001b[39m  \u001b[90m┊\u001b[39m GC \u001b[90m(\u001b[39mmin … max\u001b[90m): \u001b[39m0.00% … 99.79%\n",
       " Time  \u001b[90m(\u001b[39m\u001b[34m\u001b[1mmedian\u001b[22m\u001b[39m\u001b[90m):     \u001b[39m\u001b[34m\u001b[1m73.000 μs               \u001b[22m\u001b[39m\u001b[90m┊\u001b[39m GC \u001b[90m(\u001b[39mmedian\u001b[90m):    \u001b[39m0.00%\n",
       " Time  \u001b[90m(\u001b[39m\u001b[32m\u001b[1mmean\u001b[22m\u001b[39m ± \u001b[32mσ\u001b[39m\u001b[90m):   \u001b[39m\u001b[32m\u001b[1m80.997 μs\u001b[22m\u001b[39m ± \u001b[32m460.281 μs\u001b[39m  \u001b[90m┊\u001b[39m GC \u001b[90m(\u001b[39mmean ± σ\u001b[90m):  \u001b[39m5.65% ±  1.00%\n",
       "\n",
       "  \u001b[39m \u001b[39m \u001b[39m▄\u001b[39m▂\u001b[39m▁\u001b[39m▄\u001b[39m▇\u001b[39m█\u001b[34m▅\u001b[39m\u001b[39m▂\u001b[39m \u001b[39m \u001b[39m \u001b[39m \u001b[39m \u001b[32m \u001b[39m\u001b[39m \u001b[39m \u001b[39m \u001b[39m \u001b[39m \u001b[39m \u001b[39m \u001b[39m \u001b[39m \u001b[39m \u001b[39m \u001b[39m \u001b[39m \u001b[39m \u001b[39m \u001b[39m \u001b[39m \u001b[39m \u001b[39m \u001b[39m \u001b[39m \u001b[39m \u001b[39m \u001b[39m \u001b[39m \u001b[39m \u001b[39m \u001b[39m \u001b[39m \u001b[39m \u001b[39m \u001b[39m \u001b[39m \u001b[39m \u001b[39m \u001b[39m \u001b[39m \u001b[39m \u001b[39m \u001b[39m \u001b[39m \u001b[39m \u001b[39m \u001b[39m \u001b[39m \u001b[39m \n",
       "  \u001b[39m▄\u001b[39m█\u001b[39m█\u001b[39m█\u001b[39m█\u001b[39m█\u001b[39m█\u001b[39m█\u001b[34m█\u001b[39m\u001b[39m█\u001b[39m▇\u001b[39m▆\u001b[39m▄\u001b[39m▄\u001b[39m▃\u001b[32m▃\u001b[39m\u001b[39m▃\u001b[39m▃\u001b[39m▂\u001b[39m▂\u001b[39m▂\u001b[39m▂\u001b[39m▂\u001b[39m▂\u001b[39m▂\u001b[39m▂\u001b[39m▂\u001b[39m▂\u001b[39m▂\u001b[39m▂\u001b[39m▁\u001b[39m▁\u001b[39m▁\u001b[39m▁\u001b[39m▁\u001b[39m▁\u001b[39m▁\u001b[39m▁\u001b[39m▁\u001b[39m▁\u001b[39m▁\u001b[39m▁\u001b[39m▁\u001b[39m▁\u001b[39m▁\u001b[39m▁\u001b[39m▁\u001b[39m▁\u001b[39m▁\u001b[39m▁\u001b[39m▁\u001b[39m▁\u001b[39m▁\u001b[39m▁\u001b[39m▁\u001b[39m▁\u001b[39m▁\u001b[39m▁\u001b[39m▁\u001b[39m▁\u001b[39m \u001b[39m▂\n",
       "  65.3 μs\u001b[90m         Histogram: frequency by time\u001b[39m          126 μs \u001b[0m\u001b[1m<\u001b[22m\n",
       "\n",
       " Memory estimate\u001b[90m: \u001b[39m\u001b[33m19.53 KiB\u001b[39m, allocs estimate\u001b[90m: \u001b[39m\u001b[33m209\u001b[39m."
      ]
     },
     "metadata": {},
     "output_type": "display_data"
    }
   ],
   "source": [
    "# new implementation that can handle Dual numbers for autodiff, i.e., with ForwardDiff.Dual\n",
    "# some algs tested below require this functionality: ImplicitEulerHeun especially\n",
    "function trueSDEfunc!(\n",
    "        du::Vector{T1},\n",
    "        u::Vector{T2},\n",
    "        p::Vector{T3},\n",
    "        t::Float64\n",
    ") where {T1<:Union{ForwardDiff.Dual,Float64},T2<:Union{ForwardDiff.Dual,Float64},T3<:Union{ForwardDiff.Dual,Float64}}\n",
    "    \n",
    "    @inbounds begin\n",
    "        # α_1 = 0.1, α_2 = 0.2, α_3 = 0.2, α_4 = 0.5\n",
    "        R1 = exp(p[1])*u[1]\n",
    "        R2 = exp(p[2])*u[2]\n",
    "        R3 = exp(p[3])*u[1]\n",
    "        R4 = exp(p[4])*u[2]\n",
    "        du[1] = R4-R1-R3\n",
    "        du[2] = R3-R2-R4\n",
    "    end\n",
    "end\n",
    "\n",
    "# new implementation that can't handle Dual numbers for autodiff...\n",
    "function true_noise_func!(\n",
    "        du::Matrix{T1},\n",
    "        u::Vector{T2},\n",
    "        p::Vector{T3},\n",
    "        t::Float64\n",
    ") where {T1<:Union{ForwardDiff.Dual,Float64},T2<:Union{ForwardDiff.Dual,Float64},T3<:Union{ForwardDiff.Dual,Float64}}\n",
    "    \n",
    "    @inbounds begin\n",
    "        # α_1 = 0.1, α_2 = 0.2, α_3 = 0.2, α_4 = 0.5\n",
    "        R1 = exp(p[1])*u[1]\n",
    "        R2 = exp(p[2])*u[2]\n",
    "        R3 = exp(p[3])*u[1]\n",
    "        R4 = exp(p[4])*u[2]\n",
    "        du[1, 1] = -sqrt(R1)\n",
    "        du[1, 3] = -sqrt(R3)\n",
    "        du[1, 4] = sqrt(R4)\n",
    "        du[2, 2] = -sqrt(R2)\n",
    "        du[2, 3] = sqrt(R3)\n",
    "        du[2, 4] = -sqrt(R4)\n",
    "    end\n",
    "end\n",
    "\n",
    "# callbacks\n",
    "# terminate_condition(u,t,integrator) = (u[1] < 0.0) || (u[2] < 0.0)\n",
    "# affect_solver!(integrator) = terminate!(integrator, ReturnCode.Terminated) # can't use symbols for retcodes anymore, need to reference directly from ReturnCode object\n",
    "# cb_stop_solver = DiscreteCallback(terminate_condition,affect_solver!)\n",
    "# cbs = CallbackSet(cb_stop_solver)\n",
    "\n",
    "# reflecting condition, helps stabilize ensemble results\n",
    "# see https://stackoverflow.com/questions/69049991/simulating-a-reflecting-boundary-sdeproblem\n",
    "function affect!(integrator)\n",
    "    if integrator.u[2] < 0\n",
    "        integrator.u[2] = -integrator.u[2]\n",
    "    end\n",
    "end\n",
    "\n",
    "condition(u,t,integrator) = true\n",
    "cb_reflect = DiscreteCallback(condition,affect!;save_positions=(false,true))\n",
    "cbs = CallbackSet(cb_reflect)\n",
    "\n",
    "u_0 = Float64[\n",
    "    100.0,\n",
    "    0.0\n",
    "]\n",
    "p_true = log.(Float64[\n",
    "    0.1,\n",
    "    0.2,\n",
    "    0.2,\n",
    "    0.5\n",
    "])\n",
    "\n",
    "# put an integer-valued seed to reproduce behavior\n",
    "prob_truesde = SDEProblem(\n",
    "    trueSDEfunc!,\n",
    "    true_noise_func!,\n",
    "    u_0,\n",
    "    tspan,\n",
    "    p_true,\n",
    "    noise_rate_prototype = NOISE_STRUCT,\n",
    "    callback=cbs,\n",
    "    seed=1\n",
    ")\n",
    "\n",
    "println(\"New implementation EM:\")\n",
    "b1 = @benchmark sol1 = solve(prob_truesde, EM(), dt = 0.05, save_everystep=false)\n",
    "display(b1)\n",
    "\n",
    "println(\"LambaEM w/ guess on initial dt:\")\n",
    "b3 = @benchmark sol3 = solve(prob_truesde, LambaEM(), dt=0.05, save_everystep=false)\n",
    "display(b3)"
   ]
  },
  {
   "cell_type": "code",
   "execution_count": 10,
   "id": "841a85cf",
   "metadata": {},
   "outputs": [
    {
     "data": {
      "text/plain": [
       "EnsembleSolution Solution of length 100000 with uType:\n",
       "RODESolution{Float64, 2, Vector{Vector{Float64}}, Nothing, Nothing, Vector{Float64}, NoiseProcess{Float64, 2, Float64, Vector{Float64}, Nothing, Nothing, typeof(DiffEqNoiseProcess.INPLACE_WHITE_NOISE_DIST), typeof(DiffEqNoiseProcess.INPLACE_WHITE_NOISE_BRIDGE), true, ResettableStacks.ResettableStack{Tuple{Float64, Vector{Float64}, Nothing}, true}, ResettableStacks.ResettableStack{Tuple{Float64, Vector{Float64}, Nothing}, true}, RSWM{Float64}, Nothing, RandomNumbers.Xorshifts.Xoroshiro128Plus}, SDEProblem{Vector{Float64}, Tuple{Float64, Float64}, true, Vector{Float64}, Nothing, SDEFunction{true, SciMLBase.FullSpecialize, typeof(trueSDEfunc!), typeof(true_noise_func!), UniformScaling{Bool}, Nothing, Nothing, Nothing, Nothing, Nothing, Nothing, Nothing, Nothing, Nothing, Nothing, Nothing, Nothing, Nothing, Nothing, typeof(SciMLBase.DEFAULT_OBSERVED), Nothing, Nothing}, typeof(true_noise_func!), Base.Pairs{Symbol, CallbackSet{Tuple{}, Tuple{DiscreteCallback{typeof(condition), typeof(affect!), typeof(SciMLBase.INITIALIZE_DEFAULT), typeof(SciMLBase.FINALIZE_DEFAULT)}}}, Tuple{Symbol}, NamedTuple{(:callback,), Tuple{CallbackSet{Tuple{}, Tuple{DiscreteCallback{typeof(condition), typeof(affect!), typeof(SciMLBase.INITIALIZE_DEFAULT), typeof(SciMLBase.FINALIZE_DEFAULT)}}}}}}, Matrix{Float64}}, EM{true}, StochasticDiffEq.LinearInterpolationData{Vector{Vector{Float64}}, Vector{Float64}}, DiffEqBase.Stats, Nothing}"
      ]
     },
     "execution_count": 10,
     "metadata": {},
     "output_type": "execute_result"
    }
   ],
   "source": [
    "# ground truth for two-pool model using ensemble of 100000 trajectories\n",
    "prob_truesde = SDEProblem(\n",
    "    trueSDEfunc!,\n",
    "    true_noise_func!,\n",
    "    u_0,\n",
    "    tspan,\n",
    "    p_true,\n",
    "    noise_rate_prototype = NOISE_STRUCT,\n",
    "    callback=cbs\n",
    ")\n",
    "\n",
    "# do ensemble of N unique SDE solves (make sure seed != 1)\n",
    "N = 100000\n",
    "ensembleprob = EnsembleProblem(prob_truesde)\n",
    "sol = solve(ensembleprob, EM(), dt=0.05, saveat = 0.05, trajectories = N, save_everystep=false)"
   ]
  },
  {
   "cell_type": "code",
   "execution_count": 11,
   "id": "83e26d17",
   "metadata": {},
   "outputs": [
    {
     "name": "stdout",
     "output_type": "stream",
     "text": [
      "0 failed simulations, or 0.0\n"
     ]
    }
   ],
   "source": [
    "# parse to remove failed simulations\n",
    "parsed_sol = [(sol.u[i].retcode != ReturnCode.Success ? nothing : sol.u[i]) for i in 1:length(sol.u)]\n",
    "parsed_sol = parsed_sol[parsed_sol.!=nothing]\n",
    "truemean = mean(parsed_sol)[:,:]\n",
    "truevar = var(parsed_sol)[:, :];\n",
    "\n",
    "# number/proportion of failed simulations\n",
    "println(\"$(N-length(parsed_sol)) failed simulations, or $(1-length(parsed_sol)/N)\")"
   ]
  },
  {
   "cell_type": "code",
   "execution_count": 12,
   "id": "7a90f3f0",
   "metadata": {},
   "outputs": [
    {
     "data": {
      "image/svg+xml": [
       "<?xml version=\"1.0\" encoding=\"utf-8\"?>\n",
       "<svg xmlns=\"http://www.w3.org/2000/svg\" xmlns:xlink=\"http://www.w3.org/1999/xlink\" width=\"900\" height=\"450\" viewBox=\"0 0 3600 1800\">\n",
       "<defs>\n",
       "  <clipPath id=\"clip060\">\n",
       "    <rect x=\"0\" y=\"0\" width=\"3600\" height=\"1800\"/>\n",
       "  </clipPath>\n",
       "</defs>\n",
       "<path clip-path=\"url(#clip060)\" d=\"M0 1800 L3600 1800 L3600 0 L0 0  Z\" fill=\"#ffffff\" fill-rule=\"evenodd\" fill-opacity=\"1\"/>\n",
       "<defs>\n",
       "  <clipPath id=\"clip061\">\n",
       "    <rect x=\"720\" y=\"0\" width=\"2521\" height=\"1800\"/>\n",
       "  </clipPath>\n",
       "</defs>\n",
       "<path clip-path=\"url(#clip060)\" d=\"M181.121 1693.09 L1766.97 1693.09 L1766.97 108.352 L181.121 108.352  Z\" fill=\"#ffffff\" fill-rule=\"evenodd\" fill-opacity=\"1\"/>\n",
       "<defs>\n",
       "  <clipPath id=\"clip062\">\n",
       "    <rect x=\"181\" y=\"108\" width=\"1587\" height=\"1586\"/>\n",
       "  </clipPath>\n",
       "</defs>\n",
       "<polyline clip-path=\"url(#clip062)\" style=\"stroke:#000000; stroke-linecap:round; stroke-linejoin:round; stroke-width:2; stroke-opacity:0.1; fill:none\" points=\"226.004,1693.09 226.004,108.352 \"/>\n",
       "<polyline clip-path=\"url(#clip062)\" style=\"stroke:#000000; stroke-linecap:round; stroke-linejoin:round; stroke-width:2; stroke-opacity:0.1; fill:none\" points=\"600.024,1693.09 600.024,108.352 \"/>\n",
       "<polyline clip-path=\"url(#clip062)\" style=\"stroke:#000000; stroke-linecap:round; stroke-linejoin:round; stroke-width:2; stroke-opacity:0.1; fill:none\" points=\"974.045,1693.09 974.045,108.352 \"/>\n",
       "<polyline clip-path=\"url(#clip062)\" style=\"stroke:#000000; stroke-linecap:round; stroke-linejoin:round; stroke-width:2; stroke-opacity:0.1; fill:none\" points=\"1348.07,1693.09 1348.07,108.352 \"/>\n",
       "<polyline clip-path=\"url(#clip062)\" style=\"stroke:#000000; stroke-linecap:round; stroke-linejoin:round; stroke-width:2; stroke-opacity:0.1; fill:none\" points=\"1722.09,1693.09 1722.09,108.352 \"/>\n",
       "<polyline clip-path=\"url(#clip060)\" style=\"stroke:#000000; stroke-linecap:round; stroke-linejoin:round; stroke-width:4; stroke-opacity:1; fill:none\" points=\"181.121,1693.09 1766.97,1693.09 \"/>\n",
       "<polyline clip-path=\"url(#clip060)\" style=\"stroke:#000000; stroke-linecap:round; stroke-linejoin:round; stroke-width:4; stroke-opacity:1; fill:none\" points=\"226.004,1693.09 226.004,1674.19 \"/>\n",
       "<polyline clip-path=\"url(#clip060)\" style=\"stroke:#000000; stroke-linecap:round; stroke-linejoin:round; stroke-width:4; stroke-opacity:1; fill:none\" points=\"600.024,1693.09 600.024,1674.19 \"/>\n",
       "<polyline clip-path=\"url(#clip060)\" style=\"stroke:#000000; stroke-linecap:round; stroke-linejoin:round; stroke-width:4; stroke-opacity:1; fill:none\" points=\"974.045,1693.09 974.045,1674.19 \"/>\n",
       "<polyline clip-path=\"url(#clip060)\" style=\"stroke:#000000; stroke-linecap:round; stroke-linejoin:round; stroke-width:4; stroke-opacity:1; fill:none\" points=\"1348.07,1693.09 1348.07,1674.19 \"/>\n",
       "<polyline clip-path=\"url(#clip060)\" style=\"stroke:#000000; stroke-linecap:round; stroke-linejoin:round; stroke-width:4; stroke-opacity:1; fill:none\" points=\"1722.09,1693.09 1722.09,1674.19 \"/>\n",
       "<path clip-path=\"url(#clip060)\" d=\"M203.388 1733.61 Q199.777 1733.61 197.948 1737.17 Q196.143 1740.71 196.143 1747.84 Q196.143 1754.95 197.948 1758.51 Q199.777 1762.06 203.388 1762.06 Q207.022 1762.06 208.828 1758.51 Q210.657 1754.95 210.657 1747.84 Q210.657 1740.71 208.828 1737.17 Q207.022 1733.61 203.388 1733.61 M203.388 1729.9 Q209.198 1729.9 212.254 1734.51 Q215.333 1739.09 215.333 1747.84 Q215.333 1756.57 212.254 1761.18 Q209.198 1765.76 203.388 1765.76 Q197.578 1765.76 194.499 1761.18 Q191.444 1756.57 191.444 1747.84 Q191.444 1739.09 194.499 1734.51 Q197.578 1729.9 203.388 1729.9 Z\" fill=\"#000000\" fill-rule=\"nonzero\" fill-opacity=\"1\" /><path clip-path=\"url(#clip060)\" d=\"M223.55 1759.21 L228.434 1759.21 L228.434 1765.09 L223.55 1765.09 L223.55 1759.21 Z\" fill=\"#000000\" fill-rule=\"nonzero\" fill-opacity=\"1\" /><path clip-path=\"url(#clip060)\" d=\"M248.619 1733.61 Q245.008 1733.61 243.18 1737.17 Q241.374 1740.71 241.374 1747.84 Q241.374 1754.95 243.18 1758.51 Q245.008 1762.06 248.619 1762.06 Q252.254 1762.06 254.059 1758.51 Q255.888 1754.95 255.888 1747.84 Q255.888 1740.71 254.059 1737.17 Q252.254 1733.61 248.619 1733.61 M248.619 1729.9 Q254.43 1729.9 257.485 1734.51 Q260.564 1739.09 260.564 1747.84 Q260.564 1756.57 257.485 1761.18 Q254.43 1765.76 248.619 1765.76 Q242.809 1765.76 239.731 1761.18 Q236.675 1756.57 236.675 1747.84 Q236.675 1739.09 239.731 1734.51 Q242.809 1729.9 248.619 1729.9 Z\" fill=\"#000000\" fill-rule=\"nonzero\" fill-opacity=\"1\" /><path clip-path=\"url(#clip060)\" d=\"M571.761 1761.15 L588.08 1761.15 L588.08 1765.09 L566.136 1765.09 L566.136 1761.15 Q568.798 1758.4 573.381 1753.77 Q577.988 1749.12 579.168 1747.77 Q581.413 1745.25 582.293 1743.51 Q583.196 1741.75 583.196 1740.06 Q583.196 1737.31 581.251 1735.57 Q579.33 1733.84 576.228 1733.84 Q574.029 1733.84 571.576 1734.6 Q569.145 1735.37 566.367 1736.92 L566.367 1732.19 Q569.191 1731.06 571.645 1730.48 Q574.099 1729.9 576.136 1729.9 Q581.506 1729.9 584.7 1732.59 Q587.895 1735.27 587.895 1739.76 Q587.895 1741.89 587.085 1743.81 Q586.298 1745.71 584.191 1748.31 Q583.612 1748.98 580.511 1752.19 Q577.409 1755.39 571.761 1761.15 Z\" fill=\"#000000\" fill-rule=\"nonzero\" fill-opacity=\"1\" /><path clip-path=\"url(#clip060)\" d=\"M597.895 1759.21 L602.779 1759.21 L602.779 1765.09 L597.895 1765.09 L597.895 1759.21 Z\" fill=\"#000000\" fill-rule=\"nonzero\" fill-opacity=\"1\" /><path clip-path=\"url(#clip060)\" d=\"M613.01 1730.53 L631.367 1730.53 L631.367 1734.46 L617.293 1734.46 L617.293 1742.94 Q618.311 1742.59 619.33 1742.43 Q620.348 1742.24 621.367 1742.24 Q627.154 1742.24 630.534 1745.41 Q633.913 1748.58 633.913 1754 Q633.913 1759.58 630.441 1762.68 Q626.969 1765.76 620.649 1765.76 Q618.473 1765.76 616.205 1765.39 Q613.96 1765.02 611.552 1764.28 L611.552 1759.58 Q613.635 1760.71 615.858 1761.27 Q618.08 1761.82 620.557 1761.82 Q624.561 1761.82 626.899 1759.72 Q629.237 1757.61 629.237 1754 Q629.237 1750.39 626.899 1748.28 Q624.561 1746.18 620.557 1746.18 Q618.682 1746.18 616.807 1746.59 Q614.955 1747.01 613.01 1747.89 L613.01 1730.53 Z\" fill=\"#000000\" fill-rule=\"nonzero\" fill-opacity=\"1\" /><path clip-path=\"url(#clip060)\" d=\"M941.21 1730.53 L959.566 1730.53 L959.566 1734.46 L945.492 1734.46 L945.492 1742.94 Q946.51 1742.59 947.529 1742.43 Q948.548 1742.24 949.566 1742.24 Q955.353 1742.24 958.733 1745.41 Q962.112 1748.58 962.112 1754 Q962.112 1759.58 958.64 1762.68 Q955.168 1765.76 948.848 1765.76 Q946.673 1765.76 944.404 1765.39 Q942.159 1765.02 939.751 1764.28 L939.751 1759.58 Q941.835 1760.71 944.057 1761.27 Q946.279 1761.82 948.756 1761.82 Q952.76 1761.82 955.098 1759.72 Q957.436 1757.61 957.436 1754 Q957.436 1750.39 955.098 1748.28 Q952.76 1746.18 948.756 1746.18 Q946.881 1746.18 945.006 1746.59 Q943.154 1747.01 941.21 1747.89 L941.21 1730.53 Z\" fill=\"#000000\" fill-rule=\"nonzero\" fill-opacity=\"1\" /><path clip-path=\"url(#clip060)\" d=\"M971.325 1759.21 L976.209 1759.21 L976.209 1765.09 L971.325 1765.09 L971.325 1759.21 Z\" fill=\"#000000\" fill-rule=\"nonzero\" fill-opacity=\"1\" /><path clip-path=\"url(#clip060)\" d=\"M996.394 1733.61 Q992.783 1733.61 990.955 1737.17 Q989.149 1740.71 989.149 1747.84 Q989.149 1754.95 990.955 1758.51 Q992.783 1762.06 996.394 1762.06 Q1000.03 1762.06 1001.83 1758.51 Q1003.66 1754.95 1003.66 1747.84 Q1003.66 1740.71 1001.83 1737.17 Q1000.03 1733.61 996.394 1733.61 M996.394 1729.9 Q1002.2 1729.9 1005.26 1734.51 Q1008.34 1739.09 1008.34 1747.84 Q1008.34 1756.57 1005.26 1761.18 Q1002.2 1765.76 996.394 1765.76 Q990.584 1765.76 987.506 1761.18 Q984.45 1756.57 984.45 1747.84 Q984.45 1739.09 987.506 1734.51 Q990.584 1729.9 996.394 1729.9 Z\" fill=\"#000000\" fill-rule=\"nonzero\" fill-opacity=\"1\" /><path clip-path=\"url(#clip060)\" d=\"M1314.39 1730.53 L1336.61 1730.53 L1336.61 1732.52 L1324.06 1765.09 L1319.18 1765.09 L1330.98 1734.46 L1314.39 1734.46 L1314.39 1730.53 Z\" fill=\"#000000\" fill-rule=\"nonzero\" fill-opacity=\"1\" /><path clip-path=\"url(#clip060)\" d=\"M1345.73 1759.21 L1350.61 1759.21 L1350.61 1765.09 L1345.73 1765.09 L1345.73 1759.21 Z\" fill=\"#000000\" fill-rule=\"nonzero\" fill-opacity=\"1\" /><path clip-path=\"url(#clip060)\" d=\"M1360.84 1730.53 L1379.2 1730.53 L1379.2 1734.46 L1365.13 1734.46 L1365.13 1742.94 Q1366.14 1742.59 1367.16 1742.43 Q1368.18 1742.24 1369.2 1742.24 Q1374.99 1742.24 1378.37 1745.41 Q1381.75 1748.58 1381.75 1754 Q1381.75 1759.58 1378.27 1762.68 Q1374.8 1765.76 1368.48 1765.76 Q1366.31 1765.76 1364.04 1765.39 Q1361.79 1765.02 1359.39 1764.28 L1359.39 1759.58 Q1361.47 1760.71 1363.69 1761.27 Q1365.91 1761.82 1368.39 1761.82 Q1372.39 1761.82 1374.73 1759.72 Q1377.07 1757.61 1377.07 1754 Q1377.07 1750.39 1374.73 1748.28 Q1372.39 1746.18 1368.39 1746.18 Q1366.51 1746.18 1364.64 1746.59 Q1362.79 1747.01 1360.84 1747.89 L1360.84 1730.53 Z\" fill=\"#000000\" fill-rule=\"nonzero\" fill-opacity=\"1\" /><path clip-path=\"url(#clip060)\" d=\"M1674.16 1761.15 L1681.8 1761.15 L1681.8 1734.79 L1673.49 1736.45 L1673.49 1732.19 L1681.75 1730.53 L1686.43 1730.53 L1686.43 1761.15 L1694.07 1761.15 L1694.07 1765.09 L1674.16 1765.09 L1674.16 1761.15 Z\" fill=\"#000000\" fill-rule=\"nonzero\" fill-opacity=\"1\" /><path clip-path=\"url(#clip060)\" d=\"M1713.51 1733.61 Q1709.9 1733.61 1708.07 1737.17 Q1706.26 1740.71 1706.26 1747.84 Q1706.26 1754.95 1708.07 1758.51 Q1709.9 1762.06 1713.51 1762.06 Q1717.14 1762.06 1718.95 1758.51 Q1720.78 1754.95 1720.78 1747.84 Q1720.78 1740.71 1718.95 1737.17 Q1717.14 1733.61 1713.51 1733.61 M1713.51 1729.9 Q1719.32 1729.9 1722.38 1734.51 Q1725.45 1739.09 1725.45 1747.84 Q1725.45 1756.57 1722.38 1761.18 Q1719.32 1765.76 1713.51 1765.76 Q1707.7 1765.76 1704.62 1761.18 Q1701.57 1756.57 1701.57 1747.84 Q1701.57 1739.09 1704.62 1734.51 Q1707.7 1729.9 1713.51 1729.9 Z\" fill=\"#000000\" fill-rule=\"nonzero\" fill-opacity=\"1\" /><path clip-path=\"url(#clip060)\" d=\"M1733.67 1759.21 L1738.56 1759.21 L1738.56 1765.09 L1733.67 1765.09 L1733.67 1759.21 Z\" fill=\"#000000\" fill-rule=\"nonzero\" fill-opacity=\"1\" /><path clip-path=\"url(#clip060)\" d=\"M1758.74 1733.61 Q1755.13 1733.61 1753.3 1737.17 Q1751.5 1740.71 1751.5 1747.84 Q1751.5 1754.95 1753.3 1758.51 Q1755.13 1762.06 1758.74 1762.06 Q1762.38 1762.06 1764.18 1758.51 Q1766.01 1754.95 1766.01 1747.84 Q1766.01 1740.71 1764.18 1737.17 Q1762.38 1733.61 1758.74 1733.61 M1758.74 1729.9 Q1764.55 1729.9 1767.61 1734.51 Q1770.69 1739.09 1770.69 1747.84 Q1770.69 1756.57 1767.61 1761.18 Q1764.55 1765.76 1758.74 1765.76 Q1752.93 1765.76 1749.85 1761.18 Q1746.8 1756.57 1746.8 1747.84 Q1746.8 1739.09 1749.85 1734.51 Q1752.93 1729.9 1758.74 1729.9 Z\" fill=\"#000000\" fill-rule=\"nonzero\" fill-opacity=\"1\" /><polyline clip-path=\"url(#clip062)\" style=\"stroke:#000000; stroke-linecap:round; stroke-linejoin:round; stroke-width:2; stroke-opacity:0.1; fill:none\" points=\"181.121,1648.24 1766.97,1648.24 \"/>\n",
       "<polyline clip-path=\"url(#clip062)\" style=\"stroke:#000000; stroke-linecap:round; stroke-linejoin:round; stroke-width:2; stroke-opacity:0.1; fill:none\" points=\"181.121,1274.48 1766.97,1274.48 \"/>\n",
       "<polyline clip-path=\"url(#clip062)\" style=\"stroke:#000000; stroke-linecap:round; stroke-linejoin:round; stroke-width:2; stroke-opacity:0.1; fill:none\" points=\"181.121,900.72 1766.97,900.72 \"/>\n",
       "<polyline clip-path=\"url(#clip062)\" style=\"stroke:#000000; stroke-linecap:round; stroke-linejoin:round; stroke-width:2; stroke-opacity:0.1; fill:none\" points=\"181.121,526.962 1766.97,526.962 \"/>\n",
       "<polyline clip-path=\"url(#clip062)\" style=\"stroke:#000000; stroke-linecap:round; stroke-linejoin:round; stroke-width:2; stroke-opacity:0.1; fill:none\" points=\"181.121,153.203 1766.97,153.203 \"/>\n",
       "<polyline clip-path=\"url(#clip060)\" style=\"stroke:#000000; stroke-linecap:round; stroke-linejoin:round; stroke-width:4; stroke-opacity:1; fill:none\" points=\"181.121,1693.09 181.121,108.352 \"/>\n",
       "<polyline clip-path=\"url(#clip060)\" style=\"stroke:#000000; stroke-linecap:round; stroke-linejoin:round; stroke-width:4; stroke-opacity:1; fill:none\" points=\"181.121,1648.24 200.019,1648.24 \"/>\n",
       "<polyline clip-path=\"url(#clip060)\" style=\"stroke:#000000; stroke-linecap:round; stroke-linejoin:round; stroke-width:4; stroke-opacity:1; fill:none\" points=\"181.121,1274.48 200.019,1274.48 \"/>\n",
       "<polyline clip-path=\"url(#clip060)\" style=\"stroke:#000000; stroke-linecap:round; stroke-linejoin:round; stroke-width:4; stroke-opacity:1; fill:none\" points=\"181.121,900.72 200.019,900.72 \"/>\n",
       "<polyline clip-path=\"url(#clip060)\" style=\"stroke:#000000; stroke-linecap:round; stroke-linejoin:round; stroke-width:4; stroke-opacity:1; fill:none\" points=\"181.121,526.962 200.019,526.962 \"/>\n",
       "<polyline clip-path=\"url(#clip060)\" style=\"stroke:#000000; stroke-linecap:round; stroke-linejoin:round; stroke-width:4; stroke-opacity:1; fill:none\" points=\"181.121,153.203 200.019,153.203 \"/>\n",
       "<path clip-path=\"url(#clip060)\" d=\"M115.177 1634.04 Q111.566 1634.04 109.737 1637.6 Q107.932 1641.14 107.932 1648.27 Q107.932 1655.38 109.737 1658.94 Q111.566 1662.48 115.177 1662.48 Q118.811 1662.48 120.617 1658.94 Q122.445 1655.38 122.445 1648.27 Q122.445 1641.14 120.617 1637.6 Q118.811 1634.04 115.177 1634.04 M115.177 1630.33 Q120.987 1630.33 124.043 1634.94 Q127.121 1639.52 127.121 1648.27 Q127.121 1657 124.043 1661.6 Q120.987 1666.19 115.177 1666.19 Q109.367 1666.19 106.288 1661.6 Q103.233 1657 103.233 1648.27 Q103.233 1639.52 106.288 1634.94 Q109.367 1630.33 115.177 1630.33 Z\" fill=\"#000000\" fill-rule=\"nonzero\" fill-opacity=\"1\" /><path clip-path=\"url(#clip060)\" d=\"M80.0382 1287.82 L96.3576 1287.82 L96.3576 1291.76 L74.4133 1291.76 L74.4133 1287.82 Q77.0753 1285.07 81.6586 1280.44 Q86.2651 1275.79 87.4456 1274.44 Q89.691 1271.92 90.5706 1270.18 Q91.4734 1268.43 91.4734 1266.74 Q91.4734 1263.98 89.5289 1262.24 Q87.6076 1260.51 84.5058 1260.51 Q82.3067 1260.51 79.8531 1261.27 Q77.4225 1262.04 74.6447 1263.59 L74.6447 1258.87 Q77.4688 1257.73 79.9225 1257.15 Q82.3762 1256.57 84.4132 1256.57 Q89.7836 1256.57 92.978 1259.26 Q96.1724 1261.94 96.1724 1266.43 Q96.1724 1268.56 95.3622 1270.49 Q94.5752 1272.38 92.4687 1274.98 Q91.89 1275.65 88.7882 1278.86 Q85.6864 1282.06 80.0382 1287.82 Z\" fill=\"#000000\" fill-rule=\"nonzero\" fill-opacity=\"1\" /><path clip-path=\"url(#clip060)\" d=\"M106.219 1257.2 L124.575 1257.2 L124.575 1261.13 L110.501 1261.13 L110.501 1269.61 Q111.52 1269.26 112.538 1269.1 Q113.557 1268.91 114.575 1268.91 Q120.362 1268.91 123.742 1272.08 Q127.121 1275.25 127.121 1280.67 Q127.121 1286.25 123.649 1289.35 Q120.177 1292.43 113.857 1292.43 Q111.682 1292.43 109.413 1292.06 Q107.168 1291.69 104.76 1290.95 L104.76 1286.25 Q106.844 1287.38 109.066 1287.94 Q111.288 1288.49 113.765 1288.49 Q117.77 1288.49 120.107 1286.39 Q122.445 1284.28 122.445 1280.67 Q122.445 1277.06 120.107 1274.95 Q117.77 1272.85 113.765 1272.85 Q111.89 1272.85 110.015 1273.26 Q108.163 1273.68 106.219 1274.56 L106.219 1257.2 Z\" fill=\"#000000\" fill-rule=\"nonzero\" fill-opacity=\"1\" /><path clip-path=\"url(#clip060)\" d=\"M75.0614 883.44 L93.4178 883.44 L93.4178 887.375 L79.3438 887.375 L79.3438 895.847 Q80.3623 895.5 81.3808 895.338 Q82.3993 895.153 83.4178 895.153 Q89.2049 895.153 92.5845 898.324 Q95.9641 901.495 95.9641 906.912 Q95.9641 912.491 92.4919 915.593 Q89.0197 918.671 82.7003 918.671 Q80.5243 918.671 78.2558 918.301 Q76.0105 917.931 73.6031 917.19 L73.6031 912.491 Q75.6864 913.625 77.9086 914.181 Q80.1308 914.736 82.6077 914.736 Q86.6123 914.736 88.9502 912.63 Q91.2882 910.523 91.2882 906.912 Q91.2882 903.301 88.9502 901.195 Q86.6123 899.088 82.6077 899.088 Q80.7327 899.088 78.8577 899.505 Q77.0058 899.921 75.0614 900.801 L75.0614 883.44 Z\" fill=\"#000000\" fill-rule=\"nonzero\" fill-opacity=\"1\" /><path clip-path=\"url(#clip060)\" d=\"M115.177 886.519 Q111.566 886.519 109.737 890.083 Q107.932 893.625 107.932 900.755 Q107.932 907.861 109.737 911.426 Q111.566 914.968 115.177 914.968 Q118.811 914.968 120.617 911.426 Q122.445 907.861 122.445 900.755 Q122.445 893.625 120.617 890.083 Q118.811 886.519 115.177 886.519 M115.177 882.815 Q120.987 882.815 124.043 887.421 Q127.121 892.005 127.121 900.755 Q127.121 909.482 124.043 914.088 Q120.987 918.671 115.177 918.671 Q109.367 918.671 106.288 914.088 Q103.233 909.482 103.233 900.755 Q103.233 892.005 106.288 887.421 Q109.367 882.815 115.177 882.815 Z\" fill=\"#000000\" fill-rule=\"nonzero\" fill-opacity=\"1\" /><path clip-path=\"url(#clip060)\" d=\"M74.8299 509.682 L97.052 509.682 L97.052 511.672 L84.5058 544.242 L79.6216 544.242 L91.4271 513.617 L74.8299 513.617 L74.8299 509.682 Z\" fill=\"#000000\" fill-rule=\"nonzero\" fill-opacity=\"1\" /><path clip-path=\"url(#clip060)\" d=\"M106.219 509.682 L124.575 509.682 L124.575 513.617 L110.501 513.617 L110.501 522.089 Q111.52 521.742 112.538 521.58 Q113.557 521.394 114.575 521.394 Q120.362 521.394 123.742 524.566 Q127.121 527.737 127.121 533.154 Q127.121 538.732 123.649 541.834 Q120.177 544.913 113.857 544.913 Q111.682 544.913 109.413 544.542 Q107.168 544.172 104.76 543.431 L104.76 538.732 Q106.844 539.867 109.066 540.422 Q111.288 540.978 113.765 540.978 Q117.77 540.978 120.107 538.871 Q122.445 536.765 122.445 533.154 Q122.445 529.543 120.107 527.436 Q117.77 525.33 113.765 525.33 Q111.89 525.33 110.015 525.746 Q108.163 526.163 106.219 527.043 L106.219 509.682 Z\" fill=\"#000000\" fill-rule=\"nonzero\" fill-opacity=\"1\" /><path clip-path=\"url(#clip060)\" d=\"M45.6634 166.548 L53.3023 166.548 L53.3023 140.182 L44.9921 141.849 L44.9921 137.59 L53.256 135.923 L57.9319 135.923 L57.9319 166.548 L65.5707 166.548 L65.5707 170.483 L45.6634 170.483 L45.6634 166.548 Z\" fill=\"#000000\" fill-rule=\"nonzero\" fill-opacity=\"1\" /><path clip-path=\"url(#clip060)\" d=\"M85.0151 139.002 Q81.404 139.002 79.5753 142.567 Q77.7697 146.108 77.7697 153.238 Q77.7697 160.344 79.5753 163.909 Q81.404 167.451 85.0151 167.451 Q88.6493 167.451 90.4548 163.909 Q92.2835 160.344 92.2835 153.238 Q92.2835 146.108 90.4548 142.567 Q88.6493 139.002 85.0151 139.002 M85.0151 135.298 Q90.8252 135.298 93.8808 139.905 Q96.9594 144.488 96.9594 153.238 Q96.9594 161.965 93.8808 166.571 Q90.8252 171.154 85.0151 171.154 Q79.2049 171.154 76.1262 166.571 Q73.0707 161.965 73.0707 153.238 Q73.0707 144.488 76.1262 139.905 Q79.2049 135.298 85.0151 135.298 Z\" fill=\"#000000\" fill-rule=\"nonzero\" fill-opacity=\"1\" /><path clip-path=\"url(#clip060)\" d=\"M115.177 139.002 Q111.566 139.002 109.737 142.567 Q107.932 146.108 107.932 153.238 Q107.932 160.344 109.737 163.909 Q111.566 167.451 115.177 167.451 Q118.811 167.451 120.617 163.909 Q122.445 160.344 122.445 153.238 Q122.445 146.108 120.617 142.567 Q118.811 139.002 115.177 139.002 M115.177 135.298 Q120.987 135.298 124.043 139.905 Q127.121 144.488 127.121 153.238 Q127.121 161.965 124.043 166.571 Q120.987 171.154 115.177 171.154 Q109.367 171.154 106.288 166.571 Q103.233 161.965 103.233 153.238 Q103.233 144.488 106.288 139.905 Q109.367 135.298 115.177 135.298 Z\" fill=\"#000000\" fill-rule=\"nonzero\" fill-opacity=\"1\" /><path clip-path=\"url(#clip060)\" d=\"M679.018 12.096 L691.211 12.096 L706.645 53.2532 L722.16 12.096 L734.353 12.096 L734.353 72.576 L726.373 72.576 L726.373 19.4686 L710.777 60.9499 L702.553 60.9499 L686.957 19.4686 L686.957 72.576 L679.018 72.576 L679.018 12.096 Z\" fill=\"#000000\" fill-rule=\"nonzero\" fill-opacity=\"1\" /><path clip-path=\"url(#clip060)\" d=\"M789.081 48.0275 L789.081 51.6733 L754.81 51.6733 Q755.296 59.3701 759.428 63.421 Q763.601 67.4314 771.014 67.4314 Q775.308 67.4314 779.318 66.3781 Q783.369 65.3249 787.339 63.2184 L787.339 70.267 Q783.328 71.9684 779.116 72.8596 Q774.903 73.7508 770.568 73.7508 Q759.712 73.7508 753.352 67.4314 Q747.032 61.1119 747.032 50.3365 Q747.032 39.1965 753.028 32.6746 Q759.064 26.1121 769.272 26.1121 Q778.427 26.1121 783.734 32.0264 Q789.081 37.9003 789.081 48.0275 M781.627 45.84 Q781.546 39.7232 778.184 36.0774 Q774.862 32.4315 769.353 32.4315 Q763.114 32.4315 759.347 35.9558 Q755.62 39.4801 755.053 45.8805 L781.627 45.84 Z\" fill=\"#000000\" fill-rule=\"nonzero\" fill-opacity=\"1\" /><path clip-path=\"url(#clip060)\" d=\"M821.934 49.7694 Q812.9 49.7694 809.416 51.8354 Q805.933 53.9013 805.933 58.8839 Q805.933 62.8538 808.525 65.2034 Q811.158 67.5124 815.655 67.5124 Q821.853 67.5124 825.579 63.1374 Q829.347 58.7219 829.347 51.4303 L829.347 49.7694 L821.934 49.7694 M836.8 46.6907 L836.8 72.576 L829.347 72.576 L829.347 65.6895 Q826.795 69.8214 822.987 71.8063 Q819.179 73.7508 813.67 73.7508 Q806.702 73.7508 802.57 69.8619 Q798.479 65.9325 798.479 59.3701 Q798.479 51.7138 803.583 47.825 Q808.728 43.9361 818.895 43.9361 L829.347 43.9361 L829.347 43.2069 Q829.347 38.0623 825.944 35.2672 Q822.582 32.4315 816.465 32.4315 Q812.576 32.4315 808.89 33.3632 Q805.203 34.295 801.801 36.1584 L801.801 29.2718 Q805.892 27.692 809.74 26.9223 Q813.589 26.1121 817.235 26.1121 Q827.078 26.1121 831.939 31.2163 Q836.8 36.3204 836.8 46.6907 Z\" fill=\"#000000\" fill-rule=\"nonzero\" fill-opacity=\"1\" /><path clip-path=\"url(#clip060)\" d=\"M889.867 45.1919 L889.867 72.576 L882.414 72.576 L882.414 45.4349 Q882.414 38.994 879.902 35.7938 Q877.39 32.5936 872.367 32.5936 Q866.332 32.5936 862.848 36.4419 Q859.364 40.2903 859.364 46.9338 L859.364 72.576 L851.87 72.576 L851.87 27.2059 L859.364 27.2059 L859.364 34.2544 Q862.038 30.163 865.643 28.1376 Q869.289 26.1121 874.028 26.1121 Q881.846 26.1121 885.857 30.9732 Q889.867 35.7938 889.867 45.1919 Z\" fill=\"#000000\" fill-rule=\"nonzero\" fill-opacity=\"1\" /><path clip-path=\"url(#clip060)\" d=\"M923.044 12.096 L974.207 12.096 L974.207 18.9825 L952.737 18.9825 L952.737 72.576 L944.514 72.576 L944.514 18.9825 L923.044 18.9825 L923.044 12.096 Z\" fill=\"#000000\" fill-rule=\"nonzero\" fill-opacity=\"1\" /><path clip-path=\"url(#clip060)\" d=\"M963.715 27.2059 L971.169 27.2059 L980.486 62.6108 L989.763 27.2059 L998.553 27.2059 L1007.87 62.6108 L1017.15 27.2059 L1024.6 27.2059 L1012.73 72.576 L1003.94 72.576 L994.178 35.3887 L984.375 72.576 L975.584 72.576 L963.715 27.2059 Z\" fill=\"#000000\" fill-rule=\"nonzero\" fill-opacity=\"1\" /><path clip-path=\"url(#clip060)\" d=\"M1053.48 32.4315 Q1047.49 32.4315 1044 37.1306 Q1040.52 41.7891 1040.52 49.9314 Q1040.52 58.0738 1043.96 62.7728 Q1047.45 67.4314 1053.48 67.4314 Q1059.44 67.4314 1062.92 62.7323 Q1066.41 58.0333 1066.41 49.9314 Q1066.41 41.8701 1062.92 37.1711 Q1059.44 32.4315 1053.48 32.4315 M1053.48 26.1121 Q1063.21 26.1121 1068.76 32.4315 Q1074.3 38.7509 1074.3 49.9314 Q1074.3 61.0714 1068.76 67.4314 Q1063.21 73.7508 1053.48 73.7508 Q1043.72 73.7508 1038.17 67.4314 Q1032.66 61.0714 1032.66 49.9314 Q1032.66 38.7509 1038.17 32.4315 Q1043.72 26.1121 1053.48 26.1121 Z\" fill=\"#000000\" fill-rule=\"nonzero\" fill-opacity=\"1\" /><path clip-path=\"url(#clip060)\" d=\"M1121.54 18.8205 L1121.54 41.5461 L1131.83 41.5461 Q1137.54 41.5461 1140.66 38.5889 Q1143.78 35.6318 1143.78 30.163 Q1143.78 24.7348 1140.66 21.7777 Q1137.54 18.8205 1131.83 18.8205 L1121.54 18.8205 M1113.36 12.096 L1131.83 12.096 Q1142 12.096 1147.18 16.714 Q1152.41 21.2916 1152.41 30.163 Q1152.41 39.1155 1147.18 43.6931 Q1142 48.2706 1131.83 48.2706 L1121.54 48.2706 L1121.54 72.576 L1113.36 72.576 L1113.36 12.096 Z\" fill=\"#000000\" fill-rule=\"nonzero\" fill-opacity=\"1\" /><path clip-path=\"url(#clip060)\" d=\"M1177.68 32.4315 Q1171.69 32.4315 1168.2 37.1306 Q1164.72 41.7891 1164.72 49.9314 Q1164.72 58.0738 1168.16 62.7728 Q1171.65 67.4314 1177.68 67.4314 Q1183.64 67.4314 1187.12 62.7323 Q1190.61 58.0333 1190.61 49.9314 Q1190.61 41.8701 1187.12 37.1711 Q1183.64 32.4315 1177.68 32.4315 M1177.68 26.1121 Q1187.41 26.1121 1192.96 32.4315 Q1198.51 38.7509 1198.51 49.9314 Q1198.51 61.0714 1192.96 67.4314 Q1187.41 73.7508 1177.68 73.7508 Q1167.92 73.7508 1162.37 67.4314 Q1156.86 61.0714 1156.86 49.9314 Q1156.86 38.7509 1162.37 32.4315 Q1167.92 26.1121 1177.68 26.1121 Z\" fill=\"#000000\" fill-rule=\"nonzero\" fill-opacity=\"1\" /><path clip-path=\"url(#clip060)\" d=\"M1228.44 32.4315 Q1222.45 32.4315 1218.96 37.1306 Q1215.48 41.7891 1215.48 49.9314 Q1215.48 58.0738 1218.92 62.7728 Q1222.41 67.4314 1228.44 67.4314 Q1234.4 67.4314 1237.88 62.7323 Q1241.36 58.0333 1241.36 49.9314 Q1241.36 41.8701 1237.88 37.1711 Q1234.4 32.4315 1228.44 32.4315 M1228.44 26.1121 Q1238.16 26.1121 1243.71 32.4315 Q1249.26 38.7509 1249.26 49.9314 Q1249.26 61.0714 1243.71 67.4314 Q1238.16 73.7508 1228.44 73.7508 Q1218.68 73.7508 1213.13 67.4314 Q1207.62 61.0714 1207.62 49.9314 Q1207.62 38.7509 1213.13 32.4315 Q1218.68 26.1121 1228.44 26.1121 Z\" fill=\"#000000\" fill-rule=\"nonzero\" fill-opacity=\"1\" /><path clip-path=\"url(#clip060)\" d=\"M1261.62 9.54393 L1269.07 9.54393 L1269.07 72.576 L1261.62 72.576 L1261.62 9.54393 Z\" fill=\"#000000\" fill-rule=\"nonzero\" fill-opacity=\"1\" /><polyline clip-path=\"url(#clip062)\" style=\"stroke:#009af9; stroke-linecap:round; stroke-linejoin:round; stroke-width:4; stroke-opacity:1; fill:none\" points=\"226.004,153.203 233.484,175.631 240.965,197.229 248.445,218.205 248.445,218.205 255.925,238.448 263.406,258.121 270.886,277.333 278.367,295.846 285.847,313.801 285.847,313.801 293.328,331.316 300.808,348.305 300.808,348.305 308.288,364.781 308.288,364.781 315.769,380.635 323.249,396.133 330.73,411.18 338.21,425.822 338.21,425.822 345.69,440.181 345.69,440.181 353.171,454.101 360.651,467.707 360.651,467.707 368.132,480.893 375.612,493.898 375.612,493.898 383.092,506.362 383.092,506.362 390.573,518.575 398.053,530.604 398.053,530.604 405.534,542.304 405.534,542.304 413.014,553.707 413.014,553.707 420.495,564.762 420.495,564.762 427.975,575.57 435.455,586.2 435.455,586.2 442.936,596.605 442.936,596.605 450.416,606.759 450.416,606.759 457.897,616.737 457.897,616.737 465.377,626.557 472.857,636.115 472.857,636.115 480.338,645.477 480.338,645.477 487.818,654.65 487.818,654.65 495.299,663.602 495.299,663.602 502.779,672.425 502.779,672.425 510.259,680.98 510.259,680.98 517.74,689.42 517.74,689.42 525.22,697.791 525.22,697.791 532.701,705.94 532.701,705.94 540.181,713.926 547.662,721.708 547.662,721.708 555.142,729.392 562.622,736.922 570.103,744.42 577.583,751.798 585.064,759.035 592.544,766.19 592.544,766.19 600.024,773.242 600.024,773.242 607.505,780.018 607.505,780.018 614.985,786.791 614.985,786.791 622.466,793.404 622.466,793.404 629.946,800.019 629.946,800.019 637.426,806.518 637.426,806.518 644.907,812.908 644.907,812.908 652.387,819.189 652.387,819.189 659.868,825.541 659.868,825.541 667.348,831.637 667.348,831.637 674.829,837.684 674.829,837.684 682.309,843.661 682.309,843.661 689.789,849.523 689.789,849.523 697.27,855.37 697.27,855.37 704.75,861.068 704.75,861.068 712.231,866.681 712.231,866.681 719.711,872.305 719.711,872.305 727.191,877.875 727.191,877.875 734.672,883.245 734.672,883.245 742.152,888.559 742.152,888.559 749.633,893.992 749.633,893.992 757.113,899.259 757.113,899.259 764.594,904.447 764.594,904.447 772.074,909.757 772.074,909.757 779.554,914.903 779.554,914.903 787.035,919.997 787.035,919.997 794.515,925.101 794.515,925.101 801.996,930.066 801.996,930.066 809.476,935.044 809.476,935.044 816.956,940.03 816.956,940.03 824.437,944.827 824.437,944.827 831.917,949.655 831.917,949.655 839.398,954.459 839.398,954.459 846.878,959.153 846.878,959.153 854.358,963.879 854.358,963.879 861.839,968.495 861.839,968.495 869.319,972.994 869.319,972.994 876.8,977.443 876.8,977.443 884.28,981.934 884.28,981.934 891.761,986.397 891.761,986.397 899.241,990.741 899.241,990.741 906.721,995.099 906.721,995.099 914.202,999.408 914.202,999.408 921.682,1003.75 921.682,1003.75 929.163,1008.02 929.163,1008.02 936.643,1012.33 936.643,1012.33 944.123,1016.53 944.123,1016.53 951.604,1020.64 951.604,1020.64 959.084,1024.67 959.084,1024.67 966.565,1028.76 966.565,1028.76 974.045,1032.84 974.045,1032.84 981.525,1036.78 981.525,1036.78 989.006,1040.82 989.006,1040.82 996.486,1044.76 996.486,1044.76 1003.97,1048.7 1003.97,1048.7 1011.45,1052.59 1011.45,1052.59 1018.93,1056.45 1018.93,1056.45 1026.41,1060.29 1026.41,1060.29 1033.89,1064.1 1033.89,1064.1 1041.37,1067.89 1041.37,1067.89 1048.85,1071.66 1048.85,1071.66 1056.33,1075.43 1056.33,1075.43 1063.81,1079.04 1063.81,1079.04 1071.29,1082.69 1071.29,1082.69 1078.77,1086.3 1078.77,1086.3 1086.25,1089.91 1086.25,1089.91 1093.73,1093.53 1093.73,1093.53 1101.21,1097.09 1101.21,1097.09 1108.69,1100.56 1108.69,1100.56 1116.17,1104.17 1116.17,1104.17 1123.65,1107.56 1123.65,1107.56 1131.13,1111.01 1131.13,1111.01 1138.61,1114.43 1138.61,1114.43 1146.09,1117.89 1146.09,1117.89 1153.57,1121.18 1153.57,1121.18 1161.06,1124.54 1161.06,1124.54 1168.54,1127.79 1168.54,1127.79 1176.02,1131.07 1176.02,1131.07 1183.5,1134.42 1183.5,1134.42 1190.98,1137.67 1190.98,1137.67 1198.46,1140.93 1198.46,1140.93 1205.94,1144.15 1205.94,1144.15 1213.42,1147.33 1213.42,1147.33 1220.9,1150.51 1220.9,1150.51 1228.38,1153.61 1228.38,1153.61 1235.86,1156.78 1235.86,1156.78 1243.34,1159.98 1243.34,1159.98 1250.82,1163.06 1250.82,1163.06 1258.3,1166.1 1258.3,1166.1 1265.78,1169.12 1265.78,1169.12 1273.26,1172.11 1273.26,1172.11 1280.74,1175.11 1280.74,1175.11 1288.22,1178.11 1288.22,1178.11 1295.7,1181.1 1295.7,1181.1 1303.18,1184.08 1303.18,1184.08 1310.66,1187.08 1310.66,1187.08 1318.14,1190.06 1318.14,1190.06 1325.62,1193 1325.62,1193 1333.1,1195.94 1333.1,1195.94 1340.59,1198.81 1340.59,1198.81 1348.07,1201.68 1348.07,1201.68 1355.55,1204.47 1355.55,1204.47 1363.03,1207.24 1363.03,1207.24 1370.51,1210.03 1370.51,1210.03 1377.99,1212.76 1377.99,1212.76 1385.47,1215.48 1385.47,1215.48 1392.95,1218.18 1392.95,1218.18 1400.43,1220.92 1400.43,1220.92 1407.91,1223.64 1407.91,1223.64 1415.39,1226.39 1415.39,1226.39 1422.87,1229.01 1422.87,1229.01 1430.35,1231.65 1430.35,1231.65 1437.83,1234.34 1437.83,1234.34 1445.31,1236.94 1445.31,1236.94 1452.79,1239.44 1452.79,1239.44 1460.27,1241.99 1460.27,1241.99 1467.75,1244.58 1467.75,1244.58 1475.23,1247.15 1475.23,1247.15 1482.71,1249.7 1482.71,1249.7 1490.19,1252.25 1490.19,1252.25 1497.67,1254.76 1497.67,1254.76 1505.15,1257.23 1505.15,1257.23 1512.63,1259.62 1512.63,1259.62 1520.12,1262.06 1520.12,1262.06 1527.6,1264.5 1527.6,1264.5 1535.08,1266.95 1535.08,1266.95 1542.56,1269.41 1542.56,1269.41 1550.04,1271.78 1550.04,1271.78 1557.52,1274.17 1557.52,1274.17 1565,1276.53 1565,1276.53 1572.48,1278.84 1572.48,1278.84 1579.96,1281.18 1579.96,1281.18 1587.44,1283.49 1587.44,1283.49 1594.92,1285.74 1594.92,1285.74 1602.4,1288.06 1602.4,1288.06 1609.88,1290.32 1609.88,1290.32 1617.36,1292.55 1617.36,1292.55 1624.84,1294.78 1632.32,1296.96 1632.32,1296.96 1639.8,1299.29 1647.28,1301.55 1654.76,1303.73 1662.24,1305.97 1662.24,1305.97 1669.72,1308.08 1677.2,1310.21 1677.2,1310.21 1684.68,1312.33 1684.68,1312.33 1692.16,1314.47 1692.16,1314.47 1699.65,1316.53 1699.65,1316.53 1707.13,1318.65 1707.13,1318.65 1714.61,1320.78 1714.61,1320.78 1722.09,1322.89 \"/>\n",
       "<polyline clip-path=\"url(#clip062)\" style=\"stroke:#e26f46; stroke-linecap:round; stroke-linejoin:round; stroke-width:4; stroke-opacity:1; fill:none\" points=\"226.004,1648.24 233.484,1633.25 233.484,1630.75 240.965,1616.63 240.965,1616.03 248.445,1602.63 248.445,1602.42 255.925,1589.71 255.925,1589.61 263.406,1577.61 263.406,1577.56 270.886,1566.07 270.886,1566.05 278.367,1555.22 278.367,1555.2 285.847,1544.93 293.328,1535.1 300.808,1525.88 300.808,1525.88 308.288,1517.16 308.288,1517.16 315.769,1508.98 315.769,1508.97 323.249,1501.18 323.249,1501.17 330.73,1493.85 330.73,1493.85 338.21,1486.98 338.21,1486.98 345.69,1480.39 345.69,1480.39 353.171,1474.23 353.171,1474.23 360.651,1468.31 360.651,1468.31 368.132,1462.84 375.612,1457.53 375.612,1457.53 383.092,1452.74 383.092,1452.74 390.573,1448.14 390.573,1448.14 398.053,1443.78 398.053,1443.78 405.534,1439.65 405.534,1439.65 413.014,1435.9 413.014,1435.9 420.495,1432.46 420.495,1432.46 427.975,1429.19 427.975,1429.19 435.455,1426.12 435.455,1426.12 442.936,1423.29 442.936,1423.29 450.416,1420.57 450.416,1420.57 457.897,1418.1 457.897,1418.1 465.377,1415.79 472.857,1413.73 472.857,1413.73 480.338,1411.79 480.338,1411.79 487.818,1409.99 487.818,1409.99 495.299,1408.34 495.299,1408.34 502.779,1406.89 502.779,1406.89 510.259,1405.66 510.259,1405.66 517.74,1404.52 517.74,1404.52 525.22,1403.4 525.22,1403.4 532.701,1402.46 532.701,1402.46 540.181,1401.65 547.662,1400.96 547.662,1400.96 555.142,1400.36 562.622,1399.87 570.103,1399.42 577.583,1399 585.064,1398.75 592.544,1398.5 592.544,1398.5 600.024,1398.42 600.024,1398.42 607.505,1398.53 607.505,1398.53 614.985,1398.51 614.985,1398.51 622.466,1398.67 622.466,1398.67 629.946,1398.85 629.946,1398.85 637.426,1399.1 637.426,1399.1 644.907,1399.43 644.907,1399.43 652.387,1399.86 652.387,1399.86 659.868,1400.18 659.868,1400.18 667.348,1400.69 667.348,1400.69 674.829,1401.17 674.829,1401.17 682.309,1401.69 682.309,1401.69 689.789,1402.33 689.789,1402.33 697.27,1402.93 697.27,1402.93 704.75,1403.69 704.75,1403.69 712.231,1404.45 712.231,1404.45 719.711,1405.21 719.711,1405.21 727.191,1405.94 727.191,1405.94 734.672,1406.85 734.672,1406.85 742.152,1407.75 742.152,1407.75 749.633,1408.54 749.633,1408.54 757.113,1409.47 757.113,1409.47 764.594,1410.42 764.594,1410.42 772.074,1411.27 772.074,1411.27 779.554,1412.21 779.554,1412.21 787.035,1413.15 787.035,1413.15 794.515,1414.04 794.515,1414.04 801.996,1415.02 801.996,1415.02 809.476,1415.99 809.476,1415.99 816.956,1416.91 816.956,1416.91 824.437,1418.01 824.437,1418.01 831.917,1418.98 831.917,1418.98 839.398,1419.95 839.398,1419.95 846.878,1420.97 846.878,1420.97 854.358,1421.97 854.358,1421.97 861.839,1423.04 861.839,1423.04 869.319,1424.17 869.319,1424.17 876.8,1425.27 876.8,1425.27 884.28,1426.39 884.28,1426.39 891.761,1427.49 891.761,1427.49 899.241,1428.65 899.241,1428.65 906.721,1429.76 906.721,1429.76 914.202,1430.91 914.202,1430.91 921.682,1432 921.682,1432 929.163,1433.11 929.163,1433.11 936.643,1434.11 936.643,1434.11 944.123,1435.27 944.123,1435.27 951.604,1436.46 951.604,1436.46 959.084,1437.62 959.084,1437.62 966.565,1438.73 966.565,1438.73 974.045,1439.85 974.045,1439.85 981.525,1441.08 981.525,1441.08 989.006,1442.21 989.006,1442.21 996.486,1443.4 996.486,1443.4 1003.97,1444.46 1003.97,1444.46 1011.45,1445.59 1011.45,1445.59 1018.93,1446.74 1018.93,1446.74 1026.41,1447.94 1026.41,1447.94 1033.89,1449.08 1033.89,1449.08 1041.37,1450.19 1041.37,1450.19 1048.85,1451.28 1048.85,1451.28 1056.33,1452.34 1056.33,1452.34 1063.81,1453.53 1063.81,1453.53 1071.29,1454.67 1071.29,1454.67 1078.77,1455.8 1078.77,1455.8 1086.25,1456.9 1086.25,1456.9 1093.73,1457.96 1093.73,1457.96 1101.21,1459.05 1101.21,1459.05 1108.69,1460.2 1108.69,1460.2 1116.17,1461.2 1116.17,1461.2 1123.65,1462.42 1123.65,1462.42 1131.13,1463.54 1131.13,1463.54 1138.61,1464.65 1138.61,1464.65 1146.09,1465.75 1146.09,1465.75 1153.57,1466.92 1153.57,1466.92 1161.06,1468.02 1161.06,1468.02 1168.54,1469.17 1168.54,1469.17 1176.02,1470.26 1176.02,1470.26 1183.5,1471.29 1183.5,1471.29 1190.98,1472.38 1190.98,1472.38 1198.46,1473.43 1198.46,1473.43 1205.94,1474.52 1205.94,1474.52 1213.42,1475.58 1213.42,1475.58 1220.9,1476.6 1220.9,1476.6 1228.38,1477.67 1228.38,1477.67 1235.86,1478.68 1235.86,1478.68 1243.34,1479.64 1243.34,1479.64 1250.82,1480.7 1250.82,1480.7 1258.3,1481.76 1258.3,1481.76 1265.78,1482.83 1265.78,1482.83 1273.26,1483.83 1273.26,1483.83 1280.74,1484.89 1280.74,1484.89 1288.22,1485.86 1288.22,1485.86 1295.7,1486.85 1295.7,1486.85 1303.18,1487.86 1303.18,1487.86 1310.66,1488.79 1310.66,1488.79 1318.14,1489.71 1318.14,1489.71 1325.62,1490.63 1325.62,1490.63 1333.1,1491.52 1333.1,1491.52 1340.59,1492.48 1340.59,1492.48 1348.07,1493.41 1348.07,1493.41 1355.55,1494.34 1355.55,1494.34 1363.03,1495.33 1363.03,1495.33 1370.51,1496.29 1370.51,1496.29 1377.99,1497.29 1377.99,1497.29 1385.47,1498.28 1385.47,1498.28 1392.95,1499.24 1392.95,1499.24 1400.43,1500.13 1400.43,1500.13 1407.91,1501.01 1407.91,1501.01 1415.39,1501.86 1415.39,1501.86 1422.87,1502.79 1422.87,1502.79 1430.35,1503.7 1430.35,1503.7 1437.83,1504.55 1437.83,1504.55 1445.31,1505.46 1445.31,1505.46 1452.79,1506.42 1452.79,1506.42 1460.27,1507.36 1460.27,1507.36 1467.75,1508.19 1467.75,1508.19 1475.23,1509.05 1475.23,1509.05 1482.71,1509.9 1482.71,1509.9 1490.19,1510.73 1490.19,1510.73 1497.67,1511.57 1497.67,1511.57 1505.15,1512.4 1505.15,1512.4 1512.63,1513.31 1512.63,1513.31 1520.12,1514.14 1520.12,1514.14 1527.6,1514.97 1527.6,1514.97 1535.08,1515.77 1535.08,1515.77 1542.56,1516.56 1542.56,1516.56 1550.04,1517.41 1550.04,1517.41 1557.52,1518.22 1557.52,1518.22 1565,1519.04 1565,1519.04 1572.48,1519.9 1572.48,1519.9 1579.96,1520.66 1579.96,1520.66 1587.44,1521.45 1587.44,1521.45 1594.92,1522.28 1594.92,1522.28 1602.4,1523.02 1602.4,1523.02 1609.88,1523.79 1609.88,1523.79 1617.36,1524.54 1617.36,1524.54 1624.84,1525.33 1632.32,1526.15 1632.32,1526.15 1639.8,1526.83 1639.8,1526.83 1647.28,1527.52 1647.28,1527.52 1654.76,1528.31 1654.76,1528.3 1662.24,1529 1662.24,1529 1669.72,1529.81 1669.72,1529.8 1677.2,1530.59 1677.2,1530.59 1684.68,1531.37 1684.68,1531.37 1692.16,1532.09 1692.16,1532.09 1699.65,1532.86 1699.65,1532.86 1707.13,1533.55 1707.13,1533.55 1714.61,1534.26 1714.61,1534.25 1722.09,1534.9 1722.09,1534.9 \"/>\n",
       "<path clip-path=\"url(#clip060)\" d=\"M1503.09 316.697 L1714.11 316.697 L1714.11 161.177 L1503.09 161.177  Z\" fill=\"#ffffff\" fill-rule=\"evenodd\" fill-opacity=\"1\"/>\n",
       "<polyline clip-path=\"url(#clip060)\" style=\"stroke:#000000; stroke-linecap:round; stroke-linejoin:round; stroke-width:4; stroke-opacity:1; fill:none\" points=\"1503.09,316.697 1714.11,316.697 1714.11,161.177 1503.09,161.177 1503.09,316.697 \"/>\n",
       "<polyline clip-path=\"url(#clip060)\" style=\"stroke:#009af9; stroke-linecap:round; stroke-linejoin:round; stroke-width:4; stroke-opacity:1; fill:none\" points=\"1520.71,213.017 1626.44,213.017 \"/>\n",
       "<path clip-path=\"url(#clip060)\" d=\"M1657.9 232.704 Q1656.09 237.334 1654.38 238.746 Q1652.67 240.158 1649.8 240.158 L1646.39 240.158 L1646.39 236.593 L1648.89 236.593 Q1650.65 236.593 1651.63 235.76 Q1652.6 234.926 1653.78 231.824 L1654.54 229.88 L1644.06 204.371 L1648.57 204.371 L1656.67 224.649 L1664.77 204.371 L1669.29 204.371 L1657.9 232.704 Z\" fill=\"#000000\" fill-rule=\"nonzero\" fill-opacity=\"1\" /><path clip-path=\"url(#clip060)\" d=\"M1676.58 226.361 L1684.22 226.361 L1684.22 199.996 L1675.91 201.663 L1675.91 197.403 L1684.17 195.737 L1688.85 195.737 L1688.85 226.361 L1696.49 226.361 L1696.49 230.297 L1676.58 230.297 L1676.58 226.361 Z\" fill=\"#000000\" fill-rule=\"nonzero\" fill-opacity=\"1\" /><polyline clip-path=\"url(#clip060)\" style=\"stroke:#e26f46; stroke-linecap:round; stroke-linejoin:round; stroke-width:4; stroke-opacity:1; fill:none\" points=\"1520.71,264.857 1626.44,264.857 \"/>\n",
       "<path clip-path=\"url(#clip060)\" d=\"M1657.9 284.544 Q1656.09 289.174 1654.38 290.586 Q1652.67 291.998 1649.8 291.998 L1646.39 291.998 L1646.39 288.433 L1648.89 288.433 Q1650.65 288.433 1651.63 287.6 Q1652.6 286.766 1653.78 283.664 L1654.54 281.72 L1644.06 256.211 L1648.57 256.211 L1656.67 276.489 L1664.77 256.211 L1669.29 256.211 L1657.9 284.544 Z\" fill=\"#000000\" fill-rule=\"nonzero\" fill-opacity=\"1\" /><path clip-path=\"url(#clip060)\" d=\"M1679.8 278.201 L1696.12 278.201 L1696.12 282.137 L1674.17 282.137 L1674.17 278.201 Q1676.83 275.447 1681.42 270.817 Q1686.02 266.165 1687.2 264.822 Q1689.45 262.299 1690.33 260.563 Q1691.23 258.803 1691.23 257.114 Q1691.23 254.359 1689.29 252.623 Q1687.37 250.887 1684.26 250.887 Q1682.07 250.887 1679.61 251.651 Q1677.18 252.415 1674.4 253.966 L1674.4 249.243 Q1677.23 248.109 1679.68 247.53 Q1682.13 246.952 1684.17 246.952 Q1689.54 246.952 1692.74 249.637 Q1695.93 252.322 1695.93 256.813 Q1695.93 258.942 1695.12 260.864 Q1694.33 262.762 1692.23 265.354 Q1691.65 266.026 1688.55 269.243 Q1685.45 272.438 1679.8 278.201 Z\" fill=\"#000000\" fill-rule=\"nonzero\" fill-opacity=\"1\" /><path clip-path=\"url(#clip060)\" d=\"M1966.91 1693.09 L3552.76 1693.09 L3552.76 108.352 L1966.91 108.352  Z\" fill=\"#ffffff\" fill-rule=\"evenodd\" fill-opacity=\"1\"/>\n",
       "<defs>\n",
       "  <clipPath id=\"clip063\">\n",
       "    <rect x=\"1966\" y=\"108\" width=\"1587\" height=\"1586\"/>\n",
       "  </clipPath>\n",
       "</defs>\n",
       "<polyline clip-path=\"url(#clip063)\" style=\"stroke:#000000; stroke-linecap:round; stroke-linejoin:round; stroke-width:2; stroke-opacity:0.1; fill:none\" points=\"2011.79,1693.09 2011.79,108.352 \"/>\n",
       "<polyline clip-path=\"url(#clip063)\" style=\"stroke:#000000; stroke-linecap:round; stroke-linejoin:round; stroke-width:2; stroke-opacity:0.1; fill:none\" points=\"2385.81,1693.09 2385.81,108.352 \"/>\n",
       "<polyline clip-path=\"url(#clip063)\" style=\"stroke:#000000; stroke-linecap:round; stroke-linejoin:round; stroke-width:2; stroke-opacity:0.1; fill:none\" points=\"2759.83,1693.09 2759.83,108.352 \"/>\n",
       "<polyline clip-path=\"url(#clip063)\" style=\"stroke:#000000; stroke-linecap:round; stroke-linejoin:round; stroke-width:2; stroke-opacity:0.1; fill:none\" points=\"3133.85,1693.09 3133.85,108.352 \"/>\n",
       "<polyline clip-path=\"url(#clip063)\" style=\"stroke:#000000; stroke-linecap:round; stroke-linejoin:round; stroke-width:2; stroke-opacity:0.1; fill:none\" points=\"3507.87,1693.09 3507.87,108.352 \"/>\n",
       "<polyline clip-path=\"url(#clip060)\" style=\"stroke:#000000; stroke-linecap:round; stroke-linejoin:round; stroke-width:4; stroke-opacity:1; fill:none\" points=\"1966.91,1693.09 3552.76,1693.09 \"/>\n",
       "<polyline clip-path=\"url(#clip060)\" style=\"stroke:#000000; stroke-linecap:round; stroke-linejoin:round; stroke-width:4; stroke-opacity:1; fill:none\" points=\"2011.79,1693.09 2011.79,1674.19 \"/>\n",
       "<polyline clip-path=\"url(#clip060)\" style=\"stroke:#000000; stroke-linecap:round; stroke-linejoin:round; stroke-width:4; stroke-opacity:1; fill:none\" points=\"2385.81,1693.09 2385.81,1674.19 \"/>\n",
       "<polyline clip-path=\"url(#clip060)\" style=\"stroke:#000000; stroke-linecap:round; stroke-linejoin:round; stroke-width:4; stroke-opacity:1; fill:none\" points=\"2759.83,1693.09 2759.83,1674.19 \"/>\n",
       "<polyline clip-path=\"url(#clip060)\" style=\"stroke:#000000; stroke-linecap:round; stroke-linejoin:round; stroke-width:4; stroke-opacity:1; fill:none\" points=\"3133.85,1693.09 3133.85,1674.19 \"/>\n",
       "<polyline clip-path=\"url(#clip060)\" style=\"stroke:#000000; stroke-linecap:round; stroke-linejoin:round; stroke-width:4; stroke-opacity:1; fill:none\" points=\"3507.87,1693.09 3507.87,1674.19 \"/>\n",
       "<path clip-path=\"url(#clip060)\" d=\"M1989.18 1733.61 Q1985.56 1733.61 1983.74 1737.17 Q1981.93 1740.71 1981.93 1747.84 Q1981.93 1754.95 1983.74 1758.51 Q1985.56 1762.06 1989.18 1762.06 Q1992.81 1762.06 1994.62 1758.51 Q1996.44 1754.95 1996.44 1747.84 Q1996.44 1740.71 1994.62 1737.17 Q1992.81 1733.61 1989.18 1733.61 M1989.18 1729.9 Q1994.99 1729.9 1998.04 1734.51 Q2001.12 1739.09 2001.12 1747.84 Q2001.12 1756.57 1998.04 1761.18 Q1994.99 1765.76 1989.18 1765.76 Q1983.37 1765.76 1980.29 1761.18 Q1977.23 1756.57 1977.23 1747.84 Q1977.23 1739.09 1980.29 1734.51 Q1983.37 1729.9 1989.18 1729.9 Z\" fill=\"#000000\" fill-rule=\"nonzero\" fill-opacity=\"1\" /><path clip-path=\"url(#clip060)\" d=\"M2009.34 1759.21 L2014.22 1759.21 L2014.22 1765.09 L2009.34 1765.09 L2009.34 1759.21 Z\" fill=\"#000000\" fill-rule=\"nonzero\" fill-opacity=\"1\" /><path clip-path=\"url(#clip060)\" d=\"M2034.41 1733.61 Q2030.8 1733.61 2028.97 1737.17 Q2027.16 1740.71 2027.16 1747.84 Q2027.16 1754.95 2028.97 1758.51 Q2030.8 1762.06 2034.41 1762.06 Q2038.04 1762.06 2039.85 1758.51 Q2041.68 1754.95 2041.68 1747.84 Q2041.68 1740.71 2039.85 1737.17 Q2038.04 1733.61 2034.41 1733.61 M2034.41 1729.9 Q2040.22 1729.9 2043.27 1734.51 Q2046.35 1739.09 2046.35 1747.84 Q2046.35 1756.57 2043.27 1761.18 Q2040.22 1765.76 2034.41 1765.76 Q2028.6 1765.76 2025.52 1761.18 Q2022.46 1756.57 2022.46 1747.84 Q2022.46 1739.09 2025.52 1734.51 Q2028.6 1729.9 2034.41 1729.9 Z\" fill=\"#000000\" fill-rule=\"nonzero\" fill-opacity=\"1\" /><path clip-path=\"url(#clip060)\" d=\"M2357.55 1761.15 L2373.87 1761.15 L2373.87 1765.09 L2351.92 1765.09 L2351.92 1761.15 Q2354.58 1758.4 2359.17 1753.77 Q2363.77 1749.12 2364.96 1747.77 Q2367.2 1745.25 2368.08 1743.51 Q2368.98 1741.75 2368.98 1740.06 Q2368.98 1737.31 2367.04 1735.57 Q2365.12 1733.84 2362.02 1733.84 Q2359.82 1733.84 2357.36 1734.6 Q2354.93 1735.37 2352.15 1736.92 L2352.15 1732.19 Q2354.98 1731.06 2357.43 1730.48 Q2359.89 1729.9 2361.92 1729.9 Q2367.29 1729.9 2370.49 1732.59 Q2373.68 1735.27 2373.68 1739.76 Q2373.68 1741.89 2372.87 1743.81 Q2372.08 1745.71 2369.98 1748.31 Q2369.4 1748.98 2366.3 1752.19 Q2363.2 1755.39 2357.55 1761.15 Z\" fill=\"#000000\" fill-rule=\"nonzero\" fill-opacity=\"1\" /><path clip-path=\"url(#clip060)\" d=\"M2383.68 1759.21 L2388.57 1759.21 L2388.57 1765.09 L2383.68 1765.09 L2383.68 1759.21 Z\" fill=\"#000000\" fill-rule=\"nonzero\" fill-opacity=\"1\" /><path clip-path=\"url(#clip060)\" d=\"M2398.8 1730.53 L2417.15 1730.53 L2417.15 1734.46 L2403.08 1734.46 L2403.08 1742.94 Q2404.1 1742.59 2405.12 1742.43 Q2406.14 1742.24 2407.15 1742.24 Q2412.94 1742.24 2416.32 1745.41 Q2419.7 1748.58 2419.7 1754 Q2419.7 1759.58 2416.23 1762.68 Q2412.76 1765.76 2406.44 1765.76 Q2404.26 1765.76 2401.99 1765.39 Q2399.75 1765.02 2397.34 1764.28 L2397.34 1759.58 Q2399.42 1760.71 2401.64 1761.27 Q2403.87 1761.82 2406.34 1761.82 Q2410.35 1761.82 2412.69 1759.72 Q2415.02 1757.61 2415.02 1754 Q2415.02 1750.39 2412.69 1748.28 Q2410.35 1746.18 2406.34 1746.18 Q2404.47 1746.18 2402.59 1746.59 Q2400.74 1747.01 2398.8 1747.89 L2398.8 1730.53 Z\" fill=\"#000000\" fill-rule=\"nonzero\" fill-opacity=\"1\" /><path clip-path=\"url(#clip060)\" d=\"M2727 1730.53 L2745.35 1730.53 L2745.35 1734.46 L2731.28 1734.46 L2731.28 1742.94 Q2732.3 1742.59 2733.32 1742.43 Q2734.33 1742.24 2735.35 1742.24 Q2741.14 1742.24 2744.52 1745.41 Q2747.9 1748.58 2747.9 1754 Q2747.9 1759.58 2744.43 1762.68 Q2740.95 1765.76 2734.64 1765.76 Q2732.46 1765.76 2730.19 1765.39 Q2727.95 1765.02 2725.54 1764.28 L2725.54 1759.58 Q2727.62 1760.71 2729.84 1761.27 Q2732.07 1761.82 2734.54 1761.82 Q2738.55 1761.82 2740.89 1759.72 Q2743.22 1757.61 2743.22 1754 Q2743.22 1750.39 2740.89 1748.28 Q2738.55 1746.18 2734.54 1746.18 Q2732.67 1746.18 2730.79 1746.59 Q2728.94 1747.01 2727 1747.89 L2727 1730.53 Z\" fill=\"#000000\" fill-rule=\"nonzero\" fill-opacity=\"1\" /><path clip-path=\"url(#clip060)\" d=\"M2757.11 1759.21 L2762 1759.21 L2762 1765.09 L2757.11 1765.09 L2757.11 1759.21 Z\" fill=\"#000000\" fill-rule=\"nonzero\" fill-opacity=\"1\" /><path clip-path=\"url(#clip060)\" d=\"M2782.18 1733.61 Q2778.57 1733.61 2776.74 1737.17 Q2774.94 1740.71 2774.94 1747.84 Q2774.94 1754.95 2776.74 1758.51 Q2778.57 1762.06 2782.18 1762.06 Q2785.82 1762.06 2787.62 1758.51 Q2789.45 1754.95 2789.45 1747.84 Q2789.45 1740.71 2787.62 1737.17 Q2785.82 1733.61 2782.18 1733.61 M2782.18 1729.9 Q2787.99 1729.9 2791.05 1734.51 Q2794.13 1739.09 2794.13 1747.84 Q2794.13 1756.57 2791.05 1761.18 Q2787.99 1765.76 2782.18 1765.76 Q2776.37 1765.76 2773.29 1761.18 Q2770.24 1756.57 2770.24 1747.84 Q2770.24 1739.09 2773.29 1734.51 Q2776.37 1729.9 2782.18 1729.9 Z\" fill=\"#000000\" fill-rule=\"nonzero\" fill-opacity=\"1\" /><path clip-path=\"url(#clip060)\" d=\"M3100.17 1730.53 L3122.39 1730.53 L3122.39 1732.52 L3109.85 1765.09 L3104.96 1765.09 L3116.77 1734.46 L3100.17 1734.46 L3100.17 1730.53 Z\" fill=\"#000000\" fill-rule=\"nonzero\" fill-opacity=\"1\" /><path clip-path=\"url(#clip060)\" d=\"M3131.51 1759.21 L3136.4 1759.21 L3136.4 1765.09 L3131.51 1765.09 L3131.51 1759.21 Z\" fill=\"#000000\" fill-rule=\"nonzero\" fill-opacity=\"1\" /><path clip-path=\"url(#clip060)\" d=\"M3146.63 1730.53 L3164.99 1730.53 L3164.99 1734.46 L3150.91 1734.46 L3150.91 1742.94 Q3151.93 1742.59 3152.95 1742.43 Q3153.97 1742.24 3154.99 1742.24 Q3160.77 1742.24 3164.15 1745.41 Q3167.53 1748.58 3167.53 1754 Q3167.53 1759.58 3164.06 1762.68 Q3160.59 1765.76 3154.27 1765.76 Q3152.09 1765.76 3149.82 1765.39 Q3147.58 1765.02 3145.17 1764.28 L3145.17 1759.58 Q3147.26 1760.71 3149.48 1761.27 Q3151.7 1761.82 3154.18 1761.82 Q3158.18 1761.82 3160.52 1759.72 Q3162.86 1757.61 3162.86 1754 Q3162.86 1750.39 3160.52 1748.28 Q3158.18 1746.18 3154.18 1746.18 Q3152.3 1746.18 3150.43 1746.59 Q3148.57 1747.01 3146.63 1747.89 L3146.63 1730.53 Z\" fill=\"#000000\" fill-rule=\"nonzero\" fill-opacity=\"1\" /><path clip-path=\"url(#clip060)\" d=\"M3459.95 1761.15 L3467.58 1761.15 L3467.58 1734.79 L3459.27 1736.45 L3459.27 1732.19 L3467.54 1730.53 L3472.21 1730.53 L3472.21 1761.15 L3479.85 1761.15 L3479.85 1765.09 L3459.95 1765.09 L3459.95 1761.15 Z\" fill=\"#000000\" fill-rule=\"nonzero\" fill-opacity=\"1\" /><path clip-path=\"url(#clip060)\" d=\"M3499.3 1733.61 Q3495.69 1733.61 3493.86 1737.17 Q3492.05 1740.71 3492.05 1747.84 Q3492.05 1754.95 3493.86 1758.51 Q3495.69 1762.06 3499.3 1762.06 Q3502.93 1762.06 3504.74 1758.51 Q3506.57 1754.95 3506.57 1747.84 Q3506.57 1740.71 3504.74 1737.17 Q3502.93 1733.61 3499.3 1733.61 M3499.3 1729.9 Q3505.11 1729.9 3508.16 1734.51 Q3511.24 1739.09 3511.24 1747.84 Q3511.24 1756.57 3508.16 1761.18 Q3505.11 1765.76 3499.3 1765.76 Q3493.49 1765.76 3490.41 1761.18 Q3487.35 1756.57 3487.35 1747.84 Q3487.35 1739.09 3490.41 1734.51 Q3493.49 1729.9 3499.3 1729.9 Z\" fill=\"#000000\" fill-rule=\"nonzero\" fill-opacity=\"1\" /><path clip-path=\"url(#clip060)\" d=\"M3519.46 1759.21 L3524.34 1759.21 L3524.34 1765.09 L3519.46 1765.09 L3519.46 1759.21 Z\" fill=\"#000000\" fill-rule=\"nonzero\" fill-opacity=\"1\" /><path clip-path=\"url(#clip060)\" d=\"M3544.53 1733.61 Q3540.92 1733.61 3539.09 1737.17 Q3537.28 1740.71 3537.28 1747.84 Q3537.28 1754.95 3539.09 1758.51 Q3540.92 1762.06 3544.53 1762.06 Q3548.16 1762.06 3549.97 1758.51 Q3551.8 1754.95 3551.8 1747.84 Q3551.8 1740.71 3549.97 1737.17 Q3548.16 1733.61 3544.53 1733.61 M3544.53 1729.9 Q3550.34 1729.9 3553.39 1734.51 Q3556.47 1739.09 3556.47 1747.84 Q3556.47 1756.57 3553.39 1761.18 Q3550.34 1765.76 3544.53 1765.76 Q3538.72 1765.76 3535.64 1761.18 Q3532.58 1756.57 3532.58 1747.84 Q3532.58 1739.09 3535.64 1734.51 Q3538.72 1729.9 3544.53 1729.9 Z\" fill=\"#000000\" fill-rule=\"nonzero\" fill-opacity=\"1\" /><polyline clip-path=\"url(#clip063)\" style=\"stroke:#000000; stroke-linecap:round; stroke-linejoin:round; stroke-width:2; stroke-opacity:0.1; fill:none\" points=\"1966.91,1648.24 3552.76,1648.24 \"/>\n",
       "<polyline clip-path=\"url(#clip063)\" style=\"stroke:#000000; stroke-linecap:round; stroke-linejoin:round; stroke-width:2; stroke-opacity:0.1; fill:none\" points=\"1966.91,1356.03 3552.76,1356.03 \"/>\n",
       "<polyline clip-path=\"url(#clip063)\" style=\"stroke:#000000; stroke-linecap:round; stroke-linejoin:round; stroke-width:2; stroke-opacity:0.1; fill:none\" points=\"1966.91,1063.82 3552.76,1063.82 \"/>\n",
       "<polyline clip-path=\"url(#clip063)\" style=\"stroke:#000000; stroke-linecap:round; stroke-linejoin:round; stroke-width:2; stroke-opacity:0.1; fill:none\" points=\"1966.91,771.608 3552.76,771.608 \"/>\n",
       "<polyline clip-path=\"url(#clip063)\" style=\"stroke:#000000; stroke-linecap:round; stroke-linejoin:round; stroke-width:2; stroke-opacity:0.1; fill:none\" points=\"1966.91,479.399 3552.76,479.399 \"/>\n",
       "<polyline clip-path=\"url(#clip063)\" style=\"stroke:#000000; stroke-linecap:round; stroke-linejoin:round; stroke-width:2; stroke-opacity:0.1; fill:none\" points=\"1966.91,187.189 3552.76,187.189 \"/>\n",
       "<polyline clip-path=\"url(#clip060)\" style=\"stroke:#000000; stroke-linecap:round; stroke-linejoin:round; stroke-width:4; stroke-opacity:1; fill:none\" points=\"1966.91,1693.09 1966.91,108.352 \"/>\n",
       "<polyline clip-path=\"url(#clip060)\" style=\"stroke:#000000; stroke-linecap:round; stroke-linejoin:round; stroke-width:4; stroke-opacity:1; fill:none\" points=\"1966.91,1648.24 1985.81,1648.24 \"/>\n",
       "<polyline clip-path=\"url(#clip060)\" style=\"stroke:#000000; stroke-linecap:round; stroke-linejoin:round; stroke-width:4; stroke-opacity:1; fill:none\" points=\"1966.91,1356.03 1985.81,1356.03 \"/>\n",
       "<polyline clip-path=\"url(#clip060)\" style=\"stroke:#000000; stroke-linecap:round; stroke-linejoin:round; stroke-width:4; stroke-opacity:1; fill:none\" points=\"1966.91,1063.82 1985.81,1063.82 \"/>\n",
       "<polyline clip-path=\"url(#clip060)\" style=\"stroke:#000000; stroke-linecap:round; stroke-linejoin:round; stroke-width:4; stroke-opacity:1; fill:none\" points=\"1966.91,771.608 1985.81,771.608 \"/>\n",
       "<polyline clip-path=\"url(#clip060)\" style=\"stroke:#000000; stroke-linecap:round; stroke-linejoin:round; stroke-width:4; stroke-opacity:1; fill:none\" points=\"1966.91,479.399 1985.81,479.399 \"/>\n",
       "<polyline clip-path=\"url(#clip060)\" style=\"stroke:#000000; stroke-linecap:round; stroke-linejoin:round; stroke-width:4; stroke-opacity:1; fill:none\" points=\"1966.91,187.189 1985.81,187.189 \"/>\n",
       "<path clip-path=\"url(#clip060)\" d=\"M1900.96 1634.04 Q1897.35 1634.04 1895.52 1637.6 Q1893.72 1641.14 1893.72 1648.27 Q1893.72 1655.38 1895.52 1658.94 Q1897.35 1662.48 1900.96 1662.48 Q1904.6 1662.48 1906.4 1658.94 Q1908.23 1655.38 1908.23 1648.27 Q1908.23 1641.14 1906.4 1637.6 Q1904.6 1634.04 1900.96 1634.04 M1900.96 1630.33 Q1906.77 1630.33 1909.83 1634.94 Q1912.91 1639.52 1912.91 1648.27 Q1912.91 1657 1909.83 1661.6 Q1906.77 1666.19 1900.96 1666.19 Q1895.15 1666.19 1892.08 1661.6 Q1889.02 1657 1889.02 1648.27 Q1889.02 1639.52 1892.08 1634.94 Q1895.15 1630.33 1900.96 1630.33 Z\" fill=\"#000000\" fill-rule=\"nonzero\" fill-opacity=\"1\" /><path clip-path=\"url(#clip060)\" d=\"M1892.01 1338.75 L1910.36 1338.75 L1910.36 1342.68 L1896.29 1342.68 L1896.29 1351.15 Q1897.31 1350.81 1898.33 1350.65 Q1899.34 1350.46 1900.36 1350.46 Q1906.15 1350.46 1909.53 1353.63 Q1912.91 1356.8 1912.91 1362.22 Q1912.91 1367.8 1909.44 1370.9 Q1905.96 1373.98 1899.64 1373.98 Q1897.47 1373.98 1895.2 1373.61 Q1892.95 1373.24 1890.55 1372.5 L1890.55 1367.8 Q1892.63 1368.93 1894.85 1369.49 Q1897.08 1370.04 1899.55 1370.04 Q1903.56 1370.04 1905.89 1367.94 Q1908.23 1365.83 1908.23 1362.22 Q1908.23 1358.61 1905.89 1356.5 Q1903.56 1354.4 1899.55 1354.4 Q1897.68 1354.4 1895.8 1354.81 Q1893.95 1355.23 1892.01 1356.11 L1892.01 1338.75 Z\" fill=\"#000000\" fill-rule=\"nonzero\" fill-opacity=\"1\" /><path clip-path=\"url(#clip060)\" d=\"M1861.61 1077.16 L1869.25 1077.16 L1869.25 1050.8 L1860.94 1052.46 L1860.94 1048.2 L1869.2 1046.54 L1873.88 1046.54 L1873.88 1077.16 L1881.52 1077.16 L1881.52 1081.1 L1861.61 1081.1 L1861.61 1077.16 Z\" fill=\"#000000\" fill-rule=\"nonzero\" fill-opacity=\"1\" /><path clip-path=\"url(#clip060)\" d=\"M1900.96 1049.62 Q1897.35 1049.62 1895.52 1053.18 Q1893.72 1056.72 1893.72 1063.85 Q1893.72 1070.96 1895.52 1074.52 Q1897.35 1078.07 1900.96 1078.07 Q1904.6 1078.07 1906.4 1074.52 Q1908.23 1070.96 1908.23 1063.85 Q1908.23 1056.72 1906.4 1053.18 Q1904.6 1049.62 1900.96 1049.62 M1900.96 1045.91 Q1906.77 1045.91 1909.83 1050.52 Q1912.91 1055.1 1912.91 1063.85 Q1912.91 1072.58 1909.83 1077.19 Q1906.77 1081.77 1900.96 1081.77 Q1895.15 1081.77 1892.08 1077.19 Q1889.02 1072.58 1889.02 1063.85 Q1889.02 1055.1 1892.08 1050.52 Q1895.15 1045.91 1900.96 1045.91 Z\" fill=\"#000000\" fill-rule=\"nonzero\" fill-opacity=\"1\" /><path clip-path=\"url(#clip060)\" d=\"M1862.61 784.953 L1870.25 784.953 L1870.25 758.587 L1861.94 760.254 L1861.94 755.995 L1870.2 754.328 L1874.88 754.328 L1874.88 784.953 L1882.52 784.953 L1882.52 788.888 L1862.61 788.888 L1862.61 784.953 Z\" fill=\"#000000\" fill-rule=\"nonzero\" fill-opacity=\"1\" /><path clip-path=\"url(#clip060)\" d=\"M1892.01 754.328 L1910.36 754.328 L1910.36 758.263 L1896.29 758.263 L1896.29 766.735 Q1897.31 766.388 1898.33 766.226 Q1899.34 766.041 1900.36 766.041 Q1906.15 766.041 1909.53 769.212 Q1912.91 772.384 1912.91 777.8 Q1912.91 783.379 1909.44 786.481 Q1905.96 789.559 1899.64 789.559 Q1897.47 789.559 1895.2 789.189 Q1892.95 788.819 1890.55 788.078 L1890.55 783.379 Q1892.63 784.513 1894.85 785.069 Q1897.08 785.624 1899.55 785.624 Q1903.56 785.624 1905.89 783.518 Q1908.23 781.411 1908.23 777.8 Q1908.23 774.189 1905.89 772.083 Q1903.56 769.976 1899.55 769.976 Q1897.68 769.976 1895.8 770.393 Q1893.95 770.81 1892.01 771.689 L1892.01 754.328 Z\" fill=\"#000000\" fill-rule=\"nonzero\" fill-opacity=\"1\" /><path clip-path=\"url(#clip060)\" d=\"M1864.83 492.743 L1881.15 492.743 L1881.15 496.679 L1859.21 496.679 L1859.21 492.743 Q1861.87 489.989 1866.45 485.359 Q1871.06 480.706 1872.24 479.364 Q1874.48 476.841 1875.36 475.105 Q1876.27 473.345 1876.27 471.656 Q1876.27 468.901 1874.32 467.165 Q1872.4 465.429 1869.3 465.429 Q1867.1 465.429 1864.64 466.193 Q1862.21 466.957 1859.44 468.507 L1859.44 463.785 Q1862.26 462.651 1864.71 462.072 Q1867.17 461.494 1869.2 461.494 Q1874.58 461.494 1877.77 464.179 Q1880.96 466.864 1880.96 471.355 Q1880.96 473.484 1880.15 475.406 Q1879.37 477.304 1877.26 479.896 Q1876.68 480.568 1873.58 483.785 Q1870.48 486.98 1864.83 492.743 Z\" fill=\"#000000\" fill-rule=\"nonzero\" fill-opacity=\"1\" /><path clip-path=\"url(#clip060)\" d=\"M1900.96 465.197 Q1897.35 465.197 1895.52 468.762 Q1893.72 472.304 1893.72 479.433 Q1893.72 486.54 1895.52 490.105 Q1897.35 493.646 1900.96 493.646 Q1904.6 493.646 1906.4 490.105 Q1908.23 486.54 1908.23 479.433 Q1908.23 472.304 1906.4 468.762 Q1904.6 465.197 1900.96 465.197 M1900.96 461.494 Q1906.77 461.494 1909.83 466.1 Q1912.91 470.683 1912.91 479.433 Q1912.91 488.16 1909.83 492.767 Q1906.77 497.35 1900.96 497.35 Q1895.15 497.35 1892.08 492.767 Q1889.02 488.16 1889.02 479.433 Q1889.02 470.683 1892.08 466.1 Q1895.15 461.494 1900.96 461.494 Z\" fill=\"#000000\" fill-rule=\"nonzero\" fill-opacity=\"1\" /><path clip-path=\"url(#clip060)\" d=\"M1865.83 200.534 L1882.14 200.534 L1882.14 204.469 L1860.2 204.469 L1860.2 200.534 Q1862.86 197.779 1867.45 193.15 Q1872.05 188.497 1873.23 187.154 Q1875.48 184.631 1876.36 182.895 Q1877.26 181.136 1877.26 179.446 Q1877.26 176.691 1875.32 174.955 Q1873.39 173.219 1870.29 173.219 Q1868.09 173.219 1865.64 173.983 Q1863.21 174.747 1860.43 176.298 L1860.43 171.576 Q1863.26 170.441 1865.71 169.863 Q1868.16 169.284 1870.2 169.284 Q1875.57 169.284 1878.77 171.969 Q1881.96 174.654 1881.96 179.145 Q1881.96 181.275 1881.15 183.196 Q1880.36 185.094 1878.26 187.687 Q1877.68 188.358 1874.58 191.576 Q1871.47 194.77 1865.83 200.534 Z\" fill=\"#000000\" fill-rule=\"nonzero\" fill-opacity=\"1\" /><path clip-path=\"url(#clip060)\" d=\"M1892.01 169.909 L1910.36 169.909 L1910.36 173.844 L1896.29 173.844 L1896.29 182.316 Q1897.31 181.969 1898.33 181.807 Q1899.34 181.622 1900.36 181.622 Q1906.15 181.622 1909.53 184.793 Q1912.91 187.964 1912.91 193.381 Q1912.91 198.96 1909.44 202.062 Q1905.96 205.14 1899.64 205.14 Q1897.47 205.14 1895.2 204.77 Q1892.95 204.4 1890.55 203.659 L1890.55 198.96 Q1892.63 200.094 1894.85 200.65 Q1897.08 201.205 1899.55 201.205 Q1903.56 201.205 1905.89 199.099 Q1908.23 196.992 1908.23 193.381 Q1908.23 189.77 1905.89 187.664 Q1903.56 185.557 1899.55 185.557 Q1897.68 185.557 1895.8 185.974 Q1893.95 186.39 1892.01 187.27 L1892.01 169.909 Z\" fill=\"#000000\" fill-rule=\"nonzero\" fill-opacity=\"1\" /><path clip-path=\"url(#clip060)\" d=\"M2529.54 72.576 L2506.45 12.096 L2515 12.096 L2534.16 63.0159 L2553.36 12.096 L2561.86 12.096 L2538.81 72.576 L2529.54 72.576 Z\" fill=\"#000000\" fill-rule=\"nonzero\" fill-opacity=\"1\" /><path clip-path=\"url(#clip060)\" d=\"M2584.55 49.7694 Q2575.52 49.7694 2572.03 51.8354 Q2568.55 53.9013 2568.55 58.8839 Q2568.55 62.8538 2571.14 65.2034 Q2573.77 67.5124 2578.27 67.5124 Q2584.47 67.5124 2588.2 63.1374 Q2591.96 58.7219 2591.96 51.4303 L2591.96 49.7694 L2584.55 49.7694 M2599.42 46.6907 L2599.42 72.576 L2591.96 72.576 L2591.96 65.6895 Q2589.41 69.8214 2585.6 71.8063 Q2581.79 73.7508 2576.29 73.7508 Q2569.32 73.7508 2565.19 69.8619 Q2561.09 65.9325 2561.09 59.3701 Q2561.09 51.7138 2566.2 47.825 Q2571.34 43.9361 2581.51 43.9361 L2591.96 43.9361 L2591.96 43.2069 Q2591.96 38.0623 2588.56 35.2672 Q2585.2 32.4315 2579.08 32.4315 Q2575.19 32.4315 2571.51 33.3632 Q2567.82 34.295 2564.42 36.1584 L2564.42 29.2718 Q2568.51 27.692 2572.36 26.9223 Q2576.2 26.1121 2579.85 26.1121 Q2589.69 26.1121 2594.56 31.2163 Q2599.42 36.3204 2599.42 46.6907 Z\" fill=\"#000000\" fill-rule=\"nonzero\" fill-opacity=\"1\" /><path clip-path=\"url(#clip060)\" d=\"M2641.06 34.1734 Q2639.8 33.4443 2638.31 33.1202 Q2636.85 32.7556 2635.06 32.7556 Q2628.74 32.7556 2625.34 36.8875 Q2621.98 40.9789 2621.98 48.6757 L2621.98 72.576 L2614.49 72.576 L2614.49 27.2059 L2621.98 27.2059 L2621.98 34.2544 Q2624.33 30.1225 2628.1 28.1376 Q2631.86 26.1121 2637.25 26.1121 Q2638.02 26.1121 2638.95 26.2337 Q2639.88 26.3147 2641.02 26.5172 L2641.06 34.1734 Z\" fill=\"#000000\" fill-rule=\"nonzero\" fill-opacity=\"1\" /><path clip-path=\"url(#clip060)\" d=\"M2667.19 12.096 L2718.35 12.096 L2718.35 18.9825 L2696.88 18.9825 L2696.88 72.576 L2688.66 72.576 L2688.66 18.9825 L2667.19 18.9825 L2667.19 12.096 Z\" fill=\"#000000\" fill-rule=\"nonzero\" fill-opacity=\"1\" /><path clip-path=\"url(#clip060)\" d=\"M2707.86 27.2059 L2715.31 27.2059 L2724.63 62.6108 L2733.91 27.2059 L2742.7 27.2059 L2752.01 62.6108 L2761.29 27.2059 L2768.74 27.2059 L2756.88 72.576 L2748.08 72.576 L2738.32 35.3887 L2728.52 72.576 L2719.73 72.576 L2707.86 27.2059 Z\" fill=\"#000000\" fill-rule=\"nonzero\" fill-opacity=\"1\" /><path clip-path=\"url(#clip060)\" d=\"M2797.63 32.4315 Q2791.63 32.4315 2788.15 37.1306 Q2784.66 41.7891 2784.66 49.9314 Q2784.66 58.0738 2788.11 62.7728 Q2791.59 67.4314 2797.63 67.4314 Q2803.58 67.4314 2807.07 62.7323 Q2810.55 58.0333 2810.55 49.9314 Q2810.55 41.8701 2807.07 37.1711 Q2803.58 32.4315 2797.63 32.4315 M2797.63 26.1121 Q2807.35 26.1121 2812.9 32.4315 Q2818.45 38.7509 2818.45 49.9314 Q2818.45 61.0714 2812.9 67.4314 Q2807.35 73.7508 2797.63 73.7508 Q2787.86 73.7508 2782.31 67.4314 Q2776.81 61.0714 2776.81 49.9314 Q2776.81 38.7509 2782.31 32.4315 Q2787.86 26.1121 2797.63 26.1121 Z\" fill=\"#000000\" fill-rule=\"nonzero\" fill-opacity=\"1\" /><path clip-path=\"url(#clip060)\" d=\"M2865.68 18.8205 L2865.68 41.5461 L2875.97 41.5461 Q2881.68 41.5461 2884.8 38.5889 Q2887.92 35.6318 2887.92 30.163 Q2887.92 24.7348 2884.8 21.7777 Q2881.68 18.8205 2875.97 18.8205 L2865.68 18.8205 M2857.5 12.096 L2875.97 12.096 Q2886.14 12.096 2891.32 16.714 Q2896.55 21.2916 2896.55 30.163 Q2896.55 39.1155 2891.32 43.6931 Q2886.14 48.2706 2875.97 48.2706 L2865.68 48.2706 L2865.68 72.576 L2857.5 72.576 L2857.5 12.096 Z\" fill=\"#000000\" fill-rule=\"nonzero\" fill-opacity=\"1\" /><path clip-path=\"url(#clip060)\" d=\"M2921.83 32.4315 Q2915.83 32.4315 2912.35 37.1306 Q2908.86 41.7891 2908.86 49.9314 Q2908.86 58.0738 2912.31 62.7728 Q2915.79 67.4314 2921.83 67.4314 Q2927.78 67.4314 2931.27 62.7323 Q2934.75 58.0333 2934.75 49.9314 Q2934.75 41.8701 2931.27 37.1711 Q2927.78 32.4315 2921.83 32.4315 M2921.83 26.1121 Q2931.55 26.1121 2937.1 32.4315 Q2942.65 38.7509 2942.65 49.9314 Q2942.65 61.0714 2937.1 67.4314 Q2931.55 73.7508 2921.83 73.7508 Q2912.07 73.7508 2906.52 67.4314 Q2901.01 61.0714 2901.01 49.9314 Q2901.01 38.7509 2906.52 32.4315 Q2912.07 26.1121 2921.83 26.1121 Z\" fill=\"#000000\" fill-rule=\"nonzero\" fill-opacity=\"1\" /><path clip-path=\"url(#clip060)\" d=\"M2972.59 32.4315 Q2966.59 32.4315 2963.11 37.1306 Q2959.62 41.7891 2959.62 49.9314 Q2959.62 58.0738 2963.07 62.7728 Q2966.55 67.4314 2972.59 67.4314 Q2978.54 67.4314 2982.02 62.7323 Q2985.51 58.0333 2985.51 49.9314 Q2985.51 41.8701 2982.02 37.1711 Q2978.54 32.4315 2972.59 32.4315 M2972.59 26.1121 Q2982.31 26.1121 2987.86 32.4315 Q2993.41 38.7509 2993.41 49.9314 Q2993.41 61.0714 2987.86 67.4314 Q2982.31 73.7508 2972.59 73.7508 Q2962.82 73.7508 2957.27 67.4314 Q2951.76 61.0714 2951.76 49.9314 Q2951.76 38.7509 2957.27 32.4315 Q2962.82 26.1121 2972.59 26.1121 Z\" fill=\"#000000\" fill-rule=\"nonzero\" fill-opacity=\"1\" /><path clip-path=\"url(#clip060)\" d=\"M3005.76 9.54393 L3013.22 9.54393 L3013.22 72.576 L3005.76 72.576 L3005.76 9.54393 Z\" fill=\"#000000\" fill-rule=\"nonzero\" fill-opacity=\"1\" /><polyline clip-path=\"url(#clip063)\" style=\"stroke:#009af9; stroke-linecap:round; stroke-linejoin:round; stroke-width:4; stroke-opacity:1; fill:none\" points=\"2011.79,1648.24 2019.27,1560.55 2026.75,1474.98 2034.23,1396.15 2041.71,1322.9 2049.19,1253.41 2056.67,1186.05 2064.15,1123.79 2071.63,1066.26 2071.63,1066.26 2079.11,1008.8 2079.11,1008.8 2086.6,957.105 2086.6,957.105 2094.08,908.526 2094.08,908.526 2101.56,860.393 2109.04,818.217 2116.52,779.856 2124,743.246 2131.48,708.551 2138.96,675.299 2138.96,675.299 2146.44,642.817 2146.44,642.817 2153.92,611.978 2153.92,611.978 2161.4,585.978 2161.4,585.978 2168.88,560.152 2168.88,560.152 2176.36,534.145 2176.36,534.145 2183.84,512.861 2183.84,512.861 2191.32,492.614 2191.32,492.614 2198.8,468.848 2198.8,468.848 2206.28,445.823 2206.28,445.823 2213.76,424.188 2213.76,424.188 2221.24,405.27 2221.24,405.27 2228.72,382.934 2228.72,382.934 2236.2,368.108 2236.2,368.108 2243.68,354.524 2243.68,354.524 2251.16,339.524 2251.16,339.524 2258.64,327.401 2258.64,327.401 2266.12,316.825 2266.12,316.825 2273.61,303.972 2273.61,303.972 2281.09,292.372 2281.09,292.372 2288.57,279.034 2288.57,279.034 2296.05,272.82 2296.05,272.82 2303.53,264.125 2303.53,264.125 2311.01,260.94 2311.01,260.94 2318.49,252.336 2318.49,252.336 2325.97,245.294 2325.97,245.294 2333.45,235.205 2333.45,235.205 2340.93,226.969 2348.41,219.367 2355.89,212.735 2363.37,205.684 2363.37,205.684 2370.85,200.097 2370.85,200.097 2378.33,193.261 2378.33,193.261 2385.81,187.637 2385.81,187.637 2393.29,179.487 2393.29,179.487 2400.77,174.648 2400.77,174.648 2408.25,172.101 2408.25,172.101 2415.73,167.608 2415.73,167.608 2423.21,165.442 2423.21,165.442 2430.69,159.32 2430.69,159.32 2438.17,160.751 2438.17,160.751 2445.65,158.79 2445.65,158.79 2453.14,153.935 2453.14,153.935 2460.62,155.73 2460.62,155.73 2468.1,154.509 2468.1,154.509 2475.58,153.203 2475.58,153.203 2483.06,157.146 2483.06,157.146 2490.54,155.775 2490.54,155.775 2498.02,155.616 2498.02,155.616 2505.5,154.252 2505.5,154.252 2512.98,156.996 2512.98,156.996 2520.46,155.235 2520.46,155.235 2527.94,153.521 2527.94,153.521 2535.42,154.366 2535.42,154.366 2542.9,154.841 2542.9,154.841 2550.38,155.696 2550.38,155.696 2557.86,156.29 2557.86,156.29 2565.34,162.697 2565.34,162.697 2572.82,161.491 2572.82,161.491 2580.3,160.763 2580.3,160.763 2587.78,160.75 2587.78,160.75 2595.26,161.981 2595.26,161.981 2602.74,167.754 2602.74,167.754 2610.22,171.199 2610.22,171.199 2617.7,170.907 2617.7,170.907 2625.18,168.792 2625.18,168.792 2632.67,167.563 2632.67,167.563 2640.15,170.738 2640.15,170.738 2647.63,178.613 2647.63,178.613 2655.11,179.496 2655.11,179.496 2662.59,183.274 2662.59,183.274 2670.07,179.314 2670.07,179.314 2677.55,180.249 2677.55,180.249 2685.03,184.705 2685.03,184.705 2692.51,184.252 2692.51,184.252 2699.99,183.889 2699.99,183.889 2707.47,184.881 2707.47,184.881 2714.95,190.063 2714.95,190.063 2722.43,192.704 2722.43,192.704 2729.91,195.249 2729.91,195.249 2737.39,199.645 2737.39,199.645 2744.87,203.303 2744.87,203.303 2752.35,204.116 2752.35,204.116 2759.83,205.336 2759.83,205.336 2767.31,205.285 2767.31,205.285 2774.79,205.446 2774.79,205.446 2782.27,210.007 2782.27,210.007 2789.75,212.879 2789.75,212.879 2797.23,211.919 2797.23,211.919 2804.71,215.089 2804.71,215.089 2812.2,221.692 2812.2,221.692 2819.68,226.859 2819.68,226.859 2827.16,228.034 2827.16,228.034 2834.64,235.756 2834.64,235.756 2842.12,238.44 2842.12,238.44 2849.6,242.6 2849.6,242.6 2857.08,246.173 2857.08,246.173 2864.56,250.507 2864.56,250.507 2872.04,253.301 2872.04,253.301 2879.52,258.079 2879.52,258.079 2887,264.021 2887,264.021 2894.48,268.278 2894.48,268.278 2901.96,271.328 2901.96,271.328 2909.44,274.268 2909.44,274.268 2916.92,276.58 2916.92,276.58 2924.4,278.728 2924.4,278.728 2931.88,282.628 2931.88,282.628 2939.36,287.858 2939.36,287.858 2946.84,290.181 2946.84,290.181 2954.32,296.499 2954.32,296.499 2961.8,299.963 2961.8,299.963 2969.28,304.498 2969.28,304.498 2976.76,309.263 2976.76,309.263 2984.24,314.04 2984.24,314.04 2991.72,316.846 2991.72,316.846 2999.21,321.402 2999.21,321.402 3006.69,328.076 3006.69,328.076 3014.17,330.583 3014.17,330.583 3021.65,334.442 3021.65,334.442 3029.13,340.993 3029.13,340.993 3036.61,343.684 3036.61,343.684 3044.09,350.27 3044.09,350.27 3051.57,354.297 3051.57,354.297 3059.05,359.378 3059.05,359.378 3066.53,362.524 3066.53,362.524 3074.01,366.655 3074.01,366.655 3081.49,371.447 3081.49,371.447 3088.97,376.134 3088.97,376.134 3096.45,379.508 3096.45,379.508 3103.93,379.54 3103.93,379.54 3111.41,385.057 3111.41,385.057 3118.89,388.593 3118.89,388.593 3126.37,392.77 3126.37,392.77 3133.85,397.617 3133.85,397.617 3141.33,403.04 3141.33,403.04 3148.81,405.67 3148.81,405.67 3156.29,410.335 3156.29,410.335 3163.77,416.737 3163.77,416.737 3171.25,423.235 3171.25,423.235 3178.74,426.82 3178.74,426.82 3186.22,430.801 3186.22,430.801 3193.7,437.823 3193.7,437.823 3201.18,445.662 3201.18,445.662 3208.66,451.682 3208.66,451.682 3216.14,454.217 3216.14,454.217 3223.62,457.686 3223.62,457.686 3231.1,461.302 3231.1,461.302 3238.58,465.44 3238.58,465.44 3246.06,469.231 3246.06,469.231 3253.54,472.961 3253.54,472.961 3261.02,478.492 3261.02,478.492 3268.5,482.437 3268.5,482.437 3275.98,486.108 3275.98,486.108 3283.46,492.032 3283.46,492.032 3290.94,495.446 3290.94,495.446 3298.42,500.911 3298.42,500.911 3305.9,502.216 3305.9,502.216 3313.38,508.327 3313.38,508.327 3320.86,515.717 3320.86,515.717 3328.34,522.776 3328.34,522.776 3335.82,529.311 3335.82,529.311 3343.3,532.076 3343.3,532.076 3350.78,535.085 3350.78,535.085 3358.27,539.885 3358.27,539.885 3365.75,544.635 3365.75,544.635 3373.23,550.432 3373.23,550.432 3380.71,553.642 3380.71,553.642 3388.19,559.916 3388.19,559.916 3395.67,566.34 3395.67,566.34 3403.15,569.68 3403.15,569.68 3410.63,575.365 3410.63,575.365 3418.11,579.739 3418.11,579.739 3425.59,584.097 3433.07,590.17 3440.55,595.344 3448.03,599.76 3448.03,599.76 3455.51,605.692 3455.51,605.692 3462.99,612.538 3462.99,612.538 3470.47,616.762 3470.47,616.762 3477.95,622.364 3477.95,622.364 3485.43,627.606 3485.43,627.606 3492.91,632.607 3492.91,632.607 3500.39,640.007 3500.39,640.007 3507.87,643.84 \"/>\n",
       "<polyline clip-path=\"url(#clip063)\" style=\"stroke:#e26f46; stroke-linecap:round; stroke-linejoin:round; stroke-width:4; stroke-opacity:1; fill:none\" points=\"2011.79,1648.24 2019.27,1589.42 2019.27,1610.66 2026.75,1553.45 2026.75,1563.4 2034.23,1510.4 2034.23,1515.56 2041.71,1465.45 2041.71,1468.59 2049.19,1420.79 2049.19,1422.61 2056.67,1377.11 2056.67,1378.23 2064.15,1336.11 2064.15,1336.94 2071.63,1299.54 2079.11,1261.85 2086.6,1228.35 2094.08,1198.28 2101.56,1168.37 2101.56,1168.48 2109.04,1142.56 2109.04,1142.68 2116.52,1117.73 2116.52,1117.74 2124,1094.72 2124,1094.78 2131.48,1072.76 2131.48,1072.79 2138.96,1053.94 2138.96,1053.97 2146.44,1034.25 2146.44,1034.25 2153.92,1018.2 2153.92,1018.2 2161.4,1001.46 2161.4,1001.46 2168.88,987.437 2168.88,987.444 2176.36,971.165 2176.36,971.166 2183.84,958.536 2183.84,958.544 2191.32,947.098 2191.32,947.098 2198.8,937.083 2198.8,937.083 2206.28,924.93 2206.28,924.93 2213.76,915.533 2213.76,915.533 2221.24,904.363 2221.24,904.363 2228.72,892.058 2228.72,892.058 2236.2,884.63 2236.2,884.63 2243.68,877.711 2243.68,877.712 2251.16,867.799 2251.16,867.799 2258.64,863.031 2258.64,863.031 2266.12,859.019 2266.12,859.019 2273.61,851.193 2273.61,851.193 2281.09,845.251 2281.09,845.251 2288.57,841.575 2288.57,841.575 2296.05,840.405 2296.05,840.405 2303.53,837.944 2303.53,837.944 2311.01,838.602 2311.01,838.602 2318.49,836.335 2318.49,836.335 2325.97,832.707 2325.97,832.707 2333.45,829.533 2333.45,829.533 2340.93,827.279 2348.41,823.081 2355.89,824.525 2363.37,821.928 2363.37,821.928 2370.85,821.743 2370.85,821.743 2378.33,820.069 2378.33,820.069 2385.81,817.67 2385.81,817.67 2393.29,817.483 2393.29,817.483 2400.77,816.662 2400.77,816.662 2408.25,816.421 2408.25,816.421 2415.73,817.907 2415.73,817.907 2423.21,817.843 2423.21,817.843 2430.69,816.706 2430.69,816.706 2438.17,819.619 2438.17,819.619 2445.65,820.927 2445.65,820.927 2453.14,819.264 2453.14,819.264 2460.62,822.166 2460.62,822.166 2468.1,823.857 2468.1,823.857 2475.58,827.125 2475.58,827.125 2483.06,831.42 2483.06,831.42 2490.54,833.685 2490.54,833.685 2498.02,833.59 2498.02,833.59 2505.5,834.943 2505.5,834.943 2512.98,836.726 2512.98,836.726 2520.46,838.521 2520.46,838.521 2527.94,839.767 2527.94,839.767 2535.42,842.688 2535.42,842.688 2542.9,845.562 2542.9,845.562 2550.38,849.221 2550.38,849.221 2557.86,850.278 2557.86,850.278 2565.34,854.191 2565.34,854.191 2572.82,856.518 2572.82,856.518 2580.3,858.714 2580.3,858.714 2587.78,861.823 2587.78,861.823 2595.26,865.125 2595.26,865.125 2602.74,868.074 2602.74,868.074 2610.22,871.852 2610.22,871.852 2617.7,874.438 2617.7,874.438 2625.18,875.133 2625.18,875.133 2632.67,876.838 2632.67,876.838 2640.15,880.779 2640.15,880.779 2647.63,883.57 2647.63,883.57 2655.11,887.261 2655.11,887.261 2662.59,893.017 2662.59,893.017 2670.07,893.012 2670.07,893.012 2677.55,896.834 2677.55,896.834 2685.03,899.068 2685.03,899.068 2692.51,903.486 2692.51,903.486 2699.99,909.359 2699.99,909.359 2707.47,911.445 2707.47,911.445 2714.95,915.154 2714.95,915.154 2722.43,917.145 2722.43,917.145 2729.91,920.751 2729.91,920.751 2737.39,925.057 2737.39,925.057 2744.87,928.428 2744.87,928.428 2752.35,931.629 2752.35,931.629 2759.83,932.804 2759.83,932.804 2767.31,934.692 2767.31,934.692 2774.79,938.474 2774.79,938.474 2782.27,939.296 2782.27,939.296 2789.75,943.665 2789.75,943.665 2797.23,945.243 2797.23,945.243 2804.71,948.617 2804.71,948.617 2812.2,952.931 2812.2,952.931 2819.68,957.583 2819.68,957.583 2827.16,959.159 2827.16,959.159 2834.64,963.175 2834.64,963.175 2842.12,965.855 2842.12,965.855 2849.6,968.368 2849.6,968.368 2857.08,973.687 2857.08,973.687 2864.56,976.673 2864.56,976.673 2872.04,980.815 2872.04,980.815 2879.52,984.694 2879.52,984.694 2887,988.062 2887,988.062 2894.48,992.736 2894.48,992.736 2901.96,994.018 2901.96,994.018 2909.44,999.533 2909.44,999.533 2916.92,1002.59 2916.92,1002.59 2924.4,1003.92 2924.4,1003.92 2931.88,1008.02 2931.88,1008.02 2939.36,1013.33 2939.36,1013.33 2946.84,1014.83 2946.84,1014.83 2954.32,1019.9 2954.32,1019.9 2961.8,1023.25 2961.8,1023.25 2969.28,1026.1 2969.28,1026.1 2976.76,1029.57 2976.76,1029.57 2984.24,1033.21 2984.24,1033.21 2991.72,1035.91 2991.72,1035.91 2999.21,1037.54 2999.21,1037.54 3006.69,1040.7 3006.69,1040.7 3014.17,1044.73 3014.17,1044.73 3021.65,1047.35 3021.65,1047.35 3029.13,1049.92 3029.13,1049.92 3036.61,1052.76 3036.61,1052.76 3044.09,1057.31 3044.09,1057.31 3051.57,1060.7 3051.57,1060.7 3059.05,1064.15 3059.05,1064.15 3066.53,1066.83 3066.53,1066.83 3074.01,1069.31 3074.01,1069.31 3081.49,1074.94 3081.49,1074.94 3088.97,1076.29 3088.97,1076.29 3096.45,1078.84 3096.45,1078.84 3103.93,1082.23 3103.93,1082.23 3111.41,1086.68 3111.41,1086.68 3118.89,1089.92 3118.89,1089.92 3126.37,1092.68 3126.37,1092.68 3133.85,1095.13 3133.85,1095.13 3141.33,1097.66 3141.33,1097.66 3148.81,1101.7 3148.81,1101.7 3156.29,1103.39 3156.29,1103.39 3163.77,1105.36 3163.77,1105.36 3171.25,1109.91 3171.25,1109.91 3178.74,1112.05 3178.74,1112.05 3186.22,1115.66 3186.22,1115.66 3193.7,1117.99 3193.7,1117.99 3201.18,1121.91 3201.18,1121.91 3208.66,1125.88 3208.66,1125.88 3216.14,1127.68 3216.14,1127.68 3223.62,1130.95 3223.62,1130.95 3231.1,1132.93 3231.1,1132.93 3238.58,1135.21 3238.58,1135.21 3246.06,1137.56 3246.06,1137.56 3253.54,1140.81 3253.54,1140.81 3261.02,1144.27 3261.02,1144.27 3268.5,1145.22 3268.5,1145.22 3275.98,1148.54 3275.98,1148.54 3283.46,1152.86 3283.46,1152.86 3290.94,1155.33 3290.94,1155.33 3298.42,1157.37 3298.42,1157.37 3305.9,1160.35 3305.9,1160.35 3313.38,1163.27 3313.38,1163.27 3320.86,1165.85 3320.86,1165.85 3328.34,1168.43 3328.34,1168.43 3335.82,1171.63 3335.82,1171.63 3343.3,1173.76 3343.3,1173.76 3350.78,1176.25 3350.78,1176.25 3358.27,1179.6 3358.27,1179.6 3365.75,1181.53 3365.75,1181.53 3373.23,1184.24 3373.23,1184.24 3380.71,1187.02 3380.71,1187.02 3388.19,1188.66 3388.19,1188.66 3395.67,1192.71 3395.67,1192.71 3403.15,1194.01 3403.15,1194.01 3410.63,1196.79 3410.63,1196.79 3418.11,1200.3 3418.11,1200.3 3425.59,1203.53 3425.59,1203.59 3433.07,1204.46 3433.07,1204.49 3440.55,1208.11 3440.55,1208.21 3448.03,1210.99 3448.03,1211.04 3455.51,1214.17 3455.51,1214.18 3462.99,1216.73 3462.99,1216.77 3470.47,1218.68 3470.47,1218.7 3477.95,1220.32 3477.95,1220.35 3485.43,1223.17 3485.43,1223.26 3492.91,1225.12 3492.91,1225.17 3500.39,1228.36 3500.39,1228.44 3507.87,1230.35 3507.87,1230.43 \"/>\n",
       "<path clip-path=\"url(#clip060)\" d=\"M3288.88 1640.26 L3499.89 1640.26 L3499.89 1484.74 L3288.88 1484.74  Z\" fill=\"#ffffff\" fill-rule=\"evenodd\" fill-opacity=\"1\"/>\n",
       "<polyline clip-path=\"url(#clip060)\" style=\"stroke:#000000; stroke-linecap:round; stroke-linejoin:round; stroke-width:4; stroke-opacity:1; fill:none\" points=\"3288.88,1640.26 3499.89,1640.26 3499.89,1484.74 3288.88,1484.74 3288.88,1640.26 \"/>\n",
       "<polyline clip-path=\"url(#clip060)\" style=\"stroke:#009af9; stroke-linecap:round; stroke-linejoin:round; stroke-width:4; stroke-opacity:1; fill:none\" points=\"3306.5,1536.58 3412.22,1536.58 \"/>\n",
       "<path clip-path=\"url(#clip060)\" d=\"M3443.69 1556.27 Q3441.88 1560.9 3440.17 1562.31 Q3438.45 1563.72 3435.58 1563.72 L3432.18 1563.72 L3432.18 1560.16 L3434.68 1560.16 Q3436.44 1560.16 3437.41 1559.33 Q3438.39 1558.49 3439.57 1555.39 L3440.33 1553.45 L3429.84 1527.94 L3434.36 1527.94 L3442.46 1548.22 L3450.56 1527.94 L3455.07 1527.94 L3443.69 1556.27 Z\" fill=\"#000000\" fill-rule=\"nonzero\" fill-opacity=\"1\" /><path clip-path=\"url(#clip060)\" d=\"M3462.37 1549.93 L3470.01 1549.93 L3470.01 1523.56 L3461.7 1525.23 L3461.7 1520.97 L3469.96 1519.3 L3474.63 1519.3 L3474.63 1549.93 L3482.27 1549.93 L3482.27 1553.86 L3462.37 1553.86 L3462.37 1549.93 Z\" fill=\"#000000\" fill-rule=\"nonzero\" fill-opacity=\"1\" /><polyline clip-path=\"url(#clip060)\" style=\"stroke:#e26f46; stroke-linecap:round; stroke-linejoin:round; stroke-width:4; stroke-opacity:1; fill:none\" points=\"3306.5,1588.42 3412.22,1588.42 \"/>\n",
       "<path clip-path=\"url(#clip060)\" d=\"M3443.69 1608.11 Q3441.88 1612.74 3440.17 1614.15 Q3438.45 1615.56 3435.58 1615.56 L3432.18 1615.56 L3432.18 1612 L3434.68 1612 Q3436.44 1612 3437.41 1611.17 Q3438.39 1610.33 3439.57 1607.23 L3440.33 1605.29 L3429.84 1579.78 L3434.36 1579.78 L3442.46 1600.06 L3450.56 1579.78 L3455.07 1579.78 L3443.69 1608.11 Z\" fill=\"#000000\" fill-rule=\"nonzero\" fill-opacity=\"1\" /><path clip-path=\"url(#clip060)\" d=\"M3465.58 1601.77 L3481.9 1601.77 L3481.9 1605.7 L3459.96 1605.7 L3459.96 1601.77 Q3462.62 1599.01 3467.2 1594.38 Q3471.81 1589.73 3472.99 1588.39 Q3475.24 1585.87 3476.12 1584.13 Q3477.02 1582.37 3477.02 1580.68 Q3477.02 1577.93 3475.07 1576.19 Q3473.15 1574.45 3470.05 1574.45 Q3467.85 1574.45 3465.4 1575.22 Q3462.97 1575.98 3460.19 1577.53 L3460.19 1572.81 Q3463.01 1571.68 3465.47 1571.1 Q3467.92 1570.52 3469.96 1570.52 Q3475.33 1570.52 3478.52 1573.2 Q3481.72 1575.89 3481.72 1580.38 Q3481.72 1582.51 3480.91 1584.43 Q3480.12 1586.33 3478.01 1588.92 Q3477.44 1589.59 3474.33 1592.81 Q3471.23 1596 3465.58 1601.77 Z\" fill=\"#000000\" fill-rule=\"nonzero\" fill-opacity=\"1\" /></svg>\n"
      ]
     },
     "execution_count": 12,
     "metadata": {},
     "output_type": "execute_result"
    }
   ],
   "source": [
    "# plot ground truth\n",
    "p_twopool_mean = plot(sol.u[1].t,truemean',title = \"Mean Two Pool\")\n",
    "p_twopool_var = plot(sol.u[1].t,truevar', title = \"Var Two Pool\")\n",
    "\n",
    "plot(\n",
    "    p_twopool_mean,\n",
    "    p_twopool_var,\n",
    "    layout = (1,2),\n",
    "    size = (900,450)\n",
    ")"
   ]
  },
  {
   "cell_type": "markdown",
   "id": "f02628f1",
   "metadata": {},
   "source": [
    "# Define NNs for Reaction Fluxes and Forward Simulate with SDE"
   ]
  },
  {
   "cell_type": "code",
   "execution_count": 13,
   "id": "80722bfd",
   "metadata": {},
   "outputs": [
    {
     "name": "stderr",
     "output_type": "stream",
     "text": [
      "\u001b[33m\u001b[1m┌ \u001b[22m\u001b[39m\u001b[33m\u001b[1mWarning: \u001b[22m\u001b[39mFastChain is being deprecated in favor of Lux.jl. Lux.jl uses functions with explicit parameters f(u,p) like FastChain, but is fully featured and documented machine learning library. See the Lux.jl documentation for more details.\n",
      "\u001b[33m\u001b[1m└ \u001b[22m\u001b[39m\u001b[90m@ DiffEqFlux ~/.julia/packages/DiffEqFlux/jHIee/src/fast_layers.jl:9\u001b[39m\n"
     ]
    },
    {
     "data": {
      "image/svg+xml": [
       "<?xml version=\"1.0\" encoding=\"utf-8\"?>\n",
       "<svg xmlns=\"http://www.w3.org/2000/svg\" xmlns:xlink=\"http://www.w3.org/1999/xlink\" width=\"600\" height=\"400\" viewBox=\"0 0 2400 1600\">\n",
       "<defs>\n",
       "  <clipPath id=\"clip100\">\n",
       "    <rect x=\"0\" y=\"0\" width=\"2400\" height=\"1600\"/>\n",
       "  </clipPath>\n",
       "</defs>\n",
       "<path clip-path=\"url(#clip100)\" d=\"M0 1600 L2400 1600 L2400 0 L0 0  Z\" fill=\"#ffffff\" fill-rule=\"evenodd\" fill-opacity=\"1\"/>\n",
       "<defs>\n",
       "  <clipPath id=\"clip101\">\n",
       "    <rect x=\"480\" y=\"0\" width=\"1681\" height=\"1600\"/>\n",
       "  </clipPath>\n",
       "</defs>\n",
       "<path clip-path=\"url(#clip100)\" d=\"M199.283 1486.45 L2352.76 1486.45 L2352.76 47.2441 L199.283 47.2441  Z\" fill=\"#ffffff\" fill-rule=\"evenodd\" fill-opacity=\"1\"/>\n",
       "<defs>\n",
       "  <clipPath id=\"clip102\">\n",
       "    <rect x=\"199\" y=\"47\" width=\"2154\" height=\"1440\"/>\n",
       "  </clipPath>\n",
       "</defs>\n",
       "<polyline clip-path=\"url(#clip102)\" style=\"stroke:#000000; stroke-linecap:round; stroke-linejoin:round; stroke-width:2; stroke-opacity:0.1; fill:none\" points=\"260.231,1486.45 260.231,47.2441 \"/>\n",
       "<polyline clip-path=\"url(#clip102)\" style=\"stroke:#000000; stroke-linecap:round; stroke-linejoin:round; stroke-width:2; stroke-opacity:0.1; fill:none\" points=\"768.125,1486.45 768.125,47.2441 \"/>\n",
       "<polyline clip-path=\"url(#clip102)\" style=\"stroke:#000000; stroke-linecap:round; stroke-linejoin:round; stroke-width:2; stroke-opacity:0.1; fill:none\" points=\"1276.02,1486.45 1276.02,47.2441 \"/>\n",
       "<polyline clip-path=\"url(#clip102)\" style=\"stroke:#000000; stroke-linecap:round; stroke-linejoin:round; stroke-width:2; stroke-opacity:0.1; fill:none\" points=\"1783.91,1486.45 1783.91,47.2441 \"/>\n",
       "<polyline clip-path=\"url(#clip102)\" style=\"stroke:#000000; stroke-linecap:round; stroke-linejoin:round; stroke-width:2; stroke-opacity:0.1; fill:none\" points=\"2291.81,1486.45 2291.81,47.2441 \"/>\n",
       "<polyline clip-path=\"url(#clip100)\" style=\"stroke:#000000; stroke-linecap:round; stroke-linejoin:round; stroke-width:4; stroke-opacity:1; fill:none\" points=\"199.283,1486.45 2352.76,1486.45 \"/>\n",
       "<polyline clip-path=\"url(#clip100)\" style=\"stroke:#000000; stroke-linecap:round; stroke-linejoin:round; stroke-width:4; stroke-opacity:1; fill:none\" points=\"260.231,1486.45 260.231,1467.55 \"/>\n",
       "<polyline clip-path=\"url(#clip100)\" style=\"stroke:#000000; stroke-linecap:round; stroke-linejoin:round; stroke-width:4; stroke-opacity:1; fill:none\" points=\"768.125,1486.45 768.125,1467.55 \"/>\n",
       "<polyline clip-path=\"url(#clip100)\" style=\"stroke:#000000; stroke-linecap:round; stroke-linejoin:round; stroke-width:4; stroke-opacity:1; fill:none\" points=\"1276.02,1486.45 1276.02,1467.55 \"/>\n",
       "<polyline clip-path=\"url(#clip100)\" style=\"stroke:#000000; stroke-linecap:round; stroke-linejoin:round; stroke-width:4; stroke-opacity:1; fill:none\" points=\"1783.91,1486.45 1783.91,1467.55 \"/>\n",
       "<polyline clip-path=\"url(#clip100)\" style=\"stroke:#000000; stroke-linecap:round; stroke-linejoin:round; stroke-width:4; stroke-opacity:1; fill:none\" points=\"2291.81,1486.45 2291.81,1467.55 \"/>\n",
       "<path clip-path=\"url(#clip100)\" d=\"M237.615 1517.37 Q234.004 1517.37 232.175 1520.93 Q230.37 1524.47 230.37 1531.6 Q230.37 1538.71 232.175 1542.27 Q234.004 1545.82 237.615 1545.82 Q241.249 1545.82 243.055 1542.27 Q244.883 1538.71 244.883 1531.6 Q244.883 1524.47 243.055 1520.93 Q241.249 1517.37 237.615 1517.37 M237.615 1513.66 Q243.425 1513.66 246.481 1518.27 Q249.559 1522.85 249.559 1531.6 Q249.559 1540.33 246.481 1544.94 Q243.425 1549.52 237.615 1549.52 Q231.805 1549.52 228.726 1544.94 Q225.671 1540.33 225.671 1531.6 Q225.671 1522.85 228.726 1518.27 Q231.805 1513.66 237.615 1513.66 Z\" fill=\"#000000\" fill-rule=\"nonzero\" fill-opacity=\"1\" /><path clip-path=\"url(#clip100)\" d=\"M257.777 1542.97 L262.661 1542.97 L262.661 1548.85 L257.777 1548.85 L257.777 1542.97 Z\" fill=\"#000000\" fill-rule=\"nonzero\" fill-opacity=\"1\" /><path clip-path=\"url(#clip100)\" d=\"M282.846 1517.37 Q279.235 1517.37 277.406 1520.93 Q275.601 1524.47 275.601 1531.6 Q275.601 1538.71 277.406 1542.27 Q279.235 1545.82 282.846 1545.82 Q286.48 1545.82 288.286 1542.27 Q290.115 1538.71 290.115 1531.6 Q290.115 1524.47 288.286 1520.93 Q286.48 1517.37 282.846 1517.37 M282.846 1513.66 Q288.656 1513.66 291.712 1518.27 Q294.791 1522.85 294.791 1531.6 Q294.791 1540.33 291.712 1544.94 Q288.656 1549.52 282.846 1549.52 Q277.036 1549.52 273.957 1544.94 Q270.902 1540.33 270.902 1531.6 Q270.902 1522.85 273.957 1518.27 Q277.036 1513.66 282.846 1513.66 Z\" fill=\"#000000\" fill-rule=\"nonzero\" fill-opacity=\"1\" /><path clip-path=\"url(#clip100)\" d=\"M739.861 1544.91 L756.181 1544.91 L756.181 1548.85 L734.236 1548.85 L734.236 1544.91 Q736.898 1542.16 741.482 1537.53 Q746.088 1532.88 747.269 1531.53 Q749.514 1529.01 750.394 1527.27 Q751.296 1525.51 751.296 1523.82 Q751.296 1521.07 749.352 1519.33 Q747.431 1517.6 744.329 1517.6 Q742.13 1517.6 739.676 1518.36 Q737.246 1519.13 734.468 1520.68 L734.468 1515.95 Q737.292 1514.82 739.746 1514.24 Q742.199 1513.66 744.236 1513.66 Q749.607 1513.66 752.801 1516.35 Q755.995 1519.03 755.995 1523.52 Q755.995 1525.65 755.185 1527.57 Q754.398 1529.47 752.292 1532.07 Q751.713 1532.74 748.611 1535.95 Q745.509 1539.15 739.861 1544.91 Z\" fill=\"#000000\" fill-rule=\"nonzero\" fill-opacity=\"1\" /><path clip-path=\"url(#clip100)\" d=\"M765.995 1542.97 L770.88 1542.97 L770.88 1548.85 L765.995 1548.85 L765.995 1542.97 Z\" fill=\"#000000\" fill-rule=\"nonzero\" fill-opacity=\"1\" /><path clip-path=\"url(#clip100)\" d=\"M781.111 1514.29 L799.467 1514.29 L799.467 1518.22 L785.393 1518.22 L785.393 1526.7 Q786.412 1526.35 787.43 1526.19 Q788.449 1526 789.468 1526 Q795.255 1526 798.634 1529.17 Q802.014 1532.34 802.014 1537.76 Q802.014 1543.34 798.542 1546.44 Q795.069 1549.52 788.75 1549.52 Q786.574 1549.52 784.306 1549.15 Q782.06 1548.78 779.653 1548.04 L779.653 1543.34 Q781.736 1544.47 783.958 1545.03 Q786.18 1545.58 788.657 1545.58 Q792.662 1545.58 795 1543.48 Q797.338 1541.37 797.338 1537.76 Q797.338 1534.15 795 1532.04 Q792.662 1529.94 788.657 1529.94 Q786.782 1529.94 784.907 1530.35 Q783.056 1530.77 781.111 1531.65 L781.111 1514.29 Z\" fill=\"#000000\" fill-rule=\"nonzero\" fill-opacity=\"1\" /><path clip-path=\"url(#clip100)\" d=\"M1243.18 1514.29 L1261.54 1514.29 L1261.54 1518.22 L1247.47 1518.22 L1247.47 1526.7 Q1248.48 1526.35 1249.5 1526.19 Q1250.52 1526 1251.54 1526 Q1257.33 1526 1260.71 1529.17 Q1264.09 1532.34 1264.09 1537.76 Q1264.09 1543.34 1260.61 1546.44 Q1257.14 1549.52 1250.82 1549.52 Q1248.65 1549.52 1246.38 1549.15 Q1244.13 1548.78 1241.73 1548.04 L1241.73 1543.34 Q1243.81 1544.47 1246.03 1545.03 Q1248.25 1545.58 1250.73 1545.58 Q1254.73 1545.58 1257.07 1543.48 Q1259.41 1541.37 1259.41 1537.76 Q1259.41 1534.15 1257.07 1532.04 Q1254.73 1529.94 1250.73 1529.94 Q1248.86 1529.94 1246.98 1530.35 Q1245.13 1530.77 1243.18 1531.65 L1243.18 1514.29 Z\" fill=\"#000000\" fill-rule=\"nonzero\" fill-opacity=\"1\" /><path clip-path=\"url(#clip100)\" d=\"M1273.3 1542.97 L1278.18 1542.97 L1278.18 1548.85 L1273.3 1548.85 L1273.3 1542.97 Z\" fill=\"#000000\" fill-rule=\"nonzero\" fill-opacity=\"1\" /><path clip-path=\"url(#clip100)\" d=\"M1298.37 1517.37 Q1294.76 1517.37 1292.93 1520.93 Q1291.12 1524.47 1291.12 1531.6 Q1291.12 1538.71 1292.93 1542.27 Q1294.76 1545.82 1298.37 1545.82 Q1302 1545.82 1303.81 1542.27 Q1305.64 1538.71 1305.64 1531.6 Q1305.64 1524.47 1303.81 1520.93 Q1302 1517.37 1298.37 1517.37 M1298.37 1513.66 Q1304.18 1513.66 1307.23 1518.27 Q1310.31 1522.85 1310.31 1531.6 Q1310.31 1540.33 1307.23 1544.94 Q1304.18 1549.52 1298.37 1549.52 Q1292.56 1549.52 1289.48 1544.94 Q1286.42 1540.33 1286.42 1531.6 Q1286.42 1522.85 1289.48 1518.27 Q1292.56 1513.66 1298.37 1513.66 Z\" fill=\"#000000\" fill-rule=\"nonzero\" fill-opacity=\"1\" /><path clip-path=\"url(#clip100)\" d=\"M1750.23 1514.29 L1772.46 1514.29 L1772.46 1516.28 L1759.91 1548.85 L1755.03 1548.85 L1766.83 1518.22 L1750.23 1518.22 L1750.23 1514.29 Z\" fill=\"#000000\" fill-rule=\"nonzero\" fill-opacity=\"1\" /><path clip-path=\"url(#clip100)\" d=\"M1781.58 1542.97 L1786.46 1542.97 L1786.46 1548.85 L1781.58 1548.85 L1781.58 1542.97 Z\" fill=\"#000000\" fill-rule=\"nonzero\" fill-opacity=\"1\" /><path clip-path=\"url(#clip100)\" d=\"M1796.69 1514.29 L1815.05 1514.29 L1815.05 1518.22 L1800.97 1518.22 L1800.97 1526.7 Q1801.99 1526.35 1803.01 1526.19 Q1804.03 1526 1805.05 1526 Q1810.84 1526 1814.21 1529.17 Q1817.59 1532.34 1817.59 1537.76 Q1817.59 1543.34 1814.12 1546.44 Q1810.65 1549.52 1804.33 1549.52 Q1802.15 1549.52 1799.89 1549.15 Q1797.64 1548.78 1795.23 1548.04 L1795.23 1543.34 Q1797.32 1544.47 1799.54 1545.03 Q1801.76 1545.58 1804.24 1545.58 Q1808.24 1545.58 1810.58 1543.48 Q1812.92 1541.37 1812.92 1537.76 Q1812.92 1534.15 1810.58 1532.04 Q1808.24 1529.94 1804.24 1529.94 Q1802.36 1529.94 1800.49 1530.35 Q1798.64 1530.77 1796.69 1531.65 L1796.69 1514.29 Z\" fill=\"#000000\" fill-rule=\"nonzero\" fill-opacity=\"1\" /><path clip-path=\"url(#clip100)\" d=\"M2243.88 1544.91 L2251.52 1544.91 L2251.52 1518.55 L2243.21 1520.21 L2243.21 1515.95 L2251.47 1514.29 L2256.15 1514.29 L2256.15 1544.91 L2263.79 1544.91 L2263.79 1548.85 L2243.88 1548.85 L2243.88 1544.91 Z\" fill=\"#000000\" fill-rule=\"nonzero\" fill-opacity=\"1\" /><path clip-path=\"url(#clip100)\" d=\"M2283.23 1517.37 Q2279.62 1517.37 2277.79 1520.93 Q2275.99 1524.47 2275.99 1531.6 Q2275.99 1538.71 2277.79 1542.27 Q2279.62 1545.82 2283.23 1545.82 Q2286.87 1545.82 2288.67 1542.27 Q2290.5 1538.71 2290.5 1531.6 Q2290.5 1524.47 2288.67 1520.93 Q2286.87 1517.37 2283.23 1517.37 M2283.23 1513.66 Q2289.04 1513.66 2292.1 1518.27 Q2295.18 1522.85 2295.18 1531.6 Q2295.18 1540.33 2292.1 1544.94 Q2289.04 1549.52 2283.23 1549.52 Q2277.42 1549.52 2274.34 1544.94 Q2271.29 1540.33 2271.29 1531.6 Q2271.29 1522.85 2274.34 1518.27 Q2277.42 1513.66 2283.23 1513.66 Z\" fill=\"#000000\" fill-rule=\"nonzero\" fill-opacity=\"1\" /><path clip-path=\"url(#clip100)\" d=\"M2303.39 1542.97 L2308.28 1542.97 L2308.28 1548.85 L2303.39 1548.85 L2303.39 1542.97 Z\" fill=\"#000000\" fill-rule=\"nonzero\" fill-opacity=\"1\" /><path clip-path=\"url(#clip100)\" d=\"M2328.46 1517.37 Q2324.85 1517.37 2323.02 1520.93 Q2321.22 1524.47 2321.22 1531.6 Q2321.22 1538.71 2323.02 1542.27 Q2324.85 1545.82 2328.46 1545.82 Q2332.1 1545.82 2333.9 1542.27 Q2335.73 1538.71 2335.73 1531.6 Q2335.73 1524.47 2333.9 1520.93 Q2332.1 1517.37 2328.46 1517.37 M2328.46 1513.66 Q2334.27 1513.66 2337.33 1518.27 Q2340.41 1522.85 2340.41 1531.6 Q2340.41 1540.33 2337.33 1544.94 Q2334.27 1549.52 2328.46 1549.52 Q2322.65 1549.52 2319.57 1544.94 Q2316.52 1540.33 2316.52 1531.6 Q2316.52 1522.85 2319.57 1518.27 Q2322.65 1513.66 2328.46 1513.66 Z\" fill=\"#000000\" fill-rule=\"nonzero\" fill-opacity=\"1\" /><polyline clip-path=\"url(#clip102)\" style=\"stroke:#000000; stroke-linecap:round; stroke-linejoin:round; stroke-width:2; stroke-opacity:0.1; fill:none\" points=\"199.283,1425.84 2352.76,1425.84 \"/>\n",
       "<polyline clip-path=\"url(#clip102)\" style=\"stroke:#000000; stroke-linecap:round; stroke-linejoin:round; stroke-width:2; stroke-opacity:0.1; fill:none\" points=\"199.283,1099.64 2352.76,1099.64 \"/>\n",
       "<polyline clip-path=\"url(#clip102)\" style=\"stroke:#000000; stroke-linecap:round; stroke-linejoin:round; stroke-width:2; stroke-opacity:0.1; fill:none\" points=\"199.283,773.443 2352.76,773.443 \"/>\n",
       "<polyline clip-path=\"url(#clip102)\" style=\"stroke:#000000; stroke-linecap:round; stroke-linejoin:round; stroke-width:2; stroke-opacity:0.1; fill:none\" points=\"199.283,447.242 2352.76,447.242 \"/>\n",
       "<polyline clip-path=\"url(#clip102)\" style=\"stroke:#000000; stroke-linecap:round; stroke-linejoin:round; stroke-width:2; stroke-opacity:0.1; fill:none\" points=\"199.283,121.041 2352.76,121.041 \"/>\n",
       "<polyline clip-path=\"url(#clip100)\" style=\"stroke:#000000; stroke-linecap:round; stroke-linejoin:round; stroke-width:4; stroke-opacity:1; fill:none\" points=\"199.283,1486.45 199.283,47.2441 \"/>\n",
       "<polyline clip-path=\"url(#clip100)\" style=\"stroke:#000000; stroke-linecap:round; stroke-linejoin:round; stroke-width:4; stroke-opacity:1; fill:none\" points=\"199.283,1425.84 218.181,1425.84 \"/>\n",
       "<polyline clip-path=\"url(#clip100)\" style=\"stroke:#000000; stroke-linecap:round; stroke-linejoin:round; stroke-width:4; stroke-opacity:1; fill:none\" points=\"199.283,1099.64 218.181,1099.64 \"/>\n",
       "<polyline clip-path=\"url(#clip100)\" style=\"stroke:#000000; stroke-linecap:round; stroke-linejoin:round; stroke-width:4; stroke-opacity:1; fill:none\" points=\"199.283,773.443 218.181,773.443 \"/>\n",
       "<polyline clip-path=\"url(#clip100)\" style=\"stroke:#000000; stroke-linecap:round; stroke-linejoin:round; stroke-width:4; stroke-opacity:1; fill:none\" points=\"199.283,447.242 218.181,447.242 \"/>\n",
       "<polyline clip-path=\"url(#clip100)\" style=\"stroke:#000000; stroke-linecap:round; stroke-linejoin:round; stroke-width:4; stroke-opacity:1; fill:none\" points=\"199.283,121.041 218.181,121.041 \"/>\n",
       "<path clip-path=\"url(#clip100)\" d=\"M151.339 1411.64 Q147.728 1411.64 145.899 1415.21 Q144.093 1418.75 144.093 1425.88 Q144.093 1432.99 145.899 1436.55 Q147.728 1440.09 151.339 1440.09 Q154.973 1440.09 156.779 1436.55 Q158.607 1432.99 158.607 1425.88 Q158.607 1418.75 156.779 1415.21 Q154.973 1411.64 151.339 1411.64 M151.339 1407.94 Q157.149 1407.94 160.205 1412.55 Q163.283 1417.13 163.283 1425.88 Q163.283 1434.61 160.205 1439.21 Q157.149 1443.8 151.339 1443.8 Q145.529 1443.8 142.45 1439.21 Q139.394 1434.61 139.394 1425.88 Q139.394 1417.13 142.45 1412.55 Q145.529 1407.94 151.339 1407.94 Z\" fill=\"#000000\" fill-rule=\"nonzero\" fill-opacity=\"1\" /><path clip-path=\"url(#clip100)\" d=\"M85.0429 1112.99 L101.362 1112.99 L101.362 1116.92 L79.4179 1116.92 L79.4179 1112.99 Q82.0799 1110.23 86.6632 1105.6 Q91.2697 1100.95 92.4502 1099.61 Q94.6956 1097.09 95.5752 1095.35 Q96.478 1093.59 96.478 1091.9 Q96.478 1089.15 94.5336 1087.41 Q92.6123 1085.67 89.5104 1085.67 Q87.3114 1085.67 84.8577 1086.44 Q82.4271 1087.2 79.6494 1088.75 L79.6494 1084.03 Q82.4734 1082.9 84.9271 1082.32 Q87.3808 1081.74 89.4178 1081.74 Q94.7882 1081.74 97.9826 1084.42 Q101.177 1087.11 101.177 1091.6 Q101.177 1093.73 100.367 1095.65 Q99.5798 1097.55 97.4734 1100.14 Q96.8947 1100.81 93.7928 1104.03 Q90.691 1107.22 85.0429 1112.99 Z\" fill=\"#000000\" fill-rule=\"nonzero\" fill-opacity=\"1\" /><path clip-path=\"url(#clip100)\" d=\"M111.223 1082.36 L129.58 1082.36 L129.58 1086.3 L115.506 1086.3 L115.506 1094.77 Q116.524 1094.42 117.543 1094.26 Q118.561 1094.08 119.58 1094.08 Q125.367 1094.08 128.746 1097.25 Q132.126 1100.42 132.126 1105.84 Q132.126 1111.41 128.654 1114.52 Q125.182 1117.59 118.862 1117.59 Q116.686 1117.59 114.418 1117.22 Q112.172 1116.85 109.765 1116.11 L109.765 1111.41 Q111.848 1112.55 114.07 1113.1 Q116.293 1113.66 118.77 1113.66 Q122.774 1113.66 125.112 1111.55 Q127.45 1109.45 127.45 1105.84 Q127.45 1102.22 125.112 1100.12 Q122.774 1098.01 118.77 1098.01 Q116.895 1098.01 115.02 1098.43 Q113.168 1098.84 111.223 1099.72 L111.223 1082.36 Z\" fill=\"#000000\" fill-rule=\"nonzero\" fill-opacity=\"1\" /><path clip-path=\"url(#clip100)\" d=\"M151.339 1085.44 Q147.728 1085.44 145.899 1089.01 Q144.093 1092.55 144.093 1099.68 Q144.093 1106.78 145.899 1110.35 Q147.728 1113.89 151.339 1113.89 Q154.973 1113.89 156.779 1110.35 Q158.607 1106.78 158.607 1099.68 Q158.607 1092.55 156.779 1089.01 Q154.973 1085.44 151.339 1085.44 M151.339 1081.74 Q157.149 1081.74 160.205 1086.34 Q163.283 1090.93 163.283 1099.68 Q163.283 1108.4 160.205 1113.01 Q157.149 1117.59 151.339 1117.59 Q145.529 1117.59 142.45 1113.01 Q139.394 1108.4 139.394 1099.68 Q139.394 1090.93 142.45 1086.34 Q145.529 1081.74 151.339 1081.74 Z\" fill=\"#000000\" fill-rule=\"nonzero\" fill-opacity=\"1\" /><path clip-path=\"url(#clip100)\" d=\"M81.0614 756.163 L99.4178 756.163 L99.4178 760.098 L85.3438 760.098 L85.3438 768.57 Q86.3623 768.223 87.3808 768.061 Q88.3993 767.876 89.4178 767.876 Q95.2049 767.876 98.5845 771.047 Q101.964 774.218 101.964 779.635 Q101.964 785.213 98.4919 788.315 Q95.0197 791.394 88.7003 791.394 Q86.5243 791.394 84.2558 791.024 Q82.0105 790.653 79.6031 789.912 L79.6031 785.213 Q81.6864 786.348 83.9086 786.903 Q86.1308 787.459 88.6077 787.459 Q92.6123 787.459 94.9502 785.352 Q97.2882 783.246 97.2882 779.635 Q97.2882 776.024 94.9502 773.917 Q92.6123 771.811 88.6077 771.811 Q86.7327 771.811 84.8577 772.227 Q83.0058 772.644 81.0614 773.524 L81.0614 756.163 Z\" fill=\"#000000\" fill-rule=\"nonzero\" fill-opacity=\"1\" /><path clip-path=\"url(#clip100)\" d=\"M121.177 759.241 Q117.566 759.241 115.737 762.806 Q113.932 766.348 113.932 773.477 Q113.932 780.584 115.737 784.149 Q117.566 787.69 121.177 787.69 Q124.811 787.69 126.617 784.149 Q128.445 780.584 128.445 773.477 Q128.445 766.348 126.617 762.806 Q124.811 759.241 121.177 759.241 M121.177 755.538 Q126.987 755.538 130.043 760.144 Q133.121 764.727 133.121 773.477 Q133.121 782.204 130.043 786.811 Q126.987 791.394 121.177 791.394 Q115.367 791.394 112.288 786.811 Q109.233 782.204 109.233 773.477 Q109.233 764.727 112.288 760.144 Q115.367 755.538 121.177 755.538 Z\" fill=\"#000000\" fill-rule=\"nonzero\" fill-opacity=\"1\" /><path clip-path=\"url(#clip100)\" d=\"M151.339 759.241 Q147.728 759.241 145.899 762.806 Q144.093 766.348 144.093 773.477 Q144.093 780.584 145.899 784.149 Q147.728 787.69 151.339 787.69 Q154.973 787.69 156.779 784.149 Q158.607 780.584 158.607 773.477 Q158.607 766.348 156.779 762.806 Q154.973 759.241 151.339 759.241 M151.339 755.538 Q157.149 755.538 160.205 760.144 Q163.283 764.727 163.283 773.477 Q163.283 782.204 160.205 786.811 Q157.149 791.394 151.339 791.394 Q145.529 791.394 142.45 786.811 Q139.394 782.204 139.394 773.477 Q139.394 764.727 142.45 760.144 Q145.529 755.538 151.339 755.538 Z\" fill=\"#000000\" fill-rule=\"nonzero\" fill-opacity=\"1\" /><path clip-path=\"url(#clip100)\" d=\"M79.8346 429.962 L102.057 429.962 L102.057 431.953 L89.5104 464.522 L84.6262 464.522 L96.4317 433.897 L79.8346 433.897 L79.8346 429.962 Z\" fill=\"#000000\" fill-rule=\"nonzero\" fill-opacity=\"1\" /><path clip-path=\"url(#clip100)\" d=\"M111.223 429.962 L129.58 429.962 L129.58 433.897 L115.506 433.897 L115.506 442.369 Q116.524 442.022 117.543 441.86 Q118.561 441.675 119.58 441.675 Q125.367 441.675 128.746 444.846 Q132.126 448.017 132.126 453.434 Q132.126 459.013 128.654 462.114 Q125.182 465.193 118.862 465.193 Q116.686 465.193 114.418 464.823 Q112.172 464.452 109.765 463.712 L109.765 459.013 Q111.848 460.147 114.07 460.702 Q116.293 461.258 118.77 461.258 Q122.774 461.258 125.112 459.152 Q127.45 457.045 127.45 453.434 Q127.45 449.823 125.112 447.716 Q122.774 445.61 118.77 445.61 Q116.895 445.61 115.02 446.027 Q113.168 446.443 111.223 447.323 L111.223 429.962 Z\" fill=\"#000000\" fill-rule=\"nonzero\" fill-opacity=\"1\" /><path clip-path=\"url(#clip100)\" d=\"M151.339 433.041 Q147.728 433.041 145.899 436.605 Q144.093 440.147 144.093 447.277 Q144.093 454.383 145.899 457.948 Q147.728 461.489 151.339 461.489 Q154.973 461.489 156.779 457.948 Q158.607 454.383 158.607 447.277 Q158.607 440.147 156.779 436.605 Q154.973 433.041 151.339 433.041 M151.339 429.337 Q157.149 429.337 160.205 433.943 Q163.283 438.527 163.283 447.277 Q163.283 456.003 160.205 460.61 Q157.149 465.193 151.339 465.193 Q145.529 465.193 142.45 460.61 Q139.394 456.003 139.394 447.277 Q139.394 438.527 142.45 433.943 Q145.529 429.337 151.339 429.337 Z\" fill=\"#000000\" fill-rule=\"nonzero\" fill-opacity=\"1\" /><path clip-path=\"url(#clip100)\" d=\"M51.6634 134.386 L59.3023 134.386 L59.3023 108.02 L50.9921 109.687 L50.9921 105.428 L59.256 103.761 L63.9319 103.761 L63.9319 134.386 L71.5707 134.386 L71.5707 138.321 L51.6634 138.321 L51.6634 134.386 Z\" fill=\"#000000\" fill-rule=\"nonzero\" fill-opacity=\"1\" /><path clip-path=\"url(#clip100)\" d=\"M91.0151 106.84 Q87.404 106.84 85.5753 110.405 Q83.7697 113.946 83.7697 121.076 Q83.7697 128.182 85.5753 131.747 Q87.404 135.289 91.0151 135.289 Q94.6493 135.289 96.4548 131.747 Q98.2835 128.182 98.2835 121.076 Q98.2835 113.946 96.4548 110.405 Q94.6493 106.84 91.0151 106.84 M91.0151 103.136 Q96.8252 103.136 99.8808 107.743 Q102.959 112.326 102.959 121.076 Q102.959 129.803 99.8808 134.409 Q96.8252 138.992 91.0151 138.992 Q85.2049 138.992 82.1262 134.409 Q79.0707 129.803 79.0707 121.076 Q79.0707 112.326 82.1262 107.743 Q85.2049 103.136 91.0151 103.136 Z\" fill=\"#000000\" fill-rule=\"nonzero\" fill-opacity=\"1\" /><path clip-path=\"url(#clip100)\" d=\"M121.177 106.84 Q117.566 106.84 115.737 110.405 Q113.932 113.946 113.932 121.076 Q113.932 128.182 115.737 131.747 Q117.566 135.289 121.177 135.289 Q124.811 135.289 126.617 131.747 Q128.445 128.182 128.445 121.076 Q128.445 113.946 126.617 110.405 Q124.811 106.84 121.177 106.84 M121.177 103.136 Q126.987 103.136 130.043 107.743 Q133.121 112.326 133.121 121.076 Q133.121 129.803 130.043 134.409 Q126.987 138.992 121.177 138.992 Q115.367 138.992 112.288 134.409 Q109.233 129.803 109.233 121.076 Q109.233 112.326 112.288 107.743 Q115.367 103.136 121.177 103.136 Z\" fill=\"#000000\" fill-rule=\"nonzero\" fill-opacity=\"1\" /><path clip-path=\"url(#clip100)\" d=\"M151.339 106.84 Q147.728 106.84 145.899 110.405 Q144.093 113.946 144.093 121.076 Q144.093 128.182 145.899 131.747 Q147.728 135.289 151.339 135.289 Q154.973 135.289 156.779 131.747 Q158.607 128.182 158.607 121.076 Q158.607 113.946 156.779 110.405 Q154.973 106.84 151.339 106.84 M151.339 103.136 Q157.149 103.136 160.205 107.743 Q163.283 112.326 163.283 121.076 Q163.283 129.803 160.205 134.409 Q157.149 138.992 151.339 138.992 Q145.529 138.992 142.45 134.409 Q139.394 129.803 139.394 121.076 Q139.394 112.326 142.45 107.743 Q145.529 103.136 151.339 103.136 Z\" fill=\"#000000\" fill-rule=\"nonzero\" fill-opacity=\"1\" /><polyline clip-path=\"url(#clip102)\" style=\"stroke:#009af9; stroke-linecap:round; stroke-linejoin:round; stroke-width:4; stroke-opacity:1; fill:none\" points=\"260.231,1295.36 270.388,1296.82 280.546,1293.28 290.704,1291.16 300.862,1290.42 311.02,1286.81 321.178,1284.56 331.336,1281.16 341.494,1279.3 351.652,1277.03 361.809,1276.82 371.967,1274.76 371.967,1274.76 382.125,1274.27 392.283,1272.01 402.441,1267.1 412.599,1263.16 412.599,1263.16 422.757,1260.81 422.757,1260.81 432.915,1257.52 432.915,1257.52 443.073,1260.08 453.23,1253.98 463.388,1252.53 473.546,1250.05 483.704,1250.11 493.862,1248.75 493.862,1248.75 504.02,1246.66 504.02,1246.66 514.178,1244.21 514.178,1244.21 524.336,1240.47 524.336,1240.47 534.494,1237.53 534.494,1237.53 544.651,1233.44 544.651,1233.44 554.809,1232.48 554.809,1232.48 564.967,1231.01 564.967,1231.01 575.125,1232.79 575.125,1232.79 585.283,1231.55 585.283,1231.55 595.441,1225.28 595.441,1225.28 605.599,1223.16 605.599,1223.16 615.757,1218.05 615.757,1218.05 625.915,1215.4 625.915,1215.4 636.072,1213.92 636.072,1213.92 646.23,1209.99 646.23,1209.99 656.388,1206.97 656.388,1206.97 666.546,1205.21 666.546,1205.21 676.704,1200.71 676.704,1200.71 686.862,1194.61 686.862,1194.61 697.02,1190.2 697.02,1190.2 707.178,1189.62 717.336,1187.29 727.493,1186.75 737.651,1185.73 737.651,1185.73 747.809,1181.85 747.809,1181.85 757.967,1181.36 757.967,1181.36 768.125,1172.98 768.125,1172.98 778.283,1166.6 778.283,1166.6 788.441,1164.94 788.441,1164.94 798.599,1158.6 798.599,1158.6 808.757,1156.19 808.757,1156.19 818.914,1152.62 818.914,1152.62 829.072,1150 829.072,1150 839.23,1148.17 839.23,1148.17 849.388,1144.73 849.388,1144.73 859.546,1143.41 859.546,1143.41 869.704,1140.03 869.704,1140.03 879.862,1141.19 879.862,1141.19 890.02,1136.89 890.02,1136.89 900.178,1129.71 900.178,1129.71 910.336,1124.01 910.336,1124.01 920.493,1116.93 920.493,1116.93 930.651,1116.75 930.651,1116.75 940.809,1112.34 940.809,1112.34 950.967,1110.56 950.967,1110.56 961.125,1102.9 961.125,1102.9 971.283,1093.54 971.283,1093.54 981.441,1095.63 981.441,1095.63 991.599,1090.91 991.599,1090.91 1001.76,1086.05 1001.76,1086.05 1011.91,1085.61 1011.91,1085.61 1022.07,1082.45 1022.07,1082.45 1032.23,1078.53 1032.23,1078.53 1042.39,1082.23 1042.39,1082.23 1052.55,1079.19 1052.55,1079.19 1062.7,1077.81 1062.7,1077.81 1072.86,1077.27 1072.86,1077.27 1083.02,1077.21 1083.02,1077.21 1093.18,1074.45 1093.18,1074.45 1103.34,1070.89 1103.34,1070.89 1113.49,1066.16 1113.49,1066.16 1123.65,1062.31 1123.65,1062.31 1133.81,1061.7 1133.81,1061.7 1143.97,1061.42 1143.97,1061.42 1154.12,1055.23 1154.12,1055.23 1164.28,1049.38 1164.28,1049.38 1174.44,1043.58 1174.44,1043.58 1184.6,1041.83 1184.6,1041.83 1194.76,1037.31 1194.76,1037.31 1204.91,1030.83 1204.91,1030.83 1215.07,1028.97 1215.07,1028.97 1225.23,1018.55 1225.23,1018.55 1235.39,1017.11 1235.39,1017.11 1245.55,1013.24 1245.55,1013.24 1255.7,1007.43 1255.7,1007.43 1265.86,1005.19 1265.86,1005.19 1276.02,1003.33 1276.02,1003.33 1286.18,997.463 1286.18,997.463 1296.34,992.203 1296.34,992.203 1306.49,988.11 1306.49,988.11 1316.65,984.052 1316.65,984.052 1326.81,978.287 1326.81,978.287 1336.97,977.128 1336.97,977.128 1347.12,969.7 1347.12,969.7 1357.28,967.029 1357.28,967.029 1367.44,956.184 1367.44,956.184 1377.6,954.328 1377.6,954.328 1387.76,948.651 1387.76,948.651 1397.91,937.44 1397.91,937.44 1408.07,931.296 1408.07,931.296 1418.23,921.437 1418.23,921.437 1428.39,915.752 1428.39,915.752 1438.55,911.656 1438.55,911.656 1448.7,900.904 1448.7,900.904 1458.86,902.579 1458.86,902.579 1469.02,902.388 1469.02,902.388 1479.18,893.5 1479.18,893.5 1489.34,886.167 1489.34,886.167 1499.49,877.25 1499.49,877.25 1509.65,875.257 1509.65,875.257 1519.81,865.486 1519.81,865.486 1529.97,859.7 1529.97,859.7 1540.12,852.385 1540.12,852.385 1550.28,850.991 1550.28,850.991 1560.44,840.74 1560.44,840.74 1570.6,836.694 1570.6,836.694 1580.76,836.756 1580.76,836.756 1590.91,833.593 1590.91,833.593 1601.07,820.679 1601.07,820.679 1611.23,817.39 1611.23,817.39 1621.39,809.984 1621.39,809.984 1631.55,804.263 1631.55,804.263 1641.7,801.237 1641.7,801.237 1651.86,788.066 1651.86,788.066 1662.02,775.289 1662.02,775.289 1672.18,759.701 1672.18,759.701 1682.34,748.489 1682.34,748.489 1692.49,739.351 1692.49,739.351 1702.65,729.496 1702.65,729.496 1712.81,721.247 1712.81,721.247 1722.97,717.522 1722.97,717.522 1733.12,715.537 1733.12,715.537 1743.28,702.567 1743.28,702.567 1753.44,700.455 1753.44,700.455 1763.6,689.125 1763.6,689.125 1773.76,688.214 1773.76,688.214 1783.91,676.914 1783.91,676.914 1794.07,662.879 1794.07,662.879 1804.23,662.63 1804.23,662.63 1814.39,652.001 1814.39,652.001 1824.55,641.528 1824.55,641.528 1834.7,631.397 1834.7,631.397 1844.86,613.889 1844.86,613.889 1855.02,596.021 1855.02,596.021 1865.18,585.599 1865.18,585.599 1875.34,569.153 1875.34,569.153 1885.49,563.248 1885.49,563.248 1895.65,552.849 1895.65,552.849 1905.81,544.828 1905.81,544.828 1915.97,535.442 1915.97,535.442 1926.12,516.321 1926.12,516.321 1936.28,499.558 1936.28,499.558 1946.44,489.607 1946.44,489.607 1956.6,477.224 1956.6,477.224 1966.76,467.265 1966.76,467.265 1976.91,458.313 1976.91,458.313 1987.07,442.939 1987.07,442.939 1997.23,428.38 1997.23,428.38 2007.39,420.551 2007.39,420.551 2017.55,407.052 2017.55,407.052 2027.7,401.238 2027.7,401.238 2037.86,388.862 2037.86,388.862 2048.02,378.687 2048.02,378.687 2058.18,369.199 2058.18,369.199 2068.33,359.263 2068.33,359.263 2078.49,344.01 2078.49,344.01 2088.65,333.609 2088.65,333.609 2098.81,317.286 2098.81,317.286 2108.97,307.037 2108.97,307.037 2119.12,287.44 2119.12,287.44 2129.28,269.654 2129.28,269.654 2139.44,267.682 2139.44,267.682 2149.6,265.506 2149.6,265.506 2159.76,256.13 2159.76,256.13 2169.91,245.101 2169.91,245.101 2180.07,233.805 2190.23,225.362 2200.39,211.601 2210.55,201.195 2220.7,185.506 2220.7,185.506 2230.86,163.445 2230.86,163.445 2241.02,156.238 2241.02,156.238 2251.18,143.48 2251.18,143.48 2261.33,130.481 2261.33,130.481 2271.49,116.065 2271.49,116.065 2281.65,102.569 2281.65,102.569 2291.81,87.9763 \"/>\n",
       "<polyline clip-path=\"url(#clip102)\" style=\"stroke:#e26f46; stroke-linecap:round; stroke-linejoin:round; stroke-width:4; stroke-opacity:1; fill:none\" points=\"260.231,1425.84 270.388,1430.61 270.388,1421.08 280.546,1422.14 290.704,1423.65 300.862,1425.39 311.02,1425.71 321.178,1426.66 321.178,1425.02 331.336,1427.21 331.336,1424.48 341.494,1425.54 351.652,1424.8 361.809,1423.62 371.967,1423.93 371.967,1423.93 382.125,1427.27 382.125,1424.42 392.283,1427.86 392.283,1423.83 402.441,1423.53 412.599,1426.71 412.599,1424.98 422.757,1426.06 422.757,1425.63 432.915,1426.89 432.915,1424.8 443.073,1432.12 443.073,1419.57 453.23,1418.83 463.388,1421.22 473.546,1422.43 483.704,1425.31 493.862,1427.27 493.862,1424.42 504.02,1424.38 504.02,1424.38 514.178,1424.16 514.178,1424.16 524.336,1425.76 524.336,1425.76 534.494,1429.75 534.494,1421.94 544.651,1423.72 544.651,1423.72 554.809,1426.09 554.809,1425.6 564.967,1426.18 564.967,1425.51 575.125,1428.45 575.125,1423.24 585.283,1426.4 585.283,1425.29 595.441,1424.57 595.441,1424.57 605.599,1426 605.599,1425.69 615.757,1426.47 615.757,1425.22 625.915,1427.09 625.915,1424.6 636.072,1427.38 636.072,1424.31 646.23,1426.32 646.23,1425.37 656.388,1429.11 656.388,1422.58 666.546,1428.59 666.546,1423.1 676.704,1426.48 676.704,1425.21 686.862,1426.68 686.862,1425.01 697.02,1427.81 697.02,1423.88 707.178,1427.41 707.178,1424.28 717.336,1423.06 727.493,1428.7 727.493,1422.99 737.651,1425.4 737.651,1425.4 747.809,1424.29 747.809,1424.29 757.967,1420.43 757.967,1420.43 768.125,1420.62 768.125,1420.62 778.283,1423.36 778.283,1423.36 788.441,1422.35 788.441,1422.35 798.599,1423.06 798.599,1423.06 808.757,1424.69 808.757,1424.69 818.914,1424.86 818.914,1424.86 829.072,1421.71 829.072,1421.71 839.23,1424.84 839.23,1424.84 849.388,1421.59 849.388,1421.59 859.546,1421.45 859.546,1421.45 869.704,1423.75 869.704,1423.75 879.862,1423.6 879.862,1423.6 890.02,1425.44 890.02,1425.44 900.178,1425.03 900.178,1425.03 910.336,1424.26 910.336,1424.26 920.493,1425.25 920.493,1425.25 930.651,1419.38 930.651,1419.38 940.809,1423.09 940.809,1423.09 950.967,1424.48 950.967,1424.48 961.125,1424.12 961.125,1424.12 971.283,1420.76 971.283,1420.76 981.441,1423.8 981.441,1423.8 991.599,1423.25 991.599,1423.25 1001.76,1425.78 1001.76,1425.78 1011.91,1420.9 1011.91,1420.9 1022.07,1423.84 1022.07,1423.84 1032.23,1424.06 1032.23,1424.06 1042.39,1417.4 1042.39,1417.4 1052.55,1421.6 1052.55,1421.6 1062.7,1423.68 1062.7,1423.68 1072.86,1417.27 1072.86,1417.27 1083.02,1424.33 1083.02,1424.33 1093.18,1424.51 1093.18,1424.51 1103.34,1419.73 1103.34,1419.73 1113.49,1425.37 1113.49,1425.37 1123.65,1425.74 1123.65,1425.74 1133.81,1421.71 1133.81,1421.71 1143.97,1422.5 1143.97,1422.5 1154.12,1423.27 1154.12,1423.27 1164.28,1425.83 1164.28,1425.83 1174.44,1418.59 1174.44,1418.59 1184.6,1420.25 1184.6,1420.25 1194.76,1425 1194.76,1425 1204.91,1424.05 1204.91,1424.05 1215.07,1421.5 1215.07,1421.5 1225.23,1423.92 1225.23,1423.92 1235.39,1420.01 1235.39,1420.01 1245.55,1424.02 1245.55,1424.02 1255.7,1423.09 1255.7,1423.09 1265.86,1423.03 1265.86,1423.03 1276.02,1425.69 1276.02,1425.69 1286.18,1421.27 1286.18,1421.27 1296.34,1422.12 1296.34,1422.12 1306.49,1422.18 1306.49,1422.18 1316.65,1424.25 1316.65,1424.25 1326.81,1420.63 1326.81,1420.63 1336.97,1418.34 1336.97,1418.34 1347.12,1418.67 1347.12,1418.67 1357.28,1425.32 1357.28,1425.32 1367.44,1421.86 1367.44,1421.86 1377.6,1424.8 1377.6,1424.8 1387.76,1422.85 1387.76,1422.85 1397.91,1423.16 1397.91,1423.16 1408.07,1424.74 1408.07,1424.74 1418.23,1423.15 1418.23,1423.15 1428.39,1424.83 1428.39,1424.83 1438.55,1425.54 1438.55,1425.54 1448.7,1422.82 1448.7,1422.82 1458.86,1415.72 1458.86,1415.72 1469.02,1425.64 1469.02,1425.64 1479.18,1418.05 1479.18,1418.05 1489.34,1425.52 1489.34,1425.52 1499.49,1422.31 1499.49,1422.31 1509.65,1424.08 1509.65,1424.08 1519.81,1418.04 1519.81,1418.04 1529.97,1425.69 1529.97,1425.69 1540.12,1422.37 1540.12,1422.37 1550.28,1420.47 1550.28,1420.47 1560.44,1423.09 1560.44,1423.09 1570.6,1418.8 1570.6,1418.8 1580.76,1423.47 1580.76,1423.47 1590.91,1416.41 1590.91,1416.41 1601.07,1418.9 1601.07,1418.9 1611.23,1423.9 1611.23,1423.9 1621.39,1418.58 1621.39,1418.58 1631.55,1423.66 1631.55,1423.66 1641.7,1414.42 1641.7,1414.42 1651.86,1412.17 1651.86,1412.17 1662.02,1417.49 1662.02,1417.49 1672.18,1418.83 1672.18,1418.83 1682.34,1423.43 1682.34,1423.43 1692.49,1423.81 1692.49,1423.81 1702.65,1423 1702.65,1423 1712.81,1411.76 1712.81,1411.76 1722.97,1423.99 1722.97,1423.99 1733.12,1417.59 1733.12,1417.59 1743.28,1415.11 1743.28,1415.11 1753.44,1425.23 1753.44,1425.23 1763.6,1417.71 1763.6,1417.71 1773.76,1418.65 1773.76,1418.65 1783.91,1421.02 1783.91,1421.02 1794.07,1419.76 1794.07,1419.76 1804.23,1418.32 1804.23,1418.32 1814.39,1422.31 1814.39,1422.31 1824.55,1422.83 1824.55,1422.83 1834.7,1415.29 1834.7,1415.29 1844.86,1416.74 1844.86,1416.74 1855.02,1420.5 1855.02,1420.5 1865.18,1424.01 1865.18,1424.01 1875.34,1425.82 1875.34,1425.82 1885.49,1413.57 1885.49,1413.57 1895.65,1421.63 1895.65,1421.63 1905.81,1422.64 1905.81,1422.64 1915.97,1416.95 1915.97,1416.95 1926.12,1424.03 1926.12,1424.03 1936.28,1418.21 1936.28,1418.21 1946.44,1423.77 1946.44,1423.77 1956.6,1419.02 1956.6,1419.02 1966.76,1423.87 1966.76,1423.87 1976.91,1409.77 1976.91,1409.77 1987.07,1411.69 1987.07,1411.69 1997.23,1413.99 1997.23,1413.99 2007.39,1424.32 2007.39,1424.32 2017.55,1414.01 2017.55,1414.01 2027.7,1423.98 2027.7,1423.98 2037.86,1413.91 2037.86,1413.91 2048.02,1420.12 2048.02,1420.12 2058.18,1417.65 2058.18,1417.65 2068.33,1424.9 2068.33,1424.9 2078.49,1415.07 2078.49,1415.07 2088.65,1423.08 2088.65,1423.08 2098.81,1418.69 2098.81,1418.69 2108.97,1411.4 2108.97,1411.4 2119.12,1422.47 2119.12,1422.47 2129.28,1414.64 2129.28,1414.64 2139.44,1421.09 2139.44,1421.09 2149.6,1407.79 2149.6,1407.79 2159.76,1424.53 2159.76,1424.53 2169.91,1419.38 2169.91,1419.38 2180.07,1440.06 2180.07,1411.63 2190.23,1428.24 2190.23,1423.45 2200.39,1437.88 2200.39,1413.81 2210.55,1427.09 2210.55,1424.59 2220.7,1437.35 2220.7,1414.34 2230.86,1419.86 2230.86,1419.86 2241.02,1445.72 2241.02,1405.97 2251.18,1424.35 2251.18,1424.35 2261.33,1445.16 2261.33,1406.52 2271.49,1424.65 2271.49,1424.65 2281.65,1443.14 2281.65,1408.55 2291.81,1417.78 \"/>\n",
       "<path clip-path=\"url(#clip100)\" d=\"M271.066 250.738 L538.843 250.738 L538.843 95.2176 L271.066 95.2176  Z\" fill=\"#ffffff\" fill-rule=\"evenodd\" fill-opacity=\"1\"/>\n",
       "<polyline clip-path=\"url(#clip100)\" style=\"stroke:#000000; stroke-linecap:round; stroke-linejoin:round; stroke-width:4; stroke-opacity:1; fill:none\" points=\"271.066,250.738 538.843,250.738 538.843,95.2176 271.066,95.2176 271.066,250.738 \"/>\n",
       "<polyline clip-path=\"url(#clip100)\" style=\"stroke:#009af9; stroke-linecap:round; stroke-linejoin:round; stroke-width:4; stroke-opacity:1; fill:none\" points=\"294.993,147.058 438.558,147.058 \"/>\n",
       "<path clip-path=\"url(#clip100)\" d=\"M476.328 166.745 Q474.522 171.375 472.809 172.787 Q471.096 174.199 468.226 174.199 L464.823 174.199 L464.823 170.634 L467.323 170.634 Q469.083 170.634 470.055 169.8 Q471.027 168.967 472.208 165.865 L472.971 163.921 L462.485 138.412 L466.999 138.412 L475.101 158.689 L483.203 138.412 L487.717 138.412 L476.328 166.745 Z\" fill=\"#000000\" fill-rule=\"nonzero\" fill-opacity=\"1\" /><path clip-path=\"url(#clip100)\" d=\"M495.008 160.402 L502.647 160.402 L502.647 134.037 L494.337 135.703 L494.337 131.444 L502.601 129.778 L507.277 129.778 L507.277 160.402 L514.916 160.402 L514.916 164.338 L495.008 164.338 L495.008 160.402 Z\" fill=\"#000000\" fill-rule=\"nonzero\" fill-opacity=\"1\" /><polyline clip-path=\"url(#clip100)\" style=\"stroke:#e26f46; stroke-linecap:round; stroke-linejoin:round; stroke-width:4; stroke-opacity:1; fill:none\" points=\"294.993,198.898 438.558,198.898 \"/>\n",
       "<path clip-path=\"url(#clip100)\" d=\"M476.328 218.585 Q474.522 223.215 472.809 224.627 Q471.096 226.039 468.226 226.039 L464.823 226.039 L464.823 222.474 L467.323 222.474 Q469.083 222.474 470.055 221.64 Q471.027 220.807 472.208 217.705 L472.971 215.761 L462.485 190.252 L466.999 190.252 L475.101 210.529 L483.203 190.252 L487.717 190.252 L476.328 218.585 Z\" fill=\"#000000\" fill-rule=\"nonzero\" fill-opacity=\"1\" /><path clip-path=\"url(#clip100)\" d=\"M498.226 212.242 L514.545 212.242 L514.545 216.178 L492.601 216.178 L492.601 212.242 Q495.263 209.488 499.846 204.858 Q504.453 200.205 505.633 198.863 Q507.879 196.34 508.758 194.604 Q509.661 192.844 509.661 191.155 Q509.661 188.4 507.717 186.664 Q505.795 184.928 502.694 184.928 Q500.494 184.928 498.041 185.692 Q495.61 186.455 492.832 188.006 L492.832 183.284 Q495.657 182.15 498.11 181.571 Q500.564 180.993 502.601 180.993 Q507.971 180.993 511.166 183.678 Q514.36 186.363 514.36 190.854 Q514.36 192.983 513.55 194.905 Q512.763 196.803 510.656 199.395 Q510.078 200.067 506.976 203.284 Q503.874 206.479 498.226 212.242 Z\" fill=\"#000000\" fill-rule=\"nonzero\" fill-opacity=\"1\" /></svg>\n"
      ]
     },
     "execution_count": 13,
     "metadata": {},
     "output_type": "execute_result"
    }
   ],
   "source": [
    "function ratestodrift(u, p, t)\n",
    "    R1,R2,R3,R4 = ratesmodel(u,p)\n",
    "    return [\n",
    "        R4-(R1+R3),\n",
    "        R3-(R2+R4)\n",
    "    ]\n",
    "end\n",
    "\n",
    "function ratestodiff(u, p, t)\n",
    "    R1_r,R2_r,R3_r,R4_r = sqrt.(ratesmodel(u,p))\n",
    "    return [\n",
    "        R1_r 0.0 -R3_r R4_r;\n",
    "        0.0 R2_r R3_r R4_r\n",
    "    ]\n",
    "end\n",
    "\n",
    "# NN: R^2 -> R^4, relu on final layer to force positive outputs\n",
    "ratesmodel = FastChain(FastDense(2 , 16, relu), FastDense(16 , 4, relu));\n",
    "p_nn = initial_params(ratesmodel);\n",
    "\n",
    "prob = SDEProblem(\n",
    "    ratestodrift,\n",
    "    ratestodiff,\n",
    "    u_0,\n",
    "    tspan,\n",
    "    p_nn,\n",
    "    noise_rate_prototype = NOISE_STRUCT,\n",
    "    callback=cbs\n",
    ")\n",
    "\n",
    "sol = solve(prob, EM(), dt=0.05, saveat=0.05; sensealg=TrackerAdjoint(), save_everystep=false)\n",
    "plot(sol.t, Array(sol)')"
   ]
  },
  {
   "cell_type": "markdown",
   "id": "aeaddc69",
   "metadata": {},
   "source": [
    "# Backprop with Neural SDE (keeps crashing Julia kernel............ ;P)"
   ]
  },
  {
   "cell_type": "code",
   "execution_count": null,
   "id": "ccdcd1fc",
   "metadata": {},
   "outputs": [],
   "source": [
    "function loss_neuralsde(p,u=u_0,N=100)\n",
    "    prob = SDEProblem(ratestodrift, ratestodiff, u, tspan, p, noise_rate_prototype = NOISE_STRUCT)\n",
    "    ensembleprob = EnsembleProblem(prob)\n",
    "    sol = solve(ensembleprob, EM(), dt = 0.05, saveat = 0.05; trajectories = N, sensealg=TrackerAdjoint(), save_everystep=false)\n",
    "    batch_mean = mean(sol,dims=3)[:,:]\n",
    "    batch_vars = var(sol,dims=3)[:,:]\n",
    "    loss = sum(abs2, truemean .- batch_mean) + sum(abs2, p) + sum(abs2, truevar .- batch_vars)\n",
    "end\n",
    "test = Zygote.gradient(p->loss_neuralsde(p),p_nn)\n",
    "# loss_neuralsde(p_nn,u_0)"
   ]
  },
  {
   "cell_type": "code",
   "execution_count": 62,
   "id": "5b66cc3d",
   "metadata": {},
   "outputs": [
    {
     "data": {
      "text/plain": [
       "2×401×100 Array{Float64, 3}:\n",
       "[:, :, 1] =\n",
       " 100.0  99.1238    99.1238    98.1586   …  37.0519  37.0519  37.7533  37.7533\n",
       "   0.0   0.981125   0.981125   1.78829     65.9958  65.9958  66.1638  66.1638\n",
       "\n",
       "[:, :, 2] =\n",
       " 100.0  97.8024   97.8024   98.0568   …  34.9421  34.9421  34.2372  34.2372\n",
       "   0.0   2.25819   2.25819   2.00241     62.8713  62.8713  62.9884  62.9884\n",
       "\n",
       "[:, :, 3] =\n",
       " 100.0  98.9307    98.9307    98.431   …  37.1044  37.1044  37.848   37.848\n",
       "   0.0   0.987535   0.987535   1.2096     68.4151  68.4151  69.7095  69.7095\n",
       "\n",
       ";;; … \n",
       "\n",
       "[:, :, 98] =\n",
       " 100.0  98.4409   98.4409   96.0298  …  36.1167  36.1167  35.9315  35.9315\n",
       "   0.0   1.83769   1.83769   4.23       59.3901  59.3901  60.0887  60.0887\n",
       "\n",
       "[:, :, 99] =\n",
       " 100.0  97.8161   97.8161   97.8761   …  34.0158  34.0158  33.2502  33.2502\n",
       "   0.0   2.06701   2.06701   2.02516     62.0789  62.0789  60.9998  60.9998\n",
       "\n",
       "[:, :, 100] =\n",
       " 100.0  98.0774  98.0774  97.3404   …  33.478   33.478   33.7107  33.7107\n",
       "   0.0   1.5425   1.5425   2.17298     57.7583  57.7583  59.9114  59.9114"
      ]
     },
     "execution_count": 62,
     "metadata": {},
     "output_type": "execute_result"
    }
   ],
   "source": [
    "# function getprediction(p,u=u_0)\n",
    "#     prob = SDEProblem(ratestodrift, ratestodiff, u, tspan, p, noise_rate_prototype = NOISE_STRUCT, callback=cbs)\n",
    "#     sol = solve(prob,EM(),dt = 0.05, saveat = 0.05; sensealg=TrackerAdjoint(), save_everystep=false)\n",
    "#     #     if (sol.retcode != ReturnCode.Success)\n",
    "# #         print(p)\n",
    "# #     end\n",
    "# #     println(sol)\n",
    "#     return Array(sol)\n",
    "# end\n",
    "\n",
    "# function predict_batch_neuralsde(p, n)\n",
    "#     res = map((x->getprediction(p,x)),[u_0 for i in 1:n])\n",
    "#     VA = VectorOfArray(res)\n",
    "#     arr = convert(Array,VA)\n",
    "# end\n",
    "\n",
    "# # function predictmeanvar(p,n)\n",
    "# #     samples = predict_batch_neuralsde(p,n)\n",
    "# #     means = mean(samples, dims = 3)\n",
    "# #     vars = var(samples, dims = 3, mean = means)\n",
    "# #     return means,vars\n",
    "# # end\n",
    "\n",
    "# # means,vars = predictmeanvar(p_nn,100)\n",
    "\n",
    "# # function loss_neuralsde(p; n = 100)\n",
    "# #     means,vars = predictmeanvar(p,n)\n",
    "# #     testmeans = means[1,:,:]\n",
    "# #     testvars = vars[1,:,:]\n",
    "# #     println(testmeans)\n",
    "    \n",
    "# #     loss = sum(abs2, truemean[1,:] .- testmeans) + sum(abs2, p) + sum(abs2, truevar[1,:] .- testvars)\n",
    "# #     return loss#, means, vars\n",
    "# # end\n",
    "# # test = Zygote.gradient(loss_neuralsde,p_nn)"
   ]
  },
  {
   "cell_type": "code",
   "execution_count": 113,
   "id": "de4c6320",
   "metadata": {},
   "outputs": [
    {
     "ename": "LoadError",
     "evalue": "DimensionMismatch(\"dimensions must match: a has dims (Base.OneTo(201), Base.OneTo(1)), b has dims (Base.OneTo(401),), mismatch at 1\")",
     "output_type": "error",
     "traceback": [
      "DimensionMismatch(\"dimensions must match: a has dims (Base.OneTo(201), Base.OneTo(1)), b has dims (Base.OneTo(401),), mismatch at 1\")",
      "",
      "Stacktrace:",
      "  [1] promote_shape",
      "    @ ./indices.jl:178 [inlined]",
      "  [2] promote_shape",
      "    @ ./indices.jl:174 [inlined]",
      "  [3] promote_shape(a::Vector{Float64}, b::Matrix{Float64})",
      "    @ Base ./indices.jl:169",
      "  [4] -(A::Vector{Float64}, B::Matrix{Float64})",
      "    @ Base ./arraymath.jl:38",
      "  [5] adjoint",
      "    @ ~/.julia/packages/Zygote/HTsWj/src/lib/array.jl:663 [inlined]",
      "  [6] _pullback(__context__::Zygote.Context{false}, 639::typeof(-), A::Vector{Float64}, B::Matrix{Float64})",
      "    @ Zygote ~/.julia/packages/ZygoteRules/OgCVT/src/adjoint.jl:66",
      "  [7] _pullback",
      "    @ ./In[112]:27 [inlined]",
      "  [8] _pullback(::Zygote.Context{false}, ::var\"##loss_neuralsde#76\", ::Int64, ::typeof(loss_neuralsde), ::Vector{Float32})",
      "    @ Zygote ~/.julia/packages/Zygote/HTsWj/src/compiler/interface2.jl:0",
      "  [9] _pullback",
      "    @ ./In[112]:24 [inlined]",
      " [10] _pullback(ctx::Zygote.Context{false}, f::typeof(loss_neuralsde), args::Vector{Float32})",
      "    @ Zygote ~/.julia/packages/Zygote/HTsWj/src/compiler/interface2.jl:0",
      " [11] _pullback",
      "    @ ./In[113]:5 [inlined]",
      " [12] _pullback(::Zygote.Context{false}, ::var\"#77#78\", ::Vector{Float32}, ::SciMLBase.NullParameters)",
      "    @ Zygote ~/.julia/packages/Zygote/HTsWj/src/compiler/interface2.jl:0",
      " [13] _apply",
      "    @ ./boot.jl:814 [inlined]",
      " [14] adjoint",
      "    @ ~/.julia/packages/Zygote/HTsWj/src/lib/lib.jl:203 [inlined]",
      " [15] _pullback",
      "    @ ~/.julia/packages/ZygoteRules/OgCVT/src/adjoint.jl:66 [inlined]",
      " [16] _pullback",
      "    @ ~/.julia/packages/SciMLBase/VdcHg/src/scimlfunctions.jl:3626 [inlined]",
      " [17] _pullback(::Zygote.Context{false}, ::OptimizationFunction{true, Optimization.AutoZygote, var\"#77#78\", Nothing, Nothing, Nothing, Nothing, Nothing, Nothing, Nothing, Nothing, Nothing, Nothing, Nothing, Nothing, Nothing, typeof(SciMLBase.DEFAULT_OBSERVED_NO_TIME), Nothing, Nothing, Nothing, Nothing, Nothing, Nothing, Nothing}, ::Vector{Float32}, ::SciMLBase.NullParameters)",
      "    @ Zygote ~/.julia/packages/Zygote/HTsWj/src/compiler/interface2.jl:0",
      " [18] _apply(::Function, ::Vararg{Any})",
      "    @ Core ./boot.jl:814",
      " [19] adjoint",
      "    @ ~/.julia/packages/Zygote/HTsWj/src/lib/lib.jl:203 [inlined]",
      " [20] _pullback",
      "    @ ~/.julia/packages/ZygoteRules/OgCVT/src/adjoint.jl:66 [inlined]",
      " [21] _pullback",
      "    @ ~/.julia/packages/Optimization/Dzv2g/src/function/zygote.jl:72 [inlined]",
      " [22] _pullback(ctx::Zygote.Context{false}, f::Optimization.var\"#264#273\"{OptimizationFunction{true, Optimization.AutoZygote, var\"#77#78\", Nothing, Nothing, Nothing, Nothing, Nothing, Nothing, Nothing, Nothing, Nothing, Nothing, Nothing, Nothing, Nothing, typeof(SciMLBase.DEFAULT_OBSERVED_NO_TIME), Nothing, Nothing, Nothing, Nothing, Nothing, Nothing, Nothing}, Optimization.ReInitCache{Vector{Float32}, SciMLBase.NullParameters}}, args::Vector{Float32})",
      "    @ Zygote ~/.julia/packages/Zygote/HTsWj/src/compiler/interface2.jl:0",
      " [23] _apply(::Function, ::Vararg{Any})",
      "    @ Core ./boot.jl:814",
      " [24] adjoint",
      "    @ ~/.julia/packages/Zygote/HTsWj/src/lib/lib.jl:203 [inlined]",
      " [25] _pullback",
      "    @ ~/.julia/packages/ZygoteRules/OgCVT/src/adjoint.jl:66 [inlined]",
      " [26] _pullback",
      "    @ ~/.julia/packages/Optimization/Dzv2g/src/function/zygote.jl:76 [inlined]",
      " [27] _pullback(ctx::Zygote.Context{false}, f::Optimization.var\"#266#275\"{Tuple{}, Optimization.var\"#264#273\"{OptimizationFunction{true, Optimization.AutoZygote, var\"#77#78\", Nothing, Nothing, Nothing, Nothing, Nothing, Nothing, Nothing, Nothing, Nothing, Nothing, Nothing, Nothing, Nothing, typeof(SciMLBase.DEFAULT_OBSERVED_NO_TIME), Nothing, Nothing, Nothing, Nothing, Nothing, Nothing, Nothing}, Optimization.ReInitCache{Vector{Float32}, SciMLBase.NullParameters}}}, args::Vector{Float32})",
      "    @ Zygote ~/.julia/packages/Zygote/HTsWj/src/compiler/interface2.jl:0",
      " [28] pullback(f::Function, cx::Zygote.Context{false}, args::Vector{Float32})",
      "    @ Zygote ~/.julia/packages/Zygote/HTsWj/src/compiler/interface.jl:44",
      " [29] pullback",
      "    @ ~/.julia/packages/Zygote/HTsWj/src/compiler/interface.jl:42 [inlined]",
      " [30] gradient(f::Function, args::Vector{Float32})",
      "    @ Zygote ~/.julia/packages/Zygote/HTsWj/src/compiler/interface.jl:96",
      " [31] (::Optimization.var\"#265#274\"{Optimization.var\"#264#273\"{OptimizationFunction{true, Optimization.AutoZygote, var\"#77#78\", Nothing, Nothing, Nothing, Nothing, Nothing, Nothing, Nothing, Nothing, Nothing, Nothing, Nothing, Nothing, Nothing, typeof(SciMLBase.DEFAULT_OBSERVED_NO_TIME), Nothing, Nothing, Nothing, Nothing, Nothing, Nothing, Nothing}, Optimization.ReInitCache{Vector{Float32}, SciMLBase.NullParameters}}})(::Vector{Float32}, ::Vector{Float32})",
      "    @ Optimization ~/.julia/packages/Optimization/Dzv2g/src/function/zygote.jl:74",
      " [32] macro expansion",
      "    @ ~/.julia/packages/OptimizationFlux/2vIVH/src/OptimizationFlux.jl:88 [inlined]",
      " [33] macro expansion",
      "    @ ~/.julia/packages/Optimization/Dzv2g/src/utils.jl:37 [inlined]",
      " [34] __solve(cache::OptimizationFlux.FluxOptimizationCache{OptimizationFunction{false, Optimization.AutoZygote, OptimizationFunction{true, Optimization.AutoZygote, var\"#77#78\", Nothing, Nothing, Nothing, Nothing, Nothing, Nothing, Nothing, Nothing, Nothing, Nothing, Nothing, Nothing, Nothing, typeof(SciMLBase.DEFAULT_OBSERVED_NO_TIME), Nothing, Nothing, Nothing, Nothing, Nothing, Nothing, Nothing}, Optimization.var\"#265#274\"{Optimization.var\"#264#273\"{OptimizationFunction{true, Optimization.AutoZygote, var\"#77#78\", Nothing, Nothing, Nothing, Nothing, Nothing, Nothing, Nothing, Nothing, Nothing, Nothing, Nothing, Nothing, Nothing, typeof(SciMLBase.DEFAULT_OBSERVED_NO_TIME), Nothing, Nothing, Nothing, Nothing, Nothing, Nothing, Nothing}, Optimization.ReInitCache{Vector{Float32}, SciMLBase.NullParameters}}}, Optimization.var\"#268#277\"{Optimization.var\"#264#273\"{OptimizationFunction{true, Optimization.AutoZygote, var\"#77#78\", Nothing, Nothing, Nothing, Nothing, Nothing, Nothing, Nothing, Nothing, Nothing, Nothing, Nothing, Nothing, Nothing, typeof(SciMLBase.DEFAULT_OBSERVED_NO_TIME), Nothing, Nothing, Nothing, Nothing, Nothing, Nothing, Nothing}, Optimization.ReInitCache{Vector{Float32}, SciMLBase.NullParameters}}}, Optimization.var\"#272#281\", Nothing, Nothing, Nothing, Nothing, Nothing, Nothing, Nothing, Nothing, Nothing, Nothing, typeof(SciMLBase.DEFAULT_OBSERVED_NO_TIME), Nothing, Nothing, Nothing, Nothing, Nothing, Nothing, Nothing}, Optimization.ReInitCache{Vector{Float32}, SciMLBase.NullParameters}, Adam, Base.Iterators.Cycle{Tuple{Optimization.NullData}}})",
      "    @ OptimizationFlux ~/.julia/packages/OptimizationFlux/2vIVH/src/OptimizationFlux.jl:87",
      " [35] solve!(cache::OptimizationFlux.FluxOptimizationCache{OptimizationFunction{false, Optimization.AutoZygote, OptimizationFunction{true, Optimization.AutoZygote, var\"#77#78\", Nothing, Nothing, Nothing, Nothing, Nothing, Nothing, Nothing, Nothing, Nothing, Nothing, Nothing, Nothing, Nothing, typeof(SciMLBase.DEFAULT_OBSERVED_NO_TIME), Nothing, Nothing, Nothing, Nothing, Nothing, Nothing, Nothing}, Optimization.var\"#265#274\"{Optimization.var\"#264#273\"{OptimizationFunction{true, Optimization.AutoZygote, var\"#77#78\", Nothing, Nothing, Nothing, Nothing, Nothing, Nothing, Nothing, Nothing, Nothing, Nothing, Nothing, Nothing, Nothing, typeof(SciMLBase.DEFAULT_OBSERVED_NO_TIME), Nothing, Nothing, Nothing, Nothing, Nothing, Nothing, Nothing}, Optimization.ReInitCache{Vector{Float32}, SciMLBase.NullParameters}}}, Optimization.var\"#268#277\"{Optimization.var\"#264#273\"{OptimizationFunction{true, Optimization.AutoZygote, var\"#77#78\", Nothing, Nothing, Nothing, Nothing, Nothing, Nothing, Nothing, Nothing, Nothing, Nothing, Nothing, Nothing, Nothing, typeof(SciMLBase.DEFAULT_OBSERVED_NO_TIME), Nothing, Nothing, Nothing, Nothing, Nothing, Nothing, Nothing}, Optimization.ReInitCache{Vector{Float32}, SciMLBase.NullParameters}}}, Optimization.var\"#272#281\", Nothing, Nothing, Nothing, Nothing, Nothing, Nothing, Nothing, Nothing, Nothing, Nothing, typeof(SciMLBase.DEFAULT_OBSERVED_NO_TIME), Nothing, Nothing, Nothing, Nothing, Nothing, Nothing, Nothing}, Optimization.ReInitCache{Vector{Float32}, SciMLBase.NullParameters}, Adam, Base.Iterators.Cycle{Tuple{Optimization.NullData}}})",
      "    @ SciMLBase ~/.julia/packages/SciMLBase/VdcHg/src/solve.jl:162",
      " [36] solve(::OptimizationProblem{true, OptimizationFunction{true, Optimization.AutoZygote, var\"#77#78\", Nothing, Nothing, Nothing, Nothing, Nothing, Nothing, Nothing, Nothing, Nothing, Nothing, Nothing, Nothing, Nothing, typeof(SciMLBase.DEFAULT_OBSERVED_NO_TIME), Nothing, Nothing, Nothing, Nothing, Nothing, Nothing, Nothing}, Vector{Float32}, SciMLBase.NullParameters, Nothing, Nothing, Nothing, Nothing, Nothing, Nothing, Base.Pairs{Symbol, Union{}, Tuple{}, NamedTuple{(), Tuple{}}}}, ::Adam; kwargs::Base.Pairs{Symbol, Int64, Tuple{Symbol}, NamedTuple{(:maxiters,), Tuple{Int64}}})",
      "    @ SciMLBase ~/.julia/packages/SciMLBase/VdcHg/src/solve.jl:83",
      " [37] top-level scope",
      "    @ In[113]:7"
     ]
    }
   ],
   "source": [
    "opt = ADAM(0.0001)\n",
    "\n",
    "# First round of training with n = 10\n",
    "adtype = Optimization.AutoZygote()\n",
    "optf = Optimization.OptimizationFunction((x,p) -> loss_neuralsde(x), adtype)\n",
    "optprob = Optimization.OptimizationProblem(optf, p_nn)#Change to p_nn if first time running\n",
    "result1 = Optimization.solve(optprob, opt, maxiters = 1000);"
   ]
  },
  {
   "cell_type": "code",
   "execution_count": null,
   "id": "c68c740d",
   "metadata": {},
   "outputs": [],
   "source": []
  }
 ],
 "metadata": {
  "kernelspec": {
   "display_name": "Julia 1.7.3",
   "language": "julia",
   "name": "julia-1.7"
  },
  "language_info": {
   "file_extension": ".jl",
   "mimetype": "application/julia",
   "name": "julia",
   "version": "1.7.3"
  }
 },
 "nbformat": 4,
 "nbformat_minor": 5
}
