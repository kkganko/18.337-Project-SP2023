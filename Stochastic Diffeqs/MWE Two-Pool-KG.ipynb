{
 "cells": [
  {
   "cell_type": "markdown",
   "id": "0b8daf6f",
   "metadata": {},
   "source": [
    "# Two-pool model from Barker *et al.* (2020)"
   ]
  },
  {
   "cell_type": "code",
   "execution_count": 1,
   "id": "5cacd748",
   "metadata": {},
   "outputs": [
    {
     "data": {
      "text/plain": [
       "\"/home/kkganko/6.337/18.337-Project-SP2023/Stochastic Diffeqs\""
      ]
     },
     "execution_count": 1,
     "metadata": {},
     "output_type": "execute_result"
    }
   ],
   "source": [
    "pwd()"
   ]
  },
  {
   "cell_type": "code",
   "execution_count": 2,
   "id": "cad22522",
   "metadata": {},
   "outputs": [
    {
     "data": {
      "text/plain": [
       "14-element Vector{String}:\n",
       " \".ipynb_checkpoints\"\n",
       " \"Birth-Death.ipynb\"\n",
       " \"BirthDeathFlux.ipynb\"\n",
       " \"Fitting Data to SDE Practice.ipynb\"\n",
       " \"Lux Tutorial.ipynb\"\n",
       " \"MWE Birth-Death-KG.ipynb\"\n",
       " \"MWE Birth-Death.ipynb\"\n",
       " \"MWE Two-Pool-KG.ipynb\"\n",
       " \"Manifest.toml\"\n",
       " \"NN_sde_combined.png\"\n",
       " \"Neural ODE Practice.ipynb\"\n",
       " \"Neural SDE Practice.ipynb\"\n",
       " \"Project.toml\"\n",
       " \"Stochastic Diffeq Practice.ipynb\""
      ]
     },
     "execution_count": 2,
     "metadata": {},
     "output_type": "execute_result"
    }
   ],
   "source": [
    "dir_contents = readdir(\".\")"
   ]
  },
  {
   "cell_type": "code",
   "execution_count": 3,
   "id": "7fa31b00",
   "metadata": {},
   "outputs": [
    {
     "data": {
      "text/plain": [
       "12-element Vector{String}:\n",
       " \".git\"\n",
       " \".gitignore\"\n",
       " \".ipynb_checkpoints\"\n",
       " \"LICENSE\"\n",
       " \"Manifest.toml\"\n",
       " \"Min working example.ipynb\"\n",
       " \"Project.toml\"\n",
       " \"README.md\"\n",
       " \"Stochastic Diffeqs\"\n",
       " \"generate-project-toml.ipynb\"\n",
       " \"test_lux-componentarrays.ipynb\"\n",
       " \"test_python.ipynb\""
      ]
     },
     "execution_count": 3,
     "metadata": {},
     "output_type": "execute_result"
    }
   ],
   "source": [
    "dir_contents_parent = readdir(\"..\")"
   ]
  },
  {
   "cell_type": "code",
   "execution_count": 4,
   "id": "8902b756",
   "metadata": {},
   "outputs": [],
   "source": [
    "# # If Project.toml and Manifest.toml exist, remove them to start a completely fresh installation of packages and dependencies.\n",
    "# # This is equivalent to uninstalling all packages in the current environment. \n",
    "# # Why? B/c if you don't start from a clean plate, and you have previous package dependency installation that were unspecified \n",
    "# # below in their version number, then dependencies may conflict.\n",
    "\n",
    "# # get contents of working directory\n",
    "# dir_contents = readdir(\".\")\n",
    "# println(dir_contents)\n",
    "# if \"Manifest.toml\" in dir_contents\n",
    "#     rm(\"Manifest.toml\")\n",
    "#     println(\"Removed Manifest.toml from $(pwd()).\")\n",
    "# end\n",
    "# if \"Project.toml\" in dir_contents\n",
    "#     rm(\"Project.toml\")\n",
    "#     println(\"Removed Project.toml from $(pwd()).\")\n",
    "# end\n",
    "\n",
    "# # Check file contents in project directory, copy over Project.toml and Manifest.toml if they exist.\n",
    "# # If they don't exist, create them with generate-project-toml.ipynb.\n",
    "# parentdir_contents = readdir(\"..\")\n",
    "# parentdir_info = stat(\"..\")\n",
    "# # copy contents from parent to working directory \n",
    "# if \"Manifest.toml\" in parentdir_contents\n",
    "#     cp(\"../Manifest.toml\", joinpath(pwd(),\"Manifest.toml\"))\n",
    "#     println(\"Manifest.toml copy from project dir to $(pwd()) successful.\")\n",
    "# else\n",
    "#     println(\"No Manifest.toml in parent directory.\")\n",
    "# end\n",
    "# if \"Project.toml\" in parentdir_contents\n",
    "#     cp(\"../Project.toml\", joinpath(pwd(),\"Project.toml\"))\n",
    "#     println(\"Project.toml copy from project dir to $(pwd()) successful.\")\n",
    "# else\n",
    "#     println(\"No Project.toml in parent directory.\")\n",
    "# end"
   ]
  },
  {
   "cell_type": "code",
   "execution_count": 5,
   "id": "3a1cd98d",
   "metadata": {
    "scrolled": true
   },
   "outputs": [
    {
     "name": "stderr",
     "output_type": "stream",
     "text": [
      "\u001b[32m\u001b[1m  Activating\u001b[22m\u001b[39m project at `~/6.337/18.337-Project-SP2023/Stochastic Diffeqs`\n"
     ]
    }
   ],
   "source": [
    "import Pkg; Pkg.activate(\".\"); Pkg.instantiate(verbose=true)"
   ]
  },
  {
   "cell_type": "code",
   "execution_count": 6,
   "id": "9ba768de",
   "metadata": {},
   "outputs": [
    {
     "name": "stdout",
     "output_type": "stream",
     "text": [
      "\u001b[32m\u001b[1m      Status\u001b[22m\u001b[39m `~/6.337/18.337-Project-SP2023/Stochastic Diffeqs/Project.toml`\n",
      " \u001b[90m [6e4b80f9] \u001b[39mBenchmarkTools v1.3.2\n",
      " \u001b[90m [b0b7db55] \u001b[39mComponentArrays v0.13.12\n",
      " \u001b[90m [8f4d0f93] \u001b[39mConda v1.8.0\n",
      " \u001b[90m [aae7a2af] \u001b[39mDiffEqFlux v1.54.0\n",
      " \u001b[90m [0c46a032] \u001b[39mDifferentialEquations v7.7.0\n",
      " \u001b[90m [31c24e10] \u001b[39mDistributions v0.25.91\n",
      " \u001b[90m [587475ba] \u001b[39mFlux v0.13.16\n",
      " \u001b[90m [f6369f11] \u001b[39mForwardDiff v0.10.35\n",
      " \u001b[90m [bd48cda9] \u001b[39mGraphRecipes v0.5.12\n",
      " \u001b[90m [86223c79] \u001b[39mGraphs v1.8.0\n",
      " \u001b[90m [7073ff75] \u001b[39mIJulia v1.24.0\n",
      " \u001b[90m [4138dd39] \u001b[39mJLD v0.13.3\n",
      " \u001b[90m [b964fa9f] \u001b[39mLaTeXStrings v1.3.0\n",
      " \u001b[90m [b2108857] \u001b[39mLux v0.4.53\n",
      " \u001b[90m [429524aa] \u001b[39mOptim v1.7.5\n",
      " \u001b[90m [7f7a1694] \u001b[39mOptimization v3.14.1\n",
      " \u001b[90m [253f991c] \u001b[39mOptimizationFlux v0.1.4\n",
      " \u001b[90m [91a5bcdd] \u001b[39mPlots v1.38.11\n",
      " \u001b[90m [438e738f] \u001b[39mPyCall v1.95.1\n",
      " \u001b[90m [d330b81b] \u001b[39mPyPlot v2.11.1\n",
      " \u001b[90m [731186ca] \u001b[39mRecursiveArrayTools v2.38.3\n",
      " \u001b[90m [1ed8b502] \u001b[39mSciMLSensitivity v7.31.0\n",
      " \u001b[90m [e88e6eb3] \u001b[39mZygote v0.6.61\n"
     ]
    }
   ],
   "source": [
    "Pkg.status()"
   ]
  },
  {
   "cell_type": "code",
   "execution_count": 7,
   "id": "c23a7dd7",
   "metadata": {},
   "outputs": [],
   "source": [
    "using DiffEqFlux\n",
    "using SciMLSensitivity\n",
    "using Optimization\n",
    "using DifferentialEquations.StochasticDiffEq\n",
    "using DifferentialEquations.DiffEqCallbacks\n",
    "using DifferentialEquations.DiffEqNoiseProcess\n",
    "using Statistics, LinearAlgebra, Random\n",
    "using Plots\n",
    "using DifferentialEquations.DiffEqBase.EnsembleAnalysis\n",
    "using BenchmarkTools\n",
    "using LaTeXStrings\n",
    "using Printf # print formatting\n",
    "using ForwardDiff\n",
    "using Graphs\n",
    "using GraphRecipes\n",
    "using RecursiveArrayTools\n",
    "using Lux"
   ]
  },
  {
   "cell_type": "markdown",
   "id": "e0dd0d62",
   "metadata": {},
   "source": [
    "# Define SDE model: Change to Non-mutating form to aid Zygote in backprop!\n",
    "\n",
    "See for recommendations: https://discourse.julialang.org/t/zygote-and-sde-failure-cannot-differentiate-through-lux-nn/84177."
   ]
  },
  {
   "cell_type": "code",
   "execution_count": 8,
   "id": "48fc25d8",
   "metadata": {},
   "outputs": [
    {
     "data": {
      "text/plain": [
       "2×4 Matrix{Float64}:\n",
       " 0.0  0.0  0.0  0.0\n",
       " 0.0  0.0  0.0  0.0"
      ]
     },
     "execution_count": 8,
     "metadata": {},
     "output_type": "execute_result"
    }
   ],
   "source": [
    "# set up problem: initial conditions, params, solver hyperparams\n",
    "datasize = 201\n",
    "tspan = (0.0, 10.0)\n",
    "tsteps = range(tspan[1], tspan[2], length = datasize)\n",
    "NOISE_STRUCT = zeros(Float64,2,4)"
   ]
  },
  {
   "cell_type": "code",
   "execution_count": 9,
   "id": "89f83052",
   "metadata": {},
   "outputs": [
    {
     "name": "stdout",
     "output_type": "stream",
     "text": [
      "New implementation EM:\n"
     ]
    },
    {
     "data": {
      "text/plain": [
       "BenchmarkTools.Trial: 10000 samples with 1 evaluation.\n",
       " Range \u001b[90m(\u001b[39m\u001b[36m\u001b[1mmin\u001b[22m\u001b[39m … \u001b[35mmax\u001b[39m\u001b[90m):  \u001b[39m\u001b[36m\u001b[1m59.000 μs\u001b[22m\u001b[39m … \u001b[35m 37.690 ms\u001b[39m  \u001b[90m┊\u001b[39m GC \u001b[90m(\u001b[39mmin … max\u001b[90m): \u001b[39m0.00% … 96.52%\n",
       " Time  \u001b[90m(\u001b[39m\u001b[34m\u001b[1mmedian\u001b[22m\u001b[39m\u001b[90m):     \u001b[39m\u001b[34m\u001b[1m66.700 μs               \u001b[22m\u001b[39m\u001b[90m┊\u001b[39m GC \u001b[90m(\u001b[39mmedian\u001b[90m):    \u001b[39m0.00%\n",
       " Time  \u001b[90m(\u001b[39m\u001b[32m\u001b[1mmean\u001b[22m\u001b[39m ± \u001b[32mσ\u001b[39m\u001b[90m):   \u001b[39m\u001b[32m\u001b[1m75.107 μs\u001b[22m\u001b[39m ± \u001b[32m379.404 μs\u001b[39m  \u001b[90m┊\u001b[39m GC \u001b[90m(\u001b[39mmean ± σ\u001b[90m):  \u001b[39m4.84% ±  0.97%\n",
       "\n",
       "  \u001b[39m \u001b[39m▅\u001b[39m█\u001b[39m▄\u001b[39m▃\u001b[39m▅\u001b[39m▅\u001b[34m▆\u001b[39m\u001b[39m▃\u001b[39m▁\u001b[39m \u001b[39m \u001b[39m \u001b[39m \u001b[32m \u001b[39m\u001b[39m \u001b[39m \u001b[39m \u001b[39m \u001b[39m \u001b[39m \u001b[39m \u001b[39m \u001b[39m \u001b[39m \u001b[39m \u001b[39m \u001b[39m \u001b[39m \u001b[39m \u001b[39m \u001b[39m \u001b[39m \u001b[39m \u001b[39m \u001b[39m \u001b[39m \u001b[39m \u001b[39m \u001b[39m \u001b[39m \u001b[39m \u001b[39m \u001b[39m \u001b[39m \u001b[39m \u001b[39m \u001b[39m \u001b[39m \u001b[39m \u001b[39m \u001b[39m \u001b[39m \u001b[39m \u001b[39m \u001b[39m \u001b[39m \u001b[39m \u001b[39m \u001b[39m \u001b[39m \u001b[39m \n",
       "  \u001b[39m▆\u001b[39m█\u001b[39m█\u001b[39m█\u001b[39m█\u001b[39m█\u001b[39m█\u001b[34m█\u001b[39m\u001b[39m█\u001b[39m█\u001b[39m▆\u001b[39m▅\u001b[39m▄\u001b[39m▄\u001b[32m▃\u001b[39m\u001b[39m▃\u001b[39m▃\u001b[39m▂\u001b[39m▃\u001b[39m▃\u001b[39m▃\u001b[39m▃\u001b[39m▂\u001b[39m▂\u001b[39m▂\u001b[39m▂\u001b[39m▂\u001b[39m▁\u001b[39m▂\u001b[39m▁\u001b[39m▁\u001b[39m▁\u001b[39m▁\u001b[39m▁\u001b[39m▁\u001b[39m▁\u001b[39m▁\u001b[39m▁\u001b[39m▁\u001b[39m▁\u001b[39m▁\u001b[39m▁\u001b[39m▁\u001b[39m▁\u001b[39m▁\u001b[39m▁\u001b[39m▁\u001b[39m▁\u001b[39m▁\u001b[39m▁\u001b[39m▁\u001b[39m▁\u001b[39m▁\u001b[39m▁\u001b[39m▁\u001b[39m▁\u001b[39m▁\u001b[39m▁\u001b[39m▁\u001b[39m▁\u001b[39m \u001b[39m▃\n",
       "  59 μs\u001b[90m           Histogram: frequency by time\u001b[39m          128 μs \u001b[0m\u001b[1m<\u001b[22m\n",
       "\n",
       " Memory estimate\u001b[90m: \u001b[39m\u001b[33m34.97 KiB\u001b[39m, allocs estimate\u001b[90m: \u001b[39m\u001b[33m271\u001b[39m."
      ]
     },
     "metadata": {},
     "output_type": "display_data"
    },
    {
     "name": "stdout",
     "output_type": "stream",
     "text": [
      "LambaEM w/ guess on initial dt:\n"
     ]
    },
    {
     "data": {
      "text/plain": [
       "BenchmarkTools.Trial: 10000 samples with 1 evaluation.\n",
       " Range \u001b[90m(\u001b[39m\u001b[36m\u001b[1mmin\u001b[22m\u001b[39m … \u001b[35mmax\u001b[39m\u001b[90m):  \u001b[39m\u001b[36m\u001b[1m70.200 μs\u001b[22m\u001b[39m … \u001b[35m 50.139 ms\u001b[39m  \u001b[90m┊\u001b[39m GC \u001b[90m(\u001b[39mmin … max\u001b[90m): \u001b[39m0.00% … 99.79%\n",
       " Time  \u001b[90m(\u001b[39m\u001b[34m\u001b[1mmedian\u001b[22m\u001b[39m\u001b[90m):     \u001b[39m\u001b[34m\u001b[1m81.000 μs               \u001b[22m\u001b[39m\u001b[90m┊\u001b[39m GC \u001b[90m(\u001b[39mmedian\u001b[90m):    \u001b[39m0.00%\n",
       " Time  \u001b[90m(\u001b[39m\u001b[32m\u001b[1mmean\u001b[22m\u001b[39m ± \u001b[32mσ\u001b[39m\u001b[90m):   \u001b[39m\u001b[32m\u001b[1m94.156 μs\u001b[22m\u001b[39m ± \u001b[32m501.095 μs\u001b[39m  \u001b[90m┊\u001b[39m GC \u001b[90m(\u001b[39mmean ± σ\u001b[90m):  \u001b[39m5.31% ±  1.00%\n",
       "\n",
       "  \u001b[39m \u001b[39m▁\u001b[39m▂\u001b[39m▁\u001b[39m▅\u001b[39m█\u001b[34m▇\u001b[39m\u001b[39m▃\u001b[39m \u001b[39m \u001b[39m \u001b[39m \u001b[39m \u001b[39m \u001b[32m \u001b[39m\u001b[39m \u001b[39m \u001b[39m \u001b[39m \u001b[39m \u001b[39m \u001b[39m \u001b[39m \u001b[39m \u001b[39m \u001b[39m \u001b[39m \u001b[39m \u001b[39m \u001b[39m \u001b[39m \u001b[39m \u001b[39m \u001b[39m \u001b[39m \u001b[39m \u001b[39m \u001b[39m \u001b[39m \u001b[39m \u001b[39m \u001b[39m \u001b[39m \u001b[39m \u001b[39m \u001b[39m \u001b[39m \u001b[39m \u001b[39m \u001b[39m \u001b[39m \u001b[39m \u001b[39m \u001b[39m \u001b[39m \u001b[39m \u001b[39m \u001b[39m \u001b[39m \u001b[39m \u001b[39m \u001b[39m \n",
       "  \u001b[39m▅\u001b[39m█\u001b[39m█\u001b[39m█\u001b[39m█\u001b[39m█\u001b[34m█\u001b[39m\u001b[39m█\u001b[39m▇\u001b[39m▅\u001b[39m▄\u001b[39m▃\u001b[39m▃\u001b[39m▃\u001b[32m▃\u001b[39m\u001b[39m▃\u001b[39m▃\u001b[39m▂\u001b[39m▂\u001b[39m▂\u001b[39m▂\u001b[39m▁\u001b[39m▁\u001b[39m▁\u001b[39m▁\u001b[39m▁\u001b[39m▁\u001b[39m▁\u001b[39m▁\u001b[39m▁\u001b[39m▁\u001b[39m▁\u001b[39m▁\u001b[39m▂\u001b[39m▂\u001b[39m▂\u001b[39m▂\u001b[39m▂\u001b[39m▂\u001b[39m▂\u001b[39m▂\u001b[39m▂\u001b[39m▁\u001b[39m▁\u001b[39m▁\u001b[39m▂\u001b[39m▁\u001b[39m▁\u001b[39m▁\u001b[39m▁\u001b[39m▁\u001b[39m▁\u001b[39m▁\u001b[39m▁\u001b[39m▁\u001b[39m▁\u001b[39m▁\u001b[39m▁\u001b[39m▁\u001b[39m▁\u001b[39m \u001b[39m▂\n",
       "  70.2 μs\u001b[90m         Histogram: frequency by time\u001b[39m          172 μs \u001b[0m\u001b[1m<\u001b[22m\n",
       "\n",
       " Memory estimate\u001b[90m: \u001b[39m\u001b[33m19.53 KiB\u001b[39m, allocs estimate\u001b[90m: \u001b[39m\u001b[33m209\u001b[39m."
      ]
     },
     "metadata": {},
     "output_type": "display_data"
    }
   ],
   "source": [
    "# new implementation that can handle Dual numbers for autodiff, i.e., with ForwardDiff.Dual\n",
    "# some algs tested below require this functionality: ImplicitEulerHeun especially\n",
    "# also added Lux.Tracker.TrackedReal for du, u, and Lux.Tracker.TrackedArray for params (which comes as matrices in NNs)\n",
    "# function trueSDEfunc!(\n",
    "#         du::Vector{T1},\n",
    "#         u::Vector{T2},\n",
    "#         p::Vector{T3},\n",
    "#         t::Float64\n",
    "# ) where {\n",
    "#     T1<:Union{ForwardDiff.Dual,Float64,Lux.Tracker.TrackedReal},\n",
    "#     T2<:Union{ForwardDiff.Dual,Float64,Lux.Tracker.TrackedReal},\n",
    "#     T3<:Union{ForwardDiff.Dual,Float64,Lux.Tracker.TrackedArray}\n",
    "#     }\n",
    "function trueSDEfunc!(du,u,p,t)\n",
    "    @inbounds begin\n",
    "        # α_1 = 0.1, α_2 = 0.2, α_3 = 0.2, α_4 = 0.5\n",
    "        R1 = exp(p[1])*u[1]\n",
    "        R2 = exp(p[2])*u[2]\n",
    "        R3 = exp(p[3])*u[1]\n",
    "        R4 = exp(p[4])*u[2]\n",
    "        du[1] = R4-R1-R3\n",
    "        du[2] = R3-R2-R4\n",
    "    end\n",
    "end\n",
    "\n",
    "# # non-mutating version\n",
    "# function trueSDEfunc(u,p,t)\n",
    "#     @inbounds begin\n",
    "#         # α_1 = 0.1, α_2 = 0.2, α_3 = 0.2, α_4 = 0.5\n",
    "#         R1 = exp(p[1])*u[1]\n",
    "#         R2 = exp(p[2])*u[2]\n",
    "#         R3 = exp(p[3])*u[1]\n",
    "#         R4 = exp(p[4])*u[2]\n",
    "#         du1 = R4-R1-R3\n",
    "#         du2 = R3-R2-R4\n",
    "#         return [du1,du2]\n",
    "#     end\n",
    "# end\n",
    "\n",
    "# new implementation that can't handle Dual numbers for autodiff...\n",
    "# also added Lux.Tracker.TrackedReal for du, u, and Lux.Tracker.TrackedArray for params (which comes as matrices in NNs)\n",
    "# function true_noise_func!(\n",
    "#         du::Matrix{T1},\n",
    "#         u::Vector{T2},\n",
    "#         p::Vector{T3},\n",
    "#         t::Float64\n",
    "# ) where {\n",
    "#     T1<:Union{ForwardDiff.Dual,Float64,Lux.Tracker.TrackedReal},\n",
    "#     T2<:Union{ForwardDiff.Dual,Float64,Lux.Tracker.TrackedReal},\n",
    "#     T3<:Union{ForwardDiff.Dual,Float64,Lux.Tracker.TrackedArray}\n",
    "#     }\n",
    "function true_noise_func!(du,u,p,t)\n",
    "    @inbounds begin\n",
    "        # α_1 = 0.1, α_2 = 0.2, α_3 = 0.2, α_4 = 0.5\n",
    "        R1 = exp(p[1])*u[1]\n",
    "        R2 = exp(p[2])*u[2]\n",
    "        R3 = exp(p[3])*u[1]\n",
    "        R4 = exp(p[4])*u[2]\n",
    "        du[1, 1] = -sqrt(R1)\n",
    "        du[1, 3] = -sqrt(R3)\n",
    "        du[1, 4] = sqrt(R4)\n",
    "        du[2, 2] = -sqrt(R2)\n",
    "        du[2, 3] = sqrt(R3)\n",
    "        du[2, 4] = -sqrt(R4)\n",
    "    end\n",
    "end\n",
    "\n",
    "# # non-mutating version\n",
    "# function true_noise_func(u,p,t)\n",
    "#     @inbounds begin\n",
    "#         # α_1 = 0.1, α_2 = 0.2, α_3 = 0.2, α_4 = 0.5\n",
    "#         R1 = exp(p[1])*u[1]\n",
    "#         R2 = exp(p[2])*u[2]\n",
    "#         R3 = exp(p[3])*u[1]\n",
    "#         R4 = exp(p[4])*u[2]\n",
    "#         du = NOISE_STRUCT\n",
    "#         du[1, 1] = -sqrt(R1)\n",
    "#         du[1, 3] = -sqrt(R3)\n",
    "#         du[1, 4] = sqrt(R4)\n",
    "#         du[2, 2] = -sqrt(R2)\n",
    "#         du[2, 3] = sqrt(R3)\n",
    "#         du[2, 4] = -sqrt(R4)\n",
    "#         return du\n",
    "#     end\n",
    "# end\n",
    "\n",
    "# callbacks\n",
    "# terminate_condition(u,t,integrator) = (u[1] < 0.0) || (u[2] < 0.0)\n",
    "# affect_solver!(integrator) = terminate!(integrator, ReturnCode.Terminated) # can't use symbols for retcodes anymore, need to reference directly from ReturnCode object\n",
    "# cb_stop_solver = DiscreteCallback(terminate_condition,affect_solver!)\n",
    "# cbs = CallbackSet(cb_stop_solver)\n",
    "\n",
    "# reflecting condition, helps stabilize ensemble results\n",
    "# see https://stackoverflow.com/questions/69049991/simulating-a-reflecting-boundary-sdeproblem\n",
    "function affect!(integrator)\n",
    "    if integrator.u[2] < 0\n",
    "        integrator.u[2] = -integrator.u[2]\n",
    "    end\n",
    "end\n",
    "\n",
    "condition(u,t,integrator) = true\n",
    "cb_reflect = DiscreteCallback(condition,affect!;save_positions=(false,true))\n",
    "cbs = CallbackSet(cb_reflect)\n",
    "\n",
    "u_0 = Float64[\n",
    "    100.0,\n",
    "    0.0\n",
    "]\n",
    "p_true = log.(Float64[\n",
    "    0.1,\n",
    "    0.2,\n",
    "    0.2,\n",
    "    0.5\n",
    "])\n",
    "\n",
    "# put an integer-valued seed to reproduce behavior\n",
    "prob_truesde = SDEProblem(\n",
    "    trueSDEfunc!,\n",
    "    true_noise_func!,\n",
    "    u_0,\n",
    "    tspan,\n",
    "    p_true,\n",
    "    noise_rate_prototype = NOISE_STRUCT,\n",
    "    callback=cbs,\n",
    "    seed=1\n",
    ")\n",
    "\n",
    "# # Non-mutating version is ~6x longer\n",
    "# prob_truesde_nonmutating = SDEProblem(\n",
    "#     trueSDEfunc,\n",
    "#     true_noise_func,\n",
    "#     u_0,\n",
    "#     tspan,\n",
    "#     p_true,\n",
    "#     noise_rate_prototype = NOISE_STRUCT,\n",
    "#     callback=cbs,\n",
    "#     seed=1\n",
    "# )\n",
    "\n",
    "\n",
    "println(\"New implementation EM:\")\n",
    "b1 = @benchmark sol1 = solve(prob_truesde, EM(), dt = 0.05, save_everystep=false)\n",
    "display(b1)\n",
    "\n",
    "println(\"LambaEM w/ guess on initial dt:\")\n",
    "b3 = @benchmark sol3 = solve(prob_truesde, LambaEM(), dt=0.05, save_everystep=false)\n",
    "display(b3)"
   ]
  },
  {
   "cell_type": "code",
   "execution_count": 10,
   "id": "841a85cf",
   "metadata": {},
   "outputs": [
    {
     "data": {
      "text/plain": [
       "EnsembleSolution Solution of length 100000 with uType:\n",
       "RODESolution{Float64, 2, Vector{Vector{Float64}}, Nothing, Nothing, Vector{Float64}, NoiseProcess{Float64, 2, Float64, Vector{Float64}, Nothing, Nothing, typeof(DiffEqNoiseProcess.INPLACE_WHITE_NOISE_DIST), typeof(DiffEqNoiseProcess.INPLACE_WHITE_NOISE_BRIDGE), true, ResettableStacks.ResettableStack{Tuple{Float64, Vector{Float64}, Nothing}, true}, ResettableStacks.ResettableStack{Tuple{Float64, Vector{Float64}, Nothing}, true}, RSWM{Float64}, Nothing, RandomNumbers.Xorshifts.Xoroshiro128Plus}, SDEProblem{Vector{Float64}, Tuple{Float64, Float64}, true, Vector{Float64}, Nothing, SDEFunction{true, SciMLBase.FullSpecialize, typeof(trueSDEfunc!), typeof(true_noise_func!), UniformScaling{Bool}, Nothing, Nothing, Nothing, Nothing, Nothing, Nothing, Nothing, Nothing, Nothing, Nothing, Nothing, Nothing, Nothing, Nothing, typeof(SciMLBase.DEFAULT_OBSERVED), Nothing, Nothing}, typeof(true_noise_func!), Base.Pairs{Symbol, CallbackSet{Tuple{}, Tuple{DiscreteCallback{typeof(condition), typeof(affect!), typeof(SciMLBase.INITIALIZE_DEFAULT), typeof(SciMLBase.FINALIZE_DEFAULT)}}}, Tuple{Symbol}, NamedTuple{(:callback,), Tuple{CallbackSet{Tuple{}, Tuple{DiscreteCallback{typeof(condition), typeof(affect!), typeof(SciMLBase.INITIALIZE_DEFAULT), typeof(SciMLBase.FINALIZE_DEFAULT)}}}}}}, Matrix{Float64}}, EM{true}, StochasticDiffEq.LinearInterpolationData{Vector{Vector{Float64}}, Vector{Float64}}, DiffEqBase.Stats, Nothing}"
      ]
     },
     "execution_count": 10,
     "metadata": {},
     "output_type": "execute_result"
    }
   ],
   "source": [
    "# change callback saving to cut down on timepoints being saved\n",
    "condition(u,t,integrator) = true\n",
    "cb_reflect = DiscreteCallback(condition,affect!;save_positions=(false,false))\n",
    "cbs = CallbackSet(cb_reflect)\n",
    "\n",
    "# ground truth for two-pool model using ensemble of 100000 trajectories\n",
    "prob_truesde = SDEProblem(\n",
    "    trueSDEfunc!,\n",
    "    true_noise_func!,\n",
    "    u_0,\n",
    "    tspan,\n",
    "    p_true,\n",
    "    noise_rate_prototype = NOISE_STRUCT,\n",
    "    callback=cbs\n",
    ")\n",
    "\n",
    "# # hellishly long\n",
    "# prob_truesde_nonmutating = SDEProblem(\n",
    "#     trueSDEfunc,\n",
    "#     true_noise_func,\n",
    "#     u_0,\n",
    "#     tspan,\n",
    "#     p_true,\n",
    "#     noise_rate_prototype = NOISE_STRUCT,\n",
    "#     callback=cbs\n",
    "# )\n",
    "\n",
    "# do ensemble of N unique SDE solves (make sure seed != 1)\n",
    "N = 100000\n",
    "ensembleprob = EnsembleProblem(prob_truesde)\n",
    "sol = solve(ensembleprob, EM(), dt=0.05, saveat = 0.05, trajectories = N, save_everystep=false)"
   ]
  },
  {
   "cell_type": "code",
   "execution_count": 11,
   "id": "83e26d17",
   "metadata": {},
   "outputs": [
    {
     "name": "stdout",
     "output_type": "stream",
     "text": [
      "0 failed simulations, or 0.0\n"
     ]
    }
   ],
   "source": [
    "# parse to remove failed simulations\n",
    "parsed_sol = [(sol.u[i].retcode != ReturnCode.Success ? nothing : sol.u[i]) for i in 1:length(sol.u)]\n",
    "parsed_sol = parsed_sol[parsed_sol.!=nothing]\n",
    "truemean = mean(parsed_sol)[:,:]\n",
    "truevar = var(parsed_sol)[:, :];\n",
    "\n",
    "# number/proportion of failed simulations\n",
    "println(\"$(N-length(parsed_sol)) failed simulations, or $(1-length(parsed_sol)/N)\")"
   ]
  },
  {
   "cell_type": "code",
   "execution_count": 12,
   "id": "7a90f3f0",
   "metadata": {},
   "outputs": [
    {
     "data": {
      "image/svg+xml": [
       "<?xml version=\"1.0\" encoding=\"utf-8\"?>\n",
       "<svg xmlns=\"http://www.w3.org/2000/svg\" xmlns:xlink=\"http://www.w3.org/1999/xlink\" width=\"900\" height=\"450\" viewBox=\"0 0 3600 1800\">\n",
       "<defs>\n",
       "  <clipPath id=\"clip160\">\n",
       "    <rect x=\"0\" y=\"0\" width=\"3600\" height=\"1800\"/>\n",
       "  </clipPath>\n",
       "</defs>\n",
       "<path clip-path=\"url(#clip160)\" d=\"M0 1800 L3600 1800 L3600 0 L0 0  Z\" fill=\"#ffffff\" fill-rule=\"evenodd\" fill-opacity=\"1\"/>\n",
       "<defs>\n",
       "  <clipPath id=\"clip161\">\n",
       "    <rect x=\"720\" y=\"0\" width=\"2521\" height=\"1800\"/>\n",
       "  </clipPath>\n",
       "</defs>\n",
       "<path clip-path=\"url(#clip160)\" d=\"M181.121 1693.09 L1766.97 1693.09 L1766.97 108.352 L181.121 108.352  Z\" fill=\"#ffffff\" fill-rule=\"evenodd\" fill-opacity=\"1\"/>\n",
       "<defs>\n",
       "  <clipPath id=\"clip162\">\n",
       "    <rect x=\"181\" y=\"108\" width=\"1587\" height=\"1586\"/>\n",
       "  </clipPath>\n",
       "</defs>\n",
       "<polyline clip-path=\"url(#clip162)\" style=\"stroke:#000000; stroke-linecap:round; stroke-linejoin:round; stroke-width:2; stroke-opacity:0.1; fill:none\" points=\"226.004,1693.09 226.004,108.352 \"/>\n",
       "<polyline clip-path=\"url(#clip162)\" style=\"stroke:#000000; stroke-linecap:round; stroke-linejoin:round; stroke-width:2; stroke-opacity:0.1; fill:none\" points=\"600.024,1693.09 600.024,108.352 \"/>\n",
       "<polyline clip-path=\"url(#clip162)\" style=\"stroke:#000000; stroke-linecap:round; stroke-linejoin:round; stroke-width:2; stroke-opacity:0.1; fill:none\" points=\"974.045,1693.09 974.045,108.352 \"/>\n",
       "<polyline clip-path=\"url(#clip162)\" style=\"stroke:#000000; stroke-linecap:round; stroke-linejoin:round; stroke-width:2; stroke-opacity:0.1; fill:none\" points=\"1348.07,1693.09 1348.07,108.352 \"/>\n",
       "<polyline clip-path=\"url(#clip162)\" style=\"stroke:#000000; stroke-linecap:round; stroke-linejoin:round; stroke-width:2; stroke-opacity:0.1; fill:none\" points=\"1722.09,1693.09 1722.09,108.352 \"/>\n",
       "<polyline clip-path=\"url(#clip160)\" style=\"stroke:#000000; stroke-linecap:round; stroke-linejoin:round; stroke-width:4; stroke-opacity:1; fill:none\" points=\"181.121,1693.09 1766.97,1693.09 \"/>\n",
       "<polyline clip-path=\"url(#clip160)\" style=\"stroke:#000000; stroke-linecap:round; stroke-linejoin:round; stroke-width:4; stroke-opacity:1; fill:none\" points=\"226.004,1693.09 226.004,1674.19 \"/>\n",
       "<polyline clip-path=\"url(#clip160)\" style=\"stroke:#000000; stroke-linecap:round; stroke-linejoin:round; stroke-width:4; stroke-opacity:1; fill:none\" points=\"600.024,1693.09 600.024,1674.19 \"/>\n",
       "<polyline clip-path=\"url(#clip160)\" style=\"stroke:#000000; stroke-linecap:round; stroke-linejoin:round; stroke-width:4; stroke-opacity:1; fill:none\" points=\"974.045,1693.09 974.045,1674.19 \"/>\n",
       "<polyline clip-path=\"url(#clip160)\" style=\"stroke:#000000; stroke-linecap:round; stroke-linejoin:round; stroke-width:4; stroke-opacity:1; fill:none\" points=\"1348.07,1693.09 1348.07,1674.19 \"/>\n",
       "<polyline clip-path=\"url(#clip160)\" style=\"stroke:#000000; stroke-linecap:round; stroke-linejoin:round; stroke-width:4; stroke-opacity:1; fill:none\" points=\"1722.09,1693.09 1722.09,1674.19 \"/>\n",
       "<path clip-path=\"url(#clip160)\" d=\"M203.388 1733.61 Q199.777 1733.61 197.948 1737.17 Q196.143 1740.71 196.143 1747.84 Q196.143 1754.95 197.948 1758.51 Q199.777 1762.06 203.388 1762.06 Q207.022 1762.06 208.828 1758.51 Q210.657 1754.95 210.657 1747.84 Q210.657 1740.71 208.828 1737.17 Q207.022 1733.61 203.388 1733.61 M203.388 1729.9 Q209.198 1729.9 212.254 1734.51 Q215.333 1739.09 215.333 1747.84 Q215.333 1756.57 212.254 1761.18 Q209.198 1765.76 203.388 1765.76 Q197.578 1765.76 194.499 1761.18 Q191.444 1756.57 191.444 1747.84 Q191.444 1739.09 194.499 1734.51 Q197.578 1729.9 203.388 1729.9 Z\" fill=\"#000000\" fill-rule=\"nonzero\" fill-opacity=\"1\" /><path clip-path=\"url(#clip160)\" d=\"M223.55 1759.21 L228.434 1759.21 L228.434 1765.09 L223.55 1765.09 L223.55 1759.21 Z\" fill=\"#000000\" fill-rule=\"nonzero\" fill-opacity=\"1\" /><path clip-path=\"url(#clip160)\" d=\"M248.619 1733.61 Q245.008 1733.61 243.18 1737.17 Q241.374 1740.71 241.374 1747.84 Q241.374 1754.95 243.18 1758.51 Q245.008 1762.06 248.619 1762.06 Q252.254 1762.06 254.059 1758.51 Q255.888 1754.95 255.888 1747.84 Q255.888 1740.71 254.059 1737.17 Q252.254 1733.61 248.619 1733.61 M248.619 1729.9 Q254.43 1729.9 257.485 1734.51 Q260.564 1739.09 260.564 1747.84 Q260.564 1756.57 257.485 1761.18 Q254.43 1765.76 248.619 1765.76 Q242.809 1765.76 239.731 1761.18 Q236.675 1756.57 236.675 1747.84 Q236.675 1739.09 239.731 1734.51 Q242.809 1729.9 248.619 1729.9 Z\" fill=\"#000000\" fill-rule=\"nonzero\" fill-opacity=\"1\" /><path clip-path=\"url(#clip160)\" d=\"M571.761 1761.15 L588.08 1761.15 L588.08 1765.09 L566.136 1765.09 L566.136 1761.15 Q568.798 1758.4 573.381 1753.77 Q577.988 1749.12 579.168 1747.77 Q581.413 1745.25 582.293 1743.51 Q583.196 1741.75 583.196 1740.06 Q583.196 1737.31 581.251 1735.57 Q579.33 1733.84 576.228 1733.84 Q574.029 1733.84 571.576 1734.6 Q569.145 1735.37 566.367 1736.92 L566.367 1732.19 Q569.191 1731.06 571.645 1730.48 Q574.099 1729.9 576.136 1729.9 Q581.506 1729.9 584.7 1732.59 Q587.895 1735.27 587.895 1739.76 Q587.895 1741.89 587.085 1743.81 Q586.298 1745.71 584.191 1748.31 Q583.612 1748.98 580.511 1752.19 Q577.409 1755.39 571.761 1761.15 Z\" fill=\"#000000\" fill-rule=\"nonzero\" fill-opacity=\"1\" /><path clip-path=\"url(#clip160)\" d=\"M597.895 1759.21 L602.779 1759.21 L602.779 1765.09 L597.895 1765.09 L597.895 1759.21 Z\" fill=\"#000000\" fill-rule=\"nonzero\" fill-opacity=\"1\" /><path clip-path=\"url(#clip160)\" d=\"M613.01 1730.53 L631.367 1730.53 L631.367 1734.46 L617.293 1734.46 L617.293 1742.94 Q618.311 1742.59 619.33 1742.43 Q620.348 1742.24 621.367 1742.24 Q627.154 1742.24 630.534 1745.41 Q633.913 1748.58 633.913 1754 Q633.913 1759.58 630.441 1762.68 Q626.969 1765.76 620.649 1765.76 Q618.473 1765.76 616.205 1765.39 Q613.96 1765.02 611.552 1764.28 L611.552 1759.58 Q613.635 1760.71 615.858 1761.27 Q618.08 1761.82 620.557 1761.82 Q624.561 1761.82 626.899 1759.72 Q629.237 1757.61 629.237 1754 Q629.237 1750.39 626.899 1748.28 Q624.561 1746.18 620.557 1746.18 Q618.682 1746.18 616.807 1746.59 Q614.955 1747.01 613.01 1747.89 L613.01 1730.53 Z\" fill=\"#000000\" fill-rule=\"nonzero\" fill-opacity=\"1\" /><path clip-path=\"url(#clip160)\" d=\"M941.21 1730.53 L959.566 1730.53 L959.566 1734.46 L945.492 1734.46 L945.492 1742.94 Q946.51 1742.59 947.529 1742.43 Q948.548 1742.24 949.566 1742.24 Q955.353 1742.24 958.733 1745.41 Q962.112 1748.58 962.112 1754 Q962.112 1759.58 958.64 1762.68 Q955.168 1765.76 948.848 1765.76 Q946.673 1765.76 944.404 1765.39 Q942.159 1765.02 939.751 1764.28 L939.751 1759.58 Q941.835 1760.71 944.057 1761.27 Q946.279 1761.82 948.756 1761.82 Q952.76 1761.82 955.098 1759.72 Q957.436 1757.61 957.436 1754 Q957.436 1750.39 955.098 1748.28 Q952.76 1746.18 948.756 1746.18 Q946.881 1746.18 945.006 1746.59 Q943.154 1747.01 941.21 1747.89 L941.21 1730.53 Z\" fill=\"#000000\" fill-rule=\"nonzero\" fill-opacity=\"1\" /><path clip-path=\"url(#clip160)\" d=\"M971.325 1759.21 L976.209 1759.21 L976.209 1765.09 L971.325 1765.09 L971.325 1759.21 Z\" fill=\"#000000\" fill-rule=\"nonzero\" fill-opacity=\"1\" /><path clip-path=\"url(#clip160)\" d=\"M996.394 1733.61 Q992.783 1733.61 990.955 1737.17 Q989.149 1740.71 989.149 1747.84 Q989.149 1754.95 990.955 1758.51 Q992.783 1762.06 996.394 1762.06 Q1000.03 1762.06 1001.83 1758.51 Q1003.66 1754.95 1003.66 1747.84 Q1003.66 1740.71 1001.83 1737.17 Q1000.03 1733.61 996.394 1733.61 M996.394 1729.9 Q1002.2 1729.9 1005.26 1734.51 Q1008.34 1739.09 1008.34 1747.84 Q1008.34 1756.57 1005.26 1761.18 Q1002.2 1765.76 996.394 1765.76 Q990.584 1765.76 987.506 1761.18 Q984.45 1756.57 984.45 1747.84 Q984.45 1739.09 987.506 1734.51 Q990.584 1729.9 996.394 1729.9 Z\" fill=\"#000000\" fill-rule=\"nonzero\" fill-opacity=\"1\" /><path clip-path=\"url(#clip160)\" d=\"M1314.39 1730.53 L1336.61 1730.53 L1336.61 1732.52 L1324.06 1765.09 L1319.18 1765.09 L1330.98 1734.46 L1314.39 1734.46 L1314.39 1730.53 Z\" fill=\"#000000\" fill-rule=\"nonzero\" fill-opacity=\"1\" /><path clip-path=\"url(#clip160)\" d=\"M1345.73 1759.21 L1350.61 1759.21 L1350.61 1765.09 L1345.73 1765.09 L1345.73 1759.21 Z\" fill=\"#000000\" fill-rule=\"nonzero\" fill-opacity=\"1\" /><path clip-path=\"url(#clip160)\" d=\"M1360.84 1730.53 L1379.2 1730.53 L1379.2 1734.46 L1365.13 1734.46 L1365.13 1742.94 Q1366.14 1742.59 1367.16 1742.43 Q1368.18 1742.24 1369.2 1742.24 Q1374.99 1742.24 1378.37 1745.41 Q1381.75 1748.58 1381.75 1754 Q1381.75 1759.58 1378.27 1762.68 Q1374.8 1765.76 1368.48 1765.76 Q1366.31 1765.76 1364.04 1765.39 Q1361.79 1765.02 1359.39 1764.28 L1359.39 1759.58 Q1361.47 1760.71 1363.69 1761.27 Q1365.91 1761.82 1368.39 1761.82 Q1372.39 1761.82 1374.73 1759.72 Q1377.07 1757.61 1377.07 1754 Q1377.07 1750.39 1374.73 1748.28 Q1372.39 1746.18 1368.39 1746.18 Q1366.51 1746.18 1364.64 1746.59 Q1362.79 1747.01 1360.84 1747.89 L1360.84 1730.53 Z\" fill=\"#000000\" fill-rule=\"nonzero\" fill-opacity=\"1\" /><path clip-path=\"url(#clip160)\" d=\"M1674.16 1761.15 L1681.8 1761.15 L1681.8 1734.79 L1673.49 1736.45 L1673.49 1732.19 L1681.75 1730.53 L1686.43 1730.53 L1686.43 1761.15 L1694.07 1761.15 L1694.07 1765.09 L1674.16 1765.09 L1674.16 1761.15 Z\" fill=\"#000000\" fill-rule=\"nonzero\" fill-opacity=\"1\" /><path clip-path=\"url(#clip160)\" d=\"M1713.51 1733.61 Q1709.9 1733.61 1708.07 1737.17 Q1706.26 1740.71 1706.26 1747.84 Q1706.26 1754.95 1708.07 1758.51 Q1709.9 1762.06 1713.51 1762.06 Q1717.14 1762.06 1718.95 1758.51 Q1720.78 1754.95 1720.78 1747.84 Q1720.78 1740.71 1718.95 1737.17 Q1717.14 1733.61 1713.51 1733.61 M1713.51 1729.9 Q1719.32 1729.9 1722.38 1734.51 Q1725.45 1739.09 1725.45 1747.84 Q1725.45 1756.57 1722.38 1761.18 Q1719.32 1765.76 1713.51 1765.76 Q1707.7 1765.76 1704.62 1761.18 Q1701.57 1756.57 1701.57 1747.84 Q1701.57 1739.09 1704.62 1734.51 Q1707.7 1729.9 1713.51 1729.9 Z\" fill=\"#000000\" fill-rule=\"nonzero\" fill-opacity=\"1\" /><path clip-path=\"url(#clip160)\" d=\"M1733.67 1759.21 L1738.56 1759.21 L1738.56 1765.09 L1733.67 1765.09 L1733.67 1759.21 Z\" fill=\"#000000\" fill-rule=\"nonzero\" fill-opacity=\"1\" /><path clip-path=\"url(#clip160)\" d=\"M1758.74 1733.61 Q1755.13 1733.61 1753.3 1737.17 Q1751.5 1740.71 1751.5 1747.84 Q1751.5 1754.95 1753.3 1758.51 Q1755.13 1762.06 1758.74 1762.06 Q1762.38 1762.06 1764.18 1758.51 Q1766.01 1754.95 1766.01 1747.84 Q1766.01 1740.71 1764.18 1737.17 Q1762.38 1733.61 1758.74 1733.61 M1758.74 1729.9 Q1764.55 1729.9 1767.61 1734.51 Q1770.69 1739.09 1770.69 1747.84 Q1770.69 1756.57 1767.61 1761.18 Q1764.55 1765.76 1758.74 1765.76 Q1752.93 1765.76 1749.85 1761.18 Q1746.8 1756.57 1746.8 1747.84 Q1746.8 1739.09 1749.85 1734.51 Q1752.93 1729.9 1758.74 1729.9 Z\" fill=\"#000000\" fill-rule=\"nonzero\" fill-opacity=\"1\" /><polyline clip-path=\"url(#clip162)\" style=\"stroke:#000000; stroke-linecap:round; stroke-linejoin:round; stroke-width:2; stroke-opacity:0.1; fill:none\" points=\"181.121,1648.24 1766.97,1648.24 \"/>\n",
       "<polyline clip-path=\"url(#clip162)\" style=\"stroke:#000000; stroke-linecap:round; stroke-linejoin:round; stroke-width:2; stroke-opacity:0.1; fill:none\" points=\"181.121,1274.48 1766.97,1274.48 \"/>\n",
       "<polyline clip-path=\"url(#clip162)\" style=\"stroke:#000000; stroke-linecap:round; stroke-linejoin:round; stroke-width:2; stroke-opacity:0.1; fill:none\" points=\"181.121,900.72 1766.97,900.72 \"/>\n",
       "<polyline clip-path=\"url(#clip162)\" style=\"stroke:#000000; stroke-linecap:round; stroke-linejoin:round; stroke-width:2; stroke-opacity:0.1; fill:none\" points=\"181.121,526.962 1766.97,526.962 \"/>\n",
       "<polyline clip-path=\"url(#clip162)\" style=\"stroke:#000000; stroke-linecap:round; stroke-linejoin:round; stroke-width:2; stroke-opacity:0.1; fill:none\" points=\"181.121,153.203 1766.97,153.203 \"/>\n",
       "<polyline clip-path=\"url(#clip160)\" style=\"stroke:#000000; stroke-linecap:round; stroke-linejoin:round; stroke-width:4; stroke-opacity:1; fill:none\" points=\"181.121,1693.09 181.121,108.352 \"/>\n",
       "<polyline clip-path=\"url(#clip160)\" style=\"stroke:#000000; stroke-linecap:round; stroke-linejoin:round; stroke-width:4; stroke-opacity:1; fill:none\" points=\"181.121,1648.24 200.019,1648.24 \"/>\n",
       "<polyline clip-path=\"url(#clip160)\" style=\"stroke:#000000; stroke-linecap:round; stroke-linejoin:round; stroke-width:4; stroke-opacity:1; fill:none\" points=\"181.121,1274.48 200.019,1274.48 \"/>\n",
       "<polyline clip-path=\"url(#clip160)\" style=\"stroke:#000000; stroke-linecap:round; stroke-linejoin:round; stroke-width:4; stroke-opacity:1; fill:none\" points=\"181.121,900.72 200.019,900.72 \"/>\n",
       "<polyline clip-path=\"url(#clip160)\" style=\"stroke:#000000; stroke-linecap:round; stroke-linejoin:round; stroke-width:4; stroke-opacity:1; fill:none\" points=\"181.121,526.962 200.019,526.962 \"/>\n",
       "<polyline clip-path=\"url(#clip160)\" style=\"stroke:#000000; stroke-linecap:round; stroke-linejoin:round; stroke-width:4; stroke-opacity:1; fill:none\" points=\"181.121,153.203 200.019,153.203 \"/>\n",
       "<path clip-path=\"url(#clip160)\" d=\"M115.177 1634.04 Q111.566 1634.04 109.737 1637.6 Q107.932 1641.14 107.932 1648.27 Q107.932 1655.38 109.737 1658.94 Q111.566 1662.48 115.177 1662.48 Q118.811 1662.48 120.617 1658.94 Q122.445 1655.38 122.445 1648.27 Q122.445 1641.14 120.617 1637.6 Q118.811 1634.04 115.177 1634.04 M115.177 1630.33 Q120.987 1630.33 124.043 1634.94 Q127.121 1639.52 127.121 1648.27 Q127.121 1657 124.043 1661.6 Q120.987 1666.19 115.177 1666.19 Q109.367 1666.19 106.288 1661.6 Q103.233 1657 103.233 1648.27 Q103.233 1639.52 106.288 1634.94 Q109.367 1630.33 115.177 1630.33 Z\" fill=\"#000000\" fill-rule=\"nonzero\" fill-opacity=\"1\" /><path clip-path=\"url(#clip160)\" d=\"M80.0382 1287.82 L96.3576 1287.82 L96.3576 1291.76 L74.4133 1291.76 L74.4133 1287.82 Q77.0753 1285.07 81.6586 1280.44 Q86.2651 1275.79 87.4456 1274.44 Q89.691 1271.92 90.5706 1270.18 Q91.4734 1268.43 91.4734 1266.74 Q91.4734 1263.98 89.5289 1262.24 Q87.6076 1260.51 84.5058 1260.51 Q82.3067 1260.51 79.8531 1261.27 Q77.4225 1262.04 74.6447 1263.59 L74.6447 1258.87 Q77.4688 1257.73 79.9225 1257.15 Q82.3762 1256.57 84.4132 1256.57 Q89.7836 1256.57 92.978 1259.26 Q96.1724 1261.94 96.1724 1266.43 Q96.1724 1268.56 95.3622 1270.49 Q94.5752 1272.38 92.4687 1274.98 Q91.89 1275.65 88.7882 1278.86 Q85.6864 1282.06 80.0382 1287.82 Z\" fill=\"#000000\" fill-rule=\"nonzero\" fill-opacity=\"1\" /><path clip-path=\"url(#clip160)\" d=\"M106.219 1257.2 L124.575 1257.2 L124.575 1261.13 L110.501 1261.13 L110.501 1269.61 Q111.52 1269.26 112.538 1269.1 Q113.557 1268.91 114.575 1268.91 Q120.362 1268.91 123.742 1272.08 Q127.121 1275.25 127.121 1280.67 Q127.121 1286.25 123.649 1289.35 Q120.177 1292.43 113.857 1292.43 Q111.682 1292.43 109.413 1292.06 Q107.168 1291.69 104.76 1290.95 L104.76 1286.25 Q106.844 1287.38 109.066 1287.94 Q111.288 1288.49 113.765 1288.49 Q117.77 1288.49 120.107 1286.39 Q122.445 1284.28 122.445 1280.67 Q122.445 1277.06 120.107 1274.95 Q117.77 1272.85 113.765 1272.85 Q111.89 1272.85 110.015 1273.26 Q108.163 1273.68 106.219 1274.56 L106.219 1257.2 Z\" fill=\"#000000\" fill-rule=\"nonzero\" fill-opacity=\"1\" /><path clip-path=\"url(#clip160)\" d=\"M75.0614 883.44 L93.4178 883.44 L93.4178 887.375 L79.3438 887.375 L79.3438 895.847 Q80.3623 895.5 81.3808 895.338 Q82.3993 895.153 83.4178 895.153 Q89.2049 895.153 92.5845 898.324 Q95.9641 901.495 95.9641 906.912 Q95.9641 912.491 92.4919 915.593 Q89.0197 918.671 82.7003 918.671 Q80.5243 918.671 78.2558 918.301 Q76.0105 917.931 73.6031 917.19 L73.6031 912.491 Q75.6864 913.625 77.9086 914.181 Q80.1308 914.736 82.6077 914.736 Q86.6123 914.736 88.9502 912.63 Q91.2882 910.523 91.2882 906.912 Q91.2882 903.301 88.9502 901.195 Q86.6123 899.088 82.6077 899.088 Q80.7327 899.088 78.8577 899.505 Q77.0058 899.921 75.0614 900.801 L75.0614 883.44 Z\" fill=\"#000000\" fill-rule=\"nonzero\" fill-opacity=\"1\" /><path clip-path=\"url(#clip160)\" d=\"M115.177 886.519 Q111.566 886.519 109.737 890.083 Q107.932 893.625 107.932 900.755 Q107.932 907.861 109.737 911.426 Q111.566 914.968 115.177 914.968 Q118.811 914.968 120.617 911.426 Q122.445 907.861 122.445 900.755 Q122.445 893.625 120.617 890.083 Q118.811 886.519 115.177 886.519 M115.177 882.815 Q120.987 882.815 124.043 887.421 Q127.121 892.005 127.121 900.755 Q127.121 909.482 124.043 914.088 Q120.987 918.671 115.177 918.671 Q109.367 918.671 106.288 914.088 Q103.233 909.482 103.233 900.755 Q103.233 892.005 106.288 887.421 Q109.367 882.815 115.177 882.815 Z\" fill=\"#000000\" fill-rule=\"nonzero\" fill-opacity=\"1\" /><path clip-path=\"url(#clip160)\" d=\"M74.8299 509.682 L97.052 509.682 L97.052 511.672 L84.5058 544.242 L79.6216 544.242 L91.4271 513.617 L74.8299 513.617 L74.8299 509.682 Z\" fill=\"#000000\" fill-rule=\"nonzero\" fill-opacity=\"1\" /><path clip-path=\"url(#clip160)\" d=\"M106.219 509.682 L124.575 509.682 L124.575 513.617 L110.501 513.617 L110.501 522.089 Q111.52 521.742 112.538 521.58 Q113.557 521.394 114.575 521.394 Q120.362 521.394 123.742 524.566 Q127.121 527.737 127.121 533.154 Q127.121 538.732 123.649 541.834 Q120.177 544.913 113.857 544.913 Q111.682 544.913 109.413 544.542 Q107.168 544.172 104.76 543.431 L104.76 538.732 Q106.844 539.867 109.066 540.422 Q111.288 540.978 113.765 540.978 Q117.77 540.978 120.107 538.871 Q122.445 536.765 122.445 533.154 Q122.445 529.543 120.107 527.436 Q117.77 525.33 113.765 525.33 Q111.89 525.33 110.015 525.746 Q108.163 526.163 106.219 527.043 L106.219 509.682 Z\" fill=\"#000000\" fill-rule=\"nonzero\" fill-opacity=\"1\" /><path clip-path=\"url(#clip160)\" d=\"M45.6634 166.548 L53.3023 166.548 L53.3023 140.182 L44.9921 141.849 L44.9921 137.59 L53.256 135.923 L57.9319 135.923 L57.9319 166.548 L65.5707 166.548 L65.5707 170.483 L45.6634 170.483 L45.6634 166.548 Z\" fill=\"#000000\" fill-rule=\"nonzero\" fill-opacity=\"1\" /><path clip-path=\"url(#clip160)\" d=\"M85.0151 139.002 Q81.404 139.002 79.5753 142.567 Q77.7697 146.108 77.7697 153.238 Q77.7697 160.344 79.5753 163.909 Q81.404 167.451 85.0151 167.451 Q88.6493 167.451 90.4548 163.909 Q92.2835 160.344 92.2835 153.238 Q92.2835 146.108 90.4548 142.567 Q88.6493 139.002 85.0151 139.002 M85.0151 135.298 Q90.8252 135.298 93.8808 139.905 Q96.9594 144.488 96.9594 153.238 Q96.9594 161.965 93.8808 166.571 Q90.8252 171.154 85.0151 171.154 Q79.2049 171.154 76.1262 166.571 Q73.0707 161.965 73.0707 153.238 Q73.0707 144.488 76.1262 139.905 Q79.2049 135.298 85.0151 135.298 Z\" fill=\"#000000\" fill-rule=\"nonzero\" fill-opacity=\"1\" /><path clip-path=\"url(#clip160)\" d=\"M115.177 139.002 Q111.566 139.002 109.737 142.567 Q107.932 146.108 107.932 153.238 Q107.932 160.344 109.737 163.909 Q111.566 167.451 115.177 167.451 Q118.811 167.451 120.617 163.909 Q122.445 160.344 122.445 153.238 Q122.445 146.108 120.617 142.567 Q118.811 139.002 115.177 139.002 M115.177 135.298 Q120.987 135.298 124.043 139.905 Q127.121 144.488 127.121 153.238 Q127.121 161.965 124.043 166.571 Q120.987 171.154 115.177 171.154 Q109.367 171.154 106.288 166.571 Q103.233 161.965 103.233 153.238 Q103.233 144.488 106.288 139.905 Q109.367 135.298 115.177 135.298 Z\" fill=\"#000000\" fill-rule=\"nonzero\" fill-opacity=\"1\" /><path clip-path=\"url(#clip160)\" d=\"M679.018 12.096 L691.211 12.096 L706.645 53.2532 L722.16 12.096 L734.353 12.096 L734.353 72.576 L726.373 72.576 L726.373 19.4686 L710.777 60.9499 L702.553 60.9499 L686.957 19.4686 L686.957 72.576 L679.018 72.576 L679.018 12.096 Z\" fill=\"#000000\" fill-rule=\"nonzero\" fill-opacity=\"1\" /><path clip-path=\"url(#clip160)\" d=\"M789.081 48.0275 L789.081 51.6733 L754.81 51.6733 Q755.296 59.3701 759.428 63.421 Q763.601 67.4314 771.014 67.4314 Q775.308 67.4314 779.318 66.3781 Q783.369 65.3249 787.339 63.2184 L787.339 70.267 Q783.328 71.9684 779.116 72.8596 Q774.903 73.7508 770.568 73.7508 Q759.712 73.7508 753.352 67.4314 Q747.032 61.1119 747.032 50.3365 Q747.032 39.1965 753.028 32.6746 Q759.064 26.1121 769.272 26.1121 Q778.427 26.1121 783.734 32.0264 Q789.081 37.9003 789.081 48.0275 M781.627 45.84 Q781.546 39.7232 778.184 36.0774 Q774.862 32.4315 769.353 32.4315 Q763.114 32.4315 759.347 35.9558 Q755.62 39.4801 755.053 45.8805 L781.627 45.84 Z\" fill=\"#000000\" fill-rule=\"nonzero\" fill-opacity=\"1\" /><path clip-path=\"url(#clip160)\" d=\"M821.934 49.7694 Q812.9 49.7694 809.416 51.8354 Q805.933 53.9013 805.933 58.8839 Q805.933 62.8538 808.525 65.2034 Q811.158 67.5124 815.655 67.5124 Q821.853 67.5124 825.579 63.1374 Q829.347 58.7219 829.347 51.4303 L829.347 49.7694 L821.934 49.7694 M836.8 46.6907 L836.8 72.576 L829.347 72.576 L829.347 65.6895 Q826.795 69.8214 822.987 71.8063 Q819.179 73.7508 813.67 73.7508 Q806.702 73.7508 802.57 69.8619 Q798.479 65.9325 798.479 59.3701 Q798.479 51.7138 803.583 47.825 Q808.728 43.9361 818.895 43.9361 L829.347 43.9361 L829.347 43.2069 Q829.347 38.0623 825.944 35.2672 Q822.582 32.4315 816.465 32.4315 Q812.576 32.4315 808.89 33.3632 Q805.203 34.295 801.801 36.1584 L801.801 29.2718 Q805.892 27.692 809.74 26.9223 Q813.589 26.1121 817.235 26.1121 Q827.078 26.1121 831.939 31.2163 Q836.8 36.3204 836.8 46.6907 Z\" fill=\"#000000\" fill-rule=\"nonzero\" fill-opacity=\"1\" /><path clip-path=\"url(#clip160)\" d=\"M889.867 45.1919 L889.867 72.576 L882.414 72.576 L882.414 45.4349 Q882.414 38.994 879.902 35.7938 Q877.39 32.5936 872.367 32.5936 Q866.332 32.5936 862.848 36.4419 Q859.364 40.2903 859.364 46.9338 L859.364 72.576 L851.87 72.576 L851.87 27.2059 L859.364 27.2059 L859.364 34.2544 Q862.038 30.163 865.643 28.1376 Q869.289 26.1121 874.028 26.1121 Q881.846 26.1121 885.857 30.9732 Q889.867 35.7938 889.867 45.1919 Z\" fill=\"#000000\" fill-rule=\"nonzero\" fill-opacity=\"1\" /><path clip-path=\"url(#clip160)\" d=\"M923.044 12.096 L974.207 12.096 L974.207 18.9825 L952.737 18.9825 L952.737 72.576 L944.514 72.576 L944.514 18.9825 L923.044 18.9825 L923.044 12.096 Z\" fill=\"#000000\" fill-rule=\"nonzero\" fill-opacity=\"1\" /><path clip-path=\"url(#clip160)\" d=\"M963.715 27.2059 L971.169 27.2059 L980.486 62.6108 L989.763 27.2059 L998.553 27.2059 L1007.87 62.6108 L1017.15 27.2059 L1024.6 27.2059 L1012.73 72.576 L1003.94 72.576 L994.178 35.3887 L984.375 72.576 L975.584 72.576 L963.715 27.2059 Z\" fill=\"#000000\" fill-rule=\"nonzero\" fill-opacity=\"1\" /><path clip-path=\"url(#clip160)\" d=\"M1053.48 32.4315 Q1047.49 32.4315 1044 37.1306 Q1040.52 41.7891 1040.52 49.9314 Q1040.52 58.0738 1043.96 62.7728 Q1047.45 67.4314 1053.48 67.4314 Q1059.44 67.4314 1062.92 62.7323 Q1066.41 58.0333 1066.41 49.9314 Q1066.41 41.8701 1062.92 37.1711 Q1059.44 32.4315 1053.48 32.4315 M1053.48 26.1121 Q1063.21 26.1121 1068.76 32.4315 Q1074.3 38.7509 1074.3 49.9314 Q1074.3 61.0714 1068.76 67.4314 Q1063.21 73.7508 1053.48 73.7508 Q1043.72 73.7508 1038.17 67.4314 Q1032.66 61.0714 1032.66 49.9314 Q1032.66 38.7509 1038.17 32.4315 Q1043.72 26.1121 1053.48 26.1121 Z\" fill=\"#000000\" fill-rule=\"nonzero\" fill-opacity=\"1\" /><path clip-path=\"url(#clip160)\" d=\"M1121.54 18.8205 L1121.54 41.5461 L1131.83 41.5461 Q1137.54 41.5461 1140.66 38.5889 Q1143.78 35.6318 1143.78 30.163 Q1143.78 24.7348 1140.66 21.7777 Q1137.54 18.8205 1131.83 18.8205 L1121.54 18.8205 M1113.36 12.096 L1131.83 12.096 Q1142 12.096 1147.18 16.714 Q1152.41 21.2916 1152.41 30.163 Q1152.41 39.1155 1147.18 43.6931 Q1142 48.2706 1131.83 48.2706 L1121.54 48.2706 L1121.54 72.576 L1113.36 72.576 L1113.36 12.096 Z\" fill=\"#000000\" fill-rule=\"nonzero\" fill-opacity=\"1\" /><path clip-path=\"url(#clip160)\" d=\"M1177.68 32.4315 Q1171.69 32.4315 1168.2 37.1306 Q1164.72 41.7891 1164.72 49.9314 Q1164.72 58.0738 1168.16 62.7728 Q1171.65 67.4314 1177.68 67.4314 Q1183.64 67.4314 1187.12 62.7323 Q1190.61 58.0333 1190.61 49.9314 Q1190.61 41.8701 1187.12 37.1711 Q1183.64 32.4315 1177.68 32.4315 M1177.68 26.1121 Q1187.41 26.1121 1192.96 32.4315 Q1198.51 38.7509 1198.51 49.9314 Q1198.51 61.0714 1192.96 67.4314 Q1187.41 73.7508 1177.68 73.7508 Q1167.92 73.7508 1162.37 67.4314 Q1156.86 61.0714 1156.86 49.9314 Q1156.86 38.7509 1162.37 32.4315 Q1167.92 26.1121 1177.68 26.1121 Z\" fill=\"#000000\" fill-rule=\"nonzero\" fill-opacity=\"1\" /><path clip-path=\"url(#clip160)\" d=\"M1228.44 32.4315 Q1222.45 32.4315 1218.96 37.1306 Q1215.48 41.7891 1215.48 49.9314 Q1215.48 58.0738 1218.92 62.7728 Q1222.41 67.4314 1228.44 67.4314 Q1234.4 67.4314 1237.88 62.7323 Q1241.36 58.0333 1241.36 49.9314 Q1241.36 41.8701 1237.88 37.1711 Q1234.4 32.4315 1228.44 32.4315 M1228.44 26.1121 Q1238.16 26.1121 1243.71 32.4315 Q1249.26 38.7509 1249.26 49.9314 Q1249.26 61.0714 1243.71 67.4314 Q1238.16 73.7508 1228.44 73.7508 Q1218.68 73.7508 1213.13 67.4314 Q1207.62 61.0714 1207.62 49.9314 Q1207.62 38.7509 1213.13 32.4315 Q1218.68 26.1121 1228.44 26.1121 Z\" fill=\"#000000\" fill-rule=\"nonzero\" fill-opacity=\"1\" /><path clip-path=\"url(#clip160)\" d=\"M1261.62 9.54393 L1269.07 9.54393 L1269.07 72.576 L1261.62 72.576 L1261.62 9.54393 Z\" fill=\"#000000\" fill-rule=\"nonzero\" fill-opacity=\"1\" /><polyline clip-path=\"url(#clip162)\" style=\"stroke:#009af9; stroke-linecap:round; stroke-linejoin:round; stroke-width:4; stroke-opacity:1; fill:none\" points=\"226.004,153.203 233.484,175.644 240.965,197.332 248.445,218.32 255.925,238.632 263.406,258.312 270.886,277.417 278.367,295.961 285.847,313.933 293.328,331.398 300.808,348.225 308.288,364.657 315.769,380.603 323.249,396.092 330.73,411.203 338.21,425.903 345.69,440.193 353.171,454.084 360.651,467.646 368.132,480.851 375.612,493.733 383.092,506.226 390.573,518.534 398.053,530.486 405.534,542.116 413.014,553.619 420.495,564.818 427.975,575.749 435.455,586.299 442.936,596.69 450.416,606.952 457.897,616.744 465.377,626.406 472.857,635.812 480.338,645.109 487.818,654.222 495.299,663.147 502.779,671.98 510.259,680.587 517.74,689.063 525.22,697.431 532.701,705.602 540.181,713.663 547.662,721.486 555.142,729.18 562.622,736.773 570.103,744.221 577.583,751.522 585.064,758.755 592.544,765.746 600.024,772.818 607.505,779.708 614.985,786.487 622.466,793.153 629.946,799.731 637.426,806.187 644.907,812.594 652.387,818.93 659.868,825.193 667.348,831.33 674.829,837.384 682.309,843.305 689.789,849.171 697.27,855.011 704.75,860.754 712.231,866.485 719.711,872.162 727.191,877.799 734.672,883.283 742.152,888.764 749.633,894.168 757.113,899.479 764.594,904.759 772.074,909.96 779.554,915.158 787.035,920.286 794.515,925.317 801.996,930.294 809.476,935.231 816.956,940.132 824.437,944.849 831.917,949.649 839.398,954.411 846.878,959.13 854.358,963.685 861.839,968.324 869.319,972.938 876.8,977.445 884.28,981.906 891.761,986.419 899.241,990.906 906.721,995.28 914.202,999.6 921.682,1003.81 929.163,1008.12 936.643,1012.36 944.123,1016.51 951.604,1020.66 959.084,1024.72 966.565,1028.85 974.045,1032.91 981.525,1036.86 989.006,1040.78 996.486,1044.75 1003.97,1048.59 1011.45,1052.46 1018.93,1056.29 1026.41,1060.16 1033.89,1063.89 1041.37,1067.67 1048.85,1071.41 1056.33,1075.16 1063.81,1078.93 1071.29,1082.58 1078.77,1086.25 1086.25,1089.84 1093.73,1093.5 1101.21,1097.13 1108.69,1100.66 1116.17,1104.13 1123.65,1107.63 1131.13,1111.01 1138.61,1114.47 1146.09,1117.88 1153.57,1121.3 1161.06,1124.68 1168.54,1128.04 1176.02,1131.29 1183.5,1134.6 1190.98,1137.88 1198.46,1141.19 1205.94,1144.45 1213.42,1147.6 1220.9,1150.77 1228.38,1153.96 1235.86,1157.07 1243.34,1160.17 1250.82,1163.27 1258.3,1166.37 1265.78,1169.38 1273.26,1172.36 1280.74,1175.38 1288.22,1178.46 1295.7,1181.49 1303.18,1184.43 1310.66,1187.37 1318.14,1190.31 1325.62,1193.25 1333.1,1196.17 1340.59,1199.09 1348.07,1201.94 1355.55,1204.75 1363.03,1207.58 1370.51,1210.33 1377.99,1213.16 1385.47,1215.93 1392.95,1218.61 1400.43,1221.36 1407.91,1224 1415.39,1226.66 1422.87,1229.34 1430.35,1232.06 1437.83,1234.77 1445.31,1237.44 1452.79,1240.03 1460.27,1242.6 1467.75,1245.12 1475.23,1247.7 1482.71,1250.17 1490.19,1252.73 1497.67,1255.2 1505.15,1257.66 1512.63,1260.02 1520.12,1262.46 1527.6,1264.82 1535.08,1267.23 1542.56,1269.64 1550.04,1272.07 1557.52,1274.47 1565,1276.83 1572.48,1279.18 1579.96,1281.51 1587.44,1283.79 1594.92,1286.08 1602.4,1288.41 1609.88,1290.62 1617.36,1292.88 1624.84,1295.15 1632.32,1297.39 1639.8,1299.61 1647.28,1301.82 1654.76,1303.95 1662.24,1306.05 1669.72,1308.26 1677.2,1310.37 1684.68,1312.48 1692.16,1314.6 1699.65,1316.73 1707.13,1318.84 1714.61,1320.94 1722.09,1323 \"/>\n",
       "<polyline clip-path=\"url(#clip162)\" style=\"stroke:#e26f46; stroke-linecap:round; stroke-linejoin:round; stroke-width:4; stroke-opacity:1; fill:none\" points=\"226.004,1648.24 233.484,1633.31 240.965,1616.64 248.445,1602.77 255.925,1589.84 263.406,1577.73 270.886,1566.26 278.367,1555.38 285.847,1545.08 293.328,1535.3 300.808,1526.12 308.288,1517.41 315.769,1509.22 323.249,1501.48 330.73,1494.1 338.21,1487.11 345.69,1480.56 353.171,1474.41 360.651,1468.58 368.132,1463.05 375.612,1457.84 383.092,1452.97 390.573,1448.28 398.053,1443.92 405.534,1439.93 413.014,1436.06 420.495,1432.5 427.975,1429.2 435.455,1426.21 442.936,1423.33 450.416,1420.6 457.897,1418.26 465.377,1416.05 472.857,1414.02 480.338,1412.12 487.818,1410.4 495.299,1408.81 502.779,1407.32 510.259,1406.01 517.74,1404.8 525.22,1403.66 532.701,1402.69 540.181,1401.8 547.662,1401.11 555.142,1400.49 562.622,1399.94 570.103,1399.56 577.583,1399.25 585.064,1399.03 592.544,1398.97 600.024,1398.82 607.505,1398.77 614.985,1398.92 622.466,1399.07 629.946,1399.33 637.426,1399.6 644.907,1399.86 652.387,1400.18 659.868,1400.55 667.348,1400.96 674.829,1401.53 682.309,1402.14 689.789,1402.78 697.27,1403.37 704.75,1404.01 712.231,1404.66 719.711,1405.33 727.191,1406.05 734.672,1406.85 742.152,1407.61 749.633,1408.43 757.113,1409.3 764.594,1410.19 772.074,1411.04 779.554,1411.96 787.035,1412.84 794.515,1413.83 801.996,1414.78 809.476,1415.78 816.956,1416.77 824.437,1417.91 831.917,1418.93 839.398,1419.99 846.878,1421.03 854.358,1422.18 861.839,1423.19 869.319,1424.23 876.8,1425.32 884.28,1426.41 891.761,1427.46 899.241,1428.49 906.721,1429.56 914.202,1430.65 921.682,1431.85 929.163,1432.93 936.643,1434.06 944.123,1435.24 951.604,1436.36 959.084,1437.53 966.565,1438.61 974.045,1439.75 981.525,1440.95 989.006,1442.16 996.486,1443.26 1003.97,1444.42 1011.45,1445.62 1018.93,1446.74 1026.41,1447.8 1033.89,1449 1041.37,1450.16 1048.85,1451.31 1056.33,1452.35 1063.81,1453.39 1071.29,1454.56 1078.77,1455.68 1086.25,1456.79 1093.73,1457.86 1101.21,1458.92 1108.69,1460.05 1116.17,1461.12 1123.65,1462.25 1131.13,1463.4 1138.61,1464.5 1146.09,1465.56 1153.57,1466.6 1161.06,1467.71 1168.54,1468.8 1176.02,1469.95 1183.5,1471.03 1190.98,1472.07 1198.46,1473.07 1205.94,1474.13 1213.42,1475.21 1220.9,1476.26 1228.38,1477.31 1235.86,1478.36 1243.34,1479.42 1250.82,1480.43 1258.3,1481.43 1265.78,1482.49 1273.26,1483.58 1280.74,1484.64 1288.22,1485.57 1295.7,1486.52 1303.18,1487.49 1310.66,1488.49 1318.14,1489.46 1325.62,1490.39 1333.1,1491.33 1340.59,1492.24 1348.07,1493.21 1355.55,1494.18 1363.03,1495.1 1370.51,1496.06 1377.99,1496.96 1385.47,1497.89 1392.95,1498.86 1400.43,1499.77 1407.91,1500.74 1415.39,1501.64 1422.87,1502.54 1430.35,1503.39 1437.83,1504.23 1445.31,1505.04 1452.79,1505.95 1460.27,1506.85 1467.75,1507.77 1475.23,1508.63 1482.71,1509.55 1490.19,1510.39 1497.67,1511.3 1505.15,1512.17 1512.63,1513.1 1520.12,1513.92 1527.6,1514.8 1535.08,1515.62 1542.56,1516.47 1550.04,1517.26 1557.52,1518.03 1565,1518.85 1572.48,1519.61 1579.96,1520.45 1587.44,1521.29 1594.92,1522.09 1602.4,1522.82 1609.88,1523.66 1617.36,1524.47 1624.84,1525.23 1632.32,1525.98 1639.8,1526.76 1647.28,1527.49 1654.76,1528.33 1662.24,1529.19 1669.72,1529.91 1677.2,1530.67 1684.68,1531.42 1692.16,1532.17 1699.65,1532.86 1707.13,1533.59 1714.61,1534.27 1722.09,1535 \"/>\n",
       "<path clip-path=\"url(#clip160)\" d=\"M1503.09 316.697 L1714.11 316.697 L1714.11 161.177 L1503.09 161.177  Z\" fill=\"#ffffff\" fill-rule=\"evenodd\" fill-opacity=\"1\"/>\n",
       "<polyline clip-path=\"url(#clip160)\" style=\"stroke:#000000; stroke-linecap:round; stroke-linejoin:round; stroke-width:4; stroke-opacity:1; fill:none\" points=\"1503.09,316.697 1714.11,316.697 1714.11,161.177 1503.09,161.177 1503.09,316.697 \"/>\n",
       "<polyline clip-path=\"url(#clip160)\" style=\"stroke:#009af9; stroke-linecap:round; stroke-linejoin:round; stroke-width:4; stroke-opacity:1; fill:none\" points=\"1520.71,213.017 1626.44,213.017 \"/>\n",
       "<path clip-path=\"url(#clip160)\" d=\"M1657.9 232.704 Q1656.09 237.334 1654.38 238.746 Q1652.67 240.158 1649.8 240.158 L1646.39 240.158 L1646.39 236.593 L1648.89 236.593 Q1650.65 236.593 1651.63 235.76 Q1652.6 234.926 1653.78 231.824 L1654.54 229.88 L1644.06 204.371 L1648.57 204.371 L1656.67 224.649 L1664.77 204.371 L1669.29 204.371 L1657.9 232.704 Z\" fill=\"#000000\" fill-rule=\"nonzero\" fill-opacity=\"1\" /><path clip-path=\"url(#clip160)\" d=\"M1676.58 226.361 L1684.22 226.361 L1684.22 199.996 L1675.91 201.663 L1675.91 197.403 L1684.17 195.737 L1688.85 195.737 L1688.85 226.361 L1696.49 226.361 L1696.49 230.297 L1676.58 230.297 L1676.58 226.361 Z\" fill=\"#000000\" fill-rule=\"nonzero\" fill-opacity=\"1\" /><polyline clip-path=\"url(#clip160)\" style=\"stroke:#e26f46; stroke-linecap:round; stroke-linejoin:round; stroke-width:4; stroke-opacity:1; fill:none\" points=\"1520.71,264.857 1626.44,264.857 \"/>\n",
       "<path clip-path=\"url(#clip160)\" d=\"M1657.9 284.544 Q1656.09 289.174 1654.38 290.586 Q1652.67 291.998 1649.8 291.998 L1646.39 291.998 L1646.39 288.433 L1648.89 288.433 Q1650.65 288.433 1651.63 287.6 Q1652.6 286.766 1653.78 283.664 L1654.54 281.72 L1644.06 256.211 L1648.57 256.211 L1656.67 276.489 L1664.77 256.211 L1669.29 256.211 L1657.9 284.544 Z\" fill=\"#000000\" fill-rule=\"nonzero\" fill-opacity=\"1\" /><path clip-path=\"url(#clip160)\" d=\"M1679.8 278.201 L1696.12 278.201 L1696.12 282.137 L1674.17 282.137 L1674.17 278.201 Q1676.83 275.447 1681.42 270.817 Q1686.02 266.165 1687.2 264.822 Q1689.45 262.299 1690.33 260.563 Q1691.23 258.803 1691.23 257.114 Q1691.23 254.359 1689.29 252.623 Q1687.37 250.887 1684.26 250.887 Q1682.07 250.887 1679.61 251.651 Q1677.18 252.415 1674.4 253.966 L1674.4 249.243 Q1677.23 248.109 1679.68 247.53 Q1682.13 246.952 1684.17 246.952 Q1689.54 246.952 1692.74 249.637 Q1695.93 252.322 1695.93 256.813 Q1695.93 258.942 1695.12 260.864 Q1694.33 262.762 1692.23 265.354 Q1691.65 266.026 1688.55 269.243 Q1685.45 272.438 1679.8 278.201 Z\" fill=\"#000000\" fill-rule=\"nonzero\" fill-opacity=\"1\" /><path clip-path=\"url(#clip160)\" d=\"M1966.91 1693.09 L3552.76 1693.09 L3552.76 108.352 L1966.91 108.352  Z\" fill=\"#ffffff\" fill-rule=\"evenodd\" fill-opacity=\"1\"/>\n",
       "<defs>\n",
       "  <clipPath id=\"clip163\">\n",
       "    <rect x=\"1966\" y=\"108\" width=\"1587\" height=\"1586\"/>\n",
       "  </clipPath>\n",
       "</defs>\n",
       "<polyline clip-path=\"url(#clip163)\" style=\"stroke:#000000; stroke-linecap:round; stroke-linejoin:round; stroke-width:2; stroke-opacity:0.1; fill:none\" points=\"2011.79,1693.09 2011.79,108.352 \"/>\n",
       "<polyline clip-path=\"url(#clip163)\" style=\"stroke:#000000; stroke-linecap:round; stroke-linejoin:round; stroke-width:2; stroke-opacity:0.1; fill:none\" points=\"2385.81,1693.09 2385.81,108.352 \"/>\n",
       "<polyline clip-path=\"url(#clip163)\" style=\"stroke:#000000; stroke-linecap:round; stroke-linejoin:round; stroke-width:2; stroke-opacity:0.1; fill:none\" points=\"2759.83,1693.09 2759.83,108.352 \"/>\n",
       "<polyline clip-path=\"url(#clip163)\" style=\"stroke:#000000; stroke-linecap:round; stroke-linejoin:round; stroke-width:2; stroke-opacity:0.1; fill:none\" points=\"3133.85,1693.09 3133.85,108.352 \"/>\n",
       "<polyline clip-path=\"url(#clip163)\" style=\"stroke:#000000; stroke-linecap:round; stroke-linejoin:round; stroke-width:2; stroke-opacity:0.1; fill:none\" points=\"3507.87,1693.09 3507.87,108.352 \"/>\n",
       "<polyline clip-path=\"url(#clip160)\" style=\"stroke:#000000; stroke-linecap:round; stroke-linejoin:round; stroke-width:4; stroke-opacity:1; fill:none\" points=\"1966.91,1693.09 3552.76,1693.09 \"/>\n",
       "<polyline clip-path=\"url(#clip160)\" style=\"stroke:#000000; stroke-linecap:round; stroke-linejoin:round; stroke-width:4; stroke-opacity:1; fill:none\" points=\"2011.79,1693.09 2011.79,1674.19 \"/>\n",
       "<polyline clip-path=\"url(#clip160)\" style=\"stroke:#000000; stroke-linecap:round; stroke-linejoin:round; stroke-width:4; stroke-opacity:1; fill:none\" points=\"2385.81,1693.09 2385.81,1674.19 \"/>\n",
       "<polyline clip-path=\"url(#clip160)\" style=\"stroke:#000000; stroke-linecap:round; stroke-linejoin:round; stroke-width:4; stroke-opacity:1; fill:none\" points=\"2759.83,1693.09 2759.83,1674.19 \"/>\n",
       "<polyline clip-path=\"url(#clip160)\" style=\"stroke:#000000; stroke-linecap:round; stroke-linejoin:round; stroke-width:4; stroke-opacity:1; fill:none\" points=\"3133.85,1693.09 3133.85,1674.19 \"/>\n",
       "<polyline clip-path=\"url(#clip160)\" style=\"stroke:#000000; stroke-linecap:round; stroke-linejoin:round; stroke-width:4; stroke-opacity:1; fill:none\" points=\"3507.87,1693.09 3507.87,1674.19 \"/>\n",
       "<path clip-path=\"url(#clip160)\" d=\"M1989.18 1733.61 Q1985.56 1733.61 1983.74 1737.17 Q1981.93 1740.71 1981.93 1747.84 Q1981.93 1754.95 1983.74 1758.51 Q1985.56 1762.06 1989.18 1762.06 Q1992.81 1762.06 1994.62 1758.51 Q1996.44 1754.95 1996.44 1747.84 Q1996.44 1740.71 1994.62 1737.17 Q1992.81 1733.61 1989.18 1733.61 M1989.18 1729.9 Q1994.99 1729.9 1998.04 1734.51 Q2001.12 1739.09 2001.12 1747.84 Q2001.12 1756.57 1998.04 1761.18 Q1994.99 1765.76 1989.18 1765.76 Q1983.37 1765.76 1980.29 1761.18 Q1977.23 1756.57 1977.23 1747.84 Q1977.23 1739.09 1980.29 1734.51 Q1983.37 1729.9 1989.18 1729.9 Z\" fill=\"#000000\" fill-rule=\"nonzero\" fill-opacity=\"1\" /><path clip-path=\"url(#clip160)\" d=\"M2009.34 1759.21 L2014.22 1759.21 L2014.22 1765.09 L2009.34 1765.09 L2009.34 1759.21 Z\" fill=\"#000000\" fill-rule=\"nonzero\" fill-opacity=\"1\" /><path clip-path=\"url(#clip160)\" d=\"M2034.41 1733.61 Q2030.8 1733.61 2028.97 1737.17 Q2027.16 1740.71 2027.16 1747.84 Q2027.16 1754.95 2028.97 1758.51 Q2030.8 1762.06 2034.41 1762.06 Q2038.04 1762.06 2039.85 1758.51 Q2041.68 1754.95 2041.68 1747.84 Q2041.68 1740.71 2039.85 1737.17 Q2038.04 1733.61 2034.41 1733.61 M2034.41 1729.9 Q2040.22 1729.9 2043.27 1734.51 Q2046.35 1739.09 2046.35 1747.84 Q2046.35 1756.57 2043.27 1761.18 Q2040.22 1765.76 2034.41 1765.76 Q2028.6 1765.76 2025.52 1761.18 Q2022.46 1756.57 2022.46 1747.84 Q2022.46 1739.09 2025.52 1734.51 Q2028.6 1729.9 2034.41 1729.9 Z\" fill=\"#000000\" fill-rule=\"nonzero\" fill-opacity=\"1\" /><path clip-path=\"url(#clip160)\" d=\"M2357.55 1761.15 L2373.87 1761.15 L2373.87 1765.09 L2351.92 1765.09 L2351.92 1761.15 Q2354.58 1758.4 2359.17 1753.77 Q2363.77 1749.12 2364.96 1747.77 Q2367.2 1745.25 2368.08 1743.51 Q2368.98 1741.75 2368.98 1740.06 Q2368.98 1737.31 2367.04 1735.57 Q2365.12 1733.84 2362.02 1733.84 Q2359.82 1733.84 2357.36 1734.6 Q2354.93 1735.37 2352.15 1736.92 L2352.15 1732.19 Q2354.98 1731.06 2357.43 1730.48 Q2359.89 1729.9 2361.92 1729.9 Q2367.29 1729.9 2370.49 1732.59 Q2373.68 1735.27 2373.68 1739.76 Q2373.68 1741.89 2372.87 1743.81 Q2372.08 1745.71 2369.98 1748.31 Q2369.4 1748.98 2366.3 1752.19 Q2363.2 1755.39 2357.55 1761.15 Z\" fill=\"#000000\" fill-rule=\"nonzero\" fill-opacity=\"1\" /><path clip-path=\"url(#clip160)\" d=\"M2383.68 1759.21 L2388.57 1759.21 L2388.57 1765.09 L2383.68 1765.09 L2383.68 1759.21 Z\" fill=\"#000000\" fill-rule=\"nonzero\" fill-opacity=\"1\" /><path clip-path=\"url(#clip160)\" d=\"M2398.8 1730.53 L2417.15 1730.53 L2417.15 1734.46 L2403.08 1734.46 L2403.08 1742.94 Q2404.1 1742.59 2405.12 1742.43 Q2406.14 1742.24 2407.15 1742.24 Q2412.94 1742.24 2416.32 1745.41 Q2419.7 1748.58 2419.7 1754 Q2419.7 1759.58 2416.23 1762.68 Q2412.76 1765.76 2406.44 1765.76 Q2404.26 1765.76 2401.99 1765.39 Q2399.75 1765.02 2397.34 1764.28 L2397.34 1759.58 Q2399.42 1760.71 2401.64 1761.27 Q2403.87 1761.82 2406.34 1761.82 Q2410.35 1761.82 2412.69 1759.72 Q2415.02 1757.61 2415.02 1754 Q2415.02 1750.39 2412.69 1748.28 Q2410.35 1746.18 2406.34 1746.18 Q2404.47 1746.18 2402.59 1746.59 Q2400.74 1747.01 2398.8 1747.89 L2398.8 1730.53 Z\" fill=\"#000000\" fill-rule=\"nonzero\" fill-opacity=\"1\" /><path clip-path=\"url(#clip160)\" d=\"M2727 1730.53 L2745.35 1730.53 L2745.35 1734.46 L2731.28 1734.46 L2731.28 1742.94 Q2732.3 1742.59 2733.32 1742.43 Q2734.33 1742.24 2735.35 1742.24 Q2741.14 1742.24 2744.52 1745.41 Q2747.9 1748.58 2747.9 1754 Q2747.9 1759.58 2744.43 1762.68 Q2740.95 1765.76 2734.64 1765.76 Q2732.46 1765.76 2730.19 1765.39 Q2727.95 1765.02 2725.54 1764.28 L2725.54 1759.58 Q2727.62 1760.71 2729.84 1761.27 Q2732.07 1761.82 2734.54 1761.82 Q2738.55 1761.82 2740.89 1759.72 Q2743.22 1757.61 2743.22 1754 Q2743.22 1750.39 2740.89 1748.28 Q2738.55 1746.18 2734.54 1746.18 Q2732.67 1746.18 2730.79 1746.59 Q2728.94 1747.01 2727 1747.89 L2727 1730.53 Z\" fill=\"#000000\" fill-rule=\"nonzero\" fill-opacity=\"1\" /><path clip-path=\"url(#clip160)\" d=\"M2757.11 1759.21 L2762 1759.21 L2762 1765.09 L2757.11 1765.09 L2757.11 1759.21 Z\" fill=\"#000000\" fill-rule=\"nonzero\" fill-opacity=\"1\" /><path clip-path=\"url(#clip160)\" d=\"M2782.18 1733.61 Q2778.57 1733.61 2776.74 1737.17 Q2774.94 1740.71 2774.94 1747.84 Q2774.94 1754.95 2776.74 1758.51 Q2778.57 1762.06 2782.18 1762.06 Q2785.82 1762.06 2787.62 1758.51 Q2789.45 1754.95 2789.45 1747.84 Q2789.45 1740.71 2787.62 1737.17 Q2785.82 1733.61 2782.18 1733.61 M2782.18 1729.9 Q2787.99 1729.9 2791.05 1734.51 Q2794.13 1739.09 2794.13 1747.84 Q2794.13 1756.57 2791.05 1761.18 Q2787.99 1765.76 2782.18 1765.76 Q2776.37 1765.76 2773.29 1761.18 Q2770.24 1756.57 2770.24 1747.84 Q2770.24 1739.09 2773.29 1734.51 Q2776.37 1729.9 2782.18 1729.9 Z\" fill=\"#000000\" fill-rule=\"nonzero\" fill-opacity=\"1\" /><path clip-path=\"url(#clip160)\" d=\"M3100.17 1730.53 L3122.39 1730.53 L3122.39 1732.52 L3109.85 1765.09 L3104.96 1765.09 L3116.77 1734.46 L3100.17 1734.46 L3100.17 1730.53 Z\" fill=\"#000000\" fill-rule=\"nonzero\" fill-opacity=\"1\" /><path clip-path=\"url(#clip160)\" d=\"M3131.51 1759.21 L3136.4 1759.21 L3136.4 1765.09 L3131.51 1765.09 L3131.51 1759.21 Z\" fill=\"#000000\" fill-rule=\"nonzero\" fill-opacity=\"1\" /><path clip-path=\"url(#clip160)\" d=\"M3146.63 1730.53 L3164.99 1730.53 L3164.99 1734.46 L3150.91 1734.46 L3150.91 1742.94 Q3151.93 1742.59 3152.95 1742.43 Q3153.97 1742.24 3154.99 1742.24 Q3160.77 1742.24 3164.15 1745.41 Q3167.53 1748.58 3167.53 1754 Q3167.53 1759.58 3164.06 1762.68 Q3160.59 1765.76 3154.27 1765.76 Q3152.09 1765.76 3149.82 1765.39 Q3147.58 1765.02 3145.17 1764.28 L3145.17 1759.58 Q3147.26 1760.71 3149.48 1761.27 Q3151.7 1761.82 3154.18 1761.82 Q3158.18 1761.82 3160.52 1759.72 Q3162.86 1757.61 3162.86 1754 Q3162.86 1750.39 3160.52 1748.28 Q3158.18 1746.18 3154.18 1746.18 Q3152.3 1746.18 3150.43 1746.59 Q3148.57 1747.01 3146.63 1747.89 L3146.63 1730.53 Z\" fill=\"#000000\" fill-rule=\"nonzero\" fill-opacity=\"1\" /><path clip-path=\"url(#clip160)\" d=\"M3459.95 1761.15 L3467.58 1761.15 L3467.58 1734.79 L3459.27 1736.45 L3459.27 1732.19 L3467.54 1730.53 L3472.21 1730.53 L3472.21 1761.15 L3479.85 1761.15 L3479.85 1765.09 L3459.95 1765.09 L3459.95 1761.15 Z\" fill=\"#000000\" fill-rule=\"nonzero\" fill-opacity=\"1\" /><path clip-path=\"url(#clip160)\" d=\"M3499.3 1733.61 Q3495.69 1733.61 3493.86 1737.17 Q3492.05 1740.71 3492.05 1747.84 Q3492.05 1754.95 3493.86 1758.51 Q3495.69 1762.06 3499.3 1762.06 Q3502.93 1762.06 3504.74 1758.51 Q3506.57 1754.95 3506.57 1747.84 Q3506.57 1740.71 3504.74 1737.17 Q3502.93 1733.61 3499.3 1733.61 M3499.3 1729.9 Q3505.11 1729.9 3508.16 1734.51 Q3511.24 1739.09 3511.24 1747.84 Q3511.24 1756.57 3508.16 1761.18 Q3505.11 1765.76 3499.3 1765.76 Q3493.49 1765.76 3490.41 1761.18 Q3487.35 1756.57 3487.35 1747.84 Q3487.35 1739.09 3490.41 1734.51 Q3493.49 1729.9 3499.3 1729.9 Z\" fill=\"#000000\" fill-rule=\"nonzero\" fill-opacity=\"1\" /><path clip-path=\"url(#clip160)\" d=\"M3519.46 1759.21 L3524.34 1759.21 L3524.34 1765.09 L3519.46 1765.09 L3519.46 1759.21 Z\" fill=\"#000000\" fill-rule=\"nonzero\" fill-opacity=\"1\" /><path clip-path=\"url(#clip160)\" d=\"M3544.53 1733.61 Q3540.92 1733.61 3539.09 1737.17 Q3537.28 1740.71 3537.28 1747.84 Q3537.28 1754.95 3539.09 1758.51 Q3540.92 1762.06 3544.53 1762.06 Q3548.16 1762.06 3549.97 1758.51 Q3551.8 1754.95 3551.8 1747.84 Q3551.8 1740.71 3549.97 1737.17 Q3548.16 1733.61 3544.53 1733.61 M3544.53 1729.9 Q3550.34 1729.9 3553.39 1734.51 Q3556.47 1739.09 3556.47 1747.84 Q3556.47 1756.57 3553.39 1761.18 Q3550.34 1765.76 3544.53 1765.76 Q3538.72 1765.76 3535.64 1761.18 Q3532.58 1756.57 3532.58 1747.84 Q3532.58 1739.09 3535.64 1734.51 Q3538.72 1729.9 3544.53 1729.9 Z\" fill=\"#000000\" fill-rule=\"nonzero\" fill-opacity=\"1\" /><polyline clip-path=\"url(#clip163)\" style=\"stroke:#000000; stroke-linecap:round; stroke-linejoin:round; stroke-width:2; stroke-opacity:0.1; fill:none\" points=\"1966.91,1648.24 3552.76,1648.24 \"/>\n",
       "<polyline clip-path=\"url(#clip163)\" style=\"stroke:#000000; stroke-linecap:round; stroke-linejoin:round; stroke-width:2; stroke-opacity:0.1; fill:none\" points=\"1966.91,1353.58 3552.76,1353.58 \"/>\n",
       "<polyline clip-path=\"url(#clip163)\" style=\"stroke:#000000; stroke-linecap:round; stroke-linejoin:round; stroke-width:2; stroke-opacity:0.1; fill:none\" points=\"1966.91,1058.91 3552.76,1058.91 \"/>\n",
       "<polyline clip-path=\"url(#clip163)\" style=\"stroke:#000000; stroke-linecap:round; stroke-linejoin:round; stroke-width:2; stroke-opacity:0.1; fill:none\" points=\"1966.91,764.254 3552.76,764.254 \"/>\n",
       "<polyline clip-path=\"url(#clip163)\" style=\"stroke:#000000; stroke-linecap:round; stroke-linejoin:round; stroke-width:2; stroke-opacity:0.1; fill:none\" points=\"1966.91,469.593 3552.76,469.593 \"/>\n",
       "<polyline clip-path=\"url(#clip163)\" style=\"stroke:#000000; stroke-linecap:round; stroke-linejoin:round; stroke-width:2; stroke-opacity:0.1; fill:none\" points=\"1966.91,174.932 3552.76,174.932 \"/>\n",
       "<polyline clip-path=\"url(#clip160)\" style=\"stroke:#000000; stroke-linecap:round; stroke-linejoin:round; stroke-width:4; stroke-opacity:1; fill:none\" points=\"1966.91,1693.09 1966.91,108.352 \"/>\n",
       "<polyline clip-path=\"url(#clip160)\" style=\"stroke:#000000; stroke-linecap:round; stroke-linejoin:round; stroke-width:4; stroke-opacity:1; fill:none\" points=\"1966.91,1648.24 1985.81,1648.24 \"/>\n",
       "<polyline clip-path=\"url(#clip160)\" style=\"stroke:#000000; stroke-linecap:round; stroke-linejoin:round; stroke-width:4; stroke-opacity:1; fill:none\" points=\"1966.91,1353.58 1985.81,1353.58 \"/>\n",
       "<polyline clip-path=\"url(#clip160)\" style=\"stroke:#000000; stroke-linecap:round; stroke-linejoin:round; stroke-width:4; stroke-opacity:1; fill:none\" points=\"1966.91,1058.91 1985.81,1058.91 \"/>\n",
       "<polyline clip-path=\"url(#clip160)\" style=\"stroke:#000000; stroke-linecap:round; stroke-linejoin:round; stroke-width:4; stroke-opacity:1; fill:none\" points=\"1966.91,764.254 1985.81,764.254 \"/>\n",
       "<polyline clip-path=\"url(#clip160)\" style=\"stroke:#000000; stroke-linecap:round; stroke-linejoin:round; stroke-width:4; stroke-opacity:1; fill:none\" points=\"1966.91,469.593 1985.81,469.593 \"/>\n",
       "<polyline clip-path=\"url(#clip160)\" style=\"stroke:#000000; stroke-linecap:round; stroke-linejoin:round; stroke-width:4; stroke-opacity:1; fill:none\" points=\"1966.91,174.932 1985.81,174.932 \"/>\n",
       "<path clip-path=\"url(#clip160)\" d=\"M1900.96 1634.04 Q1897.35 1634.04 1895.52 1637.6 Q1893.72 1641.14 1893.72 1648.27 Q1893.72 1655.38 1895.52 1658.94 Q1897.35 1662.48 1900.96 1662.48 Q1904.6 1662.48 1906.4 1658.94 Q1908.23 1655.38 1908.23 1648.27 Q1908.23 1641.14 1906.4 1637.6 Q1904.6 1634.04 1900.96 1634.04 M1900.96 1630.33 Q1906.77 1630.33 1909.83 1634.94 Q1912.91 1639.52 1912.91 1648.27 Q1912.91 1657 1909.83 1661.6 Q1906.77 1666.19 1900.96 1666.19 Q1895.15 1666.19 1892.08 1661.6 Q1889.02 1657 1889.02 1648.27 Q1889.02 1639.52 1892.08 1634.94 Q1895.15 1630.33 1900.96 1630.33 Z\" fill=\"#000000\" fill-rule=\"nonzero\" fill-opacity=\"1\" /><path clip-path=\"url(#clip160)\" d=\"M1892.01 1336.3 L1910.36 1336.3 L1910.36 1340.23 L1896.29 1340.23 L1896.29 1348.7 Q1897.31 1348.36 1898.33 1348.19 Q1899.34 1348.01 1900.36 1348.01 Q1906.15 1348.01 1909.53 1351.18 Q1912.91 1354.35 1912.91 1359.77 Q1912.91 1365.35 1909.44 1368.45 Q1905.96 1371.53 1899.64 1371.53 Q1897.47 1371.53 1895.2 1371.16 Q1892.95 1370.79 1890.55 1370.05 L1890.55 1365.35 Q1892.63 1366.48 1894.85 1367.04 Q1897.08 1367.59 1899.55 1367.59 Q1903.56 1367.59 1905.89 1365.49 Q1908.23 1363.38 1908.23 1359.77 Q1908.23 1356.16 1905.89 1354.05 Q1903.56 1351.94 1899.55 1351.94 Q1897.68 1351.94 1895.8 1352.36 Q1893.95 1352.78 1892.01 1353.66 L1892.01 1336.3 Z\" fill=\"#000000\" fill-rule=\"nonzero\" fill-opacity=\"1\" /><path clip-path=\"url(#clip160)\" d=\"M1861.61 1072.26 L1869.25 1072.26 L1869.25 1045.89 L1860.94 1047.56 L1860.94 1043.3 L1869.2 1041.63 L1873.88 1041.63 L1873.88 1072.26 L1881.52 1072.26 L1881.52 1076.19 L1861.61 1076.19 L1861.61 1072.26 Z\" fill=\"#000000\" fill-rule=\"nonzero\" fill-opacity=\"1\" /><path clip-path=\"url(#clip160)\" d=\"M1900.96 1044.71 Q1897.35 1044.71 1895.52 1048.28 Q1893.72 1051.82 1893.72 1058.95 Q1893.72 1066.06 1895.52 1069.62 Q1897.35 1073.16 1900.96 1073.16 Q1904.6 1073.16 1906.4 1069.62 Q1908.23 1066.06 1908.23 1058.95 Q1908.23 1051.82 1906.4 1048.28 Q1904.6 1044.71 1900.96 1044.71 M1900.96 1041.01 Q1906.77 1041.01 1909.83 1045.62 Q1912.91 1050.2 1912.91 1058.95 Q1912.91 1067.68 1909.83 1072.28 Q1906.77 1076.87 1900.96 1076.87 Q1895.15 1076.87 1892.08 1072.28 Q1889.02 1067.68 1889.02 1058.95 Q1889.02 1050.2 1892.08 1045.62 Q1895.15 1041.01 1900.96 1041.01 Z\" fill=\"#000000\" fill-rule=\"nonzero\" fill-opacity=\"1\" /><path clip-path=\"url(#clip160)\" d=\"M1862.61 777.599 L1870.25 777.599 L1870.25 751.233 L1861.94 752.9 L1861.94 748.64 L1870.2 746.974 L1874.88 746.974 L1874.88 777.599 L1882.52 777.599 L1882.52 781.534 L1862.61 781.534 L1862.61 777.599 Z\" fill=\"#000000\" fill-rule=\"nonzero\" fill-opacity=\"1\" /><path clip-path=\"url(#clip160)\" d=\"M1892.01 746.974 L1910.36 746.974 L1910.36 750.909 L1896.29 750.909 L1896.29 759.381 Q1897.31 759.034 1898.33 758.872 Q1899.34 758.687 1900.36 758.687 Q1906.15 758.687 1909.53 761.858 Q1912.91 765.029 1912.91 770.446 Q1912.91 776.025 1909.44 779.126 Q1905.96 782.205 1899.64 782.205 Q1897.47 782.205 1895.2 781.835 Q1892.95 781.464 1890.55 780.724 L1890.55 776.025 Q1892.63 777.159 1894.85 777.714 Q1897.08 778.27 1899.55 778.27 Q1903.56 778.27 1905.89 776.163 Q1908.23 774.057 1908.23 770.446 Q1908.23 766.835 1905.89 764.728 Q1903.56 762.622 1899.55 762.622 Q1897.68 762.622 1895.8 763.039 Q1893.95 763.455 1892.01 764.335 L1892.01 746.974 Z\" fill=\"#000000\" fill-rule=\"nonzero\" fill-opacity=\"1\" /><path clip-path=\"url(#clip160)\" d=\"M1864.83 482.938 L1881.15 482.938 L1881.15 486.873 L1859.21 486.873 L1859.21 482.938 Q1861.87 480.183 1866.45 475.553 Q1871.06 470.901 1872.24 469.558 Q1874.48 467.035 1875.36 465.299 Q1876.27 463.54 1876.27 461.85 Q1876.27 459.095 1874.32 457.359 Q1872.4 455.623 1869.3 455.623 Q1867.1 455.623 1864.64 456.387 Q1862.21 457.151 1859.44 458.702 L1859.44 453.979 Q1862.26 452.845 1864.71 452.266 Q1867.17 451.688 1869.2 451.688 Q1874.58 451.688 1877.77 454.373 Q1880.96 457.058 1880.96 461.549 Q1880.96 463.678 1880.15 465.6 Q1879.37 467.498 1877.26 470.09 Q1876.68 470.762 1873.58 473.979 Q1870.48 477.174 1864.83 482.938 Z\" fill=\"#000000\" fill-rule=\"nonzero\" fill-opacity=\"1\" /><path clip-path=\"url(#clip160)\" d=\"M1900.96 455.391 Q1897.35 455.391 1895.52 458.956 Q1893.72 462.498 1893.72 469.627 Q1893.72 476.734 1895.52 480.299 Q1897.35 483.84 1900.96 483.84 Q1904.6 483.84 1906.4 480.299 Q1908.23 476.734 1908.23 469.627 Q1908.23 462.498 1906.4 458.956 Q1904.6 455.391 1900.96 455.391 M1900.96 451.688 Q1906.77 451.688 1909.83 456.294 Q1912.91 460.878 1912.91 469.627 Q1912.91 478.354 1909.83 482.961 Q1906.77 487.544 1900.96 487.544 Q1895.15 487.544 1892.08 482.961 Q1889.02 478.354 1889.02 469.627 Q1889.02 460.878 1892.08 456.294 Q1895.15 451.688 1900.96 451.688 Z\" fill=\"#000000\" fill-rule=\"nonzero\" fill-opacity=\"1\" /><path clip-path=\"url(#clip160)\" d=\"M1865.83 188.277 L1882.14 188.277 L1882.14 192.212 L1860.2 192.212 L1860.2 188.277 Q1862.86 185.522 1867.45 180.892 Q1872.05 176.24 1873.23 174.897 Q1875.48 172.374 1876.36 170.638 Q1877.26 168.879 1877.26 167.189 Q1877.26 164.434 1875.32 162.698 Q1873.39 160.962 1870.29 160.962 Q1868.09 160.962 1865.64 161.726 Q1863.21 162.49 1860.43 164.041 L1860.43 159.318 Q1863.26 158.184 1865.71 157.605 Q1868.16 157.027 1870.2 157.027 Q1875.57 157.027 1878.77 159.712 Q1881.96 162.397 1881.96 166.888 Q1881.96 169.017 1881.15 170.939 Q1880.36 172.837 1878.26 175.429 Q1877.68 176.101 1874.58 179.318 Q1871.47 182.513 1865.83 188.277 Z\" fill=\"#000000\" fill-rule=\"nonzero\" fill-opacity=\"1\" /><path clip-path=\"url(#clip160)\" d=\"M1892.01 157.652 L1910.36 157.652 L1910.36 161.587 L1896.29 161.587 L1896.29 170.059 Q1897.31 169.712 1898.33 169.55 Q1899.34 169.365 1900.36 169.365 Q1906.15 169.365 1909.53 172.536 Q1912.91 175.707 1912.91 181.124 Q1912.91 186.703 1909.44 189.804 Q1905.96 192.883 1899.64 192.883 Q1897.47 192.883 1895.2 192.513 Q1892.95 192.142 1890.55 191.402 L1890.55 186.703 Q1892.63 187.837 1894.85 188.392 Q1897.08 188.948 1899.55 188.948 Q1903.56 188.948 1905.89 186.841 Q1908.23 184.735 1908.23 181.124 Q1908.23 177.513 1905.89 175.406 Q1903.56 173.3 1899.55 173.3 Q1897.68 173.3 1895.8 173.716 Q1893.95 174.133 1892.01 175.013 L1892.01 157.652 Z\" fill=\"#000000\" fill-rule=\"nonzero\" fill-opacity=\"1\" /><path clip-path=\"url(#clip160)\" d=\"M2529.54 72.576 L2506.45 12.096 L2515 12.096 L2534.16 63.0159 L2553.36 12.096 L2561.86 12.096 L2538.81 72.576 L2529.54 72.576 Z\" fill=\"#000000\" fill-rule=\"nonzero\" fill-opacity=\"1\" /><path clip-path=\"url(#clip160)\" d=\"M2584.55 49.7694 Q2575.52 49.7694 2572.03 51.8354 Q2568.55 53.9013 2568.55 58.8839 Q2568.55 62.8538 2571.14 65.2034 Q2573.77 67.5124 2578.27 67.5124 Q2584.47 67.5124 2588.2 63.1374 Q2591.96 58.7219 2591.96 51.4303 L2591.96 49.7694 L2584.55 49.7694 M2599.42 46.6907 L2599.42 72.576 L2591.96 72.576 L2591.96 65.6895 Q2589.41 69.8214 2585.6 71.8063 Q2581.79 73.7508 2576.29 73.7508 Q2569.32 73.7508 2565.19 69.8619 Q2561.09 65.9325 2561.09 59.3701 Q2561.09 51.7138 2566.2 47.825 Q2571.34 43.9361 2581.51 43.9361 L2591.96 43.9361 L2591.96 43.2069 Q2591.96 38.0623 2588.56 35.2672 Q2585.2 32.4315 2579.08 32.4315 Q2575.19 32.4315 2571.51 33.3632 Q2567.82 34.295 2564.42 36.1584 L2564.42 29.2718 Q2568.51 27.692 2572.36 26.9223 Q2576.2 26.1121 2579.85 26.1121 Q2589.69 26.1121 2594.56 31.2163 Q2599.42 36.3204 2599.42 46.6907 Z\" fill=\"#000000\" fill-rule=\"nonzero\" fill-opacity=\"1\" /><path clip-path=\"url(#clip160)\" d=\"M2641.06 34.1734 Q2639.8 33.4443 2638.31 33.1202 Q2636.85 32.7556 2635.06 32.7556 Q2628.74 32.7556 2625.34 36.8875 Q2621.98 40.9789 2621.98 48.6757 L2621.98 72.576 L2614.49 72.576 L2614.49 27.2059 L2621.98 27.2059 L2621.98 34.2544 Q2624.33 30.1225 2628.1 28.1376 Q2631.86 26.1121 2637.25 26.1121 Q2638.02 26.1121 2638.95 26.2337 Q2639.88 26.3147 2641.02 26.5172 L2641.06 34.1734 Z\" fill=\"#000000\" fill-rule=\"nonzero\" fill-opacity=\"1\" /><path clip-path=\"url(#clip160)\" d=\"M2667.19 12.096 L2718.35 12.096 L2718.35 18.9825 L2696.88 18.9825 L2696.88 72.576 L2688.66 72.576 L2688.66 18.9825 L2667.19 18.9825 L2667.19 12.096 Z\" fill=\"#000000\" fill-rule=\"nonzero\" fill-opacity=\"1\" /><path clip-path=\"url(#clip160)\" d=\"M2707.86 27.2059 L2715.31 27.2059 L2724.63 62.6108 L2733.91 27.2059 L2742.7 27.2059 L2752.01 62.6108 L2761.29 27.2059 L2768.74 27.2059 L2756.88 72.576 L2748.08 72.576 L2738.32 35.3887 L2728.52 72.576 L2719.73 72.576 L2707.86 27.2059 Z\" fill=\"#000000\" fill-rule=\"nonzero\" fill-opacity=\"1\" /><path clip-path=\"url(#clip160)\" d=\"M2797.63 32.4315 Q2791.63 32.4315 2788.15 37.1306 Q2784.66 41.7891 2784.66 49.9314 Q2784.66 58.0738 2788.11 62.7728 Q2791.59 67.4314 2797.63 67.4314 Q2803.58 67.4314 2807.07 62.7323 Q2810.55 58.0333 2810.55 49.9314 Q2810.55 41.8701 2807.07 37.1711 Q2803.58 32.4315 2797.63 32.4315 M2797.63 26.1121 Q2807.35 26.1121 2812.9 32.4315 Q2818.45 38.7509 2818.45 49.9314 Q2818.45 61.0714 2812.9 67.4314 Q2807.35 73.7508 2797.63 73.7508 Q2787.86 73.7508 2782.31 67.4314 Q2776.81 61.0714 2776.81 49.9314 Q2776.81 38.7509 2782.31 32.4315 Q2787.86 26.1121 2797.63 26.1121 Z\" fill=\"#000000\" fill-rule=\"nonzero\" fill-opacity=\"1\" /><path clip-path=\"url(#clip160)\" d=\"M2865.68 18.8205 L2865.68 41.5461 L2875.97 41.5461 Q2881.68 41.5461 2884.8 38.5889 Q2887.92 35.6318 2887.92 30.163 Q2887.92 24.7348 2884.8 21.7777 Q2881.68 18.8205 2875.97 18.8205 L2865.68 18.8205 M2857.5 12.096 L2875.97 12.096 Q2886.14 12.096 2891.32 16.714 Q2896.55 21.2916 2896.55 30.163 Q2896.55 39.1155 2891.32 43.6931 Q2886.14 48.2706 2875.97 48.2706 L2865.68 48.2706 L2865.68 72.576 L2857.5 72.576 L2857.5 12.096 Z\" fill=\"#000000\" fill-rule=\"nonzero\" fill-opacity=\"1\" /><path clip-path=\"url(#clip160)\" d=\"M2921.83 32.4315 Q2915.83 32.4315 2912.35 37.1306 Q2908.86 41.7891 2908.86 49.9314 Q2908.86 58.0738 2912.31 62.7728 Q2915.79 67.4314 2921.83 67.4314 Q2927.78 67.4314 2931.27 62.7323 Q2934.75 58.0333 2934.75 49.9314 Q2934.75 41.8701 2931.27 37.1711 Q2927.78 32.4315 2921.83 32.4315 M2921.83 26.1121 Q2931.55 26.1121 2937.1 32.4315 Q2942.65 38.7509 2942.65 49.9314 Q2942.65 61.0714 2937.1 67.4314 Q2931.55 73.7508 2921.83 73.7508 Q2912.07 73.7508 2906.52 67.4314 Q2901.01 61.0714 2901.01 49.9314 Q2901.01 38.7509 2906.52 32.4315 Q2912.07 26.1121 2921.83 26.1121 Z\" fill=\"#000000\" fill-rule=\"nonzero\" fill-opacity=\"1\" /><path clip-path=\"url(#clip160)\" d=\"M2972.59 32.4315 Q2966.59 32.4315 2963.11 37.1306 Q2959.62 41.7891 2959.62 49.9314 Q2959.62 58.0738 2963.07 62.7728 Q2966.55 67.4314 2972.59 67.4314 Q2978.54 67.4314 2982.02 62.7323 Q2985.51 58.0333 2985.51 49.9314 Q2985.51 41.8701 2982.02 37.1711 Q2978.54 32.4315 2972.59 32.4315 M2972.59 26.1121 Q2982.31 26.1121 2987.86 32.4315 Q2993.41 38.7509 2993.41 49.9314 Q2993.41 61.0714 2987.86 67.4314 Q2982.31 73.7508 2972.59 73.7508 Q2962.82 73.7508 2957.27 67.4314 Q2951.76 61.0714 2951.76 49.9314 Q2951.76 38.7509 2957.27 32.4315 Q2962.82 26.1121 2972.59 26.1121 Z\" fill=\"#000000\" fill-rule=\"nonzero\" fill-opacity=\"1\" /><path clip-path=\"url(#clip160)\" d=\"M3005.76 9.54393 L3013.22 9.54393 L3013.22 72.576 L3005.76 72.576 L3005.76 9.54393 Z\" fill=\"#000000\" fill-rule=\"nonzero\" fill-opacity=\"1\" /><polyline clip-path=\"url(#clip163)\" style=\"stroke:#009af9; stroke-linecap:round; stroke-linejoin:round; stroke-width:4; stroke-opacity:1; fill:none\" points=\"2011.79,1648.24 2019.27,1560.18 2026.75,1475.79 2034.23,1395.61 2041.71,1322.33 2049.19,1254.13 2056.67,1188.54 2064.15,1126.75 2071.63,1066.85 2079.11,1010.34 2086.6,955.893 2094.08,908.571 2101.56,864.252 2109.04,821.816 2116.52,783.343 2124,745.977 2131.48,709.334 2138.96,675.956 2146.44,643.354 2153.92,608.614 2161.4,580.262 2168.88,554.891 2176.36,529.83 2183.84,505.338 2191.32,482.884 2198.8,460.642 2206.28,439.824 2213.76,422.163 2221.24,406.147 2228.72,390.136 2236.2,375.21 2243.68,359.247 2251.16,341.239 2258.64,326.496 2266.12,315.087 2273.61,303.874 2281.09,291.66 2288.57,283.103 2296.05,274.085 2303.53,258.938 2311.01,249.496 2318.49,242.604 2325.97,234.642 2333.45,227.422 2340.93,218.203 2348.41,213.656 2355.89,204.635 2363.37,199.223 2370.85,191.452 2378.33,187.769 2385.81,184.928 2393.29,184.367 2400.77,185.647 2408.25,181.015 2415.73,180.334 2423.21,178.548 2430.69,176.401 2438.17,171.052 2445.65,166.938 2453.14,165.296 2460.62,162.946 2468.1,160.766 2475.58,160.111 2483.06,158.259 2490.54,154.45 2498.02,153.308 2505.5,153.203 2512.98,155.328 2520.46,156.06 2527.94,156.261 2535.42,156.694 2542.9,155.255 2550.38,155.681 2557.86,156.427 2565.34,157.887 2572.82,162.313 2580.3,161.386 2587.78,160.526 2595.26,165.568 2602.74,165.957 2610.22,165.653 2617.7,166.561 2625.18,167.12 2632.67,167.873 2640.15,165.453 2647.63,163.621 2655.11,164.42 2662.59,164.192 2670.07,166.151 2677.55,170.246 2685.03,173.028 2692.51,174.921 2699.99,179.904 2707.47,183.59 2714.95,188.569 2722.43,192.988 2729.91,197.147 2737.39,198.276 2744.87,202.831 2752.35,205.806 2759.83,205.696 2767.31,207.795 2774.79,209.973 2782.27,212.279 2789.75,217.08 2797.23,218.169 2804.71,219.298 2812.2,224.075 2819.68,229.964 2827.16,233.611 2834.64,235.197 2842.12,240.826 2849.6,245.941 2857.08,249.861 2864.56,253.165 2872.04,256.602 2879.52,259.312 2887,262.606 2894.48,263.179 2901.96,266.24 2909.44,270.689 2916.92,272.838 2924.4,276.549 2931.88,276.29 2939.36,278.235 2946.84,283.876 2954.32,286.905 2961.8,292.819 2969.28,297.916 2976.76,302.718 2984.24,310.031 2991.72,314.088 2999.21,317.39 3006.69,323.848 3014.17,326.998 3021.65,330.594 3029.13,336.03 3036.61,338.266 3044.09,343.443 3051.57,347.215 3059.05,350.254 3066.53,354.421 3074.01,360.796 3081.49,365.072 3088.97,368.422 3096.45,373.784 3103.93,378.844 3111.41,383.194 3118.89,390.65 3126.37,396.285 3133.85,399.225 3141.33,404.963 3148.81,411.208 3156.29,416.653 3163.77,423.844 3171.25,428.267 3178.74,430.496 3186.22,434.846 3193.7,441.193 3201.18,445.205 3208.66,449.3 3216.14,451.64 3223.62,454.954 3231.1,461.918 3238.58,467.587 3246.06,471.319 3253.54,477.957 3261.02,482.415 3268.5,486.524 3275.98,488.438 3283.46,492.157 3290.94,496.78 3298.42,500.071 3305.9,503.37 3313.38,507.056 3320.86,512.826 3328.34,517.907 3335.82,522.733 3343.3,530.359 3350.78,535.895 3358.27,538.967 3365.75,544.276 3373.23,550.11 3380.71,553.599 3388.19,558.471 3395.67,562.457 3403.15,567.621 3410.63,574.347 3418.11,580.093 3425.59,583.979 3433.07,589.2 3440.55,593.9 3448.03,598.697 3455.51,605.195 3462.99,611.213 3470.47,615.386 3477.95,620.27 3485.43,623.4 3492.91,628.851 3500.39,631.971 3507.87,639.655 \"/>\n",
       "<polyline clip-path=\"url(#clip163)\" style=\"stroke:#e26f46; stroke-linecap:round; stroke-linejoin:round; stroke-width:4; stroke-opacity:1; fill:none\" points=\"2011.79,1648.24 2019.27,1589.11 2026.75,1553.65 2034.23,1508.41 2041.71,1463.66 2049.19,1419.94 2056.67,1377.35 2064.15,1336.93 2071.63,1297.1 2079.11,1261.95 2086.6,1227.19 2094.08,1197.62 2101.56,1170.17 2109.04,1142.83 2116.52,1119.06 2124,1094.88 2131.48,1071.33 2138.96,1049.91 2146.44,1029.88 2153.92,1009.37 2161.4,992.144 2168.88,977.953 2176.36,962.49 2183.84,949.651 2191.32,935.799 2198.8,922.602 2206.28,910.541 2213.76,899.682 2221.24,889.055 2228.72,881.26 2236.2,873.95 2243.68,865.359 2251.16,860.191 2258.64,852.888 2266.12,848.758 2273.61,845.194 2281.09,842.671 2288.57,840.811 2296.05,835.516 2303.53,829.697 2311.01,826.436 2318.49,821.748 2325.97,819.301 2333.45,818.224 2340.93,816.326 2348.41,816.422 2355.89,813.681 2363.37,813.838 2370.85,812.668 2378.33,811.058 2385.81,810.323 2393.29,811.186 2400.77,811.639 2408.25,812.55 2415.73,814.015 2423.21,817.014 2430.69,819.081 2438.17,816.126 2445.65,816.231 2453.14,817.162 2460.62,817.586 2468.1,818.333 2475.58,819.996 2483.06,821.831 2490.54,821.161 2498.02,821.283 2505.5,820.732 2512.98,823.442 2520.46,828.036 2527.94,831.402 2535.42,833.361 2542.9,838.388 2550.38,837.902 2557.86,840.814 2565.34,843.461 2572.82,846.017 2580.3,847.928 2587.78,848.757 2595.26,853.087 2602.74,856.502 2610.22,857.62 2617.7,860.436 2625.18,863.484 2632.67,867.926 2640.15,870.872 2647.63,872.703 2655.11,876.966 2662.59,881.031 2670.07,884.412 2677.55,886.117 2685.03,887.624 2692.51,890.265 2699.99,894.477 2707.47,899.344 2714.95,903.22 2722.43,907.463 2729.91,910.206 2737.39,912.624 2744.87,916.813 2752.35,916.668 2759.83,917.796 2767.31,921.557 2774.79,926.323 2782.27,928.877 2789.75,934.478 2797.23,937.778 2804.71,941.335 2812.2,944.217 2819.68,949.651 2827.16,953.055 2834.64,954.746 2842.12,959.313 2849.6,961.716 2857.08,967.484 2864.56,969.435 2872.04,972.767 2879.52,976.843 2887,981.209 2894.48,984.869 2901.96,987.924 2909.44,991.343 2916.92,995.862 2924.4,997.439 2931.88,998.674 2939.36,1001.16 2946.84,1004.45 2954.32,1007.25 2961.8,1012.16 2969.28,1015.04 2976.76,1018.09 2984.24,1021.49 2991.72,1023.79 2999.21,1026.15 3006.69,1029.65 3014.17,1032.11 3021.65,1034.38 3029.13,1037.58 3036.61,1040.38 3044.09,1044.87 3051.57,1047.27 3059.05,1051.42 3066.53,1056.28 3074.01,1058.99 3081.49,1062.61 3088.97,1064.48 3096.45,1068.05 3103.93,1070.94 3111.41,1075.2 3118.89,1080.6 3126.37,1083.84 3133.85,1086.05 3141.33,1089.69 3148.81,1091.99 3156.29,1094.09 3163.77,1097.09 3171.25,1099.21 3178.74,1102.92 3186.22,1105.98 3193.7,1109.62 3201.18,1113.05 3208.66,1115.58 3216.14,1117.46 3223.62,1120.2 3231.1,1123 3238.58,1126.85 3246.06,1130.51 3253.54,1133.7 3261.02,1137.97 3268.5,1141.12 3275.98,1143.5 3283.46,1146.99 3290.94,1149.43 3298.42,1151.16 3305.9,1153.21 3313.38,1156.69 3320.86,1159.57 3328.34,1162.98 3335.82,1166.72 3343.3,1170.17 3350.78,1172.49 3358.27,1173.67 3365.75,1178.28 3373.23,1183.36 3380.71,1185.77 3388.19,1186.65 3395.67,1190.37 3403.15,1192.3 3410.63,1196.08 3418.11,1198.42 3425.59,1199.64 3433.07,1201.91 3440.55,1205.68 3448.03,1207.62 3455.51,1209.74 3462.99,1212.75 3470.47,1213.93 3477.95,1216.8 3485.43,1218.92 3492.91,1221.01 3500.39,1224 3507.87,1226.66 \"/>\n",
       "<path clip-path=\"url(#clip160)\" d=\"M3288.88 1640.26 L3499.89 1640.26 L3499.89 1484.74 L3288.88 1484.74  Z\" fill=\"#ffffff\" fill-rule=\"evenodd\" fill-opacity=\"1\"/>\n",
       "<polyline clip-path=\"url(#clip160)\" style=\"stroke:#000000; stroke-linecap:round; stroke-linejoin:round; stroke-width:4; stroke-opacity:1; fill:none\" points=\"3288.88,1640.26 3499.89,1640.26 3499.89,1484.74 3288.88,1484.74 3288.88,1640.26 \"/>\n",
       "<polyline clip-path=\"url(#clip160)\" style=\"stroke:#009af9; stroke-linecap:round; stroke-linejoin:round; stroke-width:4; stroke-opacity:1; fill:none\" points=\"3306.5,1536.58 3412.22,1536.58 \"/>\n",
       "<path clip-path=\"url(#clip160)\" d=\"M3443.69 1556.27 Q3441.88 1560.9 3440.17 1562.31 Q3438.45 1563.72 3435.58 1563.72 L3432.18 1563.72 L3432.18 1560.16 L3434.68 1560.16 Q3436.44 1560.16 3437.41 1559.33 Q3438.39 1558.49 3439.57 1555.39 L3440.33 1553.45 L3429.84 1527.94 L3434.36 1527.94 L3442.46 1548.22 L3450.56 1527.94 L3455.07 1527.94 L3443.69 1556.27 Z\" fill=\"#000000\" fill-rule=\"nonzero\" fill-opacity=\"1\" /><path clip-path=\"url(#clip160)\" d=\"M3462.37 1549.93 L3470.01 1549.93 L3470.01 1523.56 L3461.7 1525.23 L3461.7 1520.97 L3469.96 1519.3 L3474.63 1519.3 L3474.63 1549.93 L3482.27 1549.93 L3482.27 1553.86 L3462.37 1553.86 L3462.37 1549.93 Z\" fill=\"#000000\" fill-rule=\"nonzero\" fill-opacity=\"1\" /><polyline clip-path=\"url(#clip160)\" style=\"stroke:#e26f46; stroke-linecap:round; stroke-linejoin:round; stroke-width:4; stroke-opacity:1; fill:none\" points=\"3306.5,1588.42 3412.22,1588.42 \"/>\n",
       "<path clip-path=\"url(#clip160)\" d=\"M3443.69 1608.11 Q3441.88 1612.74 3440.17 1614.15 Q3438.45 1615.56 3435.58 1615.56 L3432.18 1615.56 L3432.18 1612 L3434.68 1612 Q3436.44 1612 3437.41 1611.17 Q3438.39 1610.33 3439.57 1607.23 L3440.33 1605.29 L3429.84 1579.78 L3434.36 1579.78 L3442.46 1600.06 L3450.56 1579.78 L3455.07 1579.78 L3443.69 1608.11 Z\" fill=\"#000000\" fill-rule=\"nonzero\" fill-opacity=\"1\" /><path clip-path=\"url(#clip160)\" d=\"M3465.58 1601.77 L3481.9 1601.77 L3481.9 1605.7 L3459.96 1605.7 L3459.96 1601.77 Q3462.62 1599.01 3467.2 1594.38 Q3471.81 1589.73 3472.99 1588.39 Q3475.24 1585.87 3476.12 1584.13 Q3477.02 1582.37 3477.02 1580.68 Q3477.02 1577.93 3475.07 1576.19 Q3473.15 1574.45 3470.05 1574.45 Q3467.85 1574.45 3465.4 1575.22 Q3462.97 1575.98 3460.19 1577.53 L3460.19 1572.81 Q3463.01 1571.68 3465.47 1571.1 Q3467.92 1570.52 3469.96 1570.52 Q3475.33 1570.52 3478.52 1573.2 Q3481.72 1575.89 3481.72 1580.38 Q3481.72 1582.51 3480.91 1584.43 Q3480.12 1586.33 3478.01 1588.92 Q3477.44 1589.59 3474.33 1592.81 Q3471.23 1596 3465.58 1601.77 Z\" fill=\"#000000\" fill-rule=\"nonzero\" fill-opacity=\"1\" /></svg>\n"
      ]
     },
     "execution_count": 12,
     "metadata": {},
     "output_type": "execute_result"
    }
   ],
   "source": [
    "# plot ground truth\n",
    "p_twopool_mean = plot(sol.u[1].t,truemean',title = \"Mean Two Pool\")\n",
    "p_twopool_var = plot(sol.u[1].t,truevar', title = \"Var Two Pool\")\n",
    "\n",
    "plot(\n",
    "    p_twopool_mean,\n",
    "    p_twopool_var,\n",
    "    layout = (1,2),\n",
    "    size = (900,450)\n",
    ")"
   ]
  },
  {
   "cell_type": "markdown",
   "id": "f02628f1",
   "metadata": {},
   "source": [
    "# Define NNs for Reaction Fluxes and Forward Simulate with SDE"
   ]
  },
  {
   "cell_type": "code",
   "execution_count": 13,
   "id": "80722bfd",
   "metadata": {
    "scrolled": false
   },
   "outputs": [
    {
     "data": {
      "image/svg+xml": [
       "<?xml version=\"1.0\" encoding=\"utf-8\"?>\n",
       "<svg xmlns=\"http://www.w3.org/2000/svg\" xmlns:xlink=\"http://www.w3.org/1999/xlink\" width=\"600\" height=\"400\" viewBox=\"0 0 2400 1600\">\n",
       "<defs>\n",
       "  <clipPath id=\"clip200\">\n",
       "    <rect x=\"0\" y=\"0\" width=\"2400\" height=\"1600\"/>\n",
       "  </clipPath>\n",
       "</defs>\n",
       "<path clip-path=\"url(#clip200)\" d=\"M0 1600 L2400 1600 L2400 0 L0 0  Z\" fill=\"#ffffff\" fill-rule=\"evenodd\" fill-opacity=\"1\"/>\n",
       "<defs>\n",
       "  <clipPath id=\"clip201\">\n",
       "    <rect x=\"480\" y=\"0\" width=\"1681\" height=\"1600\"/>\n",
       "  </clipPath>\n",
       "</defs>\n",
       "<path clip-path=\"url(#clip200)\" d=\"M169.121 1486.45 L2352.76 1486.45 L2352.76 47.2441 L169.121 47.2441  Z\" fill=\"#ffffff\" fill-rule=\"evenodd\" fill-opacity=\"1\"/>\n",
       "<defs>\n",
       "  <clipPath id=\"clip202\">\n",
       "    <rect x=\"169\" y=\"47\" width=\"2185\" height=\"1440\"/>\n",
       "  </clipPath>\n",
       "</defs>\n",
       "<polyline clip-path=\"url(#clip202)\" style=\"stroke:#000000; stroke-linecap:round; stroke-linejoin:round; stroke-width:2; stroke-opacity:0.1; fill:none\" points=\"230.922,1486.45 230.922,47.2441 \"/>\n",
       "<polyline clip-path=\"url(#clip202)\" style=\"stroke:#000000; stroke-linecap:round; stroke-linejoin:round; stroke-width:2; stroke-opacity:0.1; fill:none\" points=\"745.93,1486.45 745.93,47.2441 \"/>\n",
       "<polyline clip-path=\"url(#clip202)\" style=\"stroke:#000000; stroke-linecap:round; stroke-linejoin:round; stroke-width:2; stroke-opacity:0.1; fill:none\" points=\"1260.94,1486.45 1260.94,47.2441 \"/>\n",
       "<polyline clip-path=\"url(#clip202)\" style=\"stroke:#000000; stroke-linecap:round; stroke-linejoin:round; stroke-width:2; stroke-opacity:0.1; fill:none\" points=\"1775.95,1486.45 1775.95,47.2441 \"/>\n",
       "<polyline clip-path=\"url(#clip202)\" style=\"stroke:#000000; stroke-linecap:round; stroke-linejoin:round; stroke-width:2; stroke-opacity:0.1; fill:none\" points=\"2290.95,1486.45 2290.95,47.2441 \"/>\n",
       "<polyline clip-path=\"url(#clip200)\" style=\"stroke:#000000; stroke-linecap:round; stroke-linejoin:round; stroke-width:4; stroke-opacity:1; fill:none\" points=\"169.121,1486.45 2352.76,1486.45 \"/>\n",
       "<polyline clip-path=\"url(#clip200)\" style=\"stroke:#000000; stroke-linecap:round; stroke-linejoin:round; stroke-width:4; stroke-opacity:1; fill:none\" points=\"230.922,1486.45 230.922,1467.55 \"/>\n",
       "<polyline clip-path=\"url(#clip200)\" style=\"stroke:#000000; stroke-linecap:round; stroke-linejoin:round; stroke-width:4; stroke-opacity:1; fill:none\" points=\"745.93,1486.45 745.93,1467.55 \"/>\n",
       "<polyline clip-path=\"url(#clip200)\" style=\"stroke:#000000; stroke-linecap:round; stroke-linejoin:round; stroke-width:4; stroke-opacity:1; fill:none\" points=\"1260.94,1486.45 1260.94,1467.55 \"/>\n",
       "<polyline clip-path=\"url(#clip200)\" style=\"stroke:#000000; stroke-linecap:round; stroke-linejoin:round; stroke-width:4; stroke-opacity:1; fill:none\" points=\"1775.95,1486.45 1775.95,1467.55 \"/>\n",
       "<polyline clip-path=\"url(#clip200)\" style=\"stroke:#000000; stroke-linecap:round; stroke-linejoin:round; stroke-width:4; stroke-opacity:1; fill:none\" points=\"2290.95,1486.45 2290.95,1467.55 \"/>\n",
       "<path clip-path=\"url(#clip200)\" d=\"M208.307 1517.37 Q204.696 1517.37 202.867 1520.93 Q201.061 1524.47 201.061 1531.6 Q201.061 1538.71 202.867 1542.27 Q204.696 1545.82 208.307 1545.82 Q211.941 1545.82 213.746 1542.27 Q215.575 1538.71 215.575 1531.6 Q215.575 1524.47 213.746 1520.93 Q211.941 1517.37 208.307 1517.37 M208.307 1513.66 Q214.117 1513.66 217.172 1518.27 Q220.251 1522.85 220.251 1531.6 Q220.251 1540.33 217.172 1544.94 Q214.117 1549.52 208.307 1549.52 Q202.497 1549.52 199.418 1544.94 Q196.362 1540.33 196.362 1531.6 Q196.362 1522.85 199.418 1518.27 Q202.497 1513.66 208.307 1513.66 Z\" fill=\"#000000\" fill-rule=\"nonzero\" fill-opacity=\"1\" /><path clip-path=\"url(#clip200)\" d=\"M228.469 1542.97 L233.353 1542.97 L233.353 1548.85 L228.469 1548.85 L228.469 1542.97 Z\" fill=\"#000000\" fill-rule=\"nonzero\" fill-opacity=\"1\" /><path clip-path=\"url(#clip200)\" d=\"M253.538 1517.37 Q249.927 1517.37 248.098 1520.93 Q246.293 1524.47 246.293 1531.6 Q246.293 1538.71 248.098 1542.27 Q249.927 1545.82 253.538 1545.82 Q257.172 1545.82 258.978 1542.27 Q260.806 1538.71 260.806 1531.6 Q260.806 1524.47 258.978 1520.93 Q257.172 1517.37 253.538 1517.37 M253.538 1513.66 Q259.348 1513.66 262.404 1518.27 Q265.482 1522.85 265.482 1531.6 Q265.482 1540.33 262.404 1544.94 Q259.348 1549.52 253.538 1549.52 Q247.728 1549.52 244.649 1544.94 Q241.594 1540.33 241.594 1531.6 Q241.594 1522.85 244.649 1518.27 Q247.728 1513.66 253.538 1513.66 Z\" fill=\"#000000\" fill-rule=\"nonzero\" fill-opacity=\"1\" /><path clip-path=\"url(#clip200)\" d=\"M717.667 1544.91 L733.986 1544.91 L733.986 1548.85 L712.042 1548.85 L712.042 1544.91 Q714.704 1542.16 719.287 1537.53 Q723.894 1532.88 725.074 1531.53 Q727.319 1529.01 728.199 1527.27 Q729.102 1525.51 729.102 1523.82 Q729.102 1521.07 727.157 1519.33 Q725.236 1517.6 722.134 1517.6 Q719.935 1517.6 717.482 1518.36 Q715.051 1519.13 712.273 1520.68 L712.273 1515.95 Q715.097 1514.82 717.551 1514.24 Q720.005 1513.66 722.042 1513.66 Q727.412 1513.66 730.606 1516.35 Q733.801 1519.03 733.801 1523.52 Q733.801 1525.65 732.991 1527.57 Q732.204 1529.47 730.097 1532.07 Q729.519 1532.74 726.417 1535.95 Q723.315 1539.15 717.667 1544.91 Z\" fill=\"#000000\" fill-rule=\"nonzero\" fill-opacity=\"1\" /><path clip-path=\"url(#clip200)\" d=\"M743.801 1542.97 L748.685 1542.97 L748.685 1548.85 L743.801 1548.85 L743.801 1542.97 Z\" fill=\"#000000\" fill-rule=\"nonzero\" fill-opacity=\"1\" /><path clip-path=\"url(#clip200)\" d=\"M758.916 1514.29 L777.273 1514.29 L777.273 1518.22 L763.199 1518.22 L763.199 1526.7 Q764.217 1526.35 765.236 1526.19 Q766.254 1526 767.273 1526 Q773.06 1526 776.44 1529.17 Q779.819 1532.34 779.819 1537.76 Q779.819 1543.34 776.347 1546.44 Q772.875 1549.52 766.555 1549.52 Q764.379 1549.52 762.111 1549.15 Q759.866 1548.78 757.458 1548.04 L757.458 1543.34 Q759.541 1544.47 761.764 1545.03 Q763.986 1545.58 766.463 1545.58 Q770.467 1545.58 772.805 1543.48 Q775.143 1541.37 775.143 1537.76 Q775.143 1534.15 772.805 1532.04 Q770.467 1529.94 766.463 1529.94 Q764.588 1529.94 762.713 1530.35 Q760.861 1530.77 758.916 1531.65 L758.916 1514.29 Z\" fill=\"#000000\" fill-rule=\"nonzero\" fill-opacity=\"1\" /><path clip-path=\"url(#clip200)\" d=\"M1228.1 1514.29 L1246.46 1514.29 L1246.46 1518.22 L1232.39 1518.22 L1232.39 1526.7 Q1233.4 1526.35 1234.42 1526.19 Q1235.44 1526 1236.46 1526 Q1242.25 1526 1245.63 1529.17 Q1249.01 1532.34 1249.01 1537.76 Q1249.01 1543.34 1245.53 1546.44 Q1242.06 1549.52 1235.74 1549.52 Q1233.57 1549.52 1231.3 1549.15 Q1229.05 1548.78 1226.64 1548.04 L1226.64 1543.34 Q1228.73 1544.47 1230.95 1545.03 Q1233.17 1545.58 1235.65 1545.58 Q1239.65 1545.58 1241.99 1543.48 Q1244.33 1541.37 1244.33 1537.76 Q1244.33 1534.15 1241.99 1532.04 Q1239.65 1529.94 1235.65 1529.94 Q1233.77 1529.94 1231.9 1530.35 Q1230.05 1530.77 1228.1 1531.65 L1228.1 1514.29 Z\" fill=\"#000000\" fill-rule=\"nonzero\" fill-opacity=\"1\" /><path clip-path=\"url(#clip200)\" d=\"M1258.22 1542.97 L1263.1 1542.97 L1263.1 1548.85 L1258.22 1548.85 L1258.22 1542.97 Z\" fill=\"#000000\" fill-rule=\"nonzero\" fill-opacity=\"1\" /><path clip-path=\"url(#clip200)\" d=\"M1283.29 1517.37 Q1279.68 1517.37 1277.85 1520.93 Q1276.04 1524.47 1276.04 1531.6 Q1276.04 1538.71 1277.85 1542.27 Q1279.68 1545.82 1283.29 1545.82 Q1286.92 1545.82 1288.73 1542.27 Q1290.56 1538.71 1290.56 1531.6 Q1290.56 1524.47 1288.73 1520.93 Q1286.92 1517.37 1283.29 1517.37 M1283.29 1513.66 Q1289.1 1513.66 1292.15 1518.27 Q1295.23 1522.85 1295.23 1531.6 Q1295.23 1540.33 1292.15 1544.94 Q1289.1 1549.52 1283.29 1549.52 Q1277.48 1549.52 1274.4 1544.94 Q1271.34 1540.33 1271.34 1531.6 Q1271.34 1522.85 1274.4 1518.27 Q1277.48 1513.66 1283.29 1513.66 Z\" fill=\"#000000\" fill-rule=\"nonzero\" fill-opacity=\"1\" /><path clip-path=\"url(#clip200)\" d=\"M1742.27 1514.29 L1764.49 1514.29 L1764.49 1516.28 L1751.94 1548.85 L1747.06 1548.85 L1758.86 1518.22 L1742.27 1518.22 L1742.27 1514.29 Z\" fill=\"#000000\" fill-rule=\"nonzero\" fill-opacity=\"1\" /><path clip-path=\"url(#clip200)\" d=\"M1773.61 1542.97 L1778.49 1542.97 L1778.49 1548.85 L1773.61 1548.85 L1773.61 1542.97 Z\" fill=\"#000000\" fill-rule=\"nonzero\" fill-opacity=\"1\" /><path clip-path=\"url(#clip200)\" d=\"M1788.72 1514.29 L1807.08 1514.29 L1807.08 1518.22 L1793.01 1518.22 L1793.01 1526.7 Q1794.03 1526.35 1795.04 1526.19 Q1796.06 1526 1797.08 1526 Q1802.87 1526 1806.25 1529.17 Q1809.63 1532.34 1809.63 1537.76 Q1809.63 1543.34 1806.15 1546.44 Q1802.68 1549.52 1796.36 1549.52 Q1794.19 1549.52 1791.92 1549.15 Q1789.67 1548.78 1787.27 1548.04 L1787.27 1543.34 Q1789.35 1544.47 1791.57 1545.03 Q1793.79 1545.58 1796.27 1545.58 Q1800.28 1545.58 1802.61 1543.48 Q1804.95 1541.37 1804.95 1537.76 Q1804.95 1534.15 1802.61 1532.04 Q1800.28 1529.94 1796.27 1529.94 Q1794.4 1529.94 1792.52 1530.35 Q1790.67 1530.77 1788.72 1531.65 L1788.72 1514.29 Z\" fill=\"#000000\" fill-rule=\"nonzero\" fill-opacity=\"1\" /><path clip-path=\"url(#clip200)\" d=\"M2243.03 1544.91 L2250.67 1544.91 L2250.67 1518.55 L2242.36 1520.21 L2242.36 1515.95 L2250.62 1514.29 L2255.3 1514.29 L2255.3 1544.91 L2262.93 1544.91 L2262.93 1548.85 L2243.03 1548.85 L2243.03 1544.91 Z\" fill=\"#000000\" fill-rule=\"nonzero\" fill-opacity=\"1\" /><path clip-path=\"url(#clip200)\" d=\"M2282.38 1517.37 Q2278.77 1517.37 2276.94 1520.93 Q2275.13 1524.47 2275.13 1531.6 Q2275.13 1538.71 2276.94 1542.27 Q2278.77 1545.82 2282.38 1545.82 Q2286.01 1545.82 2287.82 1542.27 Q2289.65 1538.71 2289.65 1531.6 Q2289.65 1524.47 2287.82 1520.93 Q2286.01 1517.37 2282.38 1517.37 M2282.38 1513.66 Q2288.19 1513.66 2291.24 1518.27 Q2294.32 1522.85 2294.32 1531.6 Q2294.32 1540.33 2291.24 1544.94 Q2288.19 1549.52 2282.38 1549.52 Q2276.57 1549.52 2273.49 1544.94 Q2270.43 1540.33 2270.43 1531.6 Q2270.43 1522.85 2273.49 1518.27 Q2276.57 1513.66 2282.38 1513.66 Z\" fill=\"#000000\" fill-rule=\"nonzero\" fill-opacity=\"1\" /><path clip-path=\"url(#clip200)\" d=\"M2302.54 1542.97 L2307.42 1542.97 L2307.42 1548.85 L2302.54 1548.85 L2302.54 1542.97 Z\" fill=\"#000000\" fill-rule=\"nonzero\" fill-opacity=\"1\" /><path clip-path=\"url(#clip200)\" d=\"M2327.61 1517.37 Q2324 1517.37 2322.17 1520.93 Q2320.36 1524.47 2320.36 1531.6 Q2320.36 1538.71 2322.17 1542.27 Q2324 1545.82 2327.61 1545.82 Q2331.24 1545.82 2333.05 1542.27 Q2334.88 1538.71 2334.88 1531.6 Q2334.88 1524.47 2333.05 1520.93 Q2331.24 1517.37 2327.61 1517.37 M2327.61 1513.66 Q2333.42 1513.66 2336.48 1518.27 Q2339.55 1522.85 2339.55 1531.6 Q2339.55 1540.33 2336.48 1544.94 Q2333.42 1549.52 2327.61 1549.52 Q2321.8 1549.52 2318.72 1544.94 Q2315.67 1540.33 2315.67 1531.6 Q2315.67 1522.85 2318.72 1518.27 Q2321.8 1513.66 2327.61 1513.66 Z\" fill=\"#000000\" fill-rule=\"nonzero\" fill-opacity=\"1\" /><polyline clip-path=\"url(#clip202)\" style=\"stroke:#000000; stroke-linecap:round; stroke-linejoin:round; stroke-width:2; stroke-opacity:0.1; fill:none\" points=\"169.121,1445.72 2352.76,1445.72 \"/>\n",
       "<polyline clip-path=\"url(#clip202)\" style=\"stroke:#000000; stroke-linecap:round; stroke-linejoin:round; stroke-width:2; stroke-opacity:0.1; fill:none\" points=\"169.121,1106.28 2352.76,1106.28 \"/>\n",
       "<polyline clip-path=\"url(#clip202)\" style=\"stroke:#000000; stroke-linecap:round; stroke-linejoin:round; stroke-width:2; stroke-opacity:0.1; fill:none\" points=\"169.121,766.846 2352.76,766.846 \"/>\n",
       "<polyline clip-path=\"url(#clip202)\" style=\"stroke:#000000; stroke-linecap:round; stroke-linejoin:round; stroke-width:2; stroke-opacity:0.1; fill:none\" points=\"169.121,427.411 2352.76,427.411 \"/>\n",
       "<polyline clip-path=\"url(#clip202)\" style=\"stroke:#000000; stroke-linecap:round; stroke-linejoin:round; stroke-width:2; stroke-opacity:0.1; fill:none\" points=\"169.121,87.9763 2352.76,87.9763 \"/>\n",
       "<polyline clip-path=\"url(#clip200)\" style=\"stroke:#000000; stroke-linecap:round; stroke-linejoin:round; stroke-width:4; stroke-opacity:1; fill:none\" points=\"169.121,1486.45 169.121,47.2441 \"/>\n",
       "<polyline clip-path=\"url(#clip200)\" style=\"stroke:#000000; stroke-linecap:round; stroke-linejoin:round; stroke-width:4; stroke-opacity:1; fill:none\" points=\"169.121,1445.72 188.019,1445.72 \"/>\n",
       "<polyline clip-path=\"url(#clip200)\" style=\"stroke:#000000; stroke-linecap:round; stroke-linejoin:round; stroke-width:4; stroke-opacity:1; fill:none\" points=\"169.121,1106.28 188.019,1106.28 \"/>\n",
       "<polyline clip-path=\"url(#clip200)\" style=\"stroke:#000000; stroke-linecap:round; stroke-linejoin:round; stroke-width:4; stroke-opacity:1; fill:none\" points=\"169.121,766.846 188.019,766.846 \"/>\n",
       "<polyline clip-path=\"url(#clip200)\" style=\"stroke:#000000; stroke-linecap:round; stroke-linejoin:round; stroke-width:4; stroke-opacity:1; fill:none\" points=\"169.121,427.411 188.019,427.411 \"/>\n",
       "<polyline clip-path=\"url(#clip200)\" style=\"stroke:#000000; stroke-linecap:round; stroke-linejoin:round; stroke-width:4; stroke-opacity:1; fill:none\" points=\"169.121,87.9763 188.019,87.9763 \"/>\n",
       "<path clip-path=\"url(#clip200)\" d=\"M121.177 1431.51 Q117.566 1431.51 115.737 1435.08 Q113.932 1438.62 113.932 1445.75 Q113.932 1452.86 115.737 1456.42 Q117.566 1459.96 121.177 1459.96 Q124.811 1459.96 126.617 1456.42 Q128.445 1452.86 128.445 1445.75 Q128.445 1438.62 126.617 1435.08 Q124.811 1431.51 121.177 1431.51 M121.177 1427.81 Q126.987 1427.81 130.043 1432.42 Q133.121 1437 133.121 1445.75 Q133.121 1454.48 130.043 1459.08 Q126.987 1463.67 121.177 1463.67 Q115.367 1463.67 112.288 1459.08 Q109.233 1454.48 109.233 1445.75 Q109.233 1437 112.288 1432.42 Q115.367 1427.81 121.177 1427.81 Z\" fill=\"#000000\" fill-rule=\"nonzero\" fill-opacity=\"1\" /><path clip-path=\"url(#clip200)\" d=\"M86.0382 1119.63 L102.358 1119.63 L102.358 1123.56 L80.4133 1123.56 L80.4133 1119.63 Q83.0753 1116.87 87.6586 1112.24 Q92.2651 1107.59 93.4456 1106.25 Q95.691 1103.72 96.5706 1101.99 Q97.4734 1100.23 97.4734 1098.54 Q97.4734 1095.78 95.5289 1094.05 Q93.6076 1092.31 90.5058 1092.31 Q88.3067 1092.31 85.8531 1093.07 Q83.4225 1093.84 80.6447 1095.39 L80.6447 1090.67 Q83.4688 1089.53 85.9225 1088.95 Q88.3762 1088.38 90.4132 1088.38 Q95.7836 1088.38 98.978 1091.06 Q102.172 1093.75 102.172 1098.24 Q102.172 1100.37 101.362 1102.29 Q100.575 1104.19 98.4687 1106.78 Q97.89 1107.45 94.7882 1110.67 Q91.6864 1113.86 86.0382 1119.63 Z\" fill=\"#000000\" fill-rule=\"nonzero\" fill-opacity=\"1\" /><path clip-path=\"url(#clip200)\" d=\"M112.219 1089 L130.575 1089 L130.575 1092.94 L116.501 1092.94 L116.501 1101.41 Q117.52 1101.06 118.538 1100.9 Q119.557 1100.71 120.575 1100.71 Q126.362 1100.71 129.742 1103.89 Q133.121 1107.06 133.121 1112.47 Q133.121 1118.05 129.649 1121.15 Q126.177 1124.23 119.857 1124.23 Q117.682 1124.23 115.413 1123.86 Q113.168 1123.49 110.76 1122.75 L110.76 1118.05 Q112.844 1119.19 115.066 1119.74 Q117.288 1120.3 119.765 1120.3 Q123.77 1120.3 126.107 1118.19 Q128.445 1116.08 128.445 1112.47 Q128.445 1108.86 126.107 1106.76 Q123.77 1104.65 119.765 1104.65 Q117.89 1104.65 116.015 1105.07 Q114.163 1105.48 112.219 1106.36 L112.219 1089 Z\" fill=\"#000000\" fill-rule=\"nonzero\" fill-opacity=\"1\" /><path clip-path=\"url(#clip200)\" d=\"M81.0614 749.566 L99.4178 749.566 L99.4178 753.501 L85.3438 753.501 L85.3438 761.973 Q86.3623 761.626 87.3808 761.464 Q88.3993 761.279 89.4178 761.279 Q95.2049 761.279 98.5845 764.45 Q101.964 767.621 101.964 773.038 Q101.964 778.617 98.4919 781.719 Q95.0197 784.797 88.7003 784.797 Q86.5243 784.797 84.2558 784.427 Q82.0105 784.057 79.6031 783.316 L79.6031 778.617 Q81.6864 779.751 83.9086 780.307 Q86.1308 780.862 88.6077 780.862 Q92.6123 780.862 94.9502 778.756 Q97.2882 776.649 97.2882 773.038 Q97.2882 769.427 94.9502 767.321 Q92.6123 765.214 88.6077 765.214 Q86.7327 765.214 84.8577 765.631 Q83.0058 766.047 81.0614 766.927 L81.0614 749.566 Z\" fill=\"#000000\" fill-rule=\"nonzero\" fill-opacity=\"1\" /><path clip-path=\"url(#clip200)\" d=\"M121.177 752.645 Q117.566 752.645 115.737 756.209 Q113.932 759.751 113.932 766.881 Q113.932 773.987 115.737 777.552 Q117.566 781.094 121.177 781.094 Q124.811 781.094 126.617 777.552 Q128.445 773.987 128.445 766.881 Q128.445 759.751 126.617 756.209 Q124.811 752.645 121.177 752.645 M121.177 748.941 Q126.987 748.941 130.043 753.547 Q133.121 758.131 133.121 766.881 Q133.121 775.608 130.043 780.214 Q126.987 784.797 121.177 784.797 Q115.367 784.797 112.288 780.214 Q109.233 775.608 109.233 766.881 Q109.233 758.131 112.288 753.547 Q115.367 748.941 121.177 748.941 Z\" fill=\"#000000\" fill-rule=\"nonzero\" fill-opacity=\"1\" /><path clip-path=\"url(#clip200)\" d=\"M80.8299 410.131 L103.052 410.131 L103.052 412.122 L90.5058 444.691 L85.6216 444.691 L97.4271 414.066 L80.8299 414.066 L80.8299 410.131 Z\" fill=\"#000000\" fill-rule=\"nonzero\" fill-opacity=\"1\" /><path clip-path=\"url(#clip200)\" d=\"M112.219 410.131 L130.575 410.131 L130.575 414.066 L116.501 414.066 L116.501 422.538 Q117.52 422.191 118.538 422.029 Q119.557 421.844 120.575 421.844 Q126.362 421.844 129.742 425.015 Q133.121 428.187 133.121 433.603 Q133.121 439.182 129.649 442.284 Q126.177 445.362 119.857 445.362 Q117.682 445.362 115.413 444.992 Q113.168 444.622 110.76 443.881 L110.76 439.182 Q112.844 440.316 115.066 440.872 Q117.288 441.427 119.765 441.427 Q123.77 441.427 126.107 439.321 Q128.445 437.214 128.445 433.603 Q128.445 429.992 126.107 427.886 Q123.77 425.779 119.765 425.779 Q117.89 425.779 116.015 426.196 Q114.163 426.613 112.219 427.492 L112.219 410.131 Z\" fill=\"#000000\" fill-rule=\"nonzero\" fill-opacity=\"1\" /><path clip-path=\"url(#clip200)\" d=\"M51.6634 101.321 L59.3023 101.321 L59.3023 74.9555 L50.9921 76.6222 L50.9921 72.3629 L59.256 70.6963 L63.9319 70.6963 L63.9319 101.321 L71.5707 101.321 L71.5707 105.256 L51.6634 105.256 L51.6634 101.321 Z\" fill=\"#000000\" fill-rule=\"nonzero\" fill-opacity=\"1\" /><path clip-path=\"url(#clip200)\" d=\"M91.0151 73.775 Q87.404 73.775 85.5753 77.3398 Q83.7697 80.8814 83.7697 88.011 Q83.7697 95.1174 85.5753 98.6822 Q87.404 102.224 91.0151 102.224 Q94.6493 102.224 96.4548 98.6822 Q98.2835 95.1174 98.2835 88.011 Q98.2835 80.8814 96.4548 77.3398 Q94.6493 73.775 91.0151 73.775 M91.0151 70.0713 Q96.8252 70.0713 99.8808 74.6777 Q102.959 79.261 102.959 88.011 Q102.959 96.7378 99.8808 101.344 Q96.8252 105.928 91.0151 105.928 Q85.2049 105.928 82.1262 101.344 Q79.0707 96.7378 79.0707 88.011 Q79.0707 79.261 82.1262 74.6777 Q85.2049 70.0713 91.0151 70.0713 Z\" fill=\"#000000\" fill-rule=\"nonzero\" fill-opacity=\"1\" /><path clip-path=\"url(#clip200)\" d=\"M121.177 73.775 Q117.566 73.775 115.737 77.3398 Q113.932 80.8814 113.932 88.011 Q113.932 95.1174 115.737 98.6822 Q117.566 102.224 121.177 102.224 Q124.811 102.224 126.617 98.6822 Q128.445 95.1174 128.445 88.011 Q128.445 80.8814 126.617 77.3398 Q124.811 73.775 121.177 73.775 M121.177 70.0713 Q126.987 70.0713 130.043 74.6777 Q133.121 79.261 133.121 88.011 Q133.121 96.7378 130.043 101.344 Q126.987 105.928 121.177 105.928 Q115.367 105.928 112.288 101.344 Q109.233 96.7378 109.233 88.011 Q109.233 79.261 112.288 74.6777 Q115.367 70.0713 121.177 70.0713 Z\" fill=\"#000000\" fill-rule=\"nonzero\" fill-opacity=\"1\" /><polyline clip-path=\"url(#clip202)\" style=\"stroke:#009af9; stroke-linecap:round; stroke-linejoin:round; stroke-width:4; stroke-opacity:1; fill:none\" points=\"230.922,87.9763 241.222,103.393 251.523,126.344 261.823,118.184 272.123,121.398 282.423,134.949 292.723,146.462 303.023,183.418 313.324,178.541 323.624,209.656 333.924,205.959 344.224,209.602 354.524,227.615 364.824,266.244 375.125,253.979 385.425,262.697 395.725,276.3 406.025,305.064 416.325,313.103 426.625,340.177 436.926,352.821 447.226,362.967 457.526,346.363 467.826,368.056 478.126,399.733 488.426,390.424 498.727,428.688 509.027,472.755 519.327,481.452 529.627,498.791 539.927,525.029 550.227,545.487 560.528,564.069 570.828,599.811 581.128,598.036 591.428,592.786 601.728,609.009 612.028,614.112 622.328,647.712 632.629,694.455 642.929,721.875 653.229,738.974 663.529,749.811 673.829,760.449 684.129,746.876 694.43,757.731 704.73,788.49 715.03,795.97 725.33,793.51 735.63,793.445 745.93,793.203 756.231,806.843 766.531,830.891 776.831,870.322 787.131,875.651 797.431,868.901 807.731,872.442 818.032,877.096 828.332,872.558 838.632,871.099 848.932,860.076 859.232,854.345 869.532,858.487 879.833,846.074 890.133,834.702 900.433,848.256 910.733,874.197 921.033,896.061 931.333,883.349 941.634,895.312 951.934,885.158 962.234,904.26 972.534,912.289 982.834,915.312 993.134,932.799 1003.43,949.883 1013.73,941.292 1024.03,940.107 1034.34,936.213 1044.64,952.932 1054.94,973.072 1065.24,979.48 1075.54,1003.98 1085.84,1026.68 1096.14,1018.59 1106.44,1011.1 1116.74,1018.6 1127.04,1037.15 1137.34,1047.74 1147.64,1067.61 1157.94,1073.09 1168.24,1083.14 1178.54,1076.96 1188.84,1088.47 1199.14,1099.41 1209.44,1106.34 1219.74,1114.46 1230.04,1120.75 1240.34,1135.81 1250.64,1132.07 1260.94,1138.99 1271.24,1135.14 1281.54,1139.5 1291.84,1161.39 1302.14,1164.18 1312.44,1170.01 1322.74,1167.14 1333.04,1165.44 1343.34,1170.9 1353.64,1176.08 1363.94,1177.18 1374.24,1178.42 1384.54,1187.88 1394.84,1184.18 1405.14,1185.7 1415.44,1185 1425.74,1192.1 1436.04,1193.14 1446.34,1209.16 1456.64,1220.04 1466.94,1224.92 1477.24,1230.95 1487.54,1235.51 1497.84,1238.24 1508.14,1233.65 1518.44,1252.08 1528.74,1256.77 1539.04,1264.93 1549.34,1265.37 1559.64,1274.56 1569.94,1272.08 1580.24,1276.75 1590.54,1284.18 1600.84,1279.06 1611.14,1276.84 1621.44,1275.43 1631.74,1273.83 1642.04,1269.93 1652.34,1267.98 1662.64,1261.9 1672.95,1260.15 1683.25,1257.43 1693.55,1268.74 1703.85,1274.57 1714.15,1280.23 1724.45,1281.48 1734.75,1288.85 1745.05,1287.92 1755.35,1295.36 1765.65,1295.56 1775.95,1294.84 1786.25,1298.19 1796.55,1294.11 1806.85,1311.52 1817.15,1311.97 1827.45,1311.99 1837.75,1296.75 1848.05,1287.21 1858.35,1299.09 1868.65,1302.67 1878.95,1298.6 1889.25,1298.65 1899.55,1300.38 1909.85,1299.54 1920.15,1313.78 1930.45,1319.36 1940.75,1312.24 1951.05,1323.95 1961.35,1324.73 1971.65,1328.6 1981.95,1336.47 1992.25,1338.69 2002.55,1348.99 2012.85,1350.23 2023.15,1352.38 2033.45,1357.08 2043.75,1359.12 2054.05,1353.73 2064.35,1359.34 2074.65,1361.68 2084.95,1362.14 2095.25,1367.54 2105.55,1374.68 2115.85,1375.5 2126.15,1379.64 2136.45,1378.25 2146.75,1383.92 2157.05,1383.78 2167.35,1381.64 2177.65,1386.68 2187.95,1393.59 2198.25,1389.84 2208.55,1389.78 2218.85,1394.85 2229.15,1402.97 2239.45,1407.05 2249.75,1405.63 2260.05,1410.68 2270.35,1411.02 2280.65,1409.49 2290.95,1411.02 \"/>\n",
       "<polyline clip-path=\"url(#clip202)\" style=\"stroke:#e26f46; stroke-linecap:round; stroke-linejoin:round; stroke-width:4; stroke-opacity:1; fill:none\" points=\"230.922,1445.72 241.222,1445.72 251.523,1445.72 261.823,1445.72 272.123,1445.72 282.423,1445.72 292.723,1445.72 303.023,1445.72 313.324,1445.72 323.624,1445.72 333.924,1445.72 344.224,1445.72 354.524,1445.72 364.824,1445.72 375.125,1445.72 385.425,1445.72 395.725,1445.72 406.025,1445.72 416.325,1445.72 426.625,1445.72 436.926,1445.72 447.226,1445.72 457.526,1445.72 467.826,1445.72 478.126,1445.72 488.426,1445.72 498.727,1445.72 509.027,1445.72 519.327,1445.72 529.627,1445.72 539.927,1445.72 550.227,1445.72 560.528,1445.72 570.828,1445.72 581.128,1445.72 591.428,1445.72 601.728,1445.72 612.028,1445.72 622.328,1445.72 632.629,1445.72 642.929,1445.72 653.229,1445.72 663.529,1445.72 673.829,1445.72 684.129,1445.72 694.43,1445.72 704.73,1445.72 715.03,1445.72 725.33,1445.72 735.63,1445.72 745.93,1445.72 756.231,1445.72 766.531,1445.72 776.831,1445.72 787.131,1445.72 797.431,1445.72 807.731,1445.72 818.032,1445.72 828.332,1445.72 838.632,1445.72 848.932,1445.72 859.232,1445.72 869.532,1445.72 879.833,1445.72 890.133,1445.72 900.433,1445.72 910.733,1445.72 921.033,1445.72 931.333,1445.72 941.634,1445.72 951.934,1445.72 962.234,1445.72 972.534,1445.72 982.834,1445.72 993.134,1445.72 1003.43,1445.72 1013.73,1445.72 1024.03,1445.72 1034.34,1445.72 1044.64,1445.72 1054.94,1445.72 1065.24,1445.72 1075.54,1445.72 1085.84,1445.72 1096.14,1445.72 1106.44,1445.72 1116.74,1445.72 1127.04,1445.72 1137.34,1445.72 1147.64,1445.72 1157.94,1445.72 1168.24,1445.72 1178.54,1445.72 1188.84,1445.72 1199.14,1445.72 1209.44,1445.72 1219.74,1445.72 1230.04,1445.72 1240.34,1445.72 1250.64,1445.72 1260.94,1445.72 1271.24,1445.72 1281.54,1445.72 1291.84,1445.72 1302.14,1445.72 1312.44,1445.72 1322.74,1445.72 1333.04,1445.72 1343.34,1445.72 1353.64,1445.72 1363.94,1445.72 1374.24,1445.72 1384.54,1445.72 1394.84,1445.72 1405.14,1445.72 1415.44,1445.72 1425.74,1445.72 1436.04,1445.72 1446.34,1445.72 1456.64,1445.72 1466.94,1445.72 1477.24,1445.72 1487.54,1445.72 1497.84,1445.72 1508.14,1445.72 1518.44,1445.72 1528.74,1445.72 1539.04,1445.72 1549.34,1445.72 1559.64,1445.72 1569.94,1445.72 1580.24,1445.72 1590.54,1445.72 1600.84,1445.72 1611.14,1445.72 1621.44,1445.72 1631.74,1445.72 1642.04,1445.72 1652.34,1445.72 1662.64,1445.72 1672.95,1445.72 1683.25,1445.72 1693.55,1445.72 1703.85,1445.72 1714.15,1445.72 1724.45,1445.72 1734.75,1445.72 1745.05,1445.72 1755.35,1445.72 1765.65,1445.72 1775.95,1445.72 1786.25,1445.72 1796.55,1445.72 1806.85,1445.72 1817.15,1445.72 1827.45,1445.72 1837.75,1445.72 1848.05,1445.72 1858.35,1445.72 1868.65,1445.72 1878.95,1445.72 1889.25,1445.72 1899.55,1445.72 1909.85,1445.72 1920.15,1445.72 1930.45,1445.72 1940.75,1445.72 1951.05,1445.72 1961.35,1445.72 1971.65,1445.72 1981.95,1445.72 1992.25,1445.72 2002.55,1445.72 2012.85,1445.72 2023.15,1445.72 2033.45,1445.72 2043.75,1445.72 2054.05,1445.72 2064.35,1445.72 2074.65,1445.72 2084.95,1445.72 2095.25,1445.72 2105.55,1445.72 2115.85,1445.72 2126.15,1445.72 2136.45,1445.72 2146.75,1445.72 2157.05,1445.72 2167.35,1445.72 2177.65,1445.72 2187.95,1445.72 2198.25,1445.72 2208.55,1445.72 2218.85,1445.72 2229.15,1445.72 2239.45,1445.72 2249.75,1445.72 2260.05,1445.72 2270.35,1445.72 2280.65,1445.72 2290.95,1445.72 \"/>\n",
       "<path clip-path=\"url(#clip200)\" d=\"M2009.17 250.738 L2279.97 250.738 L2279.97 95.2176 L2009.17 95.2176  Z\" fill=\"#ffffff\" fill-rule=\"evenodd\" fill-opacity=\"1\"/>\n",
       "<polyline clip-path=\"url(#clip200)\" style=\"stroke:#000000; stroke-linecap:round; stroke-linejoin:round; stroke-width:4; stroke-opacity:1; fill:none\" points=\"2009.17,250.738 2279.97,250.738 2279.97,95.2176 2009.17,95.2176 2009.17,250.738 \"/>\n",
       "<polyline clip-path=\"url(#clip200)\" style=\"stroke:#009af9; stroke-linecap:round; stroke-linejoin:round; stroke-width:4; stroke-opacity:1; fill:none\" points=\"2033.44,147.058 2179.01,147.058 \"/>\n",
       "<path clip-path=\"url(#clip200)\" d=\"M2217.12 166.745 Q2215.31 171.375 2213.6 172.787 Q2211.89 174.199 2209.02 174.199 L2205.61 174.199 L2205.61 170.634 L2208.11 170.634 Q2209.87 170.634 2210.84 169.8 Q2211.82 168.967 2213 165.865 L2213.76 163.921 L2203.28 138.412 L2207.79 138.412 L2215.89 158.689 L2223.99 138.412 L2228.51 138.412 L2217.12 166.745 Z\" fill=\"#000000\" fill-rule=\"nonzero\" fill-opacity=\"1\" /><path clip-path=\"url(#clip200)\" d=\"M2235.8 160.402 L2243.44 160.402 L2243.44 134.037 L2235.13 135.703 L2235.13 131.444 L2243.39 129.778 L2248.07 129.778 L2248.07 160.402 L2255.71 160.402 L2255.71 164.338 L2235.8 164.338 L2235.8 160.402 Z\" fill=\"#000000\" fill-rule=\"nonzero\" fill-opacity=\"1\" /><polyline clip-path=\"url(#clip200)\" style=\"stroke:#e26f46; stroke-linecap:round; stroke-linejoin:round; stroke-width:4; stroke-opacity:1; fill:none\" points=\"2033.44,198.898 2179.01,198.898 \"/>\n",
       "<path clip-path=\"url(#clip200)\" d=\"M2217.12 218.585 Q2215.31 223.215 2213.6 224.627 Q2211.89 226.039 2209.02 226.039 L2205.61 226.039 L2205.61 222.474 L2208.11 222.474 Q2209.87 222.474 2210.84 221.64 Q2211.82 220.807 2213 217.705 L2213.76 215.761 L2203.28 190.252 L2207.79 190.252 L2215.89 210.529 L2223.99 190.252 L2228.51 190.252 L2217.12 218.585 Z\" fill=\"#000000\" fill-rule=\"nonzero\" fill-opacity=\"1\" /><path clip-path=\"url(#clip200)\" d=\"M2239.02 212.242 L2255.34 212.242 L2255.34 216.178 L2233.39 216.178 L2233.39 212.242 Q2236.05 209.488 2240.64 204.858 Q2245.24 200.205 2246.42 198.863 Q2248.67 196.34 2249.55 194.604 Q2250.45 192.844 2250.45 191.155 Q2250.45 188.4 2248.51 186.664 Q2246.59 184.928 2243.48 184.928 Q2241.28 184.928 2238.83 185.692 Q2236.4 186.455 2233.62 188.006 L2233.62 183.284 Q2236.45 182.15 2238.9 181.571 Q2241.35 180.993 2243.39 180.993 Q2248.76 180.993 2251.96 183.678 Q2255.15 186.363 2255.15 190.854 Q2255.15 192.983 2254.34 194.905 Q2253.55 196.803 2251.45 199.395 Q2250.87 200.067 2247.77 203.284 Q2244.66 206.479 2239.02 212.242 Z\" fill=\"#000000\" fill-rule=\"nonzero\" fill-opacity=\"1\" /></svg>\n"
      ]
     },
     "execution_count": 13,
     "metadata": {},
     "output_type": "execute_result"
    }
   ],
   "source": [
    "# NN: R^2 -> R^4, relu on final layer to force positive outputs\n",
    "# ratesmodel = FastChain(FastDense(2 , 16, relu), FastDense(16 , 4, relu));\n",
    "# p_nn = initial_params(ratesmodel);\n",
    "\n",
    "# using Lux necessitates you to explicitly pass the states, `st`, into model run\n",
    "# also note that two-pool model deals with partial observability of the system, so input is R^1, output still R^4\n",
    "ratesmodel = Lux.Chain(Lux.Dense(2, 16, relu), Lux.Dense(16, 4, relu));\n",
    "p_nn, st = Lux.setup(Xoshiro(0), ratesmodel)\n",
    "\n",
    "# can destructure params and Restructure them out of p_nn\n",
    "flat, rebuild = Flux.destructure(p_nn)\n",
    "rebuild(flat)\n",
    "\n",
    "# # Old functions for Flux.jl\n",
    "# function ratestodrift(u, p, t)\n",
    "#     R1,R2,R3,R4 = ratesmodel(u,p,st)\n",
    "#     return [\n",
    "#         R4-(R1+R3),\n",
    "#         R3-(R2+R4)\n",
    "#     ]\n",
    "# end\n",
    "\n",
    "# function ratestodiff(u, p, t)\n",
    "#     R1_r,R2_r,R3_r,R4_r = sqrt.(ratesmodel(u,p,st))\n",
    "#     return [\n",
    "#         R1_r 0.0 -R3_r R4_r;\n",
    "#         0.0 R2_r R3_r R4_r\n",
    "#     ]\n",
    "# end\n",
    "\n",
    "# updating rates from NNs function to deal with Lux framework better\n",
    "# need to explicitly pass the states, and also need to extract the output at the first index (second index is NamedTuple)\n",
    "# pass only partial state information, i.e., u[1] in two pool model\n",
    "function ratestodrift(u, p, t)\n",
    "    R1,R2,R3,R4 = ratesmodel(u,rebuild(p),st)[1]\n",
    "    return [\n",
    "        (R4*(u[2]>0)-(R1+R3)*(u[1]>0)),\n",
    "        (R3*(u[1]>0)-(R2+R4)*(u[2]>0))\n",
    "    ]\n",
    "end\n",
    "\n",
    "function ratestodiff(u, p, t)\n",
    "    R1_r,R2_r,R3_r,R4_r = ratesmodel(u,rebuild(p),st)[1].^(1/2)\n",
    "    return [\n",
    "        R1_r*(u[1]>0) 0.0 -R3_r*(u[1]>0) R4_r*(u[2]>0);\n",
    "        0.0 R2_r*(u[2]>0) R3_r*(u[1]>0) R4_r*(u[2]>0)\n",
    "    ]\n",
    "end\n",
    "\n",
    "# change callback saving to cut down on timepoints being saved\n",
    "condition(u,t,integrator) = true\n",
    "cb_reflect = DiscreteCallback(condition,affect!;save_positions=(false,false))\n",
    "cbs = CallbackSet(cb_reflect)\n",
    "\n",
    "# need to implement functions to recover parameters from Lux structures\n",
    "prob = SDEProblem(\n",
    "    ratestodrift,\n",
    "    ratestodiff,\n",
    "    u_0,\n",
    "    tspan,\n",
    "    Flux.destructure(p_nn)[1],\n",
    "    noise_rate_prototype = NOISE_STRUCT,\n",
    "#     callback=cbs\n",
    ")\n",
    "\n",
    "sol = solve(prob, EM(), dt=0.05, saveat=0.05; sensealg=TrackerAdjoint(), save_everystep=false)\n",
    "plot(sol.t, Array(sol)')"
   ]
  },
  {
   "cell_type": "code",
   "execution_count": 14,
   "id": "c6e14b17",
   "metadata": {},
   "outputs": [
    {
     "data": {
      "text/plain": [
       "4×116 Matrix{Float64}:\n",
       " 0.0  0.0  26.0569  44.9218   49.6919   …  0.0   0.0     1.0  0.0  0.0  0.0\n",
       " 0.0  0.0  17.0491  30.8621   11.265       0.0   0.0     0.0  1.0  0.0  0.0\n",
       " 0.0  0.0   0.0      0.0       0.0         0.0   0.0     0.0  0.0  0.0  0.0\n",
       " 0.0  0.0  30.0881   6.06655   7.56537     0.0  55.0411  0.0  0.0  0.0  1.0"
      ]
     },
     "execution_count": 14,
     "metadata": {},
     "output_type": "execute_result"
    }
   ],
   "source": [
    "# can destructure params and Restructure them out of p_nn\n",
    "flat, rebuild = Flux.destructure(p_nn)\n",
    "rebuild(flat)\n",
    "\n",
    "# test zygote\n",
    "# computing Jacobian instead of gradient (since output is multivariate)\n",
    "# need to index to 1st element... since NamedTuple for structure of NN is 2nd element\n",
    "# input to zygote must be flattened, input to ratesmodel must be rebuilt\n",
    "# index zygote output to first index since zygote output is 1-tuple\n",
    "res = Zygote.jacobian(p->ratesmodel(u_0,rebuild(p),st)[1],Flux.destructure(p_nn)[1])[1]"
   ]
  },
  {
   "cell_type": "code",
   "execution_count": 15,
   "id": "3fabf577",
   "metadata": {
    "scrolled": true
   },
   "outputs": [],
   "source": [
    "# p_nn_cat = []\n",
    "# # println(fieldnames(typeof(p_nn)))\n",
    "# # println(fieldnames(typeof(p_nn.layer_1)))\n",
    "# for i in fieldnames(typeof(p_nn))\n",
    "#     println(i)\n",
    "#     for j in fieldnames(typeof(p_nn[i]))\n",
    "#         println(p_nn[Symbol(i)][Symbol(j)])\n",
    "#         p_nn_cat = vcat(p_nn_cat,vec(p_nn[Symbol(i)][Symbol(j)]))\n",
    "#     end\n",
    "# end\n",
    "# # power (?) of named tuples\n",
    "# # p_nn[:layer_1][:weight]\n",
    "# p_nn_cat"
   ]
  },
  {
   "cell_type": "markdown",
   "id": "aeaddc69",
   "metadata": {},
   "source": [
    "# Backprop with Neural SDE\n",
    "\n",
    "1. Cannot use callbacks since `setindex!` cannot be differentiated. :(\n",
    "2. DO NOT USE `EnsembleProblem()` W/ ANY CODE MEANT TO BE AD'ed! IT WILL CRASH THE DAMN KERNEL!\n",
    "3. `TrackerAdjoint()` as a sensealg is not working. Even on single SDE solve, it produces a gradient that is just bad with a whole lot of `NaN`s. Looking at documentation on sensitivity algs (https://docs.sciml.ai/SciMLSensitivity/stable/manual/differential_equation_sensitivities/#SciMLSensitivity.ReverseDiffAdjoint), it seems like Zygote-based and Tracker-based AD methods are simply overstated. `ForwardDiffSensitivity()` should work just fine, albeit it is very slowwwwwwww, and may even cause mismatch with the fact that we are calling a `Zygote.gradient` reverse-mode computed gradient when `ForwardDiffSensitivity()` is doing forward-mode AD to get the sensitivities."
   ]
  },
  {
   "cell_type": "code",
   "execution_count": 77,
   "id": "592ed445",
   "metadata": {},
   "outputs": [
    {
     "data": {
      "text/plain": [
       "116-element Vector{Float64}:\n",
       "      -2.019341230392456\n",
       "      -1.103372484445572\n",
       "  180261.97201454456\n",
       "  310767.3141876216\n",
       "  343767.0382758607\n",
       "  -29721.644620475457\n",
       "      -1.8944538831710815\n",
       " -117280.05989341345\n",
       "      -1.2045346945524216\n",
       "      -2.0862321853637695\n",
       "  111077.4624247193\n",
       "   55738.242343901635\n",
       "      -1.6305271983146667\n",
       "       ⋮\n",
       "       1.8454792499542236\n",
       "      -2.006476640701294\n",
       "      -1.7279481291770935\n",
       "       1.5751716494560242\n",
       "  380313.57974146924\n",
       "       1.446482092142105\n",
       "      -1.227069929242134\n",
       "       1.0001026415702654\n",
       "   16992.26487652084\n",
       "       1.0\n",
       "       1.0\n",
       "       1.0"
      ]
     },
     "execution_count": 77,
     "metadata": {},
     "output_type": "execute_result"
    }
   ],
   "source": [
    "function loss_neuralsde1(p,u=u_0,n=100)\n",
    "    dt = 0.05\n",
    "    tstops = length(range(tspan[1], step=dt, stop=tspan[2]))\n",
    "    prob = SDEProblem(ratestodrift, ratestodiff, u, tspan, p, noise_rate_prototype = NOISE_STRUCT)#, callback=cbs)\n",
    "    res = map(\n",
    "        (x->solve(prob, EM(), dt = dt, saveat = dt; save_everystep=false, sensealg=ForwardDiffSensitivity())),\n",
    "        [u_0 for i in 1:n]\n",
    "    )\n",
    "\n",
    "    VA = VectorOfArray(res)\n",
    "    arr = convert(Array,VA)\n",
    "    means = mean(arr, dims = 3)\n",
    "    vars = var(arr, dims = 3, mean = means)\n",
    "    loss = sum(abs2, truemean .- means) + sum(abs2, truevar .- vars) + 1.0 * sum(abs2, p) + 1.0 * sum(abs, p) # elastic net without hyperparameters optimized\n",
    "    \n",
    "    return loss\n",
    "end\n",
    "\n",
    "# manipulations of p_nn to get right structure and to train on the correct loss function\n",
    "n=100\n",
    "flat, rebuild = Flux.destructure(p_nn)\n",
    "rebuild(flat)\n",
    "test_loss = loss_neuralsde1(flat)\n",
    "# res = Zygote.gradient(p->loss_neuralsde(p,u_0,n),flat)[1] # was not working at all\n",
    "res = ForwardDiff.gradient(p->loss_neuralsde1(p,u_0,n),flat)"
   ]
  },
  {
   "cell_type": "markdown",
   "id": "a65bfd93",
   "metadata": {},
   "source": [
    "# Simulate on full observability case (measuring both states)"
   ]
  },
  {
   "cell_type": "code",
   "execution_count": null,
   "id": "517774ae",
   "metadata": {},
   "outputs": [],
   "source": [
    "# the ForwardDiff version of this optimization\n",
    "# https://docs.sciml.ai/Optimization/stable/API/optimization_function/#Optimization.AutoForwardDiff\n",
    "opt = ADAM(0.001)\n",
    "losses = []\n",
    "params_list = []\n",
    "MAX_ITERS = 500 # around 36 seconds/iter on KKG comp, so ~5hrs for 500 iters\n",
    "\n",
    "# save progress of solution, https://docs.sciml.ai/Optimization/stable/API/solve/#CommonSolve.solve-Tuple{OptimizationProblem,%20Any}\n",
    "function callback(params,loss_val)\n",
    "    \n",
    "    # record round number and \n",
    "    println(\"Round $(length(params_list)) training loss: $(loss_val)\")\n",
    "    push!(losses,loss_val)\n",
    "    push!(params_list,params)\n",
    "    length(params_list) >= MAX_ITERS\n",
    "end\n",
    "\n",
    "# First round of training with n = 10\n",
    "t1 = time_ns()\n",
    "adtype = Optimization.AutoForwardDiff()\n",
    "optf = Optimization.OptimizationFunction((x,p) -> loss_neuralsde1(x), adtype)\n",
    "optprob = Optimization.OptimizationProblem(optf, flat)\n",
    "result1 = Optimization.solve(optprob, opt, maxiters = MAX_ITERS, callback=callback);\n",
    "t2 = time_ns()\n",
    "println(\"Total time elapsed: $((t2-t1)/1.0e9) seconds\")"
   ]
  },
  {
   "cell_type": "code",
   "execution_count": 87,
   "id": "80aeefa9",
   "metadata": {},
   "outputs": [
    {
     "data": {
      "text/plain": [
       "173470.40554657154"
      ]
     },
     "execution_count": 87,
     "metadata": {},
     "output_type": "execute_result"
    }
   ],
   "source": [
    "loss_neuralsde1(flat)"
   ]
  },
  {
   "cell_type": "code",
   "execution_count": 85,
   "id": "42f5a083",
   "metadata": {},
   "outputs": [
    {
     "data": {
      "text/plain": [
       "164035.35921509413"
      ]
     },
     "execution_count": 85,
     "metadata": {},
     "output_type": "execute_result"
    }
   ],
   "source": [
    "loss_neuralsde1(result1.u)"
   ]
  },
  {
   "cell_type": "code",
   "execution_count": 86,
   "id": "ad7d95a5",
   "metadata": {},
   "outputs": [
    {
     "data": {
      "image/svg+xml": [
       "<?xml version=\"1.0\" encoding=\"utf-8\"?>\n",
       "<svg xmlns=\"http://www.w3.org/2000/svg\" xmlns:xlink=\"http://www.w3.org/1999/xlink\" width=\"600\" height=\"400\" viewBox=\"0 0 2400 1600\">\n",
       "<defs>\n",
       "  <clipPath id=\"clip340\">\n",
       "    <rect x=\"0\" y=\"0\" width=\"2400\" height=\"1600\"/>\n",
       "  </clipPath>\n",
       "</defs>\n",
       "<path clip-path=\"url(#clip340)\" d=\"M0 1600 L2400 1600 L2400 0 L0 0  Z\" fill=\"#ffffff\" fill-rule=\"evenodd\" fill-opacity=\"1\"/>\n",
       "<defs>\n",
       "  <clipPath id=\"clip341\">\n",
       "    <rect x=\"480\" y=\"0\" width=\"1681\" height=\"1600\"/>\n",
       "  </clipPath>\n",
       "</defs>\n",
       "<path clip-path=\"url(#clip340)\" d=\"M395.835 1423.18 L2352.76 1423.18 L2352.76 47.2441 L395.835 47.2441  Z\" fill=\"#ffffff\" fill-rule=\"evenodd\" fill-opacity=\"1\"/>\n",
       "<defs>\n",
       "  <clipPath id=\"clip342\">\n",
       "    <rect x=\"395\" y=\"47\" width=\"1958\" height=\"1377\"/>\n",
       "  </clipPath>\n",
       "</defs>\n",
       "<polyline clip-path=\"url(#clip342)\" style=\"stroke:#000000; stroke-linecap:round; stroke-linejoin:round; stroke-width:2; stroke-opacity:0.1; fill:none\" points=\"451.219,1423.18 451.219,47.2441 \"/>\n",
       "<polyline clip-path=\"url(#clip342)\" style=\"stroke:#000000; stroke-linecap:round; stroke-linejoin:round; stroke-width:2; stroke-opacity:0.1; fill:none\" points=\"912.757,1423.18 912.757,47.2441 \"/>\n",
       "<polyline clip-path=\"url(#clip342)\" style=\"stroke:#000000; stroke-linecap:round; stroke-linejoin:round; stroke-width:2; stroke-opacity:0.1; fill:none\" points=\"1374.3,1423.18 1374.3,47.2441 \"/>\n",
       "<polyline clip-path=\"url(#clip342)\" style=\"stroke:#000000; stroke-linecap:round; stroke-linejoin:round; stroke-width:2; stroke-opacity:0.1; fill:none\" points=\"1835.83,1423.18 1835.83,47.2441 \"/>\n",
       "<polyline clip-path=\"url(#clip342)\" style=\"stroke:#000000; stroke-linecap:round; stroke-linejoin:round; stroke-width:2; stroke-opacity:0.1; fill:none\" points=\"2297.37,1423.18 2297.37,47.2441 \"/>\n",
       "<polyline clip-path=\"url(#clip340)\" style=\"stroke:#000000; stroke-linecap:round; stroke-linejoin:round; stroke-width:4; stroke-opacity:1; fill:none\" points=\"395.835,1423.18 2352.76,1423.18 \"/>\n",
       "<polyline clip-path=\"url(#clip340)\" style=\"stroke:#000000; stroke-linecap:round; stroke-linejoin:round; stroke-width:4; stroke-opacity:1; fill:none\" points=\"451.219,1423.18 451.219,1404.28 \"/>\n",
       "<polyline clip-path=\"url(#clip340)\" style=\"stroke:#000000; stroke-linecap:round; stroke-linejoin:round; stroke-width:4; stroke-opacity:1; fill:none\" points=\"912.757,1423.18 912.757,1404.28 \"/>\n",
       "<polyline clip-path=\"url(#clip340)\" style=\"stroke:#000000; stroke-linecap:round; stroke-linejoin:round; stroke-width:4; stroke-opacity:1; fill:none\" points=\"1374.3,1423.18 1374.3,1404.28 \"/>\n",
       "<polyline clip-path=\"url(#clip340)\" style=\"stroke:#000000; stroke-linecap:round; stroke-linejoin:round; stroke-width:4; stroke-opacity:1; fill:none\" points=\"1835.83,1423.18 1835.83,1404.28 \"/>\n",
       "<polyline clip-path=\"url(#clip340)\" style=\"stroke:#000000; stroke-linecap:round; stroke-linejoin:round; stroke-width:4; stroke-opacity:1; fill:none\" points=\"2297.37,1423.18 2297.37,1404.28 \"/>\n",
       "<path clip-path=\"url(#clip340)\" d=\"M441.601 1481.64 L449.24 1481.64 L449.24 1455.28 L440.93 1456.95 L440.93 1452.69 L449.194 1451.02 L453.87 1451.02 L453.87 1481.64 L461.509 1481.64 L461.509 1485.58 L441.601 1485.58 L441.601 1481.64 Z\" fill=\"#000000\" fill-rule=\"nonzero\" fill-opacity=\"1\" /><path clip-path=\"url(#clip340)\" d=\"M907.41 1481.64 L923.729 1481.64 L923.729 1485.58 L901.785 1485.58 L901.785 1481.64 Q904.447 1478.89 909.03 1474.26 Q913.637 1469.61 914.817 1468.27 Q917.063 1465.74 917.942 1464.01 Q918.845 1462.25 918.845 1460.56 Q918.845 1457.8 916.901 1456.07 Q914.979 1454.33 911.878 1454.33 Q909.679 1454.33 907.225 1455.09 Q904.794 1455.86 902.017 1457.41 L902.017 1452.69 Q904.841 1451.55 907.294 1450.97 Q909.748 1450.39 911.785 1450.39 Q917.155 1450.39 920.35 1453.08 Q923.544 1455.77 923.544 1460.26 Q923.544 1462.39 922.734 1464.31 Q921.947 1466.2 919.841 1468.8 Q919.262 1469.47 916.16 1472.69 Q913.058 1475.88 907.41 1481.64 Z\" fill=\"#000000\" fill-rule=\"nonzero\" fill-opacity=\"1\" /><path clip-path=\"url(#clip340)\" d=\"M1378.54 1466.95 Q1381.9 1467.66 1383.77 1469.93 Q1385.67 1472.2 1385.67 1475.53 Q1385.67 1480.65 1382.15 1483.45 Q1378.64 1486.25 1372.15 1486.25 Q1369.98 1486.25 1367.66 1485.81 Q1365.37 1485.39 1362.92 1484.54 L1362.92 1480.02 Q1364.86 1481.16 1367.18 1481.74 Q1369.49 1482.32 1372.02 1482.32 Q1376.41 1482.32 1378.7 1480.58 Q1381.02 1478.84 1381.02 1475.53 Q1381.02 1472.48 1378.87 1470.77 Q1376.74 1469.03 1372.92 1469.03 L1368.89 1469.03 L1368.89 1465.19 L1373.1 1465.19 Q1376.55 1465.19 1378.38 1463.82 Q1380.21 1462.43 1380.21 1459.84 Q1380.21 1457.18 1378.31 1455.77 Q1376.44 1454.33 1372.92 1454.33 Q1371 1454.33 1368.8 1454.75 Q1366.6 1455.16 1363.96 1456.04 L1363.96 1451.88 Q1366.62 1451.14 1368.94 1450.77 Q1371.27 1450.39 1373.33 1450.39 Q1378.66 1450.39 1381.76 1452.83 Q1384.86 1455.23 1384.86 1459.35 Q1384.86 1462.22 1383.22 1464.21 Q1381.58 1466.18 1378.54 1466.95 Z\" fill=\"#000000\" fill-rule=\"nonzero\" fill-opacity=\"1\" /><path clip-path=\"url(#clip340)\" d=\"M1838.84 1455.09 L1827.04 1473.54 L1838.84 1473.54 L1838.84 1455.09 M1837.62 1451.02 L1843.5 1451.02 L1843.5 1473.54 L1848.43 1473.54 L1848.43 1477.43 L1843.5 1477.43 L1843.5 1485.58 L1838.84 1485.58 L1838.84 1477.43 L1823.24 1477.43 L1823.24 1472.92 L1837.62 1451.02 Z\" fill=\"#000000\" fill-rule=\"nonzero\" fill-opacity=\"1\" /><path clip-path=\"url(#clip340)\" d=\"M2287.65 1451.02 L2306.01 1451.02 L2306.01 1454.96 L2291.93 1454.96 L2291.93 1463.43 Q2292.95 1463.08 2293.97 1462.92 Q2294.99 1462.73 2296.01 1462.73 Q2301.79 1462.73 2305.17 1465.9 Q2308.55 1469.08 2308.55 1474.49 Q2308.55 1480.07 2305.08 1483.17 Q2301.61 1486.25 2295.29 1486.25 Q2293.11 1486.25 2290.84 1485.88 Q2288.6 1485.51 2286.19 1484.77 L2286.19 1480.07 Q2288.27 1481.2 2290.5 1481.76 Q2292.72 1482.32 2295.2 1482.32 Q2299.2 1482.32 2301.54 1480.21 Q2303.88 1478.1 2303.88 1474.49 Q2303.88 1470.88 2301.54 1468.77 Q2299.2 1466.67 2295.2 1466.67 Q2293.32 1466.67 2291.45 1467.08 Q2289.59 1467.5 2287.65 1468.38 L2287.65 1451.02 Z\" fill=\"#000000\" fill-rule=\"nonzero\" fill-opacity=\"1\" /><path clip-path=\"url(#clip340)\" d=\"M1215.28 1520.52 L1221.71 1520.52 L1221.71 1568.04 L1215.28 1568.04 L1215.28 1520.52 Z\" fill=\"#000000\" fill-rule=\"nonzero\" fill-opacity=\"1\" /><path clip-path=\"url(#clip340)\" d=\"M1240.04 1522.27 L1240.04 1532.4 L1252.11 1532.4 L1252.11 1536.95 L1240.04 1536.95 L1240.04 1556.3 Q1240.04 1560.66 1241.22 1561.9 Q1242.43 1563.14 1246.09 1563.14 L1252.11 1563.14 L1252.11 1568.04 L1246.09 1568.04 Q1239.31 1568.04 1236.73 1565.53 Q1234.15 1562.98 1234.15 1556.3 L1234.15 1536.95 L1229.86 1536.95 L1229.86 1532.4 L1234.15 1532.4 L1234.15 1522.27 L1240.04 1522.27 Z\" fill=\"#000000\" fill-rule=\"nonzero\" fill-opacity=\"1\" /><path clip-path=\"url(#clip340)\" d=\"M1290.3 1548.76 L1290.3 1551.62 L1263.37 1551.62 Q1263.75 1557.67 1267 1560.85 Q1270.28 1564 1276.1 1564 Q1279.48 1564 1282.63 1563.17 Q1285.81 1562.35 1288.93 1560.69 L1288.93 1566.23 Q1285.78 1567.57 1282.47 1568.27 Q1279.16 1568.97 1275.75 1568.97 Q1267.22 1568.97 1262.23 1564 Q1257.26 1559.04 1257.26 1550.57 Q1257.26 1541.82 1261.97 1536.69 Q1266.71 1531.54 1274.74 1531.54 Q1281.93 1531.54 1286.1 1536.18 Q1290.3 1540.8 1290.3 1548.76 M1284.44 1547.04 Q1284.38 1542.23 1281.74 1539.37 Q1279.13 1536.5 1274.8 1536.5 Q1269.9 1536.5 1266.94 1539.27 Q1264.01 1542.04 1263.56 1547.07 L1284.44 1547.04 Z\" fill=\"#000000\" fill-rule=\"nonzero\" fill-opacity=\"1\" /><path clip-path=\"url(#clip340)\" d=\"M1320.57 1537.87 Q1319.58 1537.3 1318.4 1537.04 Q1317.26 1536.76 1315.86 1536.76 Q1310.89 1536.76 1308.22 1540 Q1305.58 1543.22 1305.58 1549.27 L1305.58 1568.04 L1299.69 1568.04 L1299.69 1532.4 L1305.58 1532.4 L1305.58 1537.93 Q1307.42 1534.69 1310.38 1533.13 Q1313.34 1531.54 1317.58 1531.54 Q1318.18 1531.54 1318.91 1531.63 Q1319.65 1531.7 1320.54 1531.85 L1320.57 1537.87 Z\" fill=\"#000000\" fill-rule=\"nonzero\" fill-opacity=\"1\" /><path clip-path=\"url(#clip340)\" d=\"M1383.27 1524.18 L1383.27 1530.96 Q1380.02 1527.94 1376.33 1526.44 Q1372.67 1524.95 1368.53 1524.95 Q1360.39 1524.95 1356.06 1529.95 Q1351.73 1534.91 1351.73 1544.33 Q1351.73 1553.72 1356.06 1558.72 Q1360.39 1563.68 1368.53 1563.68 Q1372.67 1563.68 1376.33 1562.19 Q1380.02 1560.69 1383.27 1557.67 L1383.27 1564.38 Q1379.9 1566.68 1376.11 1567.82 Q1372.35 1568.97 1368.15 1568.97 Q1357.36 1568.97 1351.16 1562.38 Q1344.95 1555.76 1344.95 1544.33 Q1344.95 1532.87 1351.16 1526.28 Q1357.36 1519.66 1368.15 1519.66 Q1372.42 1519.66 1376.17 1520.81 Q1379.96 1521.92 1383.27 1524.18 Z\" fill=\"#000000\" fill-rule=\"nonzero\" fill-opacity=\"1\" /><path clip-path=\"url(#clip340)\" d=\"M1406.76 1536.5 Q1402.05 1536.5 1399.31 1540.19 Q1396.58 1543.85 1396.58 1550.25 Q1396.58 1556.65 1399.28 1560.34 Q1402.02 1564 1406.76 1564 Q1411.44 1564 1414.18 1560.31 Q1416.91 1556.62 1416.91 1550.25 Q1416.91 1543.92 1414.18 1540.23 Q1411.44 1536.5 1406.76 1536.5 M1406.76 1531.54 Q1414.4 1531.54 1418.76 1536.5 Q1423.12 1541.47 1423.12 1550.25 Q1423.12 1559 1418.76 1564 Q1414.4 1568.97 1406.76 1568.97 Q1399.09 1568.97 1394.73 1564 Q1390.4 1559 1390.4 1550.25 Q1390.4 1541.47 1394.73 1536.5 Q1399.09 1531.54 1406.76 1531.54 Z\" fill=\"#000000\" fill-rule=\"nonzero\" fill-opacity=\"1\" /><path clip-path=\"url(#clip340)\" d=\"M1432.22 1553.98 L1432.22 1532.4 L1438.08 1532.4 L1438.08 1553.75 Q1438.08 1558.81 1440.05 1561.36 Q1442.03 1563.87 1445.97 1563.87 Q1450.72 1563.87 1453.45 1560.85 Q1456.22 1557.83 1456.22 1552.61 L1456.22 1532.4 L1462.08 1532.4 L1462.08 1568.04 L1456.22 1568.04 L1456.22 1562.57 Q1454.09 1565.82 1451.26 1567.41 Q1448.46 1568.97 1444.73 1568.97 Q1438.59 1568.97 1435.41 1565.15 Q1432.22 1561.33 1432.22 1553.98 M1446.96 1531.54 L1446.96 1531.54 Z\" fill=\"#000000\" fill-rule=\"nonzero\" fill-opacity=\"1\" /><path clip-path=\"url(#clip340)\" d=\"M1503.77 1546.53 L1503.77 1568.04 L1497.92 1568.04 L1497.92 1546.72 Q1497.92 1541.66 1495.94 1539.14 Q1493.97 1536.63 1490.02 1536.63 Q1485.28 1536.63 1482.54 1539.65 Q1479.81 1542.68 1479.81 1547.9 L1479.81 1568.04 L1473.92 1568.04 L1473.92 1532.4 L1479.81 1532.4 L1479.81 1537.93 Q1481.91 1534.72 1484.74 1533.13 Q1487.6 1531.54 1491.33 1531.54 Q1497.47 1531.54 1500.62 1535.36 Q1503.77 1539.14 1503.77 1546.53 Z\" fill=\"#000000\" fill-rule=\"nonzero\" fill-opacity=\"1\" /><path clip-path=\"url(#clip340)\" d=\"M1521.25 1522.27 L1521.25 1532.4 L1533.31 1532.4 L1533.31 1536.95 L1521.25 1536.95 L1521.25 1556.3 Q1521.25 1560.66 1522.43 1561.9 Q1523.63 1563.14 1527.3 1563.14 L1533.31 1563.14 L1533.31 1568.04 L1527.3 1568.04 Q1520.52 1568.04 1517.94 1565.53 Q1515.36 1562.98 1515.36 1556.3 L1515.36 1536.95 L1511.06 1536.95 L1511.06 1532.4 L1515.36 1532.4 L1515.36 1522.27 L1521.25 1522.27 Z\" fill=\"#000000\" fill-rule=\"nonzero\" fill-opacity=\"1\" /><polyline clip-path=\"url(#clip342)\" style=\"stroke:#000000; stroke-linecap:round; stroke-linejoin:round; stroke-width:2; stroke-opacity:0.1; fill:none\" points=\"395.835,1351.27 2352.76,1351.27 \"/>\n",
       "<polyline clip-path=\"url(#clip342)\" style=\"stroke:#000000; stroke-linecap:round; stroke-linejoin:round; stroke-width:2; stroke-opacity:0.1; fill:none\" points=\"395.835,982.263 2352.76,982.263 \"/>\n",
       "<polyline clip-path=\"url(#clip342)\" style=\"stroke:#000000; stroke-linecap:round; stroke-linejoin:round; stroke-width:2; stroke-opacity:0.1; fill:none\" points=\"395.835,613.252 2352.76,613.252 \"/>\n",
       "<polyline clip-path=\"url(#clip342)\" style=\"stroke:#000000; stroke-linecap:round; stroke-linejoin:round; stroke-width:2; stroke-opacity:0.1; fill:none\" points=\"395.835,244.24 2352.76,244.24 \"/>\n",
       "<polyline clip-path=\"url(#clip340)\" style=\"stroke:#000000; stroke-linecap:round; stroke-linejoin:round; stroke-width:4; stroke-opacity:1; fill:none\" points=\"395.835,1423.18 395.835,47.2441 \"/>\n",
       "<polyline clip-path=\"url(#clip340)\" style=\"stroke:#000000; stroke-linecap:round; stroke-linejoin:round; stroke-width:4; stroke-opacity:1; fill:none\" points=\"395.835,1351.27 414.732,1351.27 \"/>\n",
       "<polyline clip-path=\"url(#clip340)\" style=\"stroke:#000000; stroke-linecap:round; stroke-linejoin:round; stroke-width:4; stroke-opacity:1; fill:none\" points=\"395.835,982.263 414.732,982.263 \"/>\n",
       "<polyline clip-path=\"url(#clip340)\" style=\"stroke:#000000; stroke-linecap:round; stroke-linejoin:round; stroke-width:4; stroke-opacity:1; fill:none\" points=\"395.835,613.252 414.732,613.252 \"/>\n",
       "<polyline clip-path=\"url(#clip340)\" style=\"stroke:#000000; stroke-linecap:round; stroke-linejoin:round; stroke-width:4; stroke-opacity:1; fill:none\" points=\"395.835,244.24 414.732,244.24 \"/>\n",
       "<path clip-path=\"url(#clip340)\" d=\"M114.931 1371.07 L122.57 1371.07 L122.57 1344.7 L114.26 1346.37 L114.26 1342.11 L122.524 1340.44 L127.2 1340.44 L127.2 1371.07 L134.839 1371.07 L134.839 1375 L114.931 1375 L114.931 1371.07 Z\" fill=\"#000000\" fill-rule=\"nonzero\" fill-opacity=\"1\" /><path clip-path=\"url(#clip340)\" d=\"M144.283 1369.12 L149.167 1369.12 L149.167 1375 L144.283 1375 L144.283 1369.12 Z\" fill=\"#000000\" fill-rule=\"nonzero\" fill-opacity=\"1\" /><path clip-path=\"url(#clip340)\" d=\"M159.399 1340.44 L177.755 1340.44 L177.755 1344.38 L163.681 1344.38 L163.681 1352.85 Q164.7 1352.5 165.718 1352.34 Q166.737 1352.15 167.755 1352.15 Q173.542 1352.15 176.922 1355.33 Q180.301 1358.5 180.301 1363.91 Q180.301 1369.49 176.829 1372.59 Q173.357 1375.67 167.038 1375.67 Q164.862 1375.67 162.593 1375.3 Q160.348 1374.93 157.94 1374.19 L157.94 1369.49 Q160.024 1370.63 162.246 1371.18 Q164.468 1371.74 166.945 1371.74 Q170.95 1371.74 173.288 1369.63 Q175.626 1367.53 175.626 1363.91 Q175.626 1360.3 173.288 1358.2 Q170.95 1356.09 166.945 1356.09 Q165.07 1356.09 163.195 1356.51 Q161.343 1356.92 159.399 1357.8 L159.399 1340.44 Z\" fill=\"#000000\" fill-rule=\"nonzero\" fill-opacity=\"1\" /><path clip-path=\"url(#clip340)\" d=\"M189.561 1340.44 L207.917 1340.44 L207.917 1344.38 L193.843 1344.38 L193.843 1352.85 Q194.862 1352.5 195.88 1352.34 Q196.899 1352.15 197.917 1352.15 Q203.704 1352.15 207.084 1355.33 Q210.463 1358.5 210.463 1363.91 Q210.463 1369.49 206.991 1372.59 Q203.519 1375.67 197.2 1375.67 Q195.024 1375.67 192.755 1375.3 Q190.51 1374.93 188.102 1374.19 L188.102 1369.49 Q190.186 1370.63 192.408 1371.18 Q194.63 1371.74 197.107 1371.74 Q201.112 1371.74 203.449 1369.63 Q205.787 1367.53 205.787 1363.91 Q205.787 1360.3 203.449 1358.2 Q201.112 1356.09 197.107 1356.09 Q195.232 1356.09 193.357 1356.51 Q191.505 1356.92 189.561 1357.8 L189.561 1340.44 Z\" fill=\"#000000\" fill-rule=\"nonzero\" fill-opacity=\"1\" /><path clip-path=\"url(#clip340)\" d=\"M229.676 1343.52 Q226.065 1343.52 224.236 1347.09 Q222.431 1350.63 222.431 1357.76 Q222.431 1364.86 224.236 1368.43 Q226.065 1371.97 229.676 1371.97 Q233.31 1371.97 235.116 1368.43 Q236.945 1364.86 236.945 1357.76 Q236.945 1350.63 235.116 1347.09 Q233.31 1343.52 229.676 1343.52 M229.676 1339.82 Q235.486 1339.82 238.542 1344.42 Q241.621 1349.01 241.621 1357.76 Q241.621 1366.48 238.542 1371.09 Q235.486 1375.67 229.676 1375.67 Q223.866 1375.67 220.787 1371.09 Q217.732 1366.48 217.732 1357.76 Q217.732 1349.01 220.787 1344.42 Q223.866 1339.82 229.676 1339.82 Z\" fill=\"#000000\" fill-rule=\"nonzero\" fill-opacity=\"1\" /><path clip-path=\"url(#clip340)\" d=\"M278.009 1349.54 L267.431 1360.16 L278.009 1370.74 L275.255 1373.54 L264.63 1362.92 L254.005 1373.54 L251.273 1370.74 L261.829 1360.16 L251.273 1349.54 L254.005 1346.74 L264.63 1357.36 L275.255 1346.74 L278.009 1349.54 Z\" fill=\"#000000\" fill-rule=\"nonzero\" fill-opacity=\"1\" /><path clip-path=\"url(#clip340)\" d=\"M290.37 1371.07 L298.009 1371.07 L298.009 1344.7 L289.699 1346.37 L289.699 1342.11 L297.963 1340.44 L302.639 1340.44 L302.639 1371.07 L310.278 1371.07 L310.278 1375 L290.37 1375 L290.37 1371.07 Z\" fill=\"#000000\" fill-rule=\"nonzero\" fill-opacity=\"1\" /><path clip-path=\"url(#clip340)\" d=\"M329.722 1343.52 Q326.111 1343.52 324.282 1347.09 Q322.477 1350.63 322.477 1357.76 Q322.477 1364.86 324.282 1368.43 Q326.111 1371.97 329.722 1371.97 Q333.356 1371.97 335.162 1368.43 Q336.99 1364.86 336.99 1357.76 Q336.99 1350.63 335.162 1347.09 Q333.356 1343.52 329.722 1343.52 M329.722 1339.82 Q335.532 1339.82 338.588 1344.42 Q341.666 1349.01 341.666 1357.76 Q341.666 1366.48 338.588 1371.09 Q335.532 1375.67 329.722 1375.67 Q323.912 1375.67 320.833 1371.09 Q317.778 1366.48 317.778 1357.76 Q317.778 1349.01 320.833 1344.42 Q323.912 1339.82 329.722 1339.82 Z\" fill=\"#000000\" fill-rule=\"nonzero\" fill-opacity=\"1\" /><path clip-path=\"url(#clip340)\" d=\"M342.851 1319.51 L357.766 1319.51 L357.766 1322.71 L346.331 1322.71 L346.331 1329.59 Q347.158 1329.31 347.986 1329.18 Q348.813 1329.03 349.641 1329.03 Q354.343 1329.03 357.089 1331.6 Q359.835 1334.18 359.835 1338.58 Q359.835 1343.12 357.013 1345.64 Q354.192 1348.14 349.058 1348.14 Q347.29 1348.14 345.447 1347.84 Q343.622 1347.54 341.666 1346.93 L341.666 1343.12 Q343.359 1344.04 345.165 1344.49 Q346.97 1344.94 348.983 1344.94 Q352.236 1344.94 354.136 1343.23 Q356.035 1341.52 356.035 1338.58 Q356.035 1335.65 354.136 1333.94 Q352.236 1332.23 348.983 1332.23 Q347.459 1332.23 345.936 1332.56 Q344.431 1332.9 342.851 1333.62 L342.851 1319.51 Z\" fill=\"#000000\" fill-rule=\"nonzero\" fill-opacity=\"1\" /><path clip-path=\"url(#clip340)\" d=\"M114.931 1002.06 L122.57 1002.06 L122.57 975.69 L114.26 977.356 L114.26 973.097 L122.524 971.431 L127.2 971.431 L127.2 1002.06 L134.839 1002.06 L134.839 1005.99 L114.931 1005.99 L114.931 1002.06 Z\" fill=\"#000000\" fill-rule=\"nonzero\" fill-opacity=\"1\" /><path clip-path=\"url(#clip340)\" d=\"M144.283 1000.11 L149.167 1000.11 L149.167 1005.99 L144.283 1005.99 L144.283 1000.11 Z\" fill=\"#000000\" fill-rule=\"nonzero\" fill-opacity=\"1\" /><path clip-path=\"url(#clip340)\" d=\"M169.931 986.847 Q166.783 986.847 164.931 989 Q163.102 991.153 163.102 994.903 Q163.102 998.629 164.931 1000.81 Q166.783 1002.96 169.931 1002.96 Q173.079 1002.96 174.908 1000.81 Q176.76 998.629 176.76 994.903 Q176.76 991.153 174.908 989 Q173.079 986.847 169.931 986.847 M179.214 972.194 L179.214 976.454 Q177.454 975.62 175.649 975.181 Q173.866 974.741 172.107 974.741 Q167.477 974.741 165.024 977.866 Q162.593 980.991 162.246 987.31 Q163.612 985.296 165.672 984.231 Q167.732 983.143 170.209 983.143 Q175.417 983.143 178.426 986.315 Q181.459 989.463 181.459 994.903 Q181.459 1000.23 178.311 1003.44 Q175.163 1006.66 169.931 1006.66 Q163.936 1006.66 160.765 1002.08 Q157.593 997.472 157.593 988.745 Q157.593 980.551 161.482 975.69 Q165.371 970.806 171.922 970.806 Q173.681 970.806 175.464 971.153 Q177.269 971.5 179.214 972.194 Z\" fill=\"#000000\" fill-rule=\"nonzero\" fill-opacity=\"1\" /><path clip-path=\"url(#clip340)\" d=\"M199.514 974.509 Q195.903 974.509 194.075 978.074 Q192.269 981.616 192.269 988.745 Q192.269 995.852 194.075 999.417 Q195.903 1002.96 199.514 1002.96 Q203.149 1002.96 204.954 999.417 Q206.783 995.852 206.783 988.745 Q206.783 981.616 204.954 978.074 Q203.149 974.509 199.514 974.509 M199.514 970.806 Q205.324 970.806 208.38 975.412 Q211.459 979.995 211.459 988.745 Q211.459 997.472 208.38 1002.08 Q205.324 1006.66 199.514 1006.66 Q193.704 1006.66 190.625 1002.08 Q187.57 997.472 187.57 988.745 Q187.57 979.995 190.625 975.412 Q193.704 970.806 199.514 970.806 Z\" fill=\"#000000\" fill-rule=\"nonzero\" fill-opacity=\"1\" /><path clip-path=\"url(#clip340)\" d=\"M229.676 974.509 Q226.065 974.509 224.236 978.074 Q222.431 981.616 222.431 988.745 Q222.431 995.852 224.236 999.417 Q226.065 1002.96 229.676 1002.96 Q233.31 1002.96 235.116 999.417 Q236.945 995.852 236.945 988.745 Q236.945 981.616 235.116 978.074 Q233.31 974.509 229.676 974.509 M229.676 970.806 Q235.486 970.806 238.542 975.412 Q241.621 979.995 241.621 988.745 Q241.621 997.472 238.542 1002.08 Q235.486 1006.66 229.676 1006.66 Q223.866 1006.66 220.787 1002.08 Q217.732 997.472 217.732 988.745 Q217.732 979.995 220.787 975.412 Q223.866 970.806 229.676 970.806 Z\" fill=\"#000000\" fill-rule=\"nonzero\" fill-opacity=\"1\" /><path clip-path=\"url(#clip340)\" d=\"M278.009 980.528 L267.431 991.153 L278.009 1001.73 L275.255 1004.53 L264.63 993.907 L254.005 1004.53 L251.273 1001.73 L261.829 991.153 L251.273 980.528 L254.005 977.727 L264.63 988.352 L275.255 977.727 L278.009 980.528 Z\" fill=\"#000000\" fill-rule=\"nonzero\" fill-opacity=\"1\" /><path clip-path=\"url(#clip340)\" d=\"M290.37 1002.06 L298.009 1002.06 L298.009 975.69 L289.699 977.356 L289.699 973.097 L297.963 971.431 L302.639 971.431 L302.639 1002.06 L310.278 1002.06 L310.278 1005.99 L290.37 1005.99 L290.37 1002.06 Z\" fill=\"#000000\" fill-rule=\"nonzero\" fill-opacity=\"1\" /><path clip-path=\"url(#clip340)\" d=\"M329.722 974.509 Q326.111 974.509 324.282 978.074 Q322.477 981.616 322.477 988.745 Q322.477 995.852 324.282 999.417 Q326.111 1002.96 329.722 1002.96 Q333.356 1002.96 335.162 999.417 Q336.99 995.852 336.99 988.745 Q336.99 981.616 335.162 978.074 Q333.356 974.509 329.722 974.509 M329.722 970.806 Q335.532 970.806 338.588 975.412 Q341.666 979.995 341.666 988.745 Q341.666 997.472 338.588 1002.08 Q335.532 1006.66 329.722 1006.66 Q323.912 1006.66 320.833 1002.08 Q317.778 997.472 317.778 988.745 Q317.778 979.995 320.833 975.412 Q323.912 970.806 329.722 970.806 Z\" fill=\"#000000\" fill-rule=\"nonzero\" fill-opacity=\"1\" /><path clip-path=\"url(#clip340)\" d=\"M342.851 950.5 L357.766 950.5 L357.766 953.697 L346.331 953.697 L346.331 960.581 Q347.158 960.299 347.986 960.167 Q348.813 960.017 349.641 960.017 Q354.343 960.017 357.089 962.594 Q359.835 965.17 359.835 969.571 Q359.835 974.104 357.013 976.624 Q354.192 979.126 349.058 979.126 Q347.29 979.126 345.447 978.825 Q343.622 978.524 341.666 977.922 L341.666 974.104 Q343.359 975.025 345.165 975.477 Q346.97 975.928 348.983 975.928 Q352.236 975.928 354.136 974.217 Q356.035 972.505 356.035 969.571 Q356.035 966.637 354.136 964.926 Q352.236 963.214 348.983 963.214 Q347.459 963.214 345.936 963.553 Q344.431 963.891 342.851 964.606 L342.851 950.5 Z\" fill=\"#000000\" fill-rule=\"nonzero\" fill-opacity=\"1\" /><path clip-path=\"url(#clip340)\" d=\"M114.931 633.044 L122.57 633.044 L122.57 606.678 L114.26 608.345 L114.26 604.086 L122.524 602.419 L127.2 602.419 L127.2 633.044 L134.839 633.044 L134.839 636.979 L114.931 636.979 L114.931 633.044 Z\" fill=\"#000000\" fill-rule=\"nonzero\" fill-opacity=\"1\" /><path clip-path=\"url(#clip340)\" d=\"M144.283 631.1 L149.167 631.1 L149.167 636.979 L144.283 636.979 L144.283 631.1 Z\" fill=\"#000000\" fill-rule=\"nonzero\" fill-opacity=\"1\" /><path clip-path=\"url(#clip340)\" d=\"M169.931 617.836 Q166.783 617.836 164.931 619.989 Q163.102 622.141 163.102 625.891 Q163.102 629.618 164.931 631.794 Q166.783 633.947 169.931 633.947 Q173.079 633.947 174.908 631.794 Q176.76 629.618 176.76 625.891 Q176.76 622.141 174.908 619.989 Q173.079 617.836 169.931 617.836 M179.214 603.183 L179.214 607.442 Q177.454 606.609 175.649 606.169 Q173.866 605.729 172.107 605.729 Q167.477 605.729 165.024 608.854 Q162.593 611.979 162.246 618.299 Q163.612 616.285 165.672 615.22 Q167.732 614.132 170.209 614.132 Q175.417 614.132 178.426 617.303 Q181.459 620.451 181.459 625.891 Q181.459 631.215 178.311 634.433 Q175.163 637.65 169.931 637.65 Q163.936 637.65 160.765 633.067 Q157.593 628.461 157.593 619.734 Q157.593 611.539 161.482 606.678 Q165.371 601.794 171.922 601.794 Q173.681 601.794 175.464 602.141 Q177.269 602.489 179.214 603.183 Z\" fill=\"#000000\" fill-rule=\"nonzero\" fill-opacity=\"1\" /><path clip-path=\"url(#clip340)\" d=\"M189.561 602.419 L207.917 602.419 L207.917 606.354 L193.843 606.354 L193.843 614.826 Q194.862 614.479 195.88 614.317 Q196.899 614.132 197.917 614.132 Q203.704 614.132 207.084 617.303 Q210.463 620.475 210.463 625.891 Q210.463 631.47 206.991 634.572 Q203.519 637.65 197.2 637.65 Q195.024 637.65 192.755 637.28 Q190.51 636.91 188.102 636.169 L188.102 631.47 Q190.186 632.604 192.408 633.16 Q194.63 633.715 197.107 633.715 Q201.112 633.715 203.449 631.609 Q205.787 629.502 205.787 625.891 Q205.787 622.28 203.449 620.174 Q201.112 618.067 197.107 618.067 Q195.232 618.067 193.357 618.484 Q191.505 618.901 189.561 619.78 L189.561 602.419 Z\" fill=\"#000000\" fill-rule=\"nonzero\" fill-opacity=\"1\" /><path clip-path=\"url(#clip340)\" d=\"M229.676 605.498 Q226.065 605.498 224.236 609.063 Q222.431 612.604 222.431 619.734 Q222.431 626.84 224.236 630.405 Q226.065 633.947 229.676 633.947 Q233.31 633.947 235.116 630.405 Q236.945 626.84 236.945 619.734 Q236.945 612.604 235.116 609.063 Q233.31 605.498 229.676 605.498 M229.676 601.794 Q235.486 601.794 238.542 606.401 Q241.621 610.984 241.621 619.734 Q241.621 628.461 238.542 633.067 Q235.486 637.65 229.676 637.65 Q223.866 637.65 220.787 633.067 Q217.732 628.461 217.732 619.734 Q217.732 610.984 220.787 606.401 Q223.866 601.794 229.676 601.794 Z\" fill=\"#000000\" fill-rule=\"nonzero\" fill-opacity=\"1\" /><path clip-path=\"url(#clip340)\" d=\"M278.009 611.516 L267.431 622.141 L278.009 632.72 L275.255 635.521 L264.63 624.896 L254.005 635.521 L251.273 632.72 L261.829 622.141 L251.273 611.516 L254.005 608.715 L264.63 619.34 L275.255 608.715 L278.009 611.516 Z\" fill=\"#000000\" fill-rule=\"nonzero\" fill-opacity=\"1\" /><path clip-path=\"url(#clip340)\" d=\"M290.37 633.044 L298.009 633.044 L298.009 606.678 L289.699 608.345 L289.699 604.086 L297.963 602.419 L302.639 602.419 L302.639 633.044 L310.278 633.044 L310.278 636.979 L290.37 636.979 L290.37 633.044 Z\" fill=\"#000000\" fill-rule=\"nonzero\" fill-opacity=\"1\" /><path clip-path=\"url(#clip340)\" d=\"M329.722 605.498 Q326.111 605.498 324.282 609.063 Q322.477 612.604 322.477 619.734 Q322.477 626.84 324.282 630.405 Q326.111 633.947 329.722 633.947 Q333.356 633.947 335.162 630.405 Q336.99 626.84 336.99 619.734 Q336.99 612.604 335.162 609.063 Q333.356 605.498 329.722 605.498 M329.722 601.794 Q335.532 601.794 338.588 606.401 Q341.666 610.984 341.666 619.734 Q341.666 628.461 338.588 633.067 Q335.532 637.65 329.722 637.65 Q323.912 637.65 320.833 633.067 Q317.778 628.461 317.778 619.734 Q317.778 610.984 320.833 606.401 Q323.912 601.794 329.722 601.794 Z\" fill=\"#000000\" fill-rule=\"nonzero\" fill-opacity=\"1\" /><path clip-path=\"url(#clip340)\" d=\"M342.851 581.489 L357.766 581.489 L357.766 584.686 L346.331 584.686 L346.331 591.57 Q347.158 591.288 347.986 591.156 Q348.813 591.005 349.641 591.005 Q354.343 591.005 357.089 593.582 Q359.835 596.159 359.835 600.56 Q359.835 605.093 357.013 607.613 Q354.192 610.114 349.058 610.114 Q347.29 610.114 345.447 609.813 Q343.622 609.512 341.666 608.91 L341.666 605.093 Q343.359 606.014 345.165 606.465 Q346.97 606.917 348.983 606.917 Q352.236 606.917 354.136 605.205 Q356.035 603.494 356.035 600.56 Q356.035 597.626 354.136 595.914 Q352.236 594.203 348.983 594.203 Q347.459 594.203 345.936 594.541 Q344.431 594.88 342.851 595.595 L342.851 581.489 Z\" fill=\"#000000\" fill-rule=\"nonzero\" fill-opacity=\"1\" /><path clip-path=\"url(#clip340)\" d=\"M114.931 264.033 L122.57 264.033 L122.57 237.667 L114.26 239.334 L114.26 235.074 L122.524 233.408 L127.2 233.408 L127.2 264.033 L134.839 264.033 L134.839 267.968 L114.931 267.968 L114.931 264.033 Z\" fill=\"#000000\" fill-rule=\"nonzero\" fill-opacity=\"1\" /><path clip-path=\"url(#clip340)\" d=\"M144.283 262.088 L149.167 262.088 L149.167 267.968 L144.283 267.968 L144.283 262.088 Z\" fill=\"#000000\" fill-rule=\"nonzero\" fill-opacity=\"1\" /><path clip-path=\"url(#clip340)\" d=\"M158.172 233.408 L180.394 233.408 L180.394 235.398 L167.848 267.968 L162.964 267.968 L174.769 237.343 L158.172 237.343 L158.172 233.408 Z\" fill=\"#000000\" fill-rule=\"nonzero\" fill-opacity=\"1\" /><path clip-path=\"url(#clip340)\" d=\"M199.514 236.486 Q195.903 236.486 194.075 240.051 Q192.269 243.593 192.269 250.722 Q192.269 257.829 194.075 261.394 Q195.903 264.935 199.514 264.935 Q203.149 264.935 204.954 261.394 Q206.783 257.829 206.783 250.722 Q206.783 243.593 204.954 240.051 Q203.149 236.486 199.514 236.486 M199.514 232.783 Q205.324 232.783 208.38 237.389 Q211.459 241.973 211.459 250.722 Q211.459 259.449 208.38 264.056 Q205.324 268.639 199.514 268.639 Q193.704 268.639 190.625 264.056 Q187.57 259.449 187.57 250.722 Q187.57 241.973 190.625 237.389 Q193.704 232.783 199.514 232.783 Z\" fill=\"#000000\" fill-rule=\"nonzero\" fill-opacity=\"1\" /><path clip-path=\"url(#clip340)\" d=\"M229.676 236.486 Q226.065 236.486 224.236 240.051 Q222.431 243.593 222.431 250.722 Q222.431 257.829 224.236 261.394 Q226.065 264.935 229.676 264.935 Q233.31 264.935 235.116 261.394 Q236.945 257.829 236.945 250.722 Q236.945 243.593 235.116 240.051 Q233.31 236.486 229.676 236.486 M229.676 232.783 Q235.486 232.783 238.542 237.389 Q241.621 241.973 241.621 250.722 Q241.621 259.449 238.542 264.056 Q235.486 268.639 229.676 268.639 Q223.866 268.639 220.787 264.056 Q217.732 259.449 217.732 250.722 Q217.732 241.973 220.787 237.389 Q223.866 232.783 229.676 232.783 Z\" fill=\"#000000\" fill-rule=\"nonzero\" fill-opacity=\"1\" /><path clip-path=\"url(#clip340)\" d=\"M278.009 242.505 L267.431 253.13 L278.009 263.709 L275.255 266.509 L264.63 255.884 L254.005 266.509 L251.273 263.709 L261.829 253.13 L251.273 242.505 L254.005 239.704 L264.63 250.329 L275.255 239.704 L278.009 242.505 Z\" fill=\"#000000\" fill-rule=\"nonzero\" fill-opacity=\"1\" /><path clip-path=\"url(#clip340)\" d=\"M290.37 264.033 L298.009 264.033 L298.009 237.667 L289.699 239.334 L289.699 235.074 L297.963 233.408 L302.639 233.408 L302.639 264.033 L310.278 264.033 L310.278 267.968 L290.37 267.968 L290.37 264.033 Z\" fill=\"#000000\" fill-rule=\"nonzero\" fill-opacity=\"1\" /><path clip-path=\"url(#clip340)\" d=\"M329.722 236.486 Q326.111 236.486 324.282 240.051 Q322.477 243.593 322.477 250.722 Q322.477 257.829 324.282 261.394 Q326.111 264.935 329.722 264.935 Q333.356 264.935 335.162 261.394 Q336.99 257.829 336.99 250.722 Q336.99 243.593 335.162 240.051 Q333.356 236.486 329.722 236.486 M329.722 232.783 Q335.532 232.783 338.588 237.389 Q341.666 241.973 341.666 250.722 Q341.666 259.449 338.588 264.056 Q335.532 268.639 329.722 268.639 Q323.912 268.639 320.833 264.056 Q317.778 259.449 317.778 250.722 Q317.778 241.973 320.833 237.389 Q323.912 232.783 329.722 232.783 Z\" fill=\"#000000\" fill-rule=\"nonzero\" fill-opacity=\"1\" /><path clip-path=\"url(#clip340)\" d=\"M342.851 212.477 L357.766 212.477 L357.766 215.675 L346.331 215.675 L346.331 222.558 Q347.158 222.276 347.986 222.145 Q348.813 221.994 349.641 221.994 Q354.343 221.994 357.089 224.571 Q359.835 227.147 359.835 231.548 Q359.835 236.081 357.013 238.601 Q354.192 241.103 349.058 241.103 Q347.29 241.103 345.447 240.802 Q343.622 240.501 341.666 239.899 L341.666 236.081 Q343.359 237.003 345.165 237.454 Q346.97 237.905 348.983 237.905 Q352.236 237.905 354.136 236.194 Q356.035 234.482 356.035 231.548 Q356.035 228.614 354.136 226.903 Q352.236 225.191 348.983 225.191 Q347.459 225.191 345.936 225.53 Q344.431 225.868 342.851 226.583 L342.851 212.477 Z\" fill=\"#000000\" fill-rule=\"nonzero\" fill-opacity=\"1\" /><path clip-path=\"url(#clip340)\" d=\"M16.4842 801.909 L16.4842 795.479 L58.5933 795.479 L58.5933 772.34 L64.0042 772.34 L64.0042 801.909 L16.4842 801.909 Z\" fill=\"#000000\" fill-rule=\"nonzero\" fill-opacity=\"1\" /><path clip-path=\"url(#clip340)\" d=\"M32.4621 753.179 Q32.4621 757.89 36.1542 760.627 Q39.8145 763.364 46.212 763.364 Q52.6095 763.364 56.3017 760.659 Q59.9619 757.922 59.9619 753.179 Q59.9619 748.5 56.2698 745.763 Q52.5777 743.026 46.212 743.026 Q39.8781 743.026 36.186 745.763 Q32.4621 748.5 32.4621 753.179 M27.4968 753.179 Q27.4968 745.54 32.4621 741.18 Q37.4273 736.819 46.212 736.819 Q54.9649 736.819 59.9619 741.18 Q64.9272 745.54 64.9272 753.179 Q64.9272 760.85 59.9619 765.21 Q54.9649 769.539 46.212 769.539 Q37.4273 769.539 32.4621 765.21 Q27.4968 760.85 27.4968 753.179 Z\" fill=\"#000000\" fill-rule=\"nonzero\" fill-opacity=\"1\" /><path clip-path=\"url(#clip340)\" d=\"M29.4065 704.386 L34.9447 704.386 Q33.6716 706.869 33.035 709.542 Q32.3984 712.216 32.3984 715.08 Q32.3984 719.441 33.7352 721.637 Q35.072 723.801 37.7456 723.801 Q39.7826 723.801 40.9603 722.242 Q42.1061 720.682 43.1565 715.972 L43.6021 713.966 Q44.9389 707.728 47.3897 705.118 Q49.8086 702.476 54.1691 702.476 Q59.1344 702.476 62.0308 706.423 Q64.9272 710.338 64.9272 717.213 Q64.9272 720.078 64.3543 723.197 Q63.8132 726.284 62.6992 729.722 L56.6518 729.722 Q58.3387 726.475 59.198 723.324 Q60.0256 720.173 60.0256 717.086 Q60.0256 712.948 58.6251 710.72 Q57.1929 708.492 54.6147 708.492 Q52.2276 708.492 50.9545 710.115 Q49.6813 711.707 48.5037 717.149 L48.0262 719.186 Q46.8804 724.629 44.5251 727.048 Q42.138 729.467 38.0002 729.467 Q32.9713 729.467 30.2341 725.902 Q27.4968 722.337 27.4968 715.781 Q27.4968 712.534 27.9743 709.67 Q28.4517 706.805 29.4065 704.386 Z\" fill=\"#000000\" fill-rule=\"nonzero\" fill-opacity=\"1\" /><path clip-path=\"url(#clip340)\" d=\"M29.4065 670.425 L34.9447 670.425 Q33.6716 672.908 33.035 675.581 Q32.3984 678.255 32.3984 681.119 Q32.3984 685.48 33.7352 687.676 Q35.072 689.84 37.7456 689.84 Q39.7826 689.84 40.9603 688.281 Q42.1061 686.721 43.1565 682.011 L43.6021 680.005 Q44.9389 673.767 47.3897 671.157 Q49.8086 668.515 54.1691 668.515 Q59.1344 668.515 62.0308 672.462 Q64.9272 676.377 64.9272 683.252 Q64.9272 686.116 64.3543 689.236 Q63.8132 692.323 62.6992 695.761 L56.6518 695.761 Q58.3387 692.514 59.198 689.363 Q60.0256 686.212 60.0256 683.125 Q60.0256 678.987 58.6251 676.759 Q57.1929 674.531 54.6147 674.531 Q52.2276 674.531 50.9545 676.154 Q49.6813 677.746 48.5037 683.188 L48.0262 685.225 Q46.8804 690.668 44.5251 693.087 Q42.138 695.506 38.0002 695.506 Q32.9713 695.506 30.2341 691.941 Q27.4968 688.376 27.4968 681.82 Q27.4968 678.573 27.9743 675.709 Q28.4517 672.844 29.4065 670.425 Z\" fill=\"#000000\" fill-rule=\"nonzero\" fill-opacity=\"1\" /><polyline clip-path=\"url(#clip342)\" style=\"stroke:#009af9; stroke-linecap:round; stroke-linejoin:round; stroke-width:4; stroke-opacity:1; fill:none\" points=\"451.219,203.685 912.757,764.364 1374.3,86.1857 1835.83,1092.48 2297.37,1384.24 \"/>\n",
       "<circle clip-path=\"url(#clip342)\" cx=\"451.219\" cy=\"203.685\" r=\"14.4\" fill=\"#009af9\" fill-rule=\"evenodd\" fill-opacity=\"1\" stroke=\"#000000\" stroke-opacity=\"1\" stroke-width=\"3.2\"/>\n",
       "<circle clip-path=\"url(#clip342)\" cx=\"912.757\" cy=\"764.364\" r=\"14.4\" fill=\"#009af9\" fill-rule=\"evenodd\" fill-opacity=\"1\" stroke=\"#000000\" stroke-opacity=\"1\" stroke-width=\"3.2\"/>\n",
       "<circle clip-path=\"url(#clip342)\" cx=\"1374.3\" cy=\"86.1857\" r=\"14.4\" fill=\"#009af9\" fill-rule=\"evenodd\" fill-opacity=\"1\" stroke=\"#000000\" stroke-opacity=\"1\" stroke-width=\"3.2\"/>\n",
       "<circle clip-path=\"url(#clip342)\" cx=\"1835.83\" cy=\"1092.48\" r=\"14.4\" fill=\"#009af9\" fill-rule=\"evenodd\" fill-opacity=\"1\" stroke=\"#000000\" stroke-opacity=\"1\" stroke-width=\"3.2\"/>\n",
       "<circle clip-path=\"url(#clip342)\" cx=\"2297.37\" cy=\"1384.24\" r=\"14.4\" fill=\"#009af9\" fill-rule=\"evenodd\" fill-opacity=\"1\" stroke=\"#000000\" stroke-opacity=\"1\" stroke-width=\"3.2\"/>\n",
       "<path clip-path=\"url(#clip340)\" d=\"M2039.4 196.789 L2287.53 196.789 L2287.53 93.1086 L2039.4 93.1086  Z\" fill=\"#ffffff\" fill-rule=\"evenodd\" fill-opacity=\"1\"/>\n",
       "<polyline clip-path=\"url(#clip340)\" style=\"stroke:#000000; stroke-linecap:round; stroke-linejoin:round; stroke-width:4; stroke-opacity:1; fill:none\" points=\"2039.4,196.789 2287.53,196.789 2287.53,93.1086 2039.4,93.1086 2039.4,196.789 \"/>\n",
       "<polyline clip-path=\"url(#clip340)\" style=\"stroke:#009af9; stroke-linecap:round; stroke-linejoin:round; stroke-width:4; stroke-opacity:1; fill:none\" points=\"2061.15,144.949 2191.61,144.949 \"/>\n",
       "<circle clip-path=\"url(#clip340)\" cx=\"2126.38\" cy=\"144.949\" r=\"18.1196\" fill=\"#009af9\" fill-rule=\"evenodd\" fill-opacity=\"1\" stroke=\"#000000\" stroke-opacity=\"1\" stroke-width=\"4.55111\"/>\n",
       "<path clip-path=\"url(#clip340)\" d=\"M2227.19 164.636 Q2225.39 169.266 2223.68 170.678 Q2221.96 172.09 2219.09 172.09 L2215.69 172.09 L2215.69 168.525 L2218.19 168.525 Q2219.95 168.525 2220.92 167.692 Q2221.89 166.858 2223.07 163.756 L2223.84 161.812 L2213.35 136.303 L2217.87 136.303 L2225.97 156.581 L2234.07 136.303 L2238.58 136.303 L2227.19 164.636 Z\" fill=\"#000000\" fill-rule=\"nonzero\" fill-opacity=\"1\" /><path clip-path=\"url(#clip340)\" d=\"M2245.87 158.293 L2253.51 158.293 L2253.51 131.928 L2245.2 133.595 L2245.2 129.335 L2253.47 127.669 L2258.14 127.669 L2258.14 158.293 L2265.78 158.293 L2265.78 162.229 L2245.87 162.229 L2245.87 158.293 Z\" fill=\"#000000\" fill-rule=\"nonzero\" fill-opacity=\"1\" /></svg>\n"
      ]
     },
     "execution_count": 86,
     "metadata": {},
     "output_type": "execute_result"
    }
   ],
   "source": [
    "plot(1:MAX_ITERS,losses,ylabel = \"Loss\", xlabel = \"Iter Count\", markershape=:circle)"
   ]
  },
  {
   "cell_type": "markdown",
   "id": "3147a333",
   "metadata": {},
   "source": [
    "# Simulate on partial observability case (measuring only first state)\n",
    "\n",
    "WIP"
   ]
  },
  {
   "cell_type": "code",
   "execution_count": null,
   "id": "88ab6296",
   "metadata": {},
   "outputs": [],
   "source": []
  }
 ],
 "metadata": {
  "kernelspec": {
   "display_name": "Julia 1.7.3",
   "language": "julia",
   "name": "julia-1.7"
  },
  "language_info": {
   "file_extension": ".jl",
   "mimetype": "application/julia",
   "name": "julia",
   "version": "1.7.3"
  }
 },
 "nbformat": 4,
 "nbformat_minor": 5
}
