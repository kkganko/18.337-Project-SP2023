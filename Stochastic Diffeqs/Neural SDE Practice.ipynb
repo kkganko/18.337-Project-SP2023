{
 "cells": [
  {
   "cell_type": "markdown",
   "id": "0d1092ad",
   "metadata": {},
   "source": [
    "# Neural SDE Practice\n",
    "\n",
    "Defining Packages to Use: One major task will be to figure out which framework is best to use right now for our purposes. Tutorials can be outdated in this respect as warning messages show. The goal of this notebook is straightforward: to make NN approximators for the the drift (deterministic part) and diffusion (stochastic part) of a stochastic differential equation."
   ]
  },
  {
   "cell_type": "code",
   "execution_count": null,
   "id": "db1c720d",
   "metadata": {},
   "outputs": [],
   "source": [
    "# If Project.toml and Manifest.toml exist, remove them to start a completely fresh installation of packages and dependencies.\n",
    "# This is equivalent to uninstalling all packages in the current environment. \n",
    "# Why? B/c if you don't start from a clean plate, and you have previous package dependency installation that were unspecified \n",
    "# below in their version number, then dependencies may conflict.\n",
    "\n",
    "# get contents of working directory\n",
    "dir_contents = readdir(\".\")\n",
    "if \"Manifest.toml\" in dir_contents\n",
    "    rm(\"Manifest.toml\")\n",
    "    println(\"Removed Manifest.toml from $(pwd()).\")\n",
    "end\n",
    "if \"Project.toml\" in dir_contents\n",
    "    rm(\"Project.toml\")\n",
    "    println(\"Removed Project.toml from $(pwd()).\")\n",
    "end\n",
    "\n",
    "# Check file contents in project directory, copy over Project.toml and Manifest.toml if they exist.\n",
    "# If they don't exist, create them with generate-project-toml.ipynb.\n",
    "parentdir_contents = readdir(\"..\")\n",
    "parentdir_info = stat(\"..\")\n",
    "# copy contents from parent to working directory \n",
    "if \"Manifest.toml\" in parentdir_contents\n",
    "    cp(\"../Manifest.toml\", joinpath(pwd(),\"Manifest.toml\"))\n",
    "    println(\"Manifest.toml copy from project dir to $(pwd()) successful.\")\n",
    "else\n",
    "    println(\"No Manifest.toml in parent directory.\")\n",
    "end\n",
    "if \"Project.toml\" in parentdir_contents\n",
    "    cp(\"../Project.toml\", joinpath(pwd(),\"Project.toml\"))\n",
    "    println(\"Project.toml copy from project dir to $(pwd()) successful.\")\n",
    "else\n",
    "    println(\"No Project.toml in parent directory.\")\n",
    "end"
   ]
  },
  {
   "cell_type": "code",
   "execution_count": null,
   "id": "c5c58720",
   "metadata": {},
   "outputs": [],
   "source": [
    "import Pkg; Pkg.activate(\".\"); Pkg.instantiate(verbose=true)"
   ]
  },
  {
   "cell_type": "code",
   "execution_count": 3,
   "id": "68078265",
   "metadata": {
    "scrolled": true
   },
   "outputs": [
    {
     "name": "stderr",
     "output_type": "stream",
     "text": [
      "\u001b[33m\u001b[1m┌ \u001b[22m\u001b[39m\u001b[33m\u001b[1mWarning: \u001b[22m\u001b[39mError requiring `Zygote` from `DiffEqBase`\n",
      "\u001b[33m\u001b[1m│ \u001b[22m\u001b[39m  exception =\n",
      "\u001b[33m\u001b[1m│ \u001b[22m\u001b[39m   LoadError: UndefVarError: ZygoteRules not defined\n",
      "\u001b[33m\u001b[1m│ \u001b[22m\u001b[39m   Stacktrace:\n",
      "\u001b[33m\u001b[1m│ \u001b[22m\u001b[39m     [1] top-level scope\n",
      "\u001b[33m\u001b[1m│ \u001b[22m\u001b[39m   \u001b[90m    @ \u001b[39m\u001b[90m\u001b[4m:0\u001b[24m\u001b[39m\n",
      "\u001b[33m\u001b[1m│ \u001b[22m\u001b[39m     [2] \u001b[0m\u001b[1minclude\u001b[22m\u001b[0m\u001b[1m(\u001b[22m\u001b[90mmod\u001b[39m::\u001b[0mModule, \u001b[90m_path\u001b[39m::\u001b[0mString\u001b[0m\u001b[1m)\u001b[22m\n",
      "\u001b[33m\u001b[1m│ \u001b[22m\u001b[39m   \u001b[90m    @ \u001b[39m\u001b[90mBase\u001b[39m \u001b[90m.\\\u001b[39m\u001b[90m\u001b[4mBase.jl:419\u001b[24m\u001b[39m\n",
      "\u001b[33m\u001b[1m│ \u001b[22m\u001b[39m     [3] \u001b[0m\u001b[1minclude\u001b[22m\u001b[0m\u001b[1m(\u001b[22m\u001b[90mx\u001b[39m::\u001b[0mString\u001b[0m\u001b[1m)\u001b[22m\n",
      "\u001b[33m\u001b[1m│ \u001b[22m\u001b[39m   \u001b[90m    @ \u001b[39m\u001b[35mDiffEqBase\u001b[39m \u001b[90mC:\\Users\\ChemeGrad2021\\.julia\\packages\\DiffEqBase\\VDPJ8\\src\\\u001b[39m\u001b[90m\u001b[4mDiffEqBase.jl:1\u001b[24m\u001b[39m\n",
      "\u001b[33m\u001b[1m│ \u001b[22m\u001b[39m     [4] \u001b[0m\u001b[1mmacro expansion\u001b[22m\n",
      "\u001b[33m\u001b[1m│ \u001b[22m\u001b[39m   \u001b[90m    @ \u001b[39m\u001b[90mC:\\Users\\ChemeGrad2021\\.julia\\packages\\Requires\\Z8rfN\\src\\\u001b[39m\u001b[90m\u001b[4mRequires.jl:40\u001b[24m\u001b[39m\u001b[90m [inlined]\u001b[39m\n",
      "\u001b[33m\u001b[1m│ \u001b[22m\u001b[39m     [5] top-level scope\n",
      "\u001b[33m\u001b[1m│ \u001b[22m\u001b[39m   \u001b[90m    @ \u001b[39m\u001b[90mC:\\Users\\ChemeGrad2021\\.julia\\packages\\DiffEqBase\\VDPJ8\\src\\\u001b[39m\u001b[90m\u001b[4minit.jl:31\u001b[24m\u001b[39m\n",
      "\u001b[33m\u001b[1m│ \u001b[22m\u001b[39m     [6] \u001b[0m\u001b[1meval\u001b[22m\n",
      "\u001b[33m\u001b[1m│ \u001b[22m\u001b[39m   \u001b[90m    @ \u001b[39m\u001b[90m.\\\u001b[39m\u001b[90m\u001b[4mboot.jl:368\u001b[24m\u001b[39m\u001b[90m [inlined]\u001b[39m\n",
      "\u001b[33m\u001b[1m│ \u001b[22m\u001b[39m     [7] \u001b[0m\u001b[1meval\u001b[22m\n",
      "\u001b[33m\u001b[1m│ \u001b[22m\u001b[39m   \u001b[90m    @ \u001b[39m\u001b[90mC:\\Users\\ChemeGrad2021\\.julia\\packages\\DiffEqBase\\VDPJ8\\src\\\u001b[39m\u001b[90m\u001b[4mDiffEqBase.jl:1\u001b[24m\u001b[39m\u001b[90m [inlined]\u001b[39m\n",
      "\u001b[33m\u001b[1m│ \u001b[22m\u001b[39m     [8] \u001b[0m\u001b[1m(::DiffEqBase.var\"#76#100\")\u001b[22m\u001b[0m\u001b[1m(\u001b[22m\u001b[0m\u001b[1m)\u001b[22m\n",
      "\u001b[33m\u001b[1m│ \u001b[22m\u001b[39m   \u001b[90m    @ \u001b[39m\u001b[35mDiffEqBase\u001b[39m \u001b[90mC:\\Users\\ChemeGrad2021\\.julia\\packages\\Requires\\Z8rfN\\src\\\u001b[39m\u001b[90m\u001b[4mrequire.jl:101\u001b[24m\u001b[39m\n",
      "\u001b[33m\u001b[1m│ \u001b[22m\u001b[39m     [9] \u001b[0m\u001b[1mmacro expansion\u001b[22m\n",
      "\u001b[33m\u001b[1m│ \u001b[22m\u001b[39m   \u001b[90m    @ \u001b[39m\u001b[90m\u001b[4mtiming.jl:382\u001b[24m\u001b[39m\u001b[90m [inlined]\u001b[39m\n",
      "\u001b[33m\u001b[1m│ \u001b[22m\u001b[39m    [10] \u001b[0m\u001b[1merr\u001b[22m\u001b[0m\u001b[1m(\u001b[22m\u001b[90mf\u001b[39m::\u001b[0mAny, \u001b[90mlistener\u001b[39m::\u001b[0mModule, \u001b[90mmodname\u001b[39m::\u001b[0mString, \u001b[90mfile\u001b[39m::\u001b[0mString, \u001b[90mline\u001b[39m::\u001b[0mAny\u001b[0m\u001b[1m)\u001b[22m\n",
      "\u001b[33m\u001b[1m│ \u001b[22m\u001b[39m   \u001b[90m    @ \u001b[39m\u001b[36mRequires\u001b[39m \u001b[90mC:\\Users\\ChemeGrad2021\\.julia\\packages\\Requires\\Z8rfN\\src\\\u001b[39m\u001b[90m\u001b[4mrequire.jl:47\u001b[24m\u001b[39m\n",
      "\u001b[33m\u001b[1m│ \u001b[22m\u001b[39m    [11] \u001b[0m\u001b[1m(::DiffEqBase.var\"#75#99\")\u001b[22m\u001b[0m\u001b[1m(\u001b[22m\u001b[0m\u001b[1m)\u001b[22m\n",
      "\u001b[33m\u001b[1m│ \u001b[22m\u001b[39m   \u001b[90m    @ \u001b[39m\u001b[35mDiffEqBase\u001b[39m \u001b[90mC:\\Users\\ChemeGrad2021\\.julia\\packages\\Requires\\Z8rfN\\src\\\u001b[39m\u001b[90m\u001b[4mrequire.jl:100\u001b[24m\u001b[39m\n",
      "\u001b[33m\u001b[1m│ \u001b[22m\u001b[39m    [12] \u001b[0m\u001b[1mwithpath\u001b[22m\u001b[0m\u001b[1m(\u001b[22m\u001b[90mf\u001b[39m::\u001b[0mAny, \u001b[90mpath\u001b[39m::\u001b[0mString\u001b[0m\u001b[1m)\u001b[22m\n",
      "\u001b[33m\u001b[1m│ \u001b[22m\u001b[39m   \u001b[90m    @ \u001b[39m\u001b[36mRequires\u001b[39m \u001b[90mC:\\Users\\ChemeGrad2021\\.julia\\packages\\Requires\\Z8rfN\\src\\\u001b[39m\u001b[90m\u001b[4mrequire.jl:37\u001b[24m\u001b[39m\n",
      "\u001b[33m\u001b[1m│ \u001b[22m\u001b[39m    [13] \u001b[0m\u001b[1m(::DiffEqBase.var\"#74#98\")\u001b[22m\u001b[0m\u001b[1m(\u001b[22m\u001b[0m\u001b[1m)\u001b[22m\n",
      "\u001b[33m\u001b[1m│ \u001b[22m\u001b[39m   \u001b[90m    @ \u001b[39m\u001b[35mDiffEqBase\u001b[39m \u001b[90mC:\\Users\\ChemeGrad2021\\.julia\\packages\\Requires\\Z8rfN\\src\\\u001b[39m\u001b[90m\u001b[4mrequire.jl:99\u001b[24m\u001b[39m\n",
      "\u001b[33m\u001b[1m│ \u001b[22m\u001b[39m    [14] \u001b[0m\u001b[1mlistenpkg\u001b[22m\u001b[0m\u001b[1m(\u001b[22m\u001b[90mf\u001b[39m::\u001b[0mAny, \u001b[90mpkg\u001b[39m::\u001b[0mBase.PkgId\u001b[0m\u001b[1m)\u001b[22m\n",
      "\u001b[33m\u001b[1m│ \u001b[22m\u001b[39m   \u001b[90m    @ \u001b[39m\u001b[36mRequires\u001b[39m \u001b[90mC:\\Users\\ChemeGrad2021\\.julia\\packages\\Requires\\Z8rfN\\src\\\u001b[39m\u001b[90m\u001b[4mrequire.jl:20\u001b[24m\u001b[39m\n",
      "\u001b[33m\u001b[1m│ \u001b[22m\u001b[39m    [15] \u001b[0m\u001b[1mmacro expansion\u001b[22m\n",
      "\u001b[33m\u001b[1m│ \u001b[22m\u001b[39m   \u001b[90m    @ \u001b[39m\u001b[90mC:\\Users\\ChemeGrad2021\\.julia\\packages\\Requires\\Z8rfN\\src\\\u001b[39m\u001b[90m\u001b[4mrequire.jl:98\u001b[24m\u001b[39m\u001b[90m [inlined]\u001b[39m\n",
      "\u001b[33m\u001b[1m│ \u001b[22m\u001b[39m    [16] \u001b[0m\u001b[1m__init__\u001b[22m\u001b[0m\u001b[1m(\u001b[22m\u001b[0m\u001b[1m)\u001b[22m\n",
      "\u001b[33m\u001b[1m│ \u001b[22m\u001b[39m   \u001b[90m    @ \u001b[39m\u001b[35mDiffEqBase\u001b[39m \u001b[90mC:\\Users\\ChemeGrad2021\\.julia\\packages\\DiffEqBase\\VDPJ8\\src\\\u001b[39m\u001b[90m\u001b[4minit.jl:31\u001b[24m\u001b[39m\n",
      "\u001b[33m\u001b[1m│ \u001b[22m\u001b[39m    [17] \u001b[0m\u001b[1m_include_from_serialized\u001b[22m\u001b[0m\u001b[1m(\u001b[22m\u001b[90mpkg\u001b[39m::\u001b[0mBase.PkgId, \u001b[90mpath\u001b[39m::\u001b[0mString, \u001b[90mdepmods\u001b[39m::\u001b[0mVector\u001b[90m{Any}\u001b[39m\u001b[0m\u001b[1m)\u001b[22m\n",
      "\u001b[33m\u001b[1m│ \u001b[22m\u001b[39m   \u001b[90m    @ \u001b[39m\u001b[90mBase\u001b[39m \u001b[90m.\\\u001b[39m\u001b[90m\u001b[4mloading.jl:831\u001b[24m\u001b[39m\n",
      "\u001b[33m\u001b[1m│ \u001b[22m\u001b[39m    [18] \u001b[0m\u001b[1m_tryrequire_from_serialized\u001b[22m\u001b[0m\u001b[1m(\u001b[22m\u001b[90mmodkey\u001b[39m::\u001b[0mBase.PkgId, \u001b[90mpath\u001b[39m::\u001b[0mString, \u001b[90msourcepath\u001b[39m::\u001b[0mString, \u001b[90mdepmods\u001b[39m::\u001b[0mVector\u001b[90m{Any}\u001b[39m\u001b[0m\u001b[1m)\u001b[22m\n",
      "\u001b[33m\u001b[1m│ \u001b[22m\u001b[39m   \u001b[90m    @ \u001b[39m\u001b[90mBase\u001b[39m \u001b[90m.\\\u001b[39m\u001b[90m\u001b[4mloading.jl:938\u001b[24m\u001b[39m\n",
      "\u001b[33m\u001b[1m│ \u001b[22m\u001b[39m    [19] \u001b[0m\u001b[1m_require_search_from_serialized\u001b[22m\u001b[0m\u001b[1m(\u001b[22m\u001b[90mpkg\u001b[39m::\u001b[0mBase.PkgId, \u001b[90msourcepath\u001b[39m::\u001b[0mString, \u001b[90mbuild_id\u001b[39m::\u001b[0mUInt64\u001b[0m\u001b[1m)\u001b[22m\n",
      "\u001b[33m\u001b[1m│ \u001b[22m\u001b[39m   \u001b[90m    @ \u001b[39m\u001b[90mBase\u001b[39m \u001b[90m.\\\u001b[39m\u001b[90m\u001b[4mloading.jl:1028\u001b[24m\u001b[39m\n",
      "\u001b[33m\u001b[1m│ \u001b[22m\u001b[39m    [20] \u001b[0m\u001b[1m_require\u001b[22m\u001b[0m\u001b[1m(\u001b[22m\u001b[90mpkg\u001b[39m::\u001b[0mBase.PkgId\u001b[0m\u001b[1m)\u001b[22m\n",
      "\u001b[33m\u001b[1m│ \u001b[22m\u001b[39m   \u001b[90m    @ \u001b[39m\u001b[90mBase\u001b[39m \u001b[90m.\\\u001b[39m\u001b[90m\u001b[4mloading.jl:1315\u001b[24m\u001b[39m\n",
      "\u001b[33m\u001b[1m│ \u001b[22m\u001b[39m    [21] \u001b[0m\u001b[1m_require_prelocked\u001b[22m\u001b[0m\u001b[1m(\u001b[22m\u001b[90muuidkey\u001b[39m::\u001b[0mBase.PkgId\u001b[0m\u001b[1m)\u001b[22m\n",
      "\u001b[33m\u001b[1m│ \u001b[22m\u001b[39m   \u001b[90m    @ \u001b[39m\u001b[90mBase\u001b[39m \u001b[90m.\\\u001b[39m\u001b[90m\u001b[4mloading.jl:1200\u001b[24m\u001b[39m\n",
      "\u001b[33m\u001b[1m│ \u001b[22m\u001b[39m    [22] \u001b[0m\u001b[1mmacro expansion\u001b[22m\n",
      "\u001b[33m\u001b[1m│ \u001b[22m\u001b[39m   \u001b[90m    @ \u001b[39m\u001b[90m.\\\u001b[39m\u001b[90m\u001b[4mloading.jl:1180\u001b[24m\u001b[39m\u001b[90m [inlined]\u001b[39m\n",
      "\u001b[33m\u001b[1m│ \u001b[22m\u001b[39m    [23] \u001b[0m\u001b[1mmacro expansion\u001b[22m\n",
      "\u001b[33m\u001b[1m│ \u001b[22m\u001b[39m   \u001b[90m    @ \u001b[39m\u001b[90m.\\\u001b[39m\u001b[90m\u001b[4mlock.jl:223\u001b[24m\u001b[39m\u001b[90m [inlined]\u001b[39m\n",
      "\u001b[33m\u001b[1m│ \u001b[22m\u001b[39m    [24] \u001b[0m\u001b[1mrequire\u001b[22m\u001b[0m\u001b[1m(\u001b[22m\u001b[90minto\u001b[39m::\u001b[0mModule, \u001b[90mmod\u001b[39m::\u001b[0mSymbol\u001b[0m\u001b[1m)\u001b[22m\n",
      "\u001b[33m\u001b[1m│ \u001b[22m\u001b[39m   \u001b[90m    @ \u001b[39m\u001b[90mBase\u001b[39m \u001b[90m.\\\u001b[39m\u001b[90m\u001b[4mloading.jl:1144\u001b[24m\u001b[39m\n",
      "\u001b[33m\u001b[1m│ \u001b[22m\u001b[39m    [25] \u001b[0m\u001b[1meval\u001b[22m\n",
      "\u001b[33m\u001b[1m│ \u001b[22m\u001b[39m   \u001b[90m    @ \u001b[39m\u001b[90m.\\\u001b[39m\u001b[90m\u001b[4mboot.jl:368\u001b[24m\u001b[39m\u001b[90m [inlined]\u001b[39m\n",
      "\u001b[33m\u001b[1m│ \u001b[22m\u001b[39m    [26] \u001b[0m\u001b[1minclude_string\u001b[22m\u001b[0m\u001b[1m(\u001b[22m\u001b[90mmapexpr\u001b[39m::\u001b[0mtypeof(REPL.softscope), \u001b[90mmod\u001b[39m::\u001b[0mModule, \u001b[90mcode\u001b[39m::\u001b[0mString, \u001b[90mfilename\u001b[39m::\u001b[0mString\u001b[0m\u001b[1m)\u001b[22m\n",
      "\u001b[33m\u001b[1m│ \u001b[22m\u001b[39m   \u001b[90m    @ \u001b[39m\u001b[90mBase\u001b[39m \u001b[90m.\\\u001b[39m\u001b[90m\u001b[4mloading.jl:1428\u001b[24m\u001b[39m\n",
      "\u001b[33m\u001b[1m│ \u001b[22m\u001b[39m    [27] \u001b[0m\u001b[1msoftscope_include_string\u001b[22m\u001b[0m\u001b[1m(\u001b[22m\u001b[90mm\u001b[39m::\u001b[0mModule, \u001b[90mcode\u001b[39m::\u001b[0mString, \u001b[90mfilename\u001b[39m::\u001b[0mString\u001b[0m\u001b[1m)\u001b[22m\n",
      "\u001b[33m\u001b[1m│ \u001b[22m\u001b[39m   \u001b[90m    @ \u001b[39m\u001b[32mSoftGlobalScope\u001b[39m \u001b[90mC:\\Users\\ChemeGrad2021\\.julia\\packages\\SoftGlobalScope\\u4UzH\\src\\\u001b[39m\u001b[90m\u001b[4mSoftGlobalScope.jl:65\u001b[24m\u001b[39m\n",
      "\u001b[33m\u001b[1m│ \u001b[22m\u001b[39m    [28] \u001b[0m\u001b[1mexecute_request\u001b[22m\u001b[0m\u001b[1m(\u001b[22m\u001b[90msocket\u001b[39m::\u001b[0mZMQ.Socket, \u001b[90mmsg\u001b[39m::\u001b[0mIJulia.Msg\u001b[0m\u001b[1m)\u001b[22m\n",
      "\u001b[33m\u001b[1m│ \u001b[22m\u001b[39m   \u001b[90m    @ \u001b[39m\u001b[33mIJulia\u001b[39m \u001b[90mC:\\Users\\ChemeGrad2021\\.julia\\packages\\IJulia\\6TIq1\\src\\\u001b[39m\u001b[90m\u001b[4mexecute_request.jl:67\u001b[24m\u001b[39m\n",
      "\u001b[33m\u001b[1m│ \u001b[22m\u001b[39m    [29] \u001b[0m\u001b[1m#invokelatest#2\u001b[22m\n",
      "\u001b[33m\u001b[1m│ \u001b[22m\u001b[39m   \u001b[90m    @ \u001b[39m\u001b[90m.\\\u001b[39m\u001b[90m\u001b[4messentials.jl:729\u001b[24m\u001b[39m\u001b[90m [inlined]\u001b[39m\n",
      "\u001b[33m\u001b[1m│ \u001b[22m\u001b[39m    [30] \u001b[0m\u001b[1minvokelatest\u001b[22m\n",
      "\u001b[33m\u001b[1m│ \u001b[22m\u001b[39m   \u001b[90m    @ \u001b[39m\u001b[90m.\\\u001b[39m\u001b[90m\u001b[4messentials.jl:726\u001b[24m\u001b[39m\u001b[90m [inlined]\u001b[39m\n",
      "\u001b[33m\u001b[1m│ \u001b[22m\u001b[39m    [31] \u001b[0m\u001b[1meventloop\u001b[22m\u001b[0m\u001b[1m(\u001b[22m\u001b[90msocket\u001b[39m::\u001b[0mZMQ.Socket\u001b[0m\u001b[1m)\u001b[22m\n",
      "\u001b[33m\u001b[1m│ \u001b[22m\u001b[39m   \u001b[90m    @ \u001b[39m\u001b[33mIJulia\u001b[39m \u001b[90mC:\\Users\\ChemeGrad2021\\.julia\\packages\\IJulia\\6TIq1\\src\\\u001b[39m\u001b[90m\u001b[4meventloop.jl:8\u001b[24m\u001b[39m\n",
      "\u001b[33m\u001b[1m│ \u001b[22m\u001b[39m    [32] \u001b[0m\u001b[1m(::IJulia.var\"#15#18\")\u001b[22m\u001b[0m\u001b[1m(\u001b[22m\u001b[0m\u001b[1m)\u001b[22m\n",
      "\u001b[33m\u001b[1m│ \u001b[22m\u001b[39m   \u001b[90m    @ \u001b[39m\u001b[33mIJulia\u001b[39m \u001b[90m.\\\u001b[39m\u001b[90m\u001b[4mtask.jl:484\u001b[24m\u001b[39m\n",
      "\u001b[33m\u001b[1m│ \u001b[22m\u001b[39m   in expression starting at C:\\Users\\ChemeGrad2021\\.julia\\packages\\DiffEqBase\\VDPJ8\\ext\\DiffEqBaseZygoteExt.jl:44\n",
      "\u001b[33m\u001b[1m│ \u001b[22m\u001b[39m   in expression starting at C:\\Users\\ChemeGrad2021\\.julia\\packages\\DiffEqBase\\VDPJ8\\ext\\DiffEqBaseZygoteExt.jl:1\n",
      "\u001b[33m\u001b[1m└ \u001b[22m\u001b[39m\u001b[90m@ Requires C:\\Users\\ChemeGrad2021\\.julia\\packages\\Requires\\Z8rfN\\src\\require.jl:51\u001b[39m\n"
     ]
    },
    {
     "name": "stderr",
     "output_type": "stream",
     "text": [
      "\u001b[33m\u001b[1m┌ \u001b[22m\u001b[39m\u001b[33m\u001b[1mWarning: \u001b[22m\u001b[39mError requiring `Tracker` from `DiffEqBase`\n",
      "\u001b[33m\u001b[1m│ \u001b[22m\u001b[39m  exception =\n",
      "\u001b[33m\u001b[1m│ \u001b[22m\u001b[39m   LoadError: UndefVarError: AbstractOverloadingSensitivityAlgorithm not defined\n",
      "\u001b[33m\u001b[1m│ \u001b[22m\u001b[39m   Stacktrace:\n",
      "\u001b[33m\u001b[1m│ \u001b[22m\u001b[39m     [1] \u001b[0m\u001b[1mgetproperty\u001b[22m\u001b[0m\u001b[1m(\u001b[22m\u001b[90mx\u001b[39m::\u001b[0mModule, \u001b[90mf\u001b[39m::\u001b[0mSymbol\u001b[0m\u001b[1m)\u001b[22m\n",
      "\u001b[33m\u001b[1m│ \u001b[22m\u001b[39m   \u001b[90m    @ \u001b[39m\u001b[90mBase\u001b[39m \u001b[90m.\\\u001b[39m\u001b[90m\u001b[4mBase.jl:31\u001b[24m\u001b[39m\n",
      "\u001b[33m\u001b[1m│ \u001b[22m\u001b[39m     [2] top-level scope\n",
      "\u001b[33m\u001b[1m│ \u001b[22m\u001b[39m   \u001b[90m    @ \u001b[39m\u001b[90mC:\\Users\\ChemeGrad2021\\.julia\\packages\\DiffEqBase\\VDPJ8\\ext\\\u001b[39m\u001b[90m\u001b[4mDiffEqBaseTrackerExt.jl:64\u001b[24m\u001b[39m\n",
      "\u001b[33m\u001b[1m│ \u001b[22m\u001b[39m     [3] \u001b[0m\u001b[1minclude\u001b[22m\u001b[0m\u001b[1m(\u001b[22m\u001b[90mmod\u001b[39m::\u001b[0mModule, \u001b[90m_path\u001b[39m::\u001b[0mString\u001b[0m\u001b[1m)\u001b[22m\n",
      "\u001b[33m\u001b[1m│ \u001b[22m\u001b[39m   \u001b[90m    @ \u001b[39m\u001b[90mBase\u001b[39m \u001b[90m.\\\u001b[39m\u001b[90m\u001b[4mBase.jl:419\u001b[24m\u001b[39m\n",
      "\u001b[33m\u001b[1m│ \u001b[22m\u001b[39m     [4] \u001b[0m\u001b[1minclude\u001b[22m\u001b[0m\u001b[1m(\u001b[22m\u001b[90mx\u001b[39m::\u001b[0mString\u001b[0m\u001b[1m)\u001b[22m\n",
      "\u001b[33m\u001b[1m│ \u001b[22m\u001b[39m   \u001b[90m    @ \u001b[39m\u001b[35mDiffEqBase\u001b[39m \u001b[90mC:\\Users\\ChemeGrad2021\\.julia\\packages\\DiffEqBase\\VDPJ8\\src\\\u001b[39m\u001b[90m\u001b[4mDiffEqBase.jl:1\u001b[24m\u001b[39m\n",
      "\u001b[33m\u001b[1m│ \u001b[22m\u001b[39m     [5] \u001b[0m\u001b[1mmacro expansion\u001b[22m\n",
      "\u001b[33m\u001b[1m│ \u001b[22m\u001b[39m   \u001b[90m    @ \u001b[39m\u001b[90mC:\\Users\\ChemeGrad2021\\.julia\\packages\\Requires\\Z8rfN\\src\\\u001b[39m\u001b[90m\u001b[4mRequires.jl:40\u001b[24m\u001b[39m\u001b[90m [inlined]\u001b[39m\n",
      "\u001b[33m\u001b[1m│ \u001b[22m\u001b[39m     [6] top-level scope\n",
      "\u001b[33m\u001b[1m│ \u001b[22m\u001b[39m   \u001b[90m    @ \u001b[39m\u001b[90mC:\\Users\\ChemeGrad2021\\.julia\\packages\\DiffEqBase\\VDPJ8\\src\\\u001b[39m\u001b[90m\u001b[4minit.jl:27\u001b[24m\u001b[39m\n",
      "\u001b[33m\u001b[1m│ \u001b[22m\u001b[39m     [7] \u001b[0m\u001b[1meval\u001b[22m\n",
      "\u001b[33m\u001b[1m│ \u001b[22m\u001b[39m   \u001b[90m    @ \u001b[39m\u001b[90m.\\\u001b[39m\u001b[90m\u001b[4mboot.jl:368\u001b[24m\u001b[39m\u001b[90m [inlined]\u001b[39m\n",
      "\u001b[33m\u001b[1m│ \u001b[22m\u001b[39m     [8] \u001b[0m\u001b[1meval\u001b[22m\n",
      "\u001b[33m\u001b[1m│ \u001b[22m\u001b[39m   \u001b[90m    @ \u001b[39m\u001b[90mC:\\Users\\ChemeGrad2021\\.julia\\packages\\DiffEqBase\\VDPJ8\\src\\\u001b[39m\u001b[90m\u001b[4mDiffEqBase.jl:1\u001b[24m\u001b[39m\u001b[90m [inlined]\u001b[39m\n",
      "\u001b[33m\u001b[1m│ \u001b[22m\u001b[39m     [9] \u001b[0m\u001b[1m(::DiffEqBase.var\"#70#94\")\u001b[22m\u001b[0m\u001b[1m(\u001b[22m\u001b[0m\u001b[1m)\u001b[22m\n",
      "\u001b[33m\u001b[1m│ \u001b[22m\u001b[39m   \u001b[90m    @ \u001b[39m\u001b[35mDiffEqBase\u001b[39m \u001b[90mC:\\Users\\ChemeGrad2021\\.julia\\packages\\Requires\\Z8rfN\\src\\\u001b[39m\u001b[90m\u001b[4mrequire.jl:101\u001b[24m\u001b[39m\n",
      "\u001b[33m\u001b[1m│ \u001b[22m\u001b[39m    [10] \u001b[0m\u001b[1mmacro expansion\u001b[22m\n",
      "\u001b[33m\u001b[1m│ \u001b[22m\u001b[39m   \u001b[90m    @ \u001b[39m\u001b[90m\u001b[4mtiming.jl:382\u001b[24m\u001b[39m\u001b[90m [inlined]\u001b[39m\n",
      "\u001b[33m\u001b[1m│ \u001b[22m\u001b[39m    [11] \u001b[0m\u001b[1merr\u001b[22m\u001b[0m\u001b[1m(\u001b[22m\u001b[90mf\u001b[39m::\u001b[0mAny, \u001b[90mlistener\u001b[39m::\u001b[0mModule, \u001b[90mmodname\u001b[39m::\u001b[0mString, \u001b[90mfile\u001b[39m::\u001b[0mString, \u001b[90mline\u001b[39m::\u001b[0mAny\u001b[0m\u001b[1m)\u001b[22m\n",
      "\u001b[33m\u001b[1m│ \u001b[22m\u001b[39m   \u001b[90m    @ \u001b[39m\u001b[36mRequires\u001b[39m \u001b[90mC:\\Users\\ChemeGrad2021\\.julia\\packages\\Requires\\Z8rfN\\src\\\u001b[39m\u001b[90m\u001b[4mrequire.jl:47\u001b[24m\u001b[39m\n",
      "\u001b[33m\u001b[1m│ \u001b[22m\u001b[39m    [12] \u001b[0m\u001b[1m(::DiffEqBase.var\"#69#93\")\u001b[22m\u001b[0m\u001b[1m(\u001b[22m\u001b[0m\u001b[1m)\u001b[22m\n",
      "\u001b[33m\u001b[1m│ \u001b[22m\u001b[39m   \u001b[90m    @ \u001b[39m\u001b[35mDiffEqBase\u001b[39m \u001b[90mC:\\Users\\ChemeGrad2021\\.julia\\packages\\Requires\\Z8rfN\\src\\\u001b[39m\u001b[90m\u001b[4mrequire.jl:100\u001b[24m\u001b[39m\n",
      "\u001b[33m\u001b[1m│ \u001b[22m\u001b[39m    [13] \u001b[0m\u001b[1mwithpath\u001b[22m\u001b[0m\u001b[1m(\u001b[22m\u001b[90mf\u001b[39m::\u001b[0mAny, \u001b[90mpath\u001b[39m::\u001b[0mString\u001b[0m\u001b[1m)\u001b[22m\n",
      "\u001b[33m\u001b[1m│ \u001b[22m\u001b[39m   \u001b[90m    @ \u001b[39m\u001b[36mRequires\u001b[39m \u001b[90mC:\\Users\\ChemeGrad2021\\.julia\\packages\\Requires\\Z8rfN\\src\\\u001b[39m\u001b[90m\u001b[4mrequire.jl:37\u001b[24m\u001b[39m\n",
      "\u001b[33m\u001b[1m│ \u001b[22m\u001b[39m    [14] \u001b[0m\u001b[1m(::DiffEqBase.var\"#68#92\")\u001b[22m\u001b[0m\u001b[1m(\u001b[22m\u001b[0m\u001b[1m)\u001b[22m\n",
      "\u001b[33m\u001b[1m│ \u001b[22m\u001b[39m   \u001b[90m    @ \u001b[39m\u001b[35mDiffEqBase\u001b[39m \u001b[90mC:\\Users\\ChemeGrad2021\\.julia\\packages\\Requires\\Z8rfN\\src\\\u001b[39m\u001b[90m\u001b[4mrequire.jl:99\u001b[24m\u001b[39m\n",
      "\u001b[33m\u001b[1m│ \u001b[22m\u001b[39m    [15] \u001b[0m\u001b[1m#invokelatest#2\u001b[22m\n",
      "\u001b[33m\u001b[1m│ \u001b[22m\u001b[39m   \u001b[90m    @ \u001b[39m\u001b[90m.\\\u001b[39m\u001b[90m\u001b[4messentials.jl:729\u001b[24m\u001b[39m\u001b[90m [inlined]\u001b[39m\n",
      "\u001b[33m\u001b[1m│ \u001b[22m\u001b[39m    [16] \u001b[0m\u001b[1minvokelatest\u001b[22m\n",
      "\u001b[33m\u001b[1m│ \u001b[22m\u001b[39m   \u001b[90m    @ \u001b[39m\u001b[90m.\\\u001b[39m\u001b[90m\u001b[4messentials.jl:726\u001b[24m\u001b[39m\u001b[90m [inlined]\u001b[39m\n",
      "\u001b[33m\u001b[1m│ \u001b[22m\u001b[39m    [17] \u001b[0m\u001b[1mforeach\u001b[22m\u001b[0m\u001b[1m(\u001b[22m\u001b[90mf\u001b[39m::\u001b[0mtypeof(Base.invokelatest), \u001b[90mitr\u001b[39m::\u001b[0mVector\u001b[90m{Function}\u001b[39m\u001b[0m\u001b[1m)\u001b[22m\n",
      "\u001b[33m\u001b[1m│ \u001b[22m\u001b[39m   \u001b[90m    @ \u001b[39m\u001b[90mBase\u001b[39m \u001b[90m.\\\u001b[39m\u001b[90m\u001b[4mabstractarray.jl:2774\u001b[24m\u001b[39m\n",
      "\u001b[33m\u001b[1m│ \u001b[22m\u001b[39m    [18] \u001b[0m\u001b[1mloadpkg\u001b[22m\u001b[0m\u001b[1m(\u001b[22m\u001b[90mpkg\u001b[39m::\u001b[0mBase.PkgId\u001b[0m\u001b[1m)\u001b[22m\n",
      "\u001b[33m\u001b[1m│ \u001b[22m\u001b[39m   \u001b[90m    @ \u001b[39m\u001b[36mRequires\u001b[39m \u001b[90mC:\\Users\\ChemeGrad2021\\.julia\\packages\\Requires\\Z8rfN\\src\\\u001b[39m\u001b[90m\u001b[4mrequire.jl:27\u001b[24m\u001b[39m\n",
      "\u001b[33m\u001b[1m│ \u001b[22m\u001b[39m    [19] \u001b[0m\u001b[1m#invokelatest#2\u001b[22m\n",
      "\u001b[33m\u001b[1m│ \u001b[22m\u001b[39m   \u001b[90m    @ \u001b[39m\u001b[90m.\\\u001b[39m\u001b[90m\u001b[4messentials.jl:729\u001b[24m\u001b[39m\u001b[90m [inlined]\u001b[39m\n",
      "\u001b[33m\u001b[1m│ \u001b[22m\u001b[39m    [20] \u001b[0m\u001b[1minvokelatest\u001b[22m\n",
      "\u001b[33m\u001b[1m│ \u001b[22m\u001b[39m   \u001b[90m    @ \u001b[39m\u001b[90m.\\\u001b[39m\u001b[90m\u001b[4messentials.jl:726\u001b[24m\u001b[39m\u001b[90m [inlined]\u001b[39m\n",
      "\u001b[33m\u001b[1m│ \u001b[22m\u001b[39m    [21] \u001b[0m\u001b[1mrun_package_callbacks\u001b[22m\u001b[0m\u001b[1m(\u001b[22m\u001b[90mmodkey\u001b[39m::\u001b[0mBase.PkgId\u001b[0m\u001b[1m)\u001b[22m\n",
      "\u001b[33m\u001b[1m│ \u001b[22m\u001b[39m   \u001b[90m    @ \u001b[39m\u001b[90mBase\u001b[39m \u001b[90m.\\\u001b[39m\u001b[90m\u001b[4mloading.jl:869\u001b[24m\u001b[39m\n",
      "\u001b[33m\u001b[1m│ \u001b[22m\u001b[39m    [22] \u001b[0m\u001b[1m_tryrequire_from_serialized\u001b[22m\u001b[0m\u001b[1m(\u001b[22m\u001b[90mmodkey\u001b[39m::\u001b[0mBase.PkgId, \u001b[90mpath\u001b[39m::\u001b[0mString, \u001b[90msourcepath\u001b[39m::\u001b[0mString, \u001b[90mdepmods\u001b[39m::\u001b[0mVector\u001b[90m{Any}\u001b[39m\u001b[0m\u001b[1m)\u001b[22m\n",
      "\u001b[33m\u001b[1m│ \u001b[22m\u001b[39m   \u001b[90m    @ \u001b[39m\u001b[90mBase\u001b[39m \u001b[90m.\\\u001b[39m\u001b[90m\u001b[4mloading.jl:944\u001b[24m\u001b[39m\n",
      "\u001b[33m\u001b[1m│ \u001b[22m\u001b[39m    [23] \u001b[0m\u001b[1m_require_search_from_serialized\u001b[22m\u001b[0m\u001b[1m(\u001b[22m\u001b[90mpkg\u001b[39m::\u001b[0mBase.PkgId, \u001b[90msourcepath\u001b[39m::\u001b[0mString, \u001b[90mbuild_id\u001b[39m::\u001b[0mUInt64\u001b[0m\u001b[1m)\u001b[22m\n",
      "\u001b[33m\u001b[1m│ \u001b[22m\u001b[39m   \u001b[90m    @ \u001b[39m\u001b[90mBase\u001b[39m \u001b[90m.\\\u001b[39m\u001b[90m\u001b[4mloading.jl:1028\u001b[24m\u001b[39m\n",
      "\u001b[33m\u001b[1m│ \u001b[22m\u001b[39m    [24] \u001b[0m\u001b[1m_require\u001b[22m\u001b[0m\u001b[1m(\u001b[22m\u001b[90mpkg\u001b[39m::\u001b[0mBase.PkgId\u001b[0m\u001b[1m)\u001b[22m\n",
      "\u001b[33m\u001b[1m│ \u001b[22m\u001b[39m   \u001b[90m    @ \u001b[39m\u001b[90mBase\u001b[39m \u001b[90m.\\\u001b[39m\u001b[90m\u001b[4mloading.jl:1315\u001b[24m\u001b[39m\n",
      "\u001b[33m\u001b[1m│ \u001b[22m\u001b[39m    [25] \u001b[0m\u001b[1m_require_prelocked\u001b[22m\u001b[0m\u001b[1m(\u001b[22m\u001b[90muuidkey\u001b[39m::\u001b[0mBase.PkgId\u001b[0m\u001b[1m)\u001b[22m\n",
      "\u001b[33m\u001b[1m│ \u001b[22m\u001b[39m   \u001b[90m    @ \u001b[39m\u001b[90mBase\u001b[39m \u001b[90m.\\\u001b[39m\u001b[90m\u001b[4mloading.jl:1200\u001b[24m\u001b[39m\n",
      "\u001b[33m\u001b[1m│ \u001b[22m\u001b[39m    [26] \u001b[0m\u001b[1mmacro expansion\u001b[22m\n",
      "\u001b[33m\u001b[1m│ \u001b[22m\u001b[39m   \u001b[90m    @ \u001b[39m\u001b[90m.\\\u001b[39m\u001b[90m\u001b[4mloading.jl:1180\u001b[24m\u001b[39m\u001b[90m [inlined]\u001b[39m\n",
      "\u001b[33m\u001b[1m│ \u001b[22m\u001b[39m    [27] \u001b[0m\u001b[1mmacro expansion\u001b[22m\n",
      "\u001b[33m\u001b[1m│ \u001b[22m\u001b[39m   \u001b[90m    @ \u001b[39m\u001b[90m.\\\u001b[39m\u001b[90m\u001b[4mlock.jl:223\u001b[24m\u001b[39m\u001b[90m [inlined]\u001b[39m\n",
      "\u001b[33m\u001b[1m│ \u001b[22m\u001b[39m    [28] \u001b[0m\u001b[1mrequire\u001b[22m\u001b[0m\u001b[1m(\u001b[22m\u001b[90minto\u001b[39m::\u001b[0mModule, \u001b[90mmod\u001b[39m::\u001b[0mSymbol\u001b[0m\u001b[1m)\u001b[22m\n",
      "\u001b[33m\u001b[1m│ \u001b[22m\u001b[39m   \u001b[90m    @ \u001b[39m\u001b[90mBase\u001b[39m \u001b[90m.\\\u001b[39m\u001b[90m\u001b[4mloading.jl:1144\u001b[24m\u001b[39m\n",
      "\u001b[33m\u001b[1m│ \u001b[22m\u001b[39m    [29] \u001b[0m\u001b[1meval\u001b[22m\n",
      "\u001b[33m\u001b[1m│ \u001b[22m\u001b[39m   \u001b[90m    @ \u001b[39m\u001b[90m.\\\u001b[39m\u001b[90m\u001b[4mboot.jl:368\u001b[24m\u001b[39m\u001b[90m [inlined]\u001b[39m\n",
      "\u001b[33m\u001b[1m│ \u001b[22m\u001b[39m    [30] \u001b[0m\u001b[1minclude_string\u001b[22m\u001b[0m\u001b[1m(\u001b[22m\u001b[90mmapexpr\u001b[39m::\u001b[0mtypeof(REPL.softscope), \u001b[90mmod\u001b[39m::\u001b[0mModule, \u001b[90mcode\u001b[39m::\u001b[0mString, \u001b[90mfilename\u001b[39m::\u001b[0mString\u001b[0m\u001b[1m)\u001b[22m\n",
      "\u001b[33m\u001b[1m│ \u001b[22m\u001b[39m   \u001b[90m    @ \u001b[39m\u001b[90mBase\u001b[39m \u001b[90m.\\\u001b[39m\u001b[90m\u001b[4mloading.jl:1428\u001b[24m\u001b[39m\n",
      "\u001b[33m\u001b[1m│ \u001b[22m\u001b[39m    [31] \u001b[0m\u001b[1msoftscope_include_string\u001b[22m\u001b[0m\u001b[1m(\u001b[22m\u001b[90mm\u001b[39m::\u001b[0mModule, \u001b[90mcode\u001b[39m::\u001b[0mString, \u001b[90mfilename\u001b[39m::\u001b[0mString\u001b[0m\u001b[1m)\u001b[22m\n",
      "\u001b[33m\u001b[1m│ \u001b[22m\u001b[39m   \u001b[90m    @ \u001b[39m\u001b[32mSoftGlobalScope\u001b[39m \u001b[90mC:\\Users\\ChemeGrad2021\\.julia\\packages\\SoftGlobalScope\\u4UzH\\src\\\u001b[39m\u001b[90m\u001b[4mSoftGlobalScope.jl:65\u001b[24m\u001b[39m\n",
      "\u001b[33m\u001b[1m│ \u001b[22m\u001b[39m    [32] \u001b[0m\u001b[1mexecute_request\u001b[22m\u001b[0m\u001b[1m(\u001b[22m\u001b[90msocket\u001b[39m::\u001b[0mZMQ.Socket, \u001b[90mmsg\u001b[39m::\u001b[0mIJulia.Msg\u001b[0m\u001b[1m)\u001b[22m\n",
      "\u001b[33m\u001b[1m│ \u001b[22m\u001b[39m   \u001b[90m    @ \u001b[39m\u001b[33mIJulia\u001b[39m \u001b[90mC:\\Users\\ChemeGrad2021\\.julia\\packages\\IJulia\\6TIq1\\src\\\u001b[39m\u001b[90m\u001b[4mexecute_request.jl:67\u001b[24m\u001b[39m\n",
      "\u001b[33m\u001b[1m│ \u001b[22m\u001b[39m    [33] \u001b[0m\u001b[1m#invokelatest#2\u001b[22m\n",
      "\u001b[33m\u001b[1m│ \u001b[22m\u001b[39m   \u001b[90m    @ \u001b[39m\u001b[90m.\\\u001b[39m\u001b[90m\u001b[4messentials.jl:729\u001b[24m\u001b[39m\u001b[90m [inlined]\u001b[39m\n",
      "\u001b[33m\u001b[1m│ \u001b[22m\u001b[39m    [34] \u001b[0m\u001b[1minvokelatest\u001b[22m\n",
      "\u001b[33m\u001b[1m│ \u001b[22m\u001b[39m   \u001b[90m    @ \u001b[39m\u001b[90m.\\\u001b[39m\u001b[90m\u001b[4messentials.jl:726\u001b[24m\u001b[39m\u001b[90m [inlined]\u001b[39m\n",
      "\u001b[33m\u001b[1m│ \u001b[22m\u001b[39m    [35] \u001b[0m\u001b[1meventloop\u001b[22m\u001b[0m\u001b[1m(\u001b[22m\u001b[90msocket\u001b[39m::\u001b[0mZMQ.Socket\u001b[0m\u001b[1m)\u001b[22m\n",
      "\u001b[33m\u001b[1m│ \u001b[22m\u001b[39m   \u001b[90m    @ \u001b[39m\u001b[33mIJulia\u001b[39m \u001b[90mC:\\Users\\ChemeGrad2021\\.julia\\packages\\IJulia\\6TIq1\\src\\\u001b[39m\u001b[90m\u001b[4meventloop.jl:8\u001b[24m\u001b[39m\n",
      "\u001b[33m\u001b[1m│ \u001b[22m\u001b[39m    [36] \u001b[0m\u001b[1m(::IJulia.var\"#15#18\")\u001b[22m\u001b[0m\u001b[1m(\u001b[22m\u001b[0m\u001b[1m)\u001b[22m\n",
      "\u001b[33m\u001b[1m│ \u001b[22m\u001b[39m   \u001b[90m    @ \u001b[39m\u001b[33mIJulia\u001b[39m \u001b[90m.\\\u001b[39m\u001b[90m\u001b[4mtask.jl:484\u001b[24m\u001b[39m\n",
      "\u001b[33m\u001b[1m│ \u001b[22m\u001b[39m   in expression starting at C:\\Users\\ChemeGrad2021\\.julia\\packages\\DiffEqBase\\VDPJ8\\ext\\DiffEqBaseTrackerExt.jl:1\n",
      "\u001b[33m\u001b[1m└ \u001b[22m\u001b[39m\u001b[90m@ Requires C:\\Users\\ChemeGrad2021\\.julia\\packages\\Requires\\Z8rfN\\src\\require.jl:51\u001b[39m\n"
     ]
    },
    {
     "name": "stderr",
     "output_type": "stream",
     "text": [
      "\u001b[33m\u001b[1m┌ \u001b[22m\u001b[39m\u001b[33m\u001b[1mWarning: \u001b[22m\u001b[39mError requiring `ReverseDiff` from `DiffEqBase`\n",
      "\u001b[33m\u001b[1m│ \u001b[22m\u001b[39m  exception =\n",
      "\u001b[33m\u001b[1m│ \u001b[22m\u001b[39m   LoadError: UndefVarError: AbstractOverloadingSensitivityAlgorithm not defined\n",
      "\u001b[33m\u001b[1m│ \u001b[22m\u001b[39m   Stacktrace:\n",
      "\u001b[33m\u001b[1m│ \u001b[22m\u001b[39m     [1] \u001b[0m\u001b[1mgetproperty\u001b[22m\u001b[0m\u001b[1m(\u001b[22m\u001b[90mx\u001b[39m::\u001b[0mModule, \u001b[90mf\u001b[39m::\u001b[0mSymbol\u001b[0m\u001b[1m)\u001b[22m\n",
      "\u001b[33m\u001b[1m│ \u001b[22m\u001b[39m   \u001b[90m    @ \u001b[39m\u001b[90mBase\u001b[39m \u001b[90m.\\\u001b[39m\u001b[90m\u001b[4mBase.jl:31\u001b[24m\u001b[39m\n",
      "\u001b[33m\u001b[1m│ \u001b[22m\u001b[39m     [2] top-level scope\n",
      "\u001b[33m\u001b[1m│ \u001b[22m\u001b[39m   \u001b[90m    @ \u001b[39m\u001b[90mC:\\Users\\ChemeGrad2021\\.julia\\packages\\DiffEqBase\\VDPJ8\\ext\\\u001b[39m\u001b[90m\u001b[4mDiffEqBaseReverseDiffExt.jl:65\u001b[24m\u001b[39m\n",
      "\u001b[33m\u001b[1m│ \u001b[22m\u001b[39m     [3] \u001b[0m\u001b[1minclude\u001b[22m\u001b[0m\u001b[1m(\u001b[22m\u001b[90mmod\u001b[39m::\u001b[0mModule, \u001b[90m_path\u001b[39m::\u001b[0mString\u001b[0m\u001b[1m)\u001b[22m\n",
      "\u001b[33m\u001b[1m│ \u001b[22m\u001b[39m   \u001b[90m    @ \u001b[39m\u001b[90mBase\u001b[39m \u001b[90m.\\\u001b[39m\u001b[90m\u001b[4mBase.jl:419\u001b[24m\u001b[39m\n",
      "\u001b[33m\u001b[1m│ \u001b[22m\u001b[39m     [4] \u001b[0m\u001b[1minclude\u001b[22m\u001b[0m\u001b[1m(\u001b[22m\u001b[90mx\u001b[39m::\u001b[0mString\u001b[0m\u001b[1m)\u001b[22m\n",
      "\u001b[33m\u001b[1m│ \u001b[22m\u001b[39m   \u001b[90m    @ \u001b[39m\u001b[35mDiffEqBase\u001b[39m \u001b[90mC:\\Users\\ChemeGrad2021\\.julia\\packages\\DiffEqBase\\VDPJ8\\src\\\u001b[39m\u001b[90m\u001b[4mDiffEqBase.jl:1\u001b[24m\u001b[39m\n",
      "\u001b[33m\u001b[1m│ \u001b[22m\u001b[39m     [5] \u001b[0m\u001b[1mmacro expansion\u001b[22m\n",
      "\u001b[33m\u001b[1m│ \u001b[22m\u001b[39m   \u001b[90m    @ \u001b[39m\u001b[90mC:\\Users\\ChemeGrad2021\\.julia\\packages\\Requires\\Z8rfN\\src\\\u001b[39m\u001b[90m\u001b[4mRequires.jl:40\u001b[24m\u001b[39m\u001b[90m [inlined]\u001b[39m\n",
      "\u001b[33m\u001b[1m│ \u001b[22m\u001b[39m     [6] top-level scope\n",
      "\u001b[33m\u001b[1m│ \u001b[22m\u001b[39m   \u001b[90m    @ \u001b[39m\u001b[90mC:\\Users\\ChemeGrad2021\\.julia\\packages\\DiffEqBase\\VDPJ8\\src\\\u001b[39m\u001b[90m\u001b[4minit.jl:29\u001b[24m\u001b[39m\n",
      "\u001b[33m\u001b[1m│ \u001b[22m\u001b[39m     [7] \u001b[0m\u001b[1meval\u001b[22m\n",
      "\u001b[33m\u001b[1m│ \u001b[22m\u001b[39m   \u001b[90m    @ \u001b[39m\u001b[90m.\\\u001b[39m\u001b[90m\u001b[4mboot.jl:368\u001b[24m\u001b[39m\u001b[90m [inlined]\u001b[39m\n",
      "\u001b[33m\u001b[1m│ \u001b[22m\u001b[39m     [8] \u001b[0m\u001b[1meval\u001b[22m\n",
      "\u001b[33m\u001b[1m│ \u001b[22m\u001b[39m   \u001b[90m    @ \u001b[39m\u001b[90mC:\\Users\\ChemeGrad2021\\.julia\\packages\\DiffEqBase\\VDPJ8\\src\\\u001b[39m\u001b[90m\u001b[4mDiffEqBase.jl:1\u001b[24m\u001b[39m\u001b[90m [inlined]\u001b[39m\n",
      "\u001b[33m\u001b[1m│ \u001b[22m\u001b[39m     [9] \u001b[0m\u001b[1m(::DiffEqBase.var\"#73#97\")\u001b[22m\u001b[0m\u001b[1m(\u001b[22m\u001b[0m\u001b[1m)\u001b[22m\n",
      "\u001b[33m\u001b[1m│ \u001b[22m\u001b[39m   \u001b[90m    @ \u001b[39m\u001b[35mDiffEqBase\u001b[39m \u001b[90mC:\\Users\\ChemeGrad2021\\.julia\\packages\\Requires\\Z8rfN\\src\\\u001b[39m\u001b[90m\u001b[4mrequire.jl:101\u001b[24m\u001b[39m\n",
      "\u001b[33m\u001b[1m│ \u001b[22m\u001b[39m    [10] \u001b[0m\u001b[1mmacro expansion\u001b[22m\n",
      "\u001b[33m\u001b[1m│ \u001b[22m\u001b[39m   \u001b[90m    @ \u001b[39m\u001b[90m\u001b[4mtiming.jl:382\u001b[24m\u001b[39m\u001b[90m [inlined]\u001b[39m\n",
      "\u001b[33m\u001b[1m│ \u001b[22m\u001b[39m    [11] \u001b[0m\u001b[1merr\u001b[22m\u001b[0m\u001b[1m(\u001b[22m\u001b[90mf\u001b[39m::\u001b[0mAny, \u001b[90mlistener\u001b[39m::\u001b[0mModule, \u001b[90mmodname\u001b[39m::\u001b[0mString, \u001b[90mfile\u001b[39m::\u001b[0mString, \u001b[90mline\u001b[39m::\u001b[0mAny\u001b[0m\u001b[1m)\u001b[22m\n",
      "\u001b[33m\u001b[1m│ \u001b[22m\u001b[39m   \u001b[90m    @ \u001b[39m\u001b[36mRequires\u001b[39m \u001b[90mC:\\Users\\ChemeGrad2021\\.julia\\packages\\Requires\\Z8rfN\\src\\\u001b[39m\u001b[90m\u001b[4mrequire.jl:47\u001b[24m\u001b[39m\n",
      "\u001b[33m\u001b[1m│ \u001b[22m\u001b[39m    [12] \u001b[0m\u001b[1m(::DiffEqBase.var\"#72#96\")\u001b[22m\u001b[0m\u001b[1m(\u001b[22m\u001b[0m\u001b[1m)\u001b[22m\n",
      "\u001b[33m\u001b[1m│ \u001b[22m\u001b[39m   \u001b[90m    @ \u001b[39m\u001b[35mDiffEqBase\u001b[39m \u001b[90mC:\\Users\\ChemeGrad2021\\.julia\\packages\\Requires\\Z8rfN\\src\\\u001b[39m\u001b[90m\u001b[4mrequire.jl:100\u001b[24m\u001b[39m\n",
      "\u001b[33m\u001b[1m│ \u001b[22m\u001b[39m    [13] \u001b[0m\u001b[1mwithpath\u001b[22m\u001b[0m\u001b[1m(\u001b[22m\u001b[90mf\u001b[39m::\u001b[0mAny, \u001b[90mpath\u001b[39m::\u001b[0mString\u001b[0m\u001b[1m)\u001b[22m\n",
      "\u001b[33m\u001b[1m│ \u001b[22m\u001b[39m   \u001b[90m    @ \u001b[39m\u001b[36mRequires\u001b[39m \u001b[90mC:\\Users\\ChemeGrad2021\\.julia\\packages\\Requires\\Z8rfN\\src\\\u001b[39m\u001b[90m\u001b[4mrequire.jl:37\u001b[24m\u001b[39m\n",
      "\u001b[33m\u001b[1m│ \u001b[22m\u001b[39m    [14] \u001b[0m\u001b[1m(::DiffEqBase.var\"#71#95\")\u001b[22m\u001b[0m\u001b[1m(\u001b[22m\u001b[0m\u001b[1m)\u001b[22m\n",
      "\u001b[33m\u001b[1m│ \u001b[22m\u001b[39m   \u001b[90m    @ \u001b[39m\u001b[35mDiffEqBase\u001b[39m \u001b[90mC:\\Users\\ChemeGrad2021\\.julia\\packages\\Requires\\Z8rfN\\src\\\u001b[39m\u001b[90m\u001b[4mrequire.jl:99\u001b[24m\u001b[39m\n",
      "\u001b[33m\u001b[1m│ \u001b[22m\u001b[39m    [15] \u001b[0m\u001b[1m#invokelatest#2\u001b[22m\n",
      "\u001b[33m\u001b[1m│ \u001b[22m\u001b[39m   \u001b[90m    @ \u001b[39m\u001b[90m.\\\u001b[39m\u001b[90m\u001b[4messentials.jl:729\u001b[24m\u001b[39m\u001b[90m [inlined]\u001b[39m\n",
      "\u001b[33m\u001b[1m│ \u001b[22m\u001b[39m    [16] \u001b[0m\u001b[1minvokelatest\u001b[22m\n",
      "\u001b[33m\u001b[1m│ \u001b[22m\u001b[39m   \u001b[90m    @ \u001b[39m\u001b[90m.\\\u001b[39m\u001b[90m\u001b[4messentials.jl:726\u001b[24m\u001b[39m\u001b[90m [inlined]\u001b[39m\n",
      "\u001b[33m\u001b[1m│ \u001b[22m\u001b[39m    [17] \u001b[0m\u001b[1mforeach\u001b[22m\u001b[0m\u001b[1m(\u001b[22m\u001b[90mf\u001b[39m::\u001b[0mtypeof(Base.invokelatest), \u001b[90mitr\u001b[39m::\u001b[0mVector\u001b[90m{Function}\u001b[39m\u001b[0m\u001b[1m)\u001b[22m\n",
      "\u001b[33m\u001b[1m│ \u001b[22m\u001b[39m   \u001b[90m    @ \u001b[39m\u001b[90mBase\u001b[39m \u001b[90m.\\\u001b[39m\u001b[90m\u001b[4mabstractarray.jl:2774\u001b[24m\u001b[39m\n",
      "\u001b[33m\u001b[1m│ \u001b[22m\u001b[39m    [18] \u001b[0m\u001b[1mloadpkg\u001b[22m\u001b[0m\u001b[1m(\u001b[22m\u001b[90mpkg\u001b[39m::\u001b[0mBase.PkgId\u001b[0m\u001b[1m)\u001b[22m\n",
      "\u001b[33m\u001b[1m│ \u001b[22m\u001b[39m   \u001b[90m    @ \u001b[39m\u001b[36mRequires\u001b[39m \u001b[90mC:\\Users\\ChemeGrad2021\\.julia\\packages\\Requires\\Z8rfN\\src\\\u001b[39m\u001b[90m\u001b[4mrequire.jl:27\u001b[24m\u001b[39m\n",
      "\u001b[33m\u001b[1m│ \u001b[22m\u001b[39m    [19] \u001b[0m\u001b[1m#invokelatest#2\u001b[22m\n",
      "\u001b[33m\u001b[1m│ \u001b[22m\u001b[39m   \u001b[90m    @ \u001b[39m\u001b[90m.\\\u001b[39m\u001b[90m\u001b[4messentials.jl:729\u001b[24m\u001b[39m\u001b[90m [inlined]\u001b[39m\n",
      "\u001b[33m\u001b[1m│ \u001b[22m\u001b[39m    [20] \u001b[0m\u001b[1minvokelatest\u001b[22m\n",
      "\u001b[33m\u001b[1m│ \u001b[22m\u001b[39m   \u001b[90m    @ \u001b[39m\u001b[90m.\\\u001b[39m\u001b[90m\u001b[4messentials.jl:726\u001b[24m\u001b[39m\u001b[90m [inlined]\u001b[39m\n",
      "\u001b[33m\u001b[1m│ \u001b[22m\u001b[39m    [21] \u001b[0m\u001b[1mrun_package_callbacks\u001b[22m\u001b[0m\u001b[1m(\u001b[22m\u001b[90mmodkey\u001b[39m::\u001b[0mBase.PkgId\u001b[0m\u001b[1m)\u001b[22m\n",
      "\u001b[33m\u001b[1m│ \u001b[22m\u001b[39m   \u001b[90m    @ \u001b[39m\u001b[90mBase\u001b[39m \u001b[90m.\\\u001b[39m\u001b[90m\u001b[4mloading.jl:869\u001b[24m\u001b[39m\n",
      "\u001b[33m\u001b[1m│ \u001b[22m\u001b[39m    [22] \u001b[0m\u001b[1m_tryrequire_from_serialized\u001b[22m\u001b[0m\u001b[1m(\u001b[22m\u001b[90mmodkey\u001b[39m::\u001b[0mBase.PkgId, \u001b[90mpath\u001b[39m::\u001b[0mString, \u001b[90msourcepath\u001b[39m::\u001b[0mString, \u001b[90mdepmods\u001b[39m::\u001b[0mVector\u001b[90m{Any}\u001b[39m\u001b[0m\u001b[1m)\u001b[22m\n",
      "\u001b[33m\u001b[1m│ \u001b[22m\u001b[39m   \u001b[90m    @ \u001b[39m\u001b[90mBase\u001b[39m \u001b[90m.\\\u001b[39m\u001b[90m\u001b[4mloading.jl:944\u001b[24m\u001b[39m\n",
      "\u001b[33m\u001b[1m│ \u001b[22m\u001b[39m    [23] \u001b[0m\u001b[1m_require_search_from_serialized\u001b[22m\u001b[0m\u001b[1m(\u001b[22m\u001b[90mpkg\u001b[39m::\u001b[0mBase.PkgId, \u001b[90msourcepath\u001b[39m::\u001b[0mString, \u001b[90mbuild_id\u001b[39m::\u001b[0mUInt64\u001b[0m\u001b[1m)\u001b[22m\n",
      "\u001b[33m\u001b[1m│ \u001b[22m\u001b[39m   \u001b[90m    @ \u001b[39m\u001b[90mBase\u001b[39m \u001b[90m.\\\u001b[39m\u001b[90m\u001b[4mloading.jl:1028\u001b[24m\u001b[39m\n",
      "\u001b[33m\u001b[1m│ \u001b[22m\u001b[39m    [24] \u001b[0m\u001b[1m_require\u001b[22m\u001b[0m\u001b[1m(\u001b[22m\u001b[90mpkg\u001b[39m::\u001b[0mBase.PkgId\u001b[0m\u001b[1m)\u001b[22m\n",
      "\u001b[33m\u001b[1m│ \u001b[22m\u001b[39m   \u001b[90m    @ \u001b[39m\u001b[90mBase\u001b[39m \u001b[90m.\\\u001b[39m\u001b[90m\u001b[4mloading.jl:1315\u001b[24m\u001b[39m\n",
      "\u001b[33m\u001b[1m│ \u001b[22m\u001b[39m    [25] \u001b[0m\u001b[1m_require_prelocked\u001b[22m\u001b[0m\u001b[1m(\u001b[22m\u001b[90muuidkey\u001b[39m::\u001b[0mBase.PkgId\u001b[0m\u001b[1m)\u001b[22m\n",
      "\u001b[33m\u001b[1m│ \u001b[22m\u001b[39m   \u001b[90m    @ \u001b[39m\u001b[90mBase\u001b[39m \u001b[90m.\\\u001b[39m\u001b[90m\u001b[4mloading.jl:1200\u001b[24m\u001b[39m\n",
      "\u001b[33m\u001b[1m│ \u001b[22m\u001b[39m    [26] \u001b[0m\u001b[1mmacro expansion\u001b[22m\n",
      "\u001b[33m\u001b[1m│ \u001b[22m\u001b[39m   \u001b[90m    @ \u001b[39m\u001b[90m.\\\u001b[39m\u001b[90m\u001b[4mloading.jl:1180\u001b[24m\u001b[39m\u001b[90m [inlined]\u001b[39m\n",
      "\u001b[33m\u001b[1m│ \u001b[22m\u001b[39m    [27] \u001b[0m\u001b[1mmacro expansion\u001b[22m\n",
      "\u001b[33m\u001b[1m│ \u001b[22m\u001b[39m   \u001b[90m    @ \u001b[39m\u001b[90m.\\\u001b[39m\u001b[90m\u001b[4mlock.jl:223\u001b[24m\u001b[39m\u001b[90m [inlined]\u001b[39m\n",
      "\u001b[33m\u001b[1m│ \u001b[22m\u001b[39m    [28] \u001b[0m\u001b[1mrequire\u001b[22m\u001b[0m\u001b[1m(\u001b[22m\u001b[90minto\u001b[39m::\u001b[0mModule, \u001b[90mmod\u001b[39m::\u001b[0mSymbol\u001b[0m\u001b[1m)\u001b[22m\n",
      "\u001b[33m\u001b[1m│ \u001b[22m\u001b[39m   \u001b[90m    @ \u001b[39m\u001b[90mBase\u001b[39m \u001b[90m.\\\u001b[39m\u001b[90m\u001b[4mloading.jl:1144\u001b[24m\u001b[39m\n",
      "\u001b[33m\u001b[1m│ \u001b[22m\u001b[39m    [29] \u001b[0m\u001b[1meval\u001b[22m\n",
      "\u001b[33m\u001b[1m│ \u001b[22m\u001b[39m   \u001b[90m    @ \u001b[39m\u001b[90m.\\\u001b[39m\u001b[90m\u001b[4mboot.jl:368\u001b[24m\u001b[39m\u001b[90m [inlined]\u001b[39m\n",
      "\u001b[33m\u001b[1m│ \u001b[22m\u001b[39m    [30] \u001b[0m\u001b[1minclude_string\u001b[22m\u001b[0m\u001b[1m(\u001b[22m\u001b[90mmapexpr\u001b[39m::\u001b[0mtypeof(REPL.softscope), \u001b[90mmod\u001b[39m::\u001b[0mModule, \u001b[90mcode\u001b[39m::\u001b[0mString, \u001b[90mfilename\u001b[39m::\u001b[0mString\u001b[0m\u001b[1m)\u001b[22m\n",
      "\u001b[33m\u001b[1m│ \u001b[22m\u001b[39m   \u001b[90m    @ \u001b[39m\u001b[90mBase\u001b[39m \u001b[90m.\\\u001b[39m\u001b[90m\u001b[4mloading.jl:1428\u001b[24m\u001b[39m\n",
      "\u001b[33m\u001b[1m│ \u001b[22m\u001b[39m    [31] \u001b[0m\u001b[1msoftscope_include_string\u001b[22m\u001b[0m\u001b[1m(\u001b[22m\u001b[90mm\u001b[39m::\u001b[0mModule, \u001b[90mcode\u001b[39m::\u001b[0mString, \u001b[90mfilename\u001b[39m::\u001b[0mString\u001b[0m\u001b[1m)\u001b[22m\n",
      "\u001b[33m\u001b[1m│ \u001b[22m\u001b[39m   \u001b[90m    @ \u001b[39m\u001b[32mSoftGlobalScope\u001b[39m \u001b[90mC:\\Users\\ChemeGrad2021\\.julia\\packages\\SoftGlobalScope\\u4UzH\\src\\\u001b[39m\u001b[90m\u001b[4mSoftGlobalScope.jl:65\u001b[24m\u001b[39m\n",
      "\u001b[33m\u001b[1m│ \u001b[22m\u001b[39m    [32] \u001b[0m\u001b[1mexecute_request\u001b[22m\u001b[0m\u001b[1m(\u001b[22m\u001b[90msocket\u001b[39m::\u001b[0mZMQ.Socket, \u001b[90mmsg\u001b[39m::\u001b[0mIJulia.Msg\u001b[0m\u001b[1m)\u001b[22m\n",
      "\u001b[33m\u001b[1m│ \u001b[22m\u001b[39m   \u001b[90m    @ \u001b[39m\u001b[33mIJulia\u001b[39m \u001b[90mC:\\Users\\ChemeGrad2021\\.julia\\packages\\IJulia\\6TIq1\\src\\\u001b[39m\u001b[90m\u001b[4mexecute_request.jl:67\u001b[24m\u001b[39m\n",
      "\u001b[33m\u001b[1m│ \u001b[22m\u001b[39m    [33] \u001b[0m\u001b[1m#invokelatest#2\u001b[22m\n",
      "\u001b[33m\u001b[1m│ \u001b[22m\u001b[39m   \u001b[90m    @ \u001b[39m\u001b[90m.\\\u001b[39m\u001b[90m\u001b[4messentials.jl:729\u001b[24m\u001b[39m\u001b[90m [inlined]\u001b[39m\n",
      "\u001b[33m\u001b[1m│ \u001b[22m\u001b[39m    [34] \u001b[0m\u001b[1minvokelatest\u001b[22m\n",
      "\u001b[33m\u001b[1m│ \u001b[22m\u001b[39m   \u001b[90m    @ \u001b[39m\u001b[90m.\\\u001b[39m\u001b[90m\u001b[4messentials.jl:726\u001b[24m\u001b[39m\u001b[90m [inlined]\u001b[39m\n",
      "\u001b[33m\u001b[1m│ \u001b[22m\u001b[39m    [35] \u001b[0m\u001b[1meventloop\u001b[22m\u001b[0m\u001b[1m(\u001b[22m\u001b[90msocket\u001b[39m::\u001b[0mZMQ.Socket\u001b[0m\u001b[1m)\u001b[22m\n",
      "\u001b[33m\u001b[1m│ \u001b[22m\u001b[39m   \u001b[90m    @ \u001b[39m\u001b[33mIJulia\u001b[39m \u001b[90mC:\\Users\\ChemeGrad2021\\.julia\\packages\\IJulia\\6TIq1\\src\\\u001b[39m\u001b[90m\u001b[4meventloop.jl:8\u001b[24m\u001b[39m\n",
      "\u001b[33m\u001b[1m│ \u001b[22m\u001b[39m    [36] \u001b[0m\u001b[1m(::IJulia.var\"#15#18\")\u001b[22m\u001b[0m\u001b[1m(\u001b[22m\u001b[0m\u001b[1m)\u001b[22m\n",
      "\u001b[33m\u001b[1m│ \u001b[22m\u001b[39m   \u001b[90m    @ \u001b[39m\u001b[33mIJulia\u001b[39m \u001b[90m.\\\u001b[39m\u001b[90m\u001b[4mtask.jl:484\u001b[24m\u001b[39m\n",
      "\u001b[33m\u001b[1m│ \u001b[22m\u001b[39m   in expression starting at C:\\Users\\ChemeGrad2021\\.julia\\packages\\DiffEqBase\\VDPJ8\\ext\\DiffEqBaseReverseDiffExt.jl:1\n",
      "\u001b[33m\u001b[1m└ \u001b[22m\u001b[39m\u001b[90m@ Requires C:\\Users\\ChemeGrad2021\\.julia\\packages\\Requires\\Z8rfN\\src\\require.jl:51\u001b[39m\n"
     ]
    },
    {
     "data": {
      "text/plain": [
       "0.0f0:0.03448276f0:1.0f0"
      ]
     },
     "execution_count": 3,
     "metadata": {},
     "output_type": "execute_result"
    }
   ],
   "source": [
    "using Plots, Statistics\n",
    "using Flux, DiffEqFlux, StochasticDiffEq, DiffEqBase.EnsembleAnalysis\n",
    "\n",
    "u0 = Float32[2.; 0.]\n",
    "datasize = 30\n",
    "tspan = (0.0f0, 1.0f0)\n",
    "tsteps = range(tspan[1], tspan[2], length = datasize)"
   ]
  },
  {
   "cell_type": "markdown",
   "id": "08fb3ed4",
   "metadata": {},
   "source": [
    "A stochastic differential equation can be written as\n",
    "$$dx = f(t,x)dt+g(t,x)dW$$\n",
    "Where x is Nx1, f is Nx1, W is a set of brownian noise processes of dimension Px1, and g is accordingly a matrix of size NxP. The cell below generates training data and defines the functions f and g respectively. One important note: a common assumption for modeling these systems is to have each differential variable have its own associated noise component. Mathematically, this means that N=P and g is a diagonal matrix. This explains why true_noise_func produces only a vector as a shorthand.\n",
    "\n",
    "Our project is based around assuming structure in g, so we will not be doing this. "
   ]
  },
  {
   "cell_type": "code",
   "execution_count": 4,
   "id": "76f66e92",
   "metadata": {},
   "outputs": [],
   "source": [
    "function trueSDEfunc(du, u, p, t)\n",
    "    true_A = [-0.1 2.0; -2.0 -0.1]\n",
    "    du .= ((u.^3)'true_A)'\n",
    "end\n",
    "\n",
    "mp = Float32[0.2, 0.2]\n",
    "function true_noise_func(du, u, p, t)\n",
    "    du .= mp.*u\n",
    "end\n",
    "\n",
    "prob_truesde = SDEProblem(trueSDEfunc, true_noise_func, u0, tspan)\n",
    "nothing"
   ]
  },
  {
   "cell_type": "markdown",
   "id": "f2b98462",
   "metadata": {},
   "source": [
    "Plotting some individual curves just for fun"
   ]
  },
  {
   "cell_type": "code",
   "execution_count": 5,
   "id": "a4d50a1b",
   "metadata": {
    "scrolled": true
   },
   "outputs": [
    {
     "data": {
      "image/svg+xml": [
       "<?xml version=\"1.0\" encoding=\"utf-8\"?>\n",
       "<svg xmlns=\"http://www.w3.org/2000/svg\" xmlns:xlink=\"http://www.w3.org/1999/xlink\" width=\"600\" height=\"400\" viewBox=\"0 0 2400 1600\">\n",
       "<defs>\n",
       "  <clipPath id=\"clip260\">\n",
       "    <rect x=\"0\" y=\"0\" width=\"2400\" height=\"1600\"/>\n",
       "  </clipPath>\n",
       "</defs>\n",
       "<path clip-path=\"url(#clip260)\" d=\"\n",
       "M0 1600 L2400 1600 L2400 0 L0 0  Z\n",
       "  \" fill=\"#ffffff\" fill-rule=\"evenodd\" fill-opacity=\"1\"/>\n",
       "<defs>\n",
       "  <clipPath id=\"clip261\">\n",
       "    <rect x=\"480\" y=\"0\" width=\"1681\" height=\"1600\"/>\n",
       "  </clipPath>\n",
       "</defs>\n",
       "<path clip-path=\"url(#clip260)\" d=\"\n",
       "M147.478 1423.18 L2352.76 1423.18 L2352.76 47.2441 L147.478 47.2441  Z\n",
       "  \" fill=\"#ffffff\" fill-rule=\"evenodd\" fill-opacity=\"1\"/>\n",
       "<defs>\n",
       "  <clipPath id=\"clip262\">\n",
       "    <rect x=\"147\" y=\"47\" width=\"2206\" height=\"1377\"/>\n",
       "  </clipPath>\n",
       "</defs>\n",
       "<polyline clip-path=\"url(#clip262)\" style=\"stroke:#000000; stroke-linecap:round; stroke-linejoin:round; stroke-width:2; stroke-opacity:0.1; fill:none\" points=\"\n",
       "  147.478,1423.18 147.478,47.2441 \n",
       "  \"/>\n",
       "<polyline clip-path=\"url(#clip262)\" style=\"stroke:#000000; stroke-linecap:round; stroke-linejoin:round; stroke-width:2; stroke-opacity:0.1; fill:none\" points=\"\n",
       "  588.534,1423.18 588.534,47.2441 \n",
       "  \"/>\n",
       "<polyline clip-path=\"url(#clip262)\" style=\"stroke:#000000; stroke-linecap:round; stroke-linejoin:round; stroke-width:2; stroke-opacity:0.1; fill:none\" points=\"\n",
       "  1029.59,1423.18 1029.59,47.2441 \n",
       "  \"/>\n",
       "<polyline clip-path=\"url(#clip262)\" style=\"stroke:#000000; stroke-linecap:round; stroke-linejoin:round; stroke-width:2; stroke-opacity:0.1; fill:none\" points=\"\n",
       "  1470.64,1423.18 1470.64,47.2441 \n",
       "  \"/>\n",
       "<polyline clip-path=\"url(#clip262)\" style=\"stroke:#000000; stroke-linecap:round; stroke-linejoin:round; stroke-width:2; stroke-opacity:0.1; fill:none\" points=\"\n",
       "  1911.7,1423.18 1911.7,47.2441 \n",
       "  \"/>\n",
       "<polyline clip-path=\"url(#clip262)\" style=\"stroke:#000000; stroke-linecap:round; stroke-linejoin:round; stroke-width:2; stroke-opacity:0.1; fill:none\" points=\"\n",
       "  2352.76,1423.18 2352.76,47.2441 \n",
       "  \"/>\n",
       "<polyline clip-path=\"url(#clip260)\" style=\"stroke:#000000; stroke-linecap:round; stroke-linejoin:round; stroke-width:4; stroke-opacity:1; fill:none\" points=\"\n",
       "  147.478,1423.18 2352.76,1423.18 \n",
       "  \"/>\n",
       "<polyline clip-path=\"url(#clip260)\" style=\"stroke:#000000; stroke-linecap:round; stroke-linejoin:round; stroke-width:4; stroke-opacity:1; fill:none\" points=\"\n",
       "  147.478,1423.18 147.478,1404.28 \n",
       "  \"/>\n",
       "<polyline clip-path=\"url(#clip260)\" style=\"stroke:#000000; stroke-linecap:round; stroke-linejoin:round; stroke-width:4; stroke-opacity:1; fill:none\" points=\"\n",
       "  588.534,1423.18 588.534,1404.28 \n",
       "  \"/>\n",
       "<polyline clip-path=\"url(#clip260)\" style=\"stroke:#000000; stroke-linecap:round; stroke-linejoin:round; stroke-width:4; stroke-opacity:1; fill:none\" points=\"\n",
       "  1029.59,1423.18 1029.59,1404.28 \n",
       "  \"/>\n",
       "<polyline clip-path=\"url(#clip260)\" style=\"stroke:#000000; stroke-linecap:round; stroke-linejoin:round; stroke-width:4; stroke-opacity:1; fill:none\" points=\"\n",
       "  1470.64,1423.18 1470.64,1404.28 \n",
       "  \"/>\n",
       "<polyline clip-path=\"url(#clip260)\" style=\"stroke:#000000; stroke-linecap:round; stroke-linejoin:round; stroke-width:4; stroke-opacity:1; fill:none\" points=\"\n",
       "  1911.7,1423.18 1911.7,1404.28 \n",
       "  \"/>\n",
       "<polyline clip-path=\"url(#clip260)\" style=\"stroke:#000000; stroke-linecap:round; stroke-linejoin:round; stroke-width:4; stroke-opacity:1; fill:none\" points=\"\n",
       "  2352.76,1423.18 2352.76,1404.28 \n",
       "  \"/>\n",
       "<path clip-path=\"url(#clip260)\" d=\"M124.862 1454.1 Q121.251 1454.1 119.423 1457.66 Q117.617 1461.2 117.617 1468.33 Q117.617 1475.44 119.423 1479.01 Q121.251 1482.55 124.862 1482.55 Q128.497 1482.55 130.302 1479.01 Q132.131 1475.44 132.131 1468.33 Q132.131 1461.2 130.302 1457.66 Q128.497 1454.1 124.862 1454.1 M124.862 1450.39 Q130.672 1450.39 133.728 1455 Q136.807 1459.58 136.807 1468.33 Q136.807 1477.06 133.728 1481.67 Q130.672 1486.25 124.862 1486.25 Q119.052 1486.25 115.973 1481.67 Q112.918 1477.06 112.918 1468.33 Q112.918 1459.58 115.973 1455 Q119.052 1450.39 124.862 1450.39 Z\" fill=\"#000000\" fill-rule=\"evenodd\" fill-opacity=\"1\" /><path clip-path=\"url(#clip260)\" d=\"M145.024 1479.7 L149.908 1479.7 L149.908 1485.58 L145.024 1485.58 L145.024 1479.7 Z\" fill=\"#000000\" fill-rule=\"evenodd\" fill-opacity=\"1\" /><path clip-path=\"url(#clip260)\" d=\"M170.094 1454.1 Q166.482 1454.1 164.654 1457.66 Q162.848 1461.2 162.848 1468.33 Q162.848 1475.44 164.654 1479.01 Q166.482 1482.55 170.094 1482.55 Q173.728 1482.55 175.533 1479.01 Q177.362 1475.44 177.362 1468.33 Q177.362 1461.2 175.533 1457.66 Q173.728 1454.1 170.094 1454.1 M170.094 1450.39 Q175.904 1450.39 178.959 1455 Q182.038 1459.58 182.038 1468.33 Q182.038 1477.06 178.959 1481.67 Q175.904 1486.25 170.094 1486.25 Q164.283 1486.25 161.205 1481.67 Q158.149 1477.06 158.149 1468.33 Q158.149 1459.58 161.205 1455 Q164.283 1450.39 170.094 1450.39 Z\" fill=\"#000000\" fill-rule=\"evenodd\" fill-opacity=\"1\" /><path clip-path=\"url(#clip260)\" d=\"M566.716 1454.1 Q563.105 1454.1 561.277 1457.66 Q559.471 1461.2 559.471 1468.33 Q559.471 1475.44 561.277 1479.01 Q563.105 1482.55 566.716 1482.55 Q570.351 1482.55 572.156 1479.01 Q573.985 1475.44 573.985 1468.33 Q573.985 1461.2 572.156 1457.66 Q570.351 1454.1 566.716 1454.1 M566.716 1450.39 Q572.527 1450.39 575.582 1455 Q578.661 1459.58 578.661 1468.33 Q578.661 1477.06 575.582 1481.67 Q572.527 1486.25 566.716 1486.25 Q560.906 1486.25 557.828 1481.67 Q554.772 1477.06 554.772 1468.33 Q554.772 1459.58 557.828 1455 Q560.906 1450.39 566.716 1450.39 Z\" fill=\"#000000\" fill-rule=\"evenodd\" fill-opacity=\"1\" /><path clip-path=\"url(#clip260)\" d=\"M586.878 1479.7 L591.763 1479.7 L591.763 1485.58 L586.878 1485.58 L586.878 1479.7 Z\" fill=\"#000000\" fill-rule=\"evenodd\" fill-opacity=\"1\" /><path clip-path=\"url(#clip260)\" d=\"M605.976 1481.64 L622.295 1481.64 L622.295 1485.58 L600.351 1485.58 L600.351 1481.64 Q603.013 1478.89 607.596 1474.26 Q612.202 1469.61 613.383 1468.27 Q615.628 1465.74 616.508 1464.01 Q617.411 1462.25 617.411 1460.56 Q617.411 1457.8 615.466 1456.07 Q613.545 1454.33 610.443 1454.33 Q608.244 1454.33 605.79 1455.09 Q603.36 1455.86 600.582 1457.41 L600.582 1452.69 Q603.406 1451.55 605.86 1450.97 Q608.313 1450.39 610.351 1450.39 Q615.721 1450.39 618.915 1453.08 Q622.11 1455.77 622.11 1460.26 Q622.11 1462.39 621.3 1464.31 Q620.513 1466.2 618.406 1468.8 Q617.827 1469.47 614.726 1472.69 Q611.624 1475.88 605.976 1481.64 Z\" fill=\"#000000\" fill-rule=\"evenodd\" fill-opacity=\"1\" /><path clip-path=\"url(#clip260)\" d=\"M1006.73 1454.1 Q1003.12 1454.1 1001.29 1457.66 Q999.485 1461.2 999.485 1468.33 Q999.485 1475.44 1001.29 1479.01 Q1003.12 1482.55 1006.73 1482.55 Q1010.36 1482.55 1012.17 1479.01 Q1014 1475.44 1014 1468.33 Q1014 1461.2 1012.17 1457.66 Q1010.36 1454.1 1006.73 1454.1 M1006.73 1450.39 Q1012.54 1450.39 1015.6 1455 Q1018.67 1459.58 1018.67 1468.33 Q1018.67 1477.06 1015.6 1481.67 Q1012.54 1486.25 1006.73 1486.25 Q1000.92 1486.25 997.842 1481.67 Q994.786 1477.06 994.786 1468.33 Q994.786 1459.58 997.842 1455 Q1000.92 1450.39 1006.73 1450.39 Z\" fill=\"#000000\" fill-rule=\"evenodd\" fill-opacity=\"1\" /><path clip-path=\"url(#clip260)\" d=\"M1026.89 1479.7 L1031.78 1479.7 L1031.78 1485.58 L1026.89 1485.58 L1026.89 1479.7 Z\" fill=\"#000000\" fill-rule=\"evenodd\" fill-opacity=\"1\" /><path clip-path=\"url(#clip260)\" d=\"M1054.81 1455.09 L1043 1473.54 L1054.81 1473.54 L1054.81 1455.09 M1053.58 1451.02 L1059.46 1451.02 L1059.46 1473.54 L1064.39 1473.54 L1064.39 1477.43 L1059.46 1477.43 L1059.46 1485.58 L1054.81 1485.58 L1054.81 1477.43 L1039.21 1477.43 L1039.21 1472.92 L1053.58 1451.02 Z\" fill=\"#000000\" fill-rule=\"evenodd\" fill-opacity=\"1\" /><path clip-path=\"url(#clip260)\" d=\"M1447.95 1454.1 Q1444.34 1454.1 1442.51 1457.66 Q1440.7 1461.2 1440.7 1468.33 Q1440.7 1475.44 1442.51 1479.01 Q1444.34 1482.55 1447.95 1482.55 Q1451.58 1482.55 1453.39 1479.01 Q1455.22 1475.44 1455.22 1468.33 Q1455.22 1461.2 1453.39 1457.66 Q1451.58 1454.1 1447.95 1454.1 M1447.95 1450.39 Q1453.76 1450.39 1456.81 1455 Q1459.89 1459.58 1459.89 1468.33 Q1459.89 1477.06 1456.81 1481.67 Q1453.76 1486.25 1447.95 1486.25 Q1442.14 1486.25 1439.06 1481.67 Q1436 1477.06 1436 1468.33 Q1436 1459.58 1439.06 1455 Q1442.14 1450.39 1447.95 1450.39 Z\" fill=\"#000000\" fill-rule=\"evenodd\" fill-opacity=\"1\" /><path clip-path=\"url(#clip260)\" d=\"M1468.11 1479.7 L1472.99 1479.7 L1472.99 1485.58 L1468.11 1485.58 L1468.11 1479.7 Z\" fill=\"#000000\" fill-rule=\"evenodd\" fill-opacity=\"1\" /><path clip-path=\"url(#clip260)\" d=\"M1493.76 1466.44 Q1490.61 1466.44 1488.76 1468.59 Q1486.93 1470.74 1486.93 1474.49 Q1486.93 1478.22 1488.76 1480.39 Q1490.61 1482.55 1493.76 1482.55 Q1496.91 1482.55 1498.73 1480.39 Q1500.59 1478.22 1500.59 1474.49 Q1500.59 1470.74 1498.73 1468.59 Q1496.91 1466.44 1493.76 1466.44 M1503.04 1451.78 L1503.04 1456.04 Q1501.28 1455.21 1499.48 1454.77 Q1497.69 1454.33 1495.93 1454.33 Q1491.3 1454.33 1488.85 1457.45 Q1486.42 1460.58 1486.07 1466.9 Q1487.44 1464.89 1489.5 1463.82 Q1491.56 1462.73 1494.04 1462.73 Q1499.24 1462.73 1502.25 1465.9 Q1505.29 1469.05 1505.29 1474.49 Q1505.29 1479.82 1502.14 1483.03 Q1498.99 1486.25 1493.76 1486.25 Q1487.76 1486.25 1484.59 1481.67 Q1481.42 1477.06 1481.42 1468.33 Q1481.42 1460.14 1485.31 1455.28 Q1489.2 1450.39 1495.75 1450.39 Q1497.51 1450.39 1499.29 1450.74 Q1501.1 1451.09 1503.04 1451.78 Z\" fill=\"#000000\" fill-rule=\"evenodd\" fill-opacity=\"1\" /><path clip-path=\"url(#clip260)\" d=\"M1889.13 1454.1 Q1885.52 1454.1 1883.69 1457.66 Q1881.89 1461.2 1881.89 1468.33 Q1881.89 1475.44 1883.69 1479.01 Q1885.52 1482.55 1889.13 1482.55 Q1892.77 1482.55 1894.57 1479.01 Q1896.4 1475.44 1896.4 1468.33 Q1896.4 1461.2 1894.57 1457.66 Q1892.77 1454.1 1889.13 1454.1 M1889.13 1450.39 Q1894.94 1450.39 1898 1455 Q1901.08 1459.58 1901.08 1468.33 Q1901.08 1477.06 1898 1481.67 Q1894.94 1486.25 1889.13 1486.25 Q1883.32 1486.25 1880.24 1481.67 Q1877.19 1477.06 1877.19 1468.33 Q1877.19 1459.58 1880.24 1455 Q1883.32 1450.39 1889.13 1450.39 Z\" fill=\"#000000\" fill-rule=\"evenodd\" fill-opacity=\"1\" /><path clip-path=\"url(#clip260)\" d=\"M1909.29 1479.7 L1914.18 1479.7 L1914.18 1485.58 L1909.29 1485.58 L1909.29 1479.7 Z\" fill=\"#000000\" fill-rule=\"evenodd\" fill-opacity=\"1\" /><path clip-path=\"url(#clip260)\" d=\"M1934.36 1469.17 Q1931.03 1469.17 1929.11 1470.95 Q1927.21 1472.73 1927.21 1475.86 Q1927.21 1478.98 1929.11 1480.77 Q1931.03 1482.55 1934.36 1482.55 Q1937.7 1482.55 1939.62 1480.77 Q1941.54 1478.96 1941.54 1475.86 Q1941.54 1472.73 1939.62 1470.95 Q1937.72 1469.17 1934.36 1469.17 M1929.69 1467.18 Q1926.68 1466.44 1924.99 1464.38 Q1923.32 1462.32 1923.32 1459.35 Q1923.32 1455.21 1926.26 1452.8 Q1929.22 1450.39 1934.36 1450.39 Q1939.52 1450.39 1942.46 1452.8 Q1945.4 1455.21 1945.4 1459.35 Q1945.4 1462.32 1943.71 1464.38 Q1942.05 1466.44 1939.06 1467.18 Q1942.44 1467.96 1944.32 1470.26 Q1946.21 1472.55 1946.21 1475.86 Q1946.21 1480.88 1943.14 1483.57 Q1940.08 1486.25 1934.36 1486.25 Q1928.64 1486.25 1925.57 1483.57 Q1922.51 1480.88 1922.51 1475.86 Q1922.51 1472.55 1924.41 1470.26 Q1926.31 1467.96 1929.69 1467.18 M1927.97 1459.79 Q1927.97 1462.48 1929.64 1463.98 Q1931.33 1465.49 1934.36 1465.49 Q1937.37 1465.49 1939.06 1463.98 Q1940.77 1462.48 1940.77 1459.79 Q1940.77 1457.11 1939.06 1455.6 Q1937.37 1454.1 1934.36 1454.1 Q1931.33 1454.1 1929.64 1455.6 Q1927.97 1457.11 1927.97 1459.79 Z\" fill=\"#000000\" fill-rule=\"evenodd\" fill-opacity=\"1\" /><path clip-path=\"url(#clip260)\" d=\"M2319.91 1481.64 L2327.55 1481.64 L2327.55 1455.28 L2319.24 1456.95 L2319.24 1452.69 L2327.5 1451.02 L2332.18 1451.02 L2332.18 1481.64 L2339.82 1481.64 L2339.82 1485.58 L2319.91 1485.58 L2319.91 1481.64 Z\" fill=\"#000000\" fill-rule=\"evenodd\" fill-opacity=\"1\" /><path clip-path=\"url(#clip260)\" d=\"M2349.26 1479.7 L2354.14 1479.7 L2354.14 1485.58 L2349.26 1485.58 L2349.26 1479.7 Z\" fill=\"#000000\" fill-rule=\"evenodd\" fill-opacity=\"1\" /><path clip-path=\"url(#clip260)\" d=\"M2374.33 1454.1 Q2370.72 1454.1 2368.89 1457.66 Q2367.08 1461.2 2367.08 1468.33 Q2367.08 1475.44 2368.89 1479.01 Q2370.72 1482.55 2374.33 1482.55 Q2377.96 1482.55 2379.77 1479.01 Q2381.6 1475.44 2381.6 1468.33 Q2381.6 1461.2 2379.77 1457.66 Q2377.96 1454.1 2374.33 1454.1 M2374.33 1450.39 Q2380.14 1450.39 2383.2 1455 Q2386.27 1459.58 2386.27 1468.33 Q2386.27 1477.06 2383.2 1481.67 Q2380.14 1486.25 2374.33 1486.25 Q2368.52 1486.25 2365.44 1481.67 Q2362.39 1477.06 2362.39 1468.33 Q2362.39 1459.58 2365.44 1455 Q2368.52 1450.39 2374.33 1450.39 Z\" fill=\"#000000\" fill-rule=\"evenodd\" fill-opacity=\"1\" /><path clip-path=\"url(#clip260)\" d=\"M1249.18 1522.27 L1249.18 1532.4 L1261.24 1532.4 L1261.24 1536.95 L1249.18 1536.95 L1249.18 1556.3 Q1249.18 1560.66 1250.36 1561.9 Q1251.57 1563.14 1255.23 1563.14 L1261.24 1563.14 L1261.24 1568.04 L1255.23 1568.04 Q1248.45 1568.04 1245.87 1565.53 Q1243.29 1562.98 1243.29 1556.3 L1243.29 1536.95 L1238.99 1536.95 L1238.99 1532.4 L1243.29 1532.4 L1243.29 1522.27 L1249.18 1522.27 Z\" fill=\"#000000\" fill-rule=\"evenodd\" fill-opacity=\"1\" /><polyline clip-path=\"url(#clip262)\" style=\"stroke:#000000; stroke-linecap:round; stroke-linejoin:round; stroke-width:2; stroke-opacity:0.1; fill:none\" points=\"\n",
       "  147.478,1186.47 2352.76,1186.47 \n",
       "  \"/>\n",
       "<polyline clip-path=\"url(#clip262)\" style=\"stroke:#000000; stroke-linecap:round; stroke-linejoin:round; stroke-width:2; stroke-opacity:0.1; fill:none\" points=\"\n",
       "  147.478,825.458 2352.76,825.458 \n",
       "  \"/>\n",
       "<polyline clip-path=\"url(#clip262)\" style=\"stroke:#000000; stroke-linecap:round; stroke-linejoin:round; stroke-width:2; stroke-opacity:0.1; fill:none\" points=\"\n",
       "  147.478,464.443 2352.76,464.443 \n",
       "  \"/>\n",
       "<polyline clip-path=\"url(#clip262)\" style=\"stroke:#000000; stroke-linecap:round; stroke-linejoin:round; stroke-width:2; stroke-opacity:0.1; fill:none\" points=\"\n",
       "  147.478,103.429 2352.76,103.429 \n",
       "  \"/>\n",
       "<polyline clip-path=\"url(#clip260)\" style=\"stroke:#000000; stroke-linecap:round; stroke-linejoin:round; stroke-width:4; stroke-opacity:1; fill:none\" points=\"\n",
       "  147.478,1423.18 147.478,47.2441 \n",
       "  \"/>\n",
       "<polyline clip-path=\"url(#clip260)\" style=\"stroke:#000000; stroke-linecap:round; stroke-linejoin:round; stroke-width:4; stroke-opacity:1; fill:none\" points=\"\n",
       "  147.478,1186.47 166.376,1186.47 \n",
       "  \"/>\n",
       "<polyline clip-path=\"url(#clip260)\" style=\"stroke:#000000; stroke-linecap:round; stroke-linejoin:round; stroke-width:4; stroke-opacity:1; fill:none\" points=\"\n",
       "  147.478,825.458 166.376,825.458 \n",
       "  \"/>\n",
       "<polyline clip-path=\"url(#clip260)\" style=\"stroke:#000000; stroke-linecap:round; stroke-linejoin:round; stroke-width:4; stroke-opacity:1; fill:none\" points=\"\n",
       "  147.478,464.443 166.376,464.443 \n",
       "  \"/>\n",
       "<polyline clip-path=\"url(#clip260)\" style=\"stroke:#000000; stroke-linecap:round; stroke-linejoin:round; stroke-width:4; stroke-opacity:1; fill:none\" points=\"\n",
       "  147.478,103.429 166.376,103.429 \n",
       "  \"/>\n",
       "<path clip-path=\"url(#clip260)\" d=\"M50.9921 1186.92 L80.6679 1186.92 L80.6679 1190.86 L50.9921 1190.86 L50.9921 1186.92 Z\" fill=\"#000000\" fill-rule=\"evenodd\" fill-opacity=\"1\" /><path clip-path=\"url(#clip260)\" d=\"M91.5706 1199.82 L99.2095 1199.82 L99.2095 1173.45 L90.8993 1175.12 L90.8993 1170.86 L99.1632 1169.19 L103.839 1169.19 L103.839 1199.82 L111.478 1199.82 L111.478 1203.75 L91.5706 1203.75 L91.5706 1199.82 Z\" fill=\"#000000\" fill-rule=\"evenodd\" fill-opacity=\"1\" /><path clip-path=\"url(#clip260)\" d=\"M99.5335 811.256 Q95.9224 811.256 94.0937 814.821 Q92.2882 818.363 92.2882 825.492 Q92.2882 832.599 94.0937 836.164 Q95.9224 839.705 99.5335 839.705 Q103.168 839.705 104.973 836.164 Q106.802 832.599 106.802 825.492 Q106.802 818.363 104.973 814.821 Q103.168 811.256 99.5335 811.256 M99.5335 807.553 Q105.344 807.553 108.399 812.159 Q111.478 816.743 111.478 825.492 Q111.478 834.219 108.399 838.826 Q105.344 843.409 99.5335 843.409 Q93.7234 843.409 90.6447 838.826 Q87.5892 834.219 87.5892 825.492 Q87.5892 816.743 90.6447 812.159 Q93.7234 807.553 99.5335 807.553 Z\" fill=\"#000000\" fill-rule=\"evenodd\" fill-opacity=\"1\" /><path clip-path=\"url(#clip260)\" d=\"M91.5706 477.788 L99.2095 477.788 L99.2095 451.422 L90.8993 453.089 L90.8993 448.83 L99.1632 447.163 L103.839 447.163 L103.839 477.788 L111.478 477.788 L111.478 481.723 L91.5706 481.723 L91.5706 477.788 Z\" fill=\"#000000\" fill-rule=\"evenodd\" fill-opacity=\"1\" /><path clip-path=\"url(#clip260)\" d=\"M95.1586 116.773 L111.478 116.773 L111.478 120.709 L89.5336 120.709 L89.5336 116.773 Q92.1956 114.019 96.7789 109.389 Q101.385 104.736 102.566 103.394 Q104.811 100.871 105.691 99.1346 Q106.594 97.3754 106.594 95.6856 Q106.594 92.931 104.649 91.1949 Q102.728 89.4588 99.6261 89.4588 Q97.4271 89.4588 94.9734 90.2226 Q92.5428 90.9865 89.7651 92.5374 L89.7651 87.8153 Q92.5891 86.681 95.0428 86.1023 Q97.4965 85.5236 99.5335 85.5236 Q104.904 85.5236 108.098 88.2088 Q111.293 90.8939 111.293 95.3847 Q111.293 97.5143 110.483 99.4356 Q109.696 101.334 107.589 103.926 Q107.01 104.598 103.909 107.815 Q100.807 111.01 95.1586 116.773 Z\" fill=\"#000000\" fill-rule=\"evenodd\" fill-opacity=\"1\" /><polyline clip-path=\"url(#clip262)\" style=\"stroke:#009af9; stroke-linecap:round; stroke-linejoin:round; stroke-width:4; stroke-opacity:1; fill:none\" points=\"\n",
       "  147.478,103.429 147.857,93.1452 147.933,93.0731 148.019,92.2966 148.115,91.1165 148.223,91.7894 148.344,90.5118 148.481,92.417 148.634,91.9253 148.801,92.1896 \n",
       "  148.982,93.095 149.175,93.2385 149.38,92.6237 149.595,94.277 149.818,93.8048 150.05,93.574 150.289,93.5154 150.535,95.0302 150.786,95.5996 151.042,96.1189 \n",
       "  151.303,96.2619 151.568,96.6078 151.837,95.0994 152.109,94.5641 152.383,95.3392 152.659,95.9439 152.938,93.8435 153.219,93.3939 153.5,96.1543 153.783,94.962 \n",
       "  154.068,97.0882 154.354,97.9477 154.642,97.8625 154.932,98.6634 155.223,97.3959 155.516,95.9852 155.809,94.141 156.102,94.5856 156.395,94.4943 156.69,94.1085 \n",
       "  156.984,93.4115 157.279,93.7291 157.574,93.7259 157.87,90.2486 158.166,92.1113 158.461,92.7468 158.758,93.7757 159.055,95.1166 159.354,94.7144 159.653,93.2815 \n",
       "  159.953,91.9045 160.253,92.7664 160.553,91.1941 160.854,89.4935 161.155,87.973 161.455,86.1857 161.754,88.614 162.053,91.9373 162.354,89.7796 162.656,88.9617 \n",
       "  162.958,91.8949 163.261,91.1958 163.565,90.8226 163.87,92.7532 164.175,92.1399 164.482,93.7682 164.789,91.3279 165.098,93.2432 165.406,95.5823 165.717,98.325 \n",
       "  166.03,98.7023 166.345,98.1201 166.662,97.4353 166.98,96.5414 167.298,98.3769 167.617,97.03 167.937,95.4684 168.258,96.3852 168.579,94.5251 168.901,91.0993 \n",
       "  169.222,91.6583 169.543,95.228 169.865,96.4195 170.188,98.3506 170.514,97.7782 170.841,102.429 171.169,100.331 171.5,101.678 171.831,101.153 172.164,99.7474 \n",
       "  172.499,99.7406 172.833,97.069 173.168,99.7428 173.504,101.761 173.841,104.642 174.181,103.629 174.522,102.549 174.864,99.9817 175.207,98.4006 175.549,96.7351 \n",
       "  175.891,94.5617 176.232,97.8253 176.572,96.1617 176.915,97.9118 177.257,100.548 177.6,100.335 177.945,101.875 178.291,102.273 178.639,100.022 178.988,100.94 \n",
       "  179.336,100.735 179.686,101.504 180.037,102.024 180.389,101.285 180.742,101.742 181.096,101.284 181.45,100.976 181.805,103.228 182.161,102.956 182.519,102.161 \n",
       "  182.878,102.103 183.237,104.711 183.598,103.111 183.961,102.955 184.324,103.861 184.688,101.119 185.052,100.298 185.416,104.102 185.781,108.466 186.15,113.167 \n",
       "  186.522,113.401 186.898,114.471 187.275,117.12 187.656,113.299 188.04,112.679 188.423,112.357 188.808,111.032 189.193,112.434 189.579,115.179 189.968,117.079 \n",
       "  190.359,116.56 190.753,117.998 191.148,117.73 191.545,118.85 191.944,117.447 192.343,116.661 192.744,116.536 193.145,115.612 193.548,116.743 193.95,116.503 \n",
       "  194.354,116.029 194.759,114.127 195.165,112.242 195.569,112.108 195.974,110.247 196.378,109.832 196.781,114.371 197.185,115.128 197.593,115.852 198.001,118.497 \n",
       "  198.413,117.486 198.826,118.899 199.24,117.379 199.657,116.862 200.074,117.257 200.492,115.309 200.911,113.809 201.329,114.948 201.748,115.748 202.168,115.787 \n",
       "  202.59,113.048 203.011,111.784 203.431,112.505 203.852,115.38 204.273,116.154 204.696,116.238 205.122,116.437 205.547,116.969 205.975,116.949 206.403,116.675 \n",
       "  206.832,115.199 207.262,117.085 207.693,117.283 208.127,117.048 208.56,116.506 208.995,118.701 209.431,119.511 209.87,121.267 210.311,120.968 210.755,119.853 \n",
       "  211.201,116.846 211.646,114.29 212.09,114.812 212.534,112.35 212.978,113.709 213.421,116.483 213.865,115.609 214.312,117.855 214.759,117.755 215.209,116.755 \n",
       "  215.66,117.815 216.112,118.223 216.565,118.103 217.02,116.764 217.475,117.447 217.93,116.893 218.387,118.964 218.845,119.91 219.306,119.83 219.769,116.535 \n",
       "  220.232,120.647 220.695,120.956 221.162,120.331 221.631,117.802 222.1,117.979 222.569,121.35 223.04,123.973 223.514,120.972 223.992,119.279 224.467,119.328 \n",
       "  224.944,119.313 225.422,122.105 225.9,124.218 226.383,124.983 226.867,127.344 227.356,126.085 227.847,128.091 228.34,128.248 228.836,128.857 229.334,129.663 \n",
       "  229.834,130.298 230.338,130.8 230.844,130.108 231.352,130.115 231.861,130.459 232.371,131.417 232.883,133.161 233.398,133.807 233.917,133.622 234.437,136.378 \n",
       "  234.96,139.958 235.487,140.972 236.02,139.623 236.555,138.653 237.091,137.943 237.63,139.59 238.171,139.924 238.714,139.868 239.26,140.425 239.808,143.273 \n",
       "  240.358,141.986 240.914,141.895 241.469,145.851 242.029,143.723 242.594,144.647 243.158,145.379 243.726,147.05 244.297,148.258 244.871,147.62 245.45,148.514 \n",
       "  246.03,150.575 246.613,151.86 247.201,152.776 247.793,149.347 248.386,146.209 248.979,147.511 249.571,148.143 250.166,147.077 250.762,149.946 251.361,153.761 \n",
       "  251.964,150.917 252.571,148.768 253.178,151.817 253.786,155.195 254.399,153.41 255.017,155.821 255.635,156.672 256.259,155.98 256.886,153.615 257.512,155.044 \n",
       "  258.14,157.332 258.77,158.323 259.405,156.989 260.041,155.949 260.681,156.644 261.32,155.449 261.963,156.806 262.606,157.95 263.253,159.154 263.902,156.171 \n",
       "  264.553,159.131 265.203,154.852 265.856,152.979 266.505,152.841 267.154,155.678 267.804,155.253 268.456,157.796 269.109,159.685 269.765,156.187 270.425,155.379 \n",
       "  271.083,157.188 271.743,156.915 272.405,154.218 273.067,156.168 273.729,156.615 274.394,157.462 275.06,157.937 275.73,157.303 276.401,159.465 277.075,160.231 \n",
       "  277.753,159.452 278.432,158.676 279.113,159.796 279.796,159.285 280.482,161.384 281.169,159.651 281.858,154.868 282.546,154.977 283.229,154.611 283.914,154.31 \n",
       "  284.597,156.324 285.281,151.495 285.966,150.504 286.647,152.306 287.328,153.561 288.012,154.23 288.698,155.457 289.387,153.979 290.077,155.955 290.768,158.291 \n",
       "  291.464,159.698 292.165,159.507 292.869,160.009 293.575,164.899 294.286,164.5 295.005,167.191 295.726,164.105 296.453,162.789 297.18,167.961 297.91,168.227 \n",
       "  298.649,169.681 299.392,171.609 300.142,173.886 300.897,176.103 301.661,175.171 302.429,175.048 303.202,172.966 303.979,171.924 304.755,169.234 305.53,164.71 \n",
       "  306.305,162.049 307.075,163.268 307.841,166.856 308.61,164.133 309.384,168.301 310.155,171.451 310.936,173.199 311.72,177.718 312.511,179.916 313.313,180.149 \n",
       "  314.119,183.347 314.933,180.891 315.754,179.855 316.577,180.133 317.402,177.74 318.23,175.7 319.058,177.805 319.887,179.581 320.721,180.681 321.559,183.741 \n",
       "  322.402,181.695 323.252,182.504 324.103,180.301 324.957,178.908 325.808,180.514 326.664,181.441 327.522,182.288 328.383,180.127 329.247,180.651 330.11,183.131 \n",
       "  330.975,180.554 331.844,181.255 332.71,180.043 333.579,182.704 334.448,184.33 335.323,180.004 336.2,182.047 337.076,182.043 337.956,185.368 338.837,187.071 \n",
       "  339.723,186.402 340.615,187.225 341.509,188.72 342.408,189.096 343.31,189.686 344.216,191.729 345.126,195.199 346.041,199.036 346.966,200.221 347.901,203.392 \n",
       "  348.842,205.532 349.792,207.96 350.752,205.679 351.718,204.735 352.685,206.328 353.656,206.891 354.634,209.397 355.617,209.577 356.603,209.537 357.592,213.566 \n",
       "  358.588,214.761 359.589,217.071 360.595,212.91 361.607,214.441 362.616,218.945 363.632,218.198 364.654,219.058 365.676,220.537 366.706,217.058 367.736,215.393 \n",
       "  368.766,216.848 369.793,213.639 370.821,212.54 371.843,210.383 372.862,208.923 373.878,212.055 374.892,214.615 375.909,214.21 376.929,214.521 377.944,215.494 \n",
       "  378.962,215.494 379.978,216.383 380.994,223.136 382.016,224.976 383.042,226.554 384.073,225.19 385.104,226.435 386.135,228.849 387.17,228.584 388.211,228.683 \n",
       "  389.253,227.804 390.293,226.681 391.336,224.511 392.377,222.741 393.416,227.089 394.454,230.448 395.497,233.283 396.541,232.038 397.591,234.102 398.642,233.344 \n",
       "  399.695,234.655 400.747,240.337 401.803,245.154 402.868,249.121 403.941,249.854 405.018,253.908 406.1,253.132 407.192,252.606 408.285,249.039 409.379,246.367 \n",
       "  410.47,250.954 411.558,252.398 412.651,254.114 413.74,254.757 414.832,258.98 415.93,254.516 417.03,254.996 418.128,258.204 419.23,258.359 420.337,257.365 \n",
       "  421.442,259.49 422.545,264.015 423.652,269.324 424.768,268.606 425.886,264.802 427.004,269.442 428.124,272.268 429.242,273.924 430.353,278.032 431.464,283.287 \n",
       "  432.574,280.681 433.685,283.4 434.799,287.691 435.914,290.041 437.028,291.867 438.142,297.417 439.255,297.753 440.365,296.533 441.471,298.376 442.576,297.327 \n",
       "  443.681,296.238 444.789,292.495 445.896,294.796 446.992,296.956 448.088,296.844 449.185,299.405 450.278,302.307 451.364,303.44 452.444,303.902 453.519,304.677 \n",
       "  454.586,307.511 455.65,307.663 456.71,311.877 457.764,314.408 458.82,318.562 459.874,317.577 460.935,321.809 462.003,320.74 463.074,323.147 464.149,324.71 \n",
       "  465.23,324.161 466.304,326.362 467.378,329.406 468.461,328.72 469.543,332.152 470.624,336.515 471.705,337.774 472.788,338.351 473.875,338.078 474.961,336.651 \n",
       "  476.047,339.61 477.131,341.058 478.206,343.821 479.277,345.86 480.34,345.268 481.398,348.296 482.461,350.757 483.522,352.913 484.586,353.595 485.651,356.955 \n",
       "  486.722,362.31 487.787,366.971 488.851,368.825 489.918,371.554 490.987,373.126 492.055,373.264 493.13,375.649 494.201,375.696 495.278,377.295 496.358,373.417 \n",
       "  497.444,374.35 498.535,376.336 499.632,374.962 500.73,375.927 501.837,375.959 502.939,380.538 504.051,380.073 505.161,382.14 506.284,385.445 507.407,387.488 \n",
       "  508.532,390.612 509.659,390.217 510.785,392.021 511.911,394.9 513.034,392.565 514.157,394.468 515.277,402.751 516.393,403.696 517.506,402.501 518.607,407.65 \n",
       "  519.694,411.013 520.771,410.099 521.841,412.749 522.906,414.331 523.968,417.757 525.026,422.058 526.072,421.409 527.102,422.341 528.127,424.544 529.147,428.037 \n",
       "  530.154,428.502 531.163,430.637 532.156,435.2 533.146,435.658 534.132,436.926 535.109,441.486 536.078,443.813 537.041,442.094 538.002,442.122 538.964,445.588 \n",
       "  539.929,449.646 540.892,450.588 541.854,453.618 542.817,452.187 543.769,452.721 544.721,454.936 545.679,454.469 546.631,455.804 547.583,455.344 548.539,457.72 \n",
       "  549.502,458.719 550.47,460.897 551.445,463.071 552.425,463.698 553.412,464.29 554.404,464.89 555.406,463.663 556.414,465.749 557.421,466.155 558.426,470.33 \n",
       "  559.428,472.541 560.434,472.799 561.44,471.309 562.437,476.726 563.43,476.485 564.421,478.469 565.412,479.069 566.407,478.965 567.4,479.069 568.399,480.343 \n",
       "  569.396,481.939 570.395,484.895 571.392,484.126 572.392,486.528 573.393,487.852 574.4,489.733 575.41,491.696 576.417,491.633 577.423,491.702 578.423,495.671 \n",
       "  579.422,497.406 580.417,497.399 581.407,499.83 582.398,500.426 583.387,503.48 584.375,506.72 585.355,508.904 586.341,510.113 587.326,514.115 588.309,514.382 \n",
       "  589.295,514.194 590.278,515.877 591.264,516.434 592.253,517.029 593.238,518.016 594.228,520.479 595.224,519.996 596.223,521.175 597.221,524.085 598.215,523.266 \n",
       "  599.203,524.457 600.184,525.346 601.156,525.628 602.122,526.784 603.089,526.304 604.044,528.711 604.992,529.74 605.937,531.115 606.878,533.868 607.81,533.529 \n",
       "  608.736,533.579 609.655,536.349 610.567,537.859 611.479,540.544 612.391,540.389 613.303,540.481 614.213,540.745 615.12,541.932 616.023,543.112 616.926,545.163 \n",
       "  617.825,547.817 618.721,551.033 619.611,552.933 620.499,557.15 621.381,559.246 622.252,559.731 623.113,561.64 623.973,562.476 624.833,563.513 625.686,564.167 \n",
       "  626.537,565.142 627.388,566.143 628.235,566.024 629.081,567.516 629.924,567.945 630.759,569.96 631.591,571.806 632.419,572.685 633.238,572.798 634.052,574.899 \n",
       "  634.855,576.217 635.65,577.69 636.437,580.586 637.218,581.639 637.996,583.903 638.772,584.998 639.547,586.473 640.324,586.846 641.101,588.118 641.884,588.434 \n",
       "  642.668,590.306 643.447,590.883 644.225,592.246 645.004,593.215 645.778,593.168 646.548,594.082 647.322,593.872 648.095,595.509 648.867,596.939 649.639,599.211 \n",
       "  650.411,599.88 651.179,600.566 651.946,600.298 652.704,601.178 653.461,602.923 654.218,603.146 654.977,605.287 655.733,605.793 656.49,605.708 657.248,607.042 \n",
       "  658.004,608.591 658.758,609.289 659.51,609.383 660.26,610.681 661.005,612.571 661.75,612.715 662.486,612.904 663.221,613.519 663.947,614.498 664.672,615.024 \n",
       "  665.395,615.554 666.114,617.333 666.829,619.567 667.537,621.155 668.24,620.436 668.941,622.171 669.645,623.777 670.345,625.206 671.043,626.148 671.735,628.466 \n",
       "  672.422,630.106 673.107,631.82 673.786,633.745 674.463,634.241 675.135,636.117 675.804,637.175 676.471,638.077 677.139,637.909 677.804,639.445 678.467,640.682 \n",
       "  679.13,642.013 679.791,644.211 680.448,645.978 681.102,646.857 681.758,647.644 682.419,649.122 683.079,650.249 683.739,651.909 684.395,654.155 685.049,656.193 \n",
       "  685.699,657.564 686.346,658.916 686.998,660.092 687.647,660.786 688.294,661.387 688.936,663.438 689.577,663.956 690.215,664.871 690.853,666.453 691.49,667.676 \n",
       "  692.125,669.19 692.756,670.316 693.385,671.459 694.006,673.267 694.624,674.145 695.241,675.121 695.852,676.067 696.458,677.368 697.058,678.515 697.652,679.936 \n",
       "  698.241,680.595 698.822,681.844 699.402,683.655 699.98,684.116 700.559,685.94 701.138,686.63 701.719,687.524 702.302,688.017 702.883,689.124 703.465,690.118 \n",
       "  704.044,690.647 704.623,692.125 705.202,693.082 705.782,694.171 706.364,695.998 706.945,697.315 707.525,698.361 708.105,699.681 708.685,701.291 709.265,702.56 \n",
       "  709.846,703.3 710.429,704.65 711.014,705.832 711.6,706.569 712.186,707.368 712.774,708.249 713.365,709.598 713.957,710.097 714.547,710.997 715.137,712.118 \n",
       "  715.73,713.253 716.323,714.586 716.912,715.707 717.497,716.761 718.081,717.919 718.661,719.304 719.24,720.606 719.82,721.326 720.395,722.691 720.963,723.241 \n",
       "  721.527,724.179 722.084,725.212 722.64,726.146 723.194,726.773 723.744,727.802 724.294,728.359 724.842,729.761 725.389,730.716 725.936,731.94 726.482,732.529 \n",
       "  727.028,733.603 727.575,734.795 728.121,735.852 728.669,736.564 729.218,737.682 729.768,738.466 730.319,738.823 730.867,739.589 731.414,740.58 731.958,741.563 \n",
       "  732.501,742.737 733.038,743.411 733.572,744.857 734.105,745.717 734.636,746.724 735.167,747.798 735.695,748.832 736.221,749.396 736.746,750.719 737.268,751.283 \n",
       "  737.791,752.214 738.315,753.257 738.839,753.968 739.364,754.977 739.887,755.744 740.41,756.83 740.93,757.684 741.448,758.99 741.962,759.991 742.473,761.116 \n",
       "  742.979,762.117 743.485,763.351 743.988,764.707 744.488,765.217 744.987,765.922 745.483,767.096 745.978,767.605 746.47,768.469 746.963,769.252 747.456,769.912 \n",
       "  747.948,770.633 748.44,771.817 748.934,772.46 749.426,773.313 749.917,774.36 750.407,775.049 750.896,775.88 751.383,776.863 751.869,777.855 752.356,778.717 \n",
       "  752.839,779.559 753.319,780.354 753.798,781.178 754.276,781.92 754.751,782.557 755.224,783.339 755.696,784.19 756.167,785.101 756.638,785.8 757.107,786.588 \n",
       "  757.573,787.504 758.037,788.332 758.499,789 758.962,789.826 759.422,790.75 759.879,791.52 760.333,792.12 760.787,793.117 761.239,793.74 761.691,794.649 \n",
       "  762.142,795.429 762.591,796.282 763.038,797.049 763.483,797.961 763.928,798.884 764.375,799.702 764.822,800.577 765.27,801.403 765.717,802.106 766.164,802.927 \n",
       "  766.609,803.689 767.052,804.597 767.495,805.379 767.937,806.17 768.381,806.864 768.826,807.737 769.272,808.46 769.72,809.185 770.168,809.954 770.617,810.715 \n",
       "  771.066,811.583 771.516,812.358 771.967,813.104 772.419,813.825 772.872,814.61 773.326,815.402 773.78,816.152 774.234,816.944 774.686,817.726 775.138,818.533 \n",
       "  775.586,819.336 776.031,820.11 776.477,820.903 776.922,821.701 777.361,822.495 777.798,823.261 778.235,824.013 778.673,824.773 779.111,825.525 779.55,826.272 \n",
       "  779.99,827.013 780.433,827.758 780.877,828.51 781.322,829.262 781.77,830.014 782.218,830.758 782.67,831.492 783.125,832.218 783.582,832.929 784.039,833.672 \n",
       "  784.498,834.455 784.96,835.213 785.422,835.957 785.887,836.721 786.352,837.517 786.822,838.303 787.291,839.136 787.761,839.955 788.23,840.627 788.699,841.382 \n",
       "  789.17,842.171 789.641,842.977 790.113,843.825 790.585,844.623 791.06,845.355 791.539,846.118 792.022,846.809 792.508,847.56 792.996,848.411 793.486,849.283 \n",
       "  793.978,849.979 794.472,850.808 794.969,851.602 795.467,852.506 795.969,853.27 796.474,854.144 796.982,854.906 797.489,855.735 797.999,856.617 798.512,857.437 \n",
       "  799.024,858.331 799.537,859.085 800.052,859.978 800.569,860.731 801.088,861.734 801.606,862.709 802.123,863.746 802.64,864.527 803.157,865.526 803.675,866.712 \n",
       "  804.195,867.483 804.72,868.193 805.247,868.855 805.778,869.5 806.307,870.373 806.839,871.077 807.372,871.838 807.904,872.743 808.44,873.638 808.98,874.376 \n",
       "  809.52,875.28 810.065,876.36 810.606,877.098 811.146,877.915 811.688,878.744 812.231,879.708 812.776,880.899 813.323,881.714 813.872,882.605 814.42,883.55 \n",
       "  814.968,884.656 815.518,885.433 816.066,886.524 816.614,887.43 817.161,888.418 817.708,889.449 818.256,890.416 818.803,891.185 819.348,891.789 819.891,892.694 \n",
       "  820.43,893.507 820.965,893.849 821.501,894.809 822.04,895.743 822.579,897.149 823.118,898.184 823.655,899.247 824.191,900.203 824.729,901.002 825.266,901.618 \n",
       "  825.805,902.386 826.344,903.039 826.884,903.802 827.427,904.866 827.972,906.229 828.522,907.022 829.076,907.876 829.632,908.581 830.19,909.533 830.751,910.231 \n",
       "  831.317,910.935 831.886,912.151 832.46,913.293 833.034,915.04 833.611,915.502 834.191,916.42 834.774,917.267 835.362,918.27 835.948,919.553 836.535,920.178 \n",
       "  837.117,920.556 837.699,921.53 838.283,923.025 838.867,924.142 839.453,924.939 840.045,925.408 840.643,926.663 841.247,927.72 841.856,928.755 842.47,929.312 \n",
       "  843.087,930.21 843.704,931.965 844.324,932.49 844.944,933.492 845.571,934.248 846.199,935.423 846.829,936.843 847.463,937.9 848.103,939.311 848.744,940.606 \n",
       "  849.388,940.854 850.03,941.246 850.673,942.552 851.32,943.819 851.967,945.584 852.616,946.556 853.27,947.946 853.923,949.307 854.582,950.38 855.244,952.065 \n",
       "  855.909,953.759 856.576,955.073 857.25,956.55 857.929,957.817 858.612,959.489 859.299,961.487 859.993,962.792 860.69,964.007 861.391,965.175 862.089,966.563 \n",
       "  862.788,967.794 863.495,968.405 864.202,969.279 864.913,970.155 865.628,971.331 866.346,972.565 867.066,974.856 867.792,976.136 868.522,976.445 869.254,977.56 \n",
       "  869.991,978.726 870.726,979.095 871.461,980.066 872.19,980.996 872.922,981.993 873.663,983.162 874.411,985.202 875.168,986.486 875.93,987.384 876.695,988.094 \n",
       "  877.462,989.768 878.231,990.596 879.003,990.881 879.775,992.674 880.551,993.175 881.333,994.266 882.114,995.171 882.899,994.67 883.684,995.95 884.479,997.345 \n",
       "  885.277,998.988 886.076,999.665 886.881,999.72 887.69,1000.96 888.498,1002.66 889.305,1003.17 890.116,1004.17 890.934,1004.08 891.756,1004.68 892.581,1005.67 \n",
       "  893.412,1006.38 894.246,1007.71 895.084,1007.76 895.928,1008.02 896.77,1009.63 897.617,1012.1 898.453,1013.66 899.293,1014.1 900.139,1014.18 900.985,1015.8 \n",
       "  901.832,1016.56 902.679,1018.37 903.53,1020.53 904.382,1021.48 905.235,1023.55 906.089,1024.54 906.949,1025.87 907.814,1028.21 908.683,1029.66 909.552,1029.6 \n",
       "  910.419,1030.29 911.291,1032.2 912.159,1034 913.035,1034.75 913.921,1036.82 914.814,1037.91 915.708,1038.87 916.602,1040.53 917.504,1042.38 918.408,1044.5 \n",
       "  919.318,1045.63 920.228,1046.31 921.14,1046.45 922.051,1048.08 922.971,1048.79 923.891,1049.63 924.814,1052.3 925.743,1055.49 926.672,1056.99 927.605,1058.71 \n",
       "  928.535,1060.52 929.467,1062.44 930.396,1063.99 931.325,1064.02 932.257,1064.59 933.184,1064.48 934.109,1065.17 935.038,1066.73 935.963,1068.13 936.888,1068.79 \n",
       "  937.815,1069.71 938.734,1069.67 939.654,1071.78 940.569,1072.67 941.478,1073.07 942.388,1074.18 943.301,1075.8 944.228,1076.1 945.158,1076.9 946.085,1077.63 \n",
       "  947.011,1080.08 947.939,1080.8 948.866,1082.51 949.802,1083.18 950.74,1084.4 951.689,1086.49 952.649,1087.25 953.616,1089.94 954.59,1091.14 955.565,1091.59 \n",
       "  956.545,1091.34 957.534,1092.44 958.534,1094.86 959.545,1096.35 960.562,1096.51 961.58,1098.22 962.607,1100.13 963.639,1101.96 964.672,1104.07 965.714,1104.47 \n",
       "  966.762,1105.61 967.814,1105.86 968.863,1108.49 969.915,1111.54 970.966,1115.64 972.016,1118.18 973.072,1119.41 974.128,1121.72 975.178,1124.84 976.233,1126.27 \n",
       "  977.296,1126.88 978.359,1127.64 979.423,1130.49 980.497,1134.06 981.585,1135.25 982.682,1133.88 983.782,1136.04 984.879,1137.59 985.982,1138.17 987.083,1140.94 \n",
       "  988.194,1141.83 989.307,1144.16 990.425,1143.93 991.553,1144.3 992.686,1146.6 993.826,1147.84 994.974,1149.7 996.134,1149.55 997.302,1151.14 998.474,1153.33 \n",
       "  999.656,1151.74 1000.85,1153.37 1002.04,1153.47 1003.24,1154.26 1004.44,1157.13 1005.65,1157.99 1006.86,1156.82 1008.09,1155.57 1009.31,1157.11 1010.55,1158.44 \n",
       "  1011.79,1156.57 1013.04,1159.86 1014.3,1161.42 1015.58,1164.35 1016.88,1164.61 1018.19,1163.63 1019.49,1166.95 1020.8,1169.51 1022.11,1170.74 1023.42,1173.29 \n",
       "  1024.76,1171.94 1026.1,1174.21 1027.45,1173.94 1028.8,1174 1030.17,1175.31 1031.53,1176.28 1032.91,1180.21 1034.3,1183.91 1035.68,1187.2 1037.08,1187.64 \n",
       "  1038.48,1190.93 1039.92,1192.94 1041.38,1191.4 1042.84,1192.54 1044.32,1195.17 1045.81,1196.85 1047.31,1202.13 1048.82,1204.65 1050.35,1203.21 1051.89,1205.39 \n",
       "  1053.43,1207.33 1054.99,1208.88 1056.56,1213.28 1058.15,1210.75 1059.74,1214.28 1061.35,1217.52 1062.95,1215.55 1064.57,1215.23 1066.2,1220.56 1067.84,1219.19 \n",
       "  1069.49,1219.82 1071.14,1223.68 1072.8,1227.23 1074.48,1230.45 1076.15,1230.08 1077.81,1233.94 1079.48,1236.63 1081.15,1238.05 1082.82,1237.9 1084.49,1238.63 \n",
       "  1086.16,1241.55 1087.84,1239.01 1089.51,1238.48 1091.18,1238.45 1092.85,1238.43 1094.53,1238.65 1096.21,1236.32 1097.9,1241.09 1099.59,1242.08 1101.3,1240.78 \n",
       "  1103.03,1240.52 1104.78,1244.91 1106.56,1246.27 1108.35,1243.12 1110.15,1245.54 1111.98,1247.7 1113.83,1251.17 1115.71,1250.75 1117.58,1251.92 1119.47,1248.01 \n",
       "  1121.35,1248.05 1123.26,1249.88 1125.18,1250.47 1127.11,1247.92 1129.04,1251.12 1131,1258.34 1132.95,1262.28 1134.89,1266.41 1136.83,1268.81 1138.77,1274.77 \n",
       "  1140.71,1278.93 1142.64,1278.3 1144.56,1279.81 1146.47,1281.22 1148.38,1286.74 1150.29,1287.4 1152.18,1288.19 1154.07,1287.27 1155.96,1290.54 1157.85,1290.08 \n",
       "  1159.73,1287.05 1161.62,1288.04 1163.52,1287.99 1165.41,1291.49 1167.3,1289.74 1169.19,1290.98 1171.08,1289.95 1172.96,1289.16 1174.86,1289.74 1176.75,1290.25 \n",
       "  1178.65,1292.05 1180.55,1292.79 1182.44,1293.44 1184.34,1297.88 1186.23,1298.36 1188.11,1303.21 1189.99,1304.87 1191.85,1304.62 1193.7,1300.03 1195.55,1301.53 \n",
       "  1197.42,1303.49 1199.27,1302.06 1201.13,1305.34 1202.98,1310.99 1204.82,1315.39 1206.63,1313.61 1208.43,1309.44 1210.23,1310.94 1212.04,1311.16 1213.83,1311.92 \n",
       "  1215.63,1313.23 1217.42,1314.02 1219.2,1312.73 1220.97,1313.29 1222.75,1314.26 1224.52,1318.38 1226.28,1318.54 1228.02,1318.32 1229.76,1319.25 1231.49,1318.5 \n",
       "  1233.21,1316.65 1234.94,1313.81 1236.67,1311.04 1238.41,1313.5 1240.16,1314.37 1241.9,1314.66 1243.64,1316.47 1245.37,1319.03 1247.1,1323.01 1248.81,1325.27 \n",
       "  1250.5,1326.68 1252.19,1330.27 1253.85,1327.42 1255.5,1325.74 1257.15,1326.54 1258.8,1326.3 1260.43,1325.03 1262.07,1325.4 1263.71,1323.57 1265.33,1320.7 \n",
       "  1266.97,1321.6 1268.61,1322.57 1270.24,1324.03 1271.87,1323.18 1273.49,1325.79 1275.11,1322.45 1276.73,1320.33 1278.36,1320.1 1279.99,1314.19 1281.63,1312.73 \n",
       "  1283.29,1315.6 1284.95,1317.7 1286.6,1314.96 1288.26,1312.78 1289.93,1311.79 1291.6,1313.82 1293.28,1313.3 1294.96,1314.93 1296.63,1322.51 1298.3,1326.68 \n",
       "  1299.93,1328.36 1301.55,1328.77 1303.15,1328.38 1304.74,1328.13 1306.32,1330.08 1307.9,1328.69 1309.46,1331.96 1311.01,1333.67 1312.55,1331.84 1314.07,1332.62 \n",
       "  1315.58,1336.87 1317.09,1339.48 1318.58,1342.28 1320.05,1342.44 1321.5,1344.28 1322.94,1345.33 1324.37,1349.41 1325.78,1343.84 1327.17,1345.88 1328.57,1347.16 \n",
       "  1329.95,1348.11 1331.32,1346.39 1332.69,1351.57 1334.05,1354.88 1335.38,1360.89 1336.7,1360.32 1337.99,1363.14 1339.26,1366.57 1340.52,1365.73 1341.76,1361.18 \n",
       "  1343,1361.29 1344.23,1358.18 1345.46,1359.88 1346.7,1355.93 1347.92,1351.08 1349.15,1349.94 1350.4,1350.23 1351.64,1351.57 1352.89,1353.91 1354.13,1357.21 \n",
       "  1355.37,1359.27 1356.59,1359.71 1357.81,1360.3 1359.02,1358.05 1360.22,1355.18 1361.43,1356.94 1362.63,1360 1363.83,1358.72 1365.03,1354.74 1366.22,1353.8 \n",
       "  1367.42,1355.72 1368.61,1356.91 1369.8,1355.31 1370.99,1357.78 1372.18,1358.44 1373.36,1357.88 1374.53,1358.29 1375.71,1355.09 1376.88,1356.76 1378.06,1357.39 \n",
       "  1379.22,1356.6 1380.39,1356.89 1381.55,1361.16 1382.7,1358.53 1383.84,1363.6 1384.98,1362.41 1386.11,1358.02 1387.24,1360.23 1388.37,1360.61 1389.49,1359.2 \n",
       "  1390.61,1357.9 1391.73,1356.17 1392.86,1359.44 1393.98,1356.54 1395.1,1356.97 1396.23,1358.57 1397.35,1356.52 1398.47,1356.77 1399.59,1357.21 1400.7,1358.55 \n",
       "  1401.81,1358.89 1402.92,1360.01 1404.02,1361.66 1405.11,1362.6 1406.2,1366.82 1407.27,1370.14 1408.34,1374.93 1409.39,1371.14 1410.42,1371 1411.45,1368.46 \n",
       "  1412.48,1366.91 1413.51,1366.58 1414.54,1364.34 1415.56,1363.63 1416.59,1363.48 1417.62,1363.52 1418.65,1362.9 1419.67,1363.01 1420.69,1360.17 1421.72,1366.08 \n",
       "  1422.74,1365.92 1423.75,1366.96 1424.76,1365.45 1425.76,1366.21 1426.76,1364.17 1427.76,1365.89 1428.76,1364.08 1429.76,1359.38 1430.75,1362.41 1431.76,1362.96 \n",
       "  1432.75,1368.23 1433.74,1363.68 1434.72,1364.61 1435.7,1368 1436.68,1371.27 1437.65,1375.38 1438.6,1376.31 1439.55,1380.62 1440.48,1383.58 1441.4,1384.24 \n",
       "  1442.31,1384.03 1443.21,1380.97 1444.1,1378.46 1444.99,1379.38 1445.88,1375.19 1446.77,1376.67 1447.67,1376.94 1448.56,1373.48 1449.44,1370.35 1450.34,1369.53 \n",
       "  1451.24,1368.3 1452.14,1367.4 1453.05,1368.36 1453.96,1367.45 1454.87,1368.22 1455.78,1367.56 1456.68,1366.17 1457.59,1363.9 1458.51,1365.22 1459.42,1364.9 \n",
       "  1460.33,1364.89 1461.25,1362.75 1462.16,1360.88 1463.08,1361.68 1464,1362.66 1464.92,1362.08 1465.84,1360.39 1466.77,1361.58 1467.69,1362.07 1468.61,1363.8 \n",
       "  1469.52,1359.94 1470.44,1357.97 1471.36,1355.48 1472.29,1352.92 1473.22,1352.26 1474.16,1351.63 1475.1,1351.75 1476.04,1350.82 1476.99,1348.17 1477.94,1341.65 \n",
       "  1478.9,1341.48 1479.87,1337.26 1480.85,1337.04 1481.85,1338.92 1482.84,1338.23 1483.84,1336.84 1484.84,1334.63 1485.85,1332.81 1486.87,1331.96 1487.89,1332.64 \n",
       "  1488.92,1332.72 1489.94,1333.46 1490.97,1336.37 1492,1336.64 1493.02,1337.38 1494.03,1337.41 1495.05,1336.21 1496.06,1334.64 1497.08,1336.36 1498.1,1338.95 \n",
       "  1499.11,1339.7 1500.11,1336.09 1501.11,1335.66 1502.12,1337.99 1503.12,1338.06 1504.11,1335.16 1505.11,1333.65 1506.1,1334.33 1507.1,1330.02 1508.1,1327.05 \n",
       "  1509.11,1326.61 1510.13,1326.46 1511.15,1320.98 1512.18,1323.1 1513.21,1318.74 1514.25,1316.66 1515.3,1317.82 1516.36,1314.39 1517.42,1312.72 1518.5,1316.96 \n",
       "  1519.58,1315.44 1520.65,1312.71 1521.73,1313.22 1522.82,1314.35 1523.9,1314.64 1524.99,1317.59 1526.07,1317.06 1527.14,1318.74 1528.22,1318.58 1529.28,1320.94 \n",
       "  1530.35,1319.77 1531.4,1323.47 1532.45,1323.16 1533.49,1322.81 1534.53,1326.99 1535.56,1324.1 1536.58,1329.9 1537.6,1331.85 1538.6,1330.56 1539.59,1330.55 \n",
       "  1540.58,1328.58 1541.57,1327.73 1542.55,1325.6 1543.54,1325.52 1544.52,1324.86 1545.51,1321.34 1546.49,1320.79 1547.49,1318.61 1548.48,1320.9 1549.48,1323.91 \n",
       "  1550.47,1326.04 1551.46,1325.97 1552.44,1326.54 1553.41,1328.37 1554.38,1330.59 1555.35,1329.19 1556.31,1327.61 1557.26,1327.29 1558.22,1326.81 1559.17,1326.48 \n",
       "  1560.12,1325.05 1561.07,1324.38 1562.03,1327.81 1562.98,1330.54 1563.92,1330.53 1564.85,1331.61 1565.78,1337.77 1566.71,1336.06 1567.61,1336.83 1568.52,1336.28 \n",
       "  1569.41,1329.52 1570.31,1329.13 1571.22,1327.21 1572.12,1323.37 1573.03,1320.33 1573.95,1323.08 1574.88,1320.42 1575.8,1317.9 1576.73,1315.87 1577.67,1317.72 \n",
       "  1578.61,1315.85 1579.55,1313 1580.5,1310.84 1581.46,1310.06 1582.42,1308.21 1583.39,1308.47 1584.37,1308.14 1585.34,1308.64 1586.32,1307.13 1587.3,1307.79 \n",
       "  1588.29,1308.9 1589.27,1311.01 1590.26,1307.51 1591.24,1306.99 1592.22,1308 1593.21,1306.86 1594.19,1310.46 1595.17,1309.18 1596.15,1308.81 1597.13,1309.62 \n",
       "  1598.1,1312.67 1599.07,1311.43 1600.03,1314.36 1600.99,1309.85 1601.95,1315.52 1602.91,1315.18 1603.85,1313.34 1604.8,1314.92 1605.74,1312.81 1606.69,1312.69 \n",
       "  1607.63,1315.03 1608.58,1314.2 1609.53,1312.99 1610.47,1314.45 1611.42,1315.84 1612.37,1316.13 1613.32,1313.61 1614.26,1314.56 1615.22,1314.15 1616.17,1315.77 \n",
       "  1617.12,1312.8 1618.08,1313.18 1619.04,1313.42 1620,1316.74 1620.96,1316.64 1621.92,1314.74 1622.88,1314.59 1623.84,1315.69 1624.8,1317.35 1625.77,1317.09 \n",
       "  1626.73,1314.26 1627.7,1311.63 1628.67,1314.24 1629.65,1313.43 1630.63,1317.74 1631.61,1316.5 1632.58,1317.8 1633.56,1319.07 1634.53,1320.21 1635.5,1321.17 \n",
       "  1636.47,1323.43 1637.44,1324.32 1638.4,1323.49 1639.35,1325.81 1640.31,1327.13 1641.26,1325.98 1642.21,1324.12 1643.16,1324.58 1644.12,1324.12 1645.07,1325.25 \n",
       "  1646.03,1323.71 1646.98,1325.02 1647.94,1329.26 1648.9,1327.08 1649.85,1324.58 1650.81,1319.74 1651.77,1321.47 1652.75,1324.32 1653.72,1321.98 1654.69,1318.56 \n",
       "  1655.67,1316.49 1656.67,1315.89 1657.67,1316.02 1658.68,1315.21 1659.69,1312.58 1660.72,1315.29 1661.75,1316.87 1662.77,1318.35 1663.8,1313.88 1664.84,1316.98 \n",
       "  1665.88,1315.64 1666.92,1316.72 1667.97,1314.43 1669.02,1317.79 1670.07,1318.73 1671.12,1320.48 1672.17,1321.79 1673.21,1317.84 1674.26,1317.65 1675.31,1319.61 \n",
       "  1676.36,1320.97 1677.41,1320.7 1678.46,1320.33 1679.51,1316.49 1680.57,1317.07 1681.63,1315.96 1682.7,1317.96 1683.77,1313.93 1684.84,1314.69 1685.93,1314.83 \n",
       "  1687.01,1311 1688.1,1304.11 1689.22,1305.85 1690.35,1305.59 1691.48,1305.59 1692.63,1304.91 1693.78,1300.63 1694.95,1300.93 1696.13,1298.47 1697.31,1295.12 \n",
       "  1698.52,1296.64 1699.74,1295.37 1700.96,1293.37 1702.2,1292.92 1703.46,1292.73 1704.72,1290.05 1705.99,1290.73 1707.28,1290.18 1708.58,1288.1 1709.88,1288.62 \n",
       "  1711.2,1288.28 1712.52,1287.71 1713.85,1291.04 1715.19,1290.04 1716.52,1288.59 1717.87,1287.08 1719.22,1289.55 1720.58,1288.15 1721.94,1285.5 1723.3,1284.8 \n",
       "  1724.68,1285.29 1726.07,1288.31 1727.46,1286.93 1728.85,1288.92 1730.25,1289.28 1731.64,1288.46 1733.03,1287.17 1734.43,1291.67 1735.83,1291.2 1737.22,1292.44 \n",
       "  1738.61,1290.82 1740.01,1290.99 1741.4,1287.91 1742.8,1289.9 1744.22,1287.8 1745.62,1286.29 1747.05,1286.01 1748.48,1287.05 1749.92,1288.71 1751.36,1283.78 \n",
       "  1752.8,1285.4 1754.27,1286.33 1755.72,1286.46 1757.18,1288.36 1758.65,1288.4 1760.1,1286.49 1761.57,1288.96 1763.04,1288.7 1764.5,1286.26 1765.97,1290.61 \n",
       "  1767.44,1290.43 1768.9,1290.72 1770.36,1290.95 1771.83,1290.3 1773.29,1291.52 1774.76,1293.22 1776.22,1293.04 1777.68,1297.45 1779.13,1297.96 1780.57,1292.89 \n",
       "  1782.02,1292.64 1783.47,1294.51 1784.93,1297.78 1786.38,1297.99 1787.82,1296.26 1789.26,1299.13 1790.71,1299.7 1792.14,1301.83 1793.57,1300.28 1794.99,1299.71 \n",
       "  1796.41,1299.68 1797.84,1296.71 1799.26,1297.19 1800.7,1292.9 1802.14,1290.01 1803.6,1285.56 1805.09,1286.26 1806.59,1287.51 1808.11,1288.89 1809.62,1291.63 \n",
       "  1811.14,1293.52 1812.65,1294.3 1814.17,1295.81 1815.67,1299 1817.18,1299.39 1818.67,1298.64 1820.17,1299.77 1821.66,1301.38 1823.14,1297.35 1824.63,1300.02 \n",
       "  1826.12,1303.05 1827.6,1299.86 1829.08,1303.22 1830.57,1302.49 1832.04,1307.25 1833.51,1308.89 1834.96,1310.4 1836.41,1314.37 1837.85,1311.14 1839.27,1311.56 \n",
       "  1840.7,1313.43 1842.12,1317.26 1843.54,1317.65 1844.93,1313.4 1846.33,1311.17 1847.74,1308.74 1849.16,1308.85 1850.58,1310.74 1852.01,1311.93 1853.43,1314 \n",
       "  1854.85,1316.74 1856.26,1315.02 1857.66,1318.26 1859.07,1314.5 1860.46,1312.92 1861.87,1311.15 1863.29,1306.32 1864.72,1305.39 1866.17,1304.69 1867.63,1305.05 \n",
       "  1869.1,1301.02 1870.59,1302.84 1872.08,1300.52 1873.59,1299.95 1875.11,1298.27 1876.64,1295.22 1878.18,1291.95 1879.75,1289.57 1881.34,1287.41 1882.96,1289.07 \n",
       "  1884.59,1292.39 1886.22,1295.79 1887.85,1292.83 1889.48,1294.26 1891.13,1292.78 1892.78,1292.69 1894.43,1292.88 1896.09,1293.94 1897.75,1290.93 1899.43,1288.64 \n",
       "  1901.12,1292.87 1902.82,1290.48 1904.51,1290.07 1906.21,1286.95 1907.93,1288.59 1909.66,1286.61 1911.4,1284.67 1913.15,1279 1914.92,1280.39 1916.72,1279.77 \n",
       "  1918.53,1282.28 1920.36,1283.08 1922.17,1280.16 1924,1278.19 1925.85,1275.6 1927.72,1272.14 1929.62,1274.57 1931.54,1275.47 1933.46,1274.11 1935.39,1274.79 \n",
       "  1937.34,1270.54 1939.29,1270.11 1941.27,1264.09 1943.27,1262.48 1945.31,1264.58 1947.37,1267.62 1949.43,1267.83 1951.5,1264.28 1953.58,1264.32 1955.69,1264.46 \n",
       "  1957.81,1266.99 1959.94,1265.13 1962.06,1260.81 1964.21,1260.09 1966.38,1260.57 1968.57,1253.09 1970.77,1254.51 1973.02,1254.61 1975.27,1246.15 1977.56,1245.81 \n",
       "  1979.9,1248.45 1982.25,1249.79 1984.61,1250.18 1986.99,1252.13 1989.36,1252.75 1991.75,1252.44 1994.14,1253.85 1996.54,1253.18 1998.93,1255.49 2001.34,1255.53 \n",
       "  2003.73,1252.63 2006.13,1253.49 2008.54,1254.92 2010.96,1254.29 2013.36,1248.86 2015.78,1246.26 2018.24,1245.25 2020.72,1245.95 2023.22,1242.6 2025.72,1237.74 \n",
       "  2028.28,1240.3 2030.85,1243.75 2033.43,1242.28 2036.01,1248.16 2038.59,1248.79 2041.14,1249.32 2043.7,1248.25 2046.24,1245.81 2048.8,1244.91 2051.37,1241.98 \n",
       "  2053.94,1239.5 2056.54,1240.31 2059.17,1239.7 2061.79,1244.27 2064.41,1242.18 2067.02,1244.68 2069.65,1243.44 2072.26,1246.48 2074.88,1246.58 2077.47,1243.61 \n",
       "  2080.07,1241.59 2082.68,1242.16 2085.3,1239.38 2087.93,1242.6 2090.57,1239.38 2093.2,1238.38 2095.86,1234.57 2098.54,1236.65 2101.23,1232.22 2103.93,1230.16 \n",
       "  2106.66,1225.68 2109.41,1222.1 2112.2,1220.12 2115.03,1217.58 2117.9,1215.71 2120.8,1216.53 2123.73,1216.62 2126.67,1216.17 2129.63,1215.9 2132.6,1215.46 \n",
       "  2135.58,1213.54 2138.57,1212.61 2141.58,1212.31 2144.61,1212.65 2147.65,1208.93 2150.71,1200.57 2153.82,1201.89 2156.98,1200.79 2160.14,1194.86 2163.34,1193.29 \n",
       "  2166.58,1196.72 2169.84,1193.79 2173.1,1194.47 2176.4,1191.74 2179.71,1193.51 2183.03,1190.19 2186.36,1191.17 2189.7,1190.79 2193.05,1189.78 2196.4,1191.06 \n",
       "  2199.76,1187.9 2203.12,1188.67 2206.47,1189.11 2209.83,1186.92 2213.21,1185.98 2216.61,1185.36 2220.05,1177.56 2223.5,1174.93 2227,1174.32 2230.52,1173.18 \n",
       "  2234.08,1171.43 2237.63,1168.18 2241.23,1174.55 2244.83,1170.64 2248.39,1168.95 2252.01,1168.79 2255.62,1163.11 2259.22,1161.15 2262.84,1157.16 2266.46,1157.52 \n",
       "  2270.09,1156.79 2273.71,1155.65 2277.31,1159.38 2280.85,1155.01 2284.36,1150.11 2287.85,1151.77 2291.3,1150.7 2294.71,1147.99 2298.11,1149.26 2301.53,1142.26 \n",
       "  2304.94,1142.68 2308.37,1137.41 2311.79,1131.66 2315.22,1131.79 2318.63,1125.02 2322.05,1122.99 2325.45,1122.54 2328.87,1122.12 2332.3,1123.47 2335.7,1123.73 \n",
       "  2339.12,1127.39 2342.54,1128.86 2345.94,1129.55 2349.34,1129.32 2352.74,1126.14 2352.76,1126.15 \n",
       "  \"/>\n",
       "<polyline clip-path=\"url(#clip262)\" style=\"stroke:#e26f46; stroke-linecap:round; stroke-linejoin:round; stroke-width:4; stroke-opacity:1; fill:none\" points=\"\n",
       "  147.478,825.458 147.857,823.682 147.933,823.475 148.019,823.24 148.115,822.972 148.223,822.677 148.344,822.337 148.481,821.962 148.634,821.544 148.801,821.085 \n",
       "  148.982,820.587 149.175,820.072 149.38,819.511 149.595,818.949 149.818,818.34 150.05,817.713 150.289,817.066 150.535,816.439 150.786,815.78 151.042,815.07 \n",
       "  151.303,814.368 151.568,813.694 151.837,812.964 152.109,812.216 152.383,811.438 152.659,810.632 152.938,809.833 153.219,809.082 153.5,808.291 153.783,807.521 \n",
       "  154.068,806.771 154.354,806.067 154.642,805.318 154.932,804.568 155.223,803.794 155.516,802.982 155.809,802.225 156.102,801.455 156.395,800.694 156.69,800.005 \n",
       "  156.984,799.147 157.279,798.316 157.574,797.525 157.87,796.646 158.166,795.848 158.461,795.01 158.758,794.196 159.055,793.303 159.354,792.613 159.653,791.741 \n",
       "  159.953,790.908 160.253,790.141 160.553,789.167 160.854,788.398 161.155,787.557 161.455,786.758 161.754,785.975 162.053,784.956 162.354,784.122 162.656,783.116 \n",
       "  162.958,782.348 163.261,781.398 163.565,780.467 163.87,779.678 164.175,778.772 164.482,777.851 164.789,777.005 165.098,776.121 165.406,775.016 165.717,774.216 \n",
       "  166.03,773.385 166.345,772.482 166.662,771.62 166.98,770.839 167.298,769.982 167.617,769.042 167.937,768.217 168.258,767.048 168.579,766.263 168.901,765.203 \n",
       "  169.222,764.398 169.543,763.213 169.865,762.191 170.188,761.233 170.514,760.705 170.841,759.887 171.169,759.109 171.5,757.876 171.831,757.032 172.164,756.129 \n",
       "  172.499,755.057 172.833,754.157 173.168,753.036 173.504,752.149 173.841,751.383 174.181,750.557 174.522,749.758 174.864,748.991 175.207,748.325 175.549,747.617 \n",
       "  175.891,746.671 176.232,745.715 176.572,744.902 176.915,744.062 177.257,743.521 177.6,742.69 177.945,742.129 178.291,741.303 178.639,740.506 178.988,739.311 \n",
       "  179.336,738.082 179.686,737.227 180.037,736.299 180.389,735.441 180.742,734.878 181.096,734.347 181.45,732.904 181.805,731.957 182.161,730.396 182.519,729.385 \n",
       "  182.878,728.601 183.237,727.462 183.598,726.482 183.961,725.452 184.324,724.994 184.688,723.749 185.052,722.935 185.416,722.126 185.781,720.833 186.15,720.234 \n",
       "  186.522,719.278 186.898,718.101 187.275,717.548 187.656,716.417 188.04,715.624 188.423,715.106 188.808,713.412 189.193,712.647 189.579,711.489 189.968,710.585 \n",
       "  190.359,710.116 190.753,708.85 191.148,708.173 191.545,707.403 191.944,707.003 192.343,705.908 192.744,705.024 193.145,703.992 193.548,703.113 193.95,702.095 \n",
       "  194.354,701.352 194.759,700.46 195.165,699.128 195.569,698.04 195.974,697.501 196.378,696.149 196.781,694.706 197.185,693.294 197.593,691.884 198.001,690.569 \n",
       "  198.413,689.408 198.826,688.516 199.24,687.731 199.657,686.491 200.074,685.465 200.492,684.229 200.911,683.281 201.329,682.493 201.748,681.165 202.168,679.682 \n",
       "  202.59,679.533 203.011,678.658 203.431,677.883 203.852,677.343 204.273,676.473 204.696,675.214 205.122,675.263 205.547,674.248 205.975,672.739 206.403,672.068 \n",
       "  206.832,670.62 207.262,669.44 207.693,667.399 208.127,665.768 208.56,665.347 208.995,664.571 209.431,662.44 209.87,661.34 210.311,660.171 210.755,658.572 \n",
       "  211.201,657.676 211.646,656.563 212.09,655.018 212.534,653.881 212.978,653.035 213.421,652.029 213.865,651.395 214.312,650.562 214.759,648.5 215.209,647.504 \n",
       "  215.66,644.226 216.112,643.938 216.565,644.454 217.02,643.854 217.475,642.96 217.93,641.376 218.387,640.348 218.845,638.134 219.306,636.548 219.769,635.244 \n",
       "  220.232,634.076 220.695,633.382 221.162,632.636 221.631,630.31 222.1,628.109 222.569,626.754 223.04,626.859 223.514,625.432 223.992,624.627 224.467,623.543 \n",
       "  224.944,622.726 225.422,622.596 225.9,620.754 226.383,619.063 226.867,618.127 227.356,616.621 227.847,615.004 228.34,613.282 228.836,612.769 229.334,612.137 \n",
       "  229.834,610.525 230.338,609.761 230.844,609.259 231.352,608.882 231.861,606.922 232.371,606.841 232.883,605.579 233.398,603.801 233.917,602.41 234.437,601.34 \n",
       "  234.96,599.98 235.487,599.233 236.02,597.449 236.555,596.995 237.091,594.399 237.63,592.373 238.171,591.062 238.714,589.51 239.26,590.123 239.808,588.424 \n",
       "  240.358,586.354 240.914,584.995 241.469,582.336 242.029,581.937 242.594,580.434 243.158,579.825 243.726,577.642 244.297,577.997 244.871,575.663 245.45,573.498 \n",
       "  246.03,573.056 246.613,572.312 247.201,570.477 247.793,569.1 248.386,567.488 248.979,566.078 249.571,565.901 250.166,563.563 250.762,561.77 251.361,560.556 \n",
       "  251.964,558.948 252.571,556.682 253.178,556.073 253.786,553.686 254.399,552.319 255.017,551.415 255.635,550.272 256.259,548.729 256.886,548.402 257.512,547.341 \n",
       "  258.14,546.402 258.77,546.185 259.405,544.316 260.041,541.075 260.681,539.681 261.32,537.364 261.963,536.683 262.606,534.996 263.253,535.308 263.902,535.651 \n",
       "  264.553,534.274 265.203,533.33 265.856,533.779 266.505,533.18 267.154,530.698 267.804,529.307 268.456,529.556 269.109,528.519 269.765,526.237 270.425,524.666 \n",
       "  271.083,522.615 271.743,522.068 272.405,520.303 273.067,518.316 273.729,516.94 274.394,517.014 275.06,514.817 275.73,513.822 276.401,510.536 277.075,509.558 \n",
       "  277.753,509.09 278.432,507.651 279.113,504.775 279.796,503.191 280.482,503.851 281.169,503.527 281.858,502.407 282.546,502.846 283.229,502.095 283.914,501.149 \n",
       "  284.597,501.175 285.281,498.28 285.966,494.895 286.647,494.354 287.328,491.472 288.012,489.453 288.698,486.517 289.387,485.738 290.077,484.73 290.768,483.361 \n",
       "  291.464,480.223 292.165,479.531 292.869,478.586 293.575,477.555 294.286,475.801 295.005,475.853 295.726,473.689 296.453,469.809 297.18,469.422 297.91,467.123 \n",
       "  298.649,463.677 299.392,462.664 300.142,459.317 300.897,457.407 301.661,456.413 302.429,454.93 303.202,452.751 303.979,452.541 304.755,452.227 305.53,448.61 \n",
       "  306.305,447.684 307.075,445.889 307.841,445.829 308.61,441.192 309.384,440.01 310.155,437.918 310.936,438.138 311.72,438.046 312.511,432.555 313.313,432.048 \n",
       "  314.119,429.223 314.933,426.912 315.754,425.059 316.577,424.184 317.402,420.891 318.23,418.759 319.058,413.76 319.887,413.004 320.721,411.234 321.559,410.143 \n",
       "  322.402,407.462 323.252,403.603 324.103,401.619 324.957,401.09 325.808,395.994 326.664,396.88 327.522,394.284 328.383,393.043 329.247,391.419 330.11,390.219 \n",
       "  330.975,389.561 331.844,389.546 332.71,389.194 333.579,387.872 334.448,385.629 335.323,383.29 336.2,377.65 337.076,376.561 337.956,376.724 338.837,375.722 \n",
       "  339.723,371.312 340.615,368.619 341.509,365.362 342.408,365.947 343.31,363.62 344.216,360.696 345.126,360.629 346.041,358.43 346.966,352.822 347.901,349.71 \n",
       "  348.842,348.763 349.792,345.836 350.752,344.482 351.718,343.08 352.685,343.549 353.656,338.352 354.634,334.391 355.617,333.786 356.603,334.242 357.592,329.956 \n",
       "  358.588,331.152 359.589,331.043 360.595,328.934 361.607,325.608 362.616,324.281 363.632,325.585 364.654,326.303 365.676,322.733 366.706,324.203 367.736,316.959 \n",
       "  368.766,315.26 369.793,310.772 370.821,310.005 371.843,311.87 372.862,310.712 373.878,310.87 374.892,308.678 375.909,303.806 376.929,301.026 377.944,297.8 \n",
       "  378.962,297.313 379.978,298.551 380.994,292.413 382.016,291.774 383.042,289.156 384.073,287.959 385.104,287.34 386.135,289.916 387.17,289.515 388.211,287.436 \n",
       "  389.253,289.66 390.293,287.811 391.336,287.615 392.377,284.582 393.416,285.911 394.454,282.34 395.497,283.519 396.541,286.845 397.591,283.792 398.642,279.953 \n",
       "  399.695,278.782 400.747,282.01 401.803,283.224 402.868,279.802 403.941,278.922 405.018,282.08 406.1,281.493 407.192,280.679 408.285,277.546 409.379,272.885 \n",
       "  410.47,274.462 411.558,270.543 412.651,268.995 413.74,272.405 414.832,271.989 415.93,272.385 417.03,274.544 418.128,275.762 419.23,273.439 420.337,269.414 \n",
       "  421.442,269.571 422.545,273.177 423.652,270.82 424.768,267.186 425.886,272.512 427.004,266.478 428.124,256.584 429.242,255.076 430.353,253.099 431.464,250.803 \n",
       "  432.574,254.785 433.685,254.988 434.799,251.426 435.914,249.968 437.028,248.719 438.142,245.816 439.255,241.921 440.365,241.873 441.471,242.136 442.576,244.892 \n",
       "  443.681,244.834 444.789,240.742 445.896,237.521 446.992,242.094 448.088,239.303 449.185,234.333 450.278,230.558 451.364,229.234 452.444,226.263 453.519,225.919 \n",
       "  454.586,224.019 455.65,223.023 456.71,223.496 457.764,224.086 458.82,226.212 459.874,232.071 460.935,233.423 462.003,233.655 463.074,237.784 464.149,232.707 \n",
       "  465.23,228.24 466.304,234.696 467.378,234.274 468.461,233.103 469.543,230.607 470.624,230.935 471.705,235.465 472.788,233.664 473.875,231.593 474.961,232.224 \n",
       "  476.047,227.089 477.131,225.365 478.206,222.158 479.277,219.271 480.34,223.342 481.398,224.967 482.461,225.633 483.522,227.976 484.586,230.46 485.651,228.403 \n",
       "  486.722,225.381 487.787,226.864 488.851,230.056 489.918,227.831 490.987,233.093 492.055,229.113 493.13,232.277 494.201,233.598 495.278,234.366 496.358,236.139 \n",
       "  497.444,239.177 498.535,236.203 499.632,241.568 500.73,237.422 501.837,241.011 502.939,239.247 504.051,244.019 505.161,244.316 506.284,244.612 507.407,243.048 \n",
       "  508.532,243.529 509.659,241.852 510.785,241.265 511.911,240.676 513.034,240.39 514.157,238.466 515.277,239.602 516.393,235.046 517.506,228.687 518.607,226.631 \n",
       "  519.694,224.889 520.771,225.123 521.841,227.332 522.906,227.78 523.968,224.07 525.026,218.713 526.072,217.401 527.102,219.051 528.127,215.131 529.147,217.905 \n",
       "  530.154,213.946 531.163,213.045 532.156,215.451 533.146,212.053 534.132,210.498 535.109,209.871 536.078,209.847 537.041,211.903 538.002,215.936 538.964,215.932 \n",
       "  539.929,216.292 540.892,217.8 541.854,213.788 542.817,211.333 543.769,217.013 544.721,215.655 545.679,215.145 546.631,215.973 547.583,221.129 548.539,222.9 \n",
       "  549.502,226.909 550.47,228.112 551.445,230.83 552.425,231.112 553.412,233.815 554.404,236.031 555.406,234.062 556.414,232.311 557.421,229.132 558.426,231.223 \n",
       "  559.428,234.015 560.434,228.712 561.44,226.146 562.437,227.334 563.43,227.26 564.421,230.966 565.412,229.861 566.407,233.146 567.4,232.356 568.399,233.938 \n",
       "  569.396,231.057 570.395,234.432 571.392,233.544 572.392,236.852 573.393,239.303 574.4,238.495 575.41,235.981 576.417,235.043 577.423,233.134 578.423,233.053 \n",
       "  579.422,232.038 580.417,233.311 581.407,233.564 582.398,234.267 583.387,230.863 584.375,234.836 585.355,235.98 586.341,236.005 587.326,237.321 588.309,238.017 \n",
       "  589.295,236.837 590.278,241.284 591.264,237.516 592.253,239.39 593.238,243.061 594.228,245.354 595.224,244.63 596.223,242.723 597.221,239.398 598.215,236.75 \n",
       "  599.203,234.1 600.184,230.062 601.156,234.943 602.122,231.487 603.089,228.274 604.044,229.121 604.992,228.853 605.937,227.168 606.878,225.219 607.81,224.688 \n",
       "  608.736,221.769 609.655,223.948 610.567,226.876 611.479,228.323 612.391,228.899 613.303,227.503 614.213,225.526 615.12,226.65 616.023,225.91 616.926,225.809 \n",
       "  617.825,224.873 618.721,223.519 619.611,225.054 620.499,221.073 621.381,215.929 622.252,217.629 623.113,221.017 623.973,219.739 624.833,218.077 625.686,220.786 \n",
       "  626.537,220.588 627.388,219.51 628.235,221.358 629.081,215.792 629.924,215.307 630.759,216.276 631.591,213.235 632.419,211.707 633.238,207.959 634.052,205.174 \n",
       "  634.855,203.563 635.65,202.625 636.437,203.656 637.218,205.363 637.996,206.888 638.772,208.654 639.547,210.488 640.324,214.738 641.101,216.145 641.884,214.007 \n",
       "  642.668,212.018 643.447,213.598 644.225,212.26 645.004,208.299 645.778,212.381 646.548,212.705 647.322,211.781 648.095,213.104 648.867,213.621 649.639,212.555 \n",
       "  650.411,212.059 651.179,208.934 651.946,206.11 652.704,208.643 653.461,211.991 654.218,211.232 654.977,211.643 655.733,213.495 656.49,212.544 657.248,211.782 \n",
       "  658.004,212.043 658.758,211.187 659.51,206.437 660.26,210.028 661.005,206.05 661.75,205.997 662.486,201.407 663.221,201.864 663.947,203.541 664.672,201.836 \n",
       "  665.395,201.001 666.114,198.787 666.829,197.206 667.537,196.576 668.24,200.078 668.941,199.932 669.645,201.076 670.345,199.547 671.043,195.012 671.735,196.448 \n",
       "  672.422,193.523 673.107,195.159 673.786,193.471 674.463,194.109 675.135,192.506 675.804,195.524 676.471,197.093 677.139,193.792 677.804,195.663 678.467,195.938 \n",
       "  679.13,194.287 679.791,192.994 680.448,194.9 681.102,200.686 681.758,200.665 682.419,201.749 683.079,198.889 683.739,198.225 684.395,196.921 685.049,194.773 \n",
       "  685.699,199.508 686.346,200.936 686.998,199.555 687.647,196.6 688.294,197.351 688.936,195.443 689.577,196.171 690.215,198.432 690.853,198.223 691.49,195.565 \n",
       "  692.125,196.157 692.756,190.795 693.385,190.072 694.006,191.943 694.624,189.616 695.241,188.282 695.852,185.017 696.458,182.078 697.058,181.367 697.652,176.364 \n",
       "  698.241,178.629 698.822,180.81 699.402,183.188 699.98,183.723 700.559,188.391 701.138,190.456 701.719,190.127 702.302,189.889 702.883,188.705 703.465,187.774 \n",
       "  704.044,189.06 704.623,190.081 705.202,193.248 705.782,192.555 706.364,192.392 706.945,192.714 707.525,193.458 708.105,194.087 708.685,195.271 709.265,196.686 \n",
       "  709.846,198.59 710.429,200.668 711.014,199.662 711.6,201.688 712.186,203 712.774,204.682 713.365,202.42 713.957,202.046 714.547,203.45 715.137,207.463 \n",
       "  715.73,202.972 716.323,199.638 716.912,199.999 717.497,198.266 718.081,197.857 718.661,201.014 719.24,200.447 719.82,194.934 720.395,192.113 720.963,188.234 \n",
       "  721.527,190.015 722.084,190.692 722.64,189.737 723.194,191.18 723.744,191.141 724.294,192.981 724.842,192.421 725.389,193.804 725.936,193.574 726.482,197.221 \n",
       "  727.028,196.385 727.575,197.886 728.121,198.862 728.669,200.212 729.218,201.254 729.768,199.676 730.319,198.148 730.867,196.867 731.414,196.691 731.958,194.775 \n",
       "  732.501,190.186 733.038,190.951 733.572,193.034 734.105,193.919 734.636,193.574 735.167,190.785 735.695,193.185 736.221,191.554 736.746,192.875 737.268,194.886 \n",
       "  737.791,196.747 738.315,197.629 738.839,196.489 739.364,197.744 739.887,194.969 740.41,194.431 740.93,192.963 741.448,190.418 741.962,188.411 742.473,188.38 \n",
       "  742.979,189.699 743.485,187.347 743.988,188.928 744.488,187.237 744.987,189.348 745.483,186.359 745.978,187.765 746.47,189.878 746.963,191.52 747.456,190.199 \n",
       "  747.948,193.532 748.44,194.23 748.934,191.985 749.426,192.05 749.917,190.792 750.407,191.515 750.896,189.596 751.383,192.849 751.869,190.104 752.356,189.227 \n",
       "  752.839,187.894 753.319,188.087 753.798,187.372 754.276,186.925 754.751,185.284 755.224,187.838 755.696,188.474 756.167,188.406 756.638,185.098 757.107,184.855 \n",
       "  757.573,185.144 758.037,186.649 758.499,185.187 758.962,183.618 759.422,181.98 759.879,182.459 760.333,182.492 760.787,183.974 761.239,185.431 761.691,183.227 \n",
       "  762.142,182.083 762.591,181.752 763.038,182.251 763.483,185.133 763.928,187.557 764.375,188.783 764.822,188.78 765.27,187.862 765.717,186.738 766.164,185.437 \n",
       "  766.609,185.181 767.052,185.867 767.495,188.619 767.937,190.216 768.381,192.318 768.826,193.851 769.272,194.542 769.72,195.494 770.168,195.326 770.617,195.923 \n",
       "  771.066,196.75 771.516,198.825 771.967,199.359 772.419,200.434 772.872,200.708 773.326,200.444 773.78,199.319 774.234,199.272 774.686,195.664 775.138,193.971 \n",
       "  775.586,195.316 776.031,196.978 776.477,191.215 776.922,189.804 777.361,191.43 777.798,193.84 778.235,196.913 778.673,197.758 779.111,198.616 779.55,201.186 \n",
       "  779.99,202.285 780.433,202.506 780.877,202.106 781.322,202.904 781.77,204.11 782.218,206.103 782.67,208.247 783.125,207.165 783.582,205.528 784.039,207.214 \n",
       "  784.498,205.936 784.96,207.167 785.422,206.525 785.887,208.983 786.352,208.742 786.822,206.716 787.291,204.131 787.761,203.909 788.23,205.087 788.699,204.126 \n",
       "  789.17,204.178 789.641,203.998 790.113,205.261 790.585,208.047 791.06,211.924 791.539,211.653 792.022,212.361 792.508,213.06 792.996,212.387 793.486,212.121 \n",
       "  793.978,213.784 794.472,212.614 794.969,215.062 795.467,215.798 795.969,217.935 796.474,215.399 796.982,213.843 797.489,217.605 797.999,214.1 798.512,213.918 \n",
       "  799.024,215.16 799.537,215.722 800.052,216.077 800.569,214.84 801.088,212.591 801.606,211.526 802.123,209.944 802.64,210.736 803.157,211.524 803.675,215.364 \n",
       "  804.195,216.229 804.72,219.216 805.247,216.674 805.778,216.382 806.307,215.996 806.839,213.693 807.372,215.999 807.904,219.295 808.44,217.682 808.98,220.635 \n",
       "  809.52,216.039 810.065,213.63 810.606,214.652 811.146,214.419 811.688,215.223 812.231,215.7 812.776,217.759 813.323,216.45 813.872,213.631 814.42,214.612 \n",
       "  814.968,213.358 815.518,211.985 816.066,211.094 816.614,209.658 817.161,210.496 817.708,209.464 818.256,208.783 818.803,206.245 819.348,202.568 819.891,199.503 \n",
       "  820.43,200.304 820.965,203.05 821.501,204.665 822.04,203.765 822.579,201.158 823.118,200.412 823.655,200.684 824.191,201.01 824.729,201.324 825.266,201.7 \n",
       "  825.805,201.849 826.344,203.383 826.884,204.093 827.427,206.075 827.972,209.477 828.522,207.952 829.076,209.361 829.632,208.383 830.19,212.697 830.751,213.051 \n",
       "  831.317,213.659 831.886,213.825 832.46,212.065 833.034,213.506 833.611,213.913 834.191,217.348 834.774,214.477 835.362,213.473 835.948,208.069 836.535,206.71 \n",
       "  837.117,208.144 837.699,209.347 838.283,207.92 838.867,211.859 839.453,216.02 840.045,219.696 840.643,220.785 841.247,222.062 841.856,222.722 842.47,220.588 \n",
       "  843.087,219.651 843.704,217.558 844.324,221.742 844.944,222.11 845.571,220.419 846.199,221.67 846.829,224.436 847.463,223.706 848.103,224.076 848.744,221.232 \n",
       "  849.388,220.812 850.03,222.349 850.673,221.982 851.32,220.17 851.967,224.464 852.616,220.803 853.27,223.702 853.923,224.92 854.582,226.178 855.244,223.971 \n",
       "  855.909,227.432 856.576,228.441 857.25,230.95 857.929,229.818 858.612,231.442 859.299,232.05 859.993,232.048 860.69,230.276 861.391,226.237 862.089,231.52 \n",
       "  862.788,230.365 863.495,230.422 864.202,232.042 864.913,233.582 865.628,232.494 866.346,232.956 867.066,234.844 867.792,234.459 868.522,236.802 869.254,233.564 \n",
       "  869.991,233.505 870.726,227.987 871.461,227.297 872.19,232.195 872.922,237.771 873.663,240.383 874.411,241.854 875.168,240.459 875.93,240.971 876.695,238.247 \n",
       "  877.462,240.07 878.231,238.672 879.003,237.732 879.775,241.201 880.551,239.588 881.333,241.349 882.114,239.03 882.899,243.284 883.684,245.587 884.479,242.755 \n",
       "  885.277,244.174 886.076,247.327 886.881,244.35 887.69,241.303 888.498,242.335 889.305,244.644 890.116,247.756 890.934,247.757 891.756,248.602 892.581,248.852 \n",
       "  893.412,249.466 894.246,251.989 895.084,249.262 895.928,251.473 896.77,244.383 897.617,241.191 898.453,247.893 899.293,246.917 900.139,246.295 900.985,245.942 \n",
       "  901.832,246.831 902.679,245.523 903.53,247.191 904.382,244.618 905.235,247.009 906.089,249.381 906.949,248.966 907.814,249.772 908.683,245.805 909.552,247.586 \n",
       "  910.419,244.442 911.291,245.402 912.159,251.649 913.035,253.236 913.921,253.166 914.814,249.347 915.708,251.557 916.602,251.333 917.504,253.048 918.408,251.517 \n",
       "  919.318,250.754 920.228,249.735 921.14,252.904 922.051,252.663 922.971,251.495 923.891,253.302 924.814,252.055 925.743,252.377 926.672,249.423 927.605,249.388 \n",
       "  928.535,247.792 929.467,245.6 930.396,247.553 931.325,246.419 932.257,243.067 933.184,245.998 934.109,245.584 935.038,243.467 935.963,245.984 936.888,240.785 \n",
       "  937.815,241.812 938.734,239.959 939.654,237.062 940.569,237.149 941.478,238.482 942.388,243.963 943.301,247.59 944.228,244.687 945.158,242.695 946.085,241.523 \n",
       "  947.011,241.376 947.939,243.98 948.866,245.425 949.802,247.466 950.74,251.709 951.689,253.264 952.649,254.165 953.616,251.748 954.59,251.778 955.565,254.55 \n",
       "  956.545,256.42 957.534,260.77 958.534,260.877 959.545,259.382 960.562,258.95 961.58,261.185 962.607,259.113 963.639,258.655 964.672,262.432 965.714,261.761 \n",
       "  966.762,259.67 967.814,258.614 968.863,257.636 969.915,254.915 970.966,256.232 972.016,256.79 973.072,252.729 974.128,252.678 975.178,255.947 976.233,255.724 \n",
       "  977.296,255.752 978.359,256.004 979.423,261.757 980.497,263.948 981.585,264.054 982.682,259.639 983.782,261.479 984.879,258.425 985.982,261.819 987.083,261.137 \n",
       "  988.194,261.159 989.307,265.13 990.425,265.365 991.553,266.97 992.686,267.43 993.826,269.612 994.974,271.369 996.134,270.812 997.302,270.905 998.474,274.75 \n",
       "  999.656,272.891 1000.85,274.845 1002.04,274.278 1003.24,274.35 1004.44,272.032 1005.65,276.088 1006.86,278.627 1008.09,277.745 1009.31,279.199 1010.55,281.104 \n",
       "  1011.79,282.488 1013.04,286.252 1014.3,291.182 1015.58,291.546 1016.88,287.479 1018.19,287.22 1019.49,285.476 1020.8,286.296 1022.11,290.135 1023.42,291.926 \n",
       "  1024.76,292.359 1026.1,293.112 1027.45,295.944 1028.8,293.782 1030.17,296.578 1031.53,295.003 1032.91,293.187 1034.3,295.512 1035.68,296.703 1037.08,304.207 \n",
       "  1038.48,309.329 1039.92,309.266 1041.38,308.385 1042.84,309.631 1044.32,311.34 1045.81,311.547 1047.31,315.38 1048.82,315.93 1050.35,312.647 1051.89,314.387 \n",
       "  1053.43,318.73 1054.99,320.152 1056.56,320.539 1058.15,323.929 1059.74,318.617 1061.35,321.917 1062.95,325.22 1064.57,325.717 1066.2,328.212 1067.84,326.684 \n",
       "  1069.49,325.382 1071.14,329.759 1072.8,327.954 1074.48,324.708 1076.15,324.13 1077.81,326.638 1079.48,325.766 1081.15,326.091 1082.82,326.735 1084.49,328.656 \n",
       "  1086.16,328.146 1087.84,323.844 1089.51,327.51 1091.18,326.193 1092.85,330.265 1094.53,330.842 1096.21,330.046 1097.9,333.693 1099.59,338.94 1101.3,345.32 \n",
       "  1103.03,349.444 1104.78,353.494 1106.56,352.143 1108.35,358.886 1110.15,361.102 1111.98,367.245 1113.83,367.883 1115.71,363.52 1117.58,362.487 1119.47,365.818 \n",
       "  1121.35,367.744 1123.26,370.984 1125.18,371.414 1127.11,372.239 1129.04,372.47 1131,373.101 1132.95,372.414 1134.89,374.807 1136.83,375.742 1138.77,380.916 \n",
       "  1140.71,380.735 1142.64,380.711 1144.56,381.498 1146.47,382.607 1148.38,382.86 1150.29,384.087 1152.18,389.198 1154.07,394.309 1155.96,394.16 1157.85,394.951 \n",
       "  1159.73,395.551 1161.62,395.799 1163.52,397.554 1165.41,398.212 1167.3,396.318 1169.19,396.075 1171.08,402.683 1172.96,402.623 1174.86,403.123 1176.75,405.797 \n",
       "  1178.65,406.715 1180.55,409.426 1182.44,407.448 1184.34,412.016 1186.23,414.985 1188.11,414.985 1189.99,418.273 1191.85,422.894 1193.7,425.888 1195.55,426.193 \n",
       "  1197.42,430.08 1199.27,434.109 1201.13,436.971 1202.98,435.307 1204.82,436.723 1206.63,438.581 1208.43,440.435 1210.23,444.749 1212.04,448.397 1213.83,450.308 \n",
       "  1215.63,455.075 1217.42,455.868 1219.2,459.127 1220.97,460.825 1222.75,459.837 1224.52,463.159 1226.28,465.829 1228.02,466.096 1229.76,467.879 1231.49,467.895 \n",
       "  1233.21,466.303 1234.94,466.868 1236.67,472.497 1238.41,473.7 1240.16,474.166 1241.9,473.234 1243.64,472.826 1245.37,472.902 1247.1,475.094 1248.81,475.148 \n",
       "  1250.5,475.972 1252.19,477.551 1253.85,482.028 1255.5,488.432 1257.15,485 1258.8,490.651 1260.43,491.39 1262.07,490.293 1263.71,494.523 1265.33,498.866 \n",
       "  1266.97,504.124 1268.61,502.624 1270.24,502.265 1271.87,501.831 1273.49,504.113 1275.11,503.352 1276.73,504.332 1278.36,503.223 1279.99,506.144 1281.63,507.864 \n",
       "  1283.29,508.846 1284.95,510.143 1286.6,512.089 1288.26,515.338 1289.93,514.557 1291.6,514.645 1293.28,513.185 1294.96,515.933 1296.63,517.447 1298.3,520.725 \n",
       "  1299.93,520.808 1301.55,522.196 1303.15,520.939 1304.74,521.265 1306.32,525.807 1307.9,528.733 1309.46,533.661 1311.01,535.581 1312.55,538.016 1314.07,536.52 \n",
       "  1315.58,535.038 1317.09,534.347 1318.58,536.086 1320.05,540.967 1321.5,541.716 1322.94,542.742 1324.37,545.648 1325.78,546.913 1327.17,547.037 1328.57,547.269 \n",
       "  1329.95,549.614 1331.32,551.707 1332.69,551.572 1334.05,556.171 1335.38,559.412 1336.7,560.585 1337.99,561.894 1339.26,563.276 1340.52,564.346 1341.76,568.394 \n",
       "  1343,568.699 1344.23,569.576 1345.46,572.018 1346.7,573.925 1347.92,575.068 1349.15,574.292 1350.4,573.079 1351.64,574.95 1352.89,577.124 1354.13,577.826 \n",
       "  1355.37,579.417 1356.59,582.399 1357.81,585.722 1359.02,587.904 1360.22,588.43 1361.43,588.571 1362.63,590.45 1363.83,589.5 1365.03,592.478 1366.22,595.103 \n",
       "  1367.42,595.019 1368.61,596.722 1369.8,598.576 1370.99,597.906 1372.18,599.164 1373.36,600.303 1374.53,600.998 1375.71,604.184 1376.88,606.778 1378.06,609.096 \n",
       "  1379.22,611.424 1380.39,613.368 1381.55,615.285 1382.7,616.726 1383.84,617.966 1384.98,617.674 1386.11,619 1387.24,618.826 1388.37,619.05 1389.49,619.839 \n",
       "  1390.61,619.732 1391.73,620.047 1392.86,621.291 1393.98,621.174 1395.1,622.499 1396.23,625.518 1397.35,628.046 1398.47,630.564 1399.59,631.838 1400.7,633.444 \n",
       "  1401.81,635.358 1402.92,636.645 1404.02,638.206 1405.11,640.052 1406.2,640.15 1407.27,640.66 1408.34,643.213 1409.39,645.572 1410.42,646.258 1411.45,647.338 \n",
       "  1412.48,648.758 1413.51,651.376 1414.54,651.888 1415.56,653.612 1416.59,654.644 1417.62,656.787 1418.65,658.674 1419.67,658.579 1420.69,660.205 1421.72,662.096 \n",
       "  1422.74,663.53 1423.75,665.548 1424.76,666.747 1425.76,667.749 1426.76,668.653 1427.76,670.167 1428.76,670.803 1429.76,672.954 1430.75,674.113 1431.76,676.107 \n",
       "  1432.75,677.725 1433.74,679.545 1434.72,680.129 1435.7,681.144 1436.68,682.282 1437.65,682.563 1438.6,683.129 1439.55,685.288 1440.48,686.137 1441.4,687.654 \n",
       "  1442.31,689.574 1443.21,690.31 1444.1,691.608 1444.99,691.884 1445.88,692.583 1446.77,693.488 1447.67,694.569 1448.56,694.88 1449.44,694.888 1450.34,695.475 \n",
       "  1451.24,696.674 1452.14,698.291 1453.05,699.571 1453.96,700.164 1454.87,701.041 1455.78,702.85 1456.68,704.494 1457.59,705.368 1458.51,705.86 1459.42,705.882 \n",
       "  1460.33,706.548 1461.25,707.894 1462.16,708.871 1463.08,710.086 1464,711.505 1464.92,711.859 1465.84,712.646 1466.77,713.094 1467.69,714.757 1468.61,715.892 \n",
       "  1469.52,716.646 1470.44,717.263 1471.36,718.403 1472.29,719.023 1473.22,719.974 1474.16,720.157 1475.1,721.327 1476.04,721.679 1476.99,722.553 1477.94,723.584 \n",
       "  1478.9,724.219 1479.87,724.902 1480.85,725.979 1481.85,726.8 1482.84,727.23 1483.84,728.419 1484.84,729.244 1485.85,730.363 1486.87,731.573 1487.89,733.403 \n",
       "  1488.92,733.93 1489.94,734.806 1490.97,735.352 1492,735.632 1493.02,736.207 1494.03,737.194 1495.05,737.654 1496.06,738.351 1497.08,739.114 1498.1,740.198 \n",
       "  1499.11,740.921 1500.11,742.07 1501.11,744.023 1502.12,744.849 1503.12,745.601 1504.11,746.625 1505.11,747.508 1506.1,748.851 1507.1,749.797 1508.1,751.073 \n",
       "  1509.11,751.627 1510.13,752.542 1511.15,753.261 1512.18,753.485 1513.21,753.995 1514.25,755.004 1515.3,755.825 1516.36,756.488 1517.42,757.197 1518.5,757.852 \n",
       "  1519.58,758.692 1520.65,759.962 1521.73,760.844 1522.82,761.721 1523.9,762.705 1524.99,763.626 1526.07,764.565 1527.14,765.482 1528.22,766.506 1529.28,767.815 \n",
       "  1530.35,768.64 1531.4,769.29 1532.45,769.829 1533.49,770.565 1534.53,771.472 1535.56,772.16 1536.58,773.004 1537.6,773.333 1538.6,774.369 1539.59,775.182 \n",
       "  1540.58,776.097 1541.57,776.737 1542.55,777.394 1543.54,777.863 1544.52,778.726 1545.51,779.479 1546.49,780.238 1547.49,780.906 1548.48,781.747 1549.48,782.726 \n",
       "  1550.47,783.705 1551.46,784.315 1552.44,785.288 1553.41,785.902 1554.38,786.847 1555.35,787.537 1556.31,788.155 1557.26,788.96 1558.22,789.743 1559.17,790.465 \n",
       "  1560.12,791.416 1561.07,792.358 1562.03,793.127 1562.98,794.016 1563.92,794.724 1564.85,795.767 1565.78,796.568 1566.71,797.556 1567.61,798.216 1568.52,798.947 \n",
       "  1569.41,799.887 1570.31,800.813 1571.22,801.75 1572.12,802.528 1573.03,803.129 1573.95,803.783 1574.88,804.689 1575.8,805.657 1576.73,806.401 1577.67,807.189 \n",
       "  1578.61,807.915 1579.55,808.724 1580.5,809.493 1581.46,810.264 1582.42,810.98 1583.39,811.79 1584.37,812.604 1585.34,813.313 1586.32,814.077 1587.3,814.79 \n",
       "  1588.29,815.591 1589.27,816.361 1590.26,817.081 1591.24,817.894 1592.22,818.599 1593.21,819.377 1594.19,820.147 1595.17,820.908 1596.15,821.652 1597.13,822.445 \n",
       "  1598.1,823.226 1599.07,824 1600.03,824.785 1600.99,825.554 1601.95,826.314 1602.91,827.109 1603.85,827.869 1604.8,828.626 1605.74,829.374 1606.69,830.119 \n",
       "  1607.63,830.896 1608.58,831.659 1609.53,832.424 1610.47,833.219 1611.42,833.995 1612.37,834.794 1613.32,835.645 1614.26,836.44 1615.22,837.165 1616.17,837.969 \n",
       "  1617.12,838.8 1618.08,839.487 1619.04,840.208 1620,840.886 1620.96,841.758 1621.92,842.525 1622.88,843.351 1623.84,844.116 1624.8,844.976 1625.77,845.812 \n",
       "  1626.73,846.481 1627.7,847.343 1628.67,847.963 1629.65,848.667 1630.63,849.582 1631.61,850.43 1632.58,851.073 1633.56,851.854 1634.53,852.642 1635.5,853.367 \n",
       "  1636.47,854.183 1637.44,854.861 1638.4,855.686 1639.35,856.544 1640.31,857.252 1641.26,857.997 1642.21,858.768 1643.16,859.569 1644.12,860.103 1645.07,861.05 \n",
       "  1646.03,861.808 1646.98,862.638 1647.94,863.654 1648.9,864.914 1649.85,865.663 1650.81,866.673 1651.77,867.497 1652.75,868.302 1653.72,869.004 1654.69,869.904 \n",
       "  1655.67,870.814 1656.67,871.937 1657.67,872.794 1658.68,873.837 1659.69,874.874 1660.72,875.68 1661.75,876.576 1662.77,877.547 1663.8,878.335 1664.84,879.201 \n",
       "  1665.88,880.33 1666.92,881.106 1667.97,882.28 1669.02,882.858 1670.07,882.959 1671.12,884.217 1672.17,884.87 1673.21,885.575 1674.26,886.474 1675.31,887.312 \n",
       "  1676.36,888.376 1677.41,888.915 1678.46,890.067 1679.51,891.016 1680.57,891.801 1681.63,892.868 1682.7,894.333 1683.77,894.386 1684.84,895.391 1685.93,896.744 \n",
       "  1687.01,897.24 1688.1,898.756 1689.22,899.295 1690.35,900.376 1691.48,901.584 1692.63,902.297 1693.78,903.703 1694.95,904.33 1696.13,905.314 1697.31,906.426 \n",
       "  1698.52,907.248 1699.74,907.989 1700.96,909.101 1702.2,910.006 1703.46,910.492 1704.72,912.232 1705.99,912.87 1707.28,913.209 1708.58,914.219 1709.88,914.734 \n",
       "  1711.2,915.368 1712.52,916.23 1713.85,917.192 1715.19,917.889 1716.52,918.351 1717.87,919.295 1719.22,920.845 1720.58,922.513 1721.94,922.975 1723.3,924.067 \n",
       "  1724.68,925.036 1726.07,926.437 1727.46,927.402 1728.85,927.614 1730.25,928.191 1731.64,929.203 1733.03,930.407 1734.43,931.519 1735.83,931.52 1737.22,933.405 \n",
       "  1738.61,934.809 1740.01,935.928 1741.4,936.847 1742.8,937.679 1744.22,938.299 1745.62,940.168 1747.05,941.907 1748.48,943.485 1749.92,944.065 1751.36,944.77 \n",
       "  1752.8,945.332 1754.27,945.35 1755.72,946.607 1757.18,946.938 1758.65,947.071 1760.1,947.715 1761.57,950.16 1763.04,950.458 1764.5,950.424 1765.97,951.126 \n",
       "  1767.44,952.223 1768.9,952.376 1770.36,954.165 1771.83,955.088 1773.29,956.56 1774.76,957.592 1776.22,957.789 1777.68,958.422 1779.13,959.71 1780.57,961.913 \n",
       "  1782.02,962.104 1783.47,963.165 1784.93,964.167 1786.38,965.127 1787.82,966.122 1789.26,966.066 1790.71,966.047 1792.14,966.296 1793.57,966.63 1794.99,967.805 \n",
       "  1796.41,968.834 1797.84,969.977 1799.26,971.558 1800.7,973.038 1802.14,973.976 1803.6,975.624 1805.09,976.61 1806.59,978.111 1808.11,978.422 1809.62,980.743 \n",
       "  1811.14,981.331 1812.65,982.446 1814.17,982.561 1815.67,984.634 1817.18,984.759 1818.67,986.513 1820.17,987.697 1821.66,987.839 1823.14,989.347 1824.63,991.309 \n",
       "  1826.12,991.189 1827.6,992.761 1829.08,994.909 1830.57,993.716 1832.04,993.527 1833.51,994.548 1834.96,995.285 1836.41,998.88 1837.85,999.306 1839.27,1003.26 \n",
       "  1840.7,1002.85 1842.12,1003.4 1843.54,1003.25 1844.93,1004.25 1846.33,1004.72 1847.74,1006.46 1849.16,1005.69 1850.58,1008.1 1852.01,1009.26 1853.43,1007.92 \n",
       "  1854.85,1007.8 1856.26,1008.38 1857.66,1009.11 1859.07,1010.14 1860.46,1013.11 1861.87,1014.18 1863.29,1016.3 1864.72,1018.21 1866.17,1019.84 1867.63,1021.68 \n",
       "  1869.1,1022.8 1870.59,1022.59 1872.08,1022.38 1873.59,1024 1875.11,1024.75 1876.64,1024.88 1878.18,1025.58 1879.75,1027.9 1881.34,1028.55 1882.96,1028.3 \n",
       "  1884.59,1027.85 1886.22,1030.35 1887.85,1033.49 1889.48,1035.11 1891.13,1036.87 1892.78,1036.36 1894.43,1038.2 1896.09,1038.13 1897.75,1042.03 1899.43,1045.02 \n",
       "  1901.12,1044.14 1902.82,1045.51 1904.51,1044.29 1906.21,1046.53 1907.93,1048.87 1909.66,1049.63 1911.4,1049.89 1913.15,1051.18 1914.92,1051.37 1916.72,1053.66 \n",
       "  1918.53,1055.14 1920.36,1054.09 1922.17,1055.56 1924,1057.99 1925.85,1060.49 1927.72,1062.8 1929.62,1063.94 1931.54,1067.17 1933.46,1066.28 1935.39,1067.34 \n",
       "  1937.34,1066.29 1939.29,1067.67 1941.27,1066.86 1943.27,1068.53 1945.31,1071.42 1947.37,1074.13 1949.43,1077.52 1951.5,1080.07 1953.58,1083.28 1955.69,1085.49 \n",
       "  1957.81,1085.84 1959.94,1085.15 1962.06,1085.76 1964.21,1084.61 1966.38,1085.15 1968.57,1084.72 1970.77,1086.66 1973.02,1087.1 1975.27,1087.85 1977.56,1089.24 \n",
       "  1979.9,1092.34 1982.25,1093.99 1984.61,1097.83 1986.99,1101.31 1989.36,1100.52 1991.75,1103.34 1994.14,1106.58 1996.54,1108.99 1998.93,1112.25 2001.34,1109.6 \n",
       "  2003.73,1113.58 2006.13,1112.85 2008.54,1116.97 2010.96,1117.53 2013.36,1115.35 2015.78,1121.84 2018.24,1119.94 2020.72,1122.2 2023.22,1123.01 2025.72,1124.88 \n",
       "  2028.28,1125.6 2030.85,1129.15 2033.43,1132.47 2036.01,1133.36 2038.59,1131.59 2041.14,1134.04 2043.7,1132.6 2046.24,1133.43 2048.8,1131.98 2051.37,1130.26 \n",
       "  2053.94,1128.87 2056.54,1134.55 2059.17,1134.36 2061.79,1133.16 2064.41,1133.76 2067.02,1136.94 2069.65,1140.02 2072.26,1142.87 2074.88,1144.43 2077.47,1144.53 \n",
       "  2080.07,1145.41 2082.68,1146.45 2085.3,1145.96 2087.93,1145.61 2090.57,1144.95 2093.2,1147.83 2095.86,1153.94 2098.54,1152.66 2101.23,1156.36 2103.93,1155.56 \n",
       "  2106.66,1152.27 2109.41,1152.6 2112.2,1153.7 2115.03,1154.51 2117.9,1155.64 2120.8,1156.56 2123.73,1156.56 2126.67,1161.6 2129.63,1160.67 2132.6,1162.11 \n",
       "  2135.58,1159.14 2138.57,1160.36 2141.58,1159.04 2144.61,1157.42 2147.65,1153.25 2150.71,1158.43 2153.82,1159.55 2156.98,1161.82 2160.14,1161.03 2163.34,1162.71 \n",
       "  2166.58,1163.66 2169.84,1161.5 2173.1,1161.11 2176.4,1163.68 2179.71,1165.61 2183.03,1168.29 2186.36,1168.84 2189.7,1167.39 2193.05,1167.68 2196.4,1170.73 \n",
       "  2199.76,1174.48 2203.12,1172.02 2206.47,1172.97 2209.83,1166.69 2213.21,1161.55 2216.61,1166.56 2220.05,1164.34 2223.5,1165.91 2227,1164.78 2230.52,1167.43 \n",
       "  2234.08,1167.14 2237.63,1169.1 2241.23,1173.69 2244.83,1168.55 2248.39,1169.77 2252.01,1174.3 2255.62,1177.19 2259.22,1178.28 2262.84,1180.13 2266.46,1178.6 \n",
       "  2270.09,1183.06 2273.71,1192.87 2277.31,1193.84 2280.85,1195.76 2284.36,1198.73 2287.85,1201.82 2291.3,1203.3 2294.71,1196.14 2298.11,1198.49 2301.53,1196.62 \n",
       "  2304.94,1196.69 2308.37,1195.47 2311.79,1201.32 2315.22,1200.27 2318.63,1200.17 2322.05,1199.92 2325.45,1198.28 2328.87,1200.63 2332.3,1200.83 2335.7,1198.49 \n",
       "  2339.12,1200.66 2342.54,1202.52 2345.94,1200.89 2349.34,1202.31 2352.74,1205.71 2352.76,1206.04 \n",
       "  \"/>\n",
       "<path clip-path=\"url(#clip260)\" d=\"\n",
       "M1951.03 248.629 L2279.25 248.629 L2279.25 93.1086 L1951.03 93.1086  Z\n",
       "  \" fill=\"#ffffff\" fill-rule=\"evenodd\" fill-opacity=\"1\"/>\n",
       "<polyline clip-path=\"url(#clip260)\" style=\"stroke:#000000; stroke-linecap:round; stroke-linejoin:round; stroke-width:4; stroke-opacity:1; fill:none\" points=\"\n",
       "  1951.03,248.629 2279.25,248.629 2279.25,93.1086 1951.03,93.1086 1951.03,248.629 \n",
       "  \"/>\n",
       "<polyline clip-path=\"url(#clip260)\" style=\"stroke:#009af9; stroke-linecap:round; stroke-linejoin:round; stroke-width:4; stroke-opacity:1; fill:none\" points=\"\n",
       "  1975.54,144.949 2122.56,144.949 \n",
       "  \"/>\n",
       "<path clip-path=\"url(#clip260)\" d=\"M2147.06 151.997 L2147.06 136.303 L2151.32 136.303 L2151.32 151.835 Q2151.32 155.516 2152.75 157.368 Q2154.19 159.196 2157.06 159.196 Q2160.51 159.196 2162.5 156.997 Q2164.51 154.798 2164.51 151.002 L2164.51 136.303 L2168.77 136.303 L2168.77 162.229 L2164.51 162.229 L2164.51 158.247 Q2162.96 160.608 2160.9 161.766 Q2158.86 162.9 2156.16 162.9 Q2151.69 162.9 2149.37 160.122 Q2147.06 157.344 2147.06 151.997 M2157.78 135.678 L2157.78 135.678 Z\" fill=\"#000000\" fill-rule=\"evenodd\" fill-opacity=\"1\" /><path clip-path=\"url(#clip260)\" d=\"M2178.96 158.293 L2186.6 158.293 L2186.6 131.928 L2178.29 133.595 L2178.29 129.335 L2186.55 127.669 L2191.23 127.669 L2191.23 158.293 L2198.86 158.293 L2198.86 162.229 L2178.96 162.229 L2178.96 158.293 Z\" fill=\"#000000\" fill-rule=\"evenodd\" fill-opacity=\"1\" /><path clip-path=\"url(#clip260)\" d=\"M2217.94 126.257 Q2214.84 131.581 2213.33 136.789 Q2211.83 141.997 2211.83 147.344 Q2211.83 152.692 2213.33 157.946 Q2214.86 163.178 2217.94 168.479 L2214.23 168.479 Q2210.76 163.039 2209.03 157.784 Q2207.31 152.53 2207.31 147.344 Q2207.31 142.182 2209.03 136.951 Q2210.74 131.72 2214.23 126.257 L2217.94 126.257 Z\" fill=\"#000000\" fill-rule=\"evenodd\" fill-opacity=\"1\" /><path clip-path=\"url(#clip260)\" d=\"M2230.41 128.942 L2230.41 136.303 L2239.19 136.303 L2239.19 139.613 L2230.41 139.613 L2230.41 153.687 Q2230.41 156.858 2231.27 157.761 Q2232.15 158.664 2234.81 158.664 L2239.19 158.664 L2239.19 162.229 L2234.81 162.229 Q2229.88 162.229 2228.01 160.4 Q2226.13 158.548 2226.13 153.687 L2226.13 139.613 L2223.01 139.613 L2223.01 136.303 L2226.13 136.303 L2226.13 128.942 L2230.41 128.942 Z\" fill=\"#000000\" fill-rule=\"evenodd\" fill-opacity=\"1\" /><path clip-path=\"url(#clip260)\" d=\"M2244.12 126.257 L2247.82 126.257 Q2251.29 131.72 2253.01 136.951 Q2254.74 142.182 2254.74 147.344 Q2254.74 152.53 2253.01 157.784 Q2251.29 163.039 2247.82 168.479 L2244.12 168.479 Q2247.2 163.178 2248.7 157.946 Q2250.23 152.692 2250.23 147.344 Q2250.23 141.997 2248.7 136.789 Q2247.2 131.581 2244.12 126.257 Z\" fill=\"#000000\" fill-rule=\"evenodd\" fill-opacity=\"1\" /><polyline clip-path=\"url(#clip260)\" style=\"stroke:#e26f46; stroke-linecap:round; stroke-linejoin:round; stroke-width:4; stroke-opacity:1; fill:none\" points=\"\n",
       "  1975.54,196.789 2122.56,196.789 \n",
       "  \"/>\n",
       "<path clip-path=\"url(#clip260)\" d=\"M2147.06 203.837 L2147.06 188.143 L2151.32 188.143 L2151.32 203.675 Q2151.32 207.356 2152.75 209.208 Q2154.19 211.036 2157.06 211.036 Q2160.51 211.036 2162.5 208.837 Q2164.51 206.638 2164.51 202.842 L2164.51 188.143 L2168.77 188.143 L2168.77 214.069 L2164.51 214.069 L2164.51 210.087 Q2162.96 212.448 2160.9 213.606 Q2158.86 214.74 2156.16 214.74 Q2151.69 214.74 2149.37 211.962 Q2147.06 209.184 2147.06 203.837 M2157.78 187.518 L2157.78 187.518 Z\" fill=\"#000000\" fill-rule=\"evenodd\" fill-opacity=\"1\" /><path clip-path=\"url(#clip260)\" d=\"M2182.17 210.133 L2198.49 210.133 L2198.49 214.069 L2176.55 214.069 L2176.55 210.133 Q2179.21 207.379 2183.79 202.749 Q2188.4 198.096 2189.58 196.754 Q2191.83 194.231 2192.71 192.495 Q2193.61 190.735 2193.61 189.046 Q2193.61 186.291 2191.67 184.555 Q2189.74 182.819 2186.64 182.819 Q2184.44 182.819 2181.99 183.583 Q2179.56 184.347 2176.78 185.897 L2176.78 181.175 Q2179.61 180.041 2182.06 179.462 Q2184.51 178.884 2186.55 178.884 Q2191.92 178.884 2195.11 181.569 Q2198.31 184.254 2198.31 188.745 Q2198.31 190.874 2197.5 192.796 Q2196.71 194.694 2194.6 197.286 Q2194.03 197.958 2190.92 201.175 Q2187.82 204.37 2182.17 210.133 Z\" fill=\"#000000\" fill-rule=\"evenodd\" fill-opacity=\"1\" /><path clip-path=\"url(#clip260)\" d=\"M2217.94 178.097 Q2214.84 183.421 2213.33 188.629 Q2211.83 193.837 2211.83 199.184 Q2211.83 204.532 2213.33 209.786 Q2214.86 215.018 2217.94 220.319 L2214.23 220.319 Q2210.76 214.879 2209.03 209.624 Q2207.31 204.37 2207.31 199.184 Q2207.31 194.022 2209.03 188.791 Q2210.74 183.56 2214.23 178.097 L2217.94 178.097 Z\" fill=\"#000000\" fill-rule=\"evenodd\" fill-opacity=\"1\" /><path clip-path=\"url(#clip260)\" d=\"M2230.41 180.782 L2230.41 188.143 L2239.19 188.143 L2239.19 191.453 L2230.41 191.453 L2230.41 205.527 Q2230.41 208.698 2231.27 209.601 Q2232.15 210.504 2234.81 210.504 L2239.19 210.504 L2239.19 214.069 L2234.81 214.069 Q2229.88 214.069 2228.01 212.24 Q2226.13 210.388 2226.13 205.527 L2226.13 191.453 L2223.01 191.453 L2223.01 188.143 L2226.13 188.143 L2226.13 180.782 L2230.41 180.782 Z\" fill=\"#000000\" fill-rule=\"evenodd\" fill-opacity=\"1\" /><path clip-path=\"url(#clip260)\" d=\"M2244.12 178.097 L2247.82 178.097 Q2251.29 183.56 2253.01 188.791 Q2254.74 194.022 2254.74 199.184 Q2254.74 204.37 2253.01 209.624 Q2251.29 214.879 2247.82 220.319 L2244.12 220.319 Q2247.2 215.018 2248.7 209.786 Q2250.23 204.532 2250.23 199.184 Q2250.23 193.837 2248.7 188.629 Q2247.2 183.421 2244.12 178.097 Z\" fill=\"#000000\" fill-rule=\"evenodd\" fill-opacity=\"1\" /></svg>\n"
      ]
     },
     "execution_count": 5,
     "metadata": {},
     "output_type": "execute_result"
    }
   ],
   "source": [
    "plotting_sol = solve(prob_truesde, SOSRI())\n",
    "plot(plotting_sol)"
   ]
  },
  {
   "cell_type": "markdown",
   "id": "7084f1d0",
   "metadata": {},
   "source": [
    "Now generate a set of solutions - our training data will be the means and variances of the dataset. "
   ]
  },
  {
   "cell_type": "code",
   "execution_count": 6,
   "id": "851b7e83",
   "metadata": {},
   "outputs": [],
   "source": [
    "# Take a typical sample from the mean\n",
    "ensemble_prob = EnsembleProblem(prob_truesde)\n",
    "ensemble_sol = solve(ensemble_prob, SOSRI(), trajectories = 10000)\n",
    "ensemble_sum = EnsembleSummary(ensemble_sol)\n",
    "\n",
    "sde_data, sde_data_vars = Array.(timeseries_point_meanvar(ensemble_sol, tsteps))\n",
    "nothing"
   ]
  },
  {
   "cell_type": "markdown",
   "id": "e9d9fa89",
   "metadata": {},
   "source": [
    "This is a basic structure for the neural SDE: define two different neural networks - note that they include some deterministic parts in the form of the first layer of the drift network. We may think about ways to do this wrt the chemical sciences. Here they use NeuralDSDE - the extra D stands for \"Diagonal\", meaning that the g matrix explained above has to be diagonal. For our purposes there is another related solver - NeuralSDE. It seems that NeuralSDE will be a great tool for what we are trying to do, but I am not sure if there are other options availible. "
   ]
  },
  {
   "cell_type": "code",
   "execution_count": 7,
   "id": "2b3888af",
   "metadata": {
    "scrolled": true
   },
   "outputs": [
    {
     "name": "stderr",
     "output_type": "stream",
     "text": [
      "\u001b[33m\u001b[1m┌ \u001b[22m\u001b[39m\u001b[33m\u001b[1mWarning: \u001b[22m\u001b[39mFastChain is being deprecated in favor of Lux.jl. Lux.jl uses functions with explicit parameters f(u,p) like FastChain, but is fully featured and documented machine learning library. See the Lux.jl documentation for more details.\n",
      "\u001b[33m\u001b[1m└ \u001b[22m\u001b[39m\u001b[90m@ DiffEqFlux C:\\Users\\ChemeGrad2021\\.julia\\packages\\DiffEqFlux\\2IJEZ\\src\\fast_layers.jl:9\u001b[39m\n",
      "\u001b[33m\u001b[1m┌ \u001b[22m\u001b[39m\u001b[33m\u001b[1mWarning: \u001b[22m\u001b[39mFastChain is being deprecated in favor of Lux.jl. Lux.jl uses functions with explicit parameters f(u,p) like FastChain, but is fully featured and documented machine learning library. See the Lux.jl documentation for more details.\n",
      "\u001b[33m\u001b[1m└ \u001b[22m\u001b[39m\u001b[90m@ DiffEqFlux C:\\Users\\ChemeGrad2021\\.julia\\packages\\DiffEqFlux\\2IJEZ\\src\\fast_layers.jl:9\u001b[39m\n"
     ]
    }
   ],
   "source": [
    "drift_dudt = FastChain((x, p) -> x.^3,\n",
    "                       FastDense(2, 50, tanh),\n",
    "                       FastDense(50, 2))\n",
    "diffusion_dudt = FastChain(FastDense(2, 2))\n",
    "\n",
    "neuralsde = NeuralDSDE(drift_dudt, diffusion_dudt, tspan, SOSRI(),\n",
    "                       saveat = tsteps, reltol = 1e-1, abstol = 1e-1)\n",
    "nothing"
   ]
  },
  {
   "cell_type": "markdown",
   "id": "3ae3ae78",
   "metadata": {},
   "source": [
    "Flux.jl uses random weights to initialize NN's. Here they run the NSDE and plot against data - mostly to show that it does not fit. This whole process is the first hint that training will be a slow process - one loss evaluation in this case requires a large number of ODE solves to generate means and variances. "
   ]
  },
  {
   "cell_type": "code",
   "execution_count": 8,
   "id": "3ad9c881",
   "metadata": {},
   "outputs": [],
   "source": [
    "# Get the prediction using the correct initial condition\n",
    "prediction0 = neuralsde(u0)\n",
    "\n",
    "drift_(u, p, t) = drift_dudt(u, p[1:neuralsde.len])\n",
    "diffusion_(u, p, t) = diffusion_dudt(u, p[(neuralsde.len+1):end])\n",
    "\n",
    "prob_neuralsde = SDEProblem(drift_, diffusion_, u0,(0.0f0, 1.2f0), neuralsde.p)\n",
    "\n",
    "ensemble_nprob = EnsembleProblem(prob_neuralsde)\n",
    "ensemble_nsol = solve(ensemble_nprob, SOSRI(), trajectories = 100,\n",
    "                      saveat = tsteps)\n",
    "ensemble_nsum = EnsembleSummary(ensemble_nsol)\n",
    "\n",
    "plt1 = plot(ensemble_nsum, title = \"Neural SDE: Before Training\")\n",
    "scatter!(plt1, tsteps, sde_data', lw = 3)\n",
    "\n",
    "scatter(tsteps, sde_data[1,:], label = \"data\")\n",
    "scatter!(tsteps, prediction0[1,:], label = \"prediction\")\n",
    "nothing"
   ]
  },
  {
   "cell_type": "code",
   "execution_count": 9,
   "id": "82c0654e",
   "metadata": {
    "scrolled": true
   },
   "outputs": [
    {
     "data": {
      "image/svg+xml": [
       "<?xml version=\"1.0\" encoding=\"utf-8\"?>\n",
       "<svg xmlns=\"http://www.w3.org/2000/svg\" xmlns:xlink=\"http://www.w3.org/1999/xlink\" width=\"600\" height=\"400\" viewBox=\"0 0 2400 1600\">\n",
       "<defs>\n",
       "  <clipPath id=\"clip300\">\n",
       "    <rect x=\"0\" y=\"0\" width=\"2400\" height=\"1600\"/>\n",
       "  </clipPath>\n",
       "</defs>\n",
       "<path clip-path=\"url(#clip300)\" d=\"\n",
       "M0 1600 L2400 1600 L2400 0 L0 0  Z\n",
       "  \" fill=\"#ffffff\" fill-rule=\"evenodd\" fill-opacity=\"1\"/>\n",
       "<defs>\n",
       "  <clipPath id=\"clip301\">\n",
       "    <rect x=\"480\" y=\"0\" width=\"1681\" height=\"1600\"/>\n",
       "  </clipPath>\n",
       "</defs>\n",
       "<path clip-path=\"url(#clip300)\" d=\"\n",
       "M147.478 1486.45 L2352.76 1486.45 L2352.76 123.472 L147.478 123.472  Z\n",
       "  \" fill=\"#ffffff\" fill-rule=\"evenodd\" fill-opacity=\"1\"/>\n",
       "<defs>\n",
       "  <clipPath id=\"clip302\">\n",
       "    <rect x=\"147\" y=\"123\" width=\"2206\" height=\"1364\"/>\n",
       "  </clipPath>\n",
       "</defs>\n",
       "<polyline clip-path=\"url(#clip302)\" style=\"stroke:#000000; stroke-linecap:round; stroke-linejoin:round; stroke-width:2; stroke-opacity:0.1; fill:none\" points=\"\n",
       "  209.891,1486.45 209.891,123.472 \n",
       "  \"/>\n",
       "<polyline clip-path=\"url(#clip302)\" style=\"stroke:#000000; stroke-linecap:round; stroke-linejoin:round; stroke-width:2; stroke-opacity:0.1; fill:none\" points=\"\n",
       "  730.004,1486.45 730.004,123.472 \n",
       "  \"/>\n",
       "<polyline clip-path=\"url(#clip302)\" style=\"stroke:#000000; stroke-linecap:round; stroke-linejoin:round; stroke-width:2; stroke-opacity:0.1; fill:none\" points=\"\n",
       "  1250.12,1486.45 1250.12,123.472 \n",
       "  \"/>\n",
       "<polyline clip-path=\"url(#clip302)\" style=\"stroke:#000000; stroke-linecap:round; stroke-linejoin:round; stroke-width:2; stroke-opacity:0.1; fill:none\" points=\"\n",
       "  1770.23,1486.45 1770.23,123.472 \n",
       "  \"/>\n",
       "<polyline clip-path=\"url(#clip302)\" style=\"stroke:#000000; stroke-linecap:round; stroke-linejoin:round; stroke-width:2; stroke-opacity:0.1; fill:none\" points=\"\n",
       "  2290.34,1486.45 2290.34,123.472 \n",
       "  \"/>\n",
       "<polyline clip-path=\"url(#clip300)\" style=\"stroke:#000000; stroke-linecap:round; stroke-linejoin:round; stroke-width:4; stroke-opacity:1; fill:none\" points=\"\n",
       "  147.478,1486.45 2352.76,1486.45 \n",
       "  \"/>\n",
       "<polyline clip-path=\"url(#clip300)\" style=\"stroke:#000000; stroke-linecap:round; stroke-linejoin:round; stroke-width:4; stroke-opacity:1; fill:none\" points=\"\n",
       "  209.891,1486.45 209.891,1467.55 \n",
       "  \"/>\n",
       "<polyline clip-path=\"url(#clip300)\" style=\"stroke:#000000; stroke-linecap:round; stroke-linejoin:round; stroke-width:4; stroke-opacity:1; fill:none\" points=\"\n",
       "  730.004,1486.45 730.004,1467.55 \n",
       "  \"/>\n",
       "<polyline clip-path=\"url(#clip300)\" style=\"stroke:#000000; stroke-linecap:round; stroke-linejoin:round; stroke-width:4; stroke-opacity:1; fill:none\" points=\"\n",
       "  1250.12,1486.45 1250.12,1467.55 \n",
       "  \"/>\n",
       "<polyline clip-path=\"url(#clip300)\" style=\"stroke:#000000; stroke-linecap:round; stroke-linejoin:round; stroke-width:4; stroke-opacity:1; fill:none\" points=\"\n",
       "  1770.23,1486.45 1770.23,1467.55 \n",
       "  \"/>\n",
       "<polyline clip-path=\"url(#clip300)\" style=\"stroke:#000000; stroke-linecap:round; stroke-linejoin:round; stroke-width:4; stroke-opacity:1; fill:none\" points=\"\n",
       "  2290.34,1486.45 2290.34,1467.55 \n",
       "  \"/>\n",
       "<path clip-path=\"url(#clip300)\" d=\"M172.195 1517.37 Q168.584 1517.37 166.755 1520.93 Q164.95 1524.47 164.95 1531.6 Q164.95 1538.71 166.755 1542.27 Q168.584 1545.82 172.195 1545.82 Q175.829 1545.82 177.635 1542.27 Q179.463 1538.71 179.463 1531.6 Q179.463 1524.47 177.635 1520.93 Q175.829 1517.37 172.195 1517.37 M172.195 1513.66 Q178.005 1513.66 181.061 1518.27 Q184.139 1522.85 184.139 1531.6 Q184.139 1540.33 181.061 1544.94 Q178.005 1549.52 172.195 1549.52 Q166.385 1549.52 163.306 1544.94 Q160.251 1540.33 160.251 1531.6 Q160.251 1522.85 163.306 1518.27 Q166.385 1513.66 172.195 1513.66 Z\" fill=\"#000000\" fill-rule=\"evenodd\" fill-opacity=\"1\" /><path clip-path=\"url(#clip300)\" d=\"M192.357 1542.97 L197.241 1542.97 L197.241 1548.85 L192.357 1548.85 L192.357 1542.97 Z\" fill=\"#000000\" fill-rule=\"evenodd\" fill-opacity=\"1\" /><path clip-path=\"url(#clip300)\" d=\"M217.426 1517.37 Q213.815 1517.37 211.986 1520.93 Q210.181 1524.47 210.181 1531.6 Q210.181 1538.71 211.986 1542.27 Q213.815 1545.82 217.426 1545.82 Q221.06 1545.82 222.866 1542.27 Q224.695 1538.71 224.695 1531.6 Q224.695 1524.47 222.866 1520.93 Q221.06 1517.37 217.426 1517.37 M217.426 1513.66 Q223.236 1513.66 226.292 1518.27 Q229.371 1522.85 229.371 1531.6 Q229.371 1540.33 226.292 1544.94 Q223.236 1549.52 217.426 1549.52 Q211.616 1549.52 208.537 1544.94 Q205.482 1540.33 205.482 1531.6 Q205.482 1522.85 208.537 1518.27 Q211.616 1513.66 217.426 1513.66 Z\" fill=\"#000000\" fill-rule=\"evenodd\" fill-opacity=\"1\" /><path clip-path=\"url(#clip300)\" d=\"M247.588 1517.37 Q243.977 1517.37 242.148 1520.93 Q240.343 1524.47 240.343 1531.6 Q240.343 1538.71 242.148 1542.27 Q243.977 1545.82 247.588 1545.82 Q251.222 1545.82 253.028 1542.27 Q254.856 1538.71 254.856 1531.6 Q254.856 1524.47 253.028 1520.93 Q251.222 1517.37 247.588 1517.37 M247.588 1513.66 Q253.398 1513.66 256.454 1518.27 Q259.532 1522.85 259.532 1531.6 Q259.532 1540.33 256.454 1544.94 Q253.398 1549.52 247.588 1549.52 Q241.778 1549.52 238.699 1544.94 Q235.644 1540.33 235.644 1531.6 Q235.644 1522.85 238.699 1518.27 Q241.778 1513.66 247.588 1513.66 Z\" fill=\"#000000\" fill-rule=\"evenodd\" fill-opacity=\"1\" /><path clip-path=\"url(#clip300)\" d=\"M692.805 1517.37 Q689.194 1517.37 687.366 1520.93 Q685.56 1524.47 685.56 1531.6 Q685.56 1538.71 687.366 1542.27 Q689.194 1545.82 692.805 1545.82 Q696.44 1545.82 698.245 1542.27 Q700.074 1538.71 700.074 1531.6 Q700.074 1524.47 698.245 1520.93 Q696.44 1517.37 692.805 1517.37 M692.805 1513.66 Q698.615 1513.66 701.671 1518.27 Q704.75 1522.85 704.75 1531.6 Q704.75 1540.33 701.671 1544.94 Q698.615 1549.52 692.805 1549.52 Q686.995 1549.52 683.916 1544.94 Q680.861 1540.33 680.861 1531.6 Q680.861 1522.85 683.916 1518.27 Q686.995 1513.66 692.805 1513.66 Z\" fill=\"#000000\" fill-rule=\"evenodd\" fill-opacity=\"1\" /><path clip-path=\"url(#clip300)\" d=\"M712.967 1542.97 L717.851 1542.97 L717.851 1548.85 L712.967 1548.85 L712.967 1542.97 Z\" fill=\"#000000\" fill-rule=\"evenodd\" fill-opacity=\"1\" /><path clip-path=\"url(#clip300)\" d=\"M732.064 1544.91 L748.384 1544.91 L748.384 1548.85 L726.439 1548.85 L726.439 1544.91 Q729.101 1542.16 733.685 1537.53 Q738.291 1532.88 739.472 1531.53 Q741.717 1529.01 742.597 1527.27 Q743.499 1525.51 743.499 1523.82 Q743.499 1521.07 741.555 1519.33 Q739.634 1517.6 736.532 1517.6 Q734.333 1517.6 731.879 1518.36 Q729.449 1519.13 726.671 1520.68 L726.671 1515.95 Q729.495 1514.82 731.949 1514.24 Q734.402 1513.66 736.439 1513.66 Q741.81 1513.66 745.004 1516.35 Q748.199 1519.03 748.199 1523.52 Q748.199 1525.65 747.388 1527.57 Q746.601 1529.47 744.495 1532.07 Q743.916 1532.74 740.814 1535.95 Q737.712 1539.15 732.064 1544.91 Z\" fill=\"#000000\" fill-rule=\"evenodd\" fill-opacity=\"1\" /><path clip-path=\"url(#clip300)\" d=\"M758.245 1514.29 L776.601 1514.29 L776.601 1518.22 L762.527 1518.22 L762.527 1526.7 Q763.546 1526.35 764.564 1526.19 Q765.583 1526 766.601 1526 Q772.388 1526 775.768 1529.17 Q779.147 1532.34 779.147 1537.76 Q779.147 1543.34 775.675 1546.44 Q772.203 1549.52 765.884 1549.52 Q763.708 1549.52 761.439 1549.15 Q759.194 1548.78 756.786 1548.04 L756.786 1543.34 Q758.87 1544.47 761.092 1545.03 Q763.314 1545.58 765.791 1545.58 Q769.796 1545.58 772.134 1543.48 Q774.472 1541.37 774.472 1537.76 Q774.472 1534.15 772.134 1532.04 Q769.796 1529.94 765.791 1529.94 Q763.916 1529.94 762.041 1530.35 Q760.189 1530.77 758.245 1531.65 L758.245 1514.29 Z\" fill=\"#000000\" fill-rule=\"evenodd\" fill-opacity=\"1\" /><path clip-path=\"url(#clip300)\" d=\"M1212.42 1517.37 Q1208.81 1517.37 1206.98 1520.93 Q1205.18 1524.47 1205.18 1531.6 Q1205.18 1538.71 1206.98 1542.27 Q1208.81 1545.82 1212.42 1545.82 Q1216.05 1545.82 1217.86 1542.27 Q1219.69 1538.71 1219.69 1531.6 Q1219.69 1524.47 1217.86 1520.93 Q1216.05 1517.37 1212.42 1517.37 M1212.42 1513.66 Q1218.23 1513.66 1221.29 1518.27 Q1224.36 1522.85 1224.36 1531.6 Q1224.36 1540.33 1221.29 1544.94 Q1218.23 1549.52 1212.42 1549.52 Q1206.61 1549.52 1203.53 1544.94 Q1200.48 1540.33 1200.48 1531.6 Q1200.48 1522.85 1203.53 1518.27 Q1206.61 1513.66 1212.42 1513.66 Z\" fill=\"#000000\" fill-rule=\"evenodd\" fill-opacity=\"1\" /><path clip-path=\"url(#clip300)\" d=\"M1232.58 1542.97 L1237.47 1542.97 L1237.47 1548.85 L1232.58 1548.85 L1232.58 1542.97 Z\" fill=\"#000000\" fill-rule=\"evenodd\" fill-opacity=\"1\" /><path clip-path=\"url(#clip300)\" d=\"M1247.7 1514.29 L1266.05 1514.29 L1266.05 1518.22 L1251.98 1518.22 L1251.98 1526.7 Q1253 1526.35 1254.02 1526.19 Q1255.04 1526 1256.05 1526 Q1261.84 1526 1265.22 1529.17 Q1268.6 1532.34 1268.6 1537.76 Q1268.6 1543.34 1265.13 1546.44 Q1261.66 1549.52 1255.34 1549.52 Q1253.16 1549.52 1250.89 1549.15 Q1248.65 1548.78 1246.24 1548.04 L1246.24 1543.34 Q1248.32 1544.47 1250.55 1545.03 Q1252.77 1545.58 1255.24 1545.58 Q1259.25 1545.58 1261.59 1543.48 Q1263.92 1541.37 1263.92 1537.76 Q1263.92 1534.15 1261.59 1532.04 Q1259.25 1529.94 1255.24 1529.94 Q1253.37 1529.94 1251.49 1530.35 Q1249.64 1530.77 1247.7 1531.65 L1247.7 1514.29 Z\" fill=\"#000000\" fill-rule=\"evenodd\" fill-opacity=\"1\" /><path clip-path=\"url(#clip300)\" d=\"M1287.81 1517.37 Q1284.2 1517.37 1282.37 1520.93 Q1280.57 1524.47 1280.57 1531.6 Q1280.57 1538.71 1282.37 1542.27 Q1284.2 1545.82 1287.81 1545.82 Q1291.45 1545.82 1293.25 1542.27 Q1295.08 1538.71 1295.08 1531.6 Q1295.08 1524.47 1293.25 1520.93 Q1291.45 1517.37 1287.81 1517.37 M1287.81 1513.66 Q1293.62 1513.66 1296.68 1518.27 Q1299.76 1522.85 1299.76 1531.6 Q1299.76 1540.33 1296.68 1544.94 Q1293.62 1549.52 1287.81 1549.52 Q1282 1549.52 1278.92 1544.94 Q1275.87 1540.33 1275.87 1531.6 Q1275.87 1522.85 1278.92 1518.27 Q1282 1513.66 1287.81 1513.66 Z\" fill=\"#000000\" fill-rule=\"evenodd\" fill-opacity=\"1\" /><path clip-path=\"url(#clip300)\" d=\"M1733.03 1517.37 Q1729.42 1517.37 1727.59 1520.93 Q1725.79 1524.47 1725.79 1531.6 Q1725.79 1538.71 1727.59 1542.27 Q1729.42 1545.82 1733.03 1545.82 Q1736.67 1545.82 1738.47 1542.27 Q1740.3 1538.71 1740.3 1531.6 Q1740.3 1524.47 1738.47 1520.93 Q1736.67 1517.37 1733.03 1517.37 M1733.03 1513.66 Q1738.84 1513.66 1741.9 1518.27 Q1744.98 1522.85 1744.98 1531.6 Q1744.98 1540.33 1741.9 1544.94 Q1738.84 1549.52 1733.03 1549.52 Q1727.22 1549.52 1724.14 1544.94 Q1721.09 1540.33 1721.09 1531.6 Q1721.09 1522.85 1724.14 1518.27 Q1727.22 1513.66 1733.03 1513.66 Z\" fill=\"#000000\" fill-rule=\"evenodd\" fill-opacity=\"1\" /><path clip-path=\"url(#clip300)\" d=\"M1753.19 1542.97 L1758.08 1542.97 L1758.08 1548.85 L1753.19 1548.85 L1753.19 1542.97 Z\" fill=\"#000000\" fill-rule=\"evenodd\" fill-opacity=\"1\" /><path clip-path=\"url(#clip300)\" d=\"M1767.08 1514.29 L1789.3 1514.29 L1789.3 1516.28 L1776.76 1548.85 L1771.87 1548.85 L1783.68 1518.22 L1767.08 1518.22 L1767.08 1514.29 Z\" fill=\"#000000\" fill-rule=\"evenodd\" fill-opacity=\"1\" /><path clip-path=\"url(#clip300)\" d=\"M1798.47 1514.29 L1816.83 1514.29 L1816.83 1518.22 L1802.75 1518.22 L1802.75 1526.7 Q1803.77 1526.35 1804.79 1526.19 Q1805.81 1526 1806.83 1526 Q1812.61 1526 1815.99 1529.17 Q1819.37 1532.34 1819.37 1537.76 Q1819.37 1543.34 1815.9 1546.44 Q1812.43 1549.52 1806.11 1549.52 Q1803.93 1549.52 1801.66 1549.15 Q1799.42 1548.78 1797.01 1548.04 L1797.01 1543.34 Q1799.1 1544.47 1801.32 1545.03 Q1803.54 1545.58 1806.02 1545.58 Q1810.02 1545.58 1812.36 1543.48 Q1814.7 1541.37 1814.7 1537.76 Q1814.7 1534.15 1812.36 1532.04 Q1810.02 1529.94 1806.02 1529.94 Q1804.14 1529.94 1802.27 1530.35 Q1800.41 1530.77 1798.47 1531.65 L1798.47 1514.29 Z\" fill=\"#000000\" fill-rule=\"evenodd\" fill-opacity=\"1\" /><path clip-path=\"url(#clip300)\" d=\"M2242.41 1544.91 L2250.05 1544.91 L2250.05 1518.55 L2241.74 1520.21 L2241.74 1515.95 L2250.01 1514.29 L2254.68 1514.29 L2254.68 1544.91 L2262.32 1544.91 L2262.32 1548.85 L2242.41 1548.85 L2242.41 1544.91 Z\" fill=\"#000000\" fill-rule=\"evenodd\" fill-opacity=\"1\" /><path clip-path=\"url(#clip300)\" d=\"M2271.77 1542.97 L2276.65 1542.97 L2276.65 1548.85 L2271.77 1548.85 L2271.77 1542.97 Z\" fill=\"#000000\" fill-rule=\"evenodd\" fill-opacity=\"1\" /><path clip-path=\"url(#clip300)\" d=\"M2296.84 1517.37 Q2293.22 1517.37 2291.4 1520.93 Q2289.59 1524.47 2289.59 1531.6 Q2289.59 1538.71 2291.4 1542.27 Q2293.22 1545.82 2296.84 1545.82 Q2300.47 1545.82 2302.28 1542.27 Q2304.1 1538.71 2304.1 1531.6 Q2304.1 1524.47 2302.28 1520.93 Q2300.47 1517.37 2296.84 1517.37 M2296.84 1513.66 Q2302.65 1513.66 2305.7 1518.27 Q2308.78 1522.85 2308.78 1531.6 Q2308.78 1540.33 2305.7 1544.94 Q2302.65 1549.52 2296.84 1549.52 Q2291.03 1549.52 2287.95 1544.94 Q2284.89 1540.33 2284.89 1531.6 Q2284.89 1522.85 2287.95 1518.27 Q2291.03 1513.66 2296.84 1513.66 Z\" fill=\"#000000\" fill-rule=\"evenodd\" fill-opacity=\"1\" /><path clip-path=\"url(#clip300)\" d=\"M2327 1517.37 Q2323.39 1517.37 2321.56 1520.93 Q2319.75 1524.47 2319.75 1531.6 Q2319.75 1538.71 2321.56 1542.27 Q2323.39 1545.82 2327 1545.82 Q2330.63 1545.82 2332.44 1542.27 Q2334.27 1538.71 2334.27 1531.6 Q2334.27 1524.47 2332.44 1520.93 Q2330.63 1517.37 2327 1517.37 M2327 1513.66 Q2332.81 1513.66 2335.86 1518.27 Q2338.94 1522.85 2338.94 1531.6 Q2338.94 1540.33 2335.86 1544.94 Q2332.81 1549.52 2327 1549.52 Q2321.19 1549.52 2318.11 1544.94 Q2315.05 1540.33 2315.05 1531.6 Q2315.05 1522.85 2318.11 1518.27 Q2321.19 1513.66 2327 1513.66 Z\" fill=\"#000000\" fill-rule=\"evenodd\" fill-opacity=\"1\" /><polyline clip-path=\"url(#clip302)\" style=\"stroke:#000000; stroke-linecap:round; stroke-linejoin:round; stroke-width:2; stroke-opacity:0.1; fill:none\" points=\"\n",
       "  147.478,1374.02 2352.76,1374.02 \n",
       "  \"/>\n",
       "<polyline clip-path=\"url(#clip302)\" style=\"stroke:#000000; stroke-linecap:round; stroke-linejoin:round; stroke-width:2; stroke-opacity:0.1; fill:none\" points=\"\n",
       "  147.478,1105.18 2352.76,1105.18 \n",
       "  \"/>\n",
       "<polyline clip-path=\"url(#clip302)\" style=\"stroke:#000000; stroke-linecap:round; stroke-linejoin:round; stroke-width:2; stroke-opacity:0.1; fill:none\" points=\"\n",
       "  147.478,836.344 2352.76,836.344 \n",
       "  \"/>\n",
       "<polyline clip-path=\"url(#clip302)\" style=\"stroke:#000000; stroke-linecap:round; stroke-linejoin:round; stroke-width:2; stroke-opacity:0.1; fill:none\" points=\"\n",
       "  147.478,567.507 2352.76,567.507 \n",
       "  \"/>\n",
       "<polyline clip-path=\"url(#clip302)\" style=\"stroke:#000000; stroke-linecap:round; stroke-linejoin:round; stroke-width:2; stroke-opacity:0.1; fill:none\" points=\"\n",
       "  147.478,298.67 2352.76,298.67 \n",
       "  \"/>\n",
       "<polyline clip-path=\"url(#clip300)\" style=\"stroke:#000000; stroke-linecap:round; stroke-linejoin:round; stroke-width:4; stroke-opacity:1; fill:none\" points=\"\n",
       "  147.478,1486.45 147.478,123.472 \n",
       "  \"/>\n",
       "<polyline clip-path=\"url(#clip300)\" style=\"stroke:#000000; stroke-linecap:round; stroke-linejoin:round; stroke-width:4; stroke-opacity:1; fill:none\" points=\"\n",
       "  147.478,1374.02 166.376,1374.02 \n",
       "  \"/>\n",
       "<polyline clip-path=\"url(#clip300)\" style=\"stroke:#000000; stroke-linecap:round; stroke-linejoin:round; stroke-width:4; stroke-opacity:1; fill:none\" points=\"\n",
       "  147.478,1105.18 166.376,1105.18 \n",
       "  \"/>\n",
       "<polyline clip-path=\"url(#clip300)\" style=\"stroke:#000000; stroke-linecap:round; stroke-linejoin:round; stroke-width:4; stroke-opacity:1; fill:none\" points=\"\n",
       "  147.478,836.344 166.376,836.344 \n",
       "  \"/>\n",
       "<polyline clip-path=\"url(#clip300)\" style=\"stroke:#000000; stroke-linecap:round; stroke-linejoin:round; stroke-width:4; stroke-opacity:1; fill:none\" points=\"\n",
       "  147.478,567.507 166.376,567.507 \n",
       "  \"/>\n",
       "<polyline clip-path=\"url(#clip300)\" style=\"stroke:#000000; stroke-linecap:round; stroke-linejoin:round; stroke-width:4; stroke-opacity:1; fill:none\" points=\"\n",
       "  147.478,298.67 166.376,298.67 \n",
       "  \"/>\n",
       "<path clip-path=\"url(#clip300)\" d=\"M50.9921 1374.47 L80.6679 1374.47 L80.6679 1378.4 L50.9921 1378.4 L50.9921 1374.47 Z\" fill=\"#000000\" fill-rule=\"evenodd\" fill-opacity=\"1\" /><path clip-path=\"url(#clip300)\" d=\"M91.5706 1387.36 L99.2095 1387.36 L99.2095 1361 L90.8993 1362.66 L90.8993 1358.4 L99.1632 1356.74 L103.839 1356.74 L103.839 1387.36 L111.478 1387.36 L111.478 1391.3 L91.5706 1391.3 L91.5706 1387.36 Z\" fill=\"#000000\" fill-rule=\"evenodd\" fill-opacity=\"1\" /><path clip-path=\"url(#clip300)\" d=\"M99.5335 1090.98 Q95.9224 1090.98 94.0937 1094.54 Q92.2882 1098.09 92.2882 1105.22 Q92.2882 1112.32 94.0937 1115.89 Q95.9224 1119.43 99.5335 1119.43 Q103.168 1119.43 104.973 1115.89 Q106.802 1112.32 106.802 1105.22 Q106.802 1098.09 104.973 1094.54 Q103.168 1090.98 99.5335 1090.98 M99.5335 1087.28 Q105.344 1087.28 108.399 1091.88 Q111.478 1096.47 111.478 1105.22 Q111.478 1113.94 108.399 1118.55 Q105.344 1123.13 99.5335 1123.13 Q93.7234 1123.13 90.6447 1118.55 Q87.5892 1113.94 87.5892 1105.22 Q87.5892 1096.47 90.6447 1091.88 Q93.7234 1087.28 99.5335 1087.28 Z\" fill=\"#000000\" fill-rule=\"evenodd\" fill-opacity=\"1\" /><path clip-path=\"url(#clip300)\" d=\"M91.5706 849.689 L99.2095 849.689 L99.2095 823.323 L90.8993 824.99 L90.8993 820.731 L99.1632 819.064 L103.839 819.064 L103.839 849.689 L111.478 849.689 L111.478 853.624 L91.5706 853.624 L91.5706 849.689 Z\" fill=\"#000000\" fill-rule=\"evenodd\" fill-opacity=\"1\" /><path clip-path=\"url(#clip300)\" d=\"M95.1586 580.852 L111.478 580.852 L111.478 584.787 L89.5336 584.787 L89.5336 580.852 Q92.1956 578.097 96.7789 573.468 Q101.385 568.815 102.566 567.472 Q104.811 564.949 105.691 563.213 Q106.594 561.454 106.594 559.764 Q106.594 557.009 104.649 555.273 Q102.728 553.537 99.6261 553.537 Q97.4271 553.537 94.9734 554.301 Q92.5428 555.065 89.7651 556.616 L89.7651 551.894 Q92.5891 550.759 95.0428 550.181 Q97.4965 549.602 99.5335 549.602 Q104.904 549.602 108.098 552.287 Q111.293 554.972 111.293 559.463 Q111.293 561.593 110.483 563.514 Q109.696 565.412 107.589 568.005 Q107.01 568.676 103.909 571.893 Q100.807 575.088 95.1586 580.852 Z\" fill=\"#000000\" fill-rule=\"evenodd\" fill-opacity=\"1\" /><path clip-path=\"url(#clip300)\" d=\"M104.348 297.316 Q107.705 298.033 109.58 300.302 Q111.478 302.57 111.478 305.904 Q111.478 311.019 107.959 313.82 Q104.441 316.621 97.9595 316.621 Q95.7836 316.621 93.4688 316.181 Q91.1771 315.765 88.7234 314.908 L88.7234 310.394 Q90.6678 311.529 92.9826 312.107 Q95.2974 312.686 97.8206 312.686 Q102.219 312.686 104.51 310.95 Q106.825 309.214 106.825 305.904 Q106.825 302.848 104.672 301.135 Q102.543 299.399 98.7234 299.399 L94.6956 299.399 L94.6956 295.557 L98.9085 295.557 Q102.358 295.557 104.186 294.191 Q106.015 292.802 106.015 290.209 Q106.015 287.547 104.117 286.135 Q102.242 284.7 98.7234 284.7 Q96.8021 284.7 94.603 285.117 Q92.4039 285.533 89.7651 286.413 L89.7651 282.246 Q92.4271 281.506 94.7419 281.135 Q97.0798 280.765 99.14 280.765 Q104.464 280.765 107.566 283.196 Q110.668 285.603 110.668 289.723 Q110.668 292.594 109.024 294.584 Q107.381 296.552 104.348 297.316 Z\" fill=\"#000000\" fill-rule=\"evenodd\" fill-opacity=\"1\" /><path clip-path=\"url(#clip300)\" d=\"M683.8 12.096 L694.819 12.096 L721.636 62.6918 L721.636 12.096 L729.576 12.096 L729.576 72.576 L718.557 72.576 L691.74 21.9802 L691.74 72.576 L683.8 72.576 L683.8 12.096 Z\" fill=\"#000000\" fill-rule=\"evenodd\" fill-opacity=\"1\" /><path clip-path=\"url(#clip300)\" d=\"M784.344 48.0275 L784.344 51.6733 L750.073 51.6733 Q750.559 59.3701 754.691 63.421 Q758.864 67.4314 766.277 67.4314 Q770.571 67.4314 774.581 66.3781 Q778.632 65.3249 782.602 63.2184 L782.602 70.267 Q778.592 71.9684 774.379 72.8596 Q770.166 73.7508 765.831 73.7508 Q754.975 73.7508 748.615 67.4314 Q742.296 61.1119 742.296 50.3365 Q742.296 39.1965 748.291 32.6746 Q754.327 26.1121 764.535 26.1121 Q773.69 26.1121 778.997 32.0264 Q784.344 37.9003 784.344 48.0275 M776.89 45.84 Q776.809 39.7232 773.447 36.0774 Q770.125 32.4315 764.616 32.4315 Q758.378 32.4315 754.61 35.9558 Q750.883 39.4801 750.316 45.8805 L776.89 45.84 Z\" fill=\"#000000\" fill-rule=\"evenodd\" fill-opacity=\"1\" /><path clip-path=\"url(#clip300)\" d=\"M795.808 54.671 L795.808 27.2059 L803.262 27.2059 L803.262 54.3874 Q803.262 60.8284 805.773 64.0691 Q808.285 67.2693 813.308 67.2693 Q819.344 67.2693 822.828 63.421 Q826.352 59.5726 826.352 52.9291 L826.352 27.2059 L833.805 27.2059 L833.805 72.576 L826.352 72.576 L826.352 65.6084 Q823.638 69.7404 820.032 71.7658 Q816.468 73.7508 811.728 73.7508 Q803.91 73.7508 799.859 68.8897 Q795.808 64.0286 795.808 54.671 M814.564 26.1121 L814.564 26.1121 Z\" fill=\"#000000\" fill-rule=\"evenodd\" fill-opacity=\"1\" /><path clip-path=\"url(#clip300)\" d=\"M875.449 34.1734 Q874.193 33.4443 872.694 33.1202 Q871.236 32.7556 869.453 32.7556 Q863.134 32.7556 859.731 36.8875 Q856.369 40.9789 856.369 48.6757 L856.369 72.576 L848.875 72.576 L848.875 27.2059 L856.369 27.2059 L856.369 34.2544 Q858.719 30.1225 862.486 28.1376 Q866.253 26.1121 871.641 26.1121 Q872.411 26.1121 873.342 26.2337 Q874.274 26.3147 875.408 26.5172 L875.449 34.1734 Z\" fill=\"#000000\" fill-rule=\"evenodd\" fill-opacity=\"1\" /><path clip-path=\"url(#clip300)\" d=\"M903.886 49.7694 Q894.853 49.7694 891.369 51.8354 Q887.885 53.9013 887.885 58.8839 Q887.885 62.8538 890.478 65.2034 Q893.111 67.5124 897.607 67.5124 Q903.805 67.5124 907.532 63.1374 Q911.299 58.7219 911.299 51.4303 L911.299 49.7694 L903.886 49.7694 M918.753 46.6907 L918.753 72.576 L911.299 72.576 L911.299 65.6895 Q908.747 69.8214 904.939 71.8063 Q901.132 73.7508 895.622 73.7508 Q888.655 73.7508 884.523 69.8619 Q880.431 65.9325 880.431 59.3701 Q880.431 51.7138 885.536 47.825 Q890.68 43.9361 900.848 43.9361 L911.299 43.9361 L911.299 43.2069 Q911.299 38.0623 907.897 35.2672 Q904.534 32.4315 898.417 32.4315 Q894.529 32.4315 890.842 33.3632 Q887.156 34.295 883.753 36.1584 L883.753 29.2718 Q887.845 27.692 891.693 26.9223 Q895.541 26.1121 899.187 26.1121 Q909.031 26.1121 913.892 31.2163 Q918.753 36.3204 918.753 46.6907 Z\" fill=\"#000000\" fill-rule=\"evenodd\" fill-opacity=\"1\" /><path clip-path=\"url(#clip300)\" d=\"M934.106 9.54393 L941.56 9.54393 L941.56 72.576 L934.106 72.576 L934.106 9.54393 Z\" fill=\"#000000\" fill-rule=\"evenodd\" fill-opacity=\"1\" /><path clip-path=\"url(#clip300)\" d=\"M1020.11 14.0809 L1020.11 22.0612 Q1015.45 19.8332 1011.32 18.7395 Q1007.18 17.6457 1003.34 17.6457 Q996.652 17.6457 993.006 20.2383 Q989.401 22.8309 989.401 27.611 Q989.401 31.6214 991.791 33.6873 Q994.221 35.7128 1000.95 36.9686 L1005.89 37.9813 Q1015.04 39.7232 1019.38 44.1387 Q1023.75 48.5136 1023.75 55.8863 Q1023.75 64.6767 1017.84 69.2137 Q1011.96 73.7508 1000.58 73.7508 Q996.287 73.7508 991.426 72.7785 Q986.606 71.8063 981.42 69.9024 L981.42 61.4765 Q986.403 64.2716 991.183 65.6895 Q995.963 67.1073 1000.58 67.1073 Q1007.59 67.1073 1011.4 64.3527 Q1015.2 61.598 1015.2 56.4939 Q1015.2 52.0379 1012.45 49.5264 Q1009.74 47.0148 1003.5 45.759 L998.515 44.7868 Q989.36 42.9639 985.269 39.075 Q981.177 35.1862 981.177 28.2591 Q981.177 20.2383 986.808 15.6203 Q992.479 11.0023 1002.4 11.0023 Q1006.66 11.0023 1011.07 11.7719 Q1015.49 12.5416 1020.11 14.0809 Z\" fill=\"#000000\" fill-rule=\"evenodd\" fill-opacity=\"1\" /><path clip-path=\"url(#clip300)\" d=\"M1044.7 18.8205 L1044.7 65.8515 L1054.58 65.8515 Q1067.1 65.8515 1072.89 60.1802 Q1078.72 54.509 1078.72 42.2752 Q1078.72 30.1225 1072.89 24.4918 Q1067.1 18.8205 1054.58 18.8205 L1044.7 18.8205 M1036.51 12.096 L1053.32 12.096 Q1070.9 12.096 1079.13 19.4281 Q1087.35 26.7198 1087.35 42.2752 Q1087.35 57.9117 1079.09 65.2439 Q1070.82 72.576 1053.32 72.576 L1036.51 72.576 L1036.51 12.096 Z\" fill=\"#000000\" fill-rule=\"evenodd\" fill-opacity=\"1\" /><path clip-path=\"url(#clip300)\" d=\"M1100.4 12.096 L1138.64 12.096 L1138.64 18.9825 L1108.58 18.9825 L1108.58 36.8875 L1137.38 36.8875 L1137.38 43.7741 L1108.58 43.7741 L1108.58 65.6895 L1139.37 65.6895 L1139.37 72.576 L1100.4 72.576 L1100.4 12.096 Z\" fill=\"#000000\" fill-rule=\"evenodd\" fill-opacity=\"1\" /><path clip-path=\"url(#clip300)\" d=\"M1154.39 62.2867 L1162.94 62.2867 L1162.94 72.576 L1154.39 72.576 L1154.39 62.2867 M1154.39 29.6769 L1162.94 29.6769 L1162.94 39.9662 L1154.39 39.9662 L1154.39 29.6769 Z\" fill=\"#000000\" fill-rule=\"evenodd\" fill-opacity=\"1\" /><path clip-path=\"url(#clip300)\" d=\"M1215.32 43.6931 L1215.32 65.8515 L1228.44 65.8515 Q1235.05 65.8515 1238.21 63.1374 Q1241.41 60.3828 1241.41 54.752 Q1241.41 49.0808 1238.21 46.4072 Q1235.05 43.6931 1228.44 43.6931 L1215.32 43.6931 M1215.32 18.8205 L1215.32 37.0496 L1227.43 37.0496 Q1233.43 37.0496 1236.34 34.8216 Q1239.3 32.5531 1239.3 27.935 Q1239.3 23.3575 1236.34 21.089 Q1233.43 18.8205 1227.43 18.8205 L1215.32 18.8205 M1207.14 12.096 L1228.04 12.096 Q1237.4 12.096 1242.46 15.9849 Q1247.52 19.8737 1247.52 27.0438 Q1247.52 32.5936 1244.93 35.8748 Q1242.34 39.156 1237.32 39.9662 Q1243.35 41.2625 1246.67 45.3944 Q1250.04 49.4858 1250.04 55.6432 Q1250.04 63.745 1244.53 68.1605 Q1239.02 72.576 1228.85 72.576 L1207.14 72.576 L1207.14 12.096 Z\" fill=\"#000000\" fill-rule=\"evenodd\" fill-opacity=\"1\" /><path clip-path=\"url(#clip300)\" d=\"M1302.54 48.0275 L1302.54 51.6733 L1268.26 51.6733 Q1268.75 59.3701 1272.88 63.421 Q1277.06 67.4314 1284.47 67.4314 Q1288.76 67.4314 1292.77 66.3781 Q1296.82 65.3249 1300.79 63.2184 L1300.79 70.267 Q1296.78 71.9684 1292.57 72.8596 Q1288.36 73.7508 1284.02 73.7508 Q1273.17 73.7508 1266.81 67.4314 Q1260.49 61.1119 1260.49 50.3365 Q1260.49 39.1965 1266.48 32.6746 Q1272.52 26.1121 1282.73 26.1121 Q1291.88 26.1121 1297.19 32.0264 Q1302.54 37.9003 1302.54 48.0275 M1295.08 45.84 Q1295 39.7232 1291.64 36.0774 Q1288.32 32.4315 1282.81 32.4315 Q1276.57 32.4315 1272.8 35.9558 Q1269.08 39.4801 1268.51 45.8805 L1295.08 45.84 Z\" fill=\"#000000\" fill-rule=\"evenodd\" fill-opacity=\"1\" /><path clip-path=\"url(#clip300)\" d=\"M1337.74 9.54393 L1337.74 15.7418 L1330.61 15.7418 Q1326.6 15.7418 1325.02 17.3622 Q1323.48 18.9825 1323.48 23.1955 L1323.48 27.2059 L1335.75 27.2059 L1335.75 32.9987 L1323.48 32.9987 L1323.48 72.576 L1315.98 72.576 L1315.98 32.9987 L1308.86 32.9987 L1308.86 27.2059 L1315.98 27.2059 L1315.98 24.0462 Q1315.98 16.471 1319.51 13.0277 Q1323.03 9.54393 1330.69 9.54393 L1337.74 9.54393 Z\" fill=\"#000000\" fill-rule=\"evenodd\" fill-opacity=\"1\" /><path clip-path=\"url(#clip300)\" d=\"M1361.56 32.4315 Q1355.56 32.4315 1352.08 37.1306 Q1348.59 41.7891 1348.59 49.9314 Q1348.59 58.0738 1352.04 62.7728 Q1355.52 67.4314 1361.56 67.4314 Q1367.51 67.4314 1371 62.7323 Q1374.48 58.0333 1374.48 49.9314 Q1374.48 41.8701 1371 37.1711 Q1367.51 32.4315 1361.56 32.4315 M1361.56 26.1121 Q1371.28 26.1121 1376.83 32.4315 Q1382.38 38.7509 1382.38 49.9314 Q1382.38 61.0714 1376.83 67.4314 Q1371.28 73.7508 1361.56 73.7508 Q1351.79 73.7508 1346.24 67.4314 Q1340.74 61.0714 1340.74 49.9314 Q1340.74 38.7509 1346.24 32.4315 Q1351.79 26.1121 1361.56 26.1121 Z\" fill=\"#000000\" fill-rule=\"evenodd\" fill-opacity=\"1\" /><path clip-path=\"url(#clip300)\" d=\"M1421.02 34.1734 Q1419.77 33.4443 1418.27 33.1202 Q1416.81 32.7556 1415.03 32.7556 Q1408.71 32.7556 1405.31 36.8875 Q1401.94 40.9789 1401.94 48.6757 L1401.94 72.576 L1394.45 72.576 L1394.45 27.2059 L1401.94 27.2059 L1401.94 34.2544 Q1404.29 30.1225 1408.06 28.1376 Q1411.83 26.1121 1417.22 26.1121 Q1417.99 26.1121 1418.92 26.2337 Q1419.85 26.3147 1420.98 26.5172 L1421.02 34.1734 Z\" fill=\"#000000\" fill-rule=\"evenodd\" fill-opacity=\"1\" /><path clip-path=\"url(#clip300)\" d=\"M1465.83 48.0275 L1465.83 51.6733 L1431.56 51.6733 Q1432.04 59.3701 1436.17 63.421 Q1440.35 67.4314 1447.76 67.4314 Q1452.05 67.4314 1456.06 66.3781 Q1460.12 65.3249 1464.09 63.2184 L1464.09 70.267 Q1460.08 71.9684 1455.86 72.8596 Q1451.65 73.7508 1447.31 73.7508 Q1436.46 73.7508 1430.1 67.4314 Q1423.78 61.1119 1423.78 50.3365 Q1423.78 39.1965 1429.77 32.6746 Q1435.81 26.1121 1446.02 26.1121 Q1455.17 26.1121 1460.48 32.0264 Q1465.83 37.9003 1465.83 48.0275 M1458.37 45.84 Q1458.29 39.7232 1454.93 36.0774 Q1451.61 32.4315 1446.1 32.4315 Q1439.86 32.4315 1436.09 35.9558 Q1432.37 39.4801 1431.8 45.8805 L1458.37 45.84 Z\" fill=\"#000000\" fill-rule=\"evenodd\" fill-opacity=\"1\" /><path clip-path=\"url(#clip300)\" d=\"M1496.37 12.096 L1547.53 12.096 L1547.53 18.9825 L1526.06 18.9825 L1526.06 72.576 L1517.84 72.576 L1517.84 18.9825 L1496.37 18.9825 L1496.37 12.096 Z\" fill=\"#000000\" fill-rule=\"evenodd\" fill-opacity=\"1\" /><path clip-path=\"url(#clip300)\" d=\"M1569.21 34.1734 Q1567.95 33.4443 1566.45 33.1202 Q1564.99 32.7556 1563.21 32.7556 Q1556.89 32.7556 1553.49 36.8875 Q1550.13 40.9789 1550.13 48.6757 L1550.13 72.576 L1542.63 72.576 L1542.63 27.2059 L1550.13 27.2059 L1550.13 34.2544 Q1552.48 30.1225 1556.24 28.1376 Q1560.01 26.1121 1565.4 26.1121 Q1566.17 26.1121 1567.1 26.2337 Q1568.03 26.3147 1569.17 26.5172 L1569.21 34.1734 Z\" fill=\"#000000\" fill-rule=\"evenodd\" fill-opacity=\"1\" /><path clip-path=\"url(#clip300)\" d=\"M1597.64 49.7694 Q1588.61 49.7694 1585.13 51.8354 Q1581.64 53.9013 1581.64 58.8839 Q1581.64 62.8538 1584.24 65.2034 Q1586.87 67.5124 1591.37 67.5124 Q1597.56 67.5124 1601.29 63.1374 Q1605.06 58.7219 1605.06 51.4303 L1605.06 49.7694 L1597.64 49.7694 M1612.51 46.6907 L1612.51 72.576 L1605.06 72.576 L1605.06 65.6895 Q1602.51 69.8214 1598.7 71.8063 Q1594.89 73.7508 1589.38 73.7508 Q1582.41 73.7508 1578.28 69.8619 Q1574.19 65.9325 1574.19 59.3701 Q1574.19 51.7138 1579.29 47.825 Q1584.44 43.9361 1594.61 43.9361 L1605.06 43.9361 L1605.06 43.2069 Q1605.06 38.0623 1601.65 35.2672 Q1598.29 32.4315 1592.18 32.4315 Q1588.29 32.4315 1584.6 33.3632 Q1580.91 34.295 1577.51 36.1584 L1577.51 29.2718 Q1581.6 27.692 1585.45 26.9223 Q1589.3 26.1121 1592.94 26.1121 Q1602.79 26.1121 1607.65 31.2163 Q1612.51 36.3204 1612.51 46.6907 Z\" fill=\"#000000\" fill-rule=\"evenodd\" fill-opacity=\"1\" /><path clip-path=\"url(#clip300)\" d=\"M1627.86 27.2059 L1635.32 27.2059 L1635.32 72.576 L1627.86 72.576 L1627.86 27.2059 M1627.86 9.54393 L1635.32 9.54393 L1635.32 18.9825 L1627.86 18.9825 L1627.86 9.54393 Z\" fill=\"#000000\" fill-rule=\"evenodd\" fill-opacity=\"1\" /><path clip-path=\"url(#clip300)\" d=\"M1688.63 45.1919 L1688.63 72.576 L1681.17 72.576 L1681.17 45.4349 Q1681.17 38.994 1678.66 35.7938 Q1676.15 32.5936 1671.13 32.5936 Q1665.09 32.5936 1661.61 36.4419 Q1658.12 40.2903 1658.12 46.9338 L1658.12 72.576 L1650.63 72.576 L1650.63 27.2059 L1658.12 27.2059 L1658.12 34.2544 Q1660.8 30.163 1664.4 28.1376 Q1668.05 26.1121 1672.79 26.1121 Q1680.61 26.1121 1684.62 30.9732 Q1688.63 35.7938 1688.63 45.1919 Z\" fill=\"#000000\" fill-rule=\"evenodd\" fill-opacity=\"1\" /><path clip-path=\"url(#clip300)\" d=\"M1703.49 27.2059 L1710.95 27.2059 L1710.95 72.576 L1703.49 72.576 L1703.49 27.2059 M1703.49 9.54393 L1710.95 9.54393 L1710.95 18.9825 L1703.49 18.9825 L1703.49 9.54393 Z\" fill=\"#000000\" fill-rule=\"evenodd\" fill-opacity=\"1\" /><path clip-path=\"url(#clip300)\" d=\"M1764.26 45.1919 L1764.26 72.576 L1756.8 72.576 L1756.8 45.4349 Q1756.8 38.994 1754.29 35.7938 Q1751.78 32.5936 1746.76 32.5936 Q1740.72 32.5936 1737.24 36.4419 Q1733.75 40.2903 1733.75 46.9338 L1733.75 72.576 L1726.26 72.576 L1726.26 27.2059 L1733.75 27.2059 L1733.75 34.2544 Q1736.43 30.163 1740.03 28.1376 Q1743.68 26.1121 1748.42 26.1121 Q1756.24 26.1121 1760.25 30.9732 Q1764.26 35.7938 1764.26 45.1919 Z\" fill=\"#000000\" fill-rule=\"evenodd\" fill-opacity=\"1\" /><path clip-path=\"url(#clip300)\" d=\"M1808.98 49.3643 Q1808.98 41.2625 1805.62 36.8065 Q1802.3 32.3505 1796.26 32.3505 Q1790.26 32.3505 1786.9 36.8065 Q1783.58 41.2625 1783.58 49.3643 Q1783.58 57.4256 1786.9 61.8816 Q1790.26 66.3376 1796.26 66.3376 Q1802.3 66.3376 1805.62 61.8816 Q1808.98 57.4256 1808.98 49.3643 M1816.43 66.9452 Q1816.43 78.5308 1811.29 84.1616 Q1806.14 89.8329 1795.53 89.8329 Q1791.6 89.8329 1788.12 89.2252 Q1784.63 88.6581 1781.35 87.4428 L1781.35 80.1917 Q1784.63 81.9741 1787.83 82.8248 Q1791.03 83.6755 1794.36 83.6755 Q1801.69 83.6755 1805.33 79.8271 Q1808.98 76.0193 1808.98 68.282 L1808.98 64.5957 Q1806.67 68.6061 1803.07 70.5911 Q1799.46 72.576 1794.44 72.576 Q1786.09 72.576 1780.99 66.2161 Q1775.88 59.8562 1775.88 49.3643 Q1775.88 38.832 1780.99 32.472 Q1786.09 26.1121 1794.44 26.1121 Q1799.46 26.1121 1803.07 28.0971 Q1806.67 30.082 1808.98 34.0924 L1808.98 27.2059 L1816.43 27.2059 L1816.43 66.9452 Z\" fill=\"#000000\" fill-rule=\"evenodd\" fill-opacity=\"1\" /><path clip-path=\"url(#clip302)\" d=\"\n",
       "M209.891 567.507 L281.631 724.531 L353.371 783.004 L425.111 854.632 L496.85 911.567 L568.59 932.066 L640.33 955.183 L712.069 958.75 L783.809 978.861 L855.549 978.241 \n",
       "  L927.288 977.977 L999.028 983.356 L1070.77 984.246 L1142.51 1000.72 L1214.25 1014.35 L1285.99 1003.97 L1357.73 1014.69 L1429.47 1023.89 L1501.21 1029.46 L1572.95 1023.85 \n",
       "  L1644.69 1028.83 L1716.42 1036.94 L1788.16 1038.26 L1859.9 1049.5 L1931.64 1060.37 L2003.38 1064.96 L2075.12 1079.5 L2146.86 1090.15 L2218.6 1092.92 L2290.34 1084.69 \n",
       "  L2290.34 475.948 L2218.6 430.258 L2146.86 466.483 L2075.12 524.366 L2003.38 552.076 L1931.64 509.467 L1859.9 535.511 L1788.16 571.584 L1716.42 486.731 L1644.69 514.243 \n",
       "  L1572.95 453.371 L1501.21 372.766 L1429.47 384.603 L1357.73 296.225 L1285.99 543.653 L1214.25 472.587 L1142.51 469.908 L1070.77 343.45 L999.028 273.831 L927.288 290.746 \n",
       "  L855.549 271.67 L783.809 218.738 L712.069 209.82 L640.33 162.047 L568.59 217.494 L496.85 276.708 L425.111 316.54 L353.371 326.619 L281.631 439.647 L209.891 567.507 \n",
       "   Z\n",
       "  \" fill=\"#009af9\" fill-rule=\"evenodd\" fill-opacity=\"0.2\"/>\n",
       "<polyline clip-path=\"url(#clip302)\" style=\"stroke:#009af9; stroke-linecap:round; stroke-linejoin:round; stroke-width:12; stroke-opacity:1; fill:none\" points=\"\n",
       "  209.891,567.507 281.631,577.538 353.371,599.817 425.111,641.551 496.85,673.524 568.59,694.962 640.33,707.878 712.069,722.323 783.809,744.231 855.549,743.978 \n",
       "  927.288,794.385 999.028,777.308 1070.77,789.17 1142.51,824.232 1214.25,822.233 1285.99,839.249 1357.73,853.673 1429.47,873.328 1501.21,876.386 1572.95,878.362 \n",
       "  1644.69,866.763 1716.42,889.179 1788.16,899.191 1859.9,912.351 1931.64,912.392 2003.38,917.766 2075.12,916.996 2146.86,916.293 2218.6,927.631 2290.34,938.112 \n",
       "  \n",
       "  \"/>\n",
       "<path clip-path=\"url(#clip302)\" d=\"\n",
       "M209.891 1105.18 L281.631 1249.39 L353.371 1273.43 L425.111 1290.81 L496.85 1313.68 L568.59 1343.66 L640.33 1338.77 L712.069 1389.19 L783.809 1374.61 L855.549 1392.39 \n",
       "  L927.288 1406.81 L999.028 1390.13 L1070.77 1388.34 L1142.51 1392.38 L1214.25 1397.92 L1285.99 1405.72 L1357.73 1408.52 L1429.47 1412.74 L1501.21 1398.58 L1572.95 1387.33 \n",
       "  L1644.69 1408.23 L1716.42 1399.74 L1788.16 1403.76 L1859.9 1427.42 L1931.64 1428.72 L2003.38 1412.94 L2075.12 1436.67 L2146.86 1419.38 L2218.6 1431.72 L2290.34 1400.11 \n",
       "  L2290.34 372.253 L2218.6 278.39 L2146.86 277.665 L2075.12 210.285 L2003.38 319.634 L1931.64 221.547 L1859.9 279.672 L1788.16 367.304 L1716.42 331.492 L1644.69 431.955 \n",
       "  L1572.95 311.148 L1501.21 297.609 L1429.47 244.263 L1357.73 316.766 L1285.99 364.284 L1214.25 492.24 L1142.51 466.048 L1070.77 561.898 L999.028 417.19 L927.288 477.354 \n",
       "  L855.549 614.413 L783.809 546.782 L712.069 672.85 L640.33 740.535 L568.59 778.492 L496.85 677.788 L425.111 812.644 L353.371 876.913 L281.631 968.619 L209.891 1105.18 \n",
       "   Z\n",
       "  \" fill=\"#e26f46\" fill-rule=\"evenodd\" fill-opacity=\"0.2\"/>\n",
       "<polyline clip-path=\"url(#clip302)\" style=\"stroke:#e26f46; stroke-linecap:round; stroke-linejoin:round; stroke-width:12; stroke-opacity:1; fill:none\" points=\"\n",
       "  209.891,1105.18 281.631,1105.4 353.371,1112.67 425.111,1125.67 496.85,1108.68 568.59,1112.3 640.33,1132.17 712.069,1121.04 783.809,1114.67 855.549,1099.84 \n",
       "  927.288,1088.56 999.028,1079.58 1070.77,1086.5 1142.51,1094.22 1214.25,1079.54 1285.99,1084.31 1357.73,1111.63 1429.47,1088.4 1501.21,1094.87 1572.95,1106.91 \n",
       "  1644.69,1109.63 1716.42,1100.23 1788.16,1133.17 1859.9,1118.36 1931.64,1104.95 2003.38,1097.29 2075.12,1108.21 2146.86,1114.69 2218.6,1123.62 2290.34,1125.98 \n",
       "  \n",
       "  \"/>\n",
       "<circle clip-path=\"url(#clip302)\" cx=\"209.891\" cy=\"567.507\" r=\"14.4\" fill=\"#3da44d\" fill-rule=\"evenodd\" fill-opacity=\"1\" stroke=\"#000000\" stroke-opacity=\"1\" stroke-width=\"3.2\"/>\n",
       "<circle clip-path=\"url(#clip302)\" cx=\"281.631\" cy=\"589.433\" r=\"14.4\" fill=\"#3da44d\" fill-rule=\"evenodd\" fill-opacity=\"1\" stroke=\"#000000\" stroke-opacity=\"1\" stroke-width=\"3.2\"/>\n",
       "<circle clip-path=\"url(#clip302)\" cx=\"353.371\" cy=\"611.837\" r=\"14.4\" fill=\"#3da44d\" fill-rule=\"evenodd\" fill-opacity=\"1\" stroke=\"#000000\" stroke-opacity=\"1\" stroke-width=\"3.2\"/>\n",
       "<circle clip-path=\"url(#clip302)\" cx=\"425.111\" cy=\"666.477\" r=\"14.4\" fill=\"#3da44d\" fill-rule=\"evenodd\" fill-opacity=\"1\" stroke=\"#000000\" stroke-opacity=\"1\" stroke-width=\"3.2\"/>\n",
       "<circle clip-path=\"url(#clip302)\" cx=\"496.85\" cy=\"753.05\" r=\"14.4\" fill=\"#3da44d\" fill-rule=\"evenodd\" fill-opacity=\"1\" stroke=\"#000000\" stroke-opacity=\"1\" stroke-width=\"3.2\"/>\n",
       "<circle clip-path=\"url(#clip302)\" cx=\"568.59\" cy=\"858.115\" r=\"14.4\" fill=\"#3da44d\" fill-rule=\"evenodd\" fill-opacity=\"1\" stroke=\"#000000\" stroke-opacity=\"1\" stroke-width=\"3.2\"/>\n",
       "<circle clip-path=\"url(#clip302)\" cx=\"640.33\" cy=\"968.636\" r=\"14.4\" fill=\"#3da44d\" fill-rule=\"evenodd\" fill-opacity=\"1\" stroke=\"#000000\" stroke-opacity=\"1\" stroke-width=\"3.2\"/>\n",
       "<circle clip-path=\"url(#clip302)\" cx=\"712.069\" cy=\"1075.86\" r=\"14.4\" fill=\"#3da44d\" fill-rule=\"evenodd\" fill-opacity=\"1\" stroke=\"#000000\" stroke-opacity=\"1\" stroke-width=\"3.2\"/>\n",
       "<circle clip-path=\"url(#clip302)\" cx=\"783.809\" cy=\"1173.53\" r=\"14.4\" fill=\"#3da44d\" fill-rule=\"evenodd\" fill-opacity=\"1\" stroke=\"#000000\" stroke-opacity=\"1\" stroke-width=\"3.2\"/>\n",
       "<circle clip-path=\"url(#clip302)\" cx=\"855.549\" cy=\"1257.58\" r=\"14.4\" fill=\"#3da44d\" fill-rule=\"evenodd\" fill-opacity=\"1\" stroke=\"#000000\" stroke-opacity=\"1\" stroke-width=\"3.2\"/>\n",
       "<circle clip-path=\"url(#clip302)\" cx=\"927.288\" cy=\"1326.1\" r=\"14.4\" fill=\"#3da44d\" fill-rule=\"evenodd\" fill-opacity=\"1\" stroke=\"#000000\" stroke-opacity=\"1\" stroke-width=\"3.2\"/>\n",
       "<circle clip-path=\"url(#clip302)\" cx=\"999.028\" cy=\"1378.27\" r=\"14.4\" fill=\"#3da44d\" fill-rule=\"evenodd\" fill-opacity=\"1\" stroke=\"#000000\" stroke-opacity=\"1\" stroke-width=\"3.2\"/>\n",
       "<circle clip-path=\"url(#clip302)\" cx=\"1070.77\" cy=\"1415.05\" r=\"14.4\" fill=\"#3da44d\" fill-rule=\"evenodd\" fill-opacity=\"1\" stroke=\"#000000\" stroke-opacity=\"1\" stroke-width=\"3.2\"/>\n",
       "<circle clip-path=\"url(#clip302)\" cx=\"1142.51\" cy=\"1437.72\" r=\"14.4\" fill=\"#3da44d\" fill-rule=\"evenodd\" fill-opacity=\"1\" stroke=\"#000000\" stroke-opacity=\"1\" stroke-width=\"3.2\"/>\n",
       "<circle clip-path=\"url(#clip302)\" cx=\"1214.25\" cy=\"1447.87\" r=\"14.4\" fill=\"#3da44d\" fill-rule=\"evenodd\" fill-opacity=\"1\" stroke=\"#000000\" stroke-opacity=\"1\" stroke-width=\"3.2\"/>\n",
       "<circle clip-path=\"url(#clip302)\" cx=\"1285.99\" cy=\"1447.26\" r=\"14.4\" fill=\"#3da44d\" fill-rule=\"evenodd\" fill-opacity=\"1\" stroke=\"#000000\" stroke-opacity=\"1\" stroke-width=\"3.2\"/>\n",
       "<circle clip-path=\"url(#clip302)\" cx=\"1357.73\" cy=\"1437.5\" r=\"14.4\" fill=\"#3da44d\" fill-rule=\"evenodd\" fill-opacity=\"1\" stroke=\"#000000\" stroke-opacity=\"1\" stroke-width=\"3.2\"/>\n",
       "<circle clip-path=\"url(#clip302)\" cx=\"1429.47\" cy=\"1419.97\" r=\"14.4\" fill=\"#3da44d\" fill-rule=\"evenodd\" fill-opacity=\"1\" stroke=\"#000000\" stroke-opacity=\"1\" stroke-width=\"3.2\"/>\n",
       "<circle clip-path=\"url(#clip302)\" cx=\"1501.21\" cy=\"1396.08\" r=\"14.4\" fill=\"#3da44d\" fill-rule=\"evenodd\" fill-opacity=\"1\" stroke=\"#000000\" stroke-opacity=\"1\" stroke-width=\"3.2\"/>\n",
       "<circle clip-path=\"url(#clip302)\" cx=\"1572.95\" cy=\"1367.43\" r=\"14.4\" fill=\"#3da44d\" fill-rule=\"evenodd\" fill-opacity=\"1\" stroke=\"#000000\" stroke-opacity=\"1\" stroke-width=\"3.2\"/>\n",
       "<circle clip-path=\"url(#clip302)\" cx=\"1644.69\" cy=\"1335.31\" r=\"14.4\" fill=\"#3da44d\" fill-rule=\"evenodd\" fill-opacity=\"1\" stroke=\"#000000\" stroke-opacity=\"1\" stroke-width=\"3.2\"/>\n",
       "<circle clip-path=\"url(#clip302)\" cx=\"1716.42\" cy=\"1301.53\" r=\"14.4\" fill=\"#3da44d\" fill-rule=\"evenodd\" fill-opacity=\"1\" stroke=\"#000000\" stroke-opacity=\"1\" stroke-width=\"3.2\"/>\n",
       "<circle clip-path=\"url(#clip302)\" cx=\"1788.16\" cy=\"1267.12\" r=\"14.4\" fill=\"#3da44d\" fill-rule=\"evenodd\" fill-opacity=\"1\" stroke=\"#000000\" stroke-opacity=\"1\" stroke-width=\"3.2\"/>\n",
       "<circle clip-path=\"url(#clip302)\" cx=\"1859.9\" cy=\"1232.73\" r=\"14.4\" fill=\"#3da44d\" fill-rule=\"evenodd\" fill-opacity=\"1\" stroke=\"#000000\" stroke-opacity=\"1\" stroke-width=\"3.2\"/>\n",
       "<circle clip-path=\"url(#clip302)\" cx=\"1931.64\" cy=\"1199.45\" r=\"14.4\" fill=\"#3da44d\" fill-rule=\"evenodd\" fill-opacity=\"1\" stroke=\"#000000\" stroke-opacity=\"1\" stroke-width=\"3.2\"/>\n",
       "<circle clip-path=\"url(#clip302)\" cx=\"2003.38\" cy=\"1168.01\" r=\"14.4\" fill=\"#3da44d\" fill-rule=\"evenodd\" fill-opacity=\"1\" stroke=\"#000000\" stroke-opacity=\"1\" stroke-width=\"3.2\"/>\n",
       "<circle clip-path=\"url(#clip302)\" cx=\"2075.12\" cy=\"1138.95\" r=\"14.4\" fill=\"#3da44d\" fill-rule=\"evenodd\" fill-opacity=\"1\" stroke=\"#000000\" stroke-opacity=\"1\" stroke-width=\"3.2\"/>\n",
       "<circle clip-path=\"url(#clip302)\" cx=\"2146.86\" cy=\"1112.47\" r=\"14.4\" fill=\"#3da44d\" fill-rule=\"evenodd\" fill-opacity=\"1\" stroke=\"#000000\" stroke-opacity=\"1\" stroke-width=\"3.2\"/>\n",
       "<circle clip-path=\"url(#clip302)\" cx=\"2218.6\" cy=\"1088.56\" r=\"14.4\" fill=\"#3da44d\" fill-rule=\"evenodd\" fill-opacity=\"1\" stroke=\"#000000\" stroke-opacity=\"1\" stroke-width=\"3.2\"/>\n",
       "<circle clip-path=\"url(#clip302)\" cx=\"2290.34\" cy=\"1067.81\" r=\"14.4\" fill=\"#3da44d\" fill-rule=\"evenodd\" fill-opacity=\"1\" stroke=\"#000000\" stroke-opacity=\"1\" stroke-width=\"3.2\"/>\n",
       "<circle clip-path=\"url(#clip302)\" cx=\"209.891\" cy=\"1105.18\" r=\"14.4\" fill=\"#c271d2\" fill-rule=\"evenodd\" fill-opacity=\"1\" stroke=\"#000000\" stroke-opacity=\"1\" stroke-width=\"3.2\"/>\n",
       "<circle clip-path=\"url(#clip302)\" cx=\"281.631\" cy=\"962.3\" r=\"14.4\" fill=\"#c271d2\" fill-rule=\"evenodd\" fill-opacity=\"1\" stroke=\"#000000\" stroke-opacity=\"1\" stroke-width=\"3.2\"/>\n",
       "<circle clip-path=\"url(#clip302)\" cx=\"353.371\" cy=\"832.005\" r=\"14.4\" fill=\"#c271d2\" fill-rule=\"evenodd\" fill-opacity=\"1\" stroke=\"#000000\" stroke-opacity=\"1\" stroke-width=\"3.2\"/>\n",
       "<circle clip-path=\"url(#clip302)\" cx=\"425.111\" cy=\"732.258\" r=\"14.4\" fill=\"#c271d2\" fill-rule=\"evenodd\" fill-opacity=\"1\" stroke=\"#000000\" stroke-opacity=\"1\" stroke-width=\"3.2\"/>\n",
       "<circle clip-path=\"url(#clip302)\" cx=\"496.85\" cy=\"671.713\" r=\"14.4\" fill=\"#c271d2\" fill-rule=\"evenodd\" fill-opacity=\"1\" stroke=\"#000000\" stroke-opacity=\"1\" stroke-width=\"3.2\"/>\n",
       "<circle clip-path=\"url(#clip302)\" cx=\"568.59\" cy=\"642.794\" r=\"14.4\" fill=\"#c271d2\" fill-rule=\"evenodd\" fill-opacity=\"1\" stroke=\"#000000\" stroke-opacity=\"1\" stroke-width=\"3.2\"/>\n",
       "<circle clip-path=\"url(#clip302)\" cx=\"640.33\" cy=\"634.482\" r=\"14.4\" fill=\"#c271d2\" fill-rule=\"evenodd\" fill-opacity=\"1\" stroke=\"#000000\" stroke-opacity=\"1\" stroke-width=\"3.2\"/>\n",
       "<circle clip-path=\"url(#clip302)\" cx=\"712.069\" cy=\"640.757\" r=\"14.4\" fill=\"#c271d2\" fill-rule=\"evenodd\" fill-opacity=\"1\" stroke=\"#000000\" stroke-opacity=\"1\" stroke-width=\"3.2\"/>\n",
       "<circle clip-path=\"url(#clip302)\" cx=\"783.809\" cy=\"660.128\" r=\"14.4\" fill=\"#c271d2\" fill-rule=\"evenodd\" fill-opacity=\"1\" stroke=\"#000000\" stroke-opacity=\"1\" stroke-width=\"3.2\"/>\n",
       "<circle clip-path=\"url(#clip302)\" cx=\"855.549\" cy=\"692.027\" r=\"14.4\" fill=\"#c271d2\" fill-rule=\"evenodd\" fill-opacity=\"1\" stroke=\"#000000\" stroke-opacity=\"1\" stroke-width=\"3.2\"/>\n",
       "<circle clip-path=\"url(#clip302)\" cx=\"927.288\" cy=\"735.606\" r=\"14.4\" fill=\"#c271d2\" fill-rule=\"evenodd\" fill-opacity=\"1\" stroke=\"#000000\" stroke-opacity=\"1\" stroke-width=\"3.2\"/>\n",
       "<circle clip-path=\"url(#clip302)\" cx=\"999.028\" cy=\"788.893\" r=\"14.4\" fill=\"#c271d2\" fill-rule=\"evenodd\" fill-opacity=\"1\" stroke=\"#000000\" stroke-opacity=\"1\" stroke-width=\"3.2\"/>\n",
       "<circle clip-path=\"url(#clip302)\" cx=\"1070.77\" cy=\"848.629\" r=\"14.4\" fill=\"#c271d2\" fill-rule=\"evenodd\" fill-opacity=\"1\" stroke=\"#000000\" stroke-opacity=\"1\" stroke-width=\"3.2\"/>\n",
       "<circle clip-path=\"url(#clip302)\" cx=\"1142.51\" cy=\"911.747\" r=\"14.4\" fill=\"#c271d2\" fill-rule=\"evenodd\" fill-opacity=\"1\" stroke=\"#000000\" stroke-opacity=\"1\" stroke-width=\"3.2\"/>\n",
       "<circle clip-path=\"url(#clip302)\" cx=\"1214.25\" cy=\"975.701\" r=\"14.4\" fill=\"#c271d2\" fill-rule=\"evenodd\" fill-opacity=\"1\" stroke=\"#000000\" stroke-opacity=\"1\" stroke-width=\"3.2\"/>\n",
       "<circle clip-path=\"url(#clip302)\" cx=\"1285.99\" cy=\"1037.12\" r=\"14.4\" fill=\"#c271d2\" fill-rule=\"evenodd\" fill-opacity=\"1\" stroke=\"#000000\" stroke-opacity=\"1\" stroke-width=\"3.2\"/>\n",
       "<circle clip-path=\"url(#clip302)\" cx=\"1357.73\" cy=\"1094.3\" r=\"14.4\" fill=\"#c271d2\" fill-rule=\"evenodd\" fill-opacity=\"1\" stroke=\"#000000\" stroke-opacity=\"1\" stroke-width=\"3.2\"/>\n",
       "<circle clip-path=\"url(#clip302)\" cx=\"1429.47\" cy=\"1145.56\" r=\"14.4\" fill=\"#c271d2\" fill-rule=\"evenodd\" fill-opacity=\"1\" stroke=\"#000000\" stroke-opacity=\"1\" stroke-width=\"3.2\"/>\n",
       "<circle clip-path=\"url(#clip302)\" cx=\"1501.21\" cy=\"1190.32\" r=\"14.4\" fill=\"#c271d2\" fill-rule=\"evenodd\" fill-opacity=\"1\" stroke=\"#000000\" stroke-opacity=\"1\" stroke-width=\"3.2\"/>\n",
       "<circle clip-path=\"url(#clip302)\" cx=\"1572.95\" cy=\"1227.98\" r=\"14.4\" fill=\"#c271d2\" fill-rule=\"evenodd\" fill-opacity=\"1\" stroke=\"#000000\" stroke-opacity=\"1\" stroke-width=\"3.2\"/>\n",
       "<circle clip-path=\"url(#clip302)\" cx=\"1644.69\" cy=\"1258.13\" r=\"14.4\" fill=\"#c271d2\" fill-rule=\"evenodd\" fill-opacity=\"1\" stroke=\"#000000\" stroke-opacity=\"1\" stroke-width=\"3.2\"/>\n",
       "<circle clip-path=\"url(#clip302)\" cx=\"1716.42\" cy=\"1281.09\" r=\"14.4\" fill=\"#c271d2\" fill-rule=\"evenodd\" fill-opacity=\"1\" stroke=\"#000000\" stroke-opacity=\"1\" stroke-width=\"3.2\"/>\n",
       "<circle clip-path=\"url(#clip302)\" cx=\"1788.16\" cy=\"1297.67\" r=\"14.4\" fill=\"#c271d2\" fill-rule=\"evenodd\" fill-opacity=\"1\" stroke=\"#000000\" stroke-opacity=\"1\" stroke-width=\"3.2\"/>\n",
       "<circle clip-path=\"url(#clip302)\" cx=\"1859.9\" cy=\"1307.85\" r=\"14.4\" fill=\"#c271d2\" fill-rule=\"evenodd\" fill-opacity=\"1\" stroke=\"#000000\" stroke-opacity=\"1\" stroke-width=\"3.2\"/>\n",
       "<circle clip-path=\"url(#clip302)\" cx=\"1931.64\" cy=\"1312.43\" r=\"14.4\" fill=\"#c271d2\" fill-rule=\"evenodd\" fill-opacity=\"1\" stroke=\"#000000\" stroke-opacity=\"1\" stroke-width=\"3.2\"/>\n",
       "<circle clip-path=\"url(#clip302)\" cx=\"2003.38\" cy=\"1311.98\" r=\"14.4\" fill=\"#c271d2\" fill-rule=\"evenodd\" fill-opacity=\"1\" stroke=\"#000000\" stroke-opacity=\"1\" stroke-width=\"3.2\"/>\n",
       "<circle clip-path=\"url(#clip302)\" cx=\"2075.12\" cy=\"1307.82\" r=\"14.4\" fill=\"#c271d2\" fill-rule=\"evenodd\" fill-opacity=\"1\" stroke=\"#000000\" stroke-opacity=\"1\" stroke-width=\"3.2\"/>\n",
       "<circle clip-path=\"url(#clip302)\" cx=\"2146.86\" cy=\"1300.23\" r=\"14.4\" fill=\"#c271d2\" fill-rule=\"evenodd\" fill-opacity=\"1\" stroke=\"#000000\" stroke-opacity=\"1\" stroke-width=\"3.2\"/>\n",
       "<circle clip-path=\"url(#clip302)\" cx=\"2218.6\" cy=\"1289.86\" r=\"14.4\" fill=\"#c271d2\" fill-rule=\"evenodd\" fill-opacity=\"1\" stroke=\"#000000\" stroke-opacity=\"1\" stroke-width=\"3.2\"/>\n",
       "<circle clip-path=\"url(#clip302)\" cx=\"2290.34\" cy=\"1277.5\" r=\"14.4\" fill=\"#c271d2\" fill-rule=\"evenodd\" fill-opacity=\"1\" stroke=\"#000000\" stroke-opacity=\"1\" stroke-width=\"3.2\"/>\n",
       "</svg>\n"
      ]
     },
     "execution_count": 9,
     "metadata": {},
     "output_type": "execute_result"
    }
   ],
   "source": [
    "plt1 = plot(ensemble_nsum, title = \"Neural SDE: Before Training\")\n",
    "scatter!(plt1, tsteps, sde_data', lw = 3)"
   ]
  },
  {
   "cell_type": "markdown",
   "id": "422e5dc4",
   "metadata": {},
   "source": [
    "Training takes place in two phases - why they knew to do this is unclear. Either way, it takes an immense amount of time. It is unclear how the process can be sped up. "
   ]
  },
  {
   "cell_type": "code",
   "execution_count": 32,
   "id": "f749051f",
   "metadata": {},
   "outputs": [],
   "source": [
    "function predict_neuralsde(p)\n",
    "  return Array(neuralsde(u0, p))\n",
    "end\n",
    "\n",
    "function loss_neuralsde(p; n = 100)\n",
    "  samples = [predict_neuralsde(p) for i in 1:n]\n",
    "  means = reshape(mean.([[samples[i][j] for i in 1:length(samples)]\n",
    "                                        for j in 1:length(samples[1])]),\n",
    "                      size(samples[1])...)\n",
    "  vars = reshape(var.([[samples[i][j] for i in 1:length(samples)]\n",
    "                                      for j in 1:length(samples[1])]),\n",
    "                      size(samples[1])...)\n",
    "  loss = sum(abs2, sde_data - means) + sum(abs2, sde_data_vars - vars)\n",
    "  return loss, means, vars\n",
    "end\n",
    "nothing"
   ]
  },
  {
   "cell_type": "code",
   "execution_count": 33,
   "id": "4c19ff22",
   "metadata": {},
   "outputs": [],
   "source": [
    "list_plots = []\n",
    "iter = 0\n",
    "\n",
    "# Callback function to observe training\n",
    "callback = function (p, loss, means, vars; doplot = false)\n",
    "  global list_plots, iter\n",
    "\n",
    "  if iter == 0\n",
    "    list_plots = []\n",
    "  end\n",
    "  iter += 1\n",
    "\n",
    "  # loss against current data\n",
    "  display(loss)\n",
    "\n",
    "  # plot current prediction against data\n",
    "  plt = scatter(tsteps, sde_data[1,:], yerror = sde_data_vars[1,:],\n",
    "                ylim = (-4.0, 8.0), label = \"data\")\n",
    "  scatter!(plt, tsteps, means[1,:], ribbon = vars[1,:], label = \"prediction\")\n",
    "  push!(list_plots, plt)\n",
    "\n",
    "  if doplot\n",
    "    display(plt)\n",
    "  end\n",
    "  return false\n",
    "end\n",
    "nothing"
   ]
  },
  {
   "cell_type": "code",
   "execution_count": 34,
   "id": "542582c1",
   "metadata": {},
   "outputs": [
    {
     "name": "stderr",
     "output_type": "stream",
     "text": [
      "\u001b[33m\u001b[1m┌ \u001b[22m\u001b[39m\u001b[33m\u001b[1mWarning: \u001b[22m\u001b[39msciml_train is being deprecated in favor of direct usage of Optimization.jl. Please consult the Optimization.jl documentation for more details. Optimization.jl's PolyOpt solver is the polyalgorithm of sciml_train\n",
      "\u001b[33m\u001b[1m└ \u001b[22m\u001b[39m\u001b[90m@ DiffEqFlux C:\\Users\\ChemeGrad2021\\.julia\\packages\\DiffEqFlux\\2IJEZ\\src\\train.jl:6\u001b[39m\n"
     ]
    },
    {
     "data": {
      "text/plain": [
       "242.48639f0"
      ]
     },
     "metadata": {},
     "output_type": "display_data"
    },
    {
     "data": {
      "text/plain": [
       "154.46155f0"
      ]
     },
     "metadata": {},
     "output_type": "display_data"
    },
    {
     "data": {
      "text/plain": [
       "116.93228f0"
      ]
     },
     "metadata": {},
     "output_type": "display_data"
    },
    {
     "data": {
      "text/plain": [
       "106.14664f0"
      ]
     },
     "metadata": {},
     "output_type": "display_data"
    },
    {
     "data": {
      "text/plain": [
       "97.43872f0"
      ]
     },
     "metadata": {},
     "output_type": "display_data"
    },
    {
     "data": {
      "text/plain": [
       "94.25998f0"
      ]
     },
     "metadata": {},
     "output_type": "display_data"
    },
    {
     "data": {
      "text/plain": [
       "92.24497f0"
      ]
     },
     "metadata": {},
     "output_type": "display_data"
    },
    {
     "data": {
      "text/plain": [
       "85.994514f0"
      ]
     },
     "metadata": {},
     "output_type": "display_data"
    },
    {
     "data": {
      "text/plain": [
       "78.69465f0"
      ]
     },
     "metadata": {},
     "output_type": "display_data"
    },
    {
     "data": {
      "text/plain": [
       "79.74127f0"
      ]
     },
     "metadata": {},
     "output_type": "display_data"
    },
    {
     "data": {
      "text/plain": [
       "77.10605f0"
      ]
     },
     "metadata": {},
     "output_type": "display_data"
    },
    {
     "data": {
      "text/plain": [
       "72.4421f0"
      ]
     },
     "metadata": {},
     "output_type": "display_data"
    },
    {
     "data": {
      "text/plain": [
       "66.050995f0"
      ]
     },
     "metadata": {},
     "output_type": "display_data"
    },
    {
     "data": {
      "text/plain": [
       "65.29018f0"
      ]
     },
     "metadata": {},
     "output_type": "display_data"
    },
    {
     "data": {
      "text/plain": [
       "61.752167f0"
      ]
     },
     "metadata": {},
     "output_type": "display_data"
    },
    {
     "data": {
      "text/plain": [
       "52.481525f0"
      ]
     },
     "metadata": {},
     "output_type": "display_data"
    },
    {
     "data": {
      "text/plain": [
       "63.3525f0"
      ]
     },
     "metadata": {},
     "output_type": "display_data"
    },
    {
     "data": {
      "text/plain": [
       "70.47618f0"
      ]
     },
     "metadata": {},
     "output_type": "display_data"
    },
    {
     "data": {
      "text/plain": [
       "55.30881f0"
      ]
     },
     "metadata": {},
     "output_type": "display_data"
    },
    {
     "data": {
      "text/plain": [
       "54.872948f0"
      ]
     },
     "metadata": {},
     "output_type": "display_data"
    },
    {
     "data": {
      "text/plain": [
       "51.758507f0"
      ]
     },
     "metadata": {},
     "output_type": "display_data"
    },
    {
     "data": {
      "text/plain": [
       "30.288155f0"
      ]
     },
     "metadata": {},
     "output_type": "display_data"
    },
    {
     "data": {
      "text/plain": [
       "252.70305f0"
      ]
     },
     "metadata": {},
     "output_type": "display_data"
    },
    {
     "data": {
      "text/plain": [
       "96.360245f0"
      ]
     },
     "metadata": {},
     "output_type": "display_data"
    },
    {
     "data": {
      "text/plain": [
       "35.417503f0"
      ]
     },
     "metadata": {},
     "output_type": "display_data"
    },
    {
     "data": {
      "text/plain": [
       "50.33531f0"
      ]
     },
     "metadata": {},
     "output_type": "display_data"
    },
    {
     "data": {
      "text/plain": [
       "430.406f0"
      ]
     },
     "metadata": {},
     "output_type": "display_data"
    },
    {
     "data": {
      "text/plain": [
       "34.291164f0"
      ]
     },
     "metadata": {},
     "output_type": "display_data"
    },
    {
     "data": {
      "text/plain": [
       "41.742546f0"
      ]
     },
     "metadata": {},
     "output_type": "display_data"
    },
    {
     "data": {
      "text/plain": [
       "49.640396f0"
      ]
     },
     "metadata": {},
     "output_type": "display_data"
    },
    {
     "data": {
      "text/plain": [
       "37.28853f0"
      ]
     },
     "metadata": {},
     "output_type": "display_data"
    },
    {
     "data": {
      "text/plain": [
       "31.537296f0"
      ]
     },
     "metadata": {},
     "output_type": "display_data"
    },
    {
     "data": {
      "text/plain": [
       "35.582916f0"
      ]
     },
     "metadata": {},
     "output_type": "display_data"
    },
    {
     "data": {
      "text/plain": [
       "54.19621f0"
      ]
     },
     "metadata": {},
     "output_type": "display_data"
    },
    {
     "data": {
      "text/plain": [
       "38.75908f0"
      ]
     },
     "metadata": {},
     "output_type": "display_data"
    },
    {
     "data": {
      "text/plain": [
       "46.051956f0"
      ]
     },
     "metadata": {},
     "output_type": "display_data"
    },
    {
     "data": {
      "text/plain": [
       "49.11111f0"
      ]
     },
     "metadata": {},
     "output_type": "display_data"
    },
    {
     "data": {
      "text/plain": [
       "44.94393f0"
      ]
     },
     "metadata": {},
     "output_type": "display_data"
    },
    {
     "data": {
      "text/plain": [
       "483.04996f0"
      ]
     },
     "metadata": {},
     "output_type": "display_data"
    },
    {
     "data": {
      "text/plain": [
       "51.60053f0"
      ]
     },
     "metadata": {},
     "output_type": "display_data"
    },
    {
     "data": {
      "text/plain": [
       "37.265133f0"
      ]
     },
     "metadata": {},
     "output_type": "display_data"
    },
    {
     "data": {
      "text/plain": [
       "47.37963f0"
      ]
     },
     "metadata": {},
     "output_type": "display_data"
    },
    {
     "data": {
      "text/plain": [
       "45.713223f0"
      ]
     },
     "metadata": {},
     "output_type": "display_data"
    },
    {
     "data": {
      "text/plain": [
       "88.58249f0"
      ]
     },
     "metadata": {},
     "output_type": "display_data"
    },
    {
     "data": {
      "text/plain": [
       "40.78563f0"
      ]
     },
     "metadata": {},
     "output_type": "display_data"
    },
    {
     "data": {
      "text/plain": [
       "40.513344f0"
      ]
     },
     "metadata": {},
     "output_type": "display_data"
    },
    {
     "data": {
      "text/plain": [
       "51.658867f0"
      ]
     },
     "metadata": {},
     "output_type": "display_data"
    },
    {
     "data": {
      "text/plain": [
       "45.102867f0"
      ]
     },
     "metadata": {},
     "output_type": "display_data"
    },
    {
     "data": {
      "text/plain": [
       "23.653608f0"
      ]
     },
     "metadata": {},
     "output_type": "display_data"
    },
    {
     "data": {
      "text/plain": [
       "39.81399f0"
      ]
     },
     "metadata": {},
     "output_type": "display_data"
    },
    {
     "data": {
      "text/plain": [
       "95.57119f0"
      ]
     },
     "metadata": {},
     "output_type": "display_data"
    },
    {
     "data": {
      "text/plain": [
       "42.311436f0"
      ]
     },
     "metadata": {},
     "output_type": "display_data"
    },
    {
     "data": {
      "text/plain": [
       "20.55914f0"
      ]
     },
     "metadata": {},
     "output_type": "display_data"
    },
    {
     "data": {
      "text/plain": [
       "750.1009f0"
      ]
     },
     "metadata": {},
     "output_type": "display_data"
    },
    {
     "data": {
      "text/plain": [
       "17.915955f0"
      ]
     },
     "metadata": {},
     "output_type": "display_data"
    },
    {
     "data": {
      "text/plain": [
       "20.72126f0"
      ]
     },
     "metadata": {},
     "output_type": "display_data"
    },
    {
     "data": {
      "text/plain": [
       "27.519676f0"
      ]
     },
     "metadata": {},
     "output_type": "display_data"
    },
    {
     "data": {
      "text/plain": [
       "35.8849f0"
      ]
     },
     "metadata": {},
     "output_type": "display_data"
    },
    {
     "data": {
      "text/plain": [
       "29.569239f0"
      ]
     },
     "metadata": {},
     "output_type": "display_data"
    },
    {
     "data": {
      "text/plain": [
       "22.521145f0"
      ]
     },
     "metadata": {},
     "output_type": "display_data"
    },
    {
     "data": {
      "text/plain": [
       "18.710651f0"
      ]
     },
     "metadata": {},
     "output_type": "display_data"
    },
    {
     "data": {
      "text/plain": [
       "39.431683f0"
      ]
     },
     "metadata": {},
     "output_type": "display_data"
    },
    {
     "data": {
      "text/plain": [
       "25.890503f0"
      ]
     },
     "metadata": {},
     "output_type": "display_data"
    },
    {
     "data": {
      "text/plain": [
       "38.892765f0"
      ]
     },
     "metadata": {},
     "output_type": "display_data"
    },
    {
     "data": {
      "text/plain": [
       "59.20453f0"
      ]
     },
     "metadata": {},
     "output_type": "display_data"
    },
    {
     "data": {
      "text/plain": [
       "27.398495f0"
      ]
     },
     "metadata": {},
     "output_type": "display_data"
    },
    {
     "data": {
      "text/plain": [
       "21.84064f0"
      ]
     },
     "metadata": {},
     "output_type": "display_data"
    },
    {
     "data": {
      "text/plain": [
       "35.37195f0"
      ]
     },
     "metadata": {},
     "output_type": "display_data"
    },
    {
     "data": {
      "text/plain": [
       "34.618378f0"
      ]
     },
     "metadata": {},
     "output_type": "display_data"
    },
    {
     "data": {
      "text/plain": [
       "30.709797f0"
      ]
     },
     "metadata": {},
     "output_type": "display_data"
    },
    {
     "data": {
      "text/plain": [
       "32.939934f0"
      ]
     },
     "metadata": {},
     "output_type": "display_data"
    },
    {
     "data": {
      "text/plain": [
       "24.605762f0"
      ]
     },
     "metadata": {},
     "output_type": "display_data"
    },
    {
     "data": {
      "text/plain": [
       "30.773903f0"
      ]
     },
     "metadata": {},
     "output_type": "display_data"
    },
    {
     "data": {
      "text/plain": [
       "38.23905f0"
      ]
     },
     "metadata": {},
     "output_type": "display_data"
    },
    {
     "data": {
      "text/plain": [
       "43.619415f0"
      ]
     },
     "metadata": {},
     "output_type": "display_data"
    },
    {
     "data": {
      "text/plain": [
       "48.53547f0"
      ]
     },
     "metadata": {},
     "output_type": "display_data"
    },
    {
     "data": {
      "text/plain": [
       "33.06183f0"
      ]
     },
     "metadata": {},
     "output_type": "display_data"
    },
    {
     "data": {
      "text/plain": [
       "35.814632f0"
      ]
     },
     "metadata": {},
     "output_type": "display_data"
    },
    {
     "data": {
      "text/plain": [
       "36.60887f0"
      ]
     },
     "metadata": {},
     "output_type": "display_data"
    },
    {
     "data": {
      "text/plain": [
       "51.02095f0"
      ]
     },
     "metadata": {},
     "output_type": "display_data"
    },
    {
     "data": {
      "text/plain": [
       "36.834248f0"
      ]
     },
     "metadata": {},
     "output_type": "display_data"
    },
    {
     "data": {
      "text/plain": [
       "42.476997f0"
      ]
     },
     "metadata": {},
     "output_type": "display_data"
    },
    {
     "data": {
      "text/plain": [
       "24.672031f0"
      ]
     },
     "metadata": {},
     "output_type": "display_data"
    },
    {
     "data": {
      "text/plain": [
       "43.69226f0"
      ]
     },
     "metadata": {},
     "output_type": "display_data"
    },
    {
     "data": {
      "text/plain": [
       "43.073048f0"
      ]
     },
     "metadata": {},
     "output_type": "display_data"
    },
    {
     "data": {
      "text/plain": [
       "29.58833f0"
      ]
     },
     "metadata": {},
     "output_type": "display_data"
    },
    {
     "data": {
      "text/plain": [
       "37.88833f0"
      ]
     },
     "metadata": {},
     "output_type": "display_data"
    },
    {
     "data": {
      "text/plain": [
       "37.56508f0"
      ]
     },
     "metadata": {},
     "output_type": "display_data"
    },
    {
     "data": {
      "text/plain": [
       "40.060833f0"
      ]
     },
     "metadata": {},
     "output_type": "display_data"
    },
    {
     "data": {
      "text/plain": [
       "33.93468f0"
      ]
     },
     "metadata": {},
     "output_type": "display_data"
    },
    {
     "data": {
      "text/plain": [
       "33.70444f0"
      ]
     },
     "metadata": {},
     "output_type": "display_data"
    },
    {
     "data": {
      "text/plain": [
       "23.488459f0"
      ]
     },
     "metadata": {},
     "output_type": "display_data"
    },
    {
     "data": {
      "text/plain": [
       "26.46615f0"
      ]
     },
     "metadata": {},
     "output_type": "display_data"
    },
    {
     "data": {
      "text/plain": [
       "39.93841f0"
      ]
     },
     "metadata": {},
     "output_type": "display_data"
    },
    {
     "data": {
      "text/plain": [
       "21.808699f0"
      ]
     },
     "metadata": {},
     "output_type": "display_data"
    },
    {
     "data": {
      "text/plain": [
       "24.469492f0"
      ]
     },
     "metadata": {},
     "output_type": "display_data"
    },
    {
     "data": {
      "text/plain": [
       "27.692814f0"
      ]
     },
     "metadata": {},
     "output_type": "display_data"
    },
    {
     "data": {
      "text/plain": [
       "16.447645f0"
      ]
     },
     "metadata": {},
     "output_type": "display_data"
    },
    {
     "data": {
      "text/plain": [
       "25.145279f0"
      ]
     },
     "metadata": {},
     "output_type": "display_data"
    },
    {
     "data": {
      "text/plain": [
       "27.096592f0"
      ]
     },
     "metadata": {},
     "output_type": "display_data"
    },
    {
     "data": {
      "text/plain": [
       "16.447645f0"
      ]
     },
     "metadata": {},
     "output_type": "display_data"
    },
    {
     "data": {
      "text/plain": [
       "u: 258-element Vector{Float32}:\n",
       " -0.44701877\n",
       "  0.21374877\n",
       " -0.100164935\n",
       "  0.037088662\n",
       "  0.340854\n",
       "  0.20312834\n",
       "  0.38869968\n",
       "  0.28623125\n",
       " -0.11195735\n",
       "  0.048247233\n",
       "  0.53297406\n",
       " -0.50371706\n",
       "  0.19228235\n",
       "  ⋮\n",
       "  0.53647345\n",
       " -0.15782693\n",
       " -0.09811135\n",
       "  0.16991882\n",
       " -0.3433203\n",
       " -0.2460563\n",
       "  0.86644423\n",
       "  0.7417986\n",
       "  0.49756414\n",
       "  0.34970537\n",
       "  0.21537873\n",
       " -0.6808065"
      ]
     },
     "execution_count": 34,
     "metadata": {},
     "output_type": "execute_result"
    }
   ],
   "source": [
    "opt = ADAM(0.025)\n",
    "\n",
    "# First round of training with n = 10\n",
    "result1 = DiffEqFlux.sciml_train((p) -> loss_neuralsde(p, n = 10),  \n",
    "                                 neuralsde.p, opt,\n",
    "                                 cb = callback, maxiters = 100)"
   ]
  },
  {
   "cell_type": "code",
   "execution_count": 35,
   "id": "68d57b3c",
   "metadata": {
    "scrolled": false
   },
   "outputs": [
    {
     "name": "stderr",
     "output_type": "stream",
     "text": [
      "\u001b[33m\u001b[1m┌ \u001b[22m\u001b[39m\u001b[33m\u001b[1mWarning: \u001b[22m\u001b[39msciml_train is being deprecated in favor of direct usage of Optimization.jl. Please consult the Optimization.jl documentation for more details. Optimization.jl's PolyOpt solver is the polyalgorithm of sciml_train\n",
      "\u001b[33m\u001b[1m└ \u001b[22m\u001b[39m\u001b[90m@ DiffEqFlux C:\\Users\\ChemeGrad2021\\.julia\\packages\\DiffEqFlux\\2IJEZ\\src\\train.jl:6\u001b[39m\n"
     ]
    },
    {
     "data": {
      "text/plain": [
       "23.155949f0"
      ]
     },
     "metadata": {},
     "output_type": "display_data"
    },
    {
     "data": {
      "text/plain": [
       "14.864796f0"
      ]
     },
     "metadata": {},
     "output_type": "display_data"
    },
    {
     "data": {
      "text/plain": [
       "10.96383f0"
      ]
     },
     "metadata": {},
     "output_type": "display_data"
    },
    {
     "data": {
      "text/plain": [
       "37.741005f0"
      ]
     },
     "metadata": {},
     "output_type": "display_data"
    },
    {
     "data": {
      "text/plain": [
       "10.81929f0"
      ]
     },
     "metadata": {},
     "output_type": "display_data"
    },
    {
     "data": {
      "text/plain": [
       "6.8509636f0"
      ]
     },
     "metadata": {},
     "output_type": "display_data"
    },
    {
     "data": {
      "text/plain": [
       "14.814352f0"
      ]
     },
     "metadata": {},
     "output_type": "display_data"
    },
    {
     "data": {
      "text/plain": [
       "13.10809f0"
      ]
     },
     "metadata": {},
     "output_type": "display_data"
    },
    {
     "data": {
      "text/plain": [
       "20.694866f0"
      ]
     },
     "metadata": {},
     "output_type": "display_data"
    },
    {
     "data": {
      "text/plain": [
       "14.254698f0"
      ]
     },
     "metadata": {},
     "output_type": "display_data"
    },
    {
     "data": {
      "text/plain": [
       "19.68486f0"
      ]
     },
     "metadata": {},
     "output_type": "display_data"
    },
    {
     "data": {
      "text/plain": [
       "24.114933f0"
      ]
     },
     "metadata": {},
     "output_type": "display_data"
    },
    {
     "data": {
      "text/plain": [
       "25.020306f0"
      ]
     },
     "metadata": {},
     "output_type": "display_data"
    },
    {
     "data": {
      "text/plain": [
       "24.156715f0"
      ]
     },
     "metadata": {},
     "output_type": "display_data"
    },
    {
     "data": {
      "text/plain": [
       "25.543304f0"
      ]
     },
     "metadata": {},
     "output_type": "display_data"
    },
    {
     "data": {
      "text/plain": [
       "26.714352f0"
      ]
     },
     "metadata": {},
     "output_type": "display_data"
    },
    {
     "data": {
      "text/plain": [
       "25.147951f0"
      ]
     },
     "metadata": {},
     "output_type": "display_data"
    },
    {
     "data": {
      "text/plain": [
       "30.12707f0"
      ]
     },
     "metadata": {},
     "output_type": "display_data"
    },
    {
     "data": {
      "text/plain": [
       "26.665169f0"
      ]
     },
     "metadata": {},
     "output_type": "display_data"
    },
    {
     "data": {
      "text/plain": [
       "27.824772f0"
      ]
     },
     "metadata": {},
     "output_type": "display_data"
    },
    {
     "data": {
      "text/plain": [
       "25.541365f0"
      ]
     },
     "metadata": {},
     "output_type": "display_data"
    },
    {
     "data": {
      "text/plain": [
       "27.387909f0"
      ]
     },
     "metadata": {},
     "output_type": "display_data"
    },
    {
     "data": {
      "text/plain": [
       "23.258894f0"
      ]
     },
     "metadata": {},
     "output_type": "display_data"
    },
    {
     "data": {
      "text/plain": [
       "24.593594f0"
      ]
     },
     "metadata": {},
     "output_type": "display_data"
    },
    {
     "data": {
      "text/plain": [
       "27.01889f0"
      ]
     },
     "metadata": {},
     "output_type": "display_data"
    },
    {
     "data": {
      "text/plain": [
       "28.684374f0"
      ]
     },
     "metadata": {},
     "output_type": "display_data"
    },
    {
     "data": {
      "text/plain": [
       "24.92173f0"
      ]
     },
     "metadata": {},
     "output_type": "display_data"
    },
    {
     "data": {
      "text/plain": [
       "22.943295f0"
      ]
     },
     "metadata": {},
     "output_type": "display_data"
    },
    {
     "data": {
      "text/plain": [
       "24.620798f0"
      ]
     },
     "metadata": {},
     "output_type": "display_data"
    },
    {
     "data": {
      "text/plain": [
       "25.201675f0"
      ]
     },
     "metadata": {},
     "output_type": "display_data"
    },
    {
     "data": {
      "text/plain": [
       "22.53072f0"
      ]
     },
     "metadata": {},
     "output_type": "display_data"
    },
    {
     "data": {
      "text/plain": [
       "19.172436f0"
      ]
     },
     "metadata": {},
     "output_type": "display_data"
    },
    {
     "data": {
      "text/plain": [
       "21.966335f0"
      ]
     },
     "metadata": {},
     "output_type": "display_data"
    },
    {
     "data": {
      "text/plain": [
       "19.629284f0"
      ]
     },
     "metadata": {},
     "output_type": "display_data"
    },
    {
     "data": {
      "text/plain": [
       "18.784138f0"
      ]
     },
     "metadata": {},
     "output_type": "display_data"
    },
    {
     "data": {
      "text/plain": [
       "18.446693f0"
      ]
     },
     "metadata": {},
     "output_type": "display_data"
    },
    {
     "data": {
      "text/plain": [
       "17.615047f0"
      ]
     },
     "metadata": {},
     "output_type": "display_data"
    },
    {
     "data": {
      "text/plain": [
       "15.287912f0"
      ]
     },
     "metadata": {},
     "output_type": "display_data"
    },
    {
     "data": {
      "text/plain": [
       "19.575525f0"
      ]
     },
     "metadata": {},
     "output_type": "display_data"
    },
    {
     "data": {
      "text/plain": [
       "12.975792f0"
      ]
     },
     "metadata": {},
     "output_type": "display_data"
    },
    {
     "data": {
      "text/plain": [
       "13.108585f0"
      ]
     },
     "metadata": {},
     "output_type": "display_data"
    },
    {
     "data": {
      "text/plain": [
       "15.45072f0"
      ]
     },
     "metadata": {},
     "output_type": "display_data"
    },
    {
     "data": {
      "text/plain": [
       "12.021781f0"
      ]
     },
     "metadata": {},
     "output_type": "display_data"
    },
    {
     "data": {
      "text/plain": [
       "11.693719f0"
      ]
     },
     "metadata": {},
     "output_type": "display_data"
    },
    {
     "data": {
      "text/plain": [
       "11.287568f0"
      ]
     },
     "metadata": {},
     "output_type": "display_data"
    },
    {
     "data": {
      "text/plain": [
       "11.185391f0"
      ]
     },
     "metadata": {},
     "output_type": "display_data"
    },
    {
     "data": {
      "text/plain": [
       "10.773114f0"
      ]
     },
     "metadata": {},
     "output_type": "display_data"
    },
    {
     "data": {
      "text/plain": [
       "9.637345f0"
      ]
     },
     "metadata": {},
     "output_type": "display_data"
    },
    {
     "data": {
      "text/plain": [
       "9.689815f0"
      ]
     },
     "metadata": {},
     "output_type": "display_data"
    },
    {
     "data": {
      "text/plain": [
       "9.837215f0"
      ]
     },
     "metadata": {},
     "output_type": "display_data"
    },
    {
     "data": {
      "text/plain": [
       "10.722064f0"
      ]
     },
     "metadata": {},
     "output_type": "display_data"
    },
    {
     "data": {
      "text/plain": [
       "9.3892975f0"
      ]
     },
     "metadata": {},
     "output_type": "display_data"
    },
    {
     "data": {
      "text/plain": [
       "8.74445f0"
      ]
     },
     "metadata": {},
     "output_type": "display_data"
    },
    {
     "data": {
      "text/plain": [
       "8.827053f0"
      ]
     },
     "metadata": {},
     "output_type": "display_data"
    },
    {
     "data": {
      "text/plain": [
       "12.049757f0"
      ]
     },
     "metadata": {},
     "output_type": "display_data"
    },
    {
     "data": {
      "text/plain": [
       "10.314473f0"
      ]
     },
     "metadata": {},
     "output_type": "display_data"
    },
    {
     "data": {
      "text/plain": [
       "10.105248f0"
      ]
     },
     "metadata": {},
     "output_type": "display_data"
    },
    {
     "data": {
      "text/plain": [
       "9.040425f0"
      ]
     },
     "metadata": {},
     "output_type": "display_data"
    },
    {
     "data": {
      "text/plain": [
       "9.370146f0"
      ]
     },
     "metadata": {},
     "output_type": "display_data"
    },
    {
     "data": {
      "text/plain": [
       "10.338582f0"
      ]
     },
     "metadata": {},
     "output_type": "display_data"
    },
    {
     "data": {
      "text/plain": [
       "10.205612f0"
      ]
     },
     "metadata": {},
     "output_type": "display_data"
    },
    {
     "data": {
      "text/plain": [
       "10.184208f0"
      ]
     },
     "metadata": {},
     "output_type": "display_data"
    },
    {
     "data": {
      "text/plain": [
       "7.600201f0"
      ]
     },
     "metadata": {},
     "output_type": "display_data"
    },
    {
     "data": {
      "text/plain": [
       "7.4526186f0"
      ]
     },
     "metadata": {},
     "output_type": "display_data"
    },
    {
     "data": {
      "text/plain": [
       "8.787998f0"
      ]
     },
     "metadata": {},
     "output_type": "display_data"
    },
    {
     "data": {
      "text/plain": [
       "6.8140516f0"
      ]
     },
     "metadata": {},
     "output_type": "display_data"
    },
    {
     "data": {
      "text/plain": [
       "6.9737687f0"
      ]
     },
     "metadata": {},
     "output_type": "display_data"
    },
    {
     "data": {
      "text/plain": [
       "8.61693f0"
      ]
     },
     "metadata": {},
     "output_type": "display_data"
    },
    {
     "data": {
      "text/plain": [
       "6.666991f0"
      ]
     },
     "metadata": {},
     "output_type": "display_data"
    },
    {
     "data": {
      "text/plain": [
       "7.6895475f0"
      ]
     },
     "metadata": {},
     "output_type": "display_data"
    },
    {
     "data": {
      "text/plain": [
       "6.7094765f0"
      ]
     },
     "metadata": {},
     "output_type": "display_data"
    },
    {
     "data": {
      "text/plain": [
       "9.167404f0"
      ]
     },
     "metadata": {},
     "output_type": "display_data"
    },
    {
     "data": {
      "text/plain": [
       "6.982542f0"
      ]
     },
     "metadata": {},
     "output_type": "display_data"
    },
    {
     "data": {
      "text/plain": [
       "6.042534f0"
      ]
     },
     "metadata": {},
     "output_type": "display_data"
    },
    {
     "data": {
      "text/plain": [
       "7.834663f0"
      ]
     },
     "metadata": {},
     "output_type": "display_data"
    },
    {
     "data": {
      "text/plain": [
       "8.669966f0"
      ]
     },
     "metadata": {},
     "output_type": "display_data"
    },
    {
     "data": {
      "text/plain": [
       "7.219617f0"
      ]
     },
     "metadata": {},
     "output_type": "display_data"
    },
    {
     "data": {
      "text/plain": [
       "5.056958f0"
      ]
     },
     "metadata": {},
     "output_type": "display_data"
    },
    {
     "data": {
      "text/plain": [
       "6.26266f0"
      ]
     },
     "metadata": {},
     "output_type": "display_data"
    },
    {
     "data": {
      "text/plain": [
       "7.6767077f0"
      ]
     },
     "metadata": {},
     "output_type": "display_data"
    },
    {
     "data": {
      "text/plain": [
       "7.611597f0"
      ]
     },
     "metadata": {},
     "output_type": "display_data"
    },
    {
     "data": {
      "text/plain": [
       "18.255342f0"
      ]
     },
     "metadata": {},
     "output_type": "display_data"
    },
    {
     "data": {
      "text/plain": [
       "6.5691648f0"
      ]
     },
     "metadata": {},
     "output_type": "display_data"
    },
    {
     "data": {
      "text/plain": [
       "6.3927965f0"
      ]
     },
     "metadata": {},
     "output_type": "display_data"
    },
    {
     "data": {
      "text/plain": [
       "6.292693f0"
      ]
     },
     "metadata": {},
     "output_type": "display_data"
    },
    {
     "data": {
      "text/plain": [
       "9.953906f0"
      ]
     },
     "metadata": {},
     "output_type": "display_data"
    },
    {
     "data": {
      "text/plain": [
       "6.214404f0"
      ]
     },
     "metadata": {},
     "output_type": "display_data"
    },
    {
     "data": {
      "text/plain": [
       "5.7415924f0"
      ]
     },
     "metadata": {},
     "output_type": "display_data"
    },
    {
     "data": {
      "text/plain": [
       "6.0709534f0"
      ]
     },
     "metadata": {},
     "output_type": "display_data"
    },
    {
     "data": {
      "text/plain": [
       "6.6736975f0"
      ]
     },
     "metadata": {},
     "output_type": "display_data"
    },
    {
     "data": {
      "text/plain": [
       "4.5509086f0"
      ]
     },
     "metadata": {},
     "output_type": "display_data"
    },
    {
     "data": {
      "text/plain": [
       "5.5904865f0"
      ]
     },
     "metadata": {},
     "output_type": "display_data"
    },
    {
     "data": {
      "text/plain": [
       "4.2845454f0"
      ]
     },
     "metadata": {},
     "output_type": "display_data"
    },
    {
     "data": {
      "text/plain": [
       "4.8533897f0"
      ]
     },
     "metadata": {},
     "output_type": "display_data"
    },
    {
     "data": {
      "text/plain": [
       "9.826092f0"
      ]
     },
     "metadata": {},
     "output_type": "display_data"
    },
    {
     "data": {
      "text/plain": [
       "4.5710607f0"
      ]
     },
     "metadata": {},
     "output_type": "display_data"
    },
    {
     "data": {
      "text/plain": [
       "3.3537998f0"
      ]
     },
     "metadata": {},
     "output_type": "display_data"
    },
    {
     "data": {
      "text/plain": [
       "20.963537f0"
      ]
     },
     "metadata": {},
     "output_type": "display_data"
    },
    {
     "data": {
      "text/plain": [
       "6.5094957f0"
      ]
     },
     "metadata": {},
     "output_type": "display_data"
    },
    {
     "data": {
      "text/plain": [
       "3.849854f0"
      ]
     },
     "metadata": {},
     "output_type": "display_data"
    },
    {
     "data": {
      "text/plain": [
       "3.3537998f0"
      ]
     },
     "metadata": {},
     "output_type": "display_data"
    },
    {
     "data": {
      "text/plain": [
       "u: 258-element Vector{Float32}:\n",
       " -0.40900904\n",
       "  0.15884796\n",
       " -0.082203776\n",
       "  0.112532444\n",
       "  0.29275647\n",
       "  0.23489337\n",
       "  0.17464691\n",
       "  0.23077404\n",
       " -0.17119281\n",
       "  0.063447095\n",
       "  0.40438133\n",
       " -0.39905265\n",
       "  0.13458215\n",
       "  ⋮\n",
       "  0.5000552\n",
       " -0.20075361\n",
       " -0.069440395\n",
       "  0.19156976\n",
       " -0.23909317\n",
       " -0.26597148\n",
       "  0.8320304\n",
       "  0.7971476\n",
       "  0.47624555\n",
       "  0.21526223\n",
       "  0.21605794\n",
       " -1.2845944"
      ]
     },
     "execution_count": 35,
     "metadata": {},
     "output_type": "execute_result"
    }
   ],
   "source": [
    "result2 = DiffEqFlux.sciml_train((p) -> loss_neuralsde(p, n = 100),\n",
    "                                 result1.minimizer, opt,\n",
    "                                 cb = callback, maxiters = 100)"
   ]
  },
  {
   "cell_type": "code",
   "execution_count": 10,
   "id": "5167c614",
   "metadata": {},
   "outputs": [
    {
     "ename": "LoadError",
     "evalue": "UndefVarError: result2 not defined\n\nSome of the types have been truncated in the stacktrace for improved reading. To emit complete information\nin the stack trace, evaluate `TruncatedStacktraces.VERBOSE[] = true` and re-run the code.\n",
     "output_type": "error",
     "traceback": [
      "UndefVarError: result2 not defined\n\nSome of the types have been truncated in the stacktrace for improved reading. To emit complete information\nin the stack trace, evaluate `TruncatedStacktraces.VERBOSE[] = true` and re-run the code.\n",
      ""
     ]
    }
   ],
   "source": [
    "result2"
   ]
  },
  {
   "cell_type": "code",
   "execution_count": 36,
   "id": "9c0ea49f",
   "metadata": {},
   "outputs": [],
   "source": [
    "samples = [predict_neuralsde(result2.minimizer) for i in 1:1000]\n",
    "means = reshape(mean.([[samples[i][j] for i in 1:length(samples)]\n",
    "                                      for j in 1:length(samples[1])]),\n",
    "                    size(samples[1])...)\n",
    "vars = reshape(var.([[samples[i][j] for i in 1:length(samples)]\n",
    "                                    for j in 1:length(samples[1])]),\n",
    "                    size(samples[1])...)\n",
    "\n",
    "plt2 = scatter(tsteps, sde_data', yerror = sde_data_vars',\n",
    "               label = \"data\", title = \"Neural SDE: After Training\",\n",
    "               xlabel = \"Time\")\n",
    "plot!(plt2, tsteps, means', lw = 8, ribbon = vars', label = \"prediction\")\n",
    "\n",
    "plt = plot(plt1, plt2, layout = (2, 1))\n",
    "savefig(plt, \"NN_sde_combined.png\"); nothing # sde"
   ]
  },
  {
   "cell_type": "markdown",
   "id": "6884b892",
   "metadata": {},
   "source": [
    "The final result: Our NN's can approximate both the means and the variances of the data. "
   ]
  },
  {
   "cell_type": "code",
   "execution_count": 38,
   "id": "010b4e44",
   "metadata": {},
   "outputs": [
    {
     "data": {
      "image/svg+xml": [
       "<?xml version=\"1.0\" encoding=\"utf-8\"?>\n",
       "<svg xmlns=\"http://www.w3.org/2000/svg\" xmlns:xlink=\"http://www.w3.org/1999/xlink\" width=\"600\" height=\"400\" viewBox=\"0 0 2400 1600\">\n",
       "<defs>\n",
       "  <clipPath id=\"clip430\">\n",
       "    <rect x=\"0\" y=\"0\" width=\"2400\" height=\"1600\"/>\n",
       "  </clipPath>\n",
       "</defs>\n",
       "<path clip-path=\"url(#clip430)\" d=\"\n",
       "M0 1600 L2400 1600 L2400 0 L0 0  Z\n",
       "  \" fill=\"#ffffff\" fill-rule=\"evenodd\" fill-opacity=\"1\"/>\n",
       "<defs>\n",
       "  <clipPath id=\"clip431\">\n",
       "    <rect x=\"480\" y=\"0\" width=\"1681\" height=\"1600\"/>\n",
       "  </clipPath>\n",
       "</defs>\n",
       "<path clip-path=\"url(#clip430)\" d=\"\n",
       "M148.057 654.814 L2352.76 654.814 L2352.76 123.472 L148.057 123.472  Z\n",
       "  \" fill=\"#ffffff\" fill-rule=\"evenodd\" fill-opacity=\"1\"/>\n",
       "<defs>\n",
       "  <clipPath id=\"clip432\">\n",
       "    <rect x=\"148\" y=\"123\" width=\"2206\" height=\"532\"/>\n",
       "  </clipPath>\n",
       "</defs>\n",
       "<polyline clip-path=\"url(#clip432)\" style=\"stroke:#000000; stroke-linecap:round; stroke-linejoin:round; stroke-width:2; stroke-opacity:0.1; fill:none\" points=\"\n",
       "  210.454,654.814 210.454,123.472 \n",
       "  \"/>\n",
       "<polyline clip-path=\"url(#clip432)\" style=\"stroke:#000000; stroke-linecap:round; stroke-linejoin:round; stroke-width:2; stroke-opacity:0.1; fill:none\" points=\"\n",
       "  730.43,654.814 730.43,123.472 \n",
       "  \"/>\n",
       "<polyline clip-path=\"url(#clip432)\" style=\"stroke:#000000; stroke-linecap:round; stroke-linejoin:round; stroke-width:2; stroke-opacity:0.1; fill:none\" points=\"\n",
       "  1250.41,654.814 1250.41,123.472 \n",
       "  \"/>\n",
       "<polyline clip-path=\"url(#clip432)\" style=\"stroke:#000000; stroke-linecap:round; stroke-linejoin:round; stroke-width:2; stroke-opacity:0.1; fill:none\" points=\"\n",
       "  1770.38,654.814 1770.38,123.472 \n",
       "  \"/>\n",
       "<polyline clip-path=\"url(#clip432)\" style=\"stroke:#000000; stroke-linecap:round; stroke-linejoin:round; stroke-width:2; stroke-opacity:0.1; fill:none\" points=\"\n",
       "  2290.36,654.814 2290.36,123.472 \n",
       "  \"/>\n",
       "<polyline clip-path=\"url(#clip430)\" style=\"stroke:#000000; stroke-linecap:round; stroke-linejoin:round; stroke-width:4; stroke-opacity:1; fill:none\" points=\"\n",
       "  148.057,654.814 2352.76,654.814 \n",
       "  \"/>\n",
       "<polyline clip-path=\"url(#clip430)\" style=\"stroke:#000000; stroke-linecap:round; stroke-linejoin:round; stroke-width:4; stroke-opacity:1; fill:none\" points=\"\n",
       "  210.454,654.814 210.454,635.916 \n",
       "  \"/>\n",
       "<polyline clip-path=\"url(#clip430)\" style=\"stroke:#000000; stroke-linecap:round; stroke-linejoin:round; stroke-width:4; stroke-opacity:1; fill:none\" points=\"\n",
       "  730.43,654.814 730.43,635.916 \n",
       "  \"/>\n",
       "<polyline clip-path=\"url(#clip430)\" style=\"stroke:#000000; stroke-linecap:round; stroke-linejoin:round; stroke-width:4; stroke-opacity:1; fill:none\" points=\"\n",
       "  1250.41,654.814 1250.41,635.916 \n",
       "  \"/>\n",
       "<polyline clip-path=\"url(#clip430)\" style=\"stroke:#000000; stroke-linecap:round; stroke-linejoin:round; stroke-width:4; stroke-opacity:1; fill:none\" points=\"\n",
       "  1770.38,654.814 1770.38,635.916 \n",
       "  \"/>\n",
       "<polyline clip-path=\"url(#clip430)\" style=\"stroke:#000000; stroke-linecap:round; stroke-linejoin:round; stroke-width:4; stroke-opacity:1; fill:none\" points=\"\n",
       "  2290.36,654.814 2290.36,635.916 \n",
       "  \"/>\n",
       "<path clip-path=\"url(#clip430)\" d=\"M172.757 685.733 Q169.146 685.733 167.317 689.297 Q165.512 692.839 165.512 699.969 Q165.512 707.075 167.317 710.64 Q169.146 714.181 172.757 714.181 Q176.391 714.181 178.197 710.64 Q180.026 707.075 180.026 699.969 Q180.026 692.839 178.197 689.297 Q176.391 685.733 172.757 685.733 M172.757 682.029 Q178.567 682.029 181.623 686.635 Q184.702 691.219 184.702 699.969 Q184.702 708.695 181.623 713.302 Q178.567 717.885 172.757 717.885 Q166.947 717.885 163.868 713.302 Q160.813 708.695 160.813 699.969 Q160.813 691.219 163.868 686.635 Q166.947 682.029 172.757 682.029 Z\" fill=\"#000000\" fill-rule=\"evenodd\" fill-opacity=\"1\" /><path clip-path=\"url(#clip430)\" d=\"M192.919 711.334 L197.803 711.334 L197.803 717.214 L192.919 717.214 L192.919 711.334 Z\" fill=\"#000000\" fill-rule=\"evenodd\" fill-opacity=\"1\" /><path clip-path=\"url(#clip430)\" d=\"M217.988 685.733 Q214.377 685.733 212.549 689.297 Q210.743 692.839 210.743 699.969 Q210.743 707.075 212.549 710.64 Q214.377 714.181 217.988 714.181 Q221.623 714.181 223.428 710.64 Q225.257 707.075 225.257 699.969 Q225.257 692.839 223.428 689.297 Q221.623 685.733 217.988 685.733 M217.988 682.029 Q223.799 682.029 226.854 686.635 Q229.933 691.219 229.933 699.969 Q229.933 708.695 226.854 713.302 Q223.799 717.885 217.988 717.885 Q212.178 717.885 209.1 713.302 Q206.044 708.695 206.044 699.969 Q206.044 691.219 209.1 686.635 Q212.178 682.029 217.988 682.029 Z\" fill=\"#000000\" fill-rule=\"evenodd\" fill-opacity=\"1\" /><path clip-path=\"url(#clip430)\" d=\"M248.15 685.733 Q244.539 685.733 242.711 689.297 Q240.905 692.839 240.905 699.969 Q240.905 707.075 242.711 710.64 Q244.539 714.181 248.15 714.181 Q251.785 714.181 253.59 710.64 Q255.419 707.075 255.419 699.969 Q255.419 692.839 253.59 689.297 Q251.785 685.733 248.15 685.733 M248.15 682.029 Q253.96 682.029 257.016 686.635 Q260.095 691.219 260.095 699.969 Q260.095 708.695 257.016 713.302 Q253.96 717.885 248.15 717.885 Q242.34 717.885 239.261 713.302 Q236.206 708.695 236.206 699.969 Q236.206 691.219 239.261 686.635 Q242.34 682.029 248.15 682.029 Z\" fill=\"#000000\" fill-rule=\"evenodd\" fill-opacity=\"1\" /><path clip-path=\"url(#clip430)\" d=\"M693.231 685.733 Q689.62 685.733 687.791 689.297 Q685.986 692.839 685.986 699.969 Q685.986 707.075 687.791 710.64 Q689.62 714.181 693.231 714.181 Q696.865 714.181 698.671 710.64 Q700.5 707.075 700.5 699.969 Q700.5 692.839 698.671 689.297 Q696.865 685.733 693.231 685.733 M693.231 682.029 Q699.041 682.029 702.097 686.635 Q705.176 691.219 705.176 699.969 Q705.176 708.695 702.097 713.302 Q699.041 717.885 693.231 717.885 Q687.421 717.885 684.342 713.302 Q681.287 708.695 681.287 699.969 Q681.287 691.219 684.342 686.635 Q687.421 682.029 693.231 682.029 Z\" fill=\"#000000\" fill-rule=\"evenodd\" fill-opacity=\"1\" /><path clip-path=\"url(#clip430)\" d=\"M713.393 711.334 L718.277 711.334 L718.277 717.214 L713.393 717.214 L713.393 711.334 Z\" fill=\"#000000\" fill-rule=\"evenodd\" fill-opacity=\"1\" /><path clip-path=\"url(#clip430)\" d=\"M732.49 713.279 L748.81 713.279 L748.81 717.214 L726.865 717.214 L726.865 713.279 Q729.527 710.524 734.111 705.894 Q738.717 701.242 739.898 699.899 Q742.143 697.376 743.023 695.64 Q743.925 693.881 743.925 692.191 Q743.925 689.436 741.981 687.7 Q740.06 685.964 736.958 685.964 Q734.759 685.964 732.305 686.728 Q729.874 687.492 727.097 689.043 L727.097 684.321 Q729.921 683.186 732.374 682.608 Q734.828 682.029 736.865 682.029 Q742.236 682.029 745.43 684.714 Q748.624 687.399 748.624 691.89 Q748.624 694.02 747.814 695.941 Q747.027 697.839 744.921 700.432 Q744.342 701.103 741.24 704.32 Q738.138 707.515 732.49 713.279 Z\" fill=\"#000000\" fill-rule=\"evenodd\" fill-opacity=\"1\" /><path clip-path=\"url(#clip430)\" d=\"M758.671 682.654 L777.027 682.654 L777.027 686.589 L762.953 686.589 L762.953 695.061 Q763.971 694.714 764.99 694.552 Q766.009 694.367 767.027 694.367 Q772.814 694.367 776.194 697.538 Q779.573 700.709 779.573 706.126 Q779.573 711.705 776.101 714.806 Q772.629 717.885 766.309 717.885 Q764.134 717.885 761.865 717.515 Q759.62 717.144 757.212 716.404 L757.212 711.705 Q759.296 712.839 761.518 713.394 Q763.74 713.95 766.217 713.95 Q770.221 713.95 772.559 711.844 Q774.897 709.737 774.897 706.126 Q774.897 702.515 772.559 700.408 Q770.221 698.302 766.217 698.302 Q764.342 698.302 762.467 698.719 Q760.615 699.135 758.671 700.015 L758.671 682.654 Z\" fill=\"#000000\" fill-rule=\"evenodd\" fill-opacity=\"1\" /><path clip-path=\"url(#clip430)\" d=\"M1212.71 685.733 Q1209.1 685.733 1207.27 689.297 Q1205.46 692.839 1205.46 699.969 Q1205.46 707.075 1207.27 710.64 Q1209.1 714.181 1212.71 714.181 Q1216.34 714.181 1218.15 710.64 Q1219.98 707.075 1219.98 699.969 Q1219.98 692.839 1218.15 689.297 Q1216.34 685.733 1212.71 685.733 M1212.71 682.029 Q1218.52 682.029 1221.58 686.635 Q1224.65 691.219 1224.65 699.969 Q1224.65 708.695 1221.58 713.302 Q1218.52 717.885 1212.71 717.885 Q1206.9 717.885 1203.82 713.302 Q1200.77 708.695 1200.77 699.969 Q1200.77 691.219 1203.82 686.635 Q1206.9 682.029 1212.71 682.029 Z\" fill=\"#000000\" fill-rule=\"evenodd\" fill-opacity=\"1\" /><path clip-path=\"url(#clip430)\" d=\"M1232.87 711.334 L1237.76 711.334 L1237.76 717.214 L1232.87 717.214 L1232.87 711.334 Z\" fill=\"#000000\" fill-rule=\"evenodd\" fill-opacity=\"1\" /><path clip-path=\"url(#clip430)\" d=\"M1247.99 682.654 L1266.34 682.654 L1266.34 686.589 L1252.27 686.589 L1252.27 695.061 Q1253.29 694.714 1254.31 694.552 Q1255.33 694.367 1256.34 694.367 Q1262.13 694.367 1265.51 697.538 Q1268.89 700.709 1268.89 706.126 Q1268.89 711.705 1265.42 714.806 Q1261.95 717.885 1255.63 717.885 Q1253.45 717.885 1251.18 717.515 Q1248.94 717.144 1246.53 716.404 L1246.53 711.705 Q1248.61 712.839 1250.83 713.394 Q1253.06 713.95 1255.53 713.95 Q1259.54 713.95 1261.88 711.844 Q1264.21 709.737 1264.21 706.126 Q1264.21 702.515 1261.88 700.408 Q1259.54 698.302 1255.53 698.302 Q1253.66 698.302 1251.78 698.719 Q1249.93 699.135 1247.99 700.015 L1247.99 682.654 Z\" fill=\"#000000\" fill-rule=\"evenodd\" fill-opacity=\"1\" /><path clip-path=\"url(#clip430)\" d=\"M1288.1 685.733 Q1284.49 685.733 1282.66 689.297 Q1280.86 692.839 1280.86 699.969 Q1280.86 707.075 1282.66 710.64 Q1284.49 714.181 1288.1 714.181 Q1291.74 714.181 1293.54 710.64 Q1295.37 707.075 1295.37 699.969 Q1295.37 692.839 1293.54 689.297 Q1291.74 685.733 1288.1 685.733 M1288.1 682.029 Q1293.91 682.029 1296.97 686.635 Q1300.05 691.219 1300.05 699.969 Q1300.05 708.695 1296.97 713.302 Q1293.91 717.885 1288.1 717.885 Q1282.29 717.885 1279.21 713.302 Q1276.16 708.695 1276.16 699.969 Q1276.16 691.219 1279.21 686.635 Q1282.29 682.029 1288.1 682.029 Z\" fill=\"#000000\" fill-rule=\"evenodd\" fill-opacity=\"1\" /><path clip-path=\"url(#clip430)\" d=\"M1733.18 685.733 Q1729.57 685.733 1727.74 689.297 Q1725.94 692.839 1725.94 699.969 Q1725.94 707.075 1727.74 710.64 Q1729.57 714.181 1733.18 714.181 Q1736.82 714.181 1738.62 710.64 Q1740.45 707.075 1740.45 699.969 Q1740.45 692.839 1738.62 689.297 Q1736.82 685.733 1733.18 685.733 M1733.18 682.029 Q1738.99 682.029 1742.05 686.635 Q1745.13 691.219 1745.13 699.969 Q1745.13 708.695 1742.05 713.302 Q1738.99 717.885 1733.18 717.885 Q1727.37 717.885 1724.29 713.302 Q1721.24 708.695 1721.24 699.969 Q1721.24 691.219 1724.29 686.635 Q1727.37 682.029 1733.18 682.029 Z\" fill=\"#000000\" fill-rule=\"evenodd\" fill-opacity=\"1\" /><path clip-path=\"url(#clip430)\" d=\"M1753.35 711.334 L1758.23 711.334 L1758.23 717.214 L1753.35 717.214 L1753.35 711.334 Z\" fill=\"#000000\" fill-rule=\"evenodd\" fill-opacity=\"1\" /><path clip-path=\"url(#clip430)\" d=\"M1767.23 682.654 L1789.46 682.654 L1789.46 684.645 L1776.91 717.214 L1772.03 717.214 L1783.83 686.589 L1767.23 686.589 L1767.23 682.654 Z\" fill=\"#000000\" fill-rule=\"evenodd\" fill-opacity=\"1\" /><path clip-path=\"url(#clip430)\" d=\"M1798.62 682.654 L1816.98 682.654 L1816.98 686.589 L1802.91 686.589 L1802.91 695.061 Q1803.92 694.714 1804.94 694.552 Q1805.96 694.367 1806.98 694.367 Q1812.77 694.367 1816.15 697.538 Q1819.53 700.709 1819.53 706.126 Q1819.53 711.705 1816.05 714.806 Q1812.58 717.885 1806.26 717.885 Q1804.09 717.885 1801.82 717.515 Q1799.57 717.144 1797.16 716.404 L1797.16 711.705 Q1799.25 712.839 1801.47 713.394 Q1803.69 713.95 1806.17 713.95 Q1810.17 713.95 1812.51 711.844 Q1814.85 709.737 1814.85 706.126 Q1814.85 702.515 1812.51 700.408 Q1810.17 698.302 1806.17 698.302 Q1804.29 698.302 1802.42 698.719 Q1800.57 699.135 1798.62 700.015 L1798.62 682.654 Z\" fill=\"#000000\" fill-rule=\"evenodd\" fill-opacity=\"1\" /><path clip-path=\"url(#clip430)\" d=\"M2242.43 713.279 L2250.07 713.279 L2250.07 686.913 L2241.76 688.58 L2241.76 684.321 L2250.02 682.654 L2254.7 682.654 L2254.7 713.279 L2262.34 713.279 L2262.34 717.214 L2242.43 717.214 L2242.43 713.279 Z\" fill=\"#000000\" fill-rule=\"evenodd\" fill-opacity=\"1\" /><path clip-path=\"url(#clip430)\" d=\"M2271.78 711.334 L2276.67 711.334 L2276.67 717.214 L2271.78 717.214 L2271.78 711.334 Z\" fill=\"#000000\" fill-rule=\"evenodd\" fill-opacity=\"1\" /><path clip-path=\"url(#clip430)\" d=\"M2296.85 685.733 Q2293.24 685.733 2291.41 689.297 Q2289.61 692.839 2289.61 699.969 Q2289.61 707.075 2291.41 710.64 Q2293.24 714.181 2296.85 714.181 Q2300.49 714.181 2302.29 710.64 Q2304.12 707.075 2304.12 699.969 Q2304.12 692.839 2302.29 689.297 Q2300.49 685.733 2296.85 685.733 M2296.85 682.029 Q2302.66 682.029 2305.72 686.635 Q2308.8 691.219 2308.8 699.969 Q2308.8 708.695 2305.72 713.302 Q2302.66 717.885 2296.85 717.885 Q2291.04 717.885 2287.96 713.302 Q2284.91 708.695 2284.91 699.969 Q2284.91 691.219 2287.96 686.635 Q2291.04 682.029 2296.85 682.029 Z\" fill=\"#000000\" fill-rule=\"evenodd\" fill-opacity=\"1\" /><path clip-path=\"url(#clip430)\" d=\"M2327.01 685.733 Q2323.4 685.733 2321.57 689.297 Q2319.77 692.839 2319.77 699.969 Q2319.77 707.075 2321.57 710.64 Q2323.4 714.181 2327.01 714.181 Q2330.65 714.181 2332.45 710.64 Q2334.28 707.075 2334.28 699.969 Q2334.28 692.839 2332.45 689.297 Q2330.65 685.733 2327.01 685.733 M2327.01 682.029 Q2332.82 682.029 2335.88 686.635 Q2338.96 691.219 2338.96 699.969 Q2338.96 708.695 2335.88 713.302 Q2332.82 717.885 2327.01 717.885 Q2321.2 717.885 2318.12 713.302 Q2315.07 708.695 2315.07 699.969 Q2315.07 691.219 2318.12 686.635 Q2321.2 682.029 2327.01 682.029 Z\" fill=\"#000000\" fill-rule=\"evenodd\" fill-opacity=\"1\" /><polyline clip-path=\"url(#clip432)\" style=\"stroke:#000000; stroke-linecap:round; stroke-linejoin:round; stroke-width:2; stroke-opacity:0.1; fill:none\" points=\"\n",
       "  148.057,591.619 2352.76,591.619 \n",
       "  \"/>\n",
       "<polyline clip-path=\"url(#clip432)\" style=\"stroke:#000000; stroke-linecap:round; stroke-linejoin:round; stroke-width:2; stroke-opacity:0.1; fill:none\" points=\"\n",
       "  148.057,515.822 2352.76,515.822 \n",
       "  \"/>\n",
       "<polyline clip-path=\"url(#clip432)\" style=\"stroke:#000000; stroke-linecap:round; stroke-linejoin:round; stroke-width:2; stroke-opacity:0.1; fill:none\" points=\"\n",
       "  148.057,440.025 2352.76,440.025 \n",
       "  \"/>\n",
       "<polyline clip-path=\"url(#clip432)\" style=\"stroke:#000000; stroke-linecap:round; stroke-linejoin:round; stroke-width:2; stroke-opacity:0.1; fill:none\" points=\"\n",
       "  148.057,364.229 2352.76,364.229 \n",
       "  \"/>\n",
       "<polyline clip-path=\"url(#clip432)\" style=\"stroke:#000000; stroke-linecap:round; stroke-linejoin:round; stroke-width:2; stroke-opacity:0.1; fill:none\" points=\"\n",
       "  148.057,288.432 2352.76,288.432 \n",
       "  \"/>\n",
       "<polyline clip-path=\"url(#clip432)\" style=\"stroke:#000000; stroke-linecap:round; stroke-linejoin:round; stroke-width:2; stroke-opacity:0.1; fill:none\" points=\"\n",
       "  148.057,212.636 2352.76,212.636 \n",
       "  \"/>\n",
       "<polyline clip-path=\"url(#clip432)\" style=\"stroke:#000000; stroke-linecap:round; stroke-linejoin:round; stroke-width:2; stroke-opacity:0.1; fill:none\" points=\"\n",
       "  148.057,136.839 2352.76,136.839 \n",
       "  \"/>\n",
       "<polyline clip-path=\"url(#clip430)\" style=\"stroke:#000000; stroke-linecap:round; stroke-linejoin:round; stroke-width:4; stroke-opacity:1; fill:none\" points=\"\n",
       "  148.057,654.814 148.057,123.472 \n",
       "  \"/>\n",
       "<polyline clip-path=\"url(#clip430)\" style=\"stroke:#000000; stroke-linecap:round; stroke-linejoin:round; stroke-width:4; stroke-opacity:1; fill:none\" points=\"\n",
       "  148.057,591.619 166.954,591.619 \n",
       "  \"/>\n",
       "<polyline clip-path=\"url(#clip430)\" style=\"stroke:#000000; stroke-linecap:round; stroke-linejoin:round; stroke-width:4; stroke-opacity:1; fill:none\" points=\"\n",
       "  148.057,515.822 166.954,515.822 \n",
       "  \"/>\n",
       "<polyline clip-path=\"url(#clip430)\" style=\"stroke:#000000; stroke-linecap:round; stroke-linejoin:round; stroke-width:4; stroke-opacity:1; fill:none\" points=\"\n",
       "  148.057,440.025 166.954,440.025 \n",
       "  \"/>\n",
       "<polyline clip-path=\"url(#clip430)\" style=\"stroke:#000000; stroke-linecap:round; stroke-linejoin:round; stroke-width:4; stroke-opacity:1; fill:none\" points=\"\n",
       "  148.057,364.229 166.954,364.229 \n",
       "  \"/>\n",
       "<polyline clip-path=\"url(#clip430)\" style=\"stroke:#000000; stroke-linecap:round; stroke-linejoin:round; stroke-width:4; stroke-opacity:1; fill:none\" points=\"\n",
       "  148.057,288.432 166.954,288.432 \n",
       "  \"/>\n",
       "<polyline clip-path=\"url(#clip430)\" style=\"stroke:#000000; stroke-linecap:round; stroke-linejoin:round; stroke-width:4; stroke-opacity:1; fill:none\" points=\"\n",
       "  148.057,212.636 166.954,212.636 \n",
       "  \"/>\n",
       "<polyline clip-path=\"url(#clip430)\" style=\"stroke:#000000; stroke-linecap:round; stroke-linejoin:round; stroke-width:4; stroke-opacity:1; fill:none\" points=\"\n",
       "  148.057,136.839 166.954,136.839 \n",
       "  \"/>\n",
       "<path clip-path=\"url(#clip430)\" d=\"M50.9921 592.07 L80.6679 592.07 L80.6679 596.005 L50.9921 596.005 L50.9921 592.07 Z\" fill=\"#000000\" fill-rule=\"evenodd\" fill-opacity=\"1\" /><path clip-path=\"url(#clip430)\" d=\"M104.927 590.264 Q108.283 590.982 110.158 593.251 Q112.057 595.519 112.057 598.852 Q112.057 603.968 108.538 606.769 Q105.02 609.57 98.5382 609.57 Q96.3623 609.57 94.0475 609.13 Q91.7558 608.713 89.3021 607.857 L89.3021 603.343 Q91.2465 604.477 93.5613 605.056 Q95.8761 605.635 98.3993 605.635 Q102.797 605.635 105.089 603.899 Q107.404 602.163 107.404 598.852 Q107.404 595.797 105.251 594.084 Q103.121 592.348 99.3021 592.348 L95.2743 592.348 L95.2743 588.505 L99.4872 588.505 Q102.936 588.505 104.765 587.139 Q106.594 585.751 106.594 583.158 Q106.594 580.496 104.696 579.084 Q102.821 577.649 99.3021 577.649 Q97.3808 577.649 95.1817 578.065 Q92.9826 578.482 90.3438 579.362 L90.3438 575.195 Q93.0058 574.454 95.3206 574.084 Q97.6585 573.714 99.7187 573.714 Q105.043 573.714 108.145 576.144 Q111.246 578.552 111.246 582.672 Q111.246 585.542 109.603 587.533 Q107.959 589.501 104.927 590.264 Z\" fill=\"#000000\" fill-rule=\"evenodd\" fill-opacity=\"1\" /><path clip-path=\"url(#clip430)\" d=\"M51.9412 516.273 L81.617 516.273 L81.617 520.209 L51.9412 520.209 L51.9412 516.273 Z\" fill=\"#000000\" fill-rule=\"evenodd\" fill-opacity=\"1\" /><path clip-path=\"url(#clip430)\" d=\"M95.7373 529.167 L112.057 529.167 L112.057 533.102 L90.1123 533.102 L90.1123 529.167 Q92.7743 526.412 97.3576 521.783 Q101.964 517.13 103.145 515.787 Q105.39 513.264 106.27 511.528 Q107.172 509.769 107.172 508.079 Q107.172 505.324 105.228 503.588 Q103.307 501.852 100.205 501.852 Q98.0058 501.852 95.5521 502.616 Q93.1215 503.38 90.3438 504.931 L90.3438 500.209 Q93.1678 499.074 95.6215 498.496 Q98.0752 497.917 100.112 497.917 Q105.483 497.917 108.677 500.602 Q111.871 503.287 111.871 507.778 Q111.871 509.908 111.061 511.829 Q110.274 513.727 108.168 516.32 Q107.589 516.991 104.487 520.209 Q101.385 523.403 95.7373 529.167 Z\" fill=\"#000000\" fill-rule=\"evenodd\" fill-opacity=\"1\" /><path clip-path=\"url(#clip430)\" d=\"M51.5708 440.477 L81.2466 440.477 L81.2466 444.412 L51.5708 444.412 L51.5708 440.477 Z\" fill=\"#000000\" fill-rule=\"evenodd\" fill-opacity=\"1\" /><path clip-path=\"url(#clip430)\" d=\"M92.1493 453.37 L99.7882 453.37 L99.7882 427.005 L91.478 428.671 L91.478 424.412 L99.7419 422.745 L104.418 422.745 L104.418 453.37 L112.057 453.37 L112.057 457.305 L92.1493 457.305 L92.1493 453.37 Z\" fill=\"#000000\" fill-rule=\"evenodd\" fill-opacity=\"1\" /><path clip-path=\"url(#clip430)\" d=\"M100.112 350.028 Q96.5011 350.028 94.6724 353.592 Q92.8669 357.134 92.8669 364.264 Q92.8669 371.37 94.6724 374.935 Q96.5011 378.476 100.112 378.476 Q103.746 378.476 105.552 374.935 Q107.381 371.37 107.381 364.264 Q107.381 357.134 105.552 353.592 Q103.746 350.028 100.112 350.028 M100.112 346.324 Q105.922 346.324 108.978 350.93 Q112.057 355.514 112.057 364.264 Q112.057 372.99 108.978 377.597 Q105.922 382.18 100.112 382.18 Q94.3021 382.18 91.2234 377.597 Q88.1679 372.99 88.1679 364.264 Q88.1679 355.514 91.2234 350.93 Q94.3021 346.324 100.112 346.324 Z\" fill=\"#000000\" fill-rule=\"evenodd\" fill-opacity=\"1\" /><path clip-path=\"url(#clip430)\" d=\"M92.1493 301.777 L99.7882 301.777 L99.7882 275.411 L91.478 277.078 L91.478 272.819 L99.7419 271.152 L104.418 271.152 L104.418 301.777 L112.057 301.777 L112.057 305.712 L92.1493 305.712 L92.1493 301.777 Z\" fill=\"#000000\" fill-rule=\"evenodd\" fill-opacity=\"1\" /><path clip-path=\"url(#clip430)\" d=\"M95.7373 225.98 L112.057 225.98 L112.057 229.916 L90.1123 229.916 L90.1123 225.98 Q92.7743 223.226 97.3576 218.596 Q101.964 213.943 103.145 212.601 Q105.39 210.078 106.27 208.342 Q107.172 206.582 107.172 204.893 Q107.172 202.138 105.228 200.402 Q103.307 198.666 100.205 198.666 Q98.0058 198.666 95.5521 199.43 Q93.1215 200.194 90.3438 201.744 L90.3438 197.022 Q93.1678 195.888 95.6215 195.309 Q98.0752 194.731 100.112 194.731 Q105.483 194.731 108.677 197.416 Q111.871 200.101 111.871 204.592 Q111.871 206.721 111.061 208.643 Q110.274 210.541 108.168 213.133 Q107.589 213.805 104.487 217.022 Q101.385 220.217 95.7373 225.98 Z\" fill=\"#000000\" fill-rule=\"evenodd\" fill-opacity=\"1\" /><path clip-path=\"url(#clip430)\" d=\"M104.927 135.485 Q108.283 136.202 110.158 138.471 Q112.057 140.739 112.057 144.073 Q112.057 149.188 108.538 151.989 Q105.02 154.79 98.5382 154.79 Q96.3623 154.79 94.0475 154.351 Q91.7558 153.934 89.3021 153.077 L89.3021 148.564 Q91.2465 149.698 93.5613 150.276 Q95.8761 150.855 98.3993 150.855 Q102.797 150.855 105.089 149.119 Q107.404 147.383 107.404 144.073 Q107.404 141.017 105.251 139.304 Q103.121 137.568 99.3021 137.568 L95.2743 137.568 L95.2743 133.726 L99.4872 133.726 Q102.936 133.726 104.765 132.36 Q106.594 130.971 106.594 128.378 Q106.594 125.716 104.696 124.304 Q102.821 122.869 99.3021 122.869 Q97.3808 122.869 95.1817 123.286 Q92.9826 123.703 90.3438 124.582 L90.3438 120.416 Q93.0058 119.675 95.3206 119.304 Q97.6585 118.934 99.7187 118.934 Q105.043 118.934 108.145 121.365 Q111.246 123.772 111.246 127.892 Q111.246 130.763 109.603 132.753 Q107.959 134.721 104.927 135.485 Z\" fill=\"#000000\" fill-rule=\"evenodd\" fill-opacity=\"1\" /><path clip-path=\"url(#clip430)\" d=\"M684.09 12.096 L695.108 12.096 L721.925 62.6918 L721.925 12.096 L729.865 12.096 L729.865 72.576 L718.847 72.576 L692.03 21.9802 L692.03 72.576 L684.09 72.576 L684.09 12.096 Z\" fill=\"#000000\" fill-rule=\"evenodd\" fill-opacity=\"1\" /><path clip-path=\"url(#clip430)\" d=\"M784.633 48.0275 L784.633 51.6733 L750.363 51.6733 Q750.849 59.3701 754.981 63.421 Q759.153 67.4314 766.566 67.4314 Q770.86 67.4314 774.871 66.3781 Q778.922 65.3249 782.891 63.2184 L782.891 70.267 Q778.881 71.9684 774.668 72.8596 Q770.455 73.7508 766.121 73.7508 Q755.264 73.7508 748.904 67.4314 Q742.585 61.1119 742.585 50.3365 Q742.585 39.1965 748.58 32.6746 Q754.616 26.1121 764.824 26.1121 Q773.979 26.1121 779.286 32.0264 Q784.633 37.9003 784.633 48.0275 M777.18 45.84 Q777.099 39.7232 773.736 36.0774 Q770.415 32.4315 764.905 32.4315 Q758.667 32.4315 754.9 35.9558 Q751.173 39.4801 750.606 45.8805 L777.18 45.84 Z\" fill=\"#000000\" fill-rule=\"evenodd\" fill-opacity=\"1\" /><path clip-path=\"url(#clip430)\" d=\"M796.097 54.671 L796.097 27.2059 L803.551 27.2059 L803.551 54.3874 Q803.551 60.8284 806.063 64.0691 Q808.574 67.2693 813.597 67.2693 Q819.633 67.2693 823.117 63.421 Q826.641 59.5726 826.641 52.9291 L826.641 27.2059 L834.095 27.2059 L834.095 72.576 L826.641 72.576 L826.641 65.6084 Q823.927 69.7404 820.322 71.7658 Q816.757 73.7508 812.017 73.7508 Q804.199 73.7508 800.148 68.8897 Q796.097 64.0286 796.097 54.671 M814.853 26.1121 L814.853 26.1121 Z\" fill=\"#000000\" fill-rule=\"evenodd\" fill-opacity=\"1\" /><path clip-path=\"url(#clip430)\" d=\"M875.738 34.1734 Q874.482 33.4443 872.984 33.1202 Q871.525 32.7556 869.743 32.7556 Q863.423 32.7556 860.021 36.8875 Q856.658 40.9789 856.658 48.6757 L856.658 72.576 L849.164 72.576 L849.164 27.2059 L856.658 27.2059 L856.658 34.2544 Q859.008 30.1225 862.775 28.1376 Q866.543 26.1121 871.93 26.1121 Q872.7 26.1121 873.632 26.2337 Q874.563 26.3147 875.698 26.5172 L875.738 34.1734 Z\" fill=\"#000000\" fill-rule=\"evenodd\" fill-opacity=\"1\" /><path clip-path=\"url(#clip430)\" d=\"M904.175 49.7694 Q895.142 49.7694 891.658 51.8354 Q888.174 53.9013 888.174 58.8839 Q888.174 62.8538 890.767 65.2034 Q893.4 67.5124 897.897 67.5124 Q904.094 67.5124 907.821 63.1374 Q911.589 58.7219 911.589 51.4303 L911.589 49.7694 L904.175 49.7694 M919.042 46.6907 L919.042 72.576 L911.589 72.576 L911.589 65.6895 Q909.037 69.8214 905.229 71.8063 Q901.421 73.7508 895.912 73.7508 Q888.944 73.7508 884.812 69.8619 Q880.721 65.9325 880.721 59.3701 Q880.721 51.7138 885.825 47.825 Q890.97 43.9361 901.137 43.9361 L911.589 43.9361 L911.589 43.2069 Q911.589 38.0623 908.186 35.2672 Q904.824 32.4315 898.707 32.4315 Q894.818 32.4315 891.132 33.3632 Q887.445 34.295 884.042 36.1584 L884.042 29.2718 Q888.134 27.692 891.982 26.9223 Q895.831 26.1121 899.476 26.1121 Q909.32 26.1121 914.181 31.2163 Q919.042 36.3204 919.042 46.6907 Z\" fill=\"#000000\" fill-rule=\"evenodd\" fill-opacity=\"1\" /><path clip-path=\"url(#clip430)\" d=\"M934.395 9.54393 L941.849 9.54393 L941.849 72.576 L934.395 72.576 L934.395 9.54393 Z\" fill=\"#000000\" fill-rule=\"evenodd\" fill-opacity=\"1\" /><path clip-path=\"url(#clip430)\" d=\"M1020.4 14.0809 L1020.4 22.0612 Q1015.74 19.8332 1011.61 18.7395 Q1007.47 17.6457 1003.63 17.6457 Q996.941 17.6457 993.295 20.2383 Q989.69 22.8309 989.69 27.611 Q989.69 31.6214 992.08 33.6873 Q994.511 35.7128 1001.24 36.9686 L1006.18 37.9813 Q1015.33 39.7232 1019.67 44.1387 Q1024.04 48.5136 1024.04 55.8863 Q1024.04 64.6767 1018.13 69.2137 Q1012.25 73.7508 1000.87 73.7508 Q996.577 73.7508 991.716 72.7785 Q986.895 71.8063 981.71 69.9024 L981.71 61.4765 Q986.692 64.2716 991.472 65.6895 Q996.253 67.1073 1000.87 67.1073 Q1007.88 67.1073 1011.69 64.3527 Q1015.49 61.598 1015.49 56.4939 Q1015.49 52.0379 1012.74 49.5264 Q1010.03 47.0148 1003.79 45.759 L998.805 44.7868 Q989.65 42.9639 985.558 39.075 Q981.467 35.1862 981.467 28.2591 Q981.467 20.2383 987.097 15.6203 Q992.769 11.0023 1002.69 11.0023 Q1006.95 11.0023 1011.36 11.7719 Q1015.78 12.5416 1020.4 14.0809 Z\" fill=\"#000000\" fill-rule=\"evenodd\" fill-opacity=\"1\" /><path clip-path=\"url(#clip430)\" d=\"M1044.98 18.8205 L1044.98 65.8515 L1054.87 65.8515 Q1067.39 65.8515 1073.18 60.1802 Q1079.01 54.509 1079.01 42.2752 Q1079.01 30.1225 1073.18 24.4918 Q1067.39 18.8205 1054.87 18.8205 L1044.98 18.8205 M1036.8 12.096 L1053.61 12.096 Q1071.19 12.096 1079.42 19.4281 Q1087.64 26.7198 1087.64 42.2752 Q1087.64 57.9117 1079.38 65.2439 Q1071.11 72.576 1053.61 72.576 L1036.8 72.576 L1036.8 12.096 Z\" fill=\"#000000\" fill-rule=\"evenodd\" fill-opacity=\"1\" /><path clip-path=\"url(#clip430)\" d=\"M1100.68 12.096 L1138.93 12.096 L1138.93 18.9825 L1108.87 18.9825 L1108.87 36.8875 L1137.67 36.8875 L1137.67 43.7741 L1108.87 43.7741 L1108.87 65.6895 L1139.65 65.6895 L1139.65 72.576 L1100.68 72.576 L1100.68 12.096 Z\" fill=\"#000000\" fill-rule=\"evenodd\" fill-opacity=\"1\" /><path clip-path=\"url(#clip430)\" d=\"M1154.68 62.2867 L1163.23 62.2867 L1163.23 72.576 L1154.68 72.576 L1154.68 62.2867 M1154.68 29.6769 L1163.23 29.6769 L1163.23 39.9662 L1154.68 39.9662 L1154.68 29.6769 Z\" fill=\"#000000\" fill-rule=\"evenodd\" fill-opacity=\"1\" /><path clip-path=\"url(#clip430)\" d=\"M1215.61 43.6931 L1215.61 65.8515 L1228.73 65.8515 Q1235.34 65.8515 1238.5 63.1374 Q1241.7 60.3828 1241.7 54.752 Q1241.7 49.0808 1238.5 46.4072 Q1235.34 43.6931 1228.73 43.6931 L1215.61 43.6931 M1215.61 18.8205 L1215.61 37.0496 L1227.72 37.0496 Q1233.72 37.0496 1236.63 34.8216 Q1239.59 32.5531 1239.59 27.935 Q1239.59 23.3575 1236.63 21.089 Q1233.72 18.8205 1227.72 18.8205 L1215.61 18.8205 M1207.43 12.096 L1228.33 12.096 Q1237.69 12.096 1242.75 15.9849 Q1247.81 19.8737 1247.81 27.0438 Q1247.81 32.5936 1245.22 35.8748 Q1242.63 39.156 1237.61 39.9662 Q1243.64 41.2625 1246.96 45.3944 Q1250.33 49.4858 1250.33 55.6432 Q1250.33 63.745 1244.82 68.1605 Q1239.31 72.576 1229.14 72.576 L1207.43 72.576 L1207.43 12.096 Z\" fill=\"#000000\" fill-rule=\"evenodd\" fill-opacity=\"1\" /><path clip-path=\"url(#clip430)\" d=\"M1302.82 48.0275 L1302.82 51.6733 L1268.55 51.6733 Q1269.04 59.3701 1273.17 63.421 Q1277.34 67.4314 1284.76 67.4314 Q1289.05 67.4314 1293.06 66.3781 Q1297.11 65.3249 1301.08 63.2184 L1301.08 70.267 Q1297.07 71.9684 1292.86 72.8596 Q1288.65 73.7508 1284.31 73.7508 Q1273.46 73.7508 1267.1 67.4314 Q1260.78 61.1119 1260.78 50.3365 Q1260.78 39.1965 1266.77 32.6746 Q1272.81 26.1121 1283.02 26.1121 Q1292.17 26.1121 1297.48 32.0264 Q1302.82 37.9003 1302.82 48.0275 M1295.37 45.84 Q1295.29 39.7232 1291.93 36.0774 Q1288.61 32.4315 1283.1 32.4315 Q1276.86 32.4315 1273.09 35.9558 Q1269.36 39.4801 1268.8 45.8805 L1295.37 45.84 Z\" fill=\"#000000\" fill-rule=\"evenodd\" fill-opacity=\"1\" /><path clip-path=\"url(#clip430)\" d=\"M1338.03 9.54393 L1338.03 15.7418 L1330.9 15.7418 Q1326.89 15.7418 1325.31 17.3622 Q1323.77 18.9825 1323.77 23.1955 L1323.77 27.2059 L1336.04 27.2059 L1336.04 32.9987 L1323.77 32.9987 L1323.77 72.576 L1316.27 72.576 L1316.27 32.9987 L1309.14 32.9987 L1309.14 27.2059 L1316.27 27.2059 L1316.27 24.0462 Q1316.27 16.471 1319.8 13.0277 Q1323.32 9.54393 1330.98 9.54393 L1338.03 9.54393 Z\" fill=\"#000000\" fill-rule=\"evenodd\" fill-opacity=\"1\" /><path clip-path=\"url(#clip430)\" d=\"M1361.85 32.4315 Q1355.85 32.4315 1352.37 37.1306 Q1348.88 41.7891 1348.88 49.9314 Q1348.88 58.0738 1352.33 62.7728 Q1355.81 67.4314 1361.85 67.4314 Q1367.8 67.4314 1371.29 62.7323 Q1374.77 58.0333 1374.77 49.9314 Q1374.77 41.8701 1371.29 37.1711 Q1367.8 32.4315 1361.85 32.4315 M1361.85 26.1121 Q1371.57 26.1121 1377.12 32.4315 Q1382.67 38.7509 1382.67 49.9314 Q1382.67 61.0714 1377.12 67.4314 Q1371.57 73.7508 1361.85 73.7508 Q1352.08 73.7508 1346.53 67.4314 Q1341.02 61.0714 1341.02 49.9314 Q1341.02 38.7509 1346.53 32.4315 Q1352.08 26.1121 1361.85 26.1121 Z\" fill=\"#000000\" fill-rule=\"evenodd\" fill-opacity=\"1\" /><path clip-path=\"url(#clip430)\" d=\"M1421.31 34.1734 Q1420.06 33.4443 1418.56 33.1202 Q1417.1 32.7556 1415.32 32.7556 Q1409 32.7556 1405.6 36.8875 Q1402.23 40.9789 1402.23 48.6757 L1402.23 72.576 L1394.74 72.576 L1394.74 27.2059 L1402.23 27.2059 L1402.23 34.2544 Q1404.58 30.1225 1408.35 28.1376 Q1412.12 26.1121 1417.51 26.1121 Q1418.28 26.1121 1419.21 26.2337 Q1420.14 26.3147 1421.27 26.5172 L1421.31 34.1734 Z\" fill=\"#000000\" fill-rule=\"evenodd\" fill-opacity=\"1\" /><path clip-path=\"url(#clip430)\" d=\"M1466.12 48.0275 L1466.12 51.6733 L1431.85 51.6733 Q1432.33 59.3701 1436.46 63.421 Q1440.64 67.4314 1448.05 67.4314 Q1452.34 67.4314 1456.35 66.3781 Q1460.41 65.3249 1464.38 63.2184 L1464.38 70.267 Q1460.36 71.9684 1456.15 72.8596 Q1451.94 73.7508 1447.6 73.7508 Q1436.75 73.7508 1430.39 67.4314 Q1424.07 61.1119 1424.07 50.3365 Q1424.07 39.1965 1430.06 32.6746 Q1436.1 26.1121 1446.31 26.1121 Q1455.46 26.1121 1460.77 32.0264 Q1466.12 37.9003 1466.12 48.0275 M1458.66 45.84 Q1458.58 39.7232 1455.22 36.0774 Q1451.9 32.4315 1446.39 32.4315 Q1440.15 32.4315 1436.38 35.9558 Q1432.66 39.4801 1432.09 45.8805 L1458.66 45.84 Z\" fill=\"#000000\" fill-rule=\"evenodd\" fill-opacity=\"1\" /><path clip-path=\"url(#clip430)\" d=\"M1496.66 12.096 L1547.82 12.096 L1547.82 18.9825 L1526.35 18.9825 L1526.35 72.576 L1518.13 72.576 L1518.13 18.9825 L1496.66 18.9825 L1496.66 12.096 Z\" fill=\"#000000\" fill-rule=\"evenodd\" fill-opacity=\"1\" /><path clip-path=\"url(#clip430)\" d=\"M1569.5 34.1734 Q1568.24 33.4443 1566.74 33.1202 Q1565.28 32.7556 1563.5 32.7556 Q1557.18 32.7556 1553.78 36.8875 Q1550.42 40.9789 1550.42 48.6757 L1550.42 72.576 L1542.92 72.576 L1542.92 27.2059 L1550.42 27.2059 L1550.42 34.2544 Q1552.77 30.1225 1556.53 28.1376 Q1560.3 26.1121 1565.69 26.1121 Q1566.46 26.1121 1567.39 26.2337 Q1568.32 26.3147 1569.46 26.5172 L1569.5 34.1734 Z\" fill=\"#000000\" fill-rule=\"evenodd\" fill-opacity=\"1\" /><path clip-path=\"url(#clip430)\" d=\"M1597.93 49.7694 Q1588.9 49.7694 1585.42 51.8354 Q1581.93 53.9013 1581.93 58.8839 Q1581.93 62.8538 1584.52 65.2034 Q1587.16 67.5124 1591.65 67.5124 Q1597.85 67.5124 1601.58 63.1374 Q1605.35 58.7219 1605.35 51.4303 L1605.35 49.7694 L1597.93 49.7694 M1612.8 46.6907 L1612.8 72.576 L1605.35 72.576 L1605.35 65.6895 Q1602.79 69.8214 1598.99 71.8063 Q1595.18 73.7508 1589.67 73.7508 Q1582.7 73.7508 1578.57 69.8619 Q1574.48 65.9325 1574.48 59.3701 Q1574.48 51.7138 1579.58 47.825 Q1584.73 43.9361 1594.9 43.9361 L1605.35 43.9361 L1605.35 43.2069 Q1605.35 38.0623 1601.94 35.2672 Q1598.58 32.4315 1592.46 32.4315 Q1588.58 32.4315 1584.89 33.3632 Q1581.2 34.295 1577.8 36.1584 L1577.8 29.2718 Q1581.89 27.692 1585.74 26.9223 Q1589.59 26.1121 1593.23 26.1121 Q1603.08 26.1121 1607.94 31.2163 Q1612.8 36.3204 1612.8 46.6907 Z\" fill=\"#000000\" fill-rule=\"evenodd\" fill-opacity=\"1\" /><path clip-path=\"url(#clip430)\" d=\"M1628.15 27.2059 L1635.61 27.2059 L1635.61 72.576 L1628.15 72.576 L1628.15 27.2059 M1628.15 9.54393 L1635.61 9.54393 L1635.61 18.9825 L1628.15 18.9825 L1628.15 9.54393 Z\" fill=\"#000000\" fill-rule=\"evenodd\" fill-opacity=\"1\" /><path clip-path=\"url(#clip430)\" d=\"M1688.92 45.1919 L1688.92 72.576 L1681.46 72.576 L1681.46 45.4349 Q1681.46 38.994 1678.95 35.7938 Q1676.44 32.5936 1671.42 32.5936 Q1665.38 32.5936 1661.9 36.4419 Q1658.41 40.2903 1658.41 46.9338 L1658.41 72.576 L1650.92 72.576 L1650.92 27.2059 L1658.41 27.2059 L1658.41 34.2544 Q1661.09 30.163 1664.69 28.1376 Q1668.34 26.1121 1673.08 26.1121 Q1680.9 26.1121 1684.91 30.9732 Q1688.92 35.7938 1688.92 45.1919 Z\" fill=\"#000000\" fill-rule=\"evenodd\" fill-opacity=\"1\" /><path clip-path=\"url(#clip430)\" d=\"M1703.78 27.2059 L1711.24 27.2059 L1711.24 72.576 L1703.78 72.576 L1703.78 27.2059 M1703.78 9.54393 L1711.24 9.54393 L1711.24 18.9825 L1703.78 18.9825 L1703.78 9.54393 Z\" fill=\"#000000\" fill-rule=\"evenodd\" fill-opacity=\"1\" /><path clip-path=\"url(#clip430)\" d=\"M1764.55 45.1919 L1764.55 72.576 L1757.09 72.576 L1757.09 45.4349 Q1757.09 38.994 1754.58 35.7938 Q1752.07 32.5936 1747.05 32.5936 Q1741.01 32.5936 1737.53 36.4419 Q1734.04 40.2903 1734.04 46.9338 L1734.04 72.576 L1726.55 72.576 L1726.55 27.2059 L1734.04 27.2059 L1734.04 34.2544 Q1736.72 30.163 1740.32 28.1376 Q1743.97 26.1121 1748.71 26.1121 Q1756.53 26.1121 1760.54 30.9732 Q1764.55 35.7938 1764.55 45.1919 Z\" fill=\"#000000\" fill-rule=\"evenodd\" fill-opacity=\"1\" /><path clip-path=\"url(#clip430)\" d=\"M1809.27 49.3643 Q1809.27 41.2625 1805.91 36.8065 Q1802.59 32.3505 1796.55 32.3505 Q1790.55 32.3505 1787.19 36.8065 Q1783.87 41.2625 1783.87 49.3643 Q1783.87 57.4256 1787.19 61.8816 Q1790.55 66.3376 1796.55 66.3376 Q1802.59 66.3376 1805.91 61.8816 Q1809.27 57.4256 1809.27 49.3643 M1816.72 66.9452 Q1816.72 78.5308 1811.58 84.1616 Q1806.43 89.8329 1795.82 89.8329 Q1791.89 89.8329 1788.41 89.2252 Q1784.92 88.6581 1781.64 87.4428 L1781.64 80.1917 Q1784.92 81.9741 1788.12 82.8248 Q1791.32 83.6755 1794.65 83.6755 Q1801.98 83.6755 1805.62 79.8271 Q1809.27 76.0193 1809.27 68.282 L1809.27 64.5957 Q1806.96 68.6061 1803.35 70.5911 Q1799.75 72.576 1794.73 72.576 Q1786.38 72.576 1781.28 66.2161 Q1776.17 59.8562 1776.17 49.3643 Q1776.17 38.832 1781.28 32.472 Q1786.38 26.1121 1794.73 26.1121 Q1799.75 26.1121 1803.35 28.0971 Q1806.96 30.082 1809.27 34.0924 L1809.27 27.2059 L1816.72 27.2059 L1816.72 66.9452 Z\" fill=\"#000000\" fill-rule=\"evenodd\" fill-opacity=\"1\" /><path clip-path=\"url(#clip432)\" d=\"\n",
       "M210.454 212.636 L282.175 234.835 L353.895 243.688 L425.616 250.626 L497.337 256.008 L569.058 254.643 L640.779 255.5 L712.5 252.888 L784.221 260.969 L855.941 259.794 \n",
       "  L927.662 266.562 L999.383 271.191 L1071.1 266.624 L1142.82 268.983 L1214.55 269.605 L1286.27 273.013 L1357.99 288.799 L1429.71 285.183 L1501.43 287.571 L1573.15 296.055 \n",
       "  L1644.87 294.889 L1716.59 296.815 L1788.31 296.129 L1860.03 294.318 L1931.75 291.853 L2003.48 292.902 L2075.2 299.094 L2146.92 299.725 L2218.64 303.912 L2290.36 308.976 \n",
       "  L2290.36 142.43 L2218.64 139.09 L2146.92 138.51 L2075.2 144.537 L2003.48 154.973 L1931.75 152.079 L1860.03 149.348 L1788.31 146.887 L1716.59 149.546 L1644.87 154.742 \n",
       "  L1573.15 157.422 L1501.43 159.946 L1429.71 153.751 L1357.99 159.903 L1286.27 167.944 L1214.55 166.072 L1142.82 174.674 L1071.1 174.858 L999.383 179.317 L927.662 176.775 \n",
       "  L855.941 176.788 L784.221 175.844 L712.5 166.235 L640.779 165.736 L569.058 172.53 L497.337 175.773 L425.616 177.865 L353.895 182.962 L282.175 195.313 L210.454 212.636 \n",
       "   Z\n",
       "  \" fill=\"#009af9\" fill-rule=\"evenodd\" fill-opacity=\"0.2\"/>\n",
       "<polyline clip-path=\"url(#clip432)\" style=\"stroke:#009af9; stroke-linecap:round; stroke-linejoin:round; stroke-width:12; stroke-opacity:1; fill:none\" points=\"\n",
       "  210.454,212.636 282.175,215.169 353.895,215.282 425.616,214.088 497.337,211.36 569.058,217.936 640.779,219.301 712.5,219.736 784.221,220.32 855.941,220.173 \n",
       "  927.662,221.763 999.383,221.032 1071.1,225.143 1142.82,223.086 1214.55,223.079 1286.27,224.33 1357.99,223.954 1429.71,224.051 1501.43,223.981 1573.15,224.212 \n",
       "  1644.87,223.29 1716.59,226.251 1788.31,224.323 1860.03,222.214 1931.75,222.634 2003.48,221.162 2075.2,221.551 2146.92,223.135 2218.64,222.788 2290.36,223.176 \n",
       "  \n",
       "  \"/>\n",
       "<path clip-path=\"url(#clip432)\" d=\"\n",
       "M210.454 364.229 L282.175 409.308 L353.895 430.545 L425.616 443.265 L497.337 459.919 L569.058 477.7 L640.779 488.398 L712.5 498.769 L784.221 510.048 L855.941 520.628 \n",
       "  L927.662 530.849 L999.383 534.969 L1071.1 549.829 L1142.82 545.159 L1214.55 560.357 L1286.27 571.249 L1357.99 556.877 L1429.71 583.453 L1501.43 585.6 L1573.15 587.138 \n",
       "  L1644.87 601.009 L1716.59 601.046 L1788.31 610.337 L1860.03 628.163 L1931.75 639.718 L2003.48 637.925 L2075.2 639.776 L2146.92 609.954 L2218.64 631.316 L2290.36 626.967 \n",
       "  L2290.36 311.404 L2218.64 312.197 L2146.92 318.023 L2075.2 299.419 L2003.48 299.844 L1931.75 298.882 L1860.03 315.262 L1788.31 311.708 L1716.59 318.34 L1644.87 299.778 \n",
       "  L1573.15 282.788 L1501.43 308.931 L1429.71 311.188 L1357.99 297.168 L1286.27 283.861 L1214.55 271.118 L1142.82 263.822 L1071.1 298.767 L999.383 286.087 L927.662 291.98 \n",
       "  L855.941 297.929 L784.221 306.029 L712.5 315.809 L640.779 315.549 L569.058 320.784 L497.337 315.646 L425.616 314.363 L353.895 320.232 L282.175 326.161 L210.454 364.229 \n",
       "   Z\n",
       "  \" fill=\"#e26f46\" fill-rule=\"evenodd\" fill-opacity=\"0.2\"/>\n",
       "<polyline clip-path=\"url(#clip432)\" style=\"stroke:#e26f46; stroke-linecap:round; stroke-linejoin:round; stroke-width:12; stroke-opacity:1; fill:none\" points=\"\n",
       "  210.454,364.229 282.175,368.618 353.895,377.202 425.616,382.772 497.337,387.478 569.058,388.938 640.779,395.447 712.5,397.045 784.221,403.171 855.941,397.435 \n",
       "  927.662,408.129 999.383,409.743 1071.1,413.037 1142.82,420.764 1214.55,421.592 1286.27,426.866 1357.99,430.762 1429.71,439.466 1501.43,435.851 1573.15,434.981 \n",
       "  1644.87,443.569 1716.59,444.225 1788.31,447.544 1860.03,450.677 1931.75,456.509 2003.48,464.9 2075.2,470.59 2146.92,476.704 2218.64,483.84 2290.36,498.367 \n",
       "  \n",
       "  \"/>\n",
       "<circle clip-path=\"url(#clip432)\" cx=\"210.454\" cy=\"212.636\" r=\"14.4\" fill=\"#3da44d\" fill-rule=\"evenodd\" fill-opacity=\"1\" stroke=\"#000000\" stroke-opacity=\"1\" stroke-width=\"3.2\"/>\n",
       "<circle clip-path=\"url(#clip432)\" cx=\"282.175\" cy=\"219.007\" r=\"14.4\" fill=\"#3da44d\" fill-rule=\"evenodd\" fill-opacity=\"1\" stroke=\"#000000\" stroke-opacity=\"1\" stroke-width=\"3.2\"/>\n",
       "<circle clip-path=\"url(#clip432)\" cx=\"353.895\" cy=\"225.255\" r=\"14.4\" fill=\"#3da44d\" fill-rule=\"evenodd\" fill-opacity=\"1\" stroke=\"#000000\" stroke-opacity=\"1\" stroke-width=\"3.2\"/>\n",
       "<circle clip-path=\"url(#clip432)\" cx=\"425.616\" cy=\"240.211\" r=\"14.4\" fill=\"#3da44d\" fill-rule=\"evenodd\" fill-opacity=\"1\" stroke=\"#000000\" stroke-opacity=\"1\" stroke-width=\"3.2\"/>\n",
       "<circle clip-path=\"url(#clip432)\" cx=\"497.337\" cy=\"264.176\" r=\"14.4\" fill=\"#3da44d\" fill-rule=\"evenodd\" fill-opacity=\"1\" stroke=\"#000000\" stroke-opacity=\"1\" stroke-width=\"3.2\"/>\n",
       "<circle clip-path=\"url(#clip432)\" cx=\"569.058\" cy=\"293.501\" r=\"14.4\" fill=\"#3da44d\" fill-rule=\"evenodd\" fill-opacity=\"1\" stroke=\"#000000\" stroke-opacity=\"1\" stroke-width=\"3.2\"/>\n",
       "<circle clip-path=\"url(#clip432)\" cx=\"640.779\" cy=\"324.578\" r=\"14.4\" fill=\"#3da44d\" fill-rule=\"evenodd\" fill-opacity=\"1\" stroke=\"#000000\" stroke-opacity=\"1\" stroke-width=\"3.2\"/>\n",
       "<circle clip-path=\"url(#clip432)\" cx=\"712.5\" cy=\"354.882\" r=\"14.4\" fill=\"#3da44d\" fill-rule=\"evenodd\" fill-opacity=\"1\" stroke=\"#000000\" stroke-opacity=\"1\" stroke-width=\"3.2\"/>\n",
       "<circle clip-path=\"url(#clip432)\" cx=\"784.221\" cy=\"382.628\" r=\"14.4\" fill=\"#3da44d\" fill-rule=\"evenodd\" fill-opacity=\"1\" stroke=\"#000000\" stroke-opacity=\"1\" stroke-width=\"3.2\"/>\n",
       "<circle clip-path=\"url(#clip432)\" cx=\"855.941\" cy=\"406.722\" r=\"14.4\" fill=\"#3da44d\" fill-rule=\"evenodd\" fill-opacity=\"1\" stroke=\"#000000\" stroke-opacity=\"1\" stroke-width=\"3.2\"/>\n",
       "<circle clip-path=\"url(#clip432)\" cx=\"927.662\" cy=\"426.45\" r=\"14.4\" fill=\"#3da44d\" fill-rule=\"evenodd\" fill-opacity=\"1\" stroke=\"#000000\" stroke-opacity=\"1\" stroke-width=\"3.2\"/>\n",
       "<circle clip-path=\"url(#clip432)\" cx=\"999.383\" cy=\"441.706\" r=\"14.4\" fill=\"#3da44d\" fill-rule=\"evenodd\" fill-opacity=\"1\" stroke=\"#000000\" stroke-opacity=\"1\" stroke-width=\"3.2\"/>\n",
       "<circle clip-path=\"url(#clip432)\" cx=\"1071.1\" cy=\"452.458\" r=\"14.4\" fill=\"#3da44d\" fill-rule=\"evenodd\" fill-opacity=\"1\" stroke=\"#000000\" stroke-opacity=\"1\" stroke-width=\"3.2\"/>\n",
       "<circle clip-path=\"url(#clip432)\" cx=\"1142.82\" cy=\"459.048\" r=\"14.4\" fill=\"#3da44d\" fill-rule=\"evenodd\" fill-opacity=\"1\" stroke=\"#000000\" stroke-opacity=\"1\" stroke-width=\"3.2\"/>\n",
       "<circle clip-path=\"url(#clip432)\" cx=\"1214.55\" cy=\"462.041\" r=\"14.4\" fill=\"#3da44d\" fill-rule=\"evenodd\" fill-opacity=\"1\" stroke=\"#000000\" stroke-opacity=\"1\" stroke-width=\"3.2\"/>\n",
       "<circle clip-path=\"url(#clip432)\" cx=\"1286.27\" cy=\"461.938\" r=\"14.4\" fill=\"#3da44d\" fill-rule=\"evenodd\" fill-opacity=\"1\" stroke=\"#000000\" stroke-opacity=\"1\" stroke-width=\"3.2\"/>\n",
       "<circle clip-path=\"url(#clip432)\" cx=\"1357.99\" cy=\"459.09\" r=\"14.4\" fill=\"#3da44d\" fill-rule=\"evenodd\" fill-opacity=\"1\" stroke=\"#000000\" stroke-opacity=\"1\" stroke-width=\"3.2\"/>\n",
       "<circle clip-path=\"url(#clip432)\" cx=\"1429.71\" cy=\"453.979\" r=\"14.4\" fill=\"#3da44d\" fill-rule=\"evenodd\" fill-opacity=\"1\" stroke=\"#000000\" stroke-opacity=\"1\" stroke-width=\"3.2\"/>\n",
       "<circle clip-path=\"url(#clip432)\" cx=\"1501.43\" cy=\"447.029\" r=\"14.4\" fill=\"#3da44d\" fill-rule=\"evenodd\" fill-opacity=\"1\" stroke=\"#000000\" stroke-opacity=\"1\" stroke-width=\"3.2\"/>\n",
       "<circle clip-path=\"url(#clip432)\" cx=\"1573.15\" cy=\"438.741\" r=\"14.4\" fill=\"#3da44d\" fill-rule=\"evenodd\" fill-opacity=\"1\" stroke=\"#000000\" stroke-opacity=\"1\" stroke-width=\"3.2\"/>\n",
       "<circle clip-path=\"url(#clip432)\" cx=\"1644.87\" cy=\"429.469\" r=\"14.4\" fill=\"#3da44d\" fill-rule=\"evenodd\" fill-opacity=\"1\" stroke=\"#000000\" stroke-opacity=\"1\" stroke-width=\"3.2\"/>\n",
       "<circle clip-path=\"url(#clip432)\" cx=\"1716.59\" cy=\"419.538\" r=\"14.4\" fill=\"#3da44d\" fill-rule=\"evenodd\" fill-opacity=\"1\" stroke=\"#000000\" stroke-opacity=\"1\" stroke-width=\"3.2\"/>\n",
       "<circle clip-path=\"url(#clip432)\" cx=\"1788.31\" cy=\"409.398\" r=\"14.4\" fill=\"#3da44d\" fill-rule=\"evenodd\" fill-opacity=\"1\" stroke=\"#000000\" stroke-opacity=\"1\" stroke-width=\"3.2\"/>\n",
       "<circle clip-path=\"url(#clip432)\" cx=\"1860.03\" cy=\"399.36\" r=\"14.4\" fill=\"#3da44d\" fill-rule=\"evenodd\" fill-opacity=\"1\" stroke=\"#000000\" stroke-opacity=\"1\" stroke-width=\"3.2\"/>\n",
       "<circle clip-path=\"url(#clip432)\" cx=\"1931.75\" cy=\"389.682\" r=\"14.4\" fill=\"#3da44d\" fill-rule=\"evenodd\" fill-opacity=\"1\" stroke=\"#000000\" stroke-opacity=\"1\" stroke-width=\"3.2\"/>\n",
       "<circle clip-path=\"url(#clip432)\" cx=\"2003.48\" cy=\"380.535\" r=\"14.4\" fill=\"#3da44d\" fill-rule=\"evenodd\" fill-opacity=\"1\" stroke=\"#000000\" stroke-opacity=\"1\" stroke-width=\"3.2\"/>\n",
       "<circle clip-path=\"url(#clip432)\" cx=\"2075.2\" cy=\"372.092\" r=\"14.4\" fill=\"#3da44d\" fill-rule=\"evenodd\" fill-opacity=\"1\" stroke=\"#000000\" stroke-opacity=\"1\" stroke-width=\"3.2\"/>\n",
       "<circle clip-path=\"url(#clip432)\" cx=\"2146.92\" cy=\"364.453\" r=\"14.4\" fill=\"#3da44d\" fill-rule=\"evenodd\" fill-opacity=\"1\" stroke=\"#000000\" stroke-opacity=\"1\" stroke-width=\"3.2\"/>\n",
       "<circle clip-path=\"url(#clip432)\" cx=\"2218.64\" cy=\"357.717\" r=\"14.4\" fill=\"#3da44d\" fill-rule=\"evenodd\" fill-opacity=\"1\" stroke=\"#000000\" stroke-opacity=\"1\" stroke-width=\"3.2\"/>\n",
       "<circle clip-path=\"url(#clip432)\" cx=\"2290.36\" cy=\"351.958\" r=\"14.4\" fill=\"#3da44d\" fill-rule=\"evenodd\" fill-opacity=\"1\" stroke=\"#000000\" stroke-opacity=\"1\" stroke-width=\"3.2\"/>\n",
       "<circle clip-path=\"url(#clip432)\" cx=\"210.454\" cy=\"364.229\" r=\"14.4\" fill=\"#c271d2\" fill-rule=\"evenodd\" fill-opacity=\"1\" stroke=\"#000000\" stroke-opacity=\"1\" stroke-width=\"3.2\"/>\n",
       "<circle clip-path=\"url(#clip432)\" cx=\"282.175\" cy=\"324.183\" r=\"14.4\" fill=\"#c271d2\" fill-rule=\"evenodd\" fill-opacity=\"1\" stroke=\"#000000\" stroke-opacity=\"1\" stroke-width=\"3.2\"/>\n",
       "<circle clip-path=\"url(#clip432)\" cx=\"353.895\" cy=\"287.641\" r=\"14.4\" fill=\"#c271d2\" fill-rule=\"evenodd\" fill-opacity=\"1\" stroke=\"#000000\" stroke-opacity=\"1\" stroke-width=\"3.2\"/>\n",
       "<circle clip-path=\"url(#clip432)\" cx=\"425.616\" cy=\"259.61\" r=\"14.4\" fill=\"#c271d2\" fill-rule=\"evenodd\" fill-opacity=\"1\" stroke=\"#000000\" stroke-opacity=\"1\" stroke-width=\"3.2\"/>\n",
       "<circle clip-path=\"url(#clip432)\" cx=\"497.337\" cy=\"242.434\" r=\"14.4\" fill=\"#c271d2\" fill-rule=\"evenodd\" fill-opacity=\"1\" stroke=\"#000000\" stroke-opacity=\"1\" stroke-width=\"3.2\"/>\n",
       "<circle clip-path=\"url(#clip432)\" cx=\"569.058\" cy=\"234.003\" r=\"14.4\" fill=\"#c271d2\" fill-rule=\"evenodd\" fill-opacity=\"1\" stroke=\"#000000\" stroke-opacity=\"1\" stroke-width=\"3.2\"/>\n",
       "<circle clip-path=\"url(#clip432)\" cx=\"640.779\" cy=\"231.453\" r=\"14.4\" fill=\"#c271d2\" fill-rule=\"evenodd\" fill-opacity=\"1\" stroke=\"#000000\" stroke-opacity=\"1\" stroke-width=\"3.2\"/>\n",
       "<circle clip-path=\"url(#clip432)\" cx=\"712.5\" cy=\"232.85\" r=\"14.4\" fill=\"#c271d2\" fill-rule=\"evenodd\" fill-opacity=\"1\" stroke=\"#000000\" stroke-opacity=\"1\" stroke-width=\"3.2\"/>\n",
       "<circle clip-path=\"url(#clip432)\" cx=\"784.221\" cy=\"237.828\" r=\"14.4\" fill=\"#c271d2\" fill-rule=\"evenodd\" fill-opacity=\"1\" stroke=\"#000000\" stroke-opacity=\"1\" stroke-width=\"3.2\"/>\n",
       "<circle clip-path=\"url(#clip432)\" cx=\"855.941\" cy=\"246.448\" r=\"14.4\" fill=\"#c271d2\" fill-rule=\"evenodd\" fill-opacity=\"1\" stroke=\"#000000\" stroke-opacity=\"1\" stroke-width=\"3.2\"/>\n",
       "<circle clip-path=\"url(#clip432)\" cx=\"927.662\" cy=\"258.518\" r=\"14.4\" fill=\"#c271d2\" fill-rule=\"evenodd\" fill-opacity=\"1\" stroke=\"#000000\" stroke-opacity=\"1\" stroke-width=\"3.2\"/>\n",
       "<circle clip-path=\"url(#clip432)\" cx=\"999.383\" cy=\"273.59\" r=\"14.4\" fill=\"#c271d2\" fill-rule=\"evenodd\" fill-opacity=\"1\" stroke=\"#000000\" stroke-opacity=\"1\" stroke-width=\"3.2\"/>\n",
       "<circle clip-path=\"url(#clip432)\" cx=\"1071.1\" cy=\"290.777\" r=\"14.4\" fill=\"#c271d2\" fill-rule=\"evenodd\" fill-opacity=\"1\" stroke=\"#000000\" stroke-opacity=\"1\" stroke-width=\"3.2\"/>\n",
       "<circle clip-path=\"url(#clip432)\" cx=\"1142.82\" cy=\"309.017\" r=\"14.4\" fill=\"#c271d2\" fill-rule=\"evenodd\" fill-opacity=\"1\" stroke=\"#000000\" stroke-opacity=\"1\" stroke-width=\"3.2\"/>\n",
       "<circle clip-path=\"url(#clip432)\" cx=\"1214.55\" cy=\"327.294\" r=\"14.4\" fill=\"#c271d2\" fill-rule=\"evenodd\" fill-opacity=\"1\" stroke=\"#000000\" stroke-opacity=\"1\" stroke-width=\"3.2\"/>\n",
       "<circle clip-path=\"url(#clip432)\" cx=\"1286.27\" cy=\"345.013\" r=\"14.4\" fill=\"#c271d2\" fill-rule=\"evenodd\" fill-opacity=\"1\" stroke=\"#000000\" stroke-opacity=\"1\" stroke-width=\"3.2\"/>\n",
       "<circle clip-path=\"url(#clip432)\" cx=\"1357.99\" cy=\"361.547\" r=\"14.4\" fill=\"#c271d2\" fill-rule=\"evenodd\" fill-opacity=\"1\" stroke=\"#000000\" stroke-opacity=\"1\" stroke-width=\"3.2\"/>\n",
       "<circle clip-path=\"url(#clip432)\" cx=\"1429.71\" cy=\"376.469\" r=\"14.4\" fill=\"#c271d2\" fill-rule=\"evenodd\" fill-opacity=\"1\" stroke=\"#000000\" stroke-opacity=\"1\" stroke-width=\"3.2\"/>\n",
       "<circle clip-path=\"url(#clip432)\" cx=\"1501.43\" cy=\"389.357\" r=\"14.4\" fill=\"#c271d2\" fill-rule=\"evenodd\" fill-opacity=\"1\" stroke=\"#000000\" stroke-opacity=\"1\" stroke-width=\"3.2\"/>\n",
       "<circle clip-path=\"url(#clip432)\" cx=\"1573.15\" cy=\"400.125\" r=\"14.4\" fill=\"#c271d2\" fill-rule=\"evenodd\" fill-opacity=\"1\" stroke=\"#000000\" stroke-opacity=\"1\" stroke-width=\"3.2\"/>\n",
       "<circle clip-path=\"url(#clip432)\" cx=\"1644.87\" cy=\"408.679\" r=\"14.4\" fill=\"#c271d2\" fill-rule=\"evenodd\" fill-opacity=\"1\" stroke=\"#000000\" stroke-opacity=\"1\" stroke-width=\"3.2\"/>\n",
       "<circle clip-path=\"url(#clip432)\" cx=\"1716.59\" cy=\"415.135\" r=\"14.4\" fill=\"#c271d2\" fill-rule=\"evenodd\" fill-opacity=\"1\" stroke=\"#000000\" stroke-opacity=\"1\" stroke-width=\"3.2\"/>\n",
       "<circle clip-path=\"url(#clip432)\" cx=\"1788.31\" cy=\"419.6\" r=\"14.4\" fill=\"#c271d2\" fill-rule=\"evenodd\" fill-opacity=\"1\" stroke=\"#000000\" stroke-opacity=\"1\" stroke-width=\"3.2\"/>\n",
       "<circle clip-path=\"url(#clip432)\" cx=\"1860.03\" cy=\"422.334\" r=\"14.4\" fill=\"#c271d2\" fill-rule=\"evenodd\" fill-opacity=\"1\" stroke=\"#000000\" stroke-opacity=\"1\" stroke-width=\"3.2\"/>\n",
       "<circle clip-path=\"url(#clip432)\" cx=\"1931.75\" cy=\"423.463\" r=\"14.4\" fill=\"#c271d2\" fill-rule=\"evenodd\" fill-opacity=\"1\" stroke=\"#000000\" stroke-opacity=\"1\" stroke-width=\"3.2\"/>\n",
       "<circle clip-path=\"url(#clip432)\" cx=\"2003.48\" cy=\"423.222\" r=\"14.4\" fill=\"#c271d2\" fill-rule=\"evenodd\" fill-opacity=\"1\" stroke=\"#000000\" stroke-opacity=\"1\" stroke-width=\"3.2\"/>\n",
       "<circle clip-path=\"url(#clip432)\" cx=\"2075.2\" cy=\"421.825\" r=\"14.4\" fill=\"#c271d2\" fill-rule=\"evenodd\" fill-opacity=\"1\" stroke=\"#000000\" stroke-opacity=\"1\" stroke-width=\"3.2\"/>\n",
       "<circle clip-path=\"url(#clip432)\" cx=\"2146.92\" cy=\"419.431\" r=\"14.4\" fill=\"#c271d2\" fill-rule=\"evenodd\" fill-opacity=\"1\" stroke=\"#000000\" stroke-opacity=\"1\" stroke-width=\"3.2\"/>\n",
       "<circle clip-path=\"url(#clip432)\" cx=\"2218.64\" cy=\"416.267\" r=\"14.4\" fill=\"#c271d2\" fill-rule=\"evenodd\" fill-opacity=\"1\" stroke=\"#000000\" stroke-opacity=\"1\" stroke-width=\"3.2\"/>\n",
       "<circle clip-path=\"url(#clip432)\" cx=\"2290.36\" cy=\"412.465\" r=\"14.4\" fill=\"#c271d2\" fill-rule=\"evenodd\" fill-opacity=\"1\" stroke=\"#000000\" stroke-opacity=\"1\" stroke-width=\"3.2\"/>\n",
       "<path clip-path=\"url(#clip430)\" d=\"\n",
       "M148.057 1423.18 L2352.76 1423.18 L2352.76 891.838 L148.057 891.838  Z\n",
       "  \" fill=\"#ffffff\" fill-rule=\"evenodd\" fill-opacity=\"1\"/>\n",
       "<defs>\n",
       "  <clipPath id=\"clip433\">\n",
       "    <rect x=\"148\" y=\"891\" width=\"2206\" height=\"532\"/>\n",
       "  </clipPath>\n",
       "</defs>\n",
       "<polyline clip-path=\"url(#clip433)\" style=\"stroke:#000000; stroke-linecap:round; stroke-linejoin:round; stroke-width:2; stroke-opacity:0.1; fill:none\" points=\"\n",
       "  210.454,1423.18 210.454,891.838 \n",
       "  \"/>\n",
       "<polyline clip-path=\"url(#clip433)\" style=\"stroke:#000000; stroke-linecap:round; stroke-linejoin:round; stroke-width:2; stroke-opacity:0.1; fill:none\" points=\"\n",
       "  730.43,1423.18 730.43,891.838 \n",
       "  \"/>\n",
       "<polyline clip-path=\"url(#clip433)\" style=\"stroke:#000000; stroke-linecap:round; stroke-linejoin:round; stroke-width:2; stroke-opacity:0.1; fill:none\" points=\"\n",
       "  1250.41,1423.18 1250.41,891.838 \n",
       "  \"/>\n",
       "<polyline clip-path=\"url(#clip433)\" style=\"stroke:#000000; stroke-linecap:round; stroke-linejoin:round; stroke-width:2; stroke-opacity:0.1; fill:none\" points=\"\n",
       "  1770.38,1423.18 1770.38,891.838 \n",
       "  \"/>\n",
       "<polyline clip-path=\"url(#clip433)\" style=\"stroke:#000000; stroke-linecap:round; stroke-linejoin:round; stroke-width:2; stroke-opacity:0.1; fill:none\" points=\"\n",
       "  2290.36,1423.18 2290.36,891.838 \n",
       "  \"/>\n",
       "<polyline clip-path=\"url(#clip430)\" style=\"stroke:#000000; stroke-linecap:round; stroke-linejoin:round; stroke-width:4; stroke-opacity:1; fill:none\" points=\"\n",
       "  148.057,1423.18 2352.76,1423.18 \n",
       "  \"/>\n",
       "<polyline clip-path=\"url(#clip430)\" style=\"stroke:#000000; stroke-linecap:round; stroke-linejoin:round; stroke-width:4; stroke-opacity:1; fill:none\" points=\"\n",
       "  210.454,1423.18 210.454,1404.28 \n",
       "  \"/>\n",
       "<polyline clip-path=\"url(#clip430)\" style=\"stroke:#000000; stroke-linecap:round; stroke-linejoin:round; stroke-width:4; stroke-opacity:1; fill:none\" points=\"\n",
       "  730.43,1423.18 730.43,1404.28 \n",
       "  \"/>\n",
       "<polyline clip-path=\"url(#clip430)\" style=\"stroke:#000000; stroke-linecap:round; stroke-linejoin:round; stroke-width:4; stroke-opacity:1; fill:none\" points=\"\n",
       "  1250.41,1423.18 1250.41,1404.28 \n",
       "  \"/>\n",
       "<polyline clip-path=\"url(#clip430)\" style=\"stroke:#000000; stroke-linecap:round; stroke-linejoin:round; stroke-width:4; stroke-opacity:1; fill:none\" points=\"\n",
       "  1770.38,1423.18 1770.38,1404.28 \n",
       "  \"/>\n",
       "<polyline clip-path=\"url(#clip430)\" style=\"stroke:#000000; stroke-linecap:round; stroke-linejoin:round; stroke-width:4; stroke-opacity:1; fill:none\" points=\"\n",
       "  2290.36,1423.18 2290.36,1404.28 \n",
       "  \"/>\n",
       "<path clip-path=\"url(#clip430)\" d=\"M172.757 1454.1 Q169.146 1454.1 167.317 1457.66 Q165.512 1461.2 165.512 1468.33 Q165.512 1475.44 167.317 1479.01 Q169.146 1482.55 172.757 1482.55 Q176.391 1482.55 178.197 1479.01 Q180.026 1475.44 180.026 1468.33 Q180.026 1461.2 178.197 1457.66 Q176.391 1454.1 172.757 1454.1 M172.757 1450.39 Q178.567 1450.39 181.623 1455 Q184.702 1459.58 184.702 1468.33 Q184.702 1477.06 181.623 1481.67 Q178.567 1486.25 172.757 1486.25 Q166.947 1486.25 163.868 1481.67 Q160.813 1477.06 160.813 1468.33 Q160.813 1459.58 163.868 1455 Q166.947 1450.39 172.757 1450.39 Z\" fill=\"#000000\" fill-rule=\"evenodd\" fill-opacity=\"1\" /><path clip-path=\"url(#clip430)\" d=\"M192.919 1479.7 L197.803 1479.7 L197.803 1485.58 L192.919 1485.58 L192.919 1479.7 Z\" fill=\"#000000\" fill-rule=\"evenodd\" fill-opacity=\"1\" /><path clip-path=\"url(#clip430)\" d=\"M217.988 1454.1 Q214.377 1454.1 212.549 1457.66 Q210.743 1461.2 210.743 1468.33 Q210.743 1475.44 212.549 1479.01 Q214.377 1482.55 217.988 1482.55 Q221.623 1482.55 223.428 1479.01 Q225.257 1475.44 225.257 1468.33 Q225.257 1461.2 223.428 1457.66 Q221.623 1454.1 217.988 1454.1 M217.988 1450.39 Q223.799 1450.39 226.854 1455 Q229.933 1459.58 229.933 1468.33 Q229.933 1477.06 226.854 1481.67 Q223.799 1486.25 217.988 1486.25 Q212.178 1486.25 209.1 1481.67 Q206.044 1477.06 206.044 1468.33 Q206.044 1459.58 209.1 1455 Q212.178 1450.39 217.988 1450.39 Z\" fill=\"#000000\" fill-rule=\"evenodd\" fill-opacity=\"1\" /><path clip-path=\"url(#clip430)\" d=\"M248.15 1454.1 Q244.539 1454.1 242.711 1457.66 Q240.905 1461.2 240.905 1468.33 Q240.905 1475.44 242.711 1479.01 Q244.539 1482.55 248.15 1482.55 Q251.785 1482.55 253.59 1479.01 Q255.419 1475.44 255.419 1468.33 Q255.419 1461.2 253.59 1457.66 Q251.785 1454.1 248.15 1454.1 M248.15 1450.39 Q253.96 1450.39 257.016 1455 Q260.095 1459.58 260.095 1468.33 Q260.095 1477.06 257.016 1481.67 Q253.96 1486.25 248.15 1486.25 Q242.34 1486.25 239.261 1481.67 Q236.206 1477.06 236.206 1468.33 Q236.206 1459.58 239.261 1455 Q242.34 1450.39 248.15 1450.39 Z\" fill=\"#000000\" fill-rule=\"evenodd\" fill-opacity=\"1\" /><path clip-path=\"url(#clip430)\" d=\"M693.231 1454.1 Q689.62 1454.1 687.791 1457.66 Q685.986 1461.2 685.986 1468.33 Q685.986 1475.44 687.791 1479.01 Q689.62 1482.55 693.231 1482.55 Q696.865 1482.55 698.671 1479.01 Q700.5 1475.44 700.5 1468.33 Q700.5 1461.2 698.671 1457.66 Q696.865 1454.1 693.231 1454.1 M693.231 1450.39 Q699.041 1450.39 702.097 1455 Q705.176 1459.58 705.176 1468.33 Q705.176 1477.06 702.097 1481.67 Q699.041 1486.25 693.231 1486.25 Q687.421 1486.25 684.342 1481.67 Q681.287 1477.06 681.287 1468.33 Q681.287 1459.58 684.342 1455 Q687.421 1450.39 693.231 1450.39 Z\" fill=\"#000000\" fill-rule=\"evenodd\" fill-opacity=\"1\" /><path clip-path=\"url(#clip430)\" d=\"M713.393 1479.7 L718.277 1479.7 L718.277 1485.58 L713.393 1485.58 L713.393 1479.7 Z\" fill=\"#000000\" fill-rule=\"evenodd\" fill-opacity=\"1\" /><path clip-path=\"url(#clip430)\" d=\"M732.49 1481.64 L748.81 1481.64 L748.81 1485.58 L726.865 1485.58 L726.865 1481.64 Q729.527 1478.89 734.111 1474.26 Q738.717 1469.61 739.898 1468.27 Q742.143 1465.74 743.023 1464.01 Q743.925 1462.25 743.925 1460.56 Q743.925 1457.8 741.981 1456.07 Q740.06 1454.33 736.958 1454.33 Q734.759 1454.33 732.305 1455.09 Q729.874 1455.86 727.097 1457.41 L727.097 1452.69 Q729.921 1451.55 732.374 1450.97 Q734.828 1450.39 736.865 1450.39 Q742.236 1450.39 745.43 1453.08 Q748.624 1455.77 748.624 1460.26 Q748.624 1462.39 747.814 1464.31 Q747.027 1466.2 744.921 1468.8 Q744.342 1469.47 741.24 1472.69 Q738.138 1475.88 732.49 1481.64 Z\" fill=\"#000000\" fill-rule=\"evenodd\" fill-opacity=\"1\" /><path clip-path=\"url(#clip430)\" d=\"M758.671 1451.02 L777.027 1451.02 L777.027 1454.96 L762.953 1454.96 L762.953 1463.43 Q763.971 1463.08 764.99 1462.92 Q766.009 1462.73 767.027 1462.73 Q772.814 1462.73 776.194 1465.9 Q779.573 1469.08 779.573 1474.49 Q779.573 1480.07 776.101 1483.17 Q772.629 1486.25 766.309 1486.25 Q764.134 1486.25 761.865 1485.88 Q759.62 1485.51 757.212 1484.77 L757.212 1480.07 Q759.296 1481.2 761.518 1481.76 Q763.74 1482.32 766.217 1482.32 Q770.221 1482.32 772.559 1480.21 Q774.897 1478.1 774.897 1474.49 Q774.897 1470.88 772.559 1468.77 Q770.221 1466.67 766.217 1466.67 Q764.342 1466.67 762.467 1467.08 Q760.615 1467.5 758.671 1468.38 L758.671 1451.02 Z\" fill=\"#000000\" fill-rule=\"evenodd\" fill-opacity=\"1\" /><path clip-path=\"url(#clip430)\" d=\"M1212.71 1454.1 Q1209.1 1454.1 1207.27 1457.66 Q1205.46 1461.2 1205.46 1468.33 Q1205.46 1475.44 1207.27 1479.01 Q1209.1 1482.55 1212.71 1482.55 Q1216.34 1482.55 1218.15 1479.01 Q1219.98 1475.44 1219.98 1468.33 Q1219.98 1461.2 1218.15 1457.66 Q1216.34 1454.1 1212.71 1454.1 M1212.71 1450.39 Q1218.52 1450.39 1221.58 1455 Q1224.65 1459.58 1224.65 1468.33 Q1224.65 1477.06 1221.58 1481.67 Q1218.52 1486.25 1212.71 1486.25 Q1206.9 1486.25 1203.82 1481.67 Q1200.77 1477.06 1200.77 1468.33 Q1200.77 1459.58 1203.82 1455 Q1206.9 1450.39 1212.71 1450.39 Z\" fill=\"#000000\" fill-rule=\"evenodd\" fill-opacity=\"1\" /><path clip-path=\"url(#clip430)\" d=\"M1232.87 1479.7 L1237.76 1479.7 L1237.76 1485.58 L1232.87 1485.58 L1232.87 1479.7 Z\" fill=\"#000000\" fill-rule=\"evenodd\" fill-opacity=\"1\" /><path clip-path=\"url(#clip430)\" d=\"M1247.99 1451.02 L1266.34 1451.02 L1266.34 1454.96 L1252.27 1454.96 L1252.27 1463.43 Q1253.29 1463.08 1254.31 1462.92 Q1255.33 1462.73 1256.34 1462.73 Q1262.13 1462.73 1265.51 1465.9 Q1268.89 1469.08 1268.89 1474.49 Q1268.89 1480.07 1265.42 1483.17 Q1261.95 1486.25 1255.63 1486.25 Q1253.45 1486.25 1251.18 1485.88 Q1248.94 1485.51 1246.53 1484.77 L1246.53 1480.07 Q1248.61 1481.2 1250.83 1481.76 Q1253.06 1482.32 1255.53 1482.32 Q1259.54 1482.32 1261.88 1480.21 Q1264.21 1478.1 1264.21 1474.49 Q1264.21 1470.88 1261.88 1468.77 Q1259.54 1466.67 1255.53 1466.67 Q1253.66 1466.67 1251.78 1467.08 Q1249.93 1467.5 1247.99 1468.38 L1247.99 1451.02 Z\" fill=\"#000000\" fill-rule=\"evenodd\" fill-opacity=\"1\" /><path clip-path=\"url(#clip430)\" d=\"M1288.1 1454.1 Q1284.49 1454.1 1282.66 1457.66 Q1280.86 1461.2 1280.86 1468.33 Q1280.86 1475.44 1282.66 1479.01 Q1284.49 1482.55 1288.1 1482.55 Q1291.74 1482.55 1293.54 1479.01 Q1295.37 1475.44 1295.37 1468.33 Q1295.37 1461.2 1293.54 1457.66 Q1291.74 1454.1 1288.1 1454.1 M1288.1 1450.39 Q1293.91 1450.39 1296.97 1455 Q1300.05 1459.58 1300.05 1468.33 Q1300.05 1477.06 1296.97 1481.67 Q1293.91 1486.25 1288.1 1486.25 Q1282.29 1486.25 1279.21 1481.67 Q1276.16 1477.06 1276.16 1468.33 Q1276.16 1459.58 1279.21 1455 Q1282.29 1450.39 1288.1 1450.39 Z\" fill=\"#000000\" fill-rule=\"evenodd\" fill-opacity=\"1\" /><path clip-path=\"url(#clip430)\" d=\"M1733.18 1454.1 Q1729.57 1454.1 1727.74 1457.66 Q1725.94 1461.2 1725.94 1468.33 Q1725.94 1475.44 1727.74 1479.01 Q1729.57 1482.55 1733.18 1482.55 Q1736.82 1482.55 1738.62 1479.01 Q1740.45 1475.44 1740.45 1468.33 Q1740.45 1461.2 1738.62 1457.66 Q1736.82 1454.1 1733.18 1454.1 M1733.18 1450.39 Q1738.99 1450.39 1742.05 1455 Q1745.13 1459.58 1745.13 1468.33 Q1745.13 1477.06 1742.05 1481.67 Q1738.99 1486.25 1733.18 1486.25 Q1727.37 1486.25 1724.29 1481.67 Q1721.24 1477.06 1721.24 1468.33 Q1721.24 1459.58 1724.29 1455 Q1727.37 1450.39 1733.18 1450.39 Z\" fill=\"#000000\" fill-rule=\"evenodd\" fill-opacity=\"1\" /><path clip-path=\"url(#clip430)\" d=\"M1753.35 1479.7 L1758.23 1479.7 L1758.23 1485.58 L1753.35 1485.58 L1753.35 1479.7 Z\" fill=\"#000000\" fill-rule=\"evenodd\" fill-opacity=\"1\" /><path clip-path=\"url(#clip430)\" d=\"M1767.23 1451.02 L1789.46 1451.02 L1789.46 1453.01 L1776.91 1485.58 L1772.03 1485.58 L1783.83 1454.96 L1767.23 1454.96 L1767.23 1451.02 Z\" fill=\"#000000\" fill-rule=\"evenodd\" fill-opacity=\"1\" /><path clip-path=\"url(#clip430)\" d=\"M1798.62 1451.02 L1816.98 1451.02 L1816.98 1454.96 L1802.91 1454.96 L1802.91 1463.43 Q1803.92 1463.08 1804.94 1462.92 Q1805.96 1462.73 1806.98 1462.73 Q1812.77 1462.73 1816.15 1465.9 Q1819.53 1469.08 1819.53 1474.49 Q1819.53 1480.07 1816.05 1483.17 Q1812.58 1486.25 1806.26 1486.25 Q1804.09 1486.25 1801.82 1485.88 Q1799.57 1485.51 1797.16 1484.77 L1797.16 1480.07 Q1799.25 1481.2 1801.47 1481.76 Q1803.69 1482.32 1806.17 1482.32 Q1810.17 1482.32 1812.51 1480.21 Q1814.85 1478.1 1814.85 1474.49 Q1814.85 1470.88 1812.51 1468.77 Q1810.17 1466.67 1806.17 1466.67 Q1804.29 1466.67 1802.42 1467.08 Q1800.57 1467.5 1798.62 1468.38 L1798.62 1451.02 Z\" fill=\"#000000\" fill-rule=\"evenodd\" fill-opacity=\"1\" /><path clip-path=\"url(#clip430)\" d=\"M2242.43 1481.64 L2250.07 1481.64 L2250.07 1455.28 L2241.76 1456.95 L2241.76 1452.69 L2250.02 1451.02 L2254.7 1451.02 L2254.7 1481.64 L2262.34 1481.64 L2262.34 1485.58 L2242.43 1485.58 L2242.43 1481.64 Z\" fill=\"#000000\" fill-rule=\"evenodd\" fill-opacity=\"1\" /><path clip-path=\"url(#clip430)\" d=\"M2271.78 1479.7 L2276.67 1479.7 L2276.67 1485.58 L2271.78 1485.58 L2271.78 1479.7 Z\" fill=\"#000000\" fill-rule=\"evenodd\" fill-opacity=\"1\" /><path clip-path=\"url(#clip430)\" d=\"M2296.85 1454.1 Q2293.24 1454.1 2291.41 1457.66 Q2289.61 1461.2 2289.61 1468.33 Q2289.61 1475.44 2291.41 1479.01 Q2293.24 1482.55 2296.85 1482.55 Q2300.49 1482.55 2302.29 1479.01 Q2304.12 1475.44 2304.12 1468.33 Q2304.12 1461.2 2302.29 1457.66 Q2300.49 1454.1 2296.85 1454.1 M2296.85 1450.39 Q2302.66 1450.39 2305.72 1455 Q2308.8 1459.58 2308.8 1468.33 Q2308.8 1477.06 2305.72 1481.67 Q2302.66 1486.25 2296.85 1486.25 Q2291.04 1486.25 2287.96 1481.67 Q2284.91 1477.06 2284.91 1468.33 Q2284.91 1459.58 2287.96 1455 Q2291.04 1450.39 2296.85 1450.39 Z\" fill=\"#000000\" fill-rule=\"evenodd\" fill-opacity=\"1\" /><path clip-path=\"url(#clip430)\" d=\"M2327.01 1454.1 Q2323.4 1454.1 2321.57 1457.66 Q2319.77 1461.2 2319.77 1468.33 Q2319.77 1475.44 2321.57 1479.01 Q2323.4 1482.55 2327.01 1482.55 Q2330.65 1482.55 2332.45 1479.01 Q2334.28 1475.44 2334.28 1468.33 Q2334.28 1461.2 2332.45 1457.66 Q2330.65 1454.1 2327.01 1454.1 M2327.01 1450.39 Q2332.82 1450.39 2335.88 1455 Q2338.96 1459.58 2338.96 1468.33 Q2338.96 1477.06 2335.88 1481.67 Q2332.82 1486.25 2327.01 1486.25 Q2321.2 1486.25 2318.12 1481.67 Q2315.07 1477.06 2315.07 1468.33 Q2315.07 1459.58 2318.12 1455 Q2321.2 1450.39 2327.01 1450.39 Z\" fill=\"#000000\" fill-rule=\"evenodd\" fill-opacity=\"1\" /><path clip-path=\"url(#clip430)\" d=\"M1172.28 1520.52 L1212.48 1520.52 L1212.48 1525.93 L1195.61 1525.93 L1195.61 1568.04 L1189.15 1568.04 L1189.15 1525.93 L1172.28 1525.93 L1172.28 1520.52 Z\" fill=\"#000000\" fill-rule=\"evenodd\" fill-opacity=\"1\" /><path clip-path=\"url(#clip430)\" d=\"M1216.43 1532.4 L1222.29 1532.4 L1222.29 1568.04 L1216.43 1568.04 L1216.43 1532.4 M1216.43 1518.52 L1222.29 1518.52 L1222.29 1525.93 L1216.43 1525.93 L1216.43 1518.52 Z\" fill=\"#000000\" fill-rule=\"evenodd\" fill-opacity=\"1\" /><path clip-path=\"url(#clip430)\" d=\"M1262.29 1539.24 Q1264.49 1535.29 1267.55 1533.41 Q1270.6 1531.54 1274.74 1531.54 Q1280.31 1531.54 1283.33 1535.45 Q1286.36 1539.33 1286.36 1546.53 L1286.36 1568.04 L1280.47 1568.04 L1280.47 1546.72 Q1280.47 1541.59 1278.65 1539.11 Q1276.84 1536.63 1273.12 1536.63 Q1268.56 1536.63 1265.92 1539.65 Q1263.28 1542.68 1263.28 1547.9 L1263.28 1568.04 L1257.39 1568.04 L1257.39 1546.72 Q1257.39 1541.56 1255.58 1539.11 Q1253.76 1536.63 1249.98 1536.63 Q1245.49 1536.63 1242.85 1539.68 Q1240.21 1542.71 1240.21 1547.9 L1240.21 1568.04 L1234.32 1568.04 L1234.32 1532.4 L1240.21 1532.4 L1240.21 1537.93 Q1242.21 1534.66 1245.01 1533.1 Q1247.81 1531.54 1251.66 1531.54 Q1255.55 1531.54 1258.25 1533.51 Q1260.99 1535.48 1262.29 1539.24 Z\" fill=\"#000000\" fill-rule=\"evenodd\" fill-opacity=\"1\" /><path clip-path=\"url(#clip430)\" d=\"M1328.53 1548.76 L1328.53 1551.62 L1301.6 1551.62 Q1301.98 1557.67 1305.23 1560.85 Q1308.51 1564 1314.33 1564 Q1317.71 1564 1320.86 1563.17 Q1324.04 1562.35 1327.16 1560.69 L1327.16 1566.23 Q1324.01 1567.57 1320.7 1568.27 Q1317.39 1568.97 1313.98 1568.97 Q1305.45 1568.97 1300.46 1564 Q1295.49 1559.04 1295.49 1550.57 Q1295.49 1541.82 1300.2 1536.69 Q1304.94 1531.54 1312.97 1531.54 Q1320.16 1531.54 1324.33 1536.18 Q1328.53 1540.8 1328.53 1548.76 M1322.67 1547.04 Q1322.61 1542.23 1319.97 1539.37 Q1317.36 1536.5 1313.03 1536.5 Q1308.13 1536.5 1305.17 1539.27 Q1302.24 1542.04 1301.79 1547.07 L1322.67 1547.04 Z\" fill=\"#000000\" fill-rule=\"evenodd\" fill-opacity=\"1\" /><polyline clip-path=\"url(#clip433)\" style=\"stroke:#000000; stroke-linecap:round; stroke-linejoin:round; stroke-width:2; stroke-opacity:0.1; fill:none\" points=\"\n",
       "  148.057,1409.68 2352.76,1409.68 \n",
       "  \"/>\n",
       "<polyline clip-path=\"url(#clip433)\" style=\"stroke:#000000; stroke-linecap:round; stroke-linejoin:round; stroke-width:2; stroke-opacity:0.1; fill:none\" points=\"\n",
       "  148.057,1283.98 2352.76,1283.98 \n",
       "  \"/>\n",
       "<polyline clip-path=\"url(#clip433)\" style=\"stroke:#000000; stroke-linecap:round; stroke-linejoin:round; stroke-width:2; stroke-opacity:0.1; fill:none\" points=\"\n",
       "  148.057,1158.28 2352.76,1158.28 \n",
       "  \"/>\n",
       "<polyline clip-path=\"url(#clip433)\" style=\"stroke:#000000; stroke-linecap:round; stroke-linejoin:round; stroke-width:2; stroke-opacity:0.1; fill:none\" points=\"\n",
       "  148.057,1032.58 2352.76,1032.58 \n",
       "  \"/>\n",
       "<polyline clip-path=\"url(#clip433)\" style=\"stroke:#000000; stroke-linecap:round; stroke-linejoin:round; stroke-width:2; stroke-opacity:0.1; fill:none\" points=\"\n",
       "  148.057,906.876 2352.76,906.876 \n",
       "  \"/>\n",
       "<polyline clip-path=\"url(#clip430)\" style=\"stroke:#000000; stroke-linecap:round; stroke-linejoin:round; stroke-width:4; stroke-opacity:1; fill:none\" points=\"\n",
       "  148.057,1423.18 148.057,891.838 \n",
       "  \"/>\n",
       "<polyline clip-path=\"url(#clip430)\" style=\"stroke:#000000; stroke-linecap:round; stroke-linejoin:round; stroke-width:4; stroke-opacity:1; fill:none\" points=\"\n",
       "  148.057,1409.68 166.954,1409.68 \n",
       "  \"/>\n",
       "<polyline clip-path=\"url(#clip430)\" style=\"stroke:#000000; stroke-linecap:round; stroke-linejoin:round; stroke-width:4; stroke-opacity:1; fill:none\" points=\"\n",
       "  148.057,1283.98 166.954,1283.98 \n",
       "  \"/>\n",
       "<polyline clip-path=\"url(#clip430)\" style=\"stroke:#000000; stroke-linecap:round; stroke-linejoin:round; stroke-width:4; stroke-opacity:1; fill:none\" points=\"\n",
       "  148.057,1158.28 166.954,1158.28 \n",
       "  \"/>\n",
       "<polyline clip-path=\"url(#clip430)\" style=\"stroke:#000000; stroke-linecap:round; stroke-linejoin:round; stroke-width:4; stroke-opacity:1; fill:none\" points=\"\n",
       "  148.057,1032.58 166.954,1032.58 \n",
       "  \"/>\n",
       "<polyline clip-path=\"url(#clip430)\" style=\"stroke:#000000; stroke-linecap:round; stroke-linejoin:round; stroke-width:4; stroke-opacity:1; fill:none\" points=\"\n",
       "  148.057,906.876 166.954,906.876 \n",
       "  \"/>\n",
       "<path clip-path=\"url(#clip430)\" d=\"M51.9412 1410.13 L81.617 1410.13 L81.617 1414.06 L51.9412 1414.06 L51.9412 1410.13 Z\" fill=\"#000000\" fill-rule=\"evenodd\" fill-opacity=\"1\" /><path clip-path=\"url(#clip430)\" d=\"M95.7373 1423.02 L112.057 1423.02 L112.057 1426.96 L90.1123 1426.96 L90.1123 1423.02 Q92.7743 1420.27 97.3576 1415.64 Q101.964 1410.99 103.145 1409.64 Q105.39 1407.12 106.27 1405.38 Q107.172 1403.62 107.172 1401.93 Q107.172 1399.18 105.228 1397.44 Q103.307 1395.71 100.205 1395.71 Q98.0058 1395.71 95.5521 1396.47 Q93.1215 1397.24 90.3438 1398.79 L90.3438 1394.06 Q93.1678 1392.93 95.6215 1392.35 Q98.0752 1391.77 100.112 1391.77 Q105.483 1391.77 108.677 1394.46 Q111.871 1397.14 111.871 1401.63 Q111.871 1403.76 111.061 1405.68 Q110.274 1407.58 108.168 1410.18 Q107.589 1410.85 104.487 1414.06 Q101.385 1417.26 95.7373 1423.02 Z\" fill=\"#000000\" fill-rule=\"evenodd\" fill-opacity=\"1\" /><path clip-path=\"url(#clip430)\" d=\"M51.5708 1284.43 L81.2466 1284.43 L81.2466 1288.36 L51.5708 1288.36 L51.5708 1284.43 Z\" fill=\"#000000\" fill-rule=\"evenodd\" fill-opacity=\"1\" /><path clip-path=\"url(#clip430)\" d=\"M92.1493 1297.32 L99.7882 1297.32 L99.7882 1270.96 L91.478 1272.62 L91.478 1268.36 L99.7419 1266.7 L104.418 1266.7 L104.418 1297.32 L112.057 1297.32 L112.057 1301.26 L92.1493 1301.26 L92.1493 1297.32 Z\" fill=\"#000000\" fill-rule=\"evenodd\" fill-opacity=\"1\" /><path clip-path=\"url(#clip430)\" d=\"M100.112 1144.08 Q96.5011 1144.08 94.6724 1147.64 Q92.8669 1151.18 92.8669 1158.31 Q92.8669 1165.42 94.6724 1168.98 Q96.5011 1172.52 100.112 1172.52 Q103.746 1172.52 105.552 1168.98 Q107.381 1165.42 107.381 1158.31 Q107.381 1151.18 105.552 1147.64 Q103.746 1144.08 100.112 1144.08 M100.112 1140.37 Q105.922 1140.37 108.978 1144.98 Q112.057 1149.56 112.057 1158.31 Q112.057 1167.04 108.978 1171.64 Q105.922 1176.23 100.112 1176.23 Q94.3021 1176.23 91.2234 1171.64 Q88.1679 1167.04 88.1679 1158.31 Q88.1679 1149.56 91.2234 1144.98 Q94.3021 1140.37 100.112 1140.37 Z\" fill=\"#000000\" fill-rule=\"evenodd\" fill-opacity=\"1\" /><path clip-path=\"url(#clip430)\" d=\"M92.1493 1045.92 L99.7882 1045.92 L99.7882 1019.56 L91.478 1021.22 L91.478 1016.96 L99.7419 1015.3 L104.418 1015.3 L104.418 1045.92 L112.057 1045.92 L112.057 1049.86 L92.1493 1049.86 L92.1493 1045.92 Z\" fill=\"#000000\" fill-rule=\"evenodd\" fill-opacity=\"1\" /><path clip-path=\"url(#clip430)\" d=\"M95.7373 920.221 L112.057 920.221 L112.057 924.156 L90.1123 924.156 L90.1123 920.221 Q92.7743 917.466 97.3576 912.837 Q101.964 908.184 103.145 906.841 Q105.39 904.318 106.27 902.582 Q107.172 900.823 107.172 899.133 Q107.172 896.378 105.228 894.642 Q103.307 892.906 100.205 892.906 Q98.0058 892.906 95.5521 893.67 Q93.1215 894.434 90.3438 895.985 L90.3438 891.263 Q93.1678 890.128 95.6215 889.55 Q98.0752 888.971 100.112 888.971 Q105.483 888.971 108.677 891.656 Q111.871 894.341 111.871 898.832 Q111.871 900.962 111.061 902.883 Q110.274 904.781 108.168 907.374 Q107.589 908.045 104.487 911.263 Q101.385 914.457 95.7373 920.221 Z\" fill=\"#000000\" fill-rule=\"evenodd\" fill-opacity=\"1\" /><path clip-path=\"url(#clip430)\" d=\"M720.102 780.462 L731.121 780.462 L757.938 831.058 L757.938 780.462 L765.878 780.462 L765.878 840.942 L754.859 840.942 L728.042 790.346 L728.042 840.942 L720.102 840.942 L720.102 780.462 Z\" fill=\"#000000\" fill-rule=\"evenodd\" fill-opacity=\"1\" /><path clip-path=\"url(#clip430)\" d=\"M820.646 816.394 L820.646 820.039 L786.375 820.039 Q786.861 827.736 790.993 831.787 Q795.166 835.797 802.579 835.797 Q806.873 835.797 810.883 834.744 Q814.934 833.691 818.904 831.584 L818.904 838.633 Q814.894 840.334 810.681 841.226 Q806.468 842.117 802.133 842.117 Q791.277 842.117 784.917 835.797 Q778.597 829.478 778.597 818.703 Q778.597 807.563 784.593 801.041 Q790.629 794.478 800.837 794.478 Q809.992 794.478 815.299 800.392 Q820.646 806.266 820.646 816.394 M813.192 814.206 Q813.111 808.089 809.749 804.443 Q806.427 800.798 800.918 800.798 Q794.68 800.798 790.912 804.322 Q787.185 807.846 786.618 814.247 L813.192 814.206 Z\" fill=\"#000000\" fill-rule=\"evenodd\" fill-opacity=\"1\" /><path clip-path=\"url(#clip430)\" d=\"M832.11 823.037 L832.11 795.572 L839.564 795.572 L839.564 822.753 Q839.564 829.194 842.075 832.435 Q844.587 835.635 849.61 835.635 Q855.646 835.635 859.129 831.787 Q862.654 827.939 862.654 821.295 L862.654 795.572 L870.107 795.572 L870.107 840.942 L862.654 840.942 L862.654 833.974 Q859.94 838.106 856.334 840.132 Q852.77 842.117 848.03 842.117 Q840.212 842.117 836.161 837.256 Q832.11 832.395 832.11 823.037 M850.866 794.478 L850.866 794.478 Z\" fill=\"#000000\" fill-rule=\"evenodd\" fill-opacity=\"1\" /><path clip-path=\"url(#clip430)\" d=\"M911.751 802.539 Q910.495 801.81 908.996 801.486 Q907.538 801.122 905.755 801.122 Q899.436 801.122 896.033 805.254 Q892.671 809.345 892.671 817.042 L892.671 840.942 L885.177 840.942 L885.177 795.572 L892.671 795.572 L892.671 802.62 Q895.02 798.489 898.788 796.504 Q902.555 794.478 907.943 794.478 Q908.712 794.478 909.644 794.6 Q910.576 794.681 911.71 794.883 L911.751 802.539 Z\" fill=\"#000000\" fill-rule=\"evenodd\" fill-opacity=\"1\" /><path clip-path=\"url(#clip430)\" d=\"M940.188 818.135 Q931.154 818.135 927.671 820.201 Q924.187 822.267 924.187 827.25 Q924.187 831.22 926.78 833.569 Q929.413 835.878 933.909 835.878 Q940.107 835.878 943.834 831.503 Q947.601 827.088 947.601 819.796 L947.601 818.135 L940.188 818.135 M955.055 815.057 L955.055 840.942 L947.601 840.942 L947.601 834.055 Q945.049 838.187 941.241 840.172 Q937.433 842.117 931.924 842.117 Q924.957 842.117 920.825 838.228 Q916.733 834.299 916.733 827.736 Q916.733 820.08 921.837 816.191 Q926.982 812.302 937.15 812.302 L947.601 812.302 L947.601 811.573 Q947.601 806.428 944.198 803.633 Q940.836 800.798 934.719 800.798 Q930.83 800.798 927.144 801.729 Q923.458 802.661 920.055 804.524 L920.055 797.638 Q924.146 796.058 927.995 795.288 Q931.843 794.478 935.489 794.478 Q945.333 794.478 950.194 799.582 Q955.055 804.686 955.055 815.057 Z\" fill=\"#000000\" fill-rule=\"evenodd\" fill-opacity=\"1\" /><path clip-path=\"url(#clip430)\" d=\"M970.408 777.91 L977.861 777.91 L977.861 840.942 L970.408 840.942 L970.408 777.91 Z\" fill=\"#000000\" fill-rule=\"evenodd\" fill-opacity=\"1\" /><path clip-path=\"url(#clip430)\" d=\"M1056.41 782.447 L1056.41 790.427 Q1051.75 788.199 1047.62 787.105 Q1043.49 786.012 1039.64 786.012 Q1032.95 786.012 1029.31 788.604 Q1025.7 791.197 1025.7 795.977 Q1025.7 799.987 1028.09 802.053 Q1030.52 804.079 1037.25 805.335 L1042.19 806.347 Q1051.34 808.089 1055.68 812.505 Q1060.05 816.88 1060.05 824.252 Q1060.05 833.043 1054.14 837.58 Q1048.27 842.117 1036.88 842.117 Q1032.59 842.117 1027.73 841.145 Q1022.91 840.172 1017.72 838.268 L1017.72 829.843 Q1022.7 832.638 1027.49 834.055 Q1032.27 835.473 1036.88 835.473 Q1043.89 835.473 1047.7 832.719 Q1051.51 829.964 1051.51 824.86 Q1051.51 820.404 1048.75 817.892 Q1046.04 815.381 1039.8 814.125 L1034.82 813.153 Q1025.66 811.33 1021.57 807.441 Q1017.48 803.552 1017.48 796.625 Q1017.48 788.604 1023.11 783.986 Q1028.78 779.368 1038.71 779.368 Q1042.96 779.368 1047.37 780.138 Q1051.79 780.908 1056.41 782.447 Z\" fill=\"#000000\" fill-rule=\"evenodd\" fill-opacity=\"1\" /><path clip-path=\"url(#clip430)\" d=\"M1081 787.186 L1081 834.217 L1090.88 834.217 Q1103.4 834.217 1109.19 828.546 Q1115.03 822.875 1115.03 810.641 Q1115.03 798.489 1109.19 792.858 Q1103.4 787.186 1090.88 787.186 L1081 787.186 M1072.81 780.462 L1089.63 780.462 Q1107.21 780.462 1115.43 787.794 Q1123.65 795.086 1123.65 810.641 Q1123.65 826.278 1115.39 833.61 Q1107.13 840.942 1089.63 840.942 L1072.81 840.942 L1072.81 780.462 Z\" fill=\"#000000\" fill-rule=\"evenodd\" fill-opacity=\"1\" /><path clip-path=\"url(#clip430)\" d=\"M1136.7 780.462 L1174.94 780.462 L1174.94 787.349 L1144.88 787.349 L1144.88 805.254 L1173.68 805.254 L1173.68 812.14 L1144.88 812.14 L1144.88 834.055 L1175.67 834.055 L1175.67 840.942 L1136.7 840.942 L1136.7 780.462 Z\" fill=\"#000000\" fill-rule=\"evenodd\" fill-opacity=\"1\" /><path clip-path=\"url(#clip430)\" d=\"M1190.7 830.653 L1199.24 830.653 L1199.24 840.942 L1190.7 840.942 L1190.7 830.653 M1190.7 798.043 L1199.24 798.043 L1199.24 808.332 L1190.7 808.332 L1190.7 798.043 Z\" fill=\"#000000\" fill-rule=\"evenodd\" fill-opacity=\"1\" /><path clip-path=\"url(#clip430)\" d=\"M1263.65 788.523 L1252.55 818.622 L1274.79 818.622 L1263.65 788.523 M1259.03 780.462 L1268.31 780.462 L1291.36 840.942 L1282.85 840.942 L1277.34 825.427 L1250.08 825.427 L1244.57 840.942 L1235.94 840.942 L1259.03 780.462 Z\" fill=\"#000000\" fill-rule=\"evenodd\" fill-opacity=\"1\" /><path clip-path=\"url(#clip430)\" d=\"M1319.88 777.91 L1319.88 784.108 L1312.75 784.108 Q1308.74 784.108 1307.16 785.728 Q1305.62 787.349 1305.62 791.561 L1305.62 795.572 L1317.89 795.572 L1317.89 801.365 L1305.62 801.365 L1305.62 840.942 L1298.13 840.942 L1298.13 801.365 L1291 801.365 L1291 795.572 L1298.13 795.572 L1298.13 792.412 Q1298.13 784.837 1301.65 781.394 Q1305.17 777.91 1312.83 777.91 L1319.88 777.91 Z\" fill=\"#000000\" fill-rule=\"evenodd\" fill-opacity=\"1\" /><path clip-path=\"url(#clip430)\" d=\"M1332.03 782.69 L1332.03 795.572 L1347.38 795.572 L1347.38 801.365 L1332.03 801.365 L1332.03 825.994 Q1332.03 831.544 1333.53 833.124 Q1335.07 834.704 1339.73 834.704 L1347.38 834.704 L1347.38 840.942 L1339.73 840.942 Q1331.1 840.942 1327.82 837.742 Q1324.54 834.501 1324.54 825.994 L1324.54 801.365 L1319.07 801.365 L1319.07 795.572 L1324.54 795.572 L1324.54 782.69 L1332.03 782.69 Z\" fill=\"#000000\" fill-rule=\"evenodd\" fill-opacity=\"1\" /><path clip-path=\"url(#clip430)\" d=\"M1396 816.394 L1396 820.039 L1361.73 820.039 Q1362.21 827.736 1366.34 831.787 Q1370.52 835.797 1377.93 835.797 Q1382.22 835.797 1386.23 834.744 Q1390.28 833.691 1394.25 831.584 L1394.25 838.633 Q1390.24 840.334 1386.03 841.226 Q1381.82 842.117 1377.48 842.117 Q1366.63 842.117 1360.27 835.797 Q1353.95 829.478 1353.95 818.703 Q1353.95 807.563 1359.94 801.041 Q1365.98 794.478 1376.19 794.478 Q1385.34 794.478 1390.65 800.392 Q1396 806.266 1396 816.394 M1388.54 814.206 Q1388.46 808.089 1385.1 804.443 Q1381.78 800.798 1376.27 800.798 Q1370.03 800.798 1366.26 804.322 Q1362.54 807.846 1361.97 814.247 L1388.54 814.206 Z\" fill=\"#000000\" fill-rule=\"evenodd\" fill-opacity=\"1\" /><path clip-path=\"url(#clip430)\" d=\"M1434.52 802.539 Q1433.26 801.81 1431.77 801.486 Q1430.31 801.122 1428.52 801.122 Q1422.21 801.122 1418.8 805.254 Q1415.44 809.345 1415.44 817.042 L1415.44 840.942 L1407.95 840.942 L1407.95 795.572 L1415.44 795.572 L1415.44 802.62 Q1417.79 798.489 1421.56 796.504 Q1425.32 794.478 1430.71 794.478 Q1431.48 794.478 1432.41 794.6 Q1433.35 794.681 1434.48 794.883 L1434.52 802.539 Z\" fill=\"#000000\" fill-rule=\"evenodd\" fill-opacity=\"1\" /><path clip-path=\"url(#clip430)\" d=\"M1460.65 780.462 L1511.81 780.462 L1511.81 787.349 L1490.34 787.349 L1490.34 840.942 L1482.12 840.942 L1482.12 787.349 L1460.65 787.349 L1460.65 780.462 Z\" fill=\"#000000\" fill-rule=\"evenodd\" fill-opacity=\"1\" /><path clip-path=\"url(#clip430)\" d=\"M1533.48 802.539 Q1532.23 801.81 1530.73 801.486 Q1529.27 801.122 1527.49 801.122 Q1521.17 801.122 1517.77 805.254 Q1514.4 809.345 1514.4 817.042 L1514.4 840.942 L1506.91 840.942 L1506.91 795.572 L1514.4 795.572 L1514.4 802.62 Q1516.75 798.489 1520.52 796.504 Q1524.29 794.478 1529.68 794.478 Q1530.45 794.478 1531.38 794.6 Q1532.31 794.681 1533.44 794.883 L1533.48 802.539 Z\" fill=\"#000000\" fill-rule=\"evenodd\" fill-opacity=\"1\" /><path clip-path=\"url(#clip430)\" d=\"M1561.92 818.135 Q1552.89 818.135 1549.4 820.201 Q1545.92 822.267 1545.92 827.25 Q1545.92 831.22 1548.51 833.569 Q1551.15 835.878 1555.64 835.878 Q1561.84 835.878 1565.57 831.503 Q1569.33 827.088 1569.33 819.796 L1569.33 818.135 L1561.92 818.135 M1576.79 815.057 L1576.79 840.942 L1569.33 840.942 L1569.33 834.055 Q1566.78 838.187 1562.97 840.172 Q1559.17 842.117 1553.66 842.117 Q1546.69 842.117 1542.56 838.228 Q1538.47 834.299 1538.47 827.736 Q1538.47 820.08 1543.57 816.191 Q1548.71 812.302 1558.88 812.302 L1569.33 812.302 L1569.33 811.573 Q1569.33 806.428 1565.93 803.633 Q1562.57 800.798 1556.45 800.798 Q1552.56 800.798 1548.88 801.729 Q1545.19 802.661 1541.79 804.524 L1541.79 797.638 Q1545.88 796.058 1549.73 795.288 Q1553.58 794.478 1557.22 794.478 Q1567.07 794.478 1571.93 799.582 Q1576.79 804.686 1576.79 815.057 Z\" fill=\"#000000\" fill-rule=\"evenodd\" fill-opacity=\"1\" /><path clip-path=\"url(#clip430)\" d=\"M1592.14 795.572 L1599.59 795.572 L1599.59 840.942 L1592.14 840.942 L1592.14 795.572 M1592.14 777.91 L1599.59 777.91 L1599.59 787.349 L1592.14 787.349 L1592.14 777.91 Z\" fill=\"#000000\" fill-rule=\"evenodd\" fill-opacity=\"1\" /><path clip-path=\"url(#clip430)\" d=\"M1652.9 813.558 L1652.9 840.942 L1645.45 840.942 L1645.45 813.801 Q1645.45 807.36 1642.94 804.16 Q1640.43 800.96 1635.4 800.96 Q1629.37 800.96 1625.88 804.808 Q1622.4 808.656 1622.4 815.3 L1622.4 840.942 L1614.91 840.942 L1614.91 795.572 L1622.4 795.572 L1622.4 802.62 Q1625.07 798.529 1628.68 796.504 Q1632.33 794.478 1637.07 794.478 Q1644.88 794.478 1648.89 799.339 Q1652.9 804.16 1652.9 813.558 Z\" fill=\"#000000\" fill-rule=\"evenodd\" fill-opacity=\"1\" /><path clip-path=\"url(#clip430)\" d=\"M1667.77 795.572 L1675.22 795.572 L1675.22 840.942 L1667.77 840.942 L1667.77 795.572 M1667.77 777.91 L1675.22 777.91 L1675.22 787.349 L1667.77 787.349 L1667.77 777.91 Z\" fill=\"#000000\" fill-rule=\"evenodd\" fill-opacity=\"1\" /><path clip-path=\"url(#clip430)\" d=\"M1728.53 813.558 L1728.53 840.942 L1721.08 840.942 L1721.08 813.801 Q1721.08 807.36 1718.57 804.16 Q1716.06 800.96 1711.03 800.96 Q1705 800.96 1701.51 804.808 Q1698.03 808.656 1698.03 815.3 L1698.03 840.942 L1690.54 840.942 L1690.54 795.572 L1698.03 795.572 L1698.03 802.62 Q1700.7 798.529 1704.31 796.504 Q1707.96 794.478 1712.7 794.478 Q1720.51 794.478 1724.52 799.339 Q1728.53 804.16 1728.53 813.558 Z\" fill=\"#000000\" fill-rule=\"evenodd\" fill-opacity=\"1\" /><path clip-path=\"url(#clip430)\" d=\"M1773.26 817.73 Q1773.26 809.628 1769.89 805.172 Q1766.57 800.717 1760.54 800.717 Q1754.54 800.717 1751.18 805.172 Q1747.86 809.628 1747.86 817.73 Q1747.86 825.792 1751.18 830.248 Q1754.54 834.704 1760.54 834.704 Q1766.57 834.704 1769.89 830.248 Q1773.26 825.792 1773.26 817.73 M1780.71 835.311 Q1780.71 846.897 1775.57 852.528 Q1770.42 858.199 1759.81 858.199 Q1755.88 858.199 1752.39 857.591 Q1748.91 857.024 1745.63 855.809 L1745.63 848.558 Q1748.91 850.34 1752.11 851.191 Q1755.31 852.041 1758.63 852.041 Q1765.96 852.041 1769.61 848.193 Q1773.26 844.385 1773.26 836.648 L1773.26 832.962 Q1770.95 836.972 1767.34 838.957 Q1763.74 840.942 1758.71 840.942 Q1750.37 840.942 1745.26 834.582 Q1740.16 828.222 1740.16 817.73 Q1740.16 807.198 1745.26 800.838 Q1750.37 794.478 1758.71 794.478 Q1763.74 794.478 1767.34 796.463 Q1770.95 798.448 1773.26 802.458 L1773.26 795.572 L1780.71 795.572 L1780.71 835.311 Z\" fill=\"#000000\" fill-rule=\"evenodd\" fill-opacity=\"1\" /><polyline clip-path=\"url(#clip433)\" style=\"stroke:#000000; stroke-linecap:round; stroke-linejoin:round; stroke-width:4; stroke-opacity:1; fill:none\" points=\"\n",
       "  210.454,906.876 210.454,906.876 \n",
       "  \"/>\n",
       "<polyline clip-path=\"url(#clip433)\" style=\"stroke:#000000; stroke-linecap:round; stroke-linejoin:round; stroke-width:4; stroke-opacity:1; fill:none\" points=\"\n",
       "  282.175,926.773 282.175,908.111 \n",
       "  \"/>\n",
       "<polyline clip-path=\"url(#clip433)\" style=\"stroke:#000000; stroke-linecap:round; stroke-linejoin:round; stroke-width:4; stroke-opacity:1; fill:none\" points=\"\n",
       "  353.895,933.539 353.895,922.068 \n",
       "  \"/>\n",
       "<polyline clip-path=\"url(#clip433)\" style=\"stroke:#000000; stroke-linecap:round; stroke-linejoin:round; stroke-width:4; stroke-opacity:1; fill:none\" points=\"\n",
       "  425.616,956.242 425.616,948.972 \n",
       "  \"/>\n",
       "<polyline clip-path=\"url(#clip433)\" style=\"stroke:#000000; stroke-linecap:round; stroke-linejoin:round; stroke-width:4; stroke-opacity:1; fill:none\" points=\"\n",
       "  497.337,1005.2 497.337,979.502 \n",
       "  \"/>\n",
       "<polyline clip-path=\"url(#clip433)\" style=\"stroke:#000000; stroke-linecap:round; stroke-linejoin:round; stroke-width:4; stroke-opacity:1; fill:none\" points=\"\n",
       "  569.058,1075 569.058,1006.96 \n",
       "  \"/>\n",
       "<polyline clip-path=\"url(#clip433)\" style=\"stroke:#000000; stroke-linecap:round; stroke-linejoin:round; stroke-width:4; stroke-opacity:1; fill:none\" points=\"\n",
       "  640.779,1153.26 640.779,1031.78 \n",
       "  \"/>\n",
       "<polyline clip-path=\"url(#clip433)\" style=\"stroke:#000000; stroke-linecap:round; stroke-linejoin:round; stroke-width:4; stroke-opacity:1; fill:none\" points=\"\n",
       "  712.5,1228.14 712.5,1057.41 \n",
       "  \"/>\n",
       "<polyline clip-path=\"url(#clip433)\" style=\"stroke:#000000; stroke-linecap:round; stroke-linejoin:round; stroke-width:4; stroke-opacity:1; fill:none\" points=\"\n",
       "  784.221,1289.62 784.221,1087.96 \n",
       "  \"/>\n",
       "<polyline clip-path=\"url(#clip433)\" style=\"stroke:#000000; stroke-linecap:round; stroke-linejoin:round; stroke-width:4; stroke-opacity:1; fill:none\" points=\"\n",
       "  855.941,1333.61 855.941,1123.89 \n",
       "  \"/>\n",
       "<polyline clip-path=\"url(#clip433)\" style=\"stroke:#000000; stroke-linecap:round; stroke-linejoin:round; stroke-width:4; stroke-opacity:1; fill:none\" points=\"\n",
       "  927.662,1360.33 927.662,1162.59 \n",
       "  \"/>\n",
       "<polyline clip-path=\"url(#clip433)\" style=\"stroke:#000000; stroke-linecap:round; stroke-linejoin:round; stroke-width:4; stroke-opacity:1; fill:none\" points=\"\n",
       "  999.383,1374.03 999.383,1199.5 \n",
       "  \"/>\n",
       "<polyline clip-path=\"url(#clip433)\" style=\"stroke:#000000; stroke-linecap:round; stroke-linejoin:round; stroke-width:4; stroke-opacity:1; fill:none\" points=\"\n",
       "  1071.1,1378.44 1071.1,1230.75 \n",
       "  \"/>\n",
       "<polyline clip-path=\"url(#clip433)\" style=\"stroke:#000000; stroke-linecap:round; stroke-linejoin:round; stroke-width:4; stroke-opacity:1; fill:none\" points=\"\n",
       "  1142.82,1377.57 1142.82,1253.48 \n",
       "  \"/>\n",
       "<polyline clip-path=\"url(#clip433)\" style=\"stroke:#000000; stroke-linecap:round; stroke-linejoin:round; stroke-width:4; stroke-opacity:1; fill:none\" points=\"\n",
       "  1214.55,1375.35 1214.55,1265.63 \n",
       "  \"/>\n",
       "<polyline clip-path=\"url(#clip433)\" style=\"stroke:#000000; stroke-linecap:round; stroke-linejoin:round; stroke-width:4; stroke-opacity:1; fill:none\" points=\"\n",
       "  1286.27,1374.49 1286.27,1266.14 \n",
       "  \"/>\n",
       "<polyline clip-path=\"url(#clip433)\" style=\"stroke:#000000; stroke-linecap:round; stroke-linejoin:round; stroke-width:4; stroke-opacity:1; fill:none\" points=\"\n",
       "  1357.99,1375.54 1357.99,1255.65 \n",
       "  \"/>\n",
       "<polyline clip-path=\"url(#clip433)\" style=\"stroke:#000000; stroke-linecap:round; stroke-linejoin:round; stroke-width:4; stroke-opacity:1; fill:none\" points=\"\n",
       "  1429.71,1377.85 1429.71,1236.38 \n",
       "  \"/>\n",
       "<polyline clip-path=\"url(#clip433)\" style=\"stroke:#000000; stroke-linecap:round; stroke-linejoin:round; stroke-width:4; stroke-opacity:1; fill:none\" points=\"\n",
       "  1501.43,1380.95 1501.43,1210.24 \n",
       "  \"/>\n",
       "<polyline clip-path=\"url(#clip433)\" style=\"stroke:#000000; stroke-linecap:round; stroke-linejoin:round; stroke-width:4; stroke-opacity:1; fill:none\" points=\"\n",
       "  1573.15,1383.74 1573.15,1179.95 \n",
       "  \"/>\n",
       "<polyline clip-path=\"url(#clip433)\" style=\"stroke:#000000; stroke-linecap:round; stroke-linejoin:round; stroke-width:4; stroke-opacity:1; fill:none\" points=\"\n",
       "  1644.87,1385.13 1644.87,1147.81 \n",
       "  \"/>\n",
       "<polyline clip-path=\"url(#clip433)\" style=\"stroke:#000000; stroke-linecap:round; stroke-linejoin:round; stroke-width:4; stroke-opacity:1; fill:none\" points=\"\n",
       "  1716.59,1384.16 1716.59,1115.85 \n",
       "  \"/>\n",
       "<polyline clip-path=\"url(#clip433)\" style=\"stroke:#000000; stroke-linecap:round; stroke-linejoin:round; stroke-width:4; stroke-opacity:1; fill:none\" points=\"\n",
       "  1788.31,1380.41 1788.31,1085.96 \n",
       "  \"/>\n",
       "<polyline clip-path=\"url(#clip433)\" style=\"stroke:#000000; stroke-linecap:round; stroke-linejoin:round; stroke-width:4; stroke-opacity:1; fill:none\" points=\"\n",
       "  1860.03,1373.61 1860.03,1059.47 \n",
       "  \"/>\n",
       "<polyline clip-path=\"url(#clip433)\" style=\"stroke:#000000; stroke-linecap:round; stroke-linejoin:round; stroke-width:4; stroke-opacity:1; fill:none\" points=\"\n",
       "  1931.75,1364.77 1931.75,1036.2 \n",
       "  \"/>\n",
       "<polyline clip-path=\"url(#clip433)\" style=\"stroke:#000000; stroke-linecap:round; stroke-linejoin:round; stroke-width:4; stroke-opacity:1; fill:none\" points=\"\n",
       "  2003.48,1353.57 2003.48,1017.07 \n",
       "  \"/>\n",
       "<polyline clip-path=\"url(#clip433)\" style=\"stroke:#000000; stroke-linecap:round; stroke-linejoin:round; stroke-width:4; stroke-opacity:1; fill:none\" points=\"\n",
       "  2075.2,1341.02 2075.2,1001.61 \n",
       "  \"/>\n",
       "<polyline clip-path=\"url(#clip433)\" style=\"stroke:#000000; stroke-linecap:round; stroke-linejoin:round; stroke-width:4; stroke-opacity:1; fill:none\" points=\"\n",
       "  2146.92,1327.52 2146.92,989.775 \n",
       "  \"/>\n",
       "<polyline clip-path=\"url(#clip433)\" style=\"stroke:#000000; stroke-linecap:round; stroke-linejoin:round; stroke-width:4; stroke-opacity:1; fill:none\" points=\"\n",
       "  2218.64,1313.74 2218.64,981.217 \n",
       "  \"/>\n",
       "<polyline clip-path=\"url(#clip433)\" style=\"stroke:#000000; stroke-linecap:round; stroke-linejoin:round; stroke-width:4; stroke-opacity:1; fill:none\" points=\"\n",
       "  2290.36,1300.47 2290.36,975.385 \n",
       "  \"/>\n",
       "<line clip-path=\"url(#clip433)\" x1=\"226.454\" y1=\"906.876\" x2=\"194.454\" y2=\"906.876\" style=\"stroke:#000000; stroke-width:3.2; stroke-opacity:1\"/>\n",
       "<line clip-path=\"url(#clip433)\" x1=\"226.454\" y1=\"906.876\" x2=\"194.454\" y2=\"906.876\" style=\"stroke:#000000; stroke-width:3.2; stroke-opacity:1\"/>\n",
       "<line clip-path=\"url(#clip433)\" x1=\"298.175\" y1=\"926.773\" x2=\"266.175\" y2=\"926.773\" style=\"stroke:#000000; stroke-width:3.2; stroke-opacity:1\"/>\n",
       "<line clip-path=\"url(#clip433)\" x1=\"298.175\" y1=\"908.111\" x2=\"266.175\" y2=\"908.111\" style=\"stroke:#000000; stroke-width:3.2; stroke-opacity:1\"/>\n",
       "<line clip-path=\"url(#clip433)\" x1=\"369.895\" y1=\"933.539\" x2=\"337.895\" y2=\"933.539\" style=\"stroke:#000000; stroke-width:3.2; stroke-opacity:1\"/>\n",
       "<line clip-path=\"url(#clip433)\" x1=\"369.895\" y1=\"922.068\" x2=\"337.895\" y2=\"922.068\" style=\"stroke:#000000; stroke-width:3.2; stroke-opacity:1\"/>\n",
       "<line clip-path=\"url(#clip433)\" x1=\"441.616\" y1=\"956.242\" x2=\"409.616\" y2=\"956.242\" style=\"stroke:#000000; stroke-width:3.2; stroke-opacity:1\"/>\n",
       "<line clip-path=\"url(#clip433)\" x1=\"441.616\" y1=\"948.972\" x2=\"409.616\" y2=\"948.972\" style=\"stroke:#000000; stroke-width:3.2; stroke-opacity:1\"/>\n",
       "<line clip-path=\"url(#clip433)\" x1=\"513.337\" y1=\"1005.2\" x2=\"481.337\" y2=\"1005.2\" style=\"stroke:#000000; stroke-width:3.2; stroke-opacity:1\"/>\n",
       "<line clip-path=\"url(#clip433)\" x1=\"513.337\" y1=\"979.502\" x2=\"481.337\" y2=\"979.502\" style=\"stroke:#000000; stroke-width:3.2; stroke-opacity:1\"/>\n",
       "<line clip-path=\"url(#clip433)\" x1=\"585.058\" y1=\"1075\" x2=\"553.058\" y2=\"1075\" style=\"stroke:#000000; stroke-width:3.2; stroke-opacity:1\"/>\n",
       "<line clip-path=\"url(#clip433)\" x1=\"585.058\" y1=\"1006.96\" x2=\"553.058\" y2=\"1006.96\" style=\"stroke:#000000; stroke-width:3.2; stroke-opacity:1\"/>\n",
       "<line clip-path=\"url(#clip433)\" x1=\"656.779\" y1=\"1153.26\" x2=\"624.779\" y2=\"1153.26\" style=\"stroke:#000000; stroke-width:3.2; stroke-opacity:1\"/>\n",
       "<line clip-path=\"url(#clip433)\" x1=\"656.779\" y1=\"1031.78\" x2=\"624.779\" y2=\"1031.78\" style=\"stroke:#000000; stroke-width:3.2; stroke-opacity:1\"/>\n",
       "<line clip-path=\"url(#clip433)\" x1=\"728.5\" y1=\"1228.14\" x2=\"696.5\" y2=\"1228.14\" style=\"stroke:#000000; stroke-width:3.2; stroke-opacity:1\"/>\n",
       "<line clip-path=\"url(#clip433)\" x1=\"728.5\" y1=\"1057.41\" x2=\"696.5\" y2=\"1057.41\" style=\"stroke:#000000; stroke-width:3.2; stroke-opacity:1\"/>\n",
       "<line clip-path=\"url(#clip433)\" x1=\"800.221\" y1=\"1289.62\" x2=\"768.221\" y2=\"1289.62\" style=\"stroke:#000000; stroke-width:3.2; stroke-opacity:1\"/>\n",
       "<line clip-path=\"url(#clip433)\" x1=\"800.221\" y1=\"1087.96\" x2=\"768.221\" y2=\"1087.96\" style=\"stroke:#000000; stroke-width:3.2; stroke-opacity:1\"/>\n",
       "<line clip-path=\"url(#clip433)\" x1=\"871.941\" y1=\"1333.61\" x2=\"839.941\" y2=\"1333.61\" style=\"stroke:#000000; stroke-width:3.2; stroke-opacity:1\"/>\n",
       "<line clip-path=\"url(#clip433)\" x1=\"871.941\" y1=\"1123.89\" x2=\"839.941\" y2=\"1123.89\" style=\"stroke:#000000; stroke-width:3.2; stroke-opacity:1\"/>\n",
       "<line clip-path=\"url(#clip433)\" x1=\"943.662\" y1=\"1360.33\" x2=\"911.662\" y2=\"1360.33\" style=\"stroke:#000000; stroke-width:3.2; stroke-opacity:1\"/>\n",
       "<line clip-path=\"url(#clip433)\" x1=\"943.662\" y1=\"1162.59\" x2=\"911.662\" y2=\"1162.59\" style=\"stroke:#000000; stroke-width:3.2; stroke-opacity:1\"/>\n",
       "<line clip-path=\"url(#clip433)\" x1=\"1015.38\" y1=\"1374.03\" x2=\"983.383\" y2=\"1374.03\" style=\"stroke:#000000; stroke-width:3.2; stroke-opacity:1\"/>\n",
       "<line clip-path=\"url(#clip433)\" x1=\"1015.38\" y1=\"1199.5\" x2=\"983.383\" y2=\"1199.5\" style=\"stroke:#000000; stroke-width:3.2; stroke-opacity:1\"/>\n",
       "<line clip-path=\"url(#clip433)\" x1=\"1087.1\" y1=\"1378.44\" x2=\"1055.1\" y2=\"1378.44\" style=\"stroke:#000000; stroke-width:3.2; stroke-opacity:1\"/>\n",
       "<line clip-path=\"url(#clip433)\" x1=\"1087.1\" y1=\"1230.75\" x2=\"1055.1\" y2=\"1230.75\" style=\"stroke:#000000; stroke-width:3.2; stroke-opacity:1\"/>\n",
       "<line clip-path=\"url(#clip433)\" x1=\"1158.82\" y1=\"1377.57\" x2=\"1126.82\" y2=\"1377.57\" style=\"stroke:#000000; stroke-width:3.2; stroke-opacity:1\"/>\n",
       "<line clip-path=\"url(#clip433)\" x1=\"1158.82\" y1=\"1253.48\" x2=\"1126.82\" y2=\"1253.48\" style=\"stroke:#000000; stroke-width:3.2; stroke-opacity:1\"/>\n",
       "<line clip-path=\"url(#clip433)\" x1=\"1230.55\" y1=\"1375.35\" x2=\"1198.55\" y2=\"1375.35\" style=\"stroke:#000000; stroke-width:3.2; stroke-opacity:1\"/>\n",
       "<line clip-path=\"url(#clip433)\" x1=\"1230.55\" y1=\"1265.63\" x2=\"1198.55\" y2=\"1265.63\" style=\"stroke:#000000; stroke-width:3.2; stroke-opacity:1\"/>\n",
       "<line clip-path=\"url(#clip433)\" x1=\"1302.27\" y1=\"1374.49\" x2=\"1270.27\" y2=\"1374.49\" style=\"stroke:#000000; stroke-width:3.2; stroke-opacity:1\"/>\n",
       "<line clip-path=\"url(#clip433)\" x1=\"1302.27\" y1=\"1266.14\" x2=\"1270.27\" y2=\"1266.14\" style=\"stroke:#000000; stroke-width:3.2; stroke-opacity:1\"/>\n",
       "<line clip-path=\"url(#clip433)\" x1=\"1373.99\" y1=\"1375.54\" x2=\"1341.99\" y2=\"1375.54\" style=\"stroke:#000000; stroke-width:3.2; stroke-opacity:1\"/>\n",
       "<line clip-path=\"url(#clip433)\" x1=\"1373.99\" y1=\"1255.65\" x2=\"1341.99\" y2=\"1255.65\" style=\"stroke:#000000; stroke-width:3.2; stroke-opacity:1\"/>\n",
       "<line clip-path=\"url(#clip433)\" x1=\"1445.71\" y1=\"1377.85\" x2=\"1413.71\" y2=\"1377.85\" style=\"stroke:#000000; stroke-width:3.2; stroke-opacity:1\"/>\n",
       "<line clip-path=\"url(#clip433)\" x1=\"1445.71\" y1=\"1236.38\" x2=\"1413.71\" y2=\"1236.38\" style=\"stroke:#000000; stroke-width:3.2; stroke-opacity:1\"/>\n",
       "<line clip-path=\"url(#clip433)\" x1=\"1517.43\" y1=\"1380.95\" x2=\"1485.43\" y2=\"1380.95\" style=\"stroke:#000000; stroke-width:3.2; stroke-opacity:1\"/>\n",
       "<line clip-path=\"url(#clip433)\" x1=\"1517.43\" y1=\"1210.24\" x2=\"1485.43\" y2=\"1210.24\" style=\"stroke:#000000; stroke-width:3.2; stroke-opacity:1\"/>\n",
       "<line clip-path=\"url(#clip433)\" x1=\"1589.15\" y1=\"1383.74\" x2=\"1557.15\" y2=\"1383.74\" style=\"stroke:#000000; stroke-width:3.2; stroke-opacity:1\"/>\n",
       "<line clip-path=\"url(#clip433)\" x1=\"1589.15\" y1=\"1179.95\" x2=\"1557.15\" y2=\"1179.95\" style=\"stroke:#000000; stroke-width:3.2; stroke-opacity:1\"/>\n",
       "<line clip-path=\"url(#clip433)\" x1=\"1660.87\" y1=\"1385.13\" x2=\"1628.87\" y2=\"1385.13\" style=\"stroke:#000000; stroke-width:3.2; stroke-opacity:1\"/>\n",
       "<line clip-path=\"url(#clip433)\" x1=\"1660.87\" y1=\"1147.81\" x2=\"1628.87\" y2=\"1147.81\" style=\"stroke:#000000; stroke-width:3.2; stroke-opacity:1\"/>\n",
       "<line clip-path=\"url(#clip433)\" x1=\"1732.59\" y1=\"1384.16\" x2=\"1700.59\" y2=\"1384.16\" style=\"stroke:#000000; stroke-width:3.2; stroke-opacity:1\"/>\n",
       "<line clip-path=\"url(#clip433)\" x1=\"1732.59\" y1=\"1115.85\" x2=\"1700.59\" y2=\"1115.85\" style=\"stroke:#000000; stroke-width:3.2; stroke-opacity:1\"/>\n",
       "<line clip-path=\"url(#clip433)\" x1=\"1804.31\" y1=\"1380.41\" x2=\"1772.31\" y2=\"1380.41\" style=\"stroke:#000000; stroke-width:3.2; stroke-opacity:1\"/>\n",
       "<line clip-path=\"url(#clip433)\" x1=\"1804.31\" y1=\"1085.96\" x2=\"1772.31\" y2=\"1085.96\" style=\"stroke:#000000; stroke-width:3.2; stroke-opacity:1\"/>\n",
       "<line clip-path=\"url(#clip433)\" x1=\"1876.03\" y1=\"1373.61\" x2=\"1844.03\" y2=\"1373.61\" style=\"stroke:#000000; stroke-width:3.2; stroke-opacity:1\"/>\n",
       "<line clip-path=\"url(#clip433)\" x1=\"1876.03\" y1=\"1059.47\" x2=\"1844.03\" y2=\"1059.47\" style=\"stroke:#000000; stroke-width:3.2; stroke-opacity:1\"/>\n",
       "<line clip-path=\"url(#clip433)\" x1=\"1947.75\" y1=\"1364.77\" x2=\"1915.75\" y2=\"1364.77\" style=\"stroke:#000000; stroke-width:3.2; stroke-opacity:1\"/>\n",
       "<line clip-path=\"url(#clip433)\" x1=\"1947.75\" y1=\"1036.2\" x2=\"1915.75\" y2=\"1036.2\" style=\"stroke:#000000; stroke-width:3.2; stroke-opacity:1\"/>\n",
       "<line clip-path=\"url(#clip433)\" x1=\"2019.48\" y1=\"1353.57\" x2=\"1987.48\" y2=\"1353.57\" style=\"stroke:#000000; stroke-width:3.2; stroke-opacity:1\"/>\n",
       "<line clip-path=\"url(#clip433)\" x1=\"2019.48\" y1=\"1017.07\" x2=\"1987.48\" y2=\"1017.07\" style=\"stroke:#000000; stroke-width:3.2; stroke-opacity:1\"/>\n",
       "<line clip-path=\"url(#clip433)\" x1=\"2091.2\" y1=\"1341.02\" x2=\"2059.2\" y2=\"1341.02\" style=\"stroke:#000000; stroke-width:3.2; stroke-opacity:1\"/>\n",
       "<line clip-path=\"url(#clip433)\" x1=\"2091.2\" y1=\"1001.61\" x2=\"2059.2\" y2=\"1001.61\" style=\"stroke:#000000; stroke-width:3.2; stroke-opacity:1\"/>\n",
       "<line clip-path=\"url(#clip433)\" x1=\"2162.92\" y1=\"1327.52\" x2=\"2130.92\" y2=\"1327.52\" style=\"stroke:#000000; stroke-width:3.2; stroke-opacity:1\"/>\n",
       "<line clip-path=\"url(#clip433)\" x1=\"2162.92\" y1=\"989.775\" x2=\"2130.92\" y2=\"989.775\" style=\"stroke:#000000; stroke-width:3.2; stroke-opacity:1\"/>\n",
       "<line clip-path=\"url(#clip433)\" x1=\"2234.64\" y1=\"1313.74\" x2=\"2202.64\" y2=\"1313.74\" style=\"stroke:#000000; stroke-width:3.2; stroke-opacity:1\"/>\n",
       "<line clip-path=\"url(#clip433)\" x1=\"2234.64\" y1=\"981.217\" x2=\"2202.64\" y2=\"981.217\" style=\"stroke:#000000; stroke-width:3.2; stroke-opacity:1\"/>\n",
       "<line clip-path=\"url(#clip433)\" x1=\"2306.36\" y1=\"1300.47\" x2=\"2274.36\" y2=\"1300.47\" style=\"stroke:#000000; stroke-width:3.2; stroke-opacity:1\"/>\n",
       "<line clip-path=\"url(#clip433)\" x1=\"2306.36\" y1=\"975.385\" x2=\"2274.36\" y2=\"975.385\" style=\"stroke:#000000; stroke-width:3.2; stroke-opacity:1\"/>\n",
       "<circle clip-path=\"url(#clip433)\" cx=\"210.454\" cy=\"906.876\" r=\"14.4\" fill=\"#009af9\" fill-rule=\"evenodd\" fill-opacity=\"1\" stroke=\"#000000\" stroke-opacity=\"1\" stroke-width=\"3.2\"/>\n",
       "<circle clip-path=\"url(#clip433)\" cx=\"282.175\" cy=\"917.442\" r=\"14.4\" fill=\"#009af9\" fill-rule=\"evenodd\" fill-opacity=\"1\" stroke=\"#000000\" stroke-opacity=\"1\" stroke-width=\"3.2\"/>\n",
       "<circle clip-path=\"url(#clip433)\" cx=\"353.895\" cy=\"927.804\" r=\"14.4\" fill=\"#009af9\" fill-rule=\"evenodd\" fill-opacity=\"1\" stroke=\"#000000\" stroke-opacity=\"1\" stroke-width=\"3.2\"/>\n",
       "<circle clip-path=\"url(#clip433)\" cx=\"425.616\" cy=\"952.607\" r=\"14.4\" fill=\"#009af9\" fill-rule=\"evenodd\" fill-opacity=\"1\" stroke=\"#000000\" stroke-opacity=\"1\" stroke-width=\"3.2\"/>\n",
       "<circle clip-path=\"url(#clip433)\" cx=\"497.337\" cy=\"992.351\" r=\"14.4\" fill=\"#009af9\" fill-rule=\"evenodd\" fill-opacity=\"1\" stroke=\"#000000\" stroke-opacity=\"1\" stroke-width=\"3.2\"/>\n",
       "<circle clip-path=\"url(#clip433)\" cx=\"569.058\" cy=\"1040.98\" r=\"14.4\" fill=\"#009af9\" fill-rule=\"evenodd\" fill-opacity=\"1\" stroke=\"#000000\" stroke-opacity=\"1\" stroke-width=\"3.2\"/>\n",
       "<circle clip-path=\"url(#clip433)\" cx=\"640.779\" cy=\"1092.52\" r=\"14.4\" fill=\"#009af9\" fill-rule=\"evenodd\" fill-opacity=\"1\" stroke=\"#000000\" stroke-opacity=\"1\" stroke-width=\"3.2\"/>\n",
       "<circle clip-path=\"url(#clip433)\" cx=\"712.5\" cy=\"1142.78\" r=\"14.4\" fill=\"#009af9\" fill-rule=\"evenodd\" fill-opacity=\"1\" stroke=\"#000000\" stroke-opacity=\"1\" stroke-width=\"3.2\"/>\n",
       "<circle clip-path=\"url(#clip433)\" cx=\"784.221\" cy=\"1188.79\" r=\"14.4\" fill=\"#009af9\" fill-rule=\"evenodd\" fill-opacity=\"1\" stroke=\"#000000\" stroke-opacity=\"1\" stroke-width=\"3.2\"/>\n",
       "<circle clip-path=\"url(#clip433)\" cx=\"855.941\" cy=\"1228.75\" r=\"14.4\" fill=\"#009af9\" fill-rule=\"evenodd\" fill-opacity=\"1\" stroke=\"#000000\" stroke-opacity=\"1\" stroke-width=\"3.2\"/>\n",
       "<circle clip-path=\"url(#clip433)\" cx=\"927.662\" cy=\"1261.46\" r=\"14.4\" fill=\"#009af9\" fill-rule=\"evenodd\" fill-opacity=\"1\" stroke=\"#000000\" stroke-opacity=\"1\" stroke-width=\"3.2\"/>\n",
       "<circle clip-path=\"url(#clip433)\" cx=\"999.383\" cy=\"1286.76\" r=\"14.4\" fill=\"#009af9\" fill-rule=\"evenodd\" fill-opacity=\"1\" stroke=\"#000000\" stroke-opacity=\"1\" stroke-width=\"3.2\"/>\n",
       "<circle clip-path=\"url(#clip433)\" cx=\"1071.1\" cy=\"1304.6\" r=\"14.4\" fill=\"#009af9\" fill-rule=\"evenodd\" fill-opacity=\"1\" stroke=\"#000000\" stroke-opacity=\"1\" stroke-width=\"3.2\"/>\n",
       "<circle clip-path=\"url(#clip433)\" cx=\"1142.82\" cy=\"1315.52\" r=\"14.4\" fill=\"#009af9\" fill-rule=\"evenodd\" fill-opacity=\"1\" stroke=\"#000000\" stroke-opacity=\"1\" stroke-width=\"3.2\"/>\n",
       "<circle clip-path=\"url(#clip433)\" cx=\"1214.55\" cy=\"1320.49\" r=\"14.4\" fill=\"#009af9\" fill-rule=\"evenodd\" fill-opacity=\"1\" stroke=\"#000000\" stroke-opacity=\"1\" stroke-width=\"3.2\"/>\n",
       "<circle clip-path=\"url(#clip433)\" cx=\"1286.27\" cy=\"1320.32\" r=\"14.4\" fill=\"#009af9\" fill-rule=\"evenodd\" fill-opacity=\"1\" stroke=\"#000000\" stroke-opacity=\"1\" stroke-width=\"3.2\"/>\n",
       "<circle clip-path=\"url(#clip433)\" cx=\"1357.99\" cy=\"1315.59\" r=\"14.4\" fill=\"#009af9\" fill-rule=\"evenodd\" fill-opacity=\"1\" stroke=\"#000000\" stroke-opacity=\"1\" stroke-width=\"3.2\"/>\n",
       "<circle clip-path=\"url(#clip433)\" cx=\"1429.71\" cy=\"1307.12\" r=\"14.4\" fill=\"#009af9\" fill-rule=\"evenodd\" fill-opacity=\"1\" stroke=\"#000000\" stroke-opacity=\"1\" stroke-width=\"3.2\"/>\n",
       "<circle clip-path=\"url(#clip433)\" cx=\"1501.43\" cy=\"1295.59\" r=\"14.4\" fill=\"#009af9\" fill-rule=\"evenodd\" fill-opacity=\"1\" stroke=\"#000000\" stroke-opacity=\"1\" stroke-width=\"3.2\"/>\n",
       "<circle clip-path=\"url(#clip433)\" cx=\"1573.15\" cy=\"1281.85\" r=\"14.4\" fill=\"#009af9\" fill-rule=\"evenodd\" fill-opacity=\"1\" stroke=\"#000000\" stroke-opacity=\"1\" stroke-width=\"3.2\"/>\n",
       "<circle clip-path=\"url(#clip433)\" cx=\"1644.87\" cy=\"1266.47\" r=\"14.4\" fill=\"#009af9\" fill-rule=\"evenodd\" fill-opacity=\"1\" stroke=\"#000000\" stroke-opacity=\"1\" stroke-width=\"3.2\"/>\n",
       "<circle clip-path=\"url(#clip433)\" cx=\"1716.59\" cy=\"1250\" r=\"14.4\" fill=\"#009af9\" fill-rule=\"evenodd\" fill-opacity=\"1\" stroke=\"#000000\" stroke-opacity=\"1\" stroke-width=\"3.2\"/>\n",
       "<circle clip-path=\"url(#clip433)\" cx=\"1788.31\" cy=\"1233.19\" r=\"14.4\" fill=\"#009af9\" fill-rule=\"evenodd\" fill-opacity=\"1\" stroke=\"#000000\" stroke-opacity=\"1\" stroke-width=\"3.2\"/>\n",
       "<circle clip-path=\"url(#clip433)\" cx=\"1860.03\" cy=\"1216.54\" r=\"14.4\" fill=\"#009af9\" fill-rule=\"evenodd\" fill-opacity=\"1\" stroke=\"#000000\" stroke-opacity=\"1\" stroke-width=\"3.2\"/>\n",
       "<circle clip-path=\"url(#clip433)\" cx=\"1931.75\" cy=\"1200.49\" r=\"14.4\" fill=\"#009af9\" fill-rule=\"evenodd\" fill-opacity=\"1\" stroke=\"#000000\" stroke-opacity=\"1\" stroke-width=\"3.2\"/>\n",
       "<circle clip-path=\"url(#clip433)\" cx=\"2003.48\" cy=\"1185.32\" r=\"14.4\" fill=\"#009af9\" fill-rule=\"evenodd\" fill-opacity=\"1\" stroke=\"#000000\" stroke-opacity=\"1\" stroke-width=\"3.2\"/>\n",
       "<circle clip-path=\"url(#clip433)\" cx=\"2075.2\" cy=\"1171.32\" r=\"14.4\" fill=\"#009af9\" fill-rule=\"evenodd\" fill-opacity=\"1\" stroke=\"#000000\" stroke-opacity=\"1\" stroke-width=\"3.2\"/>\n",
       "<circle clip-path=\"url(#clip433)\" cx=\"2146.92\" cy=\"1158.65\" r=\"14.4\" fill=\"#009af9\" fill-rule=\"evenodd\" fill-opacity=\"1\" stroke=\"#000000\" stroke-opacity=\"1\" stroke-width=\"3.2\"/>\n",
       "<circle clip-path=\"url(#clip433)\" cx=\"2218.64\" cy=\"1147.48\" r=\"14.4\" fill=\"#009af9\" fill-rule=\"evenodd\" fill-opacity=\"1\" stroke=\"#000000\" stroke-opacity=\"1\" stroke-width=\"3.2\"/>\n",
       "<circle clip-path=\"url(#clip433)\" cx=\"2290.36\" cy=\"1137.93\" r=\"14.4\" fill=\"#009af9\" fill-rule=\"evenodd\" fill-opacity=\"1\" stroke=\"#000000\" stroke-opacity=\"1\" stroke-width=\"3.2\"/>\n",
       "<polyline clip-path=\"url(#clip433)\" style=\"stroke:#000000; stroke-linecap:round; stroke-linejoin:round; stroke-width:4; stroke-opacity:1; fill:none\" points=\"\n",
       "  210.454,1158.28 210.454,1158.28 \n",
       "  \"/>\n",
       "<polyline clip-path=\"url(#clip433)\" style=\"stroke:#000000; stroke-linecap:round; stroke-linejoin:round; stroke-width:4; stroke-opacity:1; fill:none\" points=\"\n",
       "  282.175,1098.61 282.175,1085.11 \n",
       "  \"/>\n",
       "<polyline clip-path=\"url(#clip433)\" style=\"stroke:#000000; stroke-linecap:round; stroke-linejoin:round; stroke-width:4; stroke-opacity:1; fill:none\" points=\"\n",
       "  353.895,1052.4 353.895,1010.12 \n",
       "  \"/>\n",
       "<polyline clip-path=\"url(#clip433)\" style=\"stroke:#000000; stroke-linecap:round; stroke-linejoin:round; stroke-width:4; stroke-opacity:1; fill:none\" points=\"\n",
       "  425.616,1012.79 425.616,956.764 \n",
       "  \"/>\n",
       "<polyline clip-path=\"url(#clip433)\" style=\"stroke:#000000; stroke-linecap:round; stroke-linejoin:round; stroke-width:4; stroke-opacity:1; fill:none\" points=\"\n",
       "  497.337,980.998 497.337,931.589 \n",
       "  \"/>\n",
       "<polyline clip-path=\"url(#clip433)\" style=\"stroke:#000000; stroke-linecap:round; stroke-linejoin:round; stroke-width:4; stroke-opacity:1; fill:none\" points=\"\n",
       "  569.058,960.813 569.058,923.809 \n",
       "  \"/>\n",
       "<polyline clip-path=\"url(#clip433)\" style=\"stroke:#000000; stroke-linecap:round; stroke-linejoin:round; stroke-width:4; stroke-opacity:1; fill:none\" points=\"\n",
       "  640.779,951.447 640.779,924.718 \n",
       "  \"/>\n",
       "<polyline clip-path=\"url(#clip433)\" style=\"stroke:#000000; stroke-linecap:round; stroke-linejoin:round; stroke-width:4; stroke-opacity:1; fill:none\" points=\"\n",
       "  712.5,951.233 712.5,929.566 \n",
       "  \"/>\n",
       "<polyline clip-path=\"url(#clip433)\" style=\"stroke:#000000; stroke-linecap:round; stroke-linejoin:round; stroke-width:4; stroke-opacity:1; fill:none\" points=\"\n",
       "  784.221,961.735 784.221,935.573 \n",
       "  \"/>\n",
       "<polyline clip-path=\"url(#clip433)\" style=\"stroke:#000000; stroke-linecap:round; stroke-linejoin:round; stroke-width:4; stroke-opacity:1; fill:none\" points=\"\n",
       "  855.941,985.712 855.941,940.188 \n",
       "  \"/>\n",
       "<polyline clip-path=\"url(#clip433)\" style=\"stroke:#000000; stroke-linecap:round; stroke-linejoin:round; stroke-width:4; stroke-opacity:1; fill:none\" points=\"\n",
       "  927.662,1024.34 927.662,941.598 \n",
       "  \"/>\n",
       "<polyline clip-path=\"url(#clip433)\" style=\"stroke:#000000; stroke-linecap:round; stroke-linejoin:round; stroke-width:4; stroke-opacity:1; fill:none\" points=\"\n",
       "  999.383,1074.9 999.383,941.026 \n",
       "  \"/>\n",
       "<polyline clip-path=\"url(#clip433)\" style=\"stroke:#000000; stroke-linecap:round; stroke-linejoin:round; stroke-width:4; stroke-opacity:1; fill:none\" points=\"\n",
       "  1071.1,1131.66 1071.1,941.27 \n",
       "  \"/>\n",
       "<polyline clip-path=\"url(#clip433)\" style=\"stroke:#000000; stroke-linecap:round; stroke-linejoin:round; stroke-width:4; stroke-opacity:1; fill:none\" points=\"\n",
       "  1142.82,1188.43 1142.82,944.998 \n",
       "  \"/>\n",
       "<polyline clip-path=\"url(#clip433)\" style=\"stroke:#000000; stroke-linecap:round; stroke-linejoin:round; stroke-width:4; stroke-opacity:1; fill:none\" points=\"\n",
       "  1214.55,1240.07 1214.55,953.983 \n",
       "  \"/>\n",
       "<polyline clip-path=\"url(#clip433)\" style=\"stroke:#000000; stroke-linecap:round; stroke-linejoin:round; stroke-width:4; stroke-opacity:1; fill:none\" points=\"\n",
       "  1286.27,1283.58 1286.27,969.238 \n",
       "  \"/>\n",
       "<polyline clip-path=\"url(#clip433)\" style=\"stroke:#000000; stroke-linecap:round; stroke-linejoin:round; stroke-width:4; stroke-opacity:1; fill:none\" points=\"\n",
       "  1357.99,1318.02 1357.99,989.635 \n",
       "  \"/>\n",
       "<polyline clip-path=\"url(#clip433)\" style=\"stroke:#000000; stroke-linecap:round; stroke-linejoin:round; stroke-width:4; stroke-opacity:1; fill:none\" points=\"\n",
       "  1429.71,1342.93 1429.71,1014.22 \n",
       "  \"/>\n",
       "<polyline clip-path=\"url(#clip433)\" style=\"stroke:#000000; stroke-linecap:round; stroke-linejoin:round; stroke-width:4; stroke-opacity:1; fill:none\" points=\"\n",
       "  1501.43,1359.1 1501.43,1040.8 \n",
       "  \"/>\n",
       "<polyline clip-path=\"url(#clip433)\" style=\"stroke:#000000; stroke-linecap:round; stroke-linejoin:round; stroke-width:4; stroke-opacity:1; fill:none\" points=\"\n",
       "  1573.15,1368.21 1573.15,1067.4 \n",
       "  \"/>\n",
       "<polyline clip-path=\"url(#clip433)\" style=\"stroke:#000000; stroke-linecap:round; stroke-linejoin:round; stroke-width:4; stroke-opacity:1; fill:none\" points=\"\n",
       "  1644.87,1372.37 1644.87,1091.62 \n",
       "  \"/>\n",
       "<polyline clip-path=\"url(#clip433)\" style=\"stroke:#000000; stroke-linecap:round; stroke-linejoin:round; stroke-width:4; stroke-opacity:1; fill:none\" points=\"\n",
       "  1716.59,1373.65 1716.59,1111.75 \n",
       "  \"/>\n",
       "<polyline clip-path=\"url(#clip433)\" style=\"stroke:#000000; stroke-linecap:round; stroke-linejoin:round; stroke-width:4; stroke-opacity:1; fill:none\" points=\"\n",
       "  1788.31,1372.94 1788.31,1127.27 \n",
       "  \"/>\n",
       "<polyline clip-path=\"url(#clip433)\" style=\"stroke:#000000; stroke-linecap:round; stroke-linejoin:round; stroke-width:4; stroke-opacity:1; fill:none\" points=\"\n",
       "  1860.03,1371.94 1860.03,1137.33 \n",
       "  \"/>\n",
       "<polyline clip-path=\"url(#clip433)\" style=\"stroke:#000000; stroke-linecap:round; stroke-linejoin:round; stroke-width:4; stroke-opacity:1; fill:none\" points=\"\n",
       "  1931.75,1370.55 1931.75,1142.47 \n",
       "  \"/>\n",
       "<polyline clip-path=\"url(#clip433)\" style=\"stroke:#000000; stroke-linecap:round; stroke-linejoin:round; stroke-width:4; stroke-opacity:1; fill:none\" points=\"\n",
       "  2003.48,1369.64 2003.48,1142.58 \n",
       "  \"/>\n",
       "<polyline clip-path=\"url(#clip433)\" style=\"stroke:#000000; stroke-linecap:round; stroke-linejoin:round; stroke-width:4; stroke-opacity:1; fill:none\" points=\"\n",
       "  2075.2,1369.33 2075.2,1138.26 \n",
       "  \"/>\n",
       "<polyline clip-path=\"url(#clip433)\" style=\"stroke:#000000; stroke-linecap:round; stroke-linejoin:round; stroke-width:4; stroke-opacity:1; fill:none\" points=\"\n",
       "  2146.92,1368.71 2146.92,1130.94 \n",
       "  \"/>\n",
       "<polyline clip-path=\"url(#clip433)\" style=\"stroke:#000000; stroke-linecap:round; stroke-linejoin:round; stroke-width:4; stroke-opacity:1; fill:none\" points=\"\n",
       "  2218.64,1367.72 2218.64,1121.43 \n",
       "  \"/>\n",
       "<polyline clip-path=\"url(#clip433)\" style=\"stroke:#000000; stroke-linecap:round; stroke-linejoin:round; stroke-width:4; stroke-opacity:1; fill:none\" points=\"\n",
       "  2290.36,1365.75 2290.36,1110.8 \n",
       "  \"/>\n",
       "<line clip-path=\"url(#clip433)\" x1=\"226.454\" y1=\"1158.28\" x2=\"194.454\" y2=\"1158.28\" style=\"stroke:#000000; stroke-width:3.2; stroke-opacity:1\"/>\n",
       "<line clip-path=\"url(#clip433)\" x1=\"226.454\" y1=\"1158.28\" x2=\"194.454\" y2=\"1158.28\" style=\"stroke:#000000; stroke-width:3.2; stroke-opacity:1\"/>\n",
       "<line clip-path=\"url(#clip433)\" x1=\"298.175\" y1=\"1098.61\" x2=\"266.175\" y2=\"1098.61\" style=\"stroke:#000000; stroke-width:3.2; stroke-opacity:1\"/>\n",
       "<line clip-path=\"url(#clip433)\" x1=\"298.175\" y1=\"1085.11\" x2=\"266.175\" y2=\"1085.11\" style=\"stroke:#000000; stroke-width:3.2; stroke-opacity:1\"/>\n",
       "<line clip-path=\"url(#clip433)\" x1=\"369.895\" y1=\"1052.4\" x2=\"337.895\" y2=\"1052.4\" style=\"stroke:#000000; stroke-width:3.2; stroke-opacity:1\"/>\n",
       "<line clip-path=\"url(#clip433)\" x1=\"369.895\" y1=\"1010.12\" x2=\"337.895\" y2=\"1010.12\" style=\"stroke:#000000; stroke-width:3.2; stroke-opacity:1\"/>\n",
       "<line clip-path=\"url(#clip433)\" x1=\"441.616\" y1=\"1012.79\" x2=\"409.616\" y2=\"1012.79\" style=\"stroke:#000000; stroke-width:3.2; stroke-opacity:1\"/>\n",
       "<line clip-path=\"url(#clip433)\" x1=\"441.616\" y1=\"956.764\" x2=\"409.616\" y2=\"956.764\" style=\"stroke:#000000; stroke-width:3.2; stroke-opacity:1\"/>\n",
       "<line clip-path=\"url(#clip433)\" x1=\"513.337\" y1=\"980.998\" x2=\"481.337\" y2=\"980.998\" style=\"stroke:#000000; stroke-width:3.2; stroke-opacity:1\"/>\n",
       "<line clip-path=\"url(#clip433)\" x1=\"513.337\" y1=\"931.589\" x2=\"481.337\" y2=\"931.589\" style=\"stroke:#000000; stroke-width:3.2; stroke-opacity:1\"/>\n",
       "<line clip-path=\"url(#clip433)\" x1=\"585.058\" y1=\"960.813\" x2=\"553.058\" y2=\"960.813\" style=\"stroke:#000000; stroke-width:3.2; stroke-opacity:1\"/>\n",
       "<line clip-path=\"url(#clip433)\" x1=\"585.058\" y1=\"923.809\" x2=\"553.058\" y2=\"923.809\" style=\"stroke:#000000; stroke-width:3.2; stroke-opacity:1\"/>\n",
       "<line clip-path=\"url(#clip433)\" x1=\"656.779\" y1=\"951.447\" x2=\"624.779\" y2=\"951.447\" style=\"stroke:#000000; stroke-width:3.2; stroke-opacity:1\"/>\n",
       "<line clip-path=\"url(#clip433)\" x1=\"656.779\" y1=\"924.718\" x2=\"624.779\" y2=\"924.718\" style=\"stroke:#000000; stroke-width:3.2; stroke-opacity:1\"/>\n",
       "<line clip-path=\"url(#clip433)\" x1=\"728.5\" y1=\"951.233\" x2=\"696.5\" y2=\"951.233\" style=\"stroke:#000000; stroke-width:3.2; stroke-opacity:1\"/>\n",
       "<line clip-path=\"url(#clip433)\" x1=\"728.5\" y1=\"929.566\" x2=\"696.5\" y2=\"929.566\" style=\"stroke:#000000; stroke-width:3.2; stroke-opacity:1\"/>\n",
       "<line clip-path=\"url(#clip433)\" x1=\"800.221\" y1=\"961.735\" x2=\"768.221\" y2=\"961.735\" style=\"stroke:#000000; stroke-width:3.2; stroke-opacity:1\"/>\n",
       "<line clip-path=\"url(#clip433)\" x1=\"800.221\" y1=\"935.573\" x2=\"768.221\" y2=\"935.573\" style=\"stroke:#000000; stroke-width:3.2; stroke-opacity:1\"/>\n",
       "<line clip-path=\"url(#clip433)\" x1=\"871.941\" y1=\"985.712\" x2=\"839.941\" y2=\"985.712\" style=\"stroke:#000000; stroke-width:3.2; stroke-opacity:1\"/>\n",
       "<line clip-path=\"url(#clip433)\" x1=\"871.941\" y1=\"940.188\" x2=\"839.941\" y2=\"940.188\" style=\"stroke:#000000; stroke-width:3.2; stroke-opacity:1\"/>\n",
       "<line clip-path=\"url(#clip433)\" x1=\"943.662\" y1=\"1024.34\" x2=\"911.662\" y2=\"1024.34\" style=\"stroke:#000000; stroke-width:3.2; stroke-opacity:1\"/>\n",
       "<line clip-path=\"url(#clip433)\" x1=\"943.662\" y1=\"941.598\" x2=\"911.662\" y2=\"941.598\" style=\"stroke:#000000; stroke-width:3.2; stroke-opacity:1\"/>\n",
       "<line clip-path=\"url(#clip433)\" x1=\"1015.38\" y1=\"1074.9\" x2=\"983.383\" y2=\"1074.9\" style=\"stroke:#000000; stroke-width:3.2; stroke-opacity:1\"/>\n",
       "<line clip-path=\"url(#clip433)\" x1=\"1015.38\" y1=\"941.026\" x2=\"983.383\" y2=\"941.026\" style=\"stroke:#000000; stroke-width:3.2; stroke-opacity:1\"/>\n",
       "<line clip-path=\"url(#clip433)\" x1=\"1087.1\" y1=\"1131.66\" x2=\"1055.1\" y2=\"1131.66\" style=\"stroke:#000000; stroke-width:3.2; stroke-opacity:1\"/>\n",
       "<line clip-path=\"url(#clip433)\" x1=\"1087.1\" y1=\"941.27\" x2=\"1055.1\" y2=\"941.27\" style=\"stroke:#000000; stroke-width:3.2; stroke-opacity:1\"/>\n",
       "<line clip-path=\"url(#clip433)\" x1=\"1158.82\" y1=\"1188.43\" x2=\"1126.82\" y2=\"1188.43\" style=\"stroke:#000000; stroke-width:3.2; stroke-opacity:1\"/>\n",
       "<line clip-path=\"url(#clip433)\" x1=\"1158.82\" y1=\"944.998\" x2=\"1126.82\" y2=\"944.998\" style=\"stroke:#000000; stroke-width:3.2; stroke-opacity:1\"/>\n",
       "<line clip-path=\"url(#clip433)\" x1=\"1230.55\" y1=\"1240.07\" x2=\"1198.55\" y2=\"1240.07\" style=\"stroke:#000000; stroke-width:3.2; stroke-opacity:1\"/>\n",
       "<line clip-path=\"url(#clip433)\" x1=\"1230.55\" y1=\"953.983\" x2=\"1198.55\" y2=\"953.983\" style=\"stroke:#000000; stroke-width:3.2; stroke-opacity:1\"/>\n",
       "<line clip-path=\"url(#clip433)\" x1=\"1302.27\" y1=\"1283.58\" x2=\"1270.27\" y2=\"1283.58\" style=\"stroke:#000000; stroke-width:3.2; stroke-opacity:1\"/>\n",
       "<line clip-path=\"url(#clip433)\" x1=\"1302.27\" y1=\"969.238\" x2=\"1270.27\" y2=\"969.238\" style=\"stroke:#000000; stroke-width:3.2; stroke-opacity:1\"/>\n",
       "<line clip-path=\"url(#clip433)\" x1=\"1373.99\" y1=\"1318.02\" x2=\"1341.99\" y2=\"1318.02\" style=\"stroke:#000000; stroke-width:3.2; stroke-opacity:1\"/>\n",
       "<line clip-path=\"url(#clip433)\" x1=\"1373.99\" y1=\"989.635\" x2=\"1341.99\" y2=\"989.635\" style=\"stroke:#000000; stroke-width:3.2; stroke-opacity:1\"/>\n",
       "<line clip-path=\"url(#clip433)\" x1=\"1445.71\" y1=\"1342.93\" x2=\"1413.71\" y2=\"1342.93\" style=\"stroke:#000000; stroke-width:3.2; stroke-opacity:1\"/>\n",
       "<line clip-path=\"url(#clip433)\" x1=\"1445.71\" y1=\"1014.22\" x2=\"1413.71\" y2=\"1014.22\" style=\"stroke:#000000; stroke-width:3.2; stroke-opacity:1\"/>\n",
       "<line clip-path=\"url(#clip433)\" x1=\"1517.43\" y1=\"1359.1\" x2=\"1485.43\" y2=\"1359.1\" style=\"stroke:#000000; stroke-width:3.2; stroke-opacity:1\"/>\n",
       "<line clip-path=\"url(#clip433)\" x1=\"1517.43\" y1=\"1040.8\" x2=\"1485.43\" y2=\"1040.8\" style=\"stroke:#000000; stroke-width:3.2; stroke-opacity:1\"/>\n",
       "<line clip-path=\"url(#clip433)\" x1=\"1589.15\" y1=\"1368.21\" x2=\"1557.15\" y2=\"1368.21\" style=\"stroke:#000000; stroke-width:3.2; stroke-opacity:1\"/>\n",
       "<line clip-path=\"url(#clip433)\" x1=\"1589.15\" y1=\"1067.4\" x2=\"1557.15\" y2=\"1067.4\" style=\"stroke:#000000; stroke-width:3.2; stroke-opacity:1\"/>\n",
       "<line clip-path=\"url(#clip433)\" x1=\"1660.87\" y1=\"1372.37\" x2=\"1628.87\" y2=\"1372.37\" style=\"stroke:#000000; stroke-width:3.2; stroke-opacity:1\"/>\n",
       "<line clip-path=\"url(#clip433)\" x1=\"1660.87\" y1=\"1091.62\" x2=\"1628.87\" y2=\"1091.62\" style=\"stroke:#000000; stroke-width:3.2; stroke-opacity:1\"/>\n",
       "<line clip-path=\"url(#clip433)\" x1=\"1732.59\" y1=\"1373.65\" x2=\"1700.59\" y2=\"1373.65\" style=\"stroke:#000000; stroke-width:3.2; stroke-opacity:1\"/>\n",
       "<line clip-path=\"url(#clip433)\" x1=\"1732.59\" y1=\"1111.75\" x2=\"1700.59\" y2=\"1111.75\" style=\"stroke:#000000; stroke-width:3.2; stroke-opacity:1\"/>\n",
       "<line clip-path=\"url(#clip433)\" x1=\"1804.31\" y1=\"1372.94\" x2=\"1772.31\" y2=\"1372.94\" style=\"stroke:#000000; stroke-width:3.2; stroke-opacity:1\"/>\n",
       "<line clip-path=\"url(#clip433)\" x1=\"1804.31\" y1=\"1127.27\" x2=\"1772.31\" y2=\"1127.27\" style=\"stroke:#000000; stroke-width:3.2; stroke-opacity:1\"/>\n",
       "<line clip-path=\"url(#clip433)\" x1=\"1876.03\" y1=\"1371.94\" x2=\"1844.03\" y2=\"1371.94\" style=\"stroke:#000000; stroke-width:3.2; stroke-opacity:1\"/>\n",
       "<line clip-path=\"url(#clip433)\" x1=\"1876.03\" y1=\"1137.33\" x2=\"1844.03\" y2=\"1137.33\" style=\"stroke:#000000; stroke-width:3.2; stroke-opacity:1\"/>\n",
       "<line clip-path=\"url(#clip433)\" x1=\"1947.75\" y1=\"1370.55\" x2=\"1915.75\" y2=\"1370.55\" style=\"stroke:#000000; stroke-width:3.2; stroke-opacity:1\"/>\n",
       "<line clip-path=\"url(#clip433)\" x1=\"1947.75\" y1=\"1142.47\" x2=\"1915.75\" y2=\"1142.47\" style=\"stroke:#000000; stroke-width:3.2; stroke-opacity:1\"/>\n",
       "<line clip-path=\"url(#clip433)\" x1=\"2019.48\" y1=\"1369.64\" x2=\"1987.48\" y2=\"1369.64\" style=\"stroke:#000000; stroke-width:3.2; stroke-opacity:1\"/>\n",
       "<line clip-path=\"url(#clip433)\" x1=\"2019.48\" y1=\"1142.58\" x2=\"1987.48\" y2=\"1142.58\" style=\"stroke:#000000; stroke-width:3.2; stroke-opacity:1\"/>\n",
       "<line clip-path=\"url(#clip433)\" x1=\"2091.2\" y1=\"1369.33\" x2=\"2059.2\" y2=\"1369.33\" style=\"stroke:#000000; stroke-width:3.2; stroke-opacity:1\"/>\n",
       "<line clip-path=\"url(#clip433)\" x1=\"2091.2\" y1=\"1138.26\" x2=\"2059.2\" y2=\"1138.26\" style=\"stroke:#000000; stroke-width:3.2; stroke-opacity:1\"/>\n",
       "<line clip-path=\"url(#clip433)\" x1=\"2162.92\" y1=\"1368.71\" x2=\"2130.92\" y2=\"1368.71\" style=\"stroke:#000000; stroke-width:3.2; stroke-opacity:1\"/>\n",
       "<line clip-path=\"url(#clip433)\" x1=\"2162.92\" y1=\"1130.94\" x2=\"2130.92\" y2=\"1130.94\" style=\"stroke:#000000; stroke-width:3.2; stroke-opacity:1\"/>\n",
       "<line clip-path=\"url(#clip433)\" x1=\"2234.64\" y1=\"1367.72\" x2=\"2202.64\" y2=\"1367.72\" style=\"stroke:#000000; stroke-width:3.2; stroke-opacity:1\"/>\n",
       "<line clip-path=\"url(#clip433)\" x1=\"2234.64\" y1=\"1121.43\" x2=\"2202.64\" y2=\"1121.43\" style=\"stroke:#000000; stroke-width:3.2; stroke-opacity:1\"/>\n",
       "<line clip-path=\"url(#clip433)\" x1=\"2306.36\" y1=\"1365.75\" x2=\"2274.36\" y2=\"1365.75\" style=\"stroke:#000000; stroke-width:3.2; stroke-opacity:1\"/>\n",
       "<line clip-path=\"url(#clip433)\" x1=\"2306.36\" y1=\"1110.8\" x2=\"2274.36\" y2=\"1110.8\" style=\"stroke:#000000; stroke-width:3.2; stroke-opacity:1\"/>\n",
       "<circle clip-path=\"url(#clip433)\" cx=\"210.454\" cy=\"1158.28\" r=\"14.4\" fill=\"#e26f46\" fill-rule=\"evenodd\" fill-opacity=\"1\" stroke=\"#000000\" stroke-opacity=\"1\" stroke-width=\"3.2\"/>\n",
       "<circle clip-path=\"url(#clip433)\" cx=\"282.175\" cy=\"1091.86\" r=\"14.4\" fill=\"#e26f46\" fill-rule=\"evenodd\" fill-opacity=\"1\" stroke=\"#000000\" stroke-opacity=\"1\" stroke-width=\"3.2\"/>\n",
       "<circle clip-path=\"url(#clip433)\" cx=\"353.895\" cy=\"1031.26\" r=\"14.4\" fill=\"#e26f46\" fill-rule=\"evenodd\" fill-opacity=\"1\" stroke=\"#000000\" stroke-opacity=\"1\" stroke-width=\"3.2\"/>\n",
       "<circle clip-path=\"url(#clip433)\" cx=\"425.616\" cy=\"984.777\" r=\"14.4\" fill=\"#e26f46\" fill-rule=\"evenodd\" fill-opacity=\"1\" stroke=\"#000000\" stroke-opacity=\"1\" stroke-width=\"3.2\"/>\n",
       "<circle clip-path=\"url(#clip433)\" cx=\"497.337\" cy=\"956.294\" r=\"14.4\" fill=\"#e26f46\" fill-rule=\"evenodd\" fill-opacity=\"1\" stroke=\"#000000\" stroke-opacity=\"1\" stroke-width=\"3.2\"/>\n",
       "<circle clip-path=\"url(#clip433)\" cx=\"569.058\" cy=\"942.311\" r=\"14.4\" fill=\"#e26f46\" fill-rule=\"evenodd\" fill-opacity=\"1\" stroke=\"#000000\" stroke-opacity=\"1\" stroke-width=\"3.2\"/>\n",
       "<circle clip-path=\"url(#clip433)\" cx=\"640.779\" cy=\"938.083\" r=\"14.4\" fill=\"#e26f46\" fill-rule=\"evenodd\" fill-opacity=\"1\" stroke=\"#000000\" stroke-opacity=\"1\" stroke-width=\"3.2\"/>\n",
       "<circle clip-path=\"url(#clip433)\" cx=\"712.5\" cy=\"940.399\" r=\"14.4\" fill=\"#e26f46\" fill-rule=\"evenodd\" fill-opacity=\"1\" stroke=\"#000000\" stroke-opacity=\"1\" stroke-width=\"3.2\"/>\n",
       "<circle clip-path=\"url(#clip433)\" cx=\"784.221\" cy=\"948.654\" r=\"14.4\" fill=\"#e26f46\" fill-rule=\"evenodd\" fill-opacity=\"1\" stroke=\"#000000\" stroke-opacity=\"1\" stroke-width=\"3.2\"/>\n",
       "<circle clip-path=\"url(#clip433)\" cx=\"855.941\" cy=\"962.95\" r=\"14.4\" fill=\"#e26f46\" fill-rule=\"evenodd\" fill-opacity=\"1\" stroke=\"#000000\" stroke-opacity=\"1\" stroke-width=\"3.2\"/>\n",
       "<circle clip-path=\"url(#clip433)\" cx=\"927.662\" cy=\"982.968\" r=\"14.4\" fill=\"#e26f46\" fill-rule=\"evenodd\" fill-opacity=\"1\" stroke=\"#000000\" stroke-opacity=\"1\" stroke-width=\"3.2\"/>\n",
       "<circle clip-path=\"url(#clip433)\" cx=\"999.383\" cy=\"1007.96\" r=\"14.4\" fill=\"#e26f46\" fill-rule=\"evenodd\" fill-opacity=\"1\" stroke=\"#000000\" stroke-opacity=\"1\" stroke-width=\"3.2\"/>\n",
       "<circle clip-path=\"url(#clip433)\" cx=\"1071.1\" cy=\"1036.46\" r=\"14.4\" fill=\"#e26f46\" fill-rule=\"evenodd\" fill-opacity=\"1\" stroke=\"#000000\" stroke-opacity=\"1\" stroke-width=\"3.2\"/>\n",
       "<circle clip-path=\"url(#clip433)\" cx=\"1142.82\" cy=\"1066.71\" r=\"14.4\" fill=\"#e26f46\" fill-rule=\"evenodd\" fill-opacity=\"1\" stroke=\"#000000\" stroke-opacity=\"1\" stroke-width=\"3.2\"/>\n",
       "<circle clip-path=\"url(#clip433)\" cx=\"1214.55\" cy=\"1097.02\" r=\"14.4\" fill=\"#e26f46\" fill-rule=\"evenodd\" fill-opacity=\"1\" stroke=\"#000000\" stroke-opacity=\"1\" stroke-width=\"3.2\"/>\n",
       "<circle clip-path=\"url(#clip433)\" cx=\"1286.27\" cy=\"1126.41\" r=\"14.4\" fill=\"#e26f46\" fill-rule=\"evenodd\" fill-opacity=\"1\" stroke=\"#000000\" stroke-opacity=\"1\" stroke-width=\"3.2\"/>\n",
       "<circle clip-path=\"url(#clip433)\" cx=\"1357.99\" cy=\"1153.83\" r=\"14.4\" fill=\"#e26f46\" fill-rule=\"evenodd\" fill-opacity=\"1\" stroke=\"#000000\" stroke-opacity=\"1\" stroke-width=\"3.2\"/>\n",
       "<circle clip-path=\"url(#clip433)\" cx=\"1429.71\" cy=\"1178.58\" r=\"14.4\" fill=\"#e26f46\" fill-rule=\"evenodd\" fill-opacity=\"1\" stroke=\"#000000\" stroke-opacity=\"1\" stroke-width=\"3.2\"/>\n",
       "<circle clip-path=\"url(#clip433)\" cx=\"1501.43\" cy=\"1199.95\" r=\"14.4\" fill=\"#e26f46\" fill-rule=\"evenodd\" fill-opacity=\"1\" stroke=\"#000000\" stroke-opacity=\"1\" stroke-width=\"3.2\"/>\n",
       "<circle clip-path=\"url(#clip433)\" cx=\"1573.15\" cy=\"1217.81\" r=\"14.4\" fill=\"#e26f46\" fill-rule=\"evenodd\" fill-opacity=\"1\" stroke=\"#000000\" stroke-opacity=\"1\" stroke-width=\"3.2\"/>\n",
       "<circle clip-path=\"url(#clip433)\" cx=\"1644.87\" cy=\"1231.99\" r=\"14.4\" fill=\"#e26f46\" fill-rule=\"evenodd\" fill-opacity=\"1\" stroke=\"#000000\" stroke-opacity=\"1\" stroke-width=\"3.2\"/>\n",
       "<circle clip-path=\"url(#clip433)\" cx=\"1716.59\" cy=\"1242.7\" r=\"14.4\" fill=\"#e26f46\" fill-rule=\"evenodd\" fill-opacity=\"1\" stroke=\"#000000\" stroke-opacity=\"1\" stroke-width=\"3.2\"/>\n",
       "<circle clip-path=\"url(#clip433)\" cx=\"1788.31\" cy=\"1250.1\" r=\"14.4\" fill=\"#e26f46\" fill-rule=\"evenodd\" fill-opacity=\"1\" stroke=\"#000000\" stroke-opacity=\"1\" stroke-width=\"3.2\"/>\n",
       "<circle clip-path=\"url(#clip433)\" cx=\"1860.03\" cy=\"1254.64\" r=\"14.4\" fill=\"#e26f46\" fill-rule=\"evenodd\" fill-opacity=\"1\" stroke=\"#000000\" stroke-opacity=\"1\" stroke-width=\"3.2\"/>\n",
       "<circle clip-path=\"url(#clip433)\" cx=\"1931.75\" cy=\"1256.51\" r=\"14.4\" fill=\"#e26f46\" fill-rule=\"evenodd\" fill-opacity=\"1\" stroke=\"#000000\" stroke-opacity=\"1\" stroke-width=\"3.2\"/>\n",
       "<circle clip-path=\"url(#clip433)\" cx=\"2003.48\" cy=\"1256.11\" r=\"14.4\" fill=\"#e26f46\" fill-rule=\"evenodd\" fill-opacity=\"1\" stroke=\"#000000\" stroke-opacity=\"1\" stroke-width=\"3.2\"/>\n",
       "<circle clip-path=\"url(#clip433)\" cx=\"2075.2\" cy=\"1253.79\" r=\"14.4\" fill=\"#e26f46\" fill-rule=\"evenodd\" fill-opacity=\"1\" stroke=\"#000000\" stroke-opacity=\"1\" stroke-width=\"3.2\"/>\n",
       "<circle clip-path=\"url(#clip433)\" cx=\"2146.92\" cy=\"1249.82\" r=\"14.4\" fill=\"#e26f46\" fill-rule=\"evenodd\" fill-opacity=\"1\" stroke=\"#000000\" stroke-opacity=\"1\" stroke-width=\"3.2\"/>\n",
       "<circle clip-path=\"url(#clip433)\" cx=\"2218.64\" cy=\"1244.58\" r=\"14.4\" fill=\"#e26f46\" fill-rule=\"evenodd\" fill-opacity=\"1\" stroke=\"#000000\" stroke-opacity=\"1\" stroke-width=\"3.2\"/>\n",
       "<circle clip-path=\"url(#clip433)\" cx=\"2290.36\" cy=\"1238.27\" r=\"14.4\" fill=\"#e26f46\" fill-rule=\"evenodd\" fill-opacity=\"1\" stroke=\"#000000\" stroke-opacity=\"1\" stroke-width=\"3.2\"/>\n",
       "<path clip-path=\"url(#clip433)\" d=\"\n",
       "M210.454 906.876 L282.175 954.332 L353.895 998.692 L425.616 1040.09 L497.337 1083.73 L569.058 1129.15 L640.779 1173.49 L712.5 1218.27 L784.221 1262.25 L855.941 1295.67 \n",
       "  L927.662 1326.62 L999.383 1350.28 L1071.1 1361.45 L1142.82 1365.73 L1214.55 1373.52 L1286.27 1375.89 L1357.99 1379.45 L1429.71 1379.66 L1501.43 1372.4 L1573.15 1369.41 \n",
       "  L1644.87 1364.66 L1716.59 1363.13 L1788.31 1362.15 L1860.03 1353.65 L1931.75 1349.51 L2003.48 1336.05 L2075.2 1323.9 L2146.92 1312.75 L2218.64 1292.8 L2290.36 1271.48 \n",
       "  L2290.36 961.617 L2218.64 955.498 L2146.92 953.578 L2075.2 966.468 L2003.48 983.144 L1931.75 1003.48 L1860.03 1037.54 L1788.31 1069.75 L1716.59 1112.03 L1644.87 1153.79 \n",
       "  L1573.15 1184.12 L1501.43 1213.23 L1429.71 1234.07 L1357.99 1256.58 L1286.27 1276.53 L1214.55 1285.18 L1142.82 1287.72 L1071.1 1271.44 L999.383 1244.64 L927.662 1214.34 \n",
       "  L855.941 1179.43 L784.221 1137.78 L712.5 1105.02 L640.779 1072.18 L569.058 1036.02 L497.337 1004.83 L425.616 975.521 L353.895 950.297 L282.175 929.514 L210.454 906.876 \n",
       "   Z\n",
       "  \" fill=\"#3da44d\" fill-rule=\"evenodd\" fill-opacity=\"0.5\"/>\n",
       "<polyline clip-path=\"url(#clip433)\" style=\"stroke:#3da44d; stroke-linecap:round; stroke-linejoin:round; stroke-width:32; stroke-opacity:1; fill:none\" points=\"\n",
       "  210.454,906.876 282.175,941.923 353.895,974.495 425.616,1007.8 497.337,1044.28 569.058,1082.59 640.779,1122.84 712.5,1161.65 784.221,1200.02 855.941,1237.55 \n",
       "  927.662,1270.48 999.383,1297.46 1071.1,1316.45 1142.82,1326.72 1214.55,1329.35 1286.27,1326.21 1357.99,1318.01 1429.71,1306.87 1501.43,1292.81 1573.15,1276.76 \n",
       "  1644.87,1259.22 1716.59,1237.58 1788.31,1215.95 1860.03,1195.59 1931.75,1176.5 2003.48,1159.6 2075.2,1145.18 2146.92,1133.16 2218.64,1124.15 2290.36,1116.55 \n",
       "  \n",
       "  \"/>\n",
       "<path clip-path=\"url(#clip433)\" d=\"\n",
       "M210.454 1158.28 L282.175 1102.12 L353.895 1056.22 L425.616 1023.4 L497.337 1003.59 L569.058 994.875 L640.779 991.299 L712.5 990.229 L784.221 995.4 L855.941 1006.09 \n",
       "  L927.662 1027.31 L999.383 1061.43 L1071.1 1103.81 L1142.82 1152.41 L1214.55 1204.56 L1286.27 1246.51 L1357.99 1288.81 L1429.71 1318.62 L1501.43 1348.98 L1573.15 1365.81 \n",
       "  L1644.87 1393.73 L1716.59 1403.69 L1788.31 1408.14 L1860.03 1405.34 L1931.75 1403.44 L2003.48 1396.5 L2075.2 1391.02 L2146.92 1379.17 L2218.64 1372.8 L2290.36 1357.07 \n",
       "  L2290.36 1114.14 L2218.64 1111.65 L2146.92 1118.23 L2075.2 1113.6 L2003.48 1114.14 L1931.75 1101.66 L1860.03 1096.26 L1788.31 1080.05 L1716.59 1061.17 L1644.87 1035.48 \n",
       "  L1573.15 1026.85 L1501.43 1004.9 L1429.71 989.894 L1357.99 965.684 L1286.27 954.271 L1214.55 944.469 L1142.82 940.601 L1071.1 935.894 L999.383 933.192 L927.662 931.135 \n",
       "  L855.941 933.098 L784.221 936.074 L712.5 940.464 L640.779 947.233 L569.058 958.553 L497.337 976.892 L425.616 1009.08 L353.895 1051.3 L282.175 1101.04 L210.454 1158.28 \n",
       "   Z\n",
       "  \" fill=\"#c271d2\" fill-rule=\"evenodd\" fill-opacity=\"0.5\"/>\n",
       "<polyline clip-path=\"url(#clip433)\" style=\"stroke:#c271d2; stroke-linecap:round; stroke-linejoin:round; stroke-width:32; stroke-opacity:1; fill:none\" points=\"\n",
       "  210.454,1158.28 282.175,1101.58 353.895,1053.76 425.616,1016.24 497.337,990.239 569.058,976.714 640.779,969.266 712.5,965.347 784.221,965.737 855.941,969.593 \n",
       "  927.662,979.224 999.383,997.31 1071.1,1019.85 1142.82,1046.51 1214.55,1074.51 1286.27,1100.39 1357.99,1127.25 1429.71,1154.26 1501.43,1176.94 1573.15,1196.33 \n",
       "  1644.87,1214.6 1716.59,1232.43 1788.31,1244.09 1860.03,1250.8 1931.75,1252.55 2003.48,1255.32 2075.2,1252.31 2146.92,1248.7 2218.64,1242.22 2290.36,1235.6 \n",
       "  \n",
       "  \"/>\n",
       "<path clip-path=\"url(#clip430)\" d=\"\n",
       "M221.547 1405.47 L671.529 1405.47 L671.529 1146.27 L221.547 1146.27  Z\n",
       "  \" fill=\"#ffffff\" fill-rule=\"evenodd\" fill-opacity=\"1\"/>\n",
       "<polyline clip-path=\"url(#clip430)\" style=\"stroke:#000000; stroke-linecap:round; stroke-linejoin:round; stroke-width:4; stroke-opacity:1; fill:none\" points=\"\n",
       "  221.547,1405.47 671.529,1405.47 671.529,1146.27 221.547,1146.27 221.547,1405.47 \n",
       "  \"/>\n",
       "<circle clip-path=\"url(#clip430)\" cx=\"319.533\" cy=\"1198.11\" r=\"23.04\" fill=\"#009af9\" fill-rule=\"evenodd\" fill-opacity=\"1\" stroke=\"#000000\" stroke-opacity=\"1\" stroke-width=\"5.12\"/>\n",
       "<path clip-path=\"url(#clip430)\" d=\"M436.432 1193.4 L436.432 1179.37 L440.691 1179.37 L440.691 1215.39 L436.432 1215.39 L436.432 1211.5 Q435.089 1213.81 433.029 1214.95 Q430.992 1216.06 428.122 1216.06 Q423.423 1216.06 420.46 1212.31 Q417.52 1208.56 417.52 1202.45 Q417.52 1196.34 420.46 1192.59 Q423.423 1188.84 428.122 1188.84 Q430.992 1188.84 433.029 1189.97 Q435.089 1191.08 436.432 1193.4 M421.918 1202.45 Q421.918 1207.15 423.839 1209.83 Q425.784 1212.49 429.163 1212.49 Q432.543 1212.49 434.487 1209.83 Q436.432 1207.15 436.432 1202.45 Q436.432 1197.75 434.487 1195.09 Q432.543 1192.4 429.163 1192.4 Q425.784 1192.4 423.839 1195.09 Q421.918 1197.75 421.918 1202.45 Z\" fill=\"#000000\" fill-rule=\"evenodd\" fill-opacity=\"1\" /><path clip-path=\"url(#clip430)\" d=\"M461.246 1202.36 Q456.084 1202.36 454.094 1203.54 Q452.103 1204.72 452.103 1207.56 Q452.103 1209.83 453.584 1211.18 Q455.089 1212.49 457.659 1212.49 Q461.2 1212.49 463.33 1209.99 Q465.483 1207.47 465.483 1203.31 L465.483 1202.36 L461.246 1202.36 M469.742 1200.6 L469.742 1215.39 L465.483 1215.39 L465.483 1211.45 Q464.024 1213.81 461.848 1214.95 Q459.672 1216.06 456.524 1216.06 Q452.543 1216.06 450.182 1213.84 Q447.844 1211.59 447.844 1207.84 Q447.844 1203.47 450.76 1201.25 Q453.7 1199.02 459.51 1199.02 L465.483 1199.02 L465.483 1198.61 Q465.483 1195.67 463.538 1194.07 Q461.617 1192.45 458.121 1192.45 Q455.899 1192.45 453.793 1192.98 Q451.686 1193.51 449.742 1194.58 L449.742 1190.64 Q452.08 1189.74 454.279 1189.3 Q456.478 1188.84 458.561 1188.84 Q464.186 1188.84 466.964 1191.75 Q469.742 1194.67 469.742 1200.6 Z\" fill=\"#000000\" fill-rule=\"evenodd\" fill-opacity=\"1\" /><path clip-path=\"url(#clip430)\" d=\"M482.728 1182.1 L482.728 1189.46 L491.501 1189.46 L491.501 1192.77 L482.728 1192.77 L482.728 1206.85 Q482.728 1210.02 483.584 1210.92 Q484.464 1211.82 487.126 1211.82 L491.501 1211.82 L491.501 1215.39 L487.126 1215.39 Q482.195 1215.39 480.32 1213.56 Q478.445 1211.71 478.445 1206.85 L478.445 1192.77 L475.32 1192.77 L475.32 1189.46 L478.445 1189.46 L478.445 1182.1 L482.728 1182.1 Z\" fill=\"#000000\" fill-rule=\"evenodd\" fill-opacity=\"1\" /><path clip-path=\"url(#clip430)\" d=\"M508.885 1202.36 Q503.723 1202.36 501.732 1203.54 Q499.742 1204.72 499.742 1207.56 Q499.742 1209.83 501.223 1211.18 Q502.728 1212.49 505.297 1212.49 Q508.839 1212.49 510.968 1209.99 Q513.121 1207.47 513.121 1203.31 L513.121 1202.36 L508.885 1202.36 M517.38 1200.6 L517.38 1215.39 L513.121 1215.39 L513.121 1211.45 Q511.663 1213.81 509.487 1214.95 Q507.311 1216.06 504.163 1216.06 Q500.181 1216.06 497.82 1213.84 Q495.482 1211.59 495.482 1207.84 Q495.482 1203.47 498.399 1201.25 Q501.339 1199.02 507.149 1199.02 L513.121 1199.02 L513.121 1198.61 Q513.121 1195.67 511.177 1194.07 Q509.255 1192.45 505.76 1192.45 Q503.538 1192.45 501.431 1192.98 Q499.325 1193.51 497.381 1194.58 L497.381 1190.64 Q499.718 1189.74 501.918 1189.3 Q504.117 1188.84 506.2 1188.84 Q511.825 1188.84 514.603 1191.75 Q517.38 1194.67 517.38 1200.6 Z\" fill=\"#000000\" fill-rule=\"evenodd\" fill-opacity=\"1\" /><circle clip-path=\"url(#clip430)\" cx=\"319.533\" cy=\"1249.95\" r=\"23.04\" fill=\"#e26f46\" fill-rule=\"evenodd\" fill-opacity=\"1\" stroke=\"#000000\" stroke-opacity=\"1\" stroke-width=\"5.12\"/>\n",
       "<path clip-path=\"url(#clip430)\" d=\"M436.432 1245.24 L436.432 1231.21 L440.691 1231.21 L440.691 1267.23 L436.432 1267.23 L436.432 1263.34 Q435.089 1265.65 433.029 1266.79 Q430.992 1267.9 428.122 1267.9 Q423.423 1267.9 420.46 1264.15 Q417.52 1260.4 417.52 1254.29 Q417.52 1248.18 420.46 1244.43 Q423.423 1240.68 428.122 1240.68 Q430.992 1240.68 433.029 1241.81 Q435.089 1242.92 436.432 1245.24 M421.918 1254.29 Q421.918 1258.99 423.839 1261.67 Q425.784 1264.33 429.163 1264.33 Q432.543 1264.33 434.487 1261.67 Q436.432 1258.99 436.432 1254.29 Q436.432 1249.59 434.487 1246.93 Q432.543 1244.24 429.163 1244.24 Q425.784 1244.24 423.839 1246.93 Q421.918 1249.59 421.918 1254.29 Z\" fill=\"#000000\" fill-rule=\"evenodd\" fill-opacity=\"1\" /><path clip-path=\"url(#clip430)\" d=\"M461.246 1254.2 Q456.084 1254.2 454.094 1255.38 Q452.103 1256.56 452.103 1259.4 Q452.103 1261.67 453.584 1263.02 Q455.089 1264.33 457.659 1264.33 Q461.2 1264.33 463.33 1261.83 Q465.483 1259.31 465.483 1255.15 L465.483 1254.2 L461.246 1254.2 M469.742 1252.44 L469.742 1267.23 L465.483 1267.23 L465.483 1263.29 Q464.024 1265.65 461.848 1266.79 Q459.672 1267.9 456.524 1267.9 Q452.543 1267.9 450.182 1265.68 Q447.844 1263.43 447.844 1259.68 Q447.844 1255.31 450.76 1253.09 Q453.7 1250.86 459.51 1250.86 L465.483 1250.86 L465.483 1250.45 Q465.483 1247.51 463.538 1245.91 Q461.617 1244.29 458.121 1244.29 Q455.899 1244.29 453.793 1244.82 Q451.686 1245.35 449.742 1246.42 L449.742 1242.48 Q452.08 1241.58 454.279 1241.14 Q456.478 1240.68 458.561 1240.68 Q464.186 1240.68 466.964 1243.59 Q469.742 1246.51 469.742 1252.44 Z\" fill=\"#000000\" fill-rule=\"evenodd\" fill-opacity=\"1\" /><path clip-path=\"url(#clip430)\" d=\"M482.728 1233.94 L482.728 1241.3 L491.501 1241.3 L491.501 1244.61 L482.728 1244.61 L482.728 1258.69 Q482.728 1261.86 483.584 1262.76 Q484.464 1263.66 487.126 1263.66 L491.501 1263.66 L491.501 1267.23 L487.126 1267.23 Q482.195 1267.23 480.32 1265.4 Q478.445 1263.55 478.445 1258.69 L478.445 1244.61 L475.32 1244.61 L475.32 1241.3 L478.445 1241.3 L478.445 1233.94 L482.728 1233.94 Z\" fill=\"#000000\" fill-rule=\"evenodd\" fill-opacity=\"1\" /><path clip-path=\"url(#clip430)\" d=\"M508.885 1254.2 Q503.723 1254.2 501.732 1255.38 Q499.742 1256.56 499.742 1259.4 Q499.742 1261.67 501.223 1263.02 Q502.728 1264.33 505.297 1264.33 Q508.839 1264.33 510.968 1261.83 Q513.121 1259.31 513.121 1255.15 L513.121 1254.2 L508.885 1254.2 M517.38 1252.44 L517.38 1267.23 L513.121 1267.23 L513.121 1263.29 Q511.663 1265.65 509.487 1266.79 Q507.311 1267.9 504.163 1267.9 Q500.181 1267.9 497.82 1265.68 Q495.482 1263.43 495.482 1259.68 Q495.482 1255.31 498.399 1253.09 Q501.339 1250.86 507.149 1250.86 L513.121 1250.86 L513.121 1250.45 Q513.121 1247.51 511.177 1245.91 Q509.255 1244.29 505.76 1244.29 Q503.538 1244.29 501.431 1244.82 Q499.325 1245.35 497.381 1246.42 L497.381 1242.48 Q499.718 1241.58 501.918 1241.14 Q504.117 1240.68 506.2 1240.68 Q511.825 1240.68 514.603 1243.59 Q517.38 1246.51 517.38 1252.44 Z\" fill=\"#000000\" fill-rule=\"evenodd\" fill-opacity=\"1\" /><polyline clip-path=\"url(#clip430)\" style=\"stroke:#3da44d; stroke-linecap:round; stroke-linejoin:round; stroke-width:20; stroke-opacity:1; fill:none\" points=\"\n",
       "  246.043,1301.79 393.023,1301.79 \n",
       "  \"/>\n",
       "<path clip-path=\"url(#clip430)\" d=\"M421.802 1315.18 L421.802 1328.93 L417.52 1328.93 L417.52 1293.14 L421.802 1293.14 L421.802 1297.08 Q423.145 1294.76 425.182 1293.65 Q427.242 1292.52 430.089 1292.52 Q434.811 1292.52 437.751 1296.27 Q440.714 1300.02 440.714 1306.13 Q440.714 1312.24 437.751 1315.99 Q434.811 1319.74 430.089 1319.74 Q427.242 1319.74 425.182 1318.63 Q423.145 1317.49 421.802 1315.18 M436.293 1306.13 Q436.293 1301.43 434.348 1298.77 Q432.427 1296.08 429.048 1296.08 Q425.668 1296.08 423.724 1298.77 Q421.802 1301.43 421.802 1306.13 Q421.802 1310.83 423.724 1313.51 Q425.668 1316.17 429.048 1316.17 Q432.427 1316.17 434.348 1313.51 Q436.293 1310.83 436.293 1306.13 Z\" fill=\"#000000\" fill-rule=\"evenodd\" fill-opacity=\"1\" /><path clip-path=\"url(#clip430)\" d=\"M462.797 1297.12 Q462.08 1296.71 461.223 1296.52 Q460.39 1296.31 459.371 1296.31 Q455.76 1296.31 453.816 1298.68 Q451.895 1301.01 451.895 1305.41 L451.895 1319.07 L447.612 1319.07 L447.612 1293.14 L451.895 1293.14 L451.895 1297.17 Q453.237 1294.81 455.39 1293.68 Q457.543 1292.52 460.621 1292.52 Q461.061 1292.52 461.594 1292.59 Q462.126 1292.63 462.774 1292.75 L462.797 1297.12 Z\" fill=\"#000000\" fill-rule=\"evenodd\" fill-opacity=\"1\" /><path clip-path=\"url(#clip430)\" d=\"M488.399 1305.04 L488.399 1307.12 L468.816 1307.12 Q469.094 1311.52 471.455 1313.84 Q473.839 1316.13 478.075 1316.13 Q480.529 1316.13 482.82 1315.53 Q485.135 1314.92 487.404 1313.72 L487.404 1317.75 Q485.112 1318.72 482.705 1319.23 Q480.297 1319.74 477.82 1319.74 Q471.617 1319.74 467.983 1316.13 Q464.371 1312.52 464.371 1306.36 Q464.371 1299.99 467.797 1296.27 Q471.246 1292.52 477.08 1292.52 Q482.311 1292.52 485.344 1295.9 Q488.399 1299.25 488.399 1305.04 M484.14 1303.79 Q484.094 1300.3 482.172 1298.21 Q480.274 1296.13 477.126 1296.13 Q473.561 1296.13 471.408 1298.14 Q469.279 1300.16 468.955 1303.81 L484.14 1303.79 Z\" fill=\"#000000\" fill-rule=\"evenodd\" fill-opacity=\"1\" /><path clip-path=\"url(#clip430)\" d=\"M512.45 1297.08 L512.45 1283.05 L516.709 1283.05 L516.709 1319.07 L512.45 1319.07 L512.45 1315.18 Q511.107 1317.49 509.047 1318.63 Q507.01 1319.74 504.14 1319.74 Q499.441 1319.74 496.478 1315.99 Q493.538 1312.24 493.538 1306.13 Q493.538 1300.02 496.478 1296.27 Q499.441 1292.52 504.14 1292.52 Q507.01 1292.52 509.047 1293.65 Q511.107 1294.76 512.45 1297.08 M497.936 1306.13 Q497.936 1310.83 499.857 1313.51 Q501.802 1316.17 505.181 1316.17 Q508.561 1316.17 510.505 1313.51 Q512.45 1310.83 512.45 1306.13 Q512.45 1301.43 510.505 1298.77 Q508.561 1296.08 505.181 1296.08 Q501.802 1296.08 499.857 1298.77 Q497.936 1301.43 497.936 1306.13 Z\" fill=\"#000000\" fill-rule=\"evenodd\" fill-opacity=\"1\" /><path clip-path=\"url(#clip430)\" d=\"M525.482 1293.14 L529.741 1293.14 L529.741 1319.07 L525.482 1319.07 L525.482 1293.14 M525.482 1283.05 L529.741 1283.05 L529.741 1288.44 L525.482 1288.44 L525.482 1283.05 Z\" fill=\"#000000\" fill-rule=\"evenodd\" fill-opacity=\"1\" /><path clip-path=\"url(#clip430)\" d=\"M557.311 1294.14 L557.311 1298.12 Q555.505 1297.12 553.677 1296.64 Q551.871 1296.13 550.019 1296.13 Q545.876 1296.13 543.584 1298.77 Q541.292 1301.38 541.292 1306.13 Q541.292 1310.87 543.584 1313.51 Q545.876 1316.13 550.019 1316.13 Q551.871 1316.13 553.677 1315.64 Q555.505 1315.13 557.311 1314.14 L557.311 1318.07 Q555.528 1318.91 553.607 1319.32 Q551.709 1319.74 549.556 1319.74 Q543.7 1319.74 540.251 1316.06 Q536.802 1312.38 536.802 1306.13 Q536.802 1299.79 540.274 1296.15 Q543.769 1292.52 549.834 1292.52 Q551.802 1292.52 553.677 1292.93 Q555.552 1293.33 557.311 1294.14 Z\" fill=\"#000000\" fill-rule=\"evenodd\" fill-opacity=\"1\" /><path clip-path=\"url(#clip430)\" d=\"M568.931 1285.78 L568.931 1293.14 L577.704 1293.14 L577.704 1296.45 L568.931 1296.45 L568.931 1310.53 Q568.931 1313.7 569.788 1314.6 Q570.667 1315.5 573.329 1315.5 L577.704 1315.5 L577.704 1319.07 L573.329 1319.07 Q568.399 1319.07 566.524 1317.24 Q564.649 1315.39 564.649 1310.53 L564.649 1296.45 L561.524 1296.45 L561.524 1293.14 L564.649 1293.14 L564.649 1285.78 L568.931 1285.78 Z\" fill=\"#000000\" fill-rule=\"evenodd\" fill-opacity=\"1\" /><path clip-path=\"url(#clip430)\" d=\"M583.306 1293.14 L587.565 1293.14 L587.565 1319.07 L583.306 1319.07 L583.306 1293.14 M583.306 1283.05 L587.565 1283.05 L587.565 1288.44 L583.306 1288.44 L583.306 1283.05 Z\" fill=\"#000000\" fill-rule=\"evenodd\" fill-opacity=\"1\" /><path clip-path=\"url(#clip430)\" d=\"M606.523 1296.13 Q603.098 1296.13 601.107 1298.81 Q599.116 1301.48 599.116 1306.13 Q599.116 1310.78 601.084 1313.47 Q603.074 1316.13 606.523 1316.13 Q609.926 1316.13 611.917 1313.44 Q613.908 1310.76 613.908 1306.13 Q613.908 1301.52 611.917 1298.84 Q609.926 1296.13 606.523 1296.13 M606.523 1292.52 Q612.079 1292.52 615.25 1296.13 Q618.422 1299.74 618.422 1306.13 Q618.422 1312.49 615.25 1316.13 Q612.079 1319.74 606.523 1319.74 Q600.945 1319.74 597.774 1316.13 Q594.625 1312.49 594.625 1306.13 Q594.625 1299.74 597.774 1296.13 Q600.945 1292.52 606.523 1292.52 Z\" fill=\"#000000\" fill-rule=\"evenodd\" fill-opacity=\"1\" /><path clip-path=\"url(#clip430)\" d=\"M647.033 1303.42 L647.033 1319.07 L642.773 1319.07 L642.773 1303.56 Q642.773 1299.88 641.338 1298.05 Q639.903 1296.22 637.033 1296.22 Q633.584 1296.22 631.593 1298.42 Q629.602 1300.62 629.602 1304.42 L629.602 1319.07 L625.32 1319.07 L625.32 1293.14 L629.602 1293.14 L629.602 1297.17 Q631.13 1294.83 633.19 1293.68 Q635.273 1292.52 637.982 1292.52 Q642.449 1292.52 644.741 1295.3 Q647.033 1298.05 647.033 1303.42 Z\" fill=\"#000000\" fill-rule=\"evenodd\" fill-opacity=\"1\" /><polyline clip-path=\"url(#clip430)\" style=\"stroke:#c271d2; stroke-linecap:round; stroke-linejoin:round; stroke-width:20; stroke-opacity:1; fill:none\" points=\"\n",
       "  246.043,1353.63 393.023,1353.63 \n",
       "  \"/>\n",
       "<path clip-path=\"url(#clip430)\" d=\"M421.802 1367.02 L421.802 1380.77 L417.52 1380.77 L417.52 1344.98 L421.802 1344.98 L421.802 1348.92 Q423.145 1346.6 425.182 1345.49 Q427.242 1344.36 430.089 1344.36 Q434.811 1344.36 437.751 1348.11 Q440.714 1351.86 440.714 1357.97 Q440.714 1364.08 437.751 1367.83 Q434.811 1371.58 430.089 1371.58 Q427.242 1371.58 425.182 1370.47 Q423.145 1369.33 421.802 1367.02 M436.293 1357.97 Q436.293 1353.27 434.348 1350.61 Q432.427 1347.92 429.048 1347.92 Q425.668 1347.92 423.724 1350.61 Q421.802 1353.27 421.802 1357.97 Q421.802 1362.67 423.724 1365.35 Q425.668 1368.01 429.048 1368.01 Q432.427 1368.01 434.348 1365.35 Q436.293 1362.67 436.293 1357.97 Z\" fill=\"#000000\" fill-rule=\"evenodd\" fill-opacity=\"1\" /><path clip-path=\"url(#clip430)\" d=\"M462.797 1348.96 Q462.08 1348.55 461.223 1348.36 Q460.39 1348.15 459.371 1348.15 Q455.76 1348.15 453.816 1350.52 Q451.895 1352.85 451.895 1357.25 L451.895 1370.91 L447.612 1370.91 L447.612 1344.98 L451.895 1344.98 L451.895 1349.01 Q453.237 1346.65 455.39 1345.52 Q457.543 1344.36 460.621 1344.36 Q461.061 1344.36 461.594 1344.43 Q462.126 1344.47 462.774 1344.59 L462.797 1348.96 Z\" fill=\"#000000\" fill-rule=\"evenodd\" fill-opacity=\"1\" /><path clip-path=\"url(#clip430)\" d=\"M488.399 1356.88 L488.399 1358.96 L468.816 1358.96 Q469.094 1363.36 471.455 1365.68 Q473.839 1367.97 478.075 1367.97 Q480.529 1367.97 482.82 1367.37 Q485.135 1366.76 487.404 1365.56 L487.404 1369.59 Q485.112 1370.56 482.705 1371.07 Q480.297 1371.58 477.82 1371.58 Q471.617 1371.58 467.983 1367.97 Q464.371 1364.36 464.371 1358.2 Q464.371 1351.83 467.797 1348.11 Q471.246 1344.36 477.08 1344.36 Q482.311 1344.36 485.344 1347.74 Q488.399 1351.09 488.399 1356.88 M484.14 1355.63 Q484.094 1352.14 482.172 1350.05 Q480.274 1347.97 477.126 1347.97 Q473.561 1347.97 471.408 1349.98 Q469.279 1352 468.955 1355.65 L484.14 1355.63 Z\" fill=\"#000000\" fill-rule=\"evenodd\" fill-opacity=\"1\" /><path clip-path=\"url(#clip430)\" d=\"M512.45 1348.92 L512.45 1334.89 L516.709 1334.89 L516.709 1370.91 L512.45 1370.91 L512.45 1367.02 Q511.107 1369.33 509.047 1370.47 Q507.01 1371.58 504.14 1371.58 Q499.441 1371.58 496.478 1367.83 Q493.538 1364.08 493.538 1357.97 Q493.538 1351.86 496.478 1348.11 Q499.441 1344.36 504.14 1344.36 Q507.01 1344.36 509.047 1345.49 Q511.107 1346.6 512.45 1348.92 M497.936 1357.97 Q497.936 1362.67 499.857 1365.35 Q501.802 1368.01 505.181 1368.01 Q508.561 1368.01 510.505 1365.35 Q512.45 1362.67 512.45 1357.97 Q512.45 1353.27 510.505 1350.61 Q508.561 1347.92 505.181 1347.92 Q501.802 1347.92 499.857 1350.61 Q497.936 1353.27 497.936 1357.97 Z\" fill=\"#000000\" fill-rule=\"evenodd\" fill-opacity=\"1\" /><path clip-path=\"url(#clip430)\" d=\"M525.482 1344.98 L529.741 1344.98 L529.741 1370.91 L525.482 1370.91 L525.482 1344.98 M525.482 1334.89 L529.741 1334.89 L529.741 1340.28 L525.482 1340.28 L525.482 1334.89 Z\" fill=\"#000000\" fill-rule=\"evenodd\" fill-opacity=\"1\" /><path clip-path=\"url(#clip430)\" d=\"M557.311 1345.98 L557.311 1349.96 Q555.505 1348.96 553.677 1348.48 Q551.871 1347.97 550.019 1347.97 Q545.876 1347.97 543.584 1350.61 Q541.292 1353.22 541.292 1357.97 Q541.292 1362.71 543.584 1365.35 Q545.876 1367.97 550.019 1367.97 Q551.871 1367.97 553.677 1367.48 Q555.505 1366.97 557.311 1365.98 L557.311 1369.91 Q555.528 1370.75 553.607 1371.16 Q551.709 1371.58 549.556 1371.58 Q543.7 1371.58 540.251 1367.9 Q536.802 1364.22 536.802 1357.97 Q536.802 1351.63 540.274 1347.99 Q543.769 1344.36 549.834 1344.36 Q551.802 1344.36 553.677 1344.77 Q555.552 1345.17 557.311 1345.98 Z\" fill=\"#000000\" fill-rule=\"evenodd\" fill-opacity=\"1\" /><path clip-path=\"url(#clip430)\" d=\"M568.931 1337.62 L568.931 1344.98 L577.704 1344.98 L577.704 1348.29 L568.931 1348.29 L568.931 1362.37 Q568.931 1365.54 569.788 1366.44 Q570.667 1367.34 573.329 1367.34 L577.704 1367.34 L577.704 1370.91 L573.329 1370.91 Q568.399 1370.91 566.524 1369.08 Q564.649 1367.23 564.649 1362.37 L564.649 1348.29 L561.524 1348.29 L561.524 1344.98 L564.649 1344.98 L564.649 1337.62 L568.931 1337.62 Z\" fill=\"#000000\" fill-rule=\"evenodd\" fill-opacity=\"1\" /><path clip-path=\"url(#clip430)\" d=\"M583.306 1344.98 L587.565 1344.98 L587.565 1370.91 L583.306 1370.91 L583.306 1344.98 M583.306 1334.89 L587.565 1334.89 L587.565 1340.28 L583.306 1340.28 L583.306 1334.89 Z\" fill=\"#000000\" fill-rule=\"evenodd\" fill-opacity=\"1\" /><path clip-path=\"url(#clip430)\" d=\"M606.523 1347.97 Q603.098 1347.97 601.107 1350.65 Q599.116 1353.32 599.116 1357.97 Q599.116 1362.62 601.084 1365.31 Q603.074 1367.97 606.523 1367.97 Q609.926 1367.97 611.917 1365.28 Q613.908 1362.6 613.908 1357.97 Q613.908 1353.36 611.917 1350.68 Q609.926 1347.97 606.523 1347.97 M606.523 1344.36 Q612.079 1344.36 615.25 1347.97 Q618.422 1351.58 618.422 1357.97 Q618.422 1364.33 615.25 1367.97 Q612.079 1371.58 606.523 1371.58 Q600.945 1371.58 597.774 1367.97 Q594.625 1364.33 594.625 1357.97 Q594.625 1351.58 597.774 1347.97 Q600.945 1344.36 606.523 1344.36 Z\" fill=\"#000000\" fill-rule=\"evenodd\" fill-opacity=\"1\" /><path clip-path=\"url(#clip430)\" d=\"M647.033 1355.26 L647.033 1370.91 L642.773 1370.91 L642.773 1355.4 Q642.773 1351.72 641.338 1349.89 Q639.903 1348.06 637.033 1348.06 Q633.584 1348.06 631.593 1350.26 Q629.602 1352.46 629.602 1356.26 L629.602 1370.91 L625.32 1370.91 L625.32 1344.98 L629.602 1344.98 L629.602 1349.01 Q631.13 1346.67 633.19 1345.52 Q635.273 1344.36 637.982 1344.36 Q642.449 1344.36 644.741 1347.14 Q647.033 1349.89 647.033 1355.26 Z\" fill=\"#000000\" fill-rule=\"evenodd\" fill-opacity=\"1\" /></svg>\n"
      ]
     },
     "execution_count": 38,
     "metadata": {},
     "output_type": "execute_result"
    }
   ],
   "source": [
    "plt"
   ]
  },
  {
   "cell_type": "code",
   "execution_count": null,
   "id": "2caefdcf",
   "metadata": {},
   "outputs": [],
   "source": []
  }
 ],
 "metadata": {
  "kernelspec": {
   "display_name": "Julia 1.8.5",
   "language": "julia",
   "name": "julia-1.8"
  },
  "language_info": {
   "file_extension": ".jl",
   "mimetype": "application/julia",
   "name": "julia",
   "version": "1.8.5"
  }
 },
 "nbformat": 4,
 "nbformat_minor": 5
}
