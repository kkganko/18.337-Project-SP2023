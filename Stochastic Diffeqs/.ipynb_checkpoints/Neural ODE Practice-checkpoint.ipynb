{
 "cells": [
  {
   "cell_type": "code",
   "execution_count": 1,
   "id": "00755639",
   "metadata": {},
   "outputs": [],
   "source": [
    "# # If Project.toml and Manifest.toml exist, remove them to start a completely fresh installation of packages and dependencies.\n",
    "# # This is equivalent to uninstalling all packages in the current environment. \n",
    "# # Why? B/c if you don't start from a clean plate, and you have previous package dependency installation that were unspecified \n",
    "# # below in their version number, then dependencies may conflict.\n",
    "\n",
    "# # get contents of working directory\n",
    "# dir_contents = readdir(\".\")\n",
    "# if \"Manifest.toml\" in dir_contents\n",
    "#     rm(\"Manifest.toml\")\n",
    "#     println(\"Removed Manifest.toml from $(pwd()).\")\n",
    "# end\n",
    "# if \"Project.toml\" in dir_contents\n",
    "#     rm(\"Project.toml\")\n",
    "#     println(\"Removed Project.toml from $(pwd()).\")\n",
    "# end\n",
    "\n",
    "# # Check file contents in project directory, copy over Project.toml and Manifest.toml if they exist.\n",
    "# # If they don't exist, create them with generate-project-toml.ipynb.\n",
    "# parentdir_contents = readdir(\"..\")\n",
    "# parentdir_info = stat(\"..\")\n",
    "# # copy contents from parent to working directory \n",
    "# if \"Manifest.toml\" in parentdir_contents\n",
    "#     cp(\"../Manifest.toml\", joinpath(pwd(),\"Manifest.toml\"))\n",
    "#     println(\"Manifest.toml copy from project dir to $(pwd()) successful.\")\n",
    "# else\n",
    "#     println(\"No Manifest.toml in parent directory.\")\n",
    "# end\n",
    "# if \"Project.toml\" in parentdir_contents\n",
    "#     cp(\"../Project.toml\", joinpath(pwd(),\"Project.toml\"))\n",
    "#     println(\"Project.toml copy from project dir to $(pwd()) successful.\")\n",
    "# else\n",
    "#     println(\"No Project.toml in parent directory.\")\n",
    "# end"
   ]
  },
  {
   "cell_type": "code",
   "execution_count": 2,
   "id": "a9f314ee",
   "metadata": {},
   "outputs": [
    {
     "name": "stderr",
     "output_type": "stream",
     "text": [
      "\u001b[32m\u001b[1m  Activating\u001b[22m\u001b[39m project at `~/6.337/18.337-Project-SP2023/Stochastic Diffeqs`\n"
     ]
    }
   ],
   "source": [
    "import Pkg; Pkg.activate(\".\"); Pkg.instantiate(verbose=true)"
   ]
  },
  {
   "cell_type": "code",
   "execution_count": 3,
   "id": "f8a61de7",
   "metadata": {
    "scrolled": true
   },
   "outputs": [
    {
     "data": {
      "text/plain": [
       "2×30 Matrix{Float32}:\n",
       " 2.0  1.9465    1.74178  1.23837  0.577127  …  1.40688   1.37023   1.29214\n",
       " 0.0  0.798832  1.46473  1.80877  1.86465      0.451377  0.728699  0.972102"
      ]
     },
     "execution_count": 3,
     "metadata": {},
     "output_type": "execute_result"
    }
   ],
   "source": [
    "using DiffEqFlux, OrdinaryDiffEq, Flux, Optim, Plots\n",
    "\n",
    "u0 = Float32[2.0; 0.0]\n",
    "datasize = 30\n",
    "tspan = (0.0f0, 1.5f0)\n",
    "tsteps = range(tspan[1], tspan[2], length = datasize)\n",
    "\n",
    "function trueODEfunc(du, u, p, t)\n",
    "    true_A = [-0.1 2.0; -2.0 -0.1]\n",
    "    du .= ((u.^3)'true_A)'\n",
    "end\n",
    "\n",
    "prob_trueode = ODEProblem(trueODEfunc, u0, tspan)\n",
    "ode_data = Array(solve(prob_trueode, Tsit5(), saveat = tsteps))"
   ]
  },
  {
   "cell_type": "code",
   "execution_count": 4,
   "id": "eb868904",
   "metadata": {
    "scrolled": true
   },
   "outputs": [
    {
     "name": "stderr",
     "output_type": "stream",
     "text": [
      "\u001b[33m\u001b[1m┌ \u001b[22m\u001b[39m\u001b[33m\u001b[1mWarning: \u001b[22m\u001b[39mFastChain is being deprecated in favor of Lux.jl. Lux.jl uses functions with explicit parameters f(u,p) like FastChain, but is fully featured and documented machine learning library. See the Lux.jl documentation for more details.\n",
      "\u001b[33m\u001b[1m└ \u001b[22m\u001b[39m\u001b[90m@ DiffEqFlux ~/.julia/packages/DiffEqFlux/jHIee/src/fast_layers.jl:9\u001b[39m\n"
     ]
    },
    {
     "data": {
      "text/plain": [
       "NeuralODE()"
      ]
     },
     "execution_count": 4,
     "metadata": {},
     "output_type": "execute_result"
    }
   ],
   "source": [
    "dudt2 = FastChain((x, p) -> x.^3,\n",
    "                  FastDense(2, 50, tanh),\n",
    "                  FastDense(50, 2))\n",
    "prob_neuralode = NeuralODE(dudt2, tspan, Tsit5(), saveat = tsteps)"
   ]
  },
  {
   "cell_type": "code",
   "execution_count": 5,
   "id": "b7e72565",
   "metadata": {},
   "outputs": [
    {
     "data": {
      "text/plain": [
       "2×30 Matrix{Float32}:\n",
       " 2.0  1.9465    1.74178  1.23837  0.577127  …  1.40688   1.37023   1.29214\n",
       " 0.0  0.798832  1.46473  1.80877  1.86465      0.451377  0.728699  0.972102"
      ]
     },
     "execution_count": 5,
     "metadata": {},
     "output_type": "execute_result"
    }
   ],
   "source": [
    "ode_data"
   ]
  },
  {
   "cell_type": "code",
   "execution_count": 6,
   "id": "af7bd55c",
   "metadata": {},
   "outputs": [
    {
     "data": {
      "image/svg+xml": [
       "<?xml version=\"1.0\" encoding=\"utf-8\"?>\n",
       "<svg xmlns=\"http://www.w3.org/2000/svg\" xmlns:xlink=\"http://www.w3.org/1999/xlink\" width=\"600\" height=\"400\" viewBox=\"0 0 2400 1600\">\n",
       "<defs>\n",
       "  <clipPath id=\"clip630\">\n",
       "    <rect x=\"0\" y=\"0\" width=\"2400\" height=\"1600\"/>\n",
       "  </clipPath>\n",
       "</defs>\n",
       "<path clip-path=\"url(#clip630)\" d=\"M0 1600 L2400 1600 L2400 0 L0 0  Z\" fill=\"#ffffff\" fill-rule=\"evenodd\" fill-opacity=\"1\"/>\n",
       "<defs>\n",
       "  <clipPath id=\"clip631\">\n",
       "    <rect x=\"480\" y=\"0\" width=\"1681\" height=\"1600\"/>\n",
       "  </clipPath>\n",
       "</defs>\n",
       "<path clip-path=\"url(#clip630)\" d=\"M147.478 1486.45 L2352.76 1486.45 L2352.76 47.2441 L147.478 47.2441  Z\" fill=\"#ffffff\" fill-rule=\"evenodd\" fill-opacity=\"1\"/>\n",
       "<defs>\n",
       "  <clipPath id=\"clip632\">\n",
       "    <rect x=\"147\" y=\"47\" width=\"2206\" height=\"1440\"/>\n",
       "  </clipPath>\n",
       "</defs>\n",
       "<polyline clip-path=\"url(#clip632)\" style=\"stroke:#000000; stroke-linecap:round; stroke-linejoin:round; stroke-width:2; stroke-opacity:0.1; fill:none\" points=\"209.891,1486.45 209.891,47.2441 \"/>\n",
       "<polyline clip-path=\"url(#clip632)\" style=\"stroke:#000000; stroke-linecap:round; stroke-linejoin:round; stroke-width:2; stroke-opacity:0.1; fill:none\" points=\"903.375,1486.45 903.375,47.2441 \"/>\n",
       "<polyline clip-path=\"url(#clip632)\" style=\"stroke:#000000; stroke-linecap:round; stroke-linejoin:round; stroke-width:2; stroke-opacity:0.1; fill:none\" points=\"1596.86,1486.45 1596.86,47.2441 \"/>\n",
       "<polyline clip-path=\"url(#clip632)\" style=\"stroke:#000000; stroke-linecap:round; stroke-linejoin:round; stroke-width:2; stroke-opacity:0.1; fill:none\" points=\"2290.34,1486.45 2290.34,47.2441 \"/>\n",
       "<polyline clip-path=\"url(#clip630)\" style=\"stroke:#000000; stroke-linecap:round; stroke-linejoin:round; stroke-width:4; stroke-opacity:1; fill:none\" points=\"147.478,1486.45 2352.76,1486.45 \"/>\n",
       "<polyline clip-path=\"url(#clip630)\" style=\"stroke:#000000; stroke-linecap:round; stroke-linejoin:round; stroke-width:4; stroke-opacity:1; fill:none\" points=\"209.891,1486.45 209.891,1467.55 \"/>\n",
       "<polyline clip-path=\"url(#clip630)\" style=\"stroke:#000000; stroke-linecap:round; stroke-linejoin:round; stroke-width:4; stroke-opacity:1; fill:none\" points=\"903.375,1486.45 903.375,1467.55 \"/>\n",
       "<polyline clip-path=\"url(#clip630)\" style=\"stroke:#000000; stroke-linecap:round; stroke-linejoin:round; stroke-width:4; stroke-opacity:1; fill:none\" points=\"1596.86,1486.45 1596.86,1467.55 \"/>\n",
       "<polyline clip-path=\"url(#clip630)\" style=\"stroke:#000000; stroke-linecap:round; stroke-linejoin:round; stroke-width:4; stroke-opacity:1; fill:none\" points=\"2290.34,1486.45 2290.34,1467.55 \"/>\n",
       "<path clip-path=\"url(#clip630)\" d=\"M187.276 1517.37 Q183.665 1517.37 181.836 1520.93 Q180.03 1524.47 180.03 1531.6 Q180.03 1538.71 181.836 1542.27 Q183.665 1545.82 187.276 1545.82 Q190.91 1545.82 192.716 1542.27 Q194.544 1538.71 194.544 1531.6 Q194.544 1524.47 192.716 1520.93 Q190.91 1517.37 187.276 1517.37 M187.276 1513.66 Q193.086 1513.66 196.142 1518.27 Q199.22 1522.85 199.22 1531.6 Q199.22 1540.33 196.142 1544.94 Q193.086 1549.52 187.276 1549.52 Q181.466 1549.52 178.387 1544.94 Q175.331 1540.33 175.331 1531.6 Q175.331 1522.85 178.387 1518.27 Q181.466 1513.66 187.276 1513.66 Z\" fill=\"#000000\" fill-rule=\"nonzero\" fill-opacity=\"1\" /><path clip-path=\"url(#clip630)\" d=\"M207.438 1542.97 L212.322 1542.97 L212.322 1548.85 L207.438 1548.85 L207.438 1542.97 Z\" fill=\"#000000\" fill-rule=\"nonzero\" fill-opacity=\"1\" /><path clip-path=\"url(#clip630)\" d=\"M232.507 1517.37 Q228.896 1517.37 227.067 1520.93 Q225.262 1524.47 225.262 1531.6 Q225.262 1538.71 227.067 1542.27 Q228.896 1545.82 232.507 1545.82 Q236.141 1545.82 237.947 1542.27 Q239.776 1538.71 239.776 1531.6 Q239.776 1524.47 237.947 1520.93 Q236.141 1517.37 232.507 1517.37 M232.507 1513.66 Q238.317 1513.66 241.373 1518.27 Q244.451 1522.85 244.451 1531.6 Q244.451 1540.33 241.373 1544.94 Q238.317 1549.52 232.507 1549.52 Q226.697 1549.52 223.618 1544.94 Q220.563 1540.33 220.563 1531.6 Q220.563 1522.85 223.618 1518.27 Q226.697 1513.66 232.507 1513.66 Z\" fill=\"#000000\" fill-rule=\"nonzero\" fill-opacity=\"1\" /><path clip-path=\"url(#clip630)\" d=\"M881.257 1517.37 Q877.646 1517.37 875.817 1520.93 Q874.012 1524.47 874.012 1531.6 Q874.012 1538.71 875.817 1542.27 Q877.646 1545.82 881.257 1545.82 Q884.891 1545.82 886.697 1542.27 Q888.526 1538.71 888.526 1531.6 Q888.526 1524.47 886.697 1520.93 Q884.891 1517.37 881.257 1517.37 M881.257 1513.66 Q887.067 1513.66 890.123 1518.27 Q893.202 1522.85 893.202 1531.6 Q893.202 1540.33 890.123 1544.94 Q887.067 1549.52 881.257 1549.52 Q875.447 1549.52 872.368 1544.94 Q869.313 1540.33 869.313 1531.6 Q869.313 1522.85 872.368 1518.27 Q875.447 1513.66 881.257 1513.66 Z\" fill=\"#000000\" fill-rule=\"nonzero\" fill-opacity=\"1\" /><path clip-path=\"url(#clip630)\" d=\"M901.419 1542.97 L906.303 1542.97 L906.303 1548.85 L901.419 1548.85 L901.419 1542.97 Z\" fill=\"#000000\" fill-rule=\"nonzero\" fill-opacity=\"1\" /><path clip-path=\"url(#clip630)\" d=\"M916.535 1514.29 L934.891 1514.29 L934.891 1518.22 L920.817 1518.22 L920.817 1526.7 Q921.836 1526.35 922.854 1526.19 Q923.873 1526 924.891 1526 Q930.678 1526 934.058 1529.17 Q937.437 1532.34 937.437 1537.76 Q937.437 1543.34 933.965 1546.44 Q930.493 1549.52 924.174 1549.52 Q921.998 1549.52 919.729 1549.15 Q917.484 1548.78 915.076 1548.04 L915.076 1543.34 Q917.16 1544.47 919.382 1545.03 Q921.604 1545.58 924.081 1545.58 Q928.086 1545.58 930.424 1543.48 Q932.762 1541.37 932.762 1537.76 Q932.762 1534.15 930.424 1532.04 Q928.086 1529.94 924.081 1529.94 Q922.206 1529.94 920.331 1530.35 Q918.479 1530.77 916.535 1531.65 L916.535 1514.29 Z\" fill=\"#000000\" fill-rule=\"nonzero\" fill-opacity=\"1\" /><path clip-path=\"url(#clip630)\" d=\"M1564.01 1544.91 L1571.65 1544.91 L1571.65 1518.55 L1563.34 1520.21 L1563.34 1515.95 L1571.6 1514.29 L1576.28 1514.29 L1576.28 1544.91 L1583.92 1544.91 L1583.92 1548.85 L1564.01 1548.85 L1564.01 1544.91 Z\" fill=\"#000000\" fill-rule=\"nonzero\" fill-opacity=\"1\" /><path clip-path=\"url(#clip630)\" d=\"M1593.36 1542.97 L1598.25 1542.97 L1598.25 1548.85 L1593.36 1548.85 L1593.36 1542.97 Z\" fill=\"#000000\" fill-rule=\"nonzero\" fill-opacity=\"1\" /><path clip-path=\"url(#clip630)\" d=\"M1618.43 1517.37 Q1614.82 1517.37 1612.99 1520.93 Q1611.19 1524.47 1611.19 1531.6 Q1611.19 1538.71 1612.99 1542.27 Q1614.82 1545.82 1618.43 1545.82 Q1622.07 1545.82 1623.87 1542.27 Q1625.7 1538.71 1625.7 1531.6 Q1625.7 1524.47 1623.87 1520.93 Q1622.07 1517.37 1618.43 1517.37 M1618.43 1513.66 Q1624.24 1513.66 1627.3 1518.27 Q1630.38 1522.85 1630.38 1531.6 Q1630.38 1540.33 1627.3 1544.94 Q1624.24 1549.52 1618.43 1549.52 Q1612.62 1549.52 1609.54 1544.94 Q1606.49 1540.33 1606.49 1531.6 Q1606.49 1522.85 1609.54 1518.27 Q1612.62 1513.66 1618.43 1513.66 Z\" fill=\"#000000\" fill-rule=\"nonzero\" fill-opacity=\"1\" /><path clip-path=\"url(#clip630)\" d=\"M2257.99 1544.91 L2265.63 1544.91 L2265.63 1518.55 L2257.32 1520.21 L2257.32 1515.95 L2265.59 1514.29 L2270.26 1514.29 L2270.26 1544.91 L2277.9 1544.91 L2277.9 1548.85 L2257.99 1548.85 L2257.99 1544.91 Z\" fill=\"#000000\" fill-rule=\"nonzero\" fill-opacity=\"1\" /><path clip-path=\"url(#clip630)\" d=\"M2287.34 1542.97 L2292.23 1542.97 L2292.23 1548.85 L2287.34 1548.85 L2287.34 1542.97 Z\" fill=\"#000000\" fill-rule=\"nonzero\" fill-opacity=\"1\" /><path clip-path=\"url(#clip630)\" d=\"M2302.46 1514.29 L2320.82 1514.29 L2320.82 1518.22 L2306.74 1518.22 L2306.74 1526.7 Q2307.76 1526.35 2308.78 1526.19 Q2309.8 1526 2310.82 1526 Q2316.6 1526 2319.98 1529.17 Q2323.36 1532.34 2323.36 1537.76 Q2323.36 1543.34 2319.89 1546.44 Q2316.42 1549.52 2310.1 1549.52 Q2307.92 1549.52 2305.65 1549.15 Q2303.41 1548.78 2301 1548.04 L2301 1543.34 Q2303.09 1544.47 2305.31 1545.03 Q2307.53 1545.58 2310.01 1545.58 Q2314.01 1545.58 2316.35 1543.48 Q2318.69 1541.37 2318.69 1537.76 Q2318.69 1534.15 2316.35 1532.04 Q2314.01 1529.94 2310.01 1529.94 Q2308.13 1529.94 2306.26 1530.35 Q2304.4 1530.77 2302.46 1531.65 L2302.46 1514.29 Z\" fill=\"#000000\" fill-rule=\"nonzero\" fill-opacity=\"1\" /><polyline clip-path=\"url(#clip632)\" style=\"stroke:#000000; stroke-linecap:round; stroke-linejoin:round; stroke-width:2; stroke-opacity:0.1; fill:none\" points=\"147.478,1185.84 2352.76,1185.84 \"/>\n",
       "<polyline clip-path=\"url(#clip632)\" style=\"stroke:#000000; stroke-linecap:round; stroke-linejoin:round; stroke-width:2; stroke-opacity:0.1; fill:none\" points=\"147.478,819.885 2352.76,819.885 \"/>\n",
       "<polyline clip-path=\"url(#clip632)\" style=\"stroke:#000000; stroke-linecap:round; stroke-linejoin:round; stroke-width:2; stroke-opacity:0.1; fill:none\" points=\"147.478,453.93 2352.76,453.93 \"/>\n",
       "<polyline clip-path=\"url(#clip632)\" style=\"stroke:#000000; stroke-linecap:round; stroke-linejoin:round; stroke-width:2; stroke-opacity:0.1; fill:none\" points=\"147.478,87.9763 2352.76,87.9763 \"/>\n",
       "<polyline clip-path=\"url(#clip630)\" style=\"stroke:#000000; stroke-linecap:round; stroke-linejoin:round; stroke-width:4; stroke-opacity:1; fill:none\" points=\"147.478,1486.45 147.478,47.2441 \"/>\n",
       "<polyline clip-path=\"url(#clip630)\" style=\"stroke:#000000; stroke-linecap:round; stroke-linejoin:round; stroke-width:4; stroke-opacity:1; fill:none\" points=\"147.478,1185.84 166.376,1185.84 \"/>\n",
       "<polyline clip-path=\"url(#clip630)\" style=\"stroke:#000000; stroke-linecap:round; stroke-linejoin:round; stroke-width:4; stroke-opacity:1; fill:none\" points=\"147.478,819.885 166.376,819.885 \"/>\n",
       "<polyline clip-path=\"url(#clip630)\" style=\"stroke:#000000; stroke-linecap:round; stroke-linejoin:round; stroke-width:4; stroke-opacity:1; fill:none\" points=\"147.478,453.93 166.376,453.93 \"/>\n",
       "<polyline clip-path=\"url(#clip630)\" style=\"stroke:#000000; stroke-linecap:round; stroke-linejoin:round; stroke-width:4; stroke-opacity:1; fill:none\" points=\"147.478,87.9763 166.376,87.9763 \"/>\n",
       "<path clip-path=\"url(#clip630)\" d=\"M50.9921 1186.29 L80.6679 1186.29 L80.6679 1190.23 L50.9921 1190.23 L50.9921 1186.29 Z\" fill=\"#000000\" fill-rule=\"nonzero\" fill-opacity=\"1\" /><path clip-path=\"url(#clip630)\" d=\"M91.5706 1199.18 L99.2095 1199.18 L99.2095 1172.82 L90.8993 1174.48 L90.8993 1170.23 L99.1632 1168.56 L103.839 1168.56 L103.839 1199.18 L111.478 1199.18 L111.478 1203.12 L91.5706 1203.12 L91.5706 1199.18 Z\" fill=\"#000000\" fill-rule=\"nonzero\" fill-opacity=\"1\" /><path clip-path=\"url(#clip630)\" d=\"M99.5335 805.683 Q95.9224 805.683 94.0937 809.248 Q92.2882 812.79 92.2882 819.919 Q92.2882 827.026 94.0937 830.591 Q95.9224 834.132 99.5335 834.132 Q103.168 834.132 104.973 830.591 Q106.802 827.026 106.802 819.919 Q106.802 812.79 104.973 809.248 Q103.168 805.683 99.5335 805.683 M99.5335 801.98 Q105.344 801.98 108.399 806.586 Q111.478 811.169 111.478 819.919 Q111.478 828.646 108.399 833.253 Q105.344 837.836 99.5335 837.836 Q93.7234 837.836 90.6447 833.253 Q87.5892 828.646 87.5892 819.919 Q87.5892 811.169 90.6447 806.586 Q93.7234 801.98 99.5335 801.98 Z\" fill=\"#000000\" fill-rule=\"nonzero\" fill-opacity=\"1\" /><path clip-path=\"url(#clip630)\" d=\"M91.5706 467.275 L99.2095 467.275 L99.2095 440.91 L90.8993 442.576 L90.8993 438.317 L99.1632 436.65 L103.839 436.65 L103.839 467.275 L111.478 467.275 L111.478 471.21 L91.5706 471.21 L91.5706 467.275 Z\" fill=\"#000000\" fill-rule=\"nonzero\" fill-opacity=\"1\" /><path clip-path=\"url(#clip630)\" d=\"M95.1586 101.321 L111.478 101.321 L111.478 105.256 L89.5336 105.256 L89.5336 101.321 Q92.1956 98.5665 96.7789 93.9369 Q101.385 89.2841 102.566 87.9416 Q104.811 85.4184 105.691 83.6823 Q106.594 81.9231 106.594 80.2333 Q106.594 77.4786 104.649 75.7425 Q102.728 74.0064 99.6261 74.0064 Q97.4271 74.0064 94.9734 74.7703 Q92.5428 75.5342 89.7651 77.0851 L89.7651 72.3629 Q92.5891 71.2287 95.0428 70.65 Q97.4965 70.0713 99.5335 70.0713 Q104.904 70.0713 108.098 72.7565 Q111.293 75.4416 111.293 79.9323 Q111.293 82.062 110.483 83.9832 Q109.696 85.8814 107.589 88.474 Q107.01 89.1453 103.909 92.3628 Q100.807 95.5573 95.1586 101.321 Z\" fill=\"#000000\" fill-rule=\"nonzero\" fill-opacity=\"1\" /><polyline clip-path=\"url(#clip632)\" style=\"stroke:#009af9; stroke-linecap:round; stroke-linejoin:round; stroke-width:4; stroke-opacity:1; fill:none\" points=\"209.891,87.9763 281.631,107.554 353.371,182.473 425.11,366.697 496.85,608.683 568.59,849.125 640.33,1076.45 712.069,1274.71 783.809,1402.14 855.549,1445.72 927.288,1445.21 999.028,1436.17 1070.77,1423.54 1142.51,1388.1 1214.25,1305.9 1285.99,1178.84 1357.73,1031.27 1429.47,883.339 1501.21,740.536 1572.95,603.757 1644.69,478.859 1716.42,379.413 1788.16,317.746 1859.9,292.03 1931.64,288.371 2003.38,292.792 2075.12,298.341 2146.86,305.031 2218.6,318.443 2290.34,347.019 \"/>\n",
       "<polyline clip-path=\"url(#clip632)\" style=\"stroke:#e26f46; stroke-linecap:round; stroke-linejoin:round; stroke-width:4; stroke-opacity:1; fill:none\" points=\"209.891,819.885 281.631,527.549 353.371,283.86 425.11,157.957 496.85,137.507 568.59,147.957 640.33,163.084 712.069,211.672 783.809,332.424 855.549,510.355 927.288,701.528 999.028,886.386 1070.77,1062.23 1142.51,1218.8 1214.25,1331.67 1285.99,1386.13 1357.73,1397.97 1429.47,1393.14 1501.21,1385.99 1572.95,1376.07 1644.69,1352.09 1716.42,1299.17 1788.16,1212.94 1859.9,1104.53 1931.64,988.417 2003.38,873.607 2075.12,762.289 2146.86,654.701 2218.6,553.214 2290.34,464.14 \"/>\n",
       "<path clip-path=\"url(#clip630)\" d=\"M2006.29 1438.47 L2279.25 1438.47 L2279.25 1282.95 L2006.29 1282.95  Z\" fill=\"#ffffff\" fill-rule=\"evenodd\" fill-opacity=\"1\"/>\n",
       "<polyline clip-path=\"url(#clip630)\" style=\"stroke:#000000; stroke-linecap:round; stroke-linejoin:round; stroke-width:4; stroke-opacity:1; fill:none\" points=\"2006.29,1438.47 2279.25,1438.47 2279.25,1282.95 2006.29,1282.95 2006.29,1438.47 \"/>\n",
       "<polyline clip-path=\"url(#clip630)\" style=\"stroke:#009af9; stroke-linecap:round; stroke-linejoin:round; stroke-width:4; stroke-opacity:1; fill:none\" points=\"2030.79,1334.79 2177.81,1334.79 \"/>\n",
       "<path clip-path=\"url(#clip630)\" d=\"M2216.16 1354.48 Q2214.35 1359.11 2212.64 1360.52 Q2210.92 1361.94 2208.05 1361.94 L2204.65 1361.94 L2204.65 1358.37 L2207.15 1358.37 Q2208.91 1358.37 2209.88 1357.54 Q2210.85 1356.7 2212.04 1353.6 L2212.8 1351.66 L2202.31 1326.15 L2206.83 1326.15 L2214.93 1346.43 L2223.03 1326.15 L2227.54 1326.15 L2216.16 1354.48 Z\" fill=\"#000000\" fill-rule=\"nonzero\" fill-opacity=\"1\" /><path clip-path=\"url(#clip630)\" d=\"M2234.84 1348.14 L2242.48 1348.14 L2242.48 1321.77 L2234.16 1323.44 L2234.16 1319.18 L2242.43 1317.51 L2247.1 1317.51 L2247.1 1348.14 L2254.74 1348.14 L2254.74 1352.07 L2234.84 1352.07 L2234.84 1348.14 Z\" fill=\"#000000\" fill-rule=\"nonzero\" fill-opacity=\"1\" /><polyline clip-path=\"url(#clip630)\" style=\"stroke:#e26f46; stroke-linecap:round; stroke-linejoin:round; stroke-width:4; stroke-opacity:1; fill:none\" points=\"2030.79,1386.63 2177.81,1386.63 \"/>\n",
       "<path clip-path=\"url(#clip630)\" d=\"M2216.16 1406.32 Q2214.35 1410.95 2212.64 1412.36 Q2210.92 1413.78 2208.05 1413.78 L2204.65 1413.78 L2204.65 1410.21 L2207.15 1410.21 Q2208.91 1410.21 2209.88 1409.38 Q2210.85 1408.54 2212.04 1405.44 L2212.8 1403.5 L2202.31 1377.99 L2206.83 1377.99 L2214.93 1398.27 L2223.03 1377.99 L2227.54 1377.99 L2216.16 1406.32 Z\" fill=\"#000000\" fill-rule=\"nonzero\" fill-opacity=\"1\" /><path clip-path=\"url(#clip630)\" d=\"M2238.05 1399.98 L2254.37 1399.98 L2254.37 1403.91 L2232.43 1403.91 L2232.43 1399.98 Q2235.09 1397.22 2239.67 1392.6 Q2244.28 1387.94 2245.46 1386.6 Q2247.71 1384.08 2248.59 1382.34 Q2249.49 1380.58 2249.49 1378.89 Q2249.49 1376.14 2247.54 1374.4 Q2245.62 1372.66 2242.52 1372.66 Q2240.32 1372.66 2237.87 1373.43 Q2235.44 1374.19 2232.66 1375.74 L2232.66 1371.02 Q2235.48 1369.89 2237.94 1369.31 Q2240.39 1368.73 2242.43 1368.73 Q2247.8 1368.73 2250.99 1371.41 Q2254.19 1374.1 2254.19 1378.59 Q2254.19 1380.72 2253.38 1382.64 Q2252.59 1384.54 2250.48 1387.13 Q2249.91 1387.8 2246.8 1391.02 Q2243.7 1394.22 2238.05 1399.98 Z\" fill=\"#000000\" fill-rule=\"nonzero\" fill-opacity=\"1\" /></svg>\n"
      ]
     },
     "execution_count": 6,
     "metadata": {},
     "output_type": "execute_result"
    }
   ],
   "source": [
    "plot(tsteps,[ode_data[1,:],ode_data[2,:]])"
   ]
  },
  {
   "cell_type": "code",
   "execution_count": 24,
   "id": "724fcd35",
   "metadata": {},
   "outputs": [
    {
     "data": {
      "text/plain": [
       "loss_neuralode (generic function with 1 method)"
      ]
     },
     "execution_count": 24,
     "metadata": {},
     "output_type": "execute_result"
    }
   ],
   "source": [
    "function predict_neuralode(p)\n",
    "  Array(prob_neuralode(u0, p))\n",
    "end\n",
    "\n",
    "function loss_neuralode(p)\n",
    "    pred = predict_neuralode(p)\n",
    "    loss = sum(abs2, ode_data .- pred)\n",
    "    return loss, pred\n",
    "end"
   ]
  },
  {
   "cell_type": "code",
   "execution_count": 25,
   "id": "9f31d7cd",
   "metadata": {},
   "outputs": [
    {
     "data": {
      "text/plain": [
       "#5 (generic function with 1 method)"
      ]
     },
     "execution_count": 25,
     "metadata": {},
     "output_type": "execute_result"
    }
   ],
   "source": [
    "# Callback function to observe training\n",
    "list_plots = []\n",
    "iter = 0\n",
    "callback = function (p, l, pred; doplot = false)\n",
    "  global list_plots, iter\n",
    "\n",
    "  if iter == 0\n",
    "    list_plots = []\n",
    "  end\n",
    "  iter += 1\n",
    "\n",
    "  display(l)\n",
    "\n",
    "  # plot current prediction against data\n",
    "  plt = scatter(tsteps, ode_data[1,:], label = \"data\")\n",
    "  scatter!(plt, tsteps, pred[1,:], label = \"prediction\")\n",
    "  push!(list_plots, plt)\n",
    "  if doplot\n",
    "    display(plot(plt))\n",
    "  end\n",
    "\n",
    "  return false\n",
    "end"
   ]
  },
  {
   "cell_type": "code",
   "execution_count": 26,
   "id": "cb842fc7",
   "metadata": {
    "scrolled": true
   },
   "outputs": [
    {
     "name": "stderr",
     "output_type": "stream",
     "text": [
      "\u001b[33m\u001b[1m┌ \u001b[22m\u001b[39m\u001b[33m\u001b[1mWarning: \u001b[22m\u001b[39msciml_train is being deprecated in favor of direct usage of Optimization.jl. Please consult the Optimization.jl documentation for more details. Optimization.jl's PolyOpt solver is the polyalgorithm of sciml_train\n",
      "\u001b[33m\u001b[1m└ \u001b[22m\u001b[39m\u001b[90m@ DiffEqFlux C:\\Users\\ChemeGrad2021\\.julia\\packages\\DiffEqFlux\\2IJEZ\\src\\train.jl:6\u001b[39m\n"
     ]
    },
    {
     "data": {
      "text/plain": [
       "323.91867f0"
      ]
     },
     "metadata": {},
     "output_type": "display_data"
    },
    {
     "data": {
      "text/plain": [
       "140.08362f0"
      ]
     },
     "metadata": {},
     "output_type": "display_data"
    },
    {
     "data": {
      "text/plain": [
       "110.5921f0"
      ]
     },
     "metadata": {},
     "output_type": "display_data"
    },
    {
     "data": {
      "text/plain": [
       "113.54552f0"
      ]
     },
     "metadata": {},
     "output_type": "display_data"
    },
    {
     "data": {
      "text/plain": [
       "108.08986f0"
      ]
     },
     "metadata": {},
     "output_type": "display_data"
    },
    {
     "data": {
      "text/plain": [
       "101.977585f0"
      ]
     },
     "metadata": {},
     "output_type": "display_data"
    },
    {
     "data": {
      "text/plain": [
       "97.59751f0"
      ]
     },
     "metadata": {},
     "output_type": "display_data"
    },
    {
     "data": {
      "text/plain": [
       "95.17571f0"
      ]
     },
     "metadata": {},
     "output_type": "display_data"
    },
    {
     "data": {
      "text/plain": [
       "94.20223f0"
      ]
     },
     "metadata": {},
     "output_type": "display_data"
    },
    {
     "data": {
      "text/plain": [
       "93.93868f0"
      ]
     },
     "metadata": {},
     "output_type": "display_data"
    },
    {
     "data": {
      "text/plain": [
       "93.655205f0"
      ]
     },
     "metadata": {},
     "output_type": "display_data"
    },
    {
     "data": {
      "text/plain": [
       "92.952705f0"
      ]
     },
     "metadata": {},
     "output_type": "display_data"
    },
    {
     "data": {
      "text/plain": [
       "91.8423f0"
      ]
     },
     "metadata": {},
     "output_type": "display_data"
    },
    {
     "data": {
      "text/plain": [
       "90.464485f0"
      ]
     },
     "metadata": {},
     "output_type": "display_data"
    },
    {
     "data": {
      "text/plain": [
       "88.932144f0"
      ]
     },
     "metadata": {},
     "output_type": "display_data"
    },
    {
     "data": {
      "text/plain": [
       "87.31337f0"
      ]
     },
     "metadata": {},
     "output_type": "display_data"
    },
    {
     "data": {
      "text/plain": [
       "85.50293f0"
      ]
     },
     "metadata": {},
     "output_type": "display_data"
    },
    {
     "data": {
      "text/plain": [
       "83.21509f0"
      ]
     },
     "metadata": {},
     "output_type": "display_data"
    },
    {
     "data": {
      "text/plain": [
       "80.22253f0"
      ]
     },
     "metadata": {},
     "output_type": "display_data"
    },
    {
     "data": {
      "text/plain": [
       "76.50383f0"
      ]
     },
     "metadata": {},
     "output_type": "display_data"
    },
    {
     "data": {
      "text/plain": [
       "72.22743f0"
      ]
     },
     "metadata": {},
     "output_type": "display_data"
    },
    {
     "data": {
      "text/plain": [
       "67.83958f0"
      ]
     },
     "metadata": {},
     "output_type": "display_data"
    },
    {
     "data": {
      "text/plain": [
       "63.383816f0"
      ]
     },
     "metadata": {},
     "output_type": "display_data"
    },
    {
     "data": {
      "text/plain": [
       "57.035465f0"
      ]
     },
     "metadata": {},
     "output_type": "display_data"
    },
    {
     "data": {
      "text/plain": [
       "51.874702f0"
      ]
     },
     "metadata": {},
     "output_type": "display_data"
    },
    {
     "data": {
      "text/plain": [
       "47.18617f0"
      ]
     },
     "metadata": {},
     "output_type": "display_data"
    },
    {
     "data": {
      "text/plain": [
       "41.75078f0"
      ]
     },
     "metadata": {},
     "output_type": "display_data"
    },
    {
     "data": {
      "text/plain": [
       "36.106697f0"
      ]
     },
     "metadata": {},
     "output_type": "display_data"
    },
    {
     "data": {
      "text/plain": [
       "32.379242f0"
      ]
     },
     "metadata": {},
     "output_type": "display_data"
    },
    {
     "data": {
      "text/plain": [
       "31.602013f0"
      ]
     },
     "metadata": {},
     "output_type": "display_data"
    },
    {
     "data": {
      "text/plain": [
       "25.837957f0"
      ]
     },
     "metadata": {},
     "output_type": "display_data"
    },
    {
     "data": {
      "text/plain": [
       "48.32966f0"
      ]
     },
     "metadata": {},
     "output_type": "display_data"
    },
    {
     "data": {
      "text/plain": [
       "24.77095f0"
      ]
     },
     "metadata": {},
     "output_type": "display_data"
    },
    {
     "data": {
      "text/plain": [
       "33.30343f0"
      ]
     },
     "metadata": {},
     "output_type": "display_data"
    },
    {
     "data": {
      "text/plain": [
       "35.909912f0"
      ]
     },
     "metadata": {},
     "output_type": "display_data"
    },
    {
     "data": {
      "text/plain": [
       "31.90369f0"
      ]
     },
     "metadata": {},
     "output_type": "display_data"
    },
    {
     "data": {
      "text/plain": [
       "26.94841f0"
      ]
     },
     "metadata": {},
     "output_type": "display_data"
    },
    {
     "data": {
      "text/plain": [
       "31.948286f0"
      ]
     },
     "metadata": {},
     "output_type": "display_data"
    },
    {
     "data": {
      "text/plain": [
       "34.81651f0"
      ]
     },
     "metadata": {},
     "output_type": "display_data"
    },
    {
     "data": {
      "text/plain": [
       "27.52748f0"
      ]
     },
     "metadata": {},
     "output_type": "display_data"
    },
    {
     "data": {
      "text/plain": [
       "23.712788f0"
      ]
     },
     "metadata": {},
     "output_type": "display_data"
    },
    {
     "data": {
      "text/plain": [
       "22.904003f0"
      ]
     },
     "metadata": {},
     "output_type": "display_data"
    },
    {
     "data": {
      "text/plain": [
       "21.28985f0"
      ]
     },
     "metadata": {},
     "output_type": "display_data"
    },
    {
     "data": {
      "text/plain": [
       "18.527266f0"
      ]
     },
     "metadata": {},
     "output_type": "display_data"
    },
    {
     "data": {
      "text/plain": [
       "18.094416f0"
      ]
     },
     "metadata": {},
     "output_type": "display_data"
    },
    {
     "data": {
      "text/plain": [
       "21.124218f0"
      ]
     },
     "metadata": {},
     "output_type": "display_data"
    },
    {
     "data": {
      "text/plain": [
       "19.207556f0"
      ]
     },
     "metadata": {},
     "output_type": "display_data"
    },
    {
     "data": {
      "text/plain": [
       "15.9057455f0"
      ]
     },
     "metadata": {},
     "output_type": "display_data"
    },
    {
     "data": {
      "text/plain": [
       "16.520998f0"
      ]
     },
     "metadata": {},
     "output_type": "display_data"
    },
    {
     "data": {
      "text/plain": [
       "16.806856f0"
      ]
     },
     "metadata": {},
     "output_type": "display_data"
    },
    {
     "data": {
      "text/plain": [
       "15.05234f0"
      ]
     },
     "metadata": {},
     "output_type": "display_data"
    },
    {
     "data": {
      "text/plain": [
       "12.7416525f0"
      ]
     },
     "metadata": {},
     "output_type": "display_data"
    },
    {
     "data": {
      "text/plain": [
       "12.389994f0"
      ]
     },
     "metadata": {},
     "output_type": "display_data"
    },
    {
     "data": {
      "text/plain": [
       "13.146527f0"
      ]
     },
     "metadata": {},
     "output_type": "display_data"
    },
    {
     "data": {
      "text/plain": [
       "11.550443f0"
      ]
     },
     "metadata": {},
     "output_type": "display_data"
    },
    {
     "data": {
      "text/plain": [
       "10.126878f0"
      ]
     },
     "metadata": {},
     "output_type": "display_data"
    },
    {
     "data": {
      "text/plain": [
       "10.010736f0"
      ]
     },
     "metadata": {},
     "output_type": "display_data"
    },
    {
     "data": {
      "text/plain": [
       "10.032925f0"
      ]
     },
     "metadata": {},
     "output_type": "display_data"
    },
    {
     "data": {
      "text/plain": [
       "9.320251f0"
      ]
     },
     "metadata": {},
     "output_type": "display_data"
    },
    {
     "data": {
      "text/plain": [
       "8.261196f0"
      ]
     },
     "metadata": {},
     "output_type": "display_data"
    },
    {
     "data": {
      "text/plain": [
       "7.7382426f0"
      ]
     },
     "metadata": {},
     "output_type": "display_data"
    },
    {
     "data": {
      "text/plain": [
       "7.840452f0"
      ]
     },
     "metadata": {},
     "output_type": "display_data"
    },
    {
     "data": {
      "text/plain": [
       "7.4541407f0"
      ]
     },
     "metadata": {},
     "output_type": "display_data"
    },
    {
     "data": {
      "text/plain": [
       "6.7069855f0"
      ]
     },
     "metadata": {},
     "output_type": "display_data"
    },
    {
     "data": {
      "text/plain": [
       "6.542803f0"
      ]
     },
     "metadata": {},
     "output_type": "display_data"
    },
    {
     "data": {
      "text/plain": [
       "6.6454287f0"
      ]
     },
     "metadata": {},
     "output_type": "display_data"
    },
    {
     "data": {
      "text/plain": [
       "6.441769f0"
      ]
     },
     "metadata": {},
     "output_type": "display_data"
    },
    {
     "data": {
      "text/plain": [
       "5.8540654f0"
      ]
     },
     "metadata": {},
     "output_type": "display_data"
    },
    {
     "data": {
      "text/plain": [
       "5.4567037f0"
      ]
     },
     "metadata": {},
     "output_type": "display_data"
    },
    {
     "data": {
      "text/plain": [
       "5.5026684f0"
      ]
     },
     "metadata": {},
     "output_type": "display_data"
    },
    {
     "data": {
      "text/plain": [
       "5.395657f0"
      ]
     },
     "metadata": {},
     "output_type": "display_data"
    },
    {
     "data": {
      "text/plain": [
       "4.9579935f0"
      ]
     },
     "metadata": {},
     "output_type": "display_data"
    },
    {
     "data": {
      "text/plain": [
       "4.6318607f0"
      ]
     },
     "metadata": {},
     "output_type": "display_data"
    },
    {
     "data": {
      "text/plain": [
       "4.563882f0"
      ]
     },
     "metadata": {},
     "output_type": "display_data"
    },
    {
     "data": {
      "text/plain": [
       "4.4870186f0"
      ]
     },
     "metadata": {},
     "output_type": "display_data"
    },
    {
     "data": {
      "text/plain": [
       "4.1979175f0"
      ]
     },
     "metadata": {},
     "output_type": "display_data"
    },
    {
     "data": {
      "text/plain": [
       "3.8971157f0"
      ]
     },
     "metadata": {},
     "output_type": "display_data"
    },
    {
     "data": {
      "text/plain": [
       "3.806112f0"
      ]
     },
     "metadata": {},
     "output_type": "display_data"
    },
    {
     "data": {
      "text/plain": [
       "3.7752094f0"
      ]
     },
     "metadata": {},
     "output_type": "display_data"
    },
    {
     "data": {
      "text/plain": [
       "3.5600264f0"
      ]
     },
     "metadata": {},
     "output_type": "display_data"
    },
    {
     "data": {
      "text/plain": [
       "3.3404825f0"
      ]
     },
     "metadata": {},
     "output_type": "display_data"
    },
    {
     "data": {
      "text/plain": [
       "3.2904205f0"
      ]
     },
     "metadata": {},
     "output_type": "display_data"
    },
    {
     "data": {
      "text/plain": [
       "3.2416885f0"
      ]
     },
     "metadata": {},
     "output_type": "display_data"
    },
    {
     "data": {
      "text/plain": [
       "3.0954373f0"
      ]
     },
     "metadata": {},
     "output_type": "display_data"
    },
    {
     "data": {
      "text/plain": [
       "2.9646363f0"
      ]
     },
     "metadata": {},
     "output_type": "display_data"
    },
    {
     "data": {
      "text/plain": [
       "2.9665976f0"
      ]
     },
     "metadata": {},
     "output_type": "display_data"
    },
    {
     "data": {
      "text/plain": [
       "2.8646307f0"
      ]
     },
     "metadata": {},
     "output_type": "display_data"
    },
    {
     "data": {
      "text/plain": [
       "2.7197063f0"
      ]
     },
     "metadata": {},
     "output_type": "display_data"
    },
    {
     "data": {
      "text/plain": [
       "2.675442f0"
      ]
     },
     "metadata": {},
     "output_type": "display_data"
    },
    {
     "data": {
      "text/plain": [
       "2.6400802f0"
      ]
     },
     "metadata": {},
     "output_type": "display_data"
    },
    {
     "data": {
      "text/plain": [
       "2.5441475f0"
      ]
     },
     "metadata": {},
     "output_type": "display_data"
    },
    {
     "data": {
      "text/plain": [
       "2.488755f0"
      ]
     },
     "metadata": {},
     "output_type": "display_data"
    },
    {
     "data": {
      "text/plain": [
       "2.4847813f0"
      ]
     },
     "metadata": {},
     "output_type": "display_data"
    },
    {
     "data": {
      "text/plain": [
       "2.421413f0"
      ]
     },
     "metadata": {},
     "output_type": "display_data"
    },
    {
     "data": {
      "text/plain": [
       "2.3566592f0"
      ]
     },
     "metadata": {},
     "output_type": "display_data"
    },
    {
     "data": {
      "text/plain": [
       "2.3435645f0"
      ]
     },
     "metadata": {},
     "output_type": "display_data"
    },
    {
     "data": {
      "text/plain": [
       "2.309523f0"
      ]
     },
     "metadata": {},
     "output_type": "display_data"
    },
    {
     "data": {
      "text/plain": [
       "2.2519836f0"
      ]
     },
     "metadata": {},
     "output_type": "display_data"
    },
    {
     "data": {
      "text/plain": [
       "2.2346418f0"
      ]
     },
     "metadata": {},
     "output_type": "display_data"
    },
    {
     "data": {
      "text/plain": [
       "2.2156775f0"
      ]
     },
     "metadata": {},
     "output_type": "display_data"
    },
    {
     "data": {
      "text/plain": [
       "2.1625435f0"
      ]
     },
     "metadata": {},
     "output_type": "display_data"
    },
    {
     "data": {
      "text/plain": [
       "2.1348536f0"
      ]
     },
     "metadata": {},
     "output_type": "display_data"
    },
    {
     "data": {
      "text/plain": [
       "2.1156087f0"
      ]
     },
     "metadata": {},
     "output_type": "display_data"
    },
    {
     "data": {
      "text/plain": [
       "2.0757706f0"
      ]
     },
     "metadata": {},
     "output_type": "display_data"
    },
    {
     "data": {
      "text/plain": [
       "2.0400162f0"
      ]
     },
     "metadata": {},
     "output_type": "display_data"
    },
    {
     "data": {
      "text/plain": [
       "2.0229845f0"
      ]
     },
     "metadata": {},
     "output_type": "display_data"
    },
    {
     "data": {
      "text/plain": [
       "1.9903207f0"
      ]
     },
     "metadata": {},
     "output_type": "display_data"
    },
    {
     "data": {
      "text/plain": [
       "1.9576068f0"
      ]
     },
     "metadata": {},
     "output_type": "display_data"
    },
    {
     "data": {
      "text/plain": [
       "1.9385885f0"
      ]
     },
     "metadata": {},
     "output_type": "display_data"
    },
    {
     "data": {
      "text/plain": [
       "1.9096645f0"
      ]
     },
     "metadata": {},
     "output_type": "display_data"
    },
    {
     "data": {
      "text/plain": [
       "1.878634f0"
      ]
     },
     "metadata": {},
     "output_type": "display_data"
    },
    {
     "data": {
      "text/plain": [
       "1.8610765f0"
      ]
     },
     "metadata": {},
     "output_type": "display_data"
    },
    {
     "data": {
      "text/plain": [
       "1.8420522f0"
      ]
     },
     "metadata": {},
     "output_type": "display_data"
    },
    {
     "data": {
      "text/plain": [
       "1.8052826f0"
      ]
     },
     "metadata": {},
     "output_type": "display_data"
    },
    {
     "data": {
      "text/plain": [
       "1.7859032f0"
      ]
     },
     "metadata": {},
     "output_type": "display_data"
    },
    {
     "data": {
      "text/plain": [
       "1.7689219f0"
      ]
     },
     "metadata": {},
     "output_type": "display_data"
    },
    {
     "data": {
      "text/plain": [
       "1.7441427f0"
      ]
     },
     "metadata": {},
     "output_type": "display_data"
    },
    {
     "data": {
      "text/plain": [
       "1.7220861f0"
      ]
     },
     "metadata": {},
     "output_type": "display_data"
    },
    {
     "data": {
      "text/plain": [
       "1.703008f0"
      ]
     },
     "metadata": {},
     "output_type": "display_data"
    },
    {
     "data": {
      "text/plain": [
       "1.6813368f0"
      ]
     },
     "metadata": {},
     "output_type": "display_data"
    },
    {
     "data": {
      "text/plain": [
       "1.6608367f0"
      ]
     },
     "metadata": {},
     "output_type": "display_data"
    },
    {
     "data": {
      "text/plain": [
       "1.6385875f0"
      ]
     },
     "metadata": {},
     "output_type": "display_data"
    },
    {
     "data": {
      "text/plain": [
       "1.6219716f0"
      ]
     },
     "metadata": {},
     "output_type": "display_data"
    },
    {
     "data": {
      "text/plain": [
       "1.6041801f0"
      ]
     },
     "metadata": {},
     "output_type": "display_data"
    },
    {
     "data": {
      "text/plain": [
       "1.5760856f0"
      ]
     },
     "metadata": {},
     "output_type": "display_data"
    },
    {
     "data": {
      "text/plain": [
       "1.5651711f0"
      ]
     },
     "metadata": {},
     "output_type": "display_data"
    },
    {
     "data": {
      "text/plain": [
       "1.5459346f0"
      ]
     },
     "metadata": {},
     "output_type": "display_data"
    },
    {
     "data": {
      "text/plain": [
       "1.5286467f0"
      ]
     },
     "metadata": {},
     "output_type": "display_data"
    },
    {
     "data": {
      "text/plain": [
       "1.5061617f0"
      ]
     },
     "metadata": {},
     "output_type": "display_data"
    },
    {
     "data": {
      "text/plain": [
       "1.4939348f0"
      ]
     },
     "metadata": {},
     "output_type": "display_data"
    },
    {
     "data": {
      "text/plain": [
       "1.4721439f0"
      ]
     },
     "metadata": {},
     "output_type": "display_data"
    },
    {
     "data": {
      "text/plain": [
       "1.4561795f0"
      ]
     },
     "metadata": {},
     "output_type": "display_data"
    },
    {
     "data": {
      "text/plain": [
       "1.4376392f0"
      ]
     },
     "metadata": {},
     "output_type": "display_data"
    },
    {
     "data": {
      "text/plain": [
       "1.4234599f0"
      ]
     },
     "metadata": {},
     "output_type": "display_data"
    },
    {
     "data": {
      "text/plain": [
       "1.4043436f0"
      ]
     },
     "metadata": {},
     "output_type": "display_data"
    },
    {
     "data": {
      "text/plain": [
       "1.3910779f0"
      ]
     },
     "metadata": {},
     "output_type": "display_data"
    },
    {
     "data": {
      "text/plain": [
       "1.3722252f0"
      ]
     },
     "metadata": {},
     "output_type": "display_data"
    },
    {
     "data": {
      "text/plain": [
       "1.3575795f0"
      ]
     },
     "metadata": {},
     "output_type": "display_data"
    },
    {
     "data": {
      "text/plain": [
       "1.3416954f0"
      ]
     },
     "metadata": {},
     "output_type": "display_data"
    },
    {
     "data": {
      "text/plain": [
       "1.3251354f0"
      ]
     },
     "metadata": {},
     "output_type": "display_data"
    },
    {
     "data": {
      "text/plain": [
       "1.3076724f0"
      ]
     },
     "metadata": {},
     "output_type": "display_data"
    },
    {
     "data": {
      "text/plain": [
       "1.29623f0"
      ]
     },
     "metadata": {},
     "output_type": "display_data"
    },
    {
     "data": {
      "text/plain": [
       "1.2775332f0"
      ]
     },
     "metadata": {},
     "output_type": "display_data"
    },
    {
     "data": {
      "text/plain": [
       "1.2638457f0"
      ]
     },
     "metadata": {},
     "output_type": "display_data"
    },
    {
     "data": {
      "text/plain": [
       "1.2477385f0"
      ]
     },
     "metadata": {},
     "output_type": "display_data"
    },
    {
     "data": {
      "text/plain": [
       "1.2336118f0"
      ]
     },
     "metadata": {},
     "output_type": "display_data"
    },
    {
     "data": {
      "text/plain": [
       "1.220746f0"
      ]
     },
     "metadata": {},
     "output_type": "display_data"
    },
    {
     "data": {
      "text/plain": [
       "1.2029073f0"
      ]
     },
     "metadata": {},
     "output_type": "display_data"
    },
    {
     "data": {
      "text/plain": [
       "1.1916896f0"
      ]
     },
     "metadata": {},
     "output_type": "display_data"
    },
    {
     "data": {
      "text/plain": [
       "1.1784757f0"
      ]
     },
     "metadata": {},
     "output_type": "display_data"
    },
    {
     "data": {
      "text/plain": [
       "1.1646365f0"
      ]
     },
     "metadata": {},
     "output_type": "display_data"
    },
    {
     "data": {
      "text/plain": [
       "1.1550381f0"
      ]
     },
     "metadata": {},
     "output_type": "display_data"
    },
    {
     "data": {
      "text/plain": [
       "1.1384085f0"
      ]
     },
     "metadata": {},
     "output_type": "display_data"
    },
    {
     "data": {
      "text/plain": [
       "1.1260815f0"
      ]
     },
     "metadata": {},
     "output_type": "display_data"
    },
    {
     "data": {
      "text/plain": [
       "1.1156291f0"
      ]
     },
     "metadata": {},
     "output_type": "display_data"
    },
    {
     "data": {
      "text/plain": [
       "1.1002995f0"
      ]
     },
     "metadata": {},
     "output_type": "display_data"
    },
    {
     "data": {
      "text/plain": [
       "1.0884908f0"
      ]
     },
     "metadata": {},
     "output_type": "display_data"
    },
    {
     "data": {
      "text/plain": [
       "1.0782017f0"
      ]
     },
     "metadata": {},
     "output_type": "display_data"
    },
    {
     "data": {
      "text/plain": [
       "1.0652839f0"
      ]
     },
     "metadata": {},
     "output_type": "display_data"
    },
    {
     "data": {
      "text/plain": [
       "1.0541881f0"
      ]
     },
     "metadata": {},
     "output_type": "display_data"
    },
    {
     "data": {
      "text/plain": [
       "1.0431459f0"
      ]
     },
     "metadata": {},
     "output_type": "display_data"
    },
    {
     "data": {
      "text/plain": [
       "1.0304252f0"
      ]
     },
     "metadata": {},
     "output_type": "display_data"
    },
    {
     "data": {
      "text/plain": [
       "1.0208306f0"
      ]
     },
     "metadata": {},
     "output_type": "display_data"
    },
    {
     "data": {
      "text/plain": [
       "1.0078638f0"
      ]
     },
     "metadata": {},
     "output_type": "display_data"
    },
    {
     "data": {
      "text/plain": [
       "1.0003511f0"
      ]
     },
     "metadata": {},
     "output_type": "display_data"
    },
    {
     "data": {
      "text/plain": [
       "0.99159914f0"
      ]
     },
     "metadata": {},
     "output_type": "display_data"
    },
    {
     "data": {
      "text/plain": [
       "0.9782408f0"
      ]
     },
     "metadata": {},
     "output_type": "display_data"
    },
    {
     "data": {
      "text/plain": [
       "0.96689516f0"
      ]
     },
     "metadata": {},
     "output_type": "display_data"
    },
    {
     "data": {
      "text/plain": [
       "0.95798826f0"
      ]
     },
     "metadata": {},
     "output_type": "display_data"
    },
    {
     "data": {
      "text/plain": [
       "0.94851345f0"
      ]
     },
     "metadata": {},
     "output_type": "display_data"
    },
    {
     "data": {
      "text/plain": [
       "0.9395123f0"
      ]
     },
     "metadata": {},
     "output_type": "display_data"
    },
    {
     "data": {
      "text/plain": [
       "0.92828023f0"
      ]
     },
     "metadata": {},
     "output_type": "display_data"
    },
    {
     "data": {
      "text/plain": [
       "0.9186059f0"
      ]
     },
     "metadata": {},
     "output_type": "display_data"
    },
    {
     "data": {
      "text/plain": [
       "0.9117723f0"
      ]
     },
     "metadata": {},
     "output_type": "display_data"
    },
    {
     "data": {
      "text/plain": [
       "0.90043867f0"
      ]
     },
     "metadata": {},
     "output_type": "display_data"
    },
    {
     "data": {
      "text/plain": [
       "0.89350176f0"
      ]
     },
     "metadata": {},
     "output_type": "display_data"
    },
    {
     "data": {
      "text/plain": [
       "0.88179535f0"
      ]
     },
     "metadata": {},
     "output_type": "display_data"
    },
    {
     "data": {
      "text/plain": [
       "0.8755267f0"
      ]
     },
     "metadata": {},
     "output_type": "display_data"
    },
    {
     "data": {
      "text/plain": [
       "0.86571807f0"
      ]
     },
     "metadata": {},
     "output_type": "display_data"
    },
    {
     "data": {
      "text/plain": [
       "0.85841584f0"
      ]
     },
     "metadata": {},
     "output_type": "display_data"
    },
    {
     "data": {
      "text/plain": [
       "0.84946287f0"
      ]
     },
     "metadata": {},
     "output_type": "display_data"
    },
    {
     "data": {
      "text/plain": [
       "0.83962643f0"
      ]
     },
     "metadata": {},
     "output_type": "display_data"
    },
    {
     "data": {
      "text/plain": [
       "0.8317287f0"
      ]
     },
     "metadata": {},
     "output_type": "display_data"
    },
    {
     "data": {
      "text/plain": [
       "0.82573515f0"
      ]
     },
     "metadata": {},
     "output_type": "display_data"
    },
    {
     "data": {
      "text/plain": [
       "0.8146133f0"
      ]
     },
     "metadata": {},
     "output_type": "display_data"
    },
    {
     "data": {
      "text/plain": [
       "0.8076206f0"
      ]
     },
     "metadata": {},
     "output_type": "display_data"
    },
    {
     "data": {
      "text/plain": [
       "0.7999879f0"
      ]
     },
     "metadata": {},
     "output_type": "display_data"
    },
    {
     "data": {
      "text/plain": [
       "0.7911133f0"
      ]
     },
     "metadata": {},
     "output_type": "display_data"
    },
    {
     "data": {
      "text/plain": [
       "0.78544617f0"
      ]
     },
     "metadata": {},
     "output_type": "display_data"
    },
    {
     "data": {
      "text/plain": [
       "0.7792936f0"
      ]
     },
     "metadata": {},
     "output_type": "display_data"
    },
    {
     "data": {
      "text/plain": [
       "0.7696101f0"
      ]
     },
     "metadata": {},
     "output_type": "display_data"
    },
    {
     "data": {
      "text/plain": [
       "0.76330876f0"
      ]
     },
     "metadata": {},
     "output_type": "display_data"
    },
    {
     "data": {
      "text/plain": [
       "0.75713843f0"
      ]
     },
     "metadata": {},
     "output_type": "display_data"
    },
    {
     "data": {
      "text/plain": [
       "0.74792993f0"
      ]
     },
     "metadata": {},
     "output_type": "display_data"
    },
    {
     "data": {
      "text/plain": [
       "0.7434871f0"
      ]
     },
     "metadata": {},
     "output_type": "display_data"
    },
    {
     "data": {
      "text/plain": [
       "0.73438525f0"
      ]
     },
     "metadata": {},
     "output_type": "display_data"
    },
    {
     "data": {
      "text/plain": [
       "0.7262105f0"
      ]
     },
     "metadata": {},
     "output_type": "display_data"
    },
    {
     "data": {
      "text/plain": [
       "0.7227762f0"
      ]
     },
     "metadata": {},
     "output_type": "display_data"
    },
    {
     "data": {
      "text/plain": [
       "0.712419f0"
      ]
     },
     "metadata": {},
     "output_type": "display_data"
    },
    {
     "data": {
      "text/plain": [
       "0.70947313f0"
      ]
     },
     "metadata": {},
     "output_type": "display_data"
    },
    {
     "data": {
      "text/plain": [
       "0.69958025f0"
      ]
     },
     "metadata": {},
     "output_type": "display_data"
    },
    {
     "data": {
      "text/plain": [
       "0.6950585f0"
      ]
     },
     "metadata": {},
     "output_type": "display_data"
    },
    {
     "data": {
      "text/plain": [
       "0.6874256f0"
      ]
     },
     "metadata": {},
     "output_type": "display_data"
    },
    {
     "data": {
      "text/plain": [
       "0.6823381f0"
      ]
     },
     "metadata": {},
     "output_type": "display_data"
    },
    {
     "data": {
      "text/plain": [
       "0.6741119f0"
      ]
     },
     "metadata": {},
     "output_type": "display_data"
    },
    {
     "data": {
      "text/plain": [
       "0.6675685f0"
      ]
     },
     "metadata": {},
     "output_type": "display_data"
    },
    {
     "data": {
      "text/plain": [
       "0.66123116f0"
      ]
     },
     "metadata": {},
     "output_type": "display_data"
    },
    {
     "data": {
      "text/plain": [
       "0.6559008f0"
      ]
     },
     "metadata": {},
     "output_type": "display_data"
    },
    {
     "data": {
      "text/plain": [
       "0.6501382f0"
      ]
     },
     "metadata": {},
     "output_type": "display_data"
    },
    {
     "data": {
      "text/plain": [
       "0.64337367f0"
      ]
     },
     "metadata": {},
     "output_type": "display_data"
    },
    {
     "data": {
      "text/plain": [
       "0.6365741f0"
      ]
     },
     "metadata": {},
     "output_type": "display_data"
    },
    {
     "data": {
      "text/plain": [
       "0.6315645f0"
      ]
     },
     "metadata": {},
     "output_type": "display_data"
    },
    {
     "data": {
      "text/plain": [
       "0.6253424f0"
      ]
     },
     "metadata": {},
     "output_type": "display_data"
    },
    {
     "data": {
      "text/plain": [
       "0.6175077f0"
      ]
     },
     "metadata": {},
     "output_type": "display_data"
    },
    {
     "data": {
      "text/plain": [
       "0.61323225f0"
      ]
     },
     "metadata": {},
     "output_type": "display_data"
    },
    {
     "data": {
      "text/plain": [
       "0.60782707f0"
      ]
     },
     "metadata": {},
     "output_type": "display_data"
    },
    {
     "data": {
      "text/plain": [
       "0.6013025f0"
      ]
     },
     "metadata": {},
     "output_type": "display_data"
    },
    {
     "data": {
      "text/plain": [
       "0.5957245f0"
      ]
     },
     "metadata": {},
     "output_type": "display_data"
    },
    {
     "data": {
      "text/plain": [
       "0.58875054f0"
      ]
     },
     "metadata": {},
     "output_type": "display_data"
    },
    {
     "data": {
      "text/plain": [
       "0.5853001f0"
      ]
     },
     "metadata": {},
     "output_type": "display_data"
    },
    {
     "data": {
      "text/plain": [
       "0.57893854f0"
      ]
     },
     "metadata": {},
     "output_type": "display_data"
    },
    {
     "data": {
      "text/plain": [
       "0.57268435f0"
      ]
     },
     "metadata": {},
     "output_type": "display_data"
    },
    {
     "data": {
      "text/plain": [
       "0.56790334f0"
      ]
     },
     "metadata": {},
     "output_type": "display_data"
    },
    {
     "data": {
      "text/plain": [
       "0.5643723f0"
      ]
     },
     "metadata": {},
     "output_type": "display_data"
    },
    {
     "data": {
      "text/plain": [
       "0.5580705f0"
      ]
     },
     "metadata": {},
     "output_type": "display_data"
    },
    {
     "data": {
      "text/plain": [
       "0.5517192f0"
      ]
     },
     "metadata": {},
     "output_type": "display_data"
    },
    {
     "data": {
      "text/plain": [
       "0.5481311f0"
      ]
     },
     "metadata": {},
     "output_type": "display_data"
    },
    {
     "data": {
      "text/plain": [
       "0.5424515f0"
      ]
     },
     "metadata": {},
     "output_type": "display_data"
    },
    {
     "data": {
      "text/plain": [
       "0.53738207f0"
      ]
     },
     "metadata": {},
     "output_type": "display_data"
    },
    {
     "data": {
      "text/plain": [
       "0.53175366f0"
      ]
     },
     "metadata": {},
     "output_type": "display_data"
    },
    {
     "data": {
      "text/plain": [
       "0.52799624f0"
      ]
     },
     "metadata": {},
     "output_type": "display_data"
    },
    {
     "data": {
      "text/plain": [
       "0.52274597f0"
      ]
     },
     "metadata": {},
     "output_type": "display_data"
    },
    {
     "data": {
      "text/plain": [
       "0.51779705f0"
      ]
     },
     "metadata": {},
     "output_type": "display_data"
    },
    {
     "data": {
      "text/plain": [
       "0.51138926f0"
      ]
     },
     "metadata": {},
     "output_type": "display_data"
    },
    {
     "data": {
      "text/plain": [
       "0.50888073f0"
      ]
     },
     "metadata": {},
     "output_type": "display_data"
    },
    {
     "data": {
      "text/plain": [
       "0.5032673f0"
      ]
     },
     "metadata": {},
     "output_type": "display_data"
    },
    {
     "data": {
      "text/plain": [
       "0.49937174f0"
      ]
     },
     "metadata": {},
     "output_type": "display_data"
    },
    {
     "data": {
      "text/plain": [
       "0.49682224f0"
      ]
     },
     "metadata": {},
     "output_type": "display_data"
    },
    {
     "data": {
      "text/plain": [
       "0.4902181f0"
      ]
     },
     "metadata": {},
     "output_type": "display_data"
    },
    {
     "data": {
      "text/plain": [
       "0.48572817f0"
      ]
     },
     "metadata": {},
     "output_type": "display_data"
    },
    {
     "data": {
      "text/plain": [
       "0.48183233f0"
      ]
     },
     "metadata": {},
     "output_type": "display_data"
    },
    {
     "data": {
      "text/plain": [
       "0.47639918f0"
      ]
     },
     "metadata": {},
     "output_type": "display_data"
    },
    {
     "data": {
      "text/plain": [
       "0.47507033f0"
      ]
     },
     "metadata": {},
     "output_type": "display_data"
    },
    {
     "data": {
      "text/plain": [
       "0.46888652f0"
      ]
     },
     "metadata": {},
     "output_type": "display_data"
    },
    {
     "data": {
      "text/plain": [
       "0.46484157f0"
      ]
     },
     "metadata": {},
     "output_type": "display_data"
    },
    {
     "data": {
      "text/plain": [
       "0.46051887f0"
      ]
     },
     "metadata": {},
     "output_type": "display_data"
    },
    {
     "data": {
      "text/plain": [
       "0.4549481f0"
      ]
     },
     "metadata": {},
     "output_type": "display_data"
    },
    {
     "data": {
      "text/plain": [
       "0.45258924f0"
      ]
     },
     "metadata": {},
     "output_type": "display_data"
    },
    {
     "data": {
      "text/plain": [
       "0.44516465f0"
      ]
     },
     "metadata": {},
     "output_type": "display_data"
    },
    {
     "data": {
      "text/plain": [
       "0.44413555f0"
      ]
     },
     "metadata": {},
     "output_type": "display_data"
    },
    {
     "data": {
      "text/plain": [
       "0.4384475f0"
      ]
     },
     "metadata": {},
     "output_type": "display_data"
    },
    {
     "data": {
      "text/plain": [
       "0.43565515f0"
      ]
     },
     "metadata": {},
     "output_type": "display_data"
    },
    {
     "data": {
      "text/plain": [
       "0.43164703f0"
      ]
     },
     "metadata": {},
     "output_type": "display_data"
    },
    {
     "data": {
      "text/plain": [
       "0.4269116f0"
      ]
     },
     "metadata": {},
     "output_type": "display_data"
    },
    {
     "data": {
      "text/plain": [
       "0.4243636f0"
      ]
     },
     "metadata": {},
     "output_type": "display_data"
    },
    {
     "data": {
      "text/plain": [
       "0.419328f0"
      ]
     },
     "metadata": {},
     "output_type": "display_data"
    },
    {
     "data": {
      "text/plain": [
       "0.41579613f0"
      ]
     },
     "metadata": {},
     "output_type": "display_data"
    },
    {
     "data": {
      "text/plain": [
       "0.4119616f0"
      ]
     },
     "metadata": {},
     "output_type": "display_data"
    },
    {
     "data": {
      "text/plain": [
       "0.40805724f0"
      ]
     },
     "metadata": {},
     "output_type": "display_data"
    },
    {
     "data": {
      "text/plain": [
       "0.4037508f0"
      ]
     },
     "metadata": {},
     "output_type": "display_data"
    },
    {
     "data": {
      "text/plain": [
       "0.40193692f0"
      ]
     },
     "metadata": {},
     "output_type": "display_data"
    },
    {
     "data": {
      "text/plain": [
       "0.3980738f0"
      ]
     },
     "metadata": {},
     "output_type": "display_data"
    },
    {
     "data": {
      "text/plain": [
       "0.39334902f0"
      ]
     },
     "metadata": {},
     "output_type": "display_data"
    },
    {
     "data": {
      "text/plain": [
       "0.3910541f0"
      ]
     },
     "metadata": {},
     "output_type": "display_data"
    },
    {
     "data": {
      "text/plain": [
       "0.38615018f0"
      ]
     },
     "metadata": {},
     "output_type": "display_data"
    },
    {
     "data": {
      "text/plain": [
       "0.3838023f0"
      ]
     },
     "metadata": {},
     "output_type": "display_data"
    },
    {
     "data": {
      "text/plain": [
       "0.38040742f0"
      ]
     },
     "metadata": {},
     "output_type": "display_data"
    },
    {
     "data": {
      "text/plain": [
       "0.3754694f0"
      ]
     },
     "metadata": {},
     "output_type": "display_data"
    },
    {
     "data": {
      "text/plain": [
       "0.3733782f0"
      ]
     },
     "metadata": {},
     "output_type": "display_data"
    },
    {
     "data": {
      "text/plain": [
       "0.37030783f0"
      ]
     },
     "metadata": {},
     "output_type": "display_data"
    },
    {
     "data": {
      "text/plain": [
       "0.36684632f0"
      ]
     },
     "metadata": {},
     "output_type": "display_data"
    },
    {
     "data": {
      "text/plain": [
       "0.3640602f0"
      ]
     },
     "metadata": {},
     "output_type": "display_data"
    },
    {
     "data": {
      "text/plain": [
       "0.36065778f0"
      ]
     },
     "metadata": {},
     "output_type": "display_data"
    },
    {
     "data": {
      "text/plain": [
       "0.36232582f0"
      ]
     },
     "metadata": {},
     "output_type": "display_data"
    },
    {
     "data": {
      "text/plain": [
       "0.3551237f0"
      ]
     },
     "metadata": {},
     "output_type": "display_data"
    },
    {
     "data": {
      "text/plain": [
       "0.3546552f0"
      ]
     },
     "metadata": {},
     "output_type": "display_data"
    },
    {
     "data": {
      "text/plain": [
       "0.34930536f0"
      ]
     },
     "metadata": {},
     "output_type": "display_data"
    },
    {
     "data": {
      "text/plain": [
       "0.34610575f0"
      ]
     },
     "metadata": {},
     "output_type": "display_data"
    },
    {
     "data": {
      "text/plain": [
       "0.34443146f0"
      ]
     },
     "metadata": {},
     "output_type": "display_data"
    },
    {
     "data": {
      "text/plain": [
       "0.33898267f0"
      ]
     },
     "metadata": {},
     "output_type": "display_data"
    },
    {
     "data": {
      "text/plain": [
       "0.33559814f0"
      ]
     },
     "metadata": {},
     "output_type": "display_data"
    },
    {
     "data": {
      "text/plain": [
       "0.3339514f0"
      ]
     },
     "metadata": {},
     "output_type": "display_data"
    },
    {
     "data": {
      "text/plain": [
       "0.32997453f0"
      ]
     },
     "metadata": {},
     "output_type": "display_data"
    },
    {
     "data": {
      "text/plain": [
       "0.3274599f0"
      ]
     },
     "metadata": {},
     "output_type": "display_data"
    },
    {
     "data": {
      "text/plain": [
       "0.32473785f0"
      ]
     },
     "metadata": {},
     "output_type": "display_data"
    },
    {
     "data": {
      "text/plain": [
       "0.32121298f0"
      ]
     },
     "metadata": {},
     "output_type": "display_data"
    },
    {
     "data": {
      "text/plain": [
       "0.31640205f0"
      ]
     },
     "metadata": {},
     "output_type": "display_data"
    },
    {
     "data": {
      "text/plain": [
       "0.31657228f0"
      ]
     },
     "metadata": {},
     "output_type": "display_data"
    },
    {
     "data": {
      "text/plain": [
       "0.31705242f0"
      ]
     },
     "metadata": {},
     "output_type": "display_data"
    },
    {
     "data": {
      "text/plain": [
       "0.31002712f0"
      ]
     },
     "metadata": {},
     "output_type": "display_data"
    },
    {
     "data": {
      "text/plain": [
       "0.3082697f0"
      ]
     },
     "metadata": {},
     "output_type": "display_data"
    },
    {
     "data": {
      "text/plain": [
       "0.30506325f0"
      ]
     },
     "metadata": {},
     "output_type": "display_data"
    },
    {
     "data": {
      "text/plain": [
       "0.3052216f0"
      ]
     },
     "metadata": {},
     "output_type": "display_data"
    },
    {
     "data": {
      "text/plain": [
       "0.30097434f0"
      ]
     },
     "metadata": {},
     "output_type": "display_data"
    },
    {
     "data": {
      "text/plain": [
       "0.29554698f0"
      ]
     },
     "metadata": {},
     "output_type": "display_data"
    },
    {
     "data": {
      "text/plain": [
       "0.29603228f0"
      ]
     },
     "metadata": {},
     "output_type": "display_data"
    },
    {
     "data": {
      "text/plain": [
       "0.2948449f0"
      ]
     },
     "metadata": {},
     "output_type": "display_data"
    },
    {
     "data": {
      "text/plain": [
       "0.29064286f0"
      ]
     },
     "metadata": {},
     "output_type": "display_data"
    },
    {
     "data": {
      "text/plain": [
       "0.2883199f0"
      ]
     },
     "metadata": {},
     "output_type": "display_data"
    },
    {
     "data": {
      "text/plain": [
       "0.286064f0"
      ]
     },
     "metadata": {},
     "output_type": "display_data"
    },
    {
     "data": {
      "text/plain": [
       "0.286064f0"
      ]
     },
     "metadata": {},
     "output_type": "display_data"
    },
    {
     "data": {
      "text/plain": [
       "u: 252-element Vector{Float32}:\n",
       "  0.2972772\n",
       "  0.24866526\n",
       " -0.297096\n",
       "  0.2586426\n",
       " -0.26656783\n",
       "  0.2858386\n",
       " -0.31509584\n",
       "  0.42699662\n",
       " -0.24300262\n",
       " -0.3057001\n",
       " -0.40232432\n",
       " -0.47478038\n",
       "  0.066631064\n",
       "  ⋮\n",
       "  0.3915459\n",
       "  0.03662568\n",
       " -0.13672073\n",
       " -0.34166884\n",
       " -0.088165045\n",
       "  0.618953\n",
       " -0.4559735\n",
       " -0.10634921\n",
       " -0.28423107\n",
       "  0.5201158\n",
       " -0.4805952\n",
       " -0.02316492"
      ]
     },
     "execution_count": 26,
     "metadata": {},
     "output_type": "execute_result"
    }
   ],
   "source": [
    "result_neuralode = DiffEqFlux.sciml_train(loss_neuralode, prob_neuralode.p,\n",
    "                                          ADAM(0.05), cb = callback,\n",
    "                                          maxiters = 300)"
   ]
  },
  {
   "cell_type": "code",
   "execution_count": 29,
   "id": "c3103d4a",
   "metadata": {},
   "outputs": [
    {
     "data": {
      "text/plain": [
       "2×30 Matrix{Float32}:\n",
       " 2.0  1.85437   1.66575  1.26221  0.622808  …  1.3485    1.28683   1.12\n",
       " 0.0  0.613499  1.22196  1.69551  1.76702      0.424962  0.732777  1.03666"
      ]
     },
     "execution_count": 29,
     "metadata": {},
     "output_type": "execute_result"
    }
   ],
   "source": [
    "ode_fit = predict_neuralode(result_neuralode)\n"
   ]
  },
  {
   "cell_type": "code",
   "execution_count": 30,
   "id": "d4f16925",
   "metadata": {},
   "outputs": [
    {
     "data": {
      "image/svg+xml": [
       "<?xml version=\"1.0\" encoding=\"utf-8\"?>\n",
       "<svg xmlns=\"http://www.w3.org/2000/svg\" xmlns:xlink=\"http://www.w3.org/1999/xlink\" width=\"600\" height=\"400\" viewBox=\"0 0 2400 1600\">\n",
       "<defs>\n",
       "  <clipPath id=\"clip510\">\n",
       "    <rect x=\"0\" y=\"0\" width=\"2400\" height=\"1600\"/>\n",
       "  </clipPath>\n",
       "</defs>\n",
       "<path clip-path=\"url(#clip510)\" d=\"\n",
       "M0 1600 L2400 1600 L2400 0 L0 0  Z\n",
       "  \" fill=\"#ffffff\" fill-rule=\"evenodd\" fill-opacity=\"1\"/>\n",
       "<defs>\n",
       "  <clipPath id=\"clip511\">\n",
       "    <rect x=\"480\" y=\"0\" width=\"1681\" height=\"1600\"/>\n",
       "  </clipPath>\n",
       "</defs>\n",
       "<path clip-path=\"url(#clip510)\" d=\"\n",
       "M147.478 1486.45 L2352.76 1486.45 L2352.76 47.2441 L147.478 47.2441  Z\n",
       "  \" fill=\"#ffffff\" fill-rule=\"evenodd\" fill-opacity=\"1\"/>\n",
       "<defs>\n",
       "  <clipPath id=\"clip512\">\n",
       "    <rect x=\"147\" y=\"47\" width=\"2206\" height=\"1440\"/>\n",
       "  </clipPath>\n",
       "</defs>\n",
       "<polyline clip-path=\"url(#clip512)\" style=\"stroke:#000000; stroke-linecap:round; stroke-linejoin:round; stroke-width:2; stroke-opacity:0.1; fill:none\" points=\"\n",
       "  209.891,1486.45 209.891,47.2441 \n",
       "  \"/>\n",
       "<polyline clip-path=\"url(#clip512)\" style=\"stroke:#000000; stroke-linecap:round; stroke-linejoin:round; stroke-width:2; stroke-opacity:0.1; fill:none\" points=\"\n",
       "  903.375,1486.45 903.375,47.2441 \n",
       "  \"/>\n",
       "<polyline clip-path=\"url(#clip512)\" style=\"stroke:#000000; stroke-linecap:round; stroke-linejoin:round; stroke-width:2; stroke-opacity:0.1; fill:none\" points=\"\n",
       "  1596.86,1486.45 1596.86,47.2441 \n",
       "  \"/>\n",
       "<polyline clip-path=\"url(#clip512)\" style=\"stroke:#000000; stroke-linecap:round; stroke-linejoin:round; stroke-width:2; stroke-opacity:0.1; fill:none\" points=\"\n",
       "  2290.34,1486.45 2290.34,47.2441 \n",
       "  \"/>\n",
       "<polyline clip-path=\"url(#clip510)\" style=\"stroke:#000000; stroke-linecap:round; stroke-linejoin:round; stroke-width:4; stroke-opacity:1; fill:none\" points=\"\n",
       "  147.478,1486.45 2352.76,1486.45 \n",
       "  \"/>\n",
       "<polyline clip-path=\"url(#clip510)\" style=\"stroke:#000000; stroke-linecap:round; stroke-linejoin:round; stroke-width:4; stroke-opacity:1; fill:none\" points=\"\n",
       "  209.891,1486.45 209.891,1467.55 \n",
       "  \"/>\n",
       "<polyline clip-path=\"url(#clip510)\" style=\"stroke:#000000; stroke-linecap:round; stroke-linejoin:round; stroke-width:4; stroke-opacity:1; fill:none\" points=\"\n",
       "  903.375,1486.45 903.375,1467.55 \n",
       "  \"/>\n",
       "<polyline clip-path=\"url(#clip510)\" style=\"stroke:#000000; stroke-linecap:round; stroke-linejoin:round; stroke-width:4; stroke-opacity:1; fill:none\" points=\"\n",
       "  1596.86,1486.45 1596.86,1467.55 \n",
       "  \"/>\n",
       "<polyline clip-path=\"url(#clip510)\" style=\"stroke:#000000; stroke-linecap:round; stroke-linejoin:round; stroke-width:4; stroke-opacity:1; fill:none\" points=\"\n",
       "  2290.34,1486.45 2290.34,1467.55 \n",
       "  \"/>\n",
       "<path clip-path=\"url(#clip510)\" d=\"M187.276 1517.37 Q183.665 1517.37 181.836 1520.93 Q180.03 1524.47 180.03 1531.6 Q180.03 1538.71 181.836 1542.27 Q183.665 1545.82 187.276 1545.82 Q190.91 1545.82 192.716 1542.27 Q194.544 1538.71 194.544 1531.6 Q194.544 1524.47 192.716 1520.93 Q190.91 1517.37 187.276 1517.37 M187.276 1513.66 Q193.086 1513.66 196.142 1518.27 Q199.22 1522.85 199.22 1531.6 Q199.22 1540.33 196.142 1544.94 Q193.086 1549.52 187.276 1549.52 Q181.466 1549.52 178.387 1544.94 Q175.331 1540.33 175.331 1531.6 Q175.331 1522.85 178.387 1518.27 Q181.466 1513.66 187.276 1513.66 Z\" fill=\"#000000\" fill-rule=\"evenodd\" fill-opacity=\"1\" /><path clip-path=\"url(#clip510)\" d=\"M207.438 1542.97 L212.322 1542.97 L212.322 1548.85 L207.438 1548.85 L207.438 1542.97 Z\" fill=\"#000000\" fill-rule=\"evenodd\" fill-opacity=\"1\" /><path clip-path=\"url(#clip510)\" d=\"M232.507 1517.37 Q228.896 1517.37 227.067 1520.93 Q225.262 1524.47 225.262 1531.6 Q225.262 1538.71 227.067 1542.27 Q228.896 1545.82 232.507 1545.82 Q236.141 1545.82 237.947 1542.27 Q239.776 1538.71 239.776 1531.6 Q239.776 1524.47 237.947 1520.93 Q236.141 1517.37 232.507 1517.37 M232.507 1513.66 Q238.317 1513.66 241.373 1518.27 Q244.451 1522.85 244.451 1531.6 Q244.451 1540.33 241.373 1544.94 Q238.317 1549.52 232.507 1549.52 Q226.697 1549.52 223.618 1544.94 Q220.563 1540.33 220.563 1531.6 Q220.563 1522.85 223.618 1518.27 Q226.697 1513.66 232.507 1513.66 Z\" fill=\"#000000\" fill-rule=\"evenodd\" fill-opacity=\"1\" /><path clip-path=\"url(#clip510)\" d=\"M881.257 1517.37 Q877.646 1517.37 875.817 1520.93 Q874.012 1524.47 874.012 1531.6 Q874.012 1538.71 875.817 1542.27 Q877.646 1545.82 881.257 1545.82 Q884.891 1545.82 886.697 1542.27 Q888.526 1538.71 888.526 1531.6 Q888.526 1524.47 886.697 1520.93 Q884.891 1517.37 881.257 1517.37 M881.257 1513.66 Q887.067 1513.66 890.123 1518.27 Q893.202 1522.85 893.202 1531.6 Q893.202 1540.33 890.123 1544.94 Q887.067 1549.52 881.257 1549.52 Q875.447 1549.52 872.368 1544.94 Q869.313 1540.33 869.313 1531.6 Q869.313 1522.85 872.368 1518.27 Q875.447 1513.66 881.257 1513.66 Z\" fill=\"#000000\" fill-rule=\"evenodd\" fill-opacity=\"1\" /><path clip-path=\"url(#clip510)\" d=\"M901.419 1542.97 L906.303 1542.97 L906.303 1548.85 L901.419 1548.85 L901.419 1542.97 Z\" fill=\"#000000\" fill-rule=\"evenodd\" fill-opacity=\"1\" /><path clip-path=\"url(#clip510)\" d=\"M916.535 1514.29 L934.891 1514.29 L934.891 1518.22 L920.817 1518.22 L920.817 1526.7 Q921.836 1526.35 922.854 1526.19 Q923.873 1526 924.891 1526 Q930.678 1526 934.058 1529.17 Q937.437 1532.34 937.437 1537.76 Q937.437 1543.34 933.965 1546.44 Q930.493 1549.52 924.174 1549.52 Q921.998 1549.52 919.729 1549.15 Q917.484 1548.78 915.076 1548.04 L915.076 1543.34 Q917.16 1544.47 919.382 1545.03 Q921.604 1545.58 924.081 1545.58 Q928.086 1545.58 930.424 1543.48 Q932.762 1541.37 932.762 1537.76 Q932.762 1534.15 930.424 1532.04 Q928.086 1529.94 924.081 1529.94 Q922.206 1529.94 920.331 1530.35 Q918.479 1530.77 916.535 1531.65 L916.535 1514.29 Z\" fill=\"#000000\" fill-rule=\"evenodd\" fill-opacity=\"1\" /><path clip-path=\"url(#clip510)\" d=\"M1564.01 1544.91 L1571.65 1544.91 L1571.65 1518.55 L1563.34 1520.21 L1563.34 1515.95 L1571.6 1514.29 L1576.28 1514.29 L1576.28 1544.91 L1583.92 1544.91 L1583.92 1548.85 L1564.01 1548.85 L1564.01 1544.91 Z\" fill=\"#000000\" fill-rule=\"evenodd\" fill-opacity=\"1\" /><path clip-path=\"url(#clip510)\" d=\"M1593.36 1542.97 L1598.25 1542.97 L1598.25 1548.85 L1593.36 1548.85 L1593.36 1542.97 Z\" fill=\"#000000\" fill-rule=\"evenodd\" fill-opacity=\"1\" /><path clip-path=\"url(#clip510)\" d=\"M1618.43 1517.37 Q1614.82 1517.37 1612.99 1520.93 Q1611.19 1524.47 1611.19 1531.6 Q1611.19 1538.71 1612.99 1542.27 Q1614.82 1545.82 1618.43 1545.82 Q1622.07 1545.82 1623.87 1542.27 Q1625.7 1538.71 1625.7 1531.6 Q1625.7 1524.47 1623.87 1520.93 Q1622.07 1517.37 1618.43 1517.37 M1618.43 1513.66 Q1624.24 1513.66 1627.3 1518.27 Q1630.38 1522.85 1630.38 1531.6 Q1630.38 1540.33 1627.3 1544.94 Q1624.24 1549.52 1618.43 1549.52 Q1612.62 1549.52 1609.54 1544.94 Q1606.49 1540.33 1606.49 1531.6 Q1606.49 1522.85 1609.54 1518.27 Q1612.62 1513.66 1618.43 1513.66 Z\" fill=\"#000000\" fill-rule=\"evenodd\" fill-opacity=\"1\" /><path clip-path=\"url(#clip510)\" d=\"M2257.99 1544.91 L2265.63 1544.91 L2265.63 1518.55 L2257.32 1520.21 L2257.32 1515.95 L2265.59 1514.29 L2270.26 1514.29 L2270.26 1544.91 L2277.9 1544.91 L2277.9 1548.85 L2257.99 1548.85 L2257.99 1544.91 Z\" fill=\"#000000\" fill-rule=\"evenodd\" fill-opacity=\"1\" /><path clip-path=\"url(#clip510)\" d=\"M2287.34 1542.97 L2292.23 1542.97 L2292.23 1548.85 L2287.34 1548.85 L2287.34 1542.97 Z\" fill=\"#000000\" fill-rule=\"evenodd\" fill-opacity=\"1\" /><path clip-path=\"url(#clip510)\" d=\"M2302.46 1514.29 L2320.82 1514.29 L2320.82 1518.22 L2306.74 1518.22 L2306.74 1526.7 Q2307.76 1526.35 2308.78 1526.19 Q2309.8 1526 2310.82 1526 Q2316.6 1526 2319.98 1529.17 Q2323.36 1532.34 2323.36 1537.76 Q2323.36 1543.34 2319.89 1546.44 Q2316.42 1549.52 2310.1 1549.52 Q2307.92 1549.52 2305.65 1549.15 Q2303.41 1548.78 2301 1548.04 L2301 1543.34 Q2303.09 1544.47 2305.31 1545.03 Q2307.53 1545.58 2310.01 1545.58 Q2314.01 1545.58 2316.35 1543.48 Q2318.69 1541.37 2318.69 1537.76 Q2318.69 1534.15 2316.35 1532.04 Q2314.01 1529.94 2310.01 1529.94 Q2308.13 1529.94 2306.26 1530.35 Q2304.4 1530.77 2302.46 1531.65 L2302.46 1514.29 Z\" fill=\"#000000\" fill-rule=\"evenodd\" fill-opacity=\"1\" /><polyline clip-path=\"url(#clip512)\" style=\"stroke:#000000; stroke-linecap:round; stroke-linejoin:round; stroke-width:2; stroke-opacity:0.1; fill:none\" points=\"\n",
       "  147.478,1182.39 2352.76,1182.39 \n",
       "  \"/>\n",
       "<polyline clip-path=\"url(#clip512)\" style=\"stroke:#000000; stroke-linecap:round; stroke-linejoin:round; stroke-width:2; stroke-opacity:0.1; fill:none\" points=\"\n",
       "  147.478,817.587 2352.76,817.587 \n",
       "  \"/>\n",
       "<polyline clip-path=\"url(#clip512)\" style=\"stroke:#000000; stroke-linecap:round; stroke-linejoin:round; stroke-width:2; stroke-opacity:0.1; fill:none\" points=\"\n",
       "  147.478,452.782 2352.76,452.782 \n",
       "  \"/>\n",
       "<polyline clip-path=\"url(#clip512)\" style=\"stroke:#000000; stroke-linecap:round; stroke-linejoin:round; stroke-width:2; stroke-opacity:0.1; fill:none\" points=\"\n",
       "  147.478,87.9763 2352.76,87.9763 \n",
       "  \"/>\n",
       "<polyline clip-path=\"url(#clip510)\" style=\"stroke:#000000; stroke-linecap:round; stroke-linejoin:round; stroke-width:4; stroke-opacity:1; fill:none\" points=\"\n",
       "  147.478,1486.45 147.478,47.2441 \n",
       "  \"/>\n",
       "<polyline clip-path=\"url(#clip510)\" style=\"stroke:#000000; stroke-linecap:round; stroke-linejoin:round; stroke-width:4; stroke-opacity:1; fill:none\" points=\"\n",
       "  147.478,1182.39 166.376,1182.39 \n",
       "  \"/>\n",
       "<polyline clip-path=\"url(#clip510)\" style=\"stroke:#000000; stroke-linecap:round; stroke-linejoin:round; stroke-width:4; stroke-opacity:1; fill:none\" points=\"\n",
       "  147.478,817.587 166.376,817.587 \n",
       "  \"/>\n",
       "<polyline clip-path=\"url(#clip510)\" style=\"stroke:#000000; stroke-linecap:round; stroke-linejoin:round; stroke-width:4; stroke-opacity:1; fill:none\" points=\"\n",
       "  147.478,452.782 166.376,452.782 \n",
       "  \"/>\n",
       "<polyline clip-path=\"url(#clip510)\" style=\"stroke:#000000; stroke-linecap:round; stroke-linejoin:round; stroke-width:4; stroke-opacity:1; fill:none\" points=\"\n",
       "  147.478,87.9763 166.376,87.9763 \n",
       "  \"/>\n",
       "<path clip-path=\"url(#clip510)\" d=\"M50.9921 1182.84 L80.6679 1182.84 L80.6679 1186.78 L50.9921 1186.78 L50.9921 1182.84 Z\" fill=\"#000000\" fill-rule=\"evenodd\" fill-opacity=\"1\" /><path clip-path=\"url(#clip510)\" d=\"M91.5706 1195.74 L99.2095 1195.74 L99.2095 1169.37 L90.8993 1171.04 L90.8993 1166.78 L99.1632 1165.11 L103.839 1165.11 L103.839 1195.74 L111.478 1195.74 L111.478 1199.67 L91.5706 1199.67 L91.5706 1195.74 Z\" fill=\"#000000\" fill-rule=\"evenodd\" fill-opacity=\"1\" /><path clip-path=\"url(#clip510)\" d=\"M99.5335 803.386 Q95.9224 803.386 94.0937 806.95 Q92.2882 810.492 92.2882 817.622 Q92.2882 824.728 94.0937 828.293 Q95.9224 831.834 99.5335 831.834 Q103.168 831.834 104.973 828.293 Q106.802 824.728 106.802 817.622 Q106.802 810.492 104.973 806.95 Q103.168 803.386 99.5335 803.386 M99.5335 799.682 Q105.344 799.682 108.399 804.288 Q111.478 808.872 111.478 817.622 Q111.478 826.348 108.399 830.955 Q105.344 835.538 99.5335 835.538 Q93.7234 835.538 90.6447 830.955 Q87.5892 826.348 87.5892 817.622 Q87.5892 808.872 90.6447 804.288 Q93.7234 799.682 99.5335 799.682 Z\" fill=\"#000000\" fill-rule=\"evenodd\" fill-opacity=\"1\" /><path clip-path=\"url(#clip510)\" d=\"M91.5706 466.126 L99.2095 466.126 L99.2095 439.761 L90.8993 441.427 L90.8993 437.168 L99.1632 435.502 L103.839 435.502 L103.839 466.126 L111.478 466.126 L111.478 470.062 L91.5706 470.062 L91.5706 466.126 Z\" fill=\"#000000\" fill-rule=\"evenodd\" fill-opacity=\"1\" /><path clip-path=\"url(#clip510)\" d=\"M95.1586 101.321 L111.478 101.321 L111.478 105.256 L89.5336 105.256 L89.5336 101.321 Q92.1956 98.5665 96.7789 93.9369 Q101.385 89.2841 102.566 87.9416 Q104.811 85.4184 105.691 83.6823 Q106.594 81.9231 106.594 80.2333 Q106.594 77.4786 104.649 75.7425 Q102.728 74.0064 99.6261 74.0064 Q97.4271 74.0064 94.9734 74.7703 Q92.5428 75.5342 89.7651 77.0851 L89.7651 72.3629 Q92.5891 71.2287 95.0428 70.65 Q97.4965 70.0713 99.5335 70.0713 Q104.904 70.0713 108.098 72.7565 Q111.293 75.4416 111.293 79.9323 Q111.293 82.062 110.483 83.9832 Q109.696 85.8814 107.589 88.474 Q107.01 89.1453 103.909 92.3628 Q100.807 95.5573 95.1586 101.321 Z\" fill=\"#000000\" fill-rule=\"evenodd\" fill-opacity=\"1\" /><polyline clip-path=\"url(#clip512)\" style=\"stroke:#009af9; stroke-linecap:round; stroke-linejoin:round; stroke-width:4; stroke-opacity:1; fill:none\" points=\"\n",
       "  209.891,87.9763 281.631,107.492 353.371,182.177 425.11,365.823 496.85,607.049 568.59,846.736 640.33,1073.35 712.069,1270.99 783.809,1398.01 855.549,1441.45 \n",
       "  927.288,1440.95 999.028,1431.94 1070.77,1419.34 1142.51,1384.02 1214.25,1302.07 1285.99,1175.41 1357.73,1028.31 1429.47,880.838 1501.21,738.485 1572.95,602.136 \n",
       "  1644.69,477.631 1716.42,378.499 1788.16,317.022 1859.9,291.39 1931.64,287.745 2003.38,292.152 2075.12,297.684 2146.86,304.351 2218.6,317.723 2290.34,346.207 \n",
       "  \n",
       "  \"/>\n",
       "<polyline clip-path=\"url(#clip512)\" style=\"stroke:#e26f46; stroke-linecap:round; stroke-linejoin:round; stroke-width:4; stroke-opacity:1; fill:none\" points=\"\n",
       "  209.891,817.587 281.631,526.169 353.371,283.245 425.11,157.738 496.85,137.351 568.59,147.769 640.33,162.848 712.069,211.283 783.809,331.657 855.549,509.029 \n",
       "  927.288,699.603 999.028,883.882 1070.77,1059.17 1142.51,1215.26 1214.25,1327.77 1285.99,1382.06 1357.73,1393.86 1429.47,1389.05 1501.21,1381.92 1572.95,1372.02 \n",
       "  1644.69,1348.12 1716.42,1295.37 1788.16,1209.41 1859.9,1101.34 1931.64,985.588 2003.38,871.14 2075.12,760.173 2146.86,652.925 2218.6,551.759 2290.34,462.965 \n",
       "  \n",
       "  \"/>\n",
       "<polyline clip-path=\"url(#clip512)\" style=\"stroke:#3da44d; stroke-linecap:round; stroke-linejoin:round; stroke-width:4; stroke-opacity:1; fill:none\" points=\"\n",
       "  209.891,87.9763 281.631,141.104 353.371,209.914 425.11,357.127 496.85,590.383 568.59,825.461 640.33,1059.52 712.069,1281.14 783.809,1423.87 855.549,1445.72 \n",
       "  927.288,1429.26 999.028,1409.31 1070.77,1390.64 1142.51,1359.55 1214.25,1292.8 1285.99,1168.46 1357.73,1020.25 1429.47,876.344 1501.21,739.363 1572.95,608.93 \n",
       "  1644.69,488.289 1716.42,390.802 1788.16,326.203 1859.9,294.308 1931.64,290.15 2003.38,300.818 2075.12,313.274 2146.86,325.645 2218.6,348.146 2290.34,409.005 \n",
       "  \n",
       "  \"/>\n",
       "<polyline clip-path=\"url(#clip512)\" style=\"stroke:#c271d2; stroke-linecap:round; stroke-linejoin:round; stroke-width:4; stroke-opacity:1; fill:none\" points=\"\n",
       "  209.891,817.587 281.631,593.779 353.371,371.81 425.11,199.057 496.85,172.97 568.59,175.87 640.33,181.399 712.069,210.714 783.809,312.835 855.549,488.098 \n",
       "  927.288,680.017 999.028,868.954 1070.77,1051.94 1142.51,1227.03 1214.25,1370.54 1285.99,1424.72 1357.73,1414.68 1429.47,1392.74 1501.21,1373.54 1572.95,1355.82 \n",
       "  1644.69,1327.82 1716.42,1278.18 1788.16,1210.55 1859.9,1124.88 1931.64,1014.99 2003.38,893.357 2075.12,775.266 2146.86,662.558 2218.6,550.266 2290.34,439.409 \n",
       "  \n",
       "  \"/>\n",
       "<path clip-path=\"url(#clip510)\" d=\"\n",
       "M2004.58 1438.47 L2279.25 1438.47 L2279.25 1179.27 L2004.58 1179.27  Z\n",
       "  \" fill=\"#ffffff\" fill-rule=\"evenodd\" fill-opacity=\"1\"/>\n",
       "<polyline clip-path=\"url(#clip510)\" style=\"stroke:#000000; stroke-linecap:round; stroke-linejoin:round; stroke-width:4; stroke-opacity:1; fill:none\" points=\"\n",
       "  2004.58,1438.47 2279.25,1438.47 2279.25,1179.27 2004.58,1179.27 2004.58,1438.47 \n",
       "  \"/>\n",
       "<polyline clip-path=\"url(#clip510)\" style=\"stroke:#009af9; stroke-linecap:round; stroke-linejoin:round; stroke-width:4; stroke-opacity:1; fill:none\" points=\"\n",
       "  2029.08,1231.11 2176.1,1231.11 \n",
       "  \"/>\n",
       "<path clip-path=\"url(#clip510)\" d=\"M2214.44 1250.8 Q2212.64 1255.43 2210.92 1256.84 Q2209.21 1258.26 2206.34 1258.26 L2202.94 1258.26 L2202.94 1254.69 L2205.44 1254.69 Q2207.2 1254.69 2208.17 1253.86 Q2209.14 1253.02 2210.32 1249.92 L2211.09 1247.98 L2200.6 1222.47 L2205.11 1222.47 L2213.22 1242.75 L2221.32 1222.47 L2225.83 1222.47 L2214.44 1250.8 Z\" fill=\"#000000\" fill-rule=\"evenodd\" fill-opacity=\"1\" /><path clip-path=\"url(#clip510)\" d=\"M2233.12 1244.46 L2240.76 1244.46 L2240.76 1218.09 L2232.45 1219.76 L2232.45 1215.5 L2240.72 1213.83 L2245.39 1213.83 L2245.39 1244.46 L2253.03 1244.46 L2253.03 1248.39 L2233.12 1248.39 L2233.12 1244.46 Z\" fill=\"#000000\" fill-rule=\"evenodd\" fill-opacity=\"1\" /><polyline clip-path=\"url(#clip510)\" style=\"stroke:#e26f46; stroke-linecap:round; stroke-linejoin:round; stroke-width:4; stroke-opacity:1; fill:none\" points=\"\n",
       "  2029.08,1282.95 2176.1,1282.95 \n",
       "  \"/>\n",
       "<path clip-path=\"url(#clip510)\" d=\"M2214.44 1302.64 Q2212.64 1307.27 2210.92 1308.68 Q2209.21 1310.1 2206.34 1310.1 L2202.94 1310.1 L2202.94 1306.53 L2205.44 1306.53 Q2207.2 1306.53 2208.17 1305.7 Q2209.14 1304.86 2210.32 1301.76 L2211.09 1299.82 L2200.6 1274.31 L2205.11 1274.31 L2213.22 1294.59 L2221.32 1274.31 L2225.83 1274.31 L2214.44 1302.64 Z\" fill=\"#000000\" fill-rule=\"evenodd\" fill-opacity=\"1\" /><path clip-path=\"url(#clip510)\" d=\"M2236.34 1296.3 L2252.66 1296.3 L2252.66 1300.23 L2230.72 1300.23 L2230.72 1296.3 Q2233.38 1293.54 2237.96 1288.92 Q2242.57 1284.26 2243.75 1282.92 Q2245.99 1280.4 2246.87 1278.66 Q2247.78 1276.9 2247.78 1275.21 Q2247.78 1272.46 2245.83 1270.72 Q2243.91 1268.98 2240.81 1268.98 Q2238.61 1268.98 2236.16 1269.75 Q2233.73 1270.51 2230.95 1272.06 L2230.95 1267.34 Q2233.77 1266.21 2236.23 1265.63 Q2238.68 1265.05 2240.72 1265.05 Q2246.09 1265.05 2249.28 1267.73 Q2252.48 1270.42 2252.48 1274.91 Q2252.48 1277.04 2251.66 1278.96 Q2250.88 1280.86 2248.77 1283.45 Q2248.19 1284.12 2245.09 1287.34 Q2241.99 1290.54 2236.34 1296.3 Z\" fill=\"#000000\" fill-rule=\"evenodd\" fill-opacity=\"1\" /><polyline clip-path=\"url(#clip510)\" style=\"stroke:#3da44d; stroke-linecap:round; stroke-linejoin:round; stroke-width:4; stroke-opacity:1; fill:none\" points=\"\n",
       "  2029.08,1334.79 2176.1,1334.79 \n",
       "  \"/>\n",
       "<path clip-path=\"url(#clip510)\" d=\"M2214.44 1354.48 Q2212.64 1359.11 2210.92 1360.52 Q2209.21 1361.94 2206.34 1361.94 L2202.94 1361.94 L2202.94 1358.37 L2205.44 1358.37 Q2207.2 1358.37 2208.17 1357.54 Q2209.14 1356.7 2210.32 1353.6 L2211.09 1351.66 L2200.6 1326.15 L2205.11 1326.15 L2213.22 1346.43 L2221.32 1326.15 L2225.83 1326.15 L2214.44 1354.48 Z\" fill=\"#000000\" fill-rule=\"evenodd\" fill-opacity=\"1\" /><path clip-path=\"url(#clip510)\" d=\"M2246.48 1333.44 Q2249.84 1334.16 2251.71 1336.43 Q2253.61 1338.69 2253.61 1342.03 Q2253.61 1347.14 2250.09 1349.94 Q2246.57 1352.75 2240.09 1352.75 Q2237.91 1352.75 2235.6 1352.31 Q2233.31 1351.89 2230.85 1351.03 L2230.85 1346.52 Q2232.8 1347.65 2235.11 1348.23 Q2237.43 1348.81 2239.95 1348.81 Q2244.35 1348.81 2246.64 1347.07 Q2248.96 1345.34 2248.96 1342.03 Q2248.96 1338.97 2246.8 1337.26 Q2244.67 1335.52 2240.85 1335.52 L2236.83 1335.52 L2236.83 1331.68 L2241.04 1331.68 Q2244.49 1331.68 2246.32 1330.32 Q2248.15 1328.93 2248.15 1326.33 Q2248.15 1323.67 2246.25 1322.26 Q2244.37 1320.82 2240.85 1320.82 Q2238.93 1320.82 2236.73 1321.24 Q2234.54 1321.66 2231.9 1322.54 L2231.9 1318.37 Q2234.56 1317.63 2236.87 1317.26 Q2239.21 1316.89 2241.27 1316.89 Q2246.6 1316.89 2249.7 1319.32 Q2252.8 1321.73 2252.8 1325.85 Q2252.8 1328.72 2251.16 1330.71 Q2249.51 1332.68 2246.48 1333.44 Z\" fill=\"#000000\" fill-rule=\"evenodd\" fill-opacity=\"1\" /><polyline clip-path=\"url(#clip510)\" style=\"stroke:#c271d2; stroke-linecap:round; stroke-linejoin:round; stroke-width:4; stroke-opacity:1; fill:none\" points=\"\n",
       "  2029.08,1386.63 2176.1,1386.63 \n",
       "  \"/>\n",
       "<path clip-path=\"url(#clip510)\" d=\"M2214.44 1406.32 Q2212.64 1410.95 2210.92 1412.36 Q2209.21 1413.78 2206.34 1413.78 L2202.94 1413.78 L2202.94 1410.21 L2205.44 1410.21 Q2207.2 1410.21 2208.17 1409.38 Q2209.14 1408.54 2210.32 1405.44 L2211.09 1403.5 L2200.6 1377.99 L2205.11 1377.99 L2213.22 1398.27 L2221.32 1377.99 L2225.83 1377.99 L2214.44 1406.32 Z\" fill=\"#000000\" fill-rule=\"evenodd\" fill-opacity=\"1\" /><path clip-path=\"url(#clip510)\" d=\"M2245.16 1373.43 L2233.35 1391.88 L2245.16 1391.88 L2245.16 1373.43 M2243.93 1369.35 L2249.81 1369.35 L2249.81 1391.88 L2254.74 1391.88 L2254.74 1395.77 L2249.81 1395.77 L2249.81 1403.91 L2245.16 1403.91 L2245.16 1395.77 L2229.56 1395.77 L2229.56 1391.25 L2243.93 1369.35 Z\" fill=\"#000000\" fill-rule=\"evenodd\" fill-opacity=\"1\" /></svg>\n"
      ]
     },
     "execution_count": 30,
     "metadata": {},
     "output_type": "execute_result"
    }
   ],
   "source": [
    "plot(tsteps,[ode_data[1,:],ode_data[2,:],ode_fit[1,:],ode_fit[2,:]])"
   ]
  },
  {
   "cell_type": "code",
   "execution_count": null,
   "id": "69c2bd89",
   "metadata": {},
   "outputs": [],
   "source": []
  }
 ],
 "metadata": {
  "kernelspec": {
   "display_name": "Julia 1.7.3",
   "language": "julia",
   "name": "julia-1.7"
  },
  "language_info": {
   "file_extension": ".jl",
   "mimetype": "application/julia",
   "name": "julia",
   "version": "1.7.3"
  }
 },
 "nbformat": 4,
 "nbformat_minor": 5
}
