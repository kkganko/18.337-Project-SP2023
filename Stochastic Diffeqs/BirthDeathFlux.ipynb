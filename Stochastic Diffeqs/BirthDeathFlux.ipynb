{
 "cells": [
  {
   "cell_type": "code",
   "execution_count": 260,
   "id": "83d3a2c7",
   "metadata": {
    "scrolled": true
   },
   "outputs": [],
   "source": [
    "using DiffEqFlux\n",
    "using SciMLSensitivity\n",
    "using Optimization\n",
    "using StochasticDiffEq, DiffEqCallbacks, DiffEqNoiseProcess\n",
    "using Statistics, LinearAlgebra, Random\n",
    "using Plots\n",
    "using Lux"
   ]
  },
  {
   "cell_type": "code",
   "execution_count": 251,
   "id": "1c9a2db3",
   "metadata": {
    "scrolled": false
   },
   "outputs": [
    {
     "name": "stderr",
     "output_type": "stream",
     "text": [
      "\u001b[33m\u001b[1m┌ \u001b[22m\u001b[39m\u001b[33m\u001b[1mWarning: \u001b[22m\u001b[39mFastChain is being deprecated in favor of Lux.jl. Lux.jl uses functions with explicit parameters f(u,p) like FastChain, but is fully featured and documented machine learning library. See the Lux.jl documentation for more details.\n",
      "\u001b[33m\u001b[1m└ \u001b[22m\u001b[39m\u001b[90m@ DiffEqFlux C:\\Users\\ChemeGrad2021\\.julia\\packages\\DiffEqFlux\\jHIee\\src\\fast_layers.jl:9\u001b[39m\n",
      "\u001b[33m\u001b[1m┌ \u001b[22m\u001b[39m\u001b[33m\u001b[1mWarning: \u001b[22m\u001b[39mFastChain is being deprecated in favor of Lux.jl. Lux.jl uses functions with explicit parameters f(u,p) like FastChain, but is fully featured and documented machine learning library. See the Lux.jl documentation for more details.\n",
      "\u001b[33m\u001b[1m└ \u001b[22m\u001b[39m\u001b[90m@ DiffEqFlux C:\\Users\\ChemeGrad2021\\.julia\\packages\\DiffEqFlux\\jHIee\\src\\fast_layers.jl:9\u001b[39m\n"
     ]
    },
    {
     "data": {
      "text/plain": [
       "NeuralSDE()"
      ]
     },
     "execution_count": 251,
     "metadata": {},
     "output_type": "execute_result"
    }
   ],
   "source": [
    "drift_dudt = FastChain((x, p) -> x.^3,\n",
    "                       FastDense(2, 50, tanh),\n",
    "                       FastDense(50, 2))\n",
    "\n",
    "θ1  = initial_params(drift_dudt)\n",
    "\n",
    "diffusion_dudt = FastChain(FastDense(2, 2))\n",
    "\n",
    "θ2  = initial_params(diffusion_dudt)\n",
    "\n",
    "neuralsde = NeuralSDE(drift_dudt, diffusion_dudt,tspan,2,alg=EM(),dt = 0.05,sensealg=BacksolveAdjoint())\n"
   ]
  },
  {
   "cell_type": "code",
   "execution_count": 252,
   "id": "963bf43d",
   "metadata": {
    "scrolled": true
   },
   "outputs": [
    {
     "data": {
      "text/plain": [
       "2-element Vector{Float32}:\n",
       " 2.187267\n",
       " 0.37195688"
      ]
     },
     "execution_count": 252,
     "metadata": {},
     "output_type": "execute_result"
    }
   ],
   "source": [
    "drift_dudt(u0,θ1)"
   ]
  },
  {
   "cell_type": "code",
   "execution_count": 253,
   "id": "496969cd",
   "metadata": {},
   "outputs": [
    {
     "data": {
      "text/plain": [
       "6-element Vector{Float32}:\n",
       "  0.32012057\n",
       "  0.83985746\n",
       "  0.6637134\n",
       " -1.0098507\n",
       "  0.0\n",
       "  0.0"
      ]
     },
     "execution_count": 253,
     "metadata": {},
     "output_type": "execute_result"
    }
   ],
   "source": [
    "θ2"
   ]
  },
  {
   "cell_type": "code",
   "execution_count": 254,
   "id": "db066a8f",
   "metadata": {},
   "outputs": [
    {
     "data": {
      "text/plain": [
       "2-element Vector{Float32}:\n",
       " 0.64024115\n",
       " 1.6797149"
      ]
     },
     "execution_count": 254,
     "metadata": {},
     "output_type": "execute_result"
    }
   ],
   "source": [
    "diffusion_dudt(u0,θ2)"
   ]
  },
  {
   "cell_type": "code",
   "execution_count": 255,
   "id": "1de1453d",
   "metadata": {
    "scrolled": true
   },
   "outputs": [
    {
     "data": {
      "text/plain": [
       "258-element Vector{Float32}:\n",
       " -0.32642877\n",
       " -0.32715166\n",
       "  0.25843176\n",
       "  0.26027495\n",
       "  0.04604636\n",
       "  0.31543803\n",
       "  0.06730316\n",
       " -0.2651163\n",
       " -0.12979737\n",
       "  0.0024871037\n",
       " -0.197435\n",
       " -0.3304276\n",
       " -0.031165853\n",
       "  ⋮\n",
       " -0.32797635\n",
       "  0.052466344\n",
       " -0.13461556\n",
       "  0.10998238\n",
       "  0.0\n",
       "  0.0\n",
       "  0.32012057\n",
       "  0.83985746\n",
       "  0.6637134\n",
       " -1.0098507\n",
       "  0.0\n",
       "  0.0"
      ]
     },
     "execution_count": 255,
     "metadata": {},
     "output_type": "execute_result"
    }
   ],
   "source": [
    "thet = vcat(θ1,θ2)"
   ]
  },
  {
   "cell_type": "code",
   "execution_count": 256,
   "id": "07ee8c9c",
   "metadata": {
    "scrolled": true
   },
   "outputs": [
    {
     "data": {
      "text/plain": [
       "#133 (generic function with 1 method)"
      ]
     },
     "execution_count": 256,
     "metadata": {},
     "output_type": "execute_result"
    }
   ],
   "source": [
    "l = x -> neuralsde(u0)"
   ]
  },
  {
   "cell_type": "code",
   "execution_count": 257,
   "id": "884eb746",
   "metadata": {},
   "outputs": [
    {
     "ename": "LoadError",
     "evalue": "MethodError: no method matching *(::Vector{Float32}, ::Vector{Float32})\n\u001b[0mClosest candidates are:\n\u001b[0m  *(::Any, ::Any, \u001b[91m::Any\u001b[39m, \u001b[91m::Any...\u001b[39m) at operators.jl:591\n\u001b[0m  *(::StridedVecOrMat, \u001b[91m::LinearAlgebra.LQPackedQ\u001b[39m) at C:\\Users\\ChemeGrad2021\\AppData\\Local\\Microsoft\\WindowsApps\\Julia-1.8.5\\share\\julia\\stdlib\\v1.8\\LinearAlgebra\\src\\lq.jl:293\n\u001b[0m  *(\u001b[91m::AbstractAlgebra.MatrixElem{T}\u001b[39m, ::Vector{T}) where T<:Union{AbstractAlgebra.NCRingElem, AbstractAlgebra.RingElement} at C:\\Users\\ChemeGrad2021\\.julia\\packages\\AbstractAlgebra\\ILy7Z\\src\\Matrix.jl:916\n\u001b[0m  ...",
     "output_type": "error",
     "traceback": [
      "MethodError: no method matching *(::Vector{Float32}, ::Vector{Float32})\n\u001b[0mClosest candidates are:\n\u001b[0m  *(::Any, ::Any, \u001b[91m::Any\u001b[39m, \u001b[91m::Any...\u001b[39m) at operators.jl:591\n\u001b[0m  *(::StridedVecOrMat, \u001b[91m::LinearAlgebra.LQPackedQ\u001b[39m) at C:\\Users\\ChemeGrad2021\\AppData\\Local\\Microsoft\\WindowsApps\\Julia-1.8.5\\share\\julia\\stdlib\\v1.8\\LinearAlgebra\\src\\lq.jl:293\n\u001b[0m  *(\u001b[91m::AbstractAlgebra.MatrixElem{T}\u001b[39m, ::Vector{T}) where T<:Union{AbstractAlgebra.NCRingElem, AbstractAlgebra.RingElement} at C:\\Users\\ChemeGrad2021\\.julia\\packages\\AbstractAlgebra\\ILy7Z\\src\\Matrix.jl:916\n\u001b[0m  ...",
      "",
      "Stacktrace:",
      "  [1] perform_step!(integrator::StochasticDiffEq.SDEIntegrator{EM{true}, false, Vector{Float32}, Float32, Float64, Float64, Vector{Float32}, Float64, Float64, Float32, DiffEqNoiseProcess.NoiseProcess{Float32, 2, Float64, Vector{Float32}, Nothing, Nothing, typeof(DiffEqNoiseProcess.WHITE_NOISE_DIST), typeof(DiffEqNoiseProcess.WHITE_NOISE_BRIDGE), false, ResettableStacks.ResettableStack{Tuple{Float64, Vector{Float32}, Nothing}, false}, ResettableStacks.ResettableStack{Tuple{Float64, Vector{Float32}, Nothing}, false}, DiffEqNoiseProcess.RSWM{Float64}, Nothing, RandomNumbers.Xorshifts.Xoroshiro128Plus}, Nothing, Vector{Float32}, RODESolution{Float32, 2, Vector{Vector{Float32}}, Nothing, Nothing, Vector{Float64}, DiffEqNoiseProcess.NoiseProcess{Float32, 2, Float64, Vector{Float32}, Nothing, Nothing, typeof(DiffEqNoiseProcess.WHITE_NOISE_DIST), typeof(DiffEqNoiseProcess.WHITE_NOISE_BRIDGE), false, ResettableStacks.ResettableStack{Tuple{Float64, Vector{Float32}, Nothing}, false}, ResettableStacks.ResettableStack{Tuple{Float64, Vector{Float32}, Nothing}, false}, DiffEqNoiseProcess.RSWM{Float64}, Nothing, RandomNumbers.Xorshifts.Xoroshiro128Plus}, SDEProblem{Vector{Float32}, Tuple{Float64, Float64}, false, Vector{Float32}, Nothing, SDEFunction{false, SciMLBase.FullSpecialize, DiffEqFlux.var\"#dudt_#203\"{NeuralSDE{Vector{Float32}, FastChain{Tuple{var\"#131#132\", FastDense{typeof(tanh_fast), DiffEqFlux.var\"#initial_params#135\"{Vector{Float32}}, Nothing}, FastDense{typeof(identity), DiffEqFlux.var\"#initial_params#135\"{Vector{Float32}}, Nothing}}}, Nothing, FastChain{Tuple{FastDense{typeof(identity), DiffEqFlux.var\"#initial_params#135\"{Vector{Float32}}, Nothing}}}, Nothing, Tuple{Float32, Float32}, Tuple{}, Base.Pairs{Symbol, Any, Tuple{Symbol, Symbol, Symbol}, NamedTuple{(:alg, :dt, :sensealg), Tuple{EM{true}, Float64, BacksolveAdjoint{0, true, Val{:central}, Nothing}}}}}}, DiffEqFlux.var\"#g#204\"{NeuralSDE{Vector{Float32}, FastChain{Tuple{var\"#131#132\", FastDense{typeof(tanh_fast), DiffEqFlux.var\"#initial_params#135\"{Vector{Float32}}, Nothing}, FastDense{typeof(identity), DiffEqFlux.var\"#initial_params#135\"{Vector{Float32}}, Nothing}}}, Nothing, FastChain{Tuple{FastDense{typeof(identity), DiffEqFlux.var\"#initial_params#135\"{Vector{Float32}}, Nothing}}}, Nothing, Tuple{Float32, Float32}, Tuple{}, Base.Pairs{Symbol, Any, Tuple{Symbol, Symbol, Symbol}, NamedTuple{(:alg, :dt, :sensealg), Tuple{EM{true}, Float64, BacksolveAdjoint{0, true, Val{:central}, Nothing}}}}}}, LinearAlgebra.UniformScaling{Bool}, Nothing, typeof(DiffEqFlux.basic_tgrad), Nothing, Nothing, Nothing, Nothing, Nothing, Nothing, Nothing, Nothing, Nothing, Nothing, Nothing, Nothing, typeof(SciMLBase.DEFAULT_OBSERVED), Nothing, Nothing}, DiffEqFlux.var\"#g#204\"{NeuralSDE{Vector{Float32}, FastChain{Tuple{var\"#131#132\", FastDense{typeof(tanh_fast), DiffEqFlux.var\"#initial_params#135\"{Vector{Float32}}, Nothing}, FastDense{typeof(identity), DiffEqFlux.var\"#initial_params#135\"{Vector{Float32}}, Nothing}}}, Nothing, FastChain{Tuple{FastDense{typeof(identity), DiffEqFlux.var\"#initial_params#135\"{Vector{Float32}}, Nothing}}}, Nothing, Tuple{Float32, Float32}, Tuple{}, Base.Pairs{Symbol, Any, Tuple{Symbol, Symbol, Symbol}, NamedTuple{(:alg, :dt, :sensealg), Tuple{EM{true}, Float64, BacksolveAdjoint{0, true, Val{:central}, Nothing}}}}}}, Base.Pairs{Symbol, Union{}, Tuple{}, NamedTuple{(), Tuple{}}}, Matrix{Float32}}, EM{true}, StochasticDiffEq.LinearInterpolationData{Vector{Vector{Float32}}, Vector{Float64}}, DiffEqBase.Stats, Nothing}, StochasticDiffEq.EMConstantCache, SDEFunction{false, SciMLBase.FullSpecialize, DiffEqFlux.var\"#dudt_#203\"{NeuralSDE{Vector{Float32}, FastChain{Tuple{var\"#131#132\", FastDense{typeof(tanh_fast), DiffEqFlux.var\"#initial_params#135\"{Vector{Float32}}, Nothing}, FastDense{typeof(identity), DiffEqFlux.var\"#initial_params#135\"{Vector{Float32}}, Nothing}}}, Nothing, FastChain{Tuple{FastDense{typeof(identity), DiffEqFlux.var\"#initial_params#135\"{Vector{Float32}}, Nothing}}}, Nothing, Tuple{Float32, Float32}, Tuple{}, Base.Pairs{Symbol, Any, Tuple{Symbol, Symbol, Symbol}, NamedTuple{(:alg, :dt, :sensealg), Tuple{EM{true}, Float64, BacksolveAdjoint{0, true, Val{:central}, Nothing}}}}}}, DiffEqFlux.var\"#g#204\"{NeuralSDE{Vector{Float32}, FastChain{Tuple{var\"#131#132\", FastDense{typeof(tanh_fast), DiffEqFlux.var\"#initial_params#135\"{Vector{Float32}}, Nothing}, FastDense{typeof(identity), DiffEqFlux.var\"#initial_params#135\"{Vector{Float32}}, Nothing}}}, Nothing, FastChain{Tuple{FastDense{typeof(identity), DiffEqFlux.var\"#initial_params#135\"{Vector{Float32}}, Nothing}}}, Nothing, Tuple{Float32, Float32}, Tuple{}, Base.Pairs{Symbol, Any, Tuple{Symbol, Symbol, Symbol}, NamedTuple{(:alg, :dt, :sensealg), Tuple{EM{true}, Float64, BacksolveAdjoint{0, true, Val{:central}, Nothing}}}}}}, LinearAlgebra.UniformScaling{Bool}, Nothing, typeof(DiffEqFlux.basic_tgrad), Nothing, Nothing, Nothing, Nothing, Nothing, Nothing, Nothing, Nothing, Nothing, Nothing, Nothing, Nothing, typeof(SciMLBase.DEFAULT_OBSERVED), Nothing, Nothing}, DiffEqFlux.var\"#g#204\"{NeuralSDE{Vector{Float32}, FastChain{Tuple{var\"#131#132\", FastDense{typeof(tanh_fast), DiffEqFlux.var\"#initial_params#135\"{Vector{Float32}}, Nothing}, FastDense{typeof(identity), DiffEqFlux.var\"#initial_params#135\"{Vector{Float32}}, Nothing}}}, Nothing, FastChain{Tuple{FastDense{typeof(identity), DiffEqFlux.var\"#initial_params#135\"{Vector{Float32}}, Nothing}}}, Nothing, Tuple{Float32, Float32}, Tuple{}, Base.Pairs{Symbol, Any, Tuple{Symbol, Symbol, Symbol}, NamedTuple{(:alg, :dt, :sensealg), Tuple{EM{true}, Float64, BacksolveAdjoint{0, true, Val{:central}, Nothing}}}}}}, Nothing, StochasticDiffEq.SDEOptions{Float64, Float64, OrdinaryDiffEq.PIController{Float64}, typeof(DiffEqBase.ODE_DEFAULT_NORM), Nothing, CallbackSet{Tuple{}, Tuple{}}, typeof(DiffEqBase.ODE_DEFAULT_ISOUTOFDOMAIN), typeof(DiffEqBase.ODE_DEFAULT_PROG_MESSAGE), typeof(DiffEqBase.ODE_DEFAULT_UNSTABLE_CHECK), DataStructures.BinaryHeap{Float64, DataStructures.FasterForward}, DataStructures.BinaryHeap{Float64, DataStructures.FasterForward}, Nothing, Nothing, Int64, Float32, Float32, Float32, Tuple{}, Tuple{}, Tuple{}}, Nothing, Float32, Nothing, Nothing}, cache::StochasticDiffEq.EMConstantCache)",
      "    @ StochasticDiffEq C:\\Users\\ChemeGrad2021\\.julia\\packages\\StochasticDiffEq\\rZj4R\\src\\perform_step\\low_order.jl:13",
      "  [2] solve!(integrator::StochasticDiffEq.SDEIntegrator{EM{true}, false, Vector{Float32}, Float32, Float64, Float64, Vector{Float32}, Float64, Float64, Float32, DiffEqNoiseProcess.NoiseProcess{Float32, 2, Float64, Vector{Float32}, Nothing, Nothing, typeof(DiffEqNoiseProcess.WHITE_NOISE_DIST), typeof(DiffEqNoiseProcess.WHITE_NOISE_BRIDGE), false, ResettableStacks.ResettableStack{Tuple{Float64, Vector{Float32}, Nothing}, false}, ResettableStacks.ResettableStack{Tuple{Float64, Vector{Float32}, Nothing}, false}, DiffEqNoiseProcess.RSWM{Float64}, Nothing, RandomNumbers.Xorshifts.Xoroshiro128Plus}, Nothing, Vector{Float32}, RODESolution{Float32, 2, Vector{Vector{Float32}}, Nothing, Nothing, Vector{Float64}, DiffEqNoiseProcess.NoiseProcess{Float32, 2, Float64, Vector{Float32}, Nothing, Nothing, typeof(DiffEqNoiseProcess.WHITE_NOISE_DIST), typeof(DiffEqNoiseProcess.WHITE_NOISE_BRIDGE), false, ResettableStacks.ResettableStack{Tuple{Float64, Vector{Float32}, Nothing}, false}, ResettableStacks.ResettableStack{Tuple{Float64, Vector{Float32}, Nothing}, false}, DiffEqNoiseProcess.RSWM{Float64}, Nothing, RandomNumbers.Xorshifts.Xoroshiro128Plus}, SDEProblem{Vector{Float32}, Tuple{Float64, Float64}, false, Vector{Float32}, Nothing, SDEFunction{false, SciMLBase.FullSpecialize, DiffEqFlux.var\"#dudt_#203\"{NeuralSDE{Vector{Float32}, FastChain{Tuple{var\"#131#132\", FastDense{typeof(tanh_fast), DiffEqFlux.var\"#initial_params#135\"{Vector{Float32}}, Nothing}, FastDense{typeof(identity), DiffEqFlux.var\"#initial_params#135\"{Vector{Float32}}, Nothing}}}, Nothing, FastChain{Tuple{FastDense{typeof(identity), DiffEqFlux.var\"#initial_params#135\"{Vector{Float32}}, Nothing}}}, Nothing, Tuple{Float32, Float32}, Tuple{}, Base.Pairs{Symbol, Any, Tuple{Symbol, Symbol, Symbol}, NamedTuple{(:alg, :dt, :sensealg), Tuple{EM{true}, Float64, BacksolveAdjoint{0, true, Val{:central}, Nothing}}}}}}, DiffEqFlux.var\"#g#204\"{NeuralSDE{Vector{Float32}, FastChain{Tuple{var\"#131#132\", FastDense{typeof(tanh_fast), DiffEqFlux.var\"#initial_params#135\"{Vector{Float32}}, Nothing}, FastDense{typeof(identity), DiffEqFlux.var\"#initial_params#135\"{Vector{Float32}}, Nothing}}}, Nothing, FastChain{Tuple{FastDense{typeof(identity), DiffEqFlux.var\"#initial_params#135\"{Vector{Float32}}, Nothing}}}, Nothing, Tuple{Float32, Float32}, Tuple{}, Base.Pairs{Symbol, Any, Tuple{Symbol, Symbol, Symbol}, NamedTuple{(:alg, :dt, :sensealg), Tuple{EM{true}, Float64, BacksolveAdjoint{0, true, Val{:central}, Nothing}}}}}}, LinearAlgebra.UniformScaling{Bool}, Nothing, typeof(DiffEqFlux.basic_tgrad), Nothing, Nothing, Nothing, Nothing, Nothing, Nothing, Nothing, Nothing, Nothing, Nothing, Nothing, Nothing, typeof(SciMLBase.DEFAULT_OBSERVED), Nothing, Nothing}, DiffEqFlux.var\"#g#204\"{NeuralSDE{Vector{Float32}, FastChain{Tuple{var\"#131#132\", FastDense{typeof(tanh_fast), DiffEqFlux.var\"#initial_params#135\"{Vector{Float32}}, Nothing}, FastDense{typeof(identity), DiffEqFlux.var\"#initial_params#135\"{Vector{Float32}}, Nothing}}}, Nothing, FastChain{Tuple{FastDense{typeof(identity), DiffEqFlux.var\"#initial_params#135\"{Vector{Float32}}, Nothing}}}, Nothing, Tuple{Float32, Float32}, Tuple{}, Base.Pairs{Symbol, Any, Tuple{Symbol, Symbol, Symbol}, NamedTuple{(:alg, :dt, :sensealg), Tuple{EM{true}, Float64, BacksolveAdjoint{0, true, Val{:central}, Nothing}}}}}}, Base.Pairs{Symbol, Union{}, Tuple{}, NamedTuple{(), Tuple{}}}, Matrix{Float32}}, EM{true}, StochasticDiffEq.LinearInterpolationData{Vector{Vector{Float32}}, Vector{Float64}}, DiffEqBase.Stats, Nothing}, StochasticDiffEq.EMConstantCache, SDEFunction{false, SciMLBase.FullSpecialize, DiffEqFlux.var\"#dudt_#203\"{NeuralSDE{Vector{Float32}, FastChain{Tuple{var\"#131#132\", FastDense{typeof(tanh_fast), DiffEqFlux.var\"#initial_params#135\"{Vector{Float32}}, Nothing}, FastDense{typeof(identity), DiffEqFlux.var\"#initial_params#135\"{Vector{Float32}}, Nothing}}}, Nothing, FastChain{Tuple{FastDense{typeof(identity), DiffEqFlux.var\"#initial_params#135\"{Vector{Float32}}, Nothing}}}, Nothing, Tuple{Float32, Float32}, Tuple{}, Base.Pairs{Symbol, Any, Tuple{Symbol, Symbol, Symbol}, NamedTuple{(:alg, :dt, :sensealg), Tuple{EM{true}, Float64, BacksolveAdjoint{0, true, Val{:central}, Nothing}}}}}}, DiffEqFlux.var\"#g#204\"{NeuralSDE{Vector{Float32}, FastChain{Tuple{var\"#131#132\", FastDense{typeof(tanh_fast), DiffEqFlux.var\"#initial_params#135\"{Vector{Float32}}, Nothing}, FastDense{typeof(identity), DiffEqFlux.var\"#initial_params#135\"{Vector{Float32}}, Nothing}}}, Nothing, FastChain{Tuple{FastDense{typeof(identity), DiffEqFlux.var\"#initial_params#135\"{Vector{Float32}}, Nothing}}}, Nothing, Tuple{Float32, Float32}, Tuple{}, Base.Pairs{Symbol, Any, Tuple{Symbol, Symbol, Symbol}, NamedTuple{(:alg, :dt, :sensealg), Tuple{EM{true}, Float64, BacksolveAdjoint{0, true, Val{:central}, Nothing}}}}}}, LinearAlgebra.UniformScaling{Bool}, Nothing, typeof(DiffEqFlux.basic_tgrad), Nothing, Nothing, Nothing, Nothing, Nothing, Nothing, Nothing, Nothing, Nothing, Nothing, Nothing, Nothing, typeof(SciMLBase.DEFAULT_OBSERVED), Nothing, Nothing}, DiffEqFlux.var\"#g#204\"{NeuralSDE{Vector{Float32}, FastChain{Tuple{var\"#131#132\", FastDense{typeof(tanh_fast), DiffEqFlux.var\"#initial_params#135\"{Vector{Float32}}, Nothing}, FastDense{typeof(identity), DiffEqFlux.var\"#initial_params#135\"{Vector{Float32}}, Nothing}}}, Nothing, FastChain{Tuple{FastDense{typeof(identity), DiffEqFlux.var\"#initial_params#135\"{Vector{Float32}}, Nothing}}}, Nothing, Tuple{Float32, Float32}, Tuple{}, Base.Pairs{Symbol, Any, Tuple{Symbol, Symbol, Symbol}, NamedTuple{(:alg, :dt, :sensealg), Tuple{EM{true}, Float64, BacksolveAdjoint{0, true, Val{:central}, Nothing}}}}}}, Nothing, StochasticDiffEq.SDEOptions{Float64, Float64, OrdinaryDiffEq.PIController{Float64}, typeof(DiffEqBase.ODE_DEFAULT_NORM), Nothing, CallbackSet{Tuple{}, Tuple{}}, typeof(DiffEqBase.ODE_DEFAULT_ISOUTOFDOMAIN), typeof(DiffEqBase.ODE_DEFAULT_PROG_MESSAGE), typeof(DiffEqBase.ODE_DEFAULT_UNSTABLE_CHECK), DataStructures.BinaryHeap{Float64, DataStructures.FasterForward}, DataStructures.BinaryHeap{Float64, DataStructures.FasterForward}, Nothing, Nothing, Int64, Float32, Float32, Float32, Tuple{}, Tuple{}, Tuple{}}, Nothing, Float32, Nothing, Nothing})",
      "    @ StochasticDiffEq C:\\Users\\ChemeGrad2021\\.julia\\packages\\StochasticDiffEq\\rZj4R\\src\\solve.jl:613",
      "  [3] #__solve#107",
      "    @ C:\\Users\\ChemeGrad2021\\.julia\\packages\\StochasticDiffEq\\rZj4R\\src\\solve.jl:7 [inlined]",
      "  [4] #solve_call#22",
      "    @ C:\\Users\\ChemeGrad2021\\.julia\\packages\\DiffEqBase\\ejpi7\\src\\solve.jl:509 [inlined]",
      "  [5] solve_up(::SDEProblem{Vector{Float32}, Tuple{Float32, Float32}, false, Vector{Float32}, Nothing, SDEFunction{false, SciMLBase.FullSpecialize, DiffEqFlux.var\"#dudt_#203\"{NeuralSDE{Vector{Float32}, FastChain{Tuple{var\"#131#132\", FastDense{typeof(tanh_fast), DiffEqFlux.var\"#initial_params#135\"{Vector{Float32}}, Nothing}, FastDense{typeof(identity), DiffEqFlux.var\"#initial_params#135\"{Vector{Float32}}, Nothing}}}, Nothing, FastChain{Tuple{FastDense{typeof(identity), DiffEqFlux.var\"#initial_params#135\"{Vector{Float32}}, Nothing}}}, Nothing, Tuple{Float32, Float32}, Tuple{}, Base.Pairs{Symbol, Any, Tuple{Symbol, Symbol, Symbol}, NamedTuple{(:alg, :dt, :sensealg), Tuple{EM{true}, Float64, BacksolveAdjoint{0, true, Val{:central}, Nothing}}}}}}, DiffEqFlux.var\"#g#204\"{NeuralSDE{Vector{Float32}, FastChain{Tuple{var\"#131#132\", FastDense{typeof(tanh_fast), DiffEqFlux.var\"#initial_params#135\"{Vector{Float32}}, Nothing}, FastDense{typeof(identity), DiffEqFlux.var\"#initial_params#135\"{Vector{Float32}}, Nothing}}}, Nothing, FastChain{Tuple{FastDense{typeof(identity), DiffEqFlux.var\"#initial_params#135\"{Vector{Float32}}, Nothing}}}, Nothing, Tuple{Float32, Float32}, Tuple{}, Base.Pairs{Symbol, Any, Tuple{Symbol, Symbol, Symbol}, NamedTuple{(:alg, :dt, :sensealg), Tuple{EM{true}, Float64, BacksolveAdjoint{0, true, Val{:central}, Nothing}}}}}}, LinearAlgebra.UniformScaling{Bool}, Nothing, typeof(DiffEqFlux.basic_tgrad), Nothing, Nothing, Nothing, Nothing, Nothing, Nothing, Nothing, Nothing, Nothing, Nothing, Nothing, Nothing, typeof(SciMLBase.DEFAULT_OBSERVED), Nothing, Nothing}, DiffEqFlux.var\"#g#204\"{NeuralSDE{Vector{Float32}, FastChain{Tuple{var\"#131#132\", FastDense{typeof(tanh_fast), DiffEqFlux.var\"#initial_params#135\"{Vector{Float32}}, Nothing}, FastDense{typeof(identity), DiffEqFlux.var\"#initial_params#135\"{Vector{Float32}}, Nothing}}}, Nothing, FastChain{Tuple{FastDense{typeof(identity), DiffEqFlux.var\"#initial_params#135\"{Vector{Float32}}, Nothing}}}, Nothing, Tuple{Float32, Float32}, Tuple{}, Base.Pairs{Symbol, Any, Tuple{Symbol, Symbol, Symbol}, NamedTuple{(:alg, :dt, :sensealg), Tuple{EM{true}, Float64, BacksolveAdjoint{0, true, Val{:central}, Nothing}}}}}}, Base.Pairs{Symbol, Union{}, Tuple{}, NamedTuple{(), Tuple{}}}, Matrix{Float32}}, ::BacksolveAdjoint{0, true, Val{:central}, Nothing}, ::Vector{Float32}, ::Vector{Float32}; kwargs::Base.Pairs{Symbol, Any, Tuple{Symbol, Symbol}, NamedTuple{(:alg, :dt), Tuple{EM{true}, Float64}}})",
      "    @ DiffEqBase C:\\Users\\ChemeGrad2021\\.julia\\packages\\DiffEqBase\\ejpi7\\src\\solve.jl:915",
      "  [6] #solve#27",
      "    @ C:\\Users\\ChemeGrad2021\\.julia\\packages\\DiffEqBase\\ejpi7\\src\\solve.jl:842 [inlined]",
      "  [7] (::NeuralSDE{Vector{Float32}, FastChain{Tuple{var\"#131#132\", FastDense{typeof(tanh_fast), DiffEqFlux.var\"#initial_params#135\"{Vector{Float32}}, Nothing}, FastDense{typeof(identity), DiffEqFlux.var\"#initial_params#135\"{Vector{Float32}}, Nothing}}}, Nothing, FastChain{Tuple{FastDense{typeof(identity), DiffEqFlux.var\"#initial_params#135\"{Vector{Float32}}, Nothing}}}, Nothing, Tuple{Float32, Float32}, Tuple{}, Base.Pairs{Symbol, Any, Tuple{Symbol, Symbol, Symbol}, NamedTuple{(:alg, :dt, :sensealg), Tuple{EM{true}, Float64, BacksolveAdjoint{0, true, Val{:central}, Nothing}}}}})(x::Vector{Float32}, p::Vector{Float32})",
      "    @ DiffEqFlux C:\\Users\\ChemeGrad2021\\.julia\\packages\\DiffEqFlux\\jHIee\\src\\neural_de.jl:289",
      "  [8] (::NeuralSDE{Vector{Float32}, FastChain{Tuple{var\"#131#132\", FastDense{typeof(tanh_fast), DiffEqFlux.var\"#initial_params#135\"{Vector{Float32}}, Nothing}, FastDense{typeof(identity), DiffEqFlux.var\"#initial_params#135\"{Vector{Float32}}, Nothing}}}, Nothing, FastChain{Tuple{FastDense{typeof(identity), DiffEqFlux.var\"#initial_params#135\"{Vector{Float32}}, Nothing}}}, Nothing, Tuple{Float32, Float32}, Tuple{}, Base.Pairs{Symbol, Any, Tuple{Symbol, Symbol, Symbol}, NamedTuple{(:alg, :dt, :sensealg), Tuple{EM{true}, Float64, BacksolveAdjoint{0, true, Val{:central}, Nothing}}}}})(x::Vector{Float32})",
      "    @ DiffEqFlux C:\\Users\\ChemeGrad2021\\.julia\\packages\\DiffEqFlux\\jHIee\\src\\neural_de.jl:285",
      "  [9] (::var\"#133#134\")(x::Vector{Float32})",
      "    @ Main .\\In[256]:1",
      " [10] top-level scope",
      "    @ In[257]:1"
     ]
    }
   ],
   "source": [
    "l(thet)"
   ]
  },
  {
   "cell_type": "code",
   "execution_count": 174,
   "id": "68615908",
   "metadata": {},
   "outputs": [
    {
     "data": {
      "text/plain": [
       "BenchmarkTools.Trial: 120 samples with 1 evaluation.\n",
       " Range \u001b[90m(\u001b[39m\u001b[36m\u001b[1mmin\u001b[22m\u001b[39m … \u001b[35mmax\u001b[39m\u001b[90m):  \u001b[39m\u001b[36m\u001b[1m30.054 ms\u001b[22m\u001b[39m … \u001b[35m84.437 ms\u001b[39m  \u001b[90m┊\u001b[39m GC \u001b[90m(\u001b[39mmin … max\u001b[90m): \u001b[39m0.00% … 48.60%\n",
       " Time  \u001b[90m(\u001b[39m\u001b[34m\u001b[1mmedian\u001b[22m\u001b[39m\u001b[90m):     \u001b[39m\u001b[34m\u001b[1m39.142 ms              \u001b[22m\u001b[39m\u001b[90m┊\u001b[39m GC \u001b[90m(\u001b[39mmedian\u001b[90m):    \u001b[39m0.00%\n",
       " Time  \u001b[90m(\u001b[39m\u001b[32m\u001b[1mmean\u001b[22m\u001b[39m ± \u001b[32mσ\u001b[39m\u001b[90m):   \u001b[39m\u001b[32m\u001b[1m41.916 ms\u001b[22m\u001b[39m ± \u001b[32m10.842 ms\u001b[39m  \u001b[90m┊\u001b[39m GC \u001b[90m(\u001b[39mmean ± σ\u001b[90m):  \u001b[39m5.86% ± 11.88%\n",
       "\n",
       "  \u001b[39m \u001b[39m \u001b[39m \u001b[39m▂\u001b[39m \u001b[39m \u001b[39m▅\u001b[39m█\u001b[39m▆\u001b[39m▂\u001b[34m▃\u001b[39m\u001b[39m \u001b[39m▃\u001b[32m▅\u001b[39m\u001b[39m \u001b[39m \u001b[39m \u001b[39m \u001b[39m \u001b[39m \u001b[39m \u001b[39m \u001b[39m \u001b[39m \u001b[39m \u001b[39m \u001b[39m \u001b[39m \u001b[39m \u001b[39m \u001b[39m \u001b[39m \u001b[39m \u001b[39m \u001b[39m \u001b[39m \u001b[39m \u001b[39m \u001b[39m \u001b[39m \u001b[39m \u001b[39m \u001b[39m \u001b[39m \u001b[39m \u001b[39m \u001b[39m \u001b[39m \u001b[39m \u001b[39m \u001b[39m \u001b[39m \u001b[39m \u001b[39m \u001b[39m \u001b[39m \u001b[39m \u001b[39m \u001b[39m \u001b[39m \u001b[39m \n",
       "  \u001b[39m▃\u001b[39m▁\u001b[39m▃\u001b[39m█\u001b[39m▅\u001b[39m█\u001b[39m█\u001b[39m█\u001b[39m█\u001b[39m█\u001b[34m█\u001b[39m\u001b[39m█\u001b[39m█\u001b[32m█\u001b[39m\u001b[39m█\u001b[39m▇\u001b[39m▅\u001b[39m▄\u001b[39m▄\u001b[39m▁\u001b[39m▁\u001b[39m▁\u001b[39m▁\u001b[39m▁\u001b[39m▁\u001b[39m▃\u001b[39m▁\u001b[39m▁\u001b[39m▁\u001b[39m▁\u001b[39m▁\u001b[39m▁\u001b[39m▁\u001b[39m▁\u001b[39m▁\u001b[39m▁\u001b[39m▁\u001b[39m▁\u001b[39m▁\u001b[39m▃\u001b[39m▃\u001b[39m▁\u001b[39m▁\u001b[39m▁\u001b[39m▁\u001b[39m▁\u001b[39m▁\u001b[39m▃\u001b[39m▃\u001b[39m▃\u001b[39m▁\u001b[39m▃\u001b[39m▁\u001b[39m▃\u001b[39m▁\u001b[39m▁\u001b[39m▁\u001b[39m▃\u001b[39m▃\u001b[39m \u001b[39m▃\n",
       "  30.1 ms\u001b[90m         Histogram: frequency by time\u001b[39m        82.3 ms \u001b[0m\u001b[1m<\u001b[22m\n",
       "\n",
       " Memory estimate\u001b[90m: \u001b[39m\u001b[33m17.52 MiB\u001b[39m, allocs estimate\u001b[90m: \u001b[39m\u001b[33m325160\u001b[39m."
      ]
     },
     "execution_count": 174,
     "metadata": {},
     "output_type": "execute_result"
    }
   ],
   "source": [
    "@benchmark Zygote.gradient(l,thet)"
   ]
  },
  {
   "cell_type": "code",
   "execution_count": null,
   "id": "54d78a8c",
   "metadata": {},
   "outputs": [],
   "source": []
  }
 ],
 "metadata": {
  "kernelspec": {
   "display_name": "Julia 1.8.5",
   "language": "julia",
   "name": "julia-1.8"
  },
  "language_info": {
   "file_extension": ".jl",
   "mimetype": "application/julia",
   "name": "julia",
   "version": "1.8.5"
  }
 },
 "nbformat": 4,
 "nbformat_minor": 5
}
