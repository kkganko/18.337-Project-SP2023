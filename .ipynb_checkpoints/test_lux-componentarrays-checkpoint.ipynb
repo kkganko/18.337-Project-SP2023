{
 "cells": [
  {
   "cell_type": "code",
   "execution_count": 26,
   "id": "1f988fa9",
   "metadata": {
    "scrolled": true
   },
   "outputs": [
    {
     "name": "stderr",
     "output_type": "stream",
     "text": [
      "\u001b[32m\u001b[1m  Activating\u001b[22m\u001b[39m project at `~/6.337/18.337-Project-SP2023`\n"
     ]
    }
   ],
   "source": [
    "import Pkg; Pkg.activate(\".\"); Pkg.instantiate(verbose=true)"
   ]
  },
  {
   "cell_type": "code",
   "execution_count": 23,
   "id": "755662b4",
   "metadata": {},
   "outputs": [
    {
     "data": {
      "text/plain": [
       "\"/home/kkganko/6.337/18.337-Project-SP2023\""
      ]
     },
     "execution_count": 23,
     "metadata": {},
     "output_type": "execute_result"
    }
   ],
   "source": [
    "pwd()"
   ]
  },
  {
   "cell_type": "code",
   "execution_count": 24,
   "id": "c6b4e6ef",
   "metadata": {},
   "outputs": [
    {
     "name": "stdout",
     "output_type": "stream",
     "text": [
      "\u001b[32m\u001b[1m      Status\u001b[22m\u001b[39m `~/6.337/18.337-Project-SP2023/Project.toml`\n",
      " \u001b[90m [6e4b80f9] \u001b[39mBenchmarkTools v1.3.2\n",
      " \u001b[90m [b0b7db55] \u001b[39mComponentArrays v0.13.7\n",
      " \u001b[90m [8f4d0f93] \u001b[39mConda v1.8.0\n",
      " \u001b[90m [aae7a2af] \u001b[39mDiffEqFlux v1.53.0\n",
      " \u001b[90m [0c46a032] \u001b[39mDifferentialEquations v7.6.0\n",
      " \u001b[90m [31c24e10] \u001b[39mDistributions v0.25.81\n",
      " \u001b[90m [587475ba] \u001b[39mFlux v0.13.14\n",
      " \u001b[90m [f6369f11] \u001b[39mForwardDiff v0.10.34\n",
      " \u001b[90m [7073ff75] \u001b[39mIJulia v1.24.0\n",
      " \u001b[90m [4138dd39] \u001b[39mJLD v0.13.3\n",
      " \u001b[90m [b964fa9f] \u001b[39mLaTeXStrings v1.3.0\n",
      " \u001b[90m [b2108857] \u001b[39mLux v0.4.44\n",
      " \u001b[90m [429524aa] \u001b[39mOptim v1.7.4\n",
      " \u001b[90m [7f7a1694] \u001b[39mOptimization v3.12.1\n",
      " \u001b[90m [253f991c] \u001b[39mOptimizationFlux v0.1.2\n",
      " \u001b[90m [91a5bcdd] \u001b[39mPlots v1.38.8\n",
      " \u001b[90m [438e738f] \u001b[39mPyCall v1.95.1\n",
      " \u001b[90m [d330b81b] \u001b[39mPyPlot v2.11.1\n",
      " \u001b[90m [1ed8b502] \u001b[39mSciMLSensitivity v7.13.0\n",
      " \u001b[90m [e88e6eb3] \u001b[39mZygote v0.6.55\n"
     ]
    }
   ],
   "source": [
    "Pkg.status()"
   ]
  },
  {
   "cell_type": "code",
   "execution_count": 25,
   "id": "b60c08fb",
   "metadata": {},
   "outputs": [
    {
     "name": "stderr",
     "output_type": "stream",
     "text": [
      "\u001b[36m\u001b[1m[ \u001b[22m\u001b[39m\u001b[36m\u001b[1mInfo: \u001b[22m\u001b[39mPrecompiling ComponentArrays [b0b7db55-cfe3-40fc-9ded-d10e2dbeff66]\n",
      "\u001b[33m\u001b[1m┌ \u001b[22m\u001b[39m\u001b[33m\u001b[1mWarning: \u001b[22m\u001b[39mModule ArrayInterface with build ID 364042338323901 is missing from the cache.\n",
      "\u001b[33m\u001b[1m│ \u001b[22m\u001b[39mThis may mean ArrayInterface [4fba245c-0d91-5ea0-9b3e-6abc04ee57a9] does not support precompilation but is imported by a module that does.\n",
      "\u001b[33m\u001b[1m└ \u001b[22m\u001b[39m\u001b[90m@ Base loading.jl:1107\u001b[39m\n",
      "\u001b[36m\u001b[1m[ \u001b[22m\u001b[39m\u001b[36m\u001b[1mInfo: \u001b[22m\u001b[39mSkipping precompilation since __precompile__(false). Importing ComponentArrays [b0b7db55-cfe3-40fc-9ded-d10e2dbeff66].\n",
      "WARNING: could not import ArrayInterface.ArrayInterfaceCore into ComponentArrays\n"
     ]
    },
    {
     "ename": "LoadError",
     "evalue": "LoadError: UndefVarError: ArrayInterfaceCore not defined\nin expression starting at /home/kkganko/.julia/packages/ComponentArrays/Cy8Rn/src/array_interface.jl:15\nin expression starting at /home/kkganko/.julia/packages/ComponentArrays/Cy8Rn/src/ComponentArrays.jl:1",
     "output_type": "error",
     "traceback": [
      "LoadError: UndefVarError: ArrayInterfaceCore not defined\nin expression starting at /home/kkganko/.julia/packages/ComponentArrays/Cy8Rn/src/array_interface.jl:15\nin expression starting at /home/kkganko/.julia/packages/ComponentArrays/Cy8Rn/src/ComponentArrays.jl:1",
      "",
      "Stacktrace:",
      " [1] top-level scope",
      "   @ ~/.julia/packages/ComponentArrays/Cy8Rn/src/array_interface.jl:15",
      " [2] include(mod::Module, _path::String)",
      "   @ Base ./Base.jl:418",
      " [3] include(x::String)",
      "   @ ComponentArrays ~/.julia/packages/ComponentArrays/Cy8Rn/src/ComponentArrays.jl:1",
      " [4] top-level scope",
      "   @ ~/.julia/packages/ComponentArrays/Cy8Rn/src/ComponentArrays.jl:28",
      " [5] include",
      "   @ ./Base.jl:418 [inlined]",
      " [6] _require(pkg::Base.PkgId)",
      "   @ Base ./loading.jl:1149",
      " [7] require(uuidkey::Base.PkgId)",
      "   @ Base ./loading.jl:1013",
      " [8] require(into::Module, mod::Symbol)",
      "   @ Base ./loading.jl:997"
     ]
    }
   ],
   "source": [
    "using Plots, Statistics\n",
    "using Lux \n",
    "using Optimization, OptimizationFlux, DiffEqFlux\n",
    "using DifferentialEquations.StochasticDiffEq, DifferentialEquations.DiffEqBase.EnsembleAnalysis, Random\n",
    "using ComponentArrays\n",
    "\n",
    "# rng = Random.default_rng()\n",
    "# u0 = Float32[2.; 0.]\n",
    "# datasize = 30\n",
    "# tspan = (0.0f0, 1.0f0)\n",
    "# tsteps = range(tspan[1], tspan[2], length = datasize)"
   ]
  },
  {
   "cell_type": "code",
   "execution_count": 20,
   "id": "a3083eaf",
   "metadata": {},
   "outputs": [
    {
     "ename": "LoadError",
     "evalue": "UndefVarError: ComponentArray not defined",
     "output_type": "error",
     "traceback": [
      "UndefVarError: ComponentArray not defined",
      "",
      "Stacktrace:",
      " [1] getproperty(x::Module, f::Symbol)",
      "   @ Base ./Base.jl:35",
      " [2] top-level scope",
      "   @ In[20]:9"
     ]
    }
   ],
   "source": [
    "drift_dudt = Lux.Chain(ActivationFunction(x -> x.^3),\n",
    "                       Lux.Dense(2, 50, tanh),\n",
    "                       Lux.Dense(50, 2))\n",
    "p1, st1 = Lux.setup(rng, drift_dudt)\n",
    "\n",
    "diffusion_dudt = Lux.Chain(Lux.Dense(2, 2))\n",
    "p2, st2 = Lux.setup(rng, diffusion_dudt)\n",
    "\n",
    "p1 = Lux.ComponentArray(p1)\n",
    "# p2 = Lux.ComponentArray(p2)\n",
    "# #Component Arrays doesn't provide a name to the first ComponentVector, only subsequent ones get a name for dereferencing\n",
    "# p = [p1, p2]\n",
    "\n",
    "# neuralsde = NeuralDSDE(drift_dudt, diffusion_dudt, tspan, SOSRI(),\n",
    "#                        saveat = tsteps, reltol = 1e-1, abstol = 1e-1)"
   ]
  },
  {
   "cell_type": "code",
   "execution_count": 18,
   "id": "135d7d8f",
   "metadata": {},
   "outputs": [
    {
     "ename": "LoadError",
     "evalue": "MethodError: no method matching _getproperty()\n\u001b[0mClosest candidates are:\n\u001b[0m  _getproperty(\u001b[91m::NamedTuple{names}\u001b[39m, \u001b[91m::Val{v}\u001b[39m) where {names, v} at ~/.julia/packages/Lux/B3Cam/src/utils.jl:212",
     "output_type": "error",
     "traceback": [
      "MethodError: no method matching _getproperty()\n\u001b[0mClosest candidates are:\n\u001b[0m  _getproperty(\u001b[91m::NamedTuple{names}\u001b[39m, \u001b[91m::Val{v}\u001b[39m) where {names, v} at ~/.julia/packages/Lux/B3Cam/src/utils.jl:212",
      "",
      "Stacktrace:",
      " [1] top-level scope",
      "   @ In[18]:1"
     ]
    }
   ],
   "source": [
    "Lux._getproperty()"
   ]
  },
  {
   "cell_type": "code",
   "execution_count": 11,
   "id": "786a4376",
   "metadata": {},
   "outputs": [
    {
     "data": {
      "text/latex": [
       "No documentation found.\n",
       "\n",
       "Binding \\texttt{Lux.ComponentArray} does not exist.\n",
       "\n"
      ],
      "text/markdown": [
       "No documentation found.\n",
       "\n",
       "Binding `Lux.ComponentArray` does not exist.\n"
      ],
      "text/plain": [
       "  No documentation found.\n",
       "\n",
       "  Binding \u001b[36mLux.ComponentArray\u001b[39m does not exist."
      ]
     },
     "execution_count": 11,
     "metadata": {},
     "output_type": "execute_result"
    }
   ],
   "source": [
    "? Lux.ComponentArray"
   ]
  },
  {
   "cell_type": "code",
   "execution_count": 12,
   "id": "3183f3ca",
   "metadata": {},
   "outputs": [
    {
     "name": "stdout",
     "output_type": "stream",
     "text": [
      "search: \u001b[0m\u001b[1mc\u001b[22m\u001b[0m\u001b[1mo\u001b[22m\u001b[0m\u001b[1mm\u001b[22m\u001b[0m\u001b[1mp\u001b[22m\u001b[0m\u001b[1mo\u001b[22m\u001b[0m\u001b[1mn\u001b[22m\u001b[0m\u001b[1me\u001b[22m\u001b[0m\u001b[1mn\u001b[22m\u001b[0m\u001b[1mt\u001b[22mwise_me\u001b[0m\u001b[1ma\u001b[22mnva\u001b[0m\u001b[1mr\u001b[22m \u001b[0m\u001b[1mc\u001b[22m\u001b[0m\u001b[1mo\u001b[22m\u001b[0m\u001b[1mm\u001b[22m\u001b[0m\u001b[1mp\u001b[22m\u001b[0m\u001b[1mo\u001b[22m\u001b[0m\u001b[1mn\u001b[22m\u001b[0m\u001b[1me\u001b[22m\u001b[0m\u001b[1mn\u001b[22m\u001b[0m\u001b[1mt\u001b[22mwise_me\u001b[0m\u001b[1ma\u001b[22mn\n",
      "\n",
      "Couldn't find \u001b[36mComponentArray\u001b[39m\n",
      "Perhaps you meant AbstractArray\n"
     ]
    },
    {
     "data": {
      "text/latex": [
       "No documentation found.\n",
       "\n",
       "Binding \\texttt{ComponentArray} does not exist.\n",
       "\n"
      ],
      "text/markdown": [
       "No documentation found.\n",
       "\n",
       "Binding `ComponentArray` does not exist.\n"
      ],
      "text/plain": [
       "  No documentation found.\n",
       "\n",
       "  Binding \u001b[36mComponentArray\u001b[39m does not exist."
      ]
     },
     "execution_count": 12,
     "metadata": {},
     "output_type": "execute_result"
    }
   ],
   "source": [
    "? ComponentArray"
   ]
  },
  {
   "cell_type": "code",
   "execution_count": null,
   "id": "bc60eb8b",
   "metadata": {},
   "outputs": [],
   "source": []
  }
 ],
 "metadata": {
  "kernelspec": {
   "display_name": "Julia 1.7.3",
   "language": "julia",
   "name": "julia-1.7"
  },
  "language_info": {
   "file_extension": ".jl",
   "mimetype": "application/julia",
   "name": "julia",
   "version": "1.7.3"
  }
 },
 "nbformat": 4,
 "nbformat_minor": 5
}
