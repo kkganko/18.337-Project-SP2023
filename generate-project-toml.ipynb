{
 "cells": [
  {
   "cell_type": "markdown",
   "id": "1258ec4d",
   "metadata": {},
   "source": [
    "# Generating Project.toml and Manifest.toml\n",
    "\n",
    "See README.md on how to use this file."
   ]
  },
  {
   "cell_type": "code",
   "execution_count": 1,
   "id": "a621e90f",
   "metadata": {},
   "outputs": [
    {
     "data": {
      "text/plain": [
       "Base.EnvDict with 28 entries:\n",
       "  \"SHELL\"              => \"/bin/bash\"\n",
       "  \"WSL_DISTRO_NAME\"    => \"Ubuntu\"\n",
       "  \"WT_SESSION\"         => \"a976da24-e29f-4010-8f22-30a810fce49f\"\n",
       "  \"NAME\"               => \"DESKTOP-A1AUCQ6\"\n",
       "  \"PWD\"                => \"/home/kkganko/6.337/18.337-Project-SP2023\"\n",
       "  \"LOGNAME\"            => \"kkganko\"\n",
       "  \"HOME\"               => \"/home/kkganko\"\n",
       "  \"LANG\"               => \"C.UTF-8\"\n",
       "  \"WSL_INTEROP\"        => \"/run/WSL/928_interop\"\n",
       "  \"LS_COLORS\"          => \"rs=0:di=01;34:ln=01;36:mh=00:pi=40;33:so=01;35:do=01…\n",
       "  \"LESSCLOSE\"          => \"/usr/bin/lesspipe %s %s\"\n",
       "  \"TERM\"               => \"xterm-256color\"\n",
       "  \"LESSOPEN\"           => \"| /usr/bin/lesspipe %s\"\n",
       "  \"USER\"               => \"kkganko\"\n",
       "  \"SHLVL\"              => \"1\"\n",
       "  \"DOCKER_ARCH\"        => \"amd64\"\n",
       "  \"WSLENV\"             => \"WT_SESSION::WT_PROFILE_ID\"\n",
       "  \"XDG_DATA_DIRS\"      => \"/usr/local/share:/usr/share:/var/lib/snapd/desktop\"\n",
       "  \"BROWSER\"            => \"/mnt/c/Program Files (x86)/Microsoft/Edge/Applicatio…\n",
       "  \"PATH\"               => \"/usr/local/sbin:/usr/local/bin:/usr/sbin:/usr/bin:/s…\n",
       "  \"HOSTTYPE\"           => \"x86_64\"\n",
       "  \"WT_PROFILE_ID\"      => \"{61c54bbd-c2c6-5271-96e7-009a87ff44bf}\"\n",
       "  \"OLDPWD\"             => \"/home/kkganko/6.337\"\n",
       "  \"_\"                  => \"/home/kkganko/.julia/conda/3/bin/jupyter\"\n",
       "  \"JPY_PARENT_PID\"     => \"961\"\n",
       "  ⋮                    => ⋮"
      ]
     },
     "execution_count": 1,
     "metadata": {},
     "output_type": "execute_result"
    }
   ],
   "source": [
    "# Print out environment vars passed to jupyter notebook\n",
    "ENV"
   ]
  },
  {
   "cell_type": "code",
   "execution_count": 2,
   "id": "9a3d4209",
   "metadata": {},
   "outputs": [
    {
     "data": {
      "text/plain": [
       "\"/home/kkganko/6.337/18.337-Project-SP2023\""
      ]
     },
     "execution_count": 2,
     "metadata": {},
     "output_type": "execute_result"
    }
   ],
   "source": [
    "# figure out where you are\n",
    "pwd()"
   ]
  },
  {
   "cell_type": "code",
   "execution_count": 3,
   "id": "0862e81a",
   "metadata": {},
   "outputs": [
    {
     "data": {
      "text/plain": [
       "11-element Vector{String}:\n",
       " \".git\"\n",
       " \".gitignore\"\n",
       " \".ipynb_checkpoints\"\n",
       " \"LICENSE\"\n",
       " \"Manifest.toml\"\n",
       " \"Project.toml\"\n",
       " \"README.md\"\n",
       " \"Stochastic Diffeqs\"\n",
       " \"generate-project-toml.ipynb\"\n",
       " \"test_lux-componentarrays.ipynb\"\n",
       " \"test_python.ipynb\""
      ]
     },
     "execution_count": 3,
     "metadata": {},
     "output_type": "execute_result"
    }
   ],
   "source": [
    "# get contents of working directory\n",
    "readdir()"
   ]
  },
  {
   "cell_type": "code",
   "execution_count": 4,
   "id": "1b8dd979",
   "metadata": {
    "scrolled": true
   },
   "outputs": [
    {
     "name": "stderr",
     "output_type": "stream",
     "text": [
      "\u001b[32m\u001b[1m  Activating\u001b[22m\u001b[39m project at `~/6.337/18.337-Project-SP2023`\n"
     ]
    }
   ],
   "source": [
    "# info on Pkg, https://pkgdocs.julialang.org/v1/getting-started/\n",
    "import Pkg\n",
    "Pkg.activate(\".\")"
   ]
  },
  {
   "cell_type": "code",
   "execution_count": 5,
   "id": "da144f7d",
   "metadata": {},
   "outputs": [
    {
     "name": "stdout",
     "output_type": "stream",
     "text": [
      "\u001b[32m\u001b[1m      Status\u001b[22m\u001b[39m `~/6.337/18.337-Project-SP2023/Project.toml`\n",
      " \u001b[90m [6e4b80f9] \u001b[39mBenchmarkTools v1.3.2\n",
      " \u001b[90m [8f4d0f93] \u001b[39mConda v1.8.0\n",
      " \u001b[90m [aae7a2af] \u001b[39mDiffEqFlux v1.53.0\n",
      " \u001b[90m [0c46a032] \u001b[39mDifferentialEquations v7.6.0\n",
      " \u001b[90m [31c24e10] \u001b[39mDistributions v0.25.81\n",
      " \u001b[90m [587475ba] \u001b[39mFlux v0.13.14\n",
      " \u001b[90m [f6369f11] \u001b[39mForwardDiff v0.10.34\n",
      " \u001b[90m [7073ff75] \u001b[39mIJulia v1.24.0\n",
      " \u001b[90m [4138dd39] \u001b[39mJLD v0.13.3\n",
      " \u001b[90m [b964fa9f] \u001b[39mLaTeXStrings v1.3.0\n",
      " \u001b[90m [b2108857] \u001b[39mLux v0.4.44\n",
      " \u001b[90m [429524aa] \u001b[39mOptim v1.7.4\n",
      " \u001b[90m [7f7a1694] \u001b[39mOptimization v3.12.1\n",
      " \u001b[90m [253f991c] \u001b[39mOptimizationFlux v0.1.2\n",
      " \u001b[90m [91a5bcdd] \u001b[39mPlots v1.38.8\n",
      " \u001b[90m [438e738f] \u001b[39mPyCall v1.95.1\n",
      " \u001b[90m [d330b81b] \u001b[39mPyPlot v2.11.1\n",
      " \u001b[90m [1ed8b502] \u001b[39mSciMLSensitivity v7.13.0\n",
      " \u001b[90m [e88e6eb3] \u001b[39mZygote v0.6.55\n"
     ]
    }
   ],
   "source": [
    "Pkg.status()"
   ]
  },
  {
   "cell_type": "code",
   "execution_count": 6,
   "id": "ea74273a",
   "metadata": {},
   "outputs": [
    {
     "data": {
      "text/plain": [
       "11-element Vector{String}:\n",
       " \".git\"\n",
       " \".gitignore\"\n",
       " \".ipynb_checkpoints\"\n",
       " \"LICENSE\"\n",
       " \"Manifest.toml\"\n",
       " \"Project.toml\"\n",
       " \"README.md\"\n",
       " \"Stochastic Diffeqs\"\n",
       " \"generate-project-toml.ipynb\"\n",
       " \"test_lux-componentarrays.ipynb\"\n",
       " \"test_python.ipynb\""
      ]
     },
     "execution_count": 6,
     "metadata": {},
     "output_type": "execute_result"
    }
   ],
   "source": [
    "# get contents of working directory\n",
    "dir_contents = readdir()"
   ]
  },
  {
   "cell_type": "code",
   "execution_count": 6,
   "id": "d1ae25d1",
   "metadata": {},
   "outputs": [],
   "source": [
    "# If Project.toml and Manifest.toml exist, remove them to start a completely fresh installation of packages and dependencies.\n",
    "# This is equivalent to uninstalling all packages in the current environment. \n",
    "# Why? B/c if you don't start from a clean plate, and you have previous package dependency installation that were unspecified \n",
    "# below in their version number, then dependencies may conflict.\n",
    "if \"Manifest.toml\" in dir_contents\n",
    "    rm(\"Manifest.toml\")\n",
    "end\n",
    "if \"Project.toml\" in dir_contents\n",
    "    rm(\"Project.toml\")\n",
    "end"
   ]
  },
  {
   "cell_type": "code",
   "execution_count": 9,
   "id": "56e0b13b",
   "metadata": {},
   "outputs": [
    {
     "data": {
      "text/plain": [
       "10-element Vector{String}:\n",
       " \".git\"\n",
       " \".gitignore\"\n",
       " \".ipynb_checkpoints\"\n",
       " \"LICENSE\"\n",
       " \"Manifest.toml\"\n",
       " \"Project.toml\"\n",
       " \"README.md\"\n",
       " \"Stochastic Diffeqs\"\n",
       " \"generate-project-toml.ipynb\"\n",
       " \"test_python.ipynb\""
      ]
     },
     "execution_count": 9,
     "metadata": {},
     "output_type": "execute_result"
    }
   ],
   "source": [
    "readdir()"
   ]
  },
  {
   "cell_type": "code",
   "execution_count": 7,
   "id": "a402e0f9",
   "metadata": {},
   "outputs": [
    {
     "name": "stdout",
     "output_type": "stream",
     "text": [
      "\u001b[32m\u001b[1m      Status\u001b[22m\u001b[39m `~/6.337/18.337-Project-SP2023/Project.toml`\n",
      " \u001b[90m [6e4b80f9] \u001b[39mBenchmarkTools v1.3.2\n",
      " \u001b[90m [8f4d0f93] \u001b[39mConda v1.8.0\n",
      " \u001b[90m [aae7a2af] \u001b[39mDiffEqFlux v1.53.0\n",
      " \u001b[90m [0c46a032] \u001b[39mDifferentialEquations v7.6.0\n",
      " \u001b[90m [31c24e10] \u001b[39mDistributions v0.25.81\n",
      " \u001b[90m [587475ba] \u001b[39mFlux v0.13.14\n",
      " \u001b[90m [f6369f11] \u001b[39mForwardDiff v0.10.34\n",
      " \u001b[90m [7073ff75] \u001b[39mIJulia v1.24.0\n",
      " \u001b[90m [4138dd39] \u001b[39mJLD v0.13.3\n",
      " \u001b[90m [b964fa9f] \u001b[39mLaTeXStrings v1.3.0\n",
      " \u001b[90m [b2108857] \u001b[39mLux v0.4.44\n",
      " \u001b[90m [429524aa] \u001b[39mOptim v1.7.4\n",
      " \u001b[90m [7f7a1694] \u001b[39mOptimization v3.12.1\n",
      " \u001b[90m [253f991c] \u001b[39mOptimizationFlux v0.1.2\n",
      " \u001b[90m [91a5bcdd] \u001b[39mPlots v1.38.8\n",
      " \u001b[90m [438e738f] \u001b[39mPyCall v1.95.1\n",
      " \u001b[90m [d330b81b] \u001b[39mPyPlot v2.11.1\n",
      " \u001b[90m [1ed8b502] \u001b[39mSciMLSensitivity v7.13.0\n",
      " \u001b[90m [e88e6eb3] \u001b[39mZygote v0.6.55\n"
     ]
    }
   ],
   "source": [
    "# activate new environment, check status, make sure it is empty after running deletion of Manifest.toml and Project.toml\n",
    "Pkg.status()"
   ]
  },
  {
   "cell_type": "code",
   "execution_count": 8,
   "id": "a53e159c",
   "metadata": {
    "scrolled": false
   },
   "outputs": [
    {
     "name": "stderr",
     "output_type": "stream",
     "text": [
      "\u001b[32m\u001b[1m    Updating\u001b[22m\u001b[39m registry at `~/.julia/registries/General.toml`\n",
      "\u001b[32m\u001b[1m   Resolving\u001b[22m\u001b[39m package versions...\n",
      "\u001b[32m\u001b[1m   Installed\u001b[22m\u001b[39m HypergeometricFunctions ──────── v0.3.14\n",
      "\u001b[32m\u001b[1m   Installed\u001b[22m\u001b[39m EllipsisNotation ─────────────── v1.6.0\n",
      "\u001b[32m\u001b[1m   Installed\u001b[22m\u001b[39m LabelledArrays ───────────────── v1.13.0\n",
      "\u001b[32m\u001b[1m   Installed\u001b[22m\u001b[39m SteadyStateDiffEq ────────────── v1.13.0\n",
      "\u001b[32m\u001b[1m   Installed\u001b[22m\u001b[39m Polyester ────────────────────── v0.7.2\n",
      "\u001b[32m\u001b[1m   Installed\u001b[22m\u001b[39m DomainSets ───────────────────── v0.6.6\n",
      "\u001b[32m\u001b[1m   Installed\u001b[22m\u001b[39m GPUArrays ────────────────────── v8.6.6\n",
      "\u001b[32m\u001b[1m   Installed\u001b[22m\u001b[39m Tricks ───────────────────────── v0.1.7\n",
      "\u001b[32m\u001b[1m   Installed\u001b[22m\u001b[39m DiffEqBase ───────────────────── v6.119.0\n",
      "\u001b[32m\u001b[1m   Installed\u001b[22m\u001b[39m BandedMatrices ───────────────── v0.17.18\n",
      "\u001b[32m\u001b[1m   Installed\u001b[22m\u001b[39m ComponentArrays ──────────────── v0.13.7\n",
      "\u001b[32m\u001b[1m   Installed\u001b[22m\u001b[39m SciMLBase ────────────────────── v1.91.6\n",
      "\u001b[32m\u001b[1m   Installed\u001b[22m\u001b[39m Symbolics ────────────────────── v5.2.0\n",
      "\u001b[32m\u001b[1m   Installed\u001b[22m\u001b[39m DelayDiffEq ──────────────────── v5.41.1\n",
      "\u001b[32m\u001b[1m   Installed\u001b[22m\u001b[39m ArrayInterfaceStaticArraysCore ─ v0.1.4\n",
      "\u001b[32m\u001b[1m   Installed\u001b[22m\u001b[39m OrderedCollections ───────────── v1.6.0\n",
      "\u001b[32m\u001b[1m   Installed\u001b[22m\u001b[39m IntervalSets ─────────────────── v0.7.4\n",
      "\u001b[32m\u001b[1m   Installed\u001b[22m\u001b[39m OrdinaryDiffEq ───────────────── v6.44.1\n",
      "\u001b[32m\u001b[1m   Installed\u001b[22m\u001b[39m AbstractAlgebra ──────────────── v0.29.2\n",
      "\u001b[32m\u001b[1m   Installed\u001b[22m\u001b[39m Groebner ─────────────────────── v0.3.2\n",
      "\u001b[32m\u001b[1m    Updating\u001b[22m\u001b[39m `~/6.337/18.337-Project-SP2023/Project.toml`\n",
      " \u001b[90m [b0b7db55] \u001b[39m\u001b[92m+ ComponentArrays v0.13.7\u001b[39m\n",
      "\u001b[32m\u001b[1m    Updating\u001b[22m\u001b[39m `~/6.337/18.337-Project-SP2023/Manifest.toml`\n",
      " \u001b[90m [c3fe647b] \u001b[39m\u001b[93m↑ AbstractAlgebra v0.27.10 ⇒ v0.29.2\u001b[39m\n",
      " \u001b[90m [4fba245c] \u001b[39m\u001b[95m↓ ArrayInterface v7.4.2 ⇒ v6.0.25\u001b[39m\n",
      " \u001b[90m [6ba088a2] \u001b[39m\u001b[92m+ ArrayInterfaceGPUArrays v0.2.2\u001b[39m\n",
      " \u001b[90m [015c0d05] \u001b[39m\u001b[92m+ ArrayInterfaceOffsetArrays v0.1.7\u001b[39m\n",
      " \u001b[90m [b0d46f97] \u001b[39m\u001b[92m+ ArrayInterfaceStaticArrays v0.1.5\u001b[39m\n",
      " \u001b[90m [dd5226c6] \u001b[39m\u001b[92m+ ArrayInterfaceStaticArraysCore v0.1.4\u001b[39m\n",
      " \u001b[90m [aae01518] \u001b[39m\u001b[93m↑ BandedMatrices v0.17.17 ⇒ v0.17.18\u001b[39m\n",
      " \u001b[90m [fb6a15b2] \u001b[39m\u001b[95m↓ CloseOpenIntervals v0.1.12 ⇒ v0.1.11\u001b[39m\n",
      " \u001b[90m [b0b7db55] \u001b[39m\u001b[95m↓ ComponentArrays v0.13.8 ⇒ v0.13.7\u001b[39m\n",
      " \u001b[90m [bcd4f6db] \u001b[39m\u001b[95m↓ DelayDiffEq v5.42.0 ⇒ v5.41.1\u001b[39m\n",
      " \u001b[90m [2b5f629d] \u001b[39m\u001b[95m↓ DiffEqBase v6.122.1 ⇒ v6.119.0\u001b[39m\n",
      " \u001b[90m [5b8099bc] \u001b[39m\u001b[93m↑ DomainSets v0.5.15 ⇒ v0.6.6\u001b[39m\n",
      " \u001b[90m [da5c29d0] \u001b[39m\u001b[95m↓ EllipsisNotation v1.7.0 ⇒ v1.6.0\u001b[39m\n",
      " \u001b[90m [d4d017d3] \u001b[39m\u001b[95m↓ ExponentialUtilities v1.24.0 ⇒ v1.23.0\u001b[39m\n",
      " \u001b[90m [7034ab61] \u001b[39m\u001b[95m↓ FastBroadcast v0.2.5 ⇒ v0.2.4\u001b[39m\n",
      " \u001b[90m [6a86dc24] \u001b[39m\u001b[95m↓ FiniteDiff v2.19.0 ⇒ v2.17.0\u001b[39m\n",
      " \u001b[90m [0c68f7d7] \u001b[39m\u001b[93m↑ GPUArrays v8.6.5 ⇒ v8.6.6\u001b[39m\n",
      " \u001b[90m [0b43b601] \u001b[39m\u001b[93m↑ Groebner v0.2.11 ⇒ v0.3.2\u001b[39m\n",
      " \u001b[90m [34004b35] \u001b[39m\u001b[93m↑ HypergeometricFunctions v0.3.11 ⇒ v0.3.14\u001b[39m\n",
      " \u001b[90m [8197267c] \u001b[39m\u001b[93m↑ IntervalSets v0.7.3 ⇒ v0.7.4\u001b[39m\n",
      " \u001b[90m [ccbc3e58] \u001b[39m\u001b[95m↓ JumpProcesses v9.6.0 ⇒ v9.5.1\u001b[39m\n",
      " \u001b[90m [2ee39098] \u001b[39m\u001b[95m↓ LabelledArrays v1.14.0 ⇒ v1.13.0\u001b[39m\n",
      " \u001b[90m [10f19ff3] \u001b[39m\u001b[95m↓ LayoutPointers v0.1.14 ⇒ v0.1.13\u001b[39m\n",
      " \u001b[90m [7ed4a6bd] \u001b[39m\u001b[95m↓ LinearSolve v1.41.0 ⇒ v1.37.0\u001b[39m\n",
      " \u001b[90m [bdcacae8] \u001b[39m\u001b[95m↓ LoopVectorization v0.12.155 ⇒ v0.12.150\u001b[39m\n",
      " \u001b[90m [bac558e1] \u001b[39m\u001b[93m↑ OrderedCollections v1.5.0 ⇒ v1.6.0\u001b[39m\n",
      " \u001b[90m [1dea7af3] \u001b[39m\u001b[95m↓ OrdinaryDiffEq v6.49.4 ⇒ v6.44.1\u001b[39m\n",
      " \u001b[90m [f517fe37] \u001b[39m\u001b[95m↓ Polyester v0.7.3 ⇒ v0.7.2\u001b[39m\n",
      " \u001b[90m [d236fae5] \u001b[39m\u001b[95m↓ PreallocationTools v0.4.12 ⇒ v0.4.11\u001b[39m\n",
      " \u001b[90m [731186ca] \u001b[39m\u001b[95m↓ RecursiveArrayTools v2.38.1 ⇒ v2.37.0\u001b[39m\n",
      " \u001b[90m [0bca4576] \u001b[39m\u001b[93m↑ SciMLBase v1.91.3 ⇒ v1.91.6\u001b[39m\n",
      " \u001b[90m [c0aeaf25] \u001b[39m\u001b[95m↓ SciMLOperators v0.2.0 ⇒ v0.1.21\u001b[39m\n",
      " \u001b[90m [47a9eef4] \u001b[39m\u001b[95m↓ SparseDiffTools v1.31.0 ⇒ v1.30.0\u001b[39m\n",
      " \u001b[90m [0d7ed370] \u001b[39m\u001b[91m- StaticArrayInterface v1.3.0\u001b[39m\n",
      " \u001b[90m [9672c7b4] \u001b[39m\u001b[95m↓ SteadyStateDiffEq v1.14.0 ⇒ v1.13.0\u001b[39m\n",
      " \u001b[90m [789caeaf] \u001b[39m\u001b[95m↓ StochasticDiffEq v6.60.0 ⇒ v6.58.0\u001b[39m\n",
      " \u001b[90m [7792a7ef] \u001b[39m\u001b[95m↓ StrideArraysCore v0.4.9 ⇒ v0.4.7\u001b[39m\n",
      " \u001b[90m [c3572dad] \u001b[39m\u001b[95m↓ Sundials v4.16.0 ⇒ v4.15.1\u001b[39m\n",
      " \u001b[90m [0c5d862f] \u001b[39m\u001b[93m↑ Symbolics v5.1.0 ⇒ v5.2.0\u001b[39m\n",
      " \u001b[90m [410a4b4d] \u001b[39m\u001b[93m↑ Tricks v0.1.6 ⇒ v0.1.7\u001b[39m\n",
      " \u001b[90m [3d5dd08c] \u001b[39m\u001b[95m↓ VectorizationBase v0.21.63 ⇒ v0.21.58\u001b[39m\n",
      "\u001b[32m\u001b[1mPrecompiling\u001b[22m\u001b[39m project...\n",
      "\u001b[32m  ✓ \u001b[39m\u001b[90mTricks\u001b[39m\n",
      "\u001b[32m  ✓ \u001b[39m\u001b[90mArrayInterfaceStaticArraysCore\u001b[39m\n",
      "\u001b[32m  ✓ \u001b[39m\u001b[90mIntervalSets\u001b[39m\n",
      "\u001b[32m  ✓ \u001b[39m\u001b[90mOrderedCollections\u001b[39m\n",
      "\u001b[32m  ✓ \u001b[39m\u001b[90mHypergeometricFunctions\u001b[39m\n",
      "\u001b[32m  ✓ \u001b[39m\u001b[90mEllipsisNotation\u001b[39m\n",
      "\u001b[32m  ✓ \u001b[39mComponentArrays\n",
      "\u001b[32m  ✓ \u001b[39m\u001b[90mSciMLOperators\u001b[39m\n",
      "\u001b[32m  ✓ \u001b[39m\u001b[90mParameters\u001b[39m\n",
      "\u001b[32m  ✓ \u001b[39m\u001b[90mGPUArrays\u001b[39m\n",
      "\u001b[32m  ✓ \u001b[39m\u001b[90mArrayInterfaceStaticArrays\u001b[39m\n",
      "\u001b[32m  ✓ \u001b[39m\u001b[90mTables\u001b[39m\n",
      "\u001b[32m  ✓ \u001b[39m\u001b[90mDataStructures\u001b[39m\n",
      "\u001b[32m  ✓ \u001b[39m\u001b[90mDomainSets\u001b[39m\n",
      "\u001b[32m  ✓ \u001b[39m\u001b[90mLatexify\u001b[39m\n",
      "\u001b[32m  ✓ \u001b[39m\u001b[90mStructArrays\u001b[39m\n",
      "\u001b[32m  ✓ \u001b[39m\u001b[90mLayoutPointers\u001b[39m\n",
      "\u001b[32m  ✓ \u001b[39m\u001b[90mStatsFuns\u001b[39m\n",
      "\u001b[32m  ✓ \u001b[39m\u001b[90mSortingAlgorithms\u001b[39m\n",
      "\u001b[32m  ✓ \u001b[39m\u001b[90mQuadGK\u001b[39m\n",
      "\u001b[32m  ✓ \u001b[39m\u001b[90mBangBang\u001b[39m\n",
      "\u001b[32m  ✓ \u001b[39m\u001b[90mRecursiveArrayTools\u001b[39m\n",
      "\u001b[32m  ✓ \u001b[39m\u001b[90mMultivariatePolynomials\u001b[39m\n",
      "\u001b[32m  ✓ \u001b[39m\u001b[90mStrideArraysCore\u001b[39m\n",
      "\u001b[32m  ✓ \u001b[39m\u001b[90mLineSearches\u001b[39m\n",
      "\u001b[32m  ✓ \u001b[39m\u001b[90mStatsBase\u001b[39m\n",
      "\u001b[32m  ✓ \u001b[39m\u001b[90mMicroCollections\u001b[39m\n",
      "\u001b[32m  ✓ \u001b[39m\u001b[90mAbstractAlgebra\u001b[39m\n",
      "\u001b[32m  ✓ \u001b[39m\u001b[90mDynamicPolynomials\u001b[39m\n",
      "\u001b[32m  ✓ \u001b[39m\u001b[90mPolyester\u001b[39m\n",
      "\u001b[32m  ✓ \u001b[39m\u001b[90mGraphs\u001b[39m\n",
      "\u001b[32m  ✓ \u001b[39m\u001b[90mLabelledArrays\u001b[39m\n",
      "\u001b[32m  ✓ \u001b[39m\u001b[90mChainRules\u001b[39m\n",
      "\u001b[32m  ✓ \u001b[39m\u001b[90mNLsolve\u001b[39m\n",
      "\u001b[32m  ✓ \u001b[39m\u001b[90mTransducers\u001b[39m\n",
      "\u001b[32m  ✓ \u001b[39m\u001b[90mGroebner\u001b[39m\n",
      "\u001b[32m  ✓ \u001b[39m\u001b[90mSciMLBase\u001b[39m\n",
      "\u001b[32m  ✓ \u001b[39mOptim\n",
      "\u001b[32m  ✓ \u001b[39m\u001b[90mVertexSafeGraphs\u001b[39m\n",
      "\u001b[32m  ✓ \u001b[39m\u001b[90mFastBroadcast\u001b[39m\n",
      "\u001b[32m  ✓ \u001b[39mDistributions\n",
      "\u001b[32m  ✓ \u001b[39m\u001b[90mFoldsThreads\u001b[39m\n",
      "\u001b[32m  ✓ \u001b[39mOptimization\n",
      "\u001b[32m  ✓ \u001b[39m\u001b[90mLeastSquaresOptim\u001b[39m\n",
      "\u001b[32m  ✓ \u001b[39m\u001b[90mVectorizationBase\u001b[39m\n",
      "\u001b[32m  ✓ \u001b[39m\u001b[90mSparseDiffTools\u001b[39m\n",
      "\u001b[32m  ✓ \u001b[39m\u001b[90mBandedMatrices\u001b[39m\n",
      "\u001b[32m  ✓ \u001b[39m\u001b[90mFLoops\u001b[39m\n",
      "\u001b[32m  ✓ \u001b[39m\u001b[90mOptimizationOptimisers\u001b[39m\n",
      "\u001b[32m  ✓ \u001b[39m\u001b[90mDistributionsAD\u001b[39m\n",
      "\u001b[32m  ✓ \u001b[39m\u001b[90mOptimizationOptimJL\u001b[39m\n",
      "\u001b[32m  ✓ \u001b[39mZygote\n",
      "\u001b[32m  ✓ \u001b[39m\u001b[90mSLEEFPirates\u001b[39m\n",
      "\u001b[32m  ✓ \u001b[39m\u001b[90mOptimizationPolyalgorithms\u001b[39m\n",
      "\u001b[32m  ✓ \u001b[39m\u001b[90mRegularizationTools\u001b[39m\n",
      "\u001b[32m  ✓ \u001b[39m\u001b[90mDiffEqBase\u001b[39m\n",
      "\u001b[32m  ✓ \u001b[39m\u001b[90mSymbolicUtils\u001b[39m\n",
      "\u001b[32m  ✓ \u001b[39m\u001b[90mMLUtils\u001b[39m\n",
      "\u001b[32m  ✓ \u001b[39m\u001b[90mDiffEqCallbacks\u001b[39m\n",
      "\u001b[32m  ✓ \u001b[39m\u001b[90mJumpProcesses\u001b[39m\n",
      "\u001b[32m  ✓ \u001b[39m\u001b[90mSciMLNLSolve\u001b[39m\n",
      "\u001b[32m  ✓ \u001b[39m\u001b[90mSimpleNonlinearSolve\u001b[39m\n",
      "\u001b[32m  ✓ \u001b[39m\u001b[90mBoundaryValueDiffEq\u001b[39m\n",
      "\u001b[32m  ✓ \u001b[39m\u001b[90mDiffEqNoiseProcess\u001b[39m\n",
      "\u001b[32m  ✓ \u001b[39m\u001b[90mSteadyStateDiffEq\u001b[39m\n",
      "\u001b[32m  ✓ \u001b[39m\u001b[90mSundials\u001b[39m\n",
      "\u001b[32m  ✓ \u001b[39m\u001b[90mLoopVectorization\u001b[39m\n",
      "\u001b[32m  ✓ \u001b[39m\u001b[90mCUDA\u001b[39m\n",
      "\u001b[32m  ✓ \u001b[39m\u001b[90mTriangularSolve\u001b[39m\n",
      "\u001b[32m  ✓ \u001b[39m\u001b[90mCUDAKernels\u001b[39m\n",
      "\u001b[32m  ✓ \u001b[39m\u001b[90mSymbolics\u001b[39m\n",
      "\u001b[32m  ✓ \u001b[39m\u001b[90mcuDNN\u001b[39m\n",
      "\u001b[32m  ✓ \u001b[39m\u001b[90mDataInterpolations\u001b[39m\n",
      "\u001b[32m  ✓ \u001b[39m\u001b[90mNNlibCUDA\u001b[39m\n",
      "\u001b[32m  ✓ \u001b[39m\u001b[90mRecursiveFactorization\u001b[39m\n",
      "\u001b[32m  ✓ \u001b[39m\u001b[90mLuxLib\u001b[39m\n",
      "\u001b[32m  ✓ \u001b[39mFlux\n",
      "\u001b[32m  ✓ \u001b[39mPlots\n",
      "\u001b[32m  ✓ \u001b[39mLux\n",
      "\u001b[32m  ✓ \u001b[39mOptimizationFlux\n",
      "\u001b[32m  ✓ \u001b[39m\u001b[90mLinearSolve\u001b[39m\n",
      "\u001b[32m  ✓ \u001b[39m\u001b[90mNonlinearSolve\u001b[39m\n",
      "\u001b[32m  ✓ \u001b[39m\u001b[90mOrdinaryDiffEq\u001b[39m\n",
      "\u001b[32m  ✓ \u001b[39m\u001b[90mDelayDiffEq\u001b[39m\n",
      "\u001b[32m  ✓ \u001b[39m\u001b[90mStochasticDiffEq\u001b[39m\n",
      "\u001b[32m  ✓ \u001b[39mDifferentialEquations\n",
      "\u001b[32m  ✓ \u001b[39mSciMLSensitivity\n",
      "\u001b[32m  ✓ \u001b[39mDiffEqFlux\n",
      "  88 dependencies successfully precompiled in 922 seconds (284 already precompiled)\n"
     ]
    }
   ],
   "source": [
    "# install packages to populate Project.toml, uncomment if not in Pkg.status() above\n",
    "# Pkg.add(name=\"DifferentialEquations\", version=\"7.6.0\") # solving ODEs and SDEs\n",
    "# Pkg.add(name=\"SciMLSensitivity\", version=\"7.13.0\") # sensitivities of state-space systems\n",
    "# Pkg.add(name=\"DiffEqFlux\", version=\"1.53.0\") # more from SciML infrastructure\n",
    "# Pkg.add(name=\"ForwardDiff\", version=\"0.10.34\") # Forward mode automatic differentiation\n",
    "# Pkg.add(name=\"Zygote\", version=\"0.6.55\") # for \"Fitting Data to SDE Practice.ipynb\"\n",
    "# Pkg.add(name=\"Optimization\", version=\"3.12.1\") # for \"Fitting Data to SDE Practice.ipynb\"\n",
    "# Pkg.add(name=\"OptimizationFlux\", version=\"0.1.2\") # for \"Fitting Data to SDE Practice.ipynb\"\n",
    "# Pkg.add(name=\"Flux\", version=\"0.13.14\") # for \"Neural ODE/SDE Practice.ipynb\"\n",
    "# Pkg.add(name=\"Optim\", version=\"1.7.4\") # for \"Neural ODE/SDE Practice.ipynb\"\n",
    "# Pkg.add(name=\"IJulia\", version=\"1.24.0\") # probably already have this if you are running this notebook with a Julia kernel\n",
    "# Pkg.add(name=\"Conda\", version=\"1.8.0\") # for some python integration\n",
    "# Pkg.add(name=\"PyCall\", version=\"1.95.1\") # for some python integration\n",
    "# Pkg.add(name=\"Plots\", version=\"1.38.8\") # plotting fancy-schmancy figures\n",
    "# Pkg.add(name=\"PyPlot\", version=\"2.11.1\") # python plotting backend\n",
    "# Pkg.add(name=\"JLD\", version=\"0.13.3\") # for loading and saving Julia variables using .jld file format\n",
    "# Pkg.add(name=\"LaTeXStrings\", version=\"1.3.0\") # for using latex math fonts in plots, prepend L to strings, ie. L\"5+5\"\n",
    "# Pkg.add(name=\"BenchmarkTools\", version=\"1.3.2\") # for performance tracking, https://github.com/JuliaCI/BenchmarkTools.jl\n",
    "# Pkg.add(name=\"Distributions\", version=\"0.25.81\") # for probability distributions and distributional analysis\n",
    "# Pkg.add(name=\"Lux\", version=\"0.4.44\") # for Lux implementation and using componentarrays, specifically training neural SDEs\n",
    "# Pkg.add(name=\"ComponentArrays\", version=\"0.13.7\") # Lux.ComponentArray() deprecated, Avik Pal suggests using this"
   ]
  },
  {
   "cell_type": "code",
   "execution_count": 9,
   "id": "fb0b15b2",
   "metadata": {},
   "outputs": [
    {
     "name": "stderr",
     "output_type": "stream",
     "text": [
      "\u001b[36m\u001b[1m[ \u001b[22m\u001b[39m\u001b[36m\u001b[1mInfo: \u001b[22m\u001b[39mPrecompiling ComponentArrays [b0b7db55-cfe3-40fc-9ded-d10e2dbeff66]\n"
     ]
    }
   ],
   "source": [
    "# check packages if working, precompilation will take a few minutes...\n",
    "using DifferentialEquations\n",
    "using DifferentialEquations.OrdinaryDiffEq # ODEs portion of DiffEq.jl\n",
    "using DifferentialEquations.StochasticDiffEq # SDEs portion of DiffEq.jl\n",
    "using DifferentialEquations.DiffEqBase.EnsembleAnalysis # DiffEqBase part of DiffEq.jl\n",
    "using SciMLSensitivity\n",
    "using DiffEqFlux\n",
    "using Lux\n",
    "using Zygote, Optimization, OptimizationFlux, Optim, Flux\n",
    "using Printf # for pretty string formatting of variables\n",
    "using Random # for setting random seeds\n",
    "using IJulia\n",
    "using Conda\n",
    "using PyCall\n",
    "using Plots\n",
    "using Plots; pyplot(html_output_format=:png)\n",
    "using JLD\n",
    "using LaTeXStrings\n",
    "using SpecialFunctions\n",
    "using LinearAlgebra\n",
    "using BenchmarkTools\n",
    "using ComponentArrays"
   ]
  },
  {
   "cell_type": "code",
   "execution_count": 10,
   "id": "ba373ee8",
   "metadata": {},
   "outputs": [
    {
     "name": "stdout",
     "output_type": "stream",
     "text": [
      "\u001b[32m\u001b[1m      Status\u001b[22m\u001b[39m `~/6.337/18.337-Project-SP2023/Project.toml`\n",
      " \u001b[90m [6e4b80f9] \u001b[39mBenchmarkTools v1.3.2\n",
      " \u001b[90m [b0b7db55] \u001b[39mComponentArrays v0.13.7\n",
      " \u001b[90m [8f4d0f93] \u001b[39mConda v1.8.0\n",
      " \u001b[90m [aae7a2af] \u001b[39mDiffEqFlux v1.53.0\n",
      " \u001b[90m [0c46a032] \u001b[39mDifferentialEquations v7.6.0\n",
      " \u001b[90m [31c24e10] \u001b[39mDistributions v0.25.81\n",
      " \u001b[90m [587475ba] \u001b[39mFlux v0.13.14\n",
      " \u001b[90m [f6369f11] \u001b[39mForwardDiff v0.10.34\n",
      " \u001b[90m [7073ff75] \u001b[39mIJulia v1.24.0\n",
      " \u001b[90m [4138dd39] \u001b[39mJLD v0.13.3\n",
      " \u001b[90m [b964fa9f] \u001b[39mLaTeXStrings v1.3.0\n",
      " \u001b[90m [b2108857] \u001b[39mLux v0.4.44\n",
      " \u001b[90m [429524aa] \u001b[39mOptim v1.7.4\n",
      " \u001b[90m [7f7a1694] \u001b[39mOptimization v3.12.1\n",
      " \u001b[90m [253f991c] \u001b[39mOptimizationFlux v0.1.2\n",
      " \u001b[90m [91a5bcdd] \u001b[39mPlots v1.38.8\n",
      " \u001b[90m [438e738f] \u001b[39mPyCall v1.95.1\n",
      " \u001b[90m [d330b81b] \u001b[39mPyPlot v2.11.1\n",
      " \u001b[90m [1ed8b502] \u001b[39mSciMLSensitivity v7.13.0\n",
      " \u001b[90m [e88e6eb3] \u001b[39mZygote v0.6.55\n"
     ]
    }
   ],
   "source": [
    "Pkg.status()"
   ]
  },
  {
   "cell_type": "code",
   "execution_count": 11,
   "id": "f8189c8d",
   "metadata": {
    "scrolled": false
   },
   "outputs": [
    {
     "data": {
      "text/plain": [
       "1×3 Matrix{String}:\n",
       " \"hi\"  \"hi\"  \"hi\""
      ]
     },
     "metadata": {},
     "output_type": "display_data"
    },
    {
     "name": "stdout",
     "output_type": "stream",
     "text": [
      "0.07\n",
      "$5+5$\n",
      "$\\mathrm{My\\, \\alpha\\, including\\, a\\, variable\\, date:\\,}07-08-2018$\n"
     ]
    },
    {
     "data": {
      "text/latex": [
       "$\\textrm{My date is } 07-08-2018$"
      ],
      "text/plain": [
       "L\"$\\textrm{My date is } 07-08-2018$\""
      ]
     },
     "metadata": {},
     "output_type": "display_data"
    },
    {
     "data": {
      "image/png": "[encoded data removed]"
     },
     "execution_count": 11,
     "metadata": {},
     "output_type": "execute_result"
    }
   ],
   "source": [
    "# Test if normal commands are working in this notebook\n",
    "display(\"text/plain\", [\"hi\" \"hi\" \"hi\"])\n",
    "Random.seed!(1) # set random seed for runs going forward\n",
    "testtest = rand() # should be reproducible random number at this point\n",
    "actual_label = \"$(@sprintf(\"%.2f\", testtest))\" # pretty formatting\n",
    "println(actual_label)\n",
    "\n",
    "# https://discourse.julialang.org/t/latex-code-for-titles-labels-with-plots-jl/1967/17\n",
    "println(L\"5+5\")\n",
    "date = \"07-08-2018\"\n",
    "titlestring = latexstring(\"\\\\mathrm{My\\\\, \\\\alpha\\\\, including\\\\, a\\\\, variable\\\\, date:\\\\,}\", date)\n",
    "println(titlestring)\n",
    "display(L\"\\textrm{My date is } %$(date)\")\n",
    "plot(sin, (0:0.01:5*pi), title = titlestring, xlabel = L\"\\mathrm{My\\, x-label\\, (mJ/cm^{3})}\", \n",
    "    ylabel = L\"\\mathrm{\\alpha (m/s)}\", label = latexstring(\"5x+4y\"))"
   ]
  },
  {
   "cell_type": "code",
   "execution_count": 15,
   "id": "a8b45441",
   "metadata": {},
   "outputs": [],
   "source": [
    "Pkg.instantiate(verbose=true)"
   ]
  }
 ],
 "metadata": {
  "kernelspec": {
   "display_name": "Julia 1.7.3",
   "language": "julia",
   "name": "julia-1.7"
  },
  "language_info": {
   "file_extension": ".jl",
   "mimetype": "application/julia",
   "name": "julia",
   "version": "1.7.3"
  }
 },
 "nbformat": 4,
 "nbformat_minor": 5
}
